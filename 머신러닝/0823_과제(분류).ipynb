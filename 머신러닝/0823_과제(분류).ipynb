{
 "cells": [
  {
   "cell_type": "code",
   "execution_count": null,
   "id": "ff808c99",
   "metadata": {},
   "outputs": [],
   "source": [
    "# KNN, 서포트백터머신, 렌덤포레스트, decision tree, GBM, logistic Regression"
   ]
  },
  {
   "cell_type": "markdown",
   "id": "a9f708c5",
   "metadata": {},
   "source": [
    "### KNN (분류)\n",
    "- 새로 들어온 데이터 주변 k갸의 데이터의 class로 분류하는 기법 \n",
    "- Euclidean 거리 계산\n",
    "\n",
    "### suport  vector machin (분류)\n",
    "- class간의 거리가 최대가 되도록 decision boundary를 만드는 기법\n",
    "\n",
    "### decision tree  (분류)\n",
    "- 독립변수의 조건에 따라 종속변수를 분리 \n",
    "- 장점: 이해하기 쉬움 \n",
    "- 단점: overfitting \n",
    "        \n",
    "### random forest (분류)\n",
    "- decison tree의 단점 overfiiting을 방지하기 위해 많은 수의 트리를 생성함으로써 overfitting이 예측에 큰 영향을 끼치지 못하도록 예방 (ensemble machine learning model)\n",
    "\n",
    "### gradient boosting machine (분류/회귀)\n",
    "- 부스팅 알고리즘. 순차적으로 학습, 예측하면서 잘못 예측한 데이터에 가중치를 부여하고 오류를 개선해 나가면서 학습하는 방식 \n",
    "- 경사하강법을 이용하여 가중치 업데이트\n",
    "- 예측성능 good, 수행시간 bad \n",
    "\n",
    "### logistic Regression (회귀)\n",
    "- 독립변수와 종속변수가 선형적인 관계에 있다라는 가정하에 분석 \n",
    "- 직선을 통해 종속변수를 예측하기때문에 독립변수의 중요도와 영향력을 파악하기 쉬움 \n"
   ]
  },
  {
   "cell_type": "markdown",
   "id": "13209330",
   "metadata": {},
   "source": [
    "#### 앙상블 학습 --> 1. 배깅 2. 부스팅 \n",
    "* 앙상블 학습 : 여러 개의 분류기를 생성하고, 그 예측을 결합함으로써 보다 정확한 예측을 도출\n",
    "#### ----------------------------------------------------------------------------------------------\n",
    "\n",
    "#### 배깅의 대표적인 모델 : 랜덤포레스트 / 부스팅의 대표적인 모델 : gradient\n",
    "1. voting : 다른 ml 알고리즘이 같은 데이터 세트에 대해 학습하고 예측한 결과를 가지고 보팅을 통해 최종 예측 결과 선정\n",
    "2. bagging : 단일 ml 알고리즘이 booststrapping 방식으로 샘플링된 데이터 세트에 대해서 학습을 통해 개별적인 예측을 수행한 결과를 보팅을 통해 최종 예측 결과 선정\n",
    "3. bootstapping : 개별 분류기에게 데이터를 샘플링해서 추출하는 방식. 여러개의 데이터세트를 중첩되게 분리하는 것\n",
    "* 교차검증이 데이터 세트간에 중첩 허용하지 않는 것과 다르게 bagging은 중첩 허용 \n",
    "* 하이퍼 파라미터란, 일반적으로 머신러닝에서 어떠한 임의의 모델을 학습시킬때, 사람이 직접 튜닝 (설정) 해주어야하는 변수를 말한다.\n"
   ]
  },
  {
   "cell_type": "code",
   "execution_count": 1,
   "id": "42f8c485",
   "metadata": {},
   "outputs": [
    {
     "data": {
      "text/html": [
       "<div>\n",
       "<style scoped>\n",
       "    .dataframe tbody tr th:only-of-type {\n",
       "        vertical-align: middle;\n",
       "    }\n",
       "\n",
       "    .dataframe tbody tr th {\n",
       "        vertical-align: top;\n",
       "    }\n",
       "\n",
       "    .dataframe thead th {\n",
       "        text-align: right;\n",
       "    }\n",
       "</style>\n",
       "<table border=\"1\" class=\"dataframe\">\n",
       "  <thead>\n",
       "    <tr style=\"text-align: right;\">\n",
       "      <th></th>\n",
       "      <th>PassengerId</th>\n",
       "      <th>Survived</th>\n",
       "      <th>Pclass</th>\n",
       "      <th>Name</th>\n",
       "      <th>Sex</th>\n",
       "      <th>Age</th>\n",
       "      <th>SibSp</th>\n",
       "      <th>Parch</th>\n",
       "      <th>Ticket</th>\n",
       "      <th>Fare</th>\n",
       "      <th>Cabin</th>\n",
       "      <th>Embarked</th>\n",
       "    </tr>\n",
       "  </thead>\n",
       "  <tbody>\n",
       "    <tr>\n",
       "      <th>0</th>\n",
       "      <td>1</td>\n",
       "      <td>0</td>\n",
       "      <td>3</td>\n",
       "      <td>Braund, Mr. Owen Harris</td>\n",
       "      <td>male</td>\n",
       "      <td>22.0</td>\n",
       "      <td>1</td>\n",
       "      <td>0</td>\n",
       "      <td>A/5 21171</td>\n",
       "      <td>7.25</td>\n",
       "      <td>NaN</td>\n",
       "      <td>S</td>\n",
       "    </tr>\n",
       "  </tbody>\n",
       "</table>\n",
       "</div>"
      ],
      "text/plain": [
       "   PassengerId  Survived  Pclass                     Name   Sex   Age  SibSp  \\\n",
       "0            1         0       3  Braund, Mr. Owen Harris  male  22.0      1   \n",
       "\n",
       "   Parch     Ticket  Fare Cabin Embarked  \n",
       "0      0  A/5 21171  7.25   NaN        S  "
      ]
     },
     "execution_count": 1,
     "metadata": {},
     "output_type": "execute_result"
    }
   ],
   "source": [
    "import pandas as pd\n",
    "from sklearn.ensemble import VotingClassifier\n",
    "from sklearn.linear_model import LogisticRegression # 로지스틱은 리니어 모델에서 파생 \n",
    "from sklearn.neighbors import KNeighborsClassifier\n",
    "from sklearn.datasets import load_breast_cancer\n",
    "from sklearn.model_selection import train_test_split\n",
    "from sklearn.metrics import accuracy_score\n",
    "import warnings\n",
    "warnings.filterwarnings('ignore')\n",
    "\n",
    "titanic_df= pd.read_csv('dataset/train.csv')\n",
    "titanic_df.head(1)"
   ]
  },
  {
   "cell_type": "code",
   "execution_count": 2,
   "id": "75d9fbe1",
   "metadata": {},
   "outputs": [],
   "source": [
    "# 일괄 전처리 사용자 함수(null 처리, 불필요 칼럼 삭제, 레이블 인코딩) \n",
    "import pandas as pd\n",
    "from sklearn.preprocessing import LabelEncoder\n",
    "\n",
    "# Null 처리 함수\n",
    "# Age(평균), Cabin('N'), Embarked('N'), Fare(0)\n",
    "def fillna(df):\n",
    "    df['Age'].fillna(df['Age'].mean(),inplace=True)\n",
    "    df['Cabin'].fillna('N',inplace=True)\n",
    "    df['Embarked'].fillna('N',inplace=True)\n",
    "    df['Fare'].fillna(0,inplace=True)\n",
    "    return df\n",
    "\n",
    "# 머신러닝 알고리즘에 불필요한 속성 제거\n",
    "# PassengerId, Name, Ticket(티켓번호)\n",
    "def drop_features(df):\n",
    "    df.drop(['PassengerId','Name','Ticket'],axis=1,inplace=True)\n",
    "    return df\n",
    "\n",
    "# 레이블 인코딩 수행.\n",
    "# Cabin(선실번호 첫문자만 추출 후 인코딩), Sex(성별), Embarked(중간 정착 항구)\n",
    "def format_features(df):\n",
    "    df['Cabin'] = df['Cabin'].str[:1]\n",
    "    features = ['Cabin','Sex','Embarked']\n",
    "    for feature in features:\n",
    "        le = LabelEncoder()\n",
    "        le = le.fit(df[feature])\n",
    "        df[feature] = le.transform(df[feature])\n",
    "    return df\n",
    "\n",
    "# 앞에서 설정한 Data Preprocessing 함수 호출\n",
    "def transform_features(df):\n",
    "    df = fillna(df)\n",
    "    df = drop_features(df)\n",
    "    df = format_features(df)\n",
    "    return df"
   ]
  },
  {
   "cell_type": "code",
   "execution_count": 3,
   "id": "9e38d084",
   "metadata": {},
   "outputs": [],
   "source": [
    "y_titanic_df = titanic_df['Survived']\n",
    "X_titanic_df = titanic_df.drop('Survived', axis=1)\n",
    "X_titanic_df = transform_features(X_titanic_df)"
   ]
  },
  {
   "cell_type": "code",
   "execution_count": 4,
   "id": "85c2e2d5",
   "metadata": {},
   "outputs": [],
   "source": [
    "from sklearn.model_selection import train_test_split\n",
    "X_train, X_test, y_train, y_test = train_test_split(X_titanic_df, y_titanic_df,\n",
    "                                                  test_size=0.2,\n",
    "                                                  random_state=11)\n"
   ]
  },
  {
   "cell_type": "code",
   "execution_count": 5,
   "id": "183c072a",
   "metadata": {},
   "outputs": [],
   "source": [
    "from sklearn.tree import DecisionTreeClassifier\n",
    "from sklearn.ensemble import RandomForestClassifier\n",
    "from sklearn.linear_model import LogisticRegression\n",
    "from sklearn.neighbors import KNeighborsClassifier\n",
    "from sklearn.svm import SVC\n",
    "from sklearn.ensemble import GradientBoostingClassifier\n",
    "from sklearn.metrics import accuracy_score\n",
    "\n",
    "dt_clf = DecisionTreeClassifier(random_state=5)\n",
    "rf_clf = RandomForestClassifier(random_state=5)\n",
    "lr_clf = LogisticRegression()\n",
    "nc_clf = KNeighborsClassifier(n_neighbors = 5)\n",
    "svm_clf = SVC(random_state=5)\n",
    "gbm_clf = GradientBoostingClassifier(random_state=5)"
   ]
  },
  {
   "cell_type": "code",
   "execution_count": 10,
   "id": "639075f9",
   "metadata": {},
   "outputs": [
    {
     "name": "stdout",
     "output_type": "stream",
     "text": [
      "DecisionTreeClassifier 정확도:0.7989\n"
     ]
    }
   ],
   "source": [
    "# DecisionTreeClassifier\n",
    "dt_clf.fit(X_train, y_train)\n",
    "dt_pred = dt_clf.predict(X_test)\n",
    "class_name= dt_clf.__class__.__name__\n",
    "print('{0} 정확도:{1:.4f}'.format(class_name,accuracy_score(y_test,dt_pred)))\n"
   ]
  },
  {
   "cell_type": "code",
   "execution_count": 11,
   "id": "aed88ebe",
   "metadata": {},
   "outputs": [
    {
     "name": "stdout",
     "output_type": "stream",
     "text": [
      "RandomForestClassifier 정확도:0.8659\n"
     ]
    }
   ],
   "source": [
    "# RandomForeat\n",
    "rf_clf.fit(X_train, y_train)\n",
    "rf_pred = rf_clf.predict(X_test)\n",
    "class_name= rf_clf.__class__.__name__\n",
    "print('{0} 정확도:{1:.4f}'.format(class_name, accuracy_score(y_test, rf_pred)))\n",
    "\n"
   ]
  },
  {
   "cell_type": "code",
   "execution_count": 12,
   "id": "c4bbca94",
   "metadata": {},
   "outputs": [
    {
     "name": "stdout",
     "output_type": "stream",
     "text": [
      "LogisticRegression 정확도:0.8492\n"
     ]
    }
   ],
   "source": [
    "# LogisiticRegression\n",
    "lr_clf.fit(X_train, y_train)\n",
    "lr_pred = lr_clf.predict(X_test)\n",
    "class_name= lr_clf.__class__.__name__\n",
    "print('{0} 정확도:{1:.4f}'.format(class_name, accuracy_score(y_test,lr_pred)))\n"
   ]
  },
  {
   "cell_type": "code",
   "execution_count": 13,
   "id": "8a4aebdb",
   "metadata": {},
   "outputs": [
    {
     "name": "stdout",
     "output_type": "stream",
     "text": [
      "KNeighborsClassifier 정확도:0.7430\n"
     ]
    }
   ],
   "source": [
    "# KNeighborsClssifier \n",
    "nc_clf.fit(X_train, y_train)\n",
    "nc_pred = nc_clf.predict(X_test)\n",
    "class_name= nc_clf.__class__.__name__\n",
    "print('{0} 정확도:{1:.4f}'.format(class_name, accuracy_score(y_test,nc_pred)))\n",
    "\n"
   ]
  },
  {
   "cell_type": "code",
   "execution_count": 14,
   "id": "4f599cce",
   "metadata": {},
   "outputs": [
    {
     "name": "stdout",
     "output_type": "stream",
     "text": [
      "SVC 정확도:0.7207\n"
     ]
    }
   ],
   "source": [
    "# Suport Vector Machine\n",
    "svm_clf.fit(X_train, y_train)\n",
    "svm_pred = svm_clf.predict(X_test)\n",
    "class_name= svm_clf.__class__.__name__\n",
    "print('{0} 정확도:{1:.4f}'.format(class_name, accuracy_score(y_test,svm_pred)))"
   ]
  },
  {
   "cell_type": "code",
   "execution_count": 15,
   "id": "f499894f",
   "metadata": {},
   "outputs": [
    {
     "name": "stdout",
     "output_type": "stream",
     "text": [
      "GradientBoostingClassifier 정확도:0.8715\n"
     ]
    }
   ],
   "source": [
    "# gradient Boosting Machine \n",
    "gbm_clf.fit(X_train, y_train)\n",
    "gbm_pred = gbm_clf.predict(X_test)\n",
    "class_name= gbm_clf.__class__.__name__\n",
    "print('{0} 정확도:{1:.4f}'.format(class_name, accuracy_score(y_test, gbm_pred)))"
   ]
  },
  {
   "cell_type": "code",
   "execution_count": null,
   "id": "15d2d78b",
   "metadata": {},
   "outputs": [],
   "source": []
  },
  {
   "cell_type": "code",
   "execution_count": null,
   "id": "80d0ac1e",
   "metadata": {},
   "outputs": [],
   "source": []
  },
  {
   "cell_type": "code",
   "execution_count": null,
   "id": "e1921213",
   "metadata": {},
   "outputs": [],
   "source": []
  },
  {
   "cell_type": "code",
   "execution_count": null,
   "id": "a0ca9f3c",
   "metadata": {},
   "outputs": [],
   "source": []
  },
  {
   "cell_type": "code",
   "execution_count": null,
   "id": "a8ca856c",
   "metadata": {},
   "outputs": [],
   "source": []
  }
 ],
 "metadata": {
  "kernelspec": {
   "display_name": "Python 3",
   "language": "python",
   "name": "python3"
  },
  "language_info": {
   "codemirror_mode": {
    "name": "ipython",
    "version": 3
   },
   "file_extension": ".py",
   "mimetype": "text/x-python",
   "name": "python",
   "nbconvert_exporter": "python",
   "pygments_lexer": "ipython3",
   "version": "3.8.8"
  }
 },
 "nbformat": 4,
 "nbformat_minor": 5
}

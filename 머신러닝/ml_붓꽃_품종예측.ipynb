{
 "cells": [
  {
   "cell_type": "markdown",
   "id": "f30d957b",
   "metadata": {},
   "source": [
    "### 데이터 분할\n",
    "- 의미 있는 분석 결과 도출을 위해서는 수집된 데이터를 분석을 위한 데이터로 전 처리 작업이 필요하다.\n",
    "- 전 처리 과정은 필요 없는 변수나 문제가 있는 이상치를 제거한다.\n",
    "- 데이터가 너무 크거나 모형을 만들거나 검증을 위해서는 데이터를 분할한다.\n",
    "- 데이터 분할에는 학습/테스트 데이터 분할과 변수를 줄이는 차원 축소 등이 있다.\n",
    "- 학습 데이터로 모델을 학습시키고 이렇게 학습된 모델을 통해서 예측이나 분석\n",
    "- 시행을 통해서 얻은 결과값 혹은 예측 값을 실제 결과값과 비교하여 모델의 성능을 평가한다.\n",
    "- 덷이터 분할을 위해서는 학습/테스트 데이터의 크기과 랜덤 샘플링 여부 등을 결정한다.\n",
    "- 일반적으로 학습 데이터와 테스트 데이터의 크기는 7:3, 8:2 로 분리한다. (샘플이 적어서 이게 부담스러우면 교차검증)\n",
    "        * 5개를 abcde로 나누고 1번째: a가 검증데이터/bcde가 테스트데이터 |||| 2번째: b가 검증데이터/ acde가 테스트데이터를 해서 교차검증\n",
    "- 학습 데이터를 다시 분할해서 학습 데이터와 학습된 모델을 일차 검증하는 검증 데이터 3가지로 분할한다."
   ]
  },
  {
   "cell_type": "markdown",
   "id": "a7890e6b",
   "metadata": {},
   "source": [
    "\n",
    "통계 :  해석을 함 .. \n",
    "머신러닝: 예측이 중요 \n",
    "    \n",
    "    \n",
    "x값을 집어넣어주며 t값을 예측할 수 있음 \n",
    "타당한지 해석하는 것이 중요 \n",
    "a라는 변수와 b라는 절편이 유의미한가에 대해 해석 --> 통계분석\n",
    "\n",
    "중요한 것은 설명력 r2score,오차 등... 중요 --> 머신러닝 \n"
   ]
  },
  {
   "cell_type": "code",
   "execution_count": 5,
   "id": "24a84526",
   "metadata": {},
   "outputs": [],
   "source": [
    "from sklearn.datasets import load_iris\n",
    "from sklearn.tree import DecisionTreeClassifier\n",
    "from sklearn.model_selection import train_test_split\n"
   ]
  },
  {
   "cell_type": "code",
   "execution_count": 24,
   "id": "51c3d84d",
   "metadata": {},
   "outputs": [],
   "source": [
    "# !jt -t onedork -f consola -fs 9 -nfs 9 -tfs 9 -T -N"
   ]
  },
  {
   "cell_type": "code",
   "execution_count": 27,
   "id": "ee662d31",
   "metadata": {},
   "outputs": [
    {
     "name": "stdout",
     "output_type": "stream",
     "text": [
      "dict_keys(['data', 'target', 'frame', 'target_names', 'DESCR', 'feature_names', 'filename'])\n",
      "iris target 이름: ['setosa' 'versicolor' 'virginica']\n"
     ]
    },
    {
     "data": {
      "text/html": [
       "<div>\n",
       "<style scoped>\n",
       "    .dataframe tbody tr th:only-of-type {\n",
       "        vertical-align: middle;\n",
       "    }\n",
       "\n",
       "    .dataframe tbody tr th {\n",
       "        vertical-align: top;\n",
       "    }\n",
       "\n",
       "    .dataframe thead th {\n",
       "        text-align: right;\n",
       "    }\n",
       "</style>\n",
       "<table border=\"1\" class=\"dataframe\">\n",
       "  <thead>\n",
       "    <tr style=\"text-align: right;\">\n",
       "      <th></th>\n",
       "      <th>sepal length (cm)</th>\n",
       "      <th>sepal width (cm)</th>\n",
       "      <th>petal length (cm)</th>\n",
       "      <th>petal width (cm)</th>\n",
       "      <th>label</th>\n",
       "    </tr>\n",
       "  </thead>\n",
       "  <tbody>\n",
       "    <tr>\n",
       "      <th>0</th>\n",
       "      <td>5.1</td>\n",
       "      <td>3.5</td>\n",
       "      <td>1.4</td>\n",
       "      <td>0.2</td>\n",
       "      <td>0</td>\n",
       "    </tr>\n",
       "    <tr>\n",
       "      <th>1</th>\n",
       "      <td>4.9</td>\n",
       "      <td>3.0</td>\n",
       "      <td>1.4</td>\n",
       "      <td>0.2</td>\n",
       "      <td>0</td>\n",
       "    </tr>\n",
       "    <tr>\n",
       "      <th>2</th>\n",
       "      <td>4.7</td>\n",
       "      <td>3.2</td>\n",
       "      <td>1.3</td>\n",
       "      <td>0.2</td>\n",
       "      <td>0</td>\n",
       "    </tr>\n",
       "    <tr>\n",
       "      <th>3</th>\n",
       "      <td>4.6</td>\n",
       "      <td>3.1</td>\n",
       "      <td>1.5</td>\n",
       "      <td>0.2</td>\n",
       "      <td>0</td>\n",
       "    </tr>\n",
       "    <tr>\n",
       "      <th>4</th>\n",
       "      <td>5.0</td>\n",
       "      <td>3.6</td>\n",
       "      <td>1.4</td>\n",
       "      <td>0.2</td>\n",
       "      <td>0</td>\n",
       "    </tr>\n",
       "  </tbody>\n",
       "</table>\n",
       "</div>"
      ],
      "text/plain": [
       "   sepal length (cm)  sepal width (cm)  petal length (cm)  petal width (cm)  \\\n",
       "0                5.1               3.5                1.4               0.2   \n",
       "1                4.9               3.0                1.4               0.2   \n",
       "2                4.7               3.2                1.3               0.2   \n",
       "3                4.6               3.1                1.5               0.2   \n",
       "4                5.0               3.6                1.4               0.2   \n",
       "\n",
       "   label  \n",
       "0      0  \n",
       "1      0  \n",
       "2      0  \n",
       "3      0  \n",
       "4      0  "
      ]
     },
     "execution_count": 27,
     "metadata": {},
     "output_type": "execute_result"
    }
   ],
   "source": [
    "import pandas as pd\n",
    "\n",
    "iris = load_iris()\n",
    "print(iris.keys())\n",
    "print('iris target 이름:',iris.target_names)\n",
    "\n",
    "iris_data= iris.data  #독립변수\n",
    "iris_label= iris.target #종속변수\n",
    "\n",
    "iris_df= pd.DataFrame(data= iris.data , columns=iris.feature_names)\n",
    "iris_df['label']= iris.target\n",
    "iris_df.head()\n"
   ]
  },
  {
   "cell_type": "code",
   "execution_count": 28,
   "id": "8d1a6f67",
   "metadata": {},
   "outputs": [
    {
     "name": "stdout",
     "output_type": "stream",
     "text": [
      "<class 'pandas.core.frame.DataFrame'>\n",
      "RangeIndex: 150 entries, 0 to 149\n",
      "Data columns (total 5 columns):\n",
      " #   Column             Non-Null Count  Dtype  \n",
      "---  ------             --------------  -----  \n",
      " 0   sepal length (cm)  150 non-null    float64\n",
      " 1   sepal width (cm)   150 non-null    float64\n",
      " 2   petal length (cm)  150 non-null    float64\n",
      " 3   petal width (cm)   150 non-null    float64\n",
      " 4   label              150 non-null    int32  \n",
      "dtypes: float64(4), int32(1)\n",
      "memory usage: 5.4 KB\n"
     ]
    }
   ],
   "source": [
    "iris_df.info()"
   ]
  },
  {
   "cell_type": "code",
   "execution_count": 39,
   "id": "63a8b2df",
   "metadata": {},
   "outputs": [],
   "source": [
    "# 학습용,검증용 데이터 분리 \n",
    "X_train, X_test, y_train, y_test = train_test_split(iris_data,\n",
    "                                                    iris_label,\n",
    "                                                   test_size=0.2,\n",
    "                                                   random_state=10)"
   ]
  },
  {
   "cell_type": "code",
   "execution_count": 40,
   "id": "377b8ee7",
   "metadata": {},
   "outputs": [
    {
     "data": {
      "text/plain": [
       "DecisionTreeClassifier()"
      ]
     },
     "execution_count": 40,
     "metadata": {},
     "output_type": "execute_result"
    }
   ],
   "source": [
    "dt_clf = DecisionTreeClassifier()\n",
    "dt_clf.fit(X_train,y_train)  #학습 수행"
   ]
  },
  {
   "cell_type": "code",
   "execution_count": 42,
   "id": "bdb42350",
   "metadata": {},
   "outputs": [],
   "source": [
    "# 예측 \n",
    "pred= dt_clf.predict(X_test)"
   ]
  },
  {
   "cell_type": "code",
   "execution_count": 43,
   "id": "5e228ce9",
   "metadata": {},
   "outputs": [
    {
     "name": "stdout",
     "output_type": "stream",
     "text": [
      "예측 정확도: 0.9667\n"
     ]
    }
   ],
   "source": [
    "# r2 score 설명력을 보는것.. \n",
    "from sklearn.metrics import accuracy_score\n",
    "print(\"예측 정확도: {0:.4f}\".format(accuracy_score(y_test,pred)))"
   ]
  },
  {
   "cell_type": "code",
   "execution_count": null,
   "id": "573e05a4",
   "metadata": {},
   "outputs": [],
   "source": [
    "회귀모델과 분류모델: \n",
    "    회귀모델할때는 종속변수가 연속형 \n",
    "    분류모델은 이산형(범주형)\n",
    "    (( 독립변수인경우는 연속형일 수도 있고 범주형일 수도 있다. ))\n",
    "    \n",
    "지도학습: 답을 준다 (답:종속변수)\n",
    "    \n",
    "비지도학습: 답은 안준다 "
   ]
  },
  {
   "cell_type": "code",
   "execution_count": null,
   "id": "fb40a15e",
   "metadata": {},
   "outputs": [],
   "source": [
    "회귀는 x값에 따른 y의 변화를 보는것이니까\n",
    "y가 연속이든 독립이든 상관없는데\n",
    "분류모델의 종속은 이상형만 가능할 수 밖에 없다...\n",
    "나눠야하는데 연속이면 어케 나누겠어요"
   ]
  },
  {
   "cell_type": "code",
   "execution_count": null,
   "id": "1b5da287",
   "metadata": {},
   "outputs": [],
   "source": [
    "# 사이킷런 : 머신러닝의 가장 대표적인 라이브러리 \n",
    "# statsmodel: 통계 분석. 어떤 일이 일어난 것에 대해 해석의 관점에서 접근. 통계 분석, smf를 통해 선형 회귀 모델을 만듬\n",
    "# StatsModels은 통계모델을 활용한 추정 및 검정, 탐색할 수 있는 Python라이브러리\n",
    "# StatsModels는 머신러닝용 라이브러리 cikit-learn과 비슷하나 StatsModels가 통계 모델에 특화되어 있고 통계 모델 관련 기능이 많다\n",
    "# sklearn : 머신러닝 분석. 결과 관점에서 접근. 모형예측 평가에 특화\n",
    "# 사이킷런은 총 6가지 기능이 있다. 가능 기능 : 분류, 회귀, 클러스터링(범주화), 차원삭제, 모델선택 및 평가 데이터 전처리"
   ]
  }
 ],
 "metadata": {
  "kernelspec": {
   "display_name": "Python 3",
   "language": "python",
   "name": "python3"
  },
  "language_info": {
   "codemirror_mode": {
    "name": "ipython",
    "version": 3
   },
   "file_extension": ".py",
   "mimetype": "text/x-python",
   "name": "python",
   "nbconvert_exporter": "python",
   "pygments_lexer": "ipython3",
   "version": "3.8.8"
  }
 },
 "nbformat": 4,
 "nbformat_minor": 5
}

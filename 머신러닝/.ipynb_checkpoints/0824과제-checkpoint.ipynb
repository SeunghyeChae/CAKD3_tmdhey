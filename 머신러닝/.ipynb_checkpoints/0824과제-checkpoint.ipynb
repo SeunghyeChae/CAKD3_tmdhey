{
 "cells": [
  {
   "cell_type": "code",
   "execution_count": null,
   "id": "14ce9f8b-7cb4-4177-8ed6-0b6bcba91e9e",
   "metadata": {},
   "outputs": [],
   "source": [
    "# 과제\n",
    "# KFold 대신 StratifiedKFold를 적용하여 상기건을 평가하세요."
   ]
  },
  {
   "cell_type": "code",
   "execution_count": 6,
   "id": "6b4639de",
   "metadata": {},
   "outputs": [
    {
     "data": {
      "text/plain": [
       "dict_keys(['data', 'target', 'frame', 'target_names', 'DESCR', 'feature_names', 'filename'])"
      ]
     },
     "execution_count": 6,
     "metadata": {},
     "output_type": "execute_result"
    }
   ],
   "source": [
    "from sklearn.tree import DecisionTreeClassifier\n",
    "from sklearn.metrics import accuracy_score\n",
    "from sklearn.model_selection import KFold\n",
    "from sklearn.datasets import load_iris\n",
    "import numpy as np \n",
    "\n",
    "iris= load_iris()\n",
    "iris.keys()"
   ]
  },
  {
   "cell_type": "code",
   "execution_count": 7,
   "id": "1de20d25",
   "metadata": {},
   "outputs": [
    {
     "name": "stdout",
     "output_type": "stream",
     "text": [
      "\n",
      "#1 교차 검증 정확도:1.0. 학습 데이터 크기:120. 검증 데이터 크기:30\n",
      "#1 검증 세트 인덱스:[ 0  1  2  3  4  5  6  7  8  9 10 11 12 13 14 15 16 17 18 19 20 21 22 23\n",
      " 24 25 26 27 28 29]\n",
      "\n",
      "#2 교차 검증 정확도:0.9667. 학습 데이터 크기:120. 검증 데이터 크기:30\n",
      "#2 검증 세트 인덱스:[30 31 32 33 34 35 36 37 38 39 40 41 42 43 44 45 46 47 48 49 50 51 52 53\n",
      " 54 55 56 57 58 59]\n",
      "\n",
      "#3 교차 검증 정확도:0.8667. 학습 데이터 크기:120. 검증 데이터 크기:30\n",
      "#3 검증 세트 인덱스:[60 61 62 63 64 65 66 67 68 69 70 71 72 73 74 75 76 77 78 79 80 81 82 83\n",
      " 84 85 86 87 88 89]\n",
      "\n",
      "#4 교차 검증 정확도:0.9333. 학습 데이터 크기:120. 검증 데이터 크기:30\n",
      "#4 검증 세트 인덱스:[ 90  91  92  93  94  95  96  97  98  99 100 101 102 103 104 105 106 107\n",
      " 108 109 110 111 112 113 114 115 116 117 118 119]\n",
      "\n",
      "#5 교차 검증 정확도:0.7333. 학습 데이터 크기:120. 검증 데이터 크기:30\n",
      "#5 검증 세트 인덱스:[120 121 122 123 124 125 126 127 128 129 130 131 132 133 134 135 136 137\n",
      " 138 139 140 141 142 143 144 145 146 147 148 149]\n",
      "\n",
      "## 평균 검증 정확도: 0.9\n"
     ]
    }
   ],
   "source": [
    "features = iris.data\n",
    "label = iris.target\n",
    "dt_clf  = DecisionTreeClassifier(random_state=156)\n",
    "\n",
    "# 5개의 폴드 세트로 분리하는 KFold 객체와 폴드 세트별 정확도를 담을 리스트 객체 생성\n",
    "kfold = KFold(n_splits = 5)\n",
    "cv_accuracy = []\n",
    "\n",
    "n_iter = 0\n",
    "for train_index, test_index in kfold.split(features):\n",
    "    X_train,X_test = features[train_index], features[test_index]\n",
    "    y_train,y_test = label[train_index], label[test_index]\n",
    "    \n",
    "    dt_clf.fit(X_train,y_train)\n",
    "    pred = dt_clf.predict(X_test)\n",
    "    n_iter +=1\n",
    "    \n",
    "    accuracy = np.round(accuracy_score(y_test,pred),4)\n",
    "    train_size = X_train.shape[0]\n",
    "    test_size = X_test.shape[0]\n",
    "    print('\\n#{0} 교차 검증 정확도:{1}. 학습 데이터 크기:{2}. 검증 데이터 크기:{3}'\n",
    "          .format(n_iter,accuracy,train_size,test_size))\n",
    "    print('#{0} 검증 세트 인덱스:{1}'.format(n_iter, test_index))\n",
    "    cv_accuracy.append(accuracy)\n",
    "print('\\n## 평균 검증 정확도:', np.mean(cv_accuracy))"
   ]
  },
  {
   "cell_type": "code",
   "execution_count": 8,
   "id": "cea95091",
   "metadata": {},
   "outputs": [],
   "source": [
    "# 과제\n",
    "# Q. iris 데이터셋을 GridSearchCV를 이용하여 수행하세요.\n",
    "# - randomforest, logisticregression, svc를 적용"
   ]
  },
  {
   "cell_type": "code",
   "execution_count": 25,
   "id": "e018a896",
   "metadata": {},
   "outputs": [],
   "source": [
    "from sklearn.datasets import load_iris\n",
    "from sklearn.metrics import accuracy_score\n",
    "from sklearn.model_selection import train_test_split\n",
    "from sklearn.model_selection import GridSearchCV\n",
    "from sklearn.ensemble import RandomForestClassifier \n",
    "from sklearn.linear_model import LogisticRegression\n",
    "from sklearn.svm import SVC \n",
    "\n",
    "import warnings\n",
    "warnings.filterwarnings('ignore')"
   ]
  },
  {
   "cell_type": "code",
   "execution_count": 10,
   "id": "b51ef8d5",
   "metadata": {},
   "outputs": [
    {
     "name": "stdout",
     "output_type": "stream",
     "text": [
      "dict_keys(['data', 'target', 'frame', 'target_names', 'DESCR', 'feature_names', 'filename'])\n"
     ]
    }
   ],
   "source": [
    "# load_data\n",
    "iris= load_iris()\n",
    "print(iris.keys())"
   ]
  },
  {
   "cell_type": "code",
   "execution_count": 11,
   "id": "c86f9713",
   "metadata": {},
   "outputs": [],
   "source": [
    "# iris.feature_names"
   ]
  },
  {
   "cell_type": "code",
   "execution_count": 12,
   "id": "f1695258",
   "metadata": {},
   "outputs": [
    {
     "name": "stdout",
     "output_type": "stream",
     "text": [
      "0.9333333333333333\n",
      "0.9555555555555556\n",
      "0.9555555555555556\n"
     ]
    }
   ],
   "source": [
    "# seperate\n",
    "X_train,X_test,y_train,y_test = train_test_split(iris.data,\n",
    "                                                 iris.target,\n",
    "                                                 test_size=0.3, \n",
    "                                                 random_state=121 )\n",
    "\n",
    "# model\n",
    "rfc= RandomForestClassifier()\n",
    "lrc= LogisticRegression()\n",
    "svc= SVC()\n",
    "\n",
    "# fit\n",
    "models= [rfc,lrc,svc]\n",
    "\n",
    "for model in models:\n",
    "    model.fit(X_train,y_train)\n",
    "\n",
    "# predict\n",
    "rfc_pred = rfc.predict(X_test)\n",
    "lrc_pred = lrc.predict(X_test)\n",
    "svc_pred = svc.predict(X_test)\n",
    "\n",
    "# accuracy \n",
    "preds=[rfc_pred,lrc_pred,svc_pred]\n",
    "for pred in preds:\n",
    "    print(accuracy_score(y_test,pred))"
   ]
  },
  {
   "cell_type": "code",
   "execution_count": 13,
   "id": "76123e24",
   "metadata": {},
   "outputs": [],
   "source": [
    "# parameters\n",
    "# RandomForestClassifier() ==Decision Tree parameter와 동일 \n",
    "# params 찾는법 :: .get_params()\n",
    "# rfc.get_params()"
   ]
  },
  {
   "cell_type": "code",
   "execution_count": 14,
   "id": "8b2ab904",
   "metadata": {},
   "outputs": [
    {
     "name": "stdout",
     "output_type": "stream",
     "text": [
      "GridSearchCV(cv=3, estimator=RandomForestClassifier(),\n",
      "             param_grid={'max_depth': [2, 3, 5, 10],\n",
      "                         'min_samples_leaf': [1, 5, 8],\n",
      "                         'min_samples_split': [2, 3, 5]},\n",
      "             scoring='accuracy')\n",
      "최적 파라미터 >> {'max_depth': 2, 'min_samples_leaf': 5, 'min_samples_split': 5}\n",
      "최고 정확도 >> 0.9524\n"
     ]
    }
   ],
   "source": [
    "# 2차 검증 \n",
    "\n",
    "# module import \n",
    "from sklearn.metrics import precision_score,recall_score,confusion_matrix,f1_score,roc_auc_score\n",
    "\n",
    "# rfc\n",
    "parameters = parameters = {'max_depth':[2,3,5,10], 'min_samples_split':[2,3,5],'min_samples_leaf':[1,5,8]}\n",
    "\n",
    "grid_rfc = GridSearchCV(rfc ,param_grid=parameters, scoring='accuracy',cv=3, refit=True)\n",
    "grid_rfc.fit(X_train,y_train)\n",
    "\n",
    "# output \n",
    "print(grid_rfc)\n",
    "print('최적 파라미터 >>', grid_rfc.best_params_)\n",
    "print('최고 정확도 >> {0:.4f}'.format(grid_rfc.best_score_))\n"
   ]
  },
  {
   "cell_type": "code",
   "execution_count": 19,
   "id": "9c9ef4dd",
   "metadata": {},
   "outputs": [
    {
     "name": "stdout",
     "output_type": "stream",
     "text": [
      "RandomForestClassifier(max_depth=2, min_samples_leaf=5, min_samples_split=5)\n",
      " grid 예측 정확도 >> 0.9333333333333333\n"
     ]
    }
   ],
   "source": [
    "# 성능 개선\n",
    "best_rfc = grid_rfc.best_estimator_ # model/ fit/ predict \n",
    "print(best_rfc)\n",
    "\n",
    "# 예측을 확인 \n",
    "rfc_predictions = best_rfc.predict(X_test)  # 예측값\n",
    "rfc_proba = best_rfc.predict_proba(X_test)[:,1]  # 예측확률\n",
    "accuracy= accuracy_score(y_test, rfc_predictions) # 정확도\n",
    "\n",
    "print(' grid 예측 정확도 >>', accuracy)"
   ]
  },
  {
   "cell_type": "code",
   "execution_count": 21,
   "id": "ed238742",
   "metadata": {},
   "outputs": [],
   "source": [
    "# # 다른 검증값  clf에서 평가값 가져오기 \n",
    "# def get_clf_eval(y_test, predictions,pred_proba):\n",
    "#     # 오차행렬\n",
    "#     confusion = confusion_matrix(y_test, predictions)\n",
    "#     # 정확도\n",
    "#     accuracy = accuracy_score(y_test, predictions)\n",
    "#     # 정밀도\n",
    "#     precision = precision_score(y_test, predictions)\n",
    "#     # 재현율 \n",
    "#     recall = recall_score(y_test, predictions)\n",
    "#     # F1\n",
    "#     # 정밀도와 재현율과의 조화평균 ::::   2 * ( 정밀도 * 재현을) / (정밀도 + 재현율)  \n",
    "#     f1 = f1_score(y_test, predictions)\n",
    "#     # ROC_AUC\n",
    "#     roc_auc = roc_auc_score(y_test, pred_proba)\n",
    "    \n",
    "#     print('오차 행렬')\n",
    "#     print(confusion)\n",
    "#     print()    \n",
    "#     print('정확도: {0:.4f}, 정밀도: {1:.4f}, 재현율: {2:.4f}, F1: {3:.4f}, \\\n",
    "#     AUC:{4:.4f}'.format(accuracy, precision, recall, f1, roc_auc))\n",
    "    \n",
    "\n",
    "# get_clf_eval(y_test , rfc_predictions, rfc_proba)\n",
    "\n",
    "\n",
    "\n",
    "### 이진이 아니라 다중일 경우 ... 정밀도~f1 까지 average=None 넣어줘야할듯 "
   ]
  },
  {
   "cell_type": "code",
   "execution_count": null,
   "id": "3f2ffb4b",
   "metadata": {},
   "outputs": [],
   "source": [
    "# print(rfc_proba[:5])\n",
    "# print(rfc_predictions[:5])"
   ]
  },
  {
   "cell_type": "code",
   "execution_count": 22,
   "id": "b2b581ab",
   "metadata": {},
   "outputs": [
    {
     "data": {
      "text/plain": [
       "{'C': 1.0,\n",
       " 'class_weight': None,\n",
       " 'dual': False,\n",
       " 'fit_intercept': True,\n",
       " 'intercept_scaling': 1,\n",
       " 'l1_ratio': None,\n",
       " 'max_iter': 100,\n",
       " 'multi_class': 'auto',\n",
       " 'n_jobs': None,\n",
       " 'penalty': 'l2',\n",
       " 'random_state': None,\n",
       " 'solver': 'lbfgs',\n",
       " 'tol': 0.0001,\n",
       " 'verbose': 0,\n",
       " 'warm_start': False}"
      ]
     },
     "execution_count": 22,
     "metadata": {},
     "output_type": "execute_result"
    }
   ],
   "source": [
    "lrc.get_params()"
   ]
  },
  {
   "cell_type": "code",
   "execution_count": 32,
   "id": "ec7999f2",
   "metadata": {},
   "outputs": [
    {
     "name": "stdout",
     "output_type": "stream",
     "text": [
      "GridSearchCV(cv=3, estimator=LogisticRegression(),\n",
      "             param_grid={'C': [50, 10, 1.0, 0.1, 0.01], 'penalty': ['l2'],\n",
      "                         'solver': ['newton-cg', 'lbfgs', 'liblinear']},\n",
      "             scoring='accuracy')\n",
      "최적 파라미터는 ? >> {'C': 50, 'penalty': 'l2', 'solver': 'liblinear'}\n",
      "최고 정확도는 ? >> 0.9714\n"
     ]
    }
   ],
   "source": [
    "# 2차 검증 \n",
    "#lr은 조정할만한 파라미터가 딱히 없긴 하다고 함\n",
    "\n",
    "#module import\n",
    "from sklearn.metrics import precision_score,recall_score,confusion_matrix,f1_score,roc_auc_score\n",
    "\n",
    "#lrc\n",
    "\n",
    "parameters = {'solver' : ['newton-cg','lbfgs','liblinear'], 'penalty' :['l2'], 'C' : [50, 10, 1.0, 0.1, 0.01]}\n",
    "\n",
    "grid_lrc = GridSearchCV(lrc, param_grid=parameters, scoring='accuracy', cv=3, refit=True)\n",
    "\n",
    "grid_lrc.fit(X_train,y_train)\n",
    "\n",
    "#output\n",
    "print(grid_lrc)\n",
    "print(\"최적 파라미터는 ? >>\", grid_lrc.best_params_)\n",
    "print(\"최고 정확도는 ? >> {0:.4f}\".format(grid_lrc.best_score_))\n"
   ]
  },
  {
   "cell_type": "code",
   "execution_count": 34,
   "id": "344b819c",
   "metadata": {},
   "outputs": [
    {
     "name": "stdout",
     "output_type": "stream",
     "text": [
      "LogisticRegression(C=50, solver='liblinear')\n",
      " grid 예측 정확도 >> 0.9777777777777777\n"
     ]
    }
   ],
   "source": [
    "# lrc성능 개선\n",
    "best_lrc = grid_lrc.best_estimator_ # model/ fit/ predict \n",
    "print(best_lrc)\n",
    "\n",
    "# 예측을 확인 \n",
    "lrc_predictions = best_lrc.predict(X_test)  # 예측값\n",
    "lrc_proba = best_lrc.predict_proba(X_test)[:,1]  # 예측확률\n",
    "accuracy= accuracy_score(y_test, lrc_predictions) # 정확도\n",
    "\n",
    "print(' grid 예측 정확도 >>', accuracy)"
   ]
  },
  {
   "cell_type": "code",
   "execution_count": 27,
   "id": "d41fdc7d",
   "metadata": {
    "scrolled": true
   },
   "outputs": [
    {
     "data": {
      "text/plain": [
       "{'C': 1.0,\n",
       " 'break_ties': False,\n",
       " 'cache_size': 200,\n",
       " 'class_weight': None,\n",
       " 'coef0': 0.0,\n",
       " 'decision_function_shape': 'ovr',\n",
       " 'degree': 3,\n",
       " 'gamma': 'scale',\n",
       " 'kernel': 'rbf',\n",
       " 'max_iter': -1,\n",
       " 'probability': False,\n",
       " 'random_state': None,\n",
       " 'shrinking': True,\n",
       " 'tol': 0.001,\n",
       " 'verbose': False}"
      ]
     },
     "execution_count": 27,
     "metadata": {},
     "output_type": "execute_result"
    }
   ],
   "source": [
    "svc.get_params()"
   ]
  },
  {
   "cell_type": "code",
   "execution_count": 33,
   "id": "a15137f6",
   "metadata": {},
   "outputs": [
    {
     "name": "stdout",
     "output_type": "stream",
     "text": [
      "GridSearchCV(cv=3, estimator=LogisticRegression(),\n",
      "             param_grid={'C': [50, 10, 1.0, 0.1, 0.01], 'penalty': ['l2'],\n",
      "                         'solver': ['newton-cg', 'lbfgs', 'liblinear']},\n",
      "             scoring='accuracy')\n",
      "최적 파라미터는 ? >> {'C': 50, 'kernel': 'rbf'}\n",
      "최고 정확도는 ? >> 0.9714\n"
     ]
    }
   ],
   "source": [
    "# 2차 검증 \n",
    "# module import\n",
    "from sklearn.metrics import precision_score,recall_score,confusion_matrix,f1_score,roc_auc_score\n",
    "\n",
    "# svc\n",
    "\n",
    "parameters = {'kernel': ['linear','poly', 'rbf', 'sigmoid'], 'C': [50, 10, 1.0, 0.1, 0.01]}\n",
    "\n",
    "grid_svc = GridSearchCV(svc, param_grid=parameters, scoring='accuracy', cv=3, refit=True)\n",
    "\n",
    "grid_svc.fit(X_train,y_train)\n",
    "\n",
    "#output\n",
    "print(grid_lrc)\n",
    "print(\"최적 파라미터는 ? >>\", grid_svc.best_params_)\n",
    "print(\"최고 정확도는 ? >> {0:.4f}\".format(grid_svc.best_score_))\n"
   ]
  },
  {
   "cell_type": "code",
   "execution_count": 36,
   "id": "fe89d7d6",
   "metadata": {},
   "outputs": [
    {
     "name": "stdout",
     "output_type": "stream",
     "text": [
      "SVC(C=50)\n",
      " grid 예측 정확도 >> 0.9777777777777777\n"
     ]
    }
   ],
   "source": [
    "# svc 성능 개선\n",
    "best_svc = grid_svc.best_estimator_ # model/ fit/ predict \n",
    "print(best_svc)\n",
    "\n",
    "# 예측을 확인 \n",
    "svc_predictions = best_svc.predict(X_test)  # 예측값\n",
    "# svc_proba = best_svc.predict_proba(X_test)[:,1]  # 예측확률  --> 확률 못씀 . . .\n",
    "accuracy= accuracy_score(y_test, svc_predictions) # 정확도\n",
    "\n",
    "print(' grid 예측 정확도 >>', accuracy)"
   ]
  },
  {
   "cell_type": "code",
   "execution_count": null,
   "id": "1642f691",
   "metadata": {},
   "outputs": [],
   "source": []
  },
  {
   "cell_type": "code",
   "execution_count": null,
   "id": "1e866127",
   "metadata": {},
   "outputs": [],
   "source": []
  },
  {
   "cell_type": "code",
   "execution_count": null,
   "id": "a02b6e1c",
   "metadata": {},
   "outputs": [],
   "source": []
  },
  {
   "cell_type": "markdown",
   "id": "cfbfeca1",
   "metadata": {},
   "source": [
    "#### https://angeloyeo.github.io/2020/08/05/ROC.html\n",
    "##### https://bskyvision.com/1165\n",
    "\n",
    "- ROC? \n",
    "- TPR 재현율 :: y축  ::양성으로 예측 실제로 양성 >> 1에 가까울수록 좋음 \n",
    "- FPR :: x축  :: 양성으로 예측중에 음성>> 0에 가까울수록 좋음\n",
    "- threshold 이진분류기에서 한계점 넘으면 1 넘기전 0 \n",
    "- ex. threshold 너무 높게 잡으면 열 40도일 때에서야 위험하다고 판단, 너무 낮게 잡으면 35도일때 위험하다고 판단 \n",
    "- ex. threshold 가 0이면 무조건 양성, 1이면 무조건 음성 \n",
    "- --> TPR,FPR을 좌표에 찍어서 이은게 ROC curve \n",
    "- AUC: ROC curve 곡선 아래 넓이 \n",
    "\n",
    "- decision threshold가 커지면 TPR FPR은 작아짐. :: 양성으로 예측되는 경우 적어짐\n",
    "- FPR이 작아질 때 TPR은 '천천히' 작아진다면 좋은 확률을 가진 이진분류기 >> \n",
    "- AUC, 즉 ROC 곡선 아래의 넓이를 통해 이진분류기의 성능을 평가할 수 있다는 말 \n",
    "\n"
   ]
  },
  {
   "cell_type": "code",
   "execution_count": null,
   "id": "322865bf",
   "metadata": {},
   "outputs": [],
   "source": [
    "# # 다른 검증값  clf에서 평가값 가져오기 \n",
    "# def get_clf_eval(y_test, predictions,pred_proba):\n",
    "#     # 오차행렬\n",
    "#     confusion = confusion_matrix(y_test, predictions)\n",
    "#     # 정확도\n",
    "#     accuracy = accuracy_score(y_test, predictions)\n",
    "#     # 정밀도\n",
    "#     precision = precision_score(y_test, predictions)\n",
    "#     # 재현율 \n",
    "#     recall = recall_score(y_test, predictions)\n",
    "#     # F1\n",
    "#     # 정밀도와 재현율과의 조화평균 ::::   2 * ( 정밀도 * 재현을) / (정밀도 + 재현율)  \n",
    "#     f1 = f1_score(y_test, predictions)\n",
    "#     # ROC_AUC\n",
    "#     roc_auc = roc_auc_score(y_test, pred_proba)\n",
    "    \n",
    "#     print('오차 행렬')\n",
    "#     print(confusion)\n",
    "#     print()    \n",
    "#     print('정확도: {0:.4f}, 정밀도: {1:.4f}, 재현율: {2:.4f}, F1: {3:.4f}, \\\n",
    "#     AUC:{4:.4f}'.format(accuracy, precision, recall, f1, roc_auc))\n",
    "    \n",
    "\n",
    "# get_clf_eval(y_test , rfc_predictions, rfc_proba)\n",
    "\n",
    "\n",
    "\n",
    "### 이진이 아니라 다중일 경우 ... 정밀도~f1 까지 average=None 넣어줘야할듯 "
   ]
  }
 ],
 "metadata": {
  "kernelspec": {
   "display_name": "Python 3",
   "language": "python",
   "name": "python3"
  },
  "language_info": {
   "codemirror_mode": {
    "name": "ipython",
    "version": 3
   },
   "file_extension": ".py",
   "mimetype": "text/x-python",
   "name": "python",
   "nbconvert_exporter": "python",
   "pygments_lexer": "ipython3",
   "version": "3.8.8"
  }
 },
 "nbformat": 4,
 "nbformat_minor": 5
}

{
 "cells": [
  {
   "cell_type": "code",
   "execution_count": null,
   "id": "3c2ddf01",
   "metadata": {},
   "outputs": [],
   "source": [
    "# 과제\n",
    "# Q. offset.rollforward 기준으로 그룹화를 진행 후 그룹별 평균값을 출력하세요."
   ]
  },
  {
   "cell_type": "code",
   "execution_count": 2,
   "id": "c8f7d62c",
   "metadata": {
    "scrolled": true
   },
   "outputs": [
    {
     "data": {
      "text/plain": [
       "Timestamp('2011-11-20 00:00:00')"
      ]
     },
     "execution_count": 2,
     "metadata": {},
     "output_type": "execute_result"
    }
   ],
   "source": [
    "import pandas as pd\n",
    "import numpy as np\n",
    "from datetime import datetime\n",
    "from pandas.tseries.offsets import Day, MonthEnd\n",
    "\n",
    "now = datetime(2011, 11, 17)\n",
    "now + 3 * Day()"
   ]
  },
  {
   "cell_type": "code",
   "execution_count": 3,
   "id": "eb8e364d",
   "metadata": {},
   "outputs": [
    {
     "name": "stdout",
     "output_type": "stream",
     "text": [
      "2011-11-30 00:00:00\n"
     ]
    },
    {
     "data": {
      "text/plain": [
       "Timestamp('2011-10-31 00:00:00')"
      ]
     },
     "execution_count": 3,
     "metadata": {},
     "output_type": "execute_result"
    }
   ],
   "source": [
    "offset = MonthEnd()\n",
    "print(offset.rollforward(now))\n",
    "offset.rollback(now)"
   ]
  },
  {
   "cell_type": "code",
   "execution_count": 34,
   "id": "92f6000e",
   "metadata": {},
   "outputs": [
    {
     "name": "stdout",
     "output_type": "stream",
     "text": [
      "1998-03-12    0.054984\n",
      "1998-03-22   -1.480363\n",
      "1998-04-01   -0.871362\n",
      "1998-04-11    0.848411\n",
      "1998-04-21    0.790823\n",
      "1998-05-01    0.111364\n",
      "1998-05-11    1.114305\n",
      "1998-05-21   -0.892554\n",
      "1998-05-31    0.449936\n",
      "1998-06-10   -0.919634\n",
      "1998-06-20    0.489587\n",
      "1998-06-30    0.768269\n",
      "1998-07-10    1.048542\n",
      "1998-07-20    0.880744\n",
      "1998-07-30    0.962137\n",
      "1998-08-09    0.658900\n",
      "1998-08-19   -1.485825\n",
      "1998-08-29    1.027317\n",
      "1998-09-08    0.431285\n",
      "1998-09-18    1.600044\n",
      "Freq: 10D, dtype: float64\n"
     ]
    }
   ],
   "source": [
    "df = pd.Series(np.random.randn(20),\n",
    "               index=pd.date_range('3/12/1998', periods=20, freq='10d'))\n",
    "print(df)"
   ]
  },
  {
   "cell_type": "code",
   "execution_count": 35,
   "id": "8c5e82bc",
   "metadata": {},
   "outputs": [
    {
     "data": {
      "text/plain": [
       "1998-03-31   -0.712689\n",
       "1998-04-30    0.255957\n",
       "1998-05-31    0.195763\n",
       "1998-06-30    0.112741\n",
       "1998-07-31    0.963807\n",
       "1998-08-31    0.066797\n",
       "1998-09-30    1.015665\n",
       "dtype: float64"
      ]
     },
     "execution_count": 35,
     "metadata": {},
     "output_type": "execute_result"
    }
   ],
   "source": [
    "df.groupby(offset.rollforward).mean()\n"
   ]
  },
  {
   "cell_type": "code",
   "execution_count": null,
   "id": "b64f36ae",
   "metadata": {},
   "outputs": [],
   "source": []
  },
  {
   "cell_type": "code",
   "execution_count": 36,
   "id": "2f98cd4e",
   "metadata": {},
   "outputs": [],
   "source": [
    "# 과제\n",
    "# Q. 상기 문제를 resample을 사용하여 수행하세요"
   ]
  },
  {
   "cell_type": "code",
   "execution_count": 39,
   "id": "c65cda1b",
   "metadata": {},
   "outputs": [
    {
     "data": {
      "text/plain": [
       "1998-03-31   -0.712689\n",
       "1998-04-30    0.255957\n",
       "1998-05-31    0.195763\n",
       "1998-06-30    0.112741\n",
       "1998-07-31    0.963807\n",
       "1998-08-31    0.066797\n",
       "1998-09-30    1.015665\n",
       "Freq: M, dtype: float64"
      ]
     },
     "execution_count": 39,
     "metadata": {},
     "output_type": "execute_result"
    }
   ],
   "source": [
    "df1 = df.resample('M').mean()\n",
    "df1"
   ]
  },
  {
   "cell_type": "code",
   "execution_count": null,
   "id": "2499660d",
   "metadata": {},
   "outputs": [],
   "source": [
    "# 과제\n",
    "# Q. 날짜 데이터를 인덱스로 하는 5가지 이상의 컬럼을 포함하고 있는 데이터 셋을 \n",
    "# 생성하세요.단 각 컬럼은 인덱스별 의미있는 값을 갖도록 만든 후 다음을 수행하세요\n",
    "# - 특정 연별, 월별, 일별 특정 컬럼 값 집계\n",
    "# - 인덱스를 실수형으로 변환 후 다시 datetiem으로 변환\n",
    "# - 인덱스의 포멧을 변환"
   ]
  },
  {
   "cell_type": "code",
   "execution_count": 57,
   "id": "a7571047",
   "metadata": {},
   "outputs": [
    {
     "data": {
      "text/html": [
       "<div>\n",
       "<style scoped>\n",
       "    .dataframe tbody tr th:only-of-type {\n",
       "        vertical-align: middle;\n",
       "    }\n",
       "\n",
       "    .dataframe tbody tr th {\n",
       "        vertical-align: top;\n",
       "    }\n",
       "\n",
       "    .dataframe thead th {\n",
       "        text-align: right;\n",
       "    }\n",
       "</style>\n",
       "<table border=\"1\" class=\"dataframe\">\n",
       "  <thead>\n",
       "    <tr style=\"text-align: right;\">\n",
       "      <th></th>\n",
       "      <th>date</th>\n",
       "      <th>온도</th>\n",
       "      <th>날씨</th>\n",
       "      <th>미세먼지</th>\n",
       "      <th>강수확률</th>\n",
       "    </tr>\n",
       "  </thead>\n",
       "  <tbody>\n",
       "    <tr>\n",
       "      <th>0</th>\n",
       "      <td>1998-03-12</td>\n",
       "      <td>38.0</td>\n",
       "      <td>눈</td>\n",
       "      <td>매우나쁨</td>\n",
       "      <td>38.0</td>\n",
       "    </tr>\n",
       "    <tr>\n",
       "      <th>1</th>\n",
       "      <td>1998-03-13</td>\n",
       "      <td>NaN</td>\n",
       "      <td>NaN</td>\n",
       "      <td>NaN</td>\n",
       "      <td>NaN</td>\n",
       "    </tr>\n",
       "    <tr>\n",
       "      <th>2</th>\n",
       "      <td>1998-03-14</td>\n",
       "      <td>NaN</td>\n",
       "      <td>NaN</td>\n",
       "      <td>NaN</td>\n",
       "      <td>NaN</td>\n",
       "    </tr>\n",
       "    <tr>\n",
       "      <th>3</th>\n",
       "      <td>1998-03-15</td>\n",
       "      <td>NaN</td>\n",
       "      <td>NaN</td>\n",
       "      <td>NaN</td>\n",
       "      <td>NaN</td>\n",
       "    </tr>\n",
       "    <tr>\n",
       "      <th>4</th>\n",
       "      <td>1998-03-16</td>\n",
       "      <td>NaN</td>\n",
       "      <td>NaN</td>\n",
       "      <td>NaN</td>\n",
       "      <td>NaN</td>\n",
       "    </tr>\n",
       "    <tr>\n",
       "      <th>...</th>\n",
       "      <td>...</td>\n",
       "      <td>...</td>\n",
       "      <td>...</td>\n",
       "      <td>...</td>\n",
       "      <td>...</td>\n",
       "    </tr>\n",
       "    <tr>\n",
       "      <th>2553</th>\n",
       "      <td>2005-03-08</td>\n",
       "      <td>NaN</td>\n",
       "      <td>NaN</td>\n",
       "      <td>NaN</td>\n",
       "      <td>NaN</td>\n",
       "    </tr>\n",
       "    <tr>\n",
       "      <th>2554</th>\n",
       "      <td>2005-03-09</td>\n",
       "      <td>NaN</td>\n",
       "      <td>NaN</td>\n",
       "      <td>NaN</td>\n",
       "      <td>NaN</td>\n",
       "    </tr>\n",
       "    <tr>\n",
       "      <th>2555</th>\n",
       "      <td>2005-03-10</td>\n",
       "      <td>NaN</td>\n",
       "      <td>NaN</td>\n",
       "      <td>NaN</td>\n",
       "      <td>NaN</td>\n",
       "    </tr>\n",
       "    <tr>\n",
       "      <th>2556</th>\n",
       "      <td>2005-03-11</td>\n",
       "      <td>NaN</td>\n",
       "      <td>NaN</td>\n",
       "      <td>NaN</td>\n",
       "      <td>NaN</td>\n",
       "    </tr>\n",
       "    <tr>\n",
       "      <th>2557</th>\n",
       "      <td>2005-03-12</td>\n",
       "      <td>NaN</td>\n",
       "      <td>NaN</td>\n",
       "      <td>NaN</td>\n",
       "      <td>NaN</td>\n",
       "    </tr>\n",
       "  </tbody>\n",
       "</table>\n",
       "<p>2558 rows × 5 columns</p>\n",
       "</div>"
      ],
      "text/plain": [
       "           date    온도   날씨  미세먼지  강수확률\n",
       "0    1998-03-12  38.0    눈  매우나쁨  38.0\n",
       "1    1998-03-13   NaN  NaN   NaN   NaN\n",
       "2    1998-03-14   NaN  NaN   NaN   NaN\n",
       "3    1998-03-15   NaN  NaN   NaN   NaN\n",
       "4    1998-03-16   NaN  NaN   NaN   NaN\n",
       "...         ...   ...  ...   ...   ...\n",
       "2553 2005-03-08   NaN  NaN   NaN   NaN\n",
       "2554 2005-03-09   NaN  NaN   NaN   NaN\n",
       "2555 2005-03-10   NaN  NaN   NaN   NaN\n",
       "2556 2005-03-11   NaN  NaN   NaN   NaN\n",
       "2557 2005-03-12   NaN  NaN   NaN   NaN\n",
       "\n",
       "[2558 rows x 5 columns]"
      ]
     },
     "execution_count": 57,
     "metadata": {},
     "output_type": "execute_result"
    }
   ],
   "source": [
    "d= pd.date_range('3/12/1998','3/12/2005')\n",
    "df_= pd.DataFrame({'date':d})\n",
    "\n",
    "# tem= pd.Series(np.random.randint(35,40),name= '온도')\n",
    "# weth=pd.Series(np.random.choice(['맑음','흐림','비','눈']),name='날씨')\n",
    "# dust=pd.Series(np.random.choice(['매우좋음','좋음','나쁨','매우나쁨']),name='미세먼지')\n",
    "# rain= pd.Series(np.random.randint(0,100),name='강수확률')\n",
    "\n",
    "df_ = pd.concat([df_,tem,weth,dust,rain],axis=1)\n",
    "df_"
   ]
  },
  {
   "cell_type": "code",
   "execution_count": null,
   "id": "138c8e8f",
   "metadata": {},
   "outputs": [],
   "source": []
  },
  {
   "cell_type": "code",
   "execution_count": null,
   "id": "4130a08e",
   "metadata": {},
   "outputs": [],
   "source": []
  },
  {
   "cell_type": "code",
   "execution_count": null,
   "id": "cc820930",
   "metadata": {},
   "outputs": [],
   "source": []
  },
  {
   "cell_type": "code",
   "execution_count": null,
   "id": "c08f31d3",
   "metadata": {},
   "outputs": [],
   "source": []
  },
  {
   "cell_type": "code",
   "execution_count": null,
   "id": "a6e58506",
   "metadata": {},
   "outputs": [],
   "source": []
  },
  {
   "cell_type": "code",
   "execution_count": null,
   "id": "149bd19a",
   "metadata": {},
   "outputs": [],
   "source": []
  },
  {
   "cell_type": "code",
   "execution_count": null,
   "id": "1978a0a7",
   "metadata": {},
   "outputs": [],
   "source": []
  },
  {
   "cell_type": "code",
   "execution_count": null,
   "id": "512a9274",
   "metadata": {},
   "outputs": [],
   "source": []
  },
  {
   "cell_type": "code",
   "execution_count": null,
   "id": "52cb1c75",
   "metadata": {},
   "outputs": [],
   "source": []
  },
  {
   "cell_type": "code",
   "execution_count": null,
   "id": "237f09f5",
   "metadata": {},
   "outputs": [],
   "source": []
  },
  {
   "cell_type": "code",
   "execution_count": null,
   "id": "2404c1e7",
   "metadata": {},
   "outputs": [],
   "source": []
  },
  {
   "cell_type": "code",
   "execution_count": null,
   "id": "35155899",
   "metadata": {},
   "outputs": [],
   "source": []
  },
  {
   "cell_type": "code",
   "execution_count": null,
   "id": "93078a99",
   "metadata": {},
   "outputs": [],
   "source": []
  },
  {
   "cell_type": "code",
   "execution_count": null,
   "id": "625a3f23",
   "metadata": {},
   "outputs": [],
   "source": []
  },
  {
   "cell_type": "code",
   "execution_count": null,
   "id": "3dd8f257",
   "metadata": {},
   "outputs": [],
   "source": []
  },
  {
   "cell_type": "code",
   "execution_count": null,
   "id": "ba05bdbc",
   "metadata": {},
   "outputs": [],
   "source": []
  },
  {
   "cell_type": "code",
   "execution_count": null,
   "id": "12500014",
   "metadata": {},
   "outputs": [],
   "source": []
  },
  {
   "cell_type": "code",
   "execution_count": null,
   "id": "e865c7fd",
   "metadata": {},
   "outputs": [],
   "source": []
  },
  {
   "cell_type": "code",
   "execution_count": null,
   "id": "9f8bb8cc",
   "metadata": {},
   "outputs": [],
   "source": []
  },
  {
   "cell_type": "code",
   "execution_count": null,
   "id": "8d919d9d",
   "metadata": {},
   "outputs": [],
   "source": []
  },
  {
   "cell_type": "code",
   "execution_count": null,
   "id": "411c1b58",
   "metadata": {},
   "outputs": [],
   "source": []
  },
  {
   "cell_type": "code",
   "execution_count": null,
   "id": "6ee57d28",
   "metadata": {},
   "outputs": [],
   "source": []
  },
  {
   "cell_type": "code",
   "execution_count": null,
   "id": "12f505f5",
   "metadata": {},
   "outputs": [],
   "source": []
  },
  {
   "cell_type": "code",
   "execution_count": null,
   "id": "8d081a2b",
   "metadata": {},
   "outputs": [],
   "source": []
  },
  {
   "cell_type": "code",
   "execution_count": null,
   "id": "de56ed9b",
   "metadata": {},
   "outputs": [],
   "source": []
  },
  {
   "cell_type": "code",
   "execution_count": null,
   "id": "7b95ed88",
   "metadata": {},
   "outputs": [],
   "source": []
  }
 ],
 "metadata": {
  "kernelspec": {
   "display_name": "Python 3",
   "language": "python",
   "name": "python3"
  },
  "language_info": {
   "codemirror_mode": {
    "name": "ipython",
    "version": 3
   },
   "file_extension": ".py",
   "mimetype": "text/x-python",
   "name": "python",
   "nbconvert_exporter": "python",
   "pygments_lexer": "ipython3",
   "version": "3.8.10"
  }
 },
 "nbformat": 4,
 "nbformat_minor": 5
}

{
 "cells": [
  {
   "cell_type": "markdown",
   "id": "e3bccbe4",
   "metadata": {},
   "source": [
    "- 통계적 가설검정은 표본을 사용해서 모집단에 대한 통계적인 판단을 내리는 방법\n",
    "- 판단의 기준으로 통계적인 표현을 사용하며 간단히 검정이라고 부름\n",
    "- 평균값의 차이만으로 유의미한 차이를 얻을 수 없으며 샘플사이즈와 데이터의 흩어짐 크기를 가미하는 것이 필요\n",
    "- 1변량 데이터의 t검정\n",
    " - 샘플사이즈가 크고 데이터의 분산이 작고 평균값의 차이가 크다는 세가지 조건을 만족하는 지표를 t값이라고 함\n",
    " - t값 = (표본평균 - 모평균) / 표준오차\n",
    " - t값이 크면 유의미한 차이가 있다고 판단\n",
    "- 귀무가설 대립가설\n",
    " - 기각 대상이 되는 첫번째 가설을 귀무가설, 귀무가설과 대립되는 가설을 대립가설이라고 함\n",
    " - 귀무가설이 기각된다면 즉 귀무가설이 틀렸다고 판단을 하면 유의미한 차이가 있다는 것임\n",
    "- p값(유의확률) : 표본과 귀무가설 간의 모순을 나타내는 지표\n",
    " - p값이 작을수록 귀무가설과 표본이 모순된다고 판단\n",
    "- 유의수준 : 귀무가설을 기각하는 기준이 되는 값\n",
    " - 유의수준은 위험률이라고 하며 5%를 사용하는 경우가 많음"
   ]
  },
  {
   "cell_type": "code",
   "execution_count": 3,
   "id": "6b995579",
   "metadata": {},
   "outputs": [
    {
     "data": {
      "text/plain": [
       "0    58.529820\n",
       "1    52.353039\n",
       "2    74.446169\n",
       "3    52.983263\n",
       "4    55.876879\n",
       "Name: weight, dtype: float64"
      ]
     },
     "execution_count": 3,
     "metadata": {},
     "output_type": "execute_result"
    }
   ],
   "source": [
    "# t검정 : (귀무가설 : 과자의 무게는 50g이다)\n",
    "import pandas as pd\n",
    "junk_food = pd.read_csv('dataset/5_8_jfw.csv')\n",
    "jfood = junk_food.weight\n",
    "jfood.head()"
   ]
  },
  {
   "cell_type": "code",
   "execution_count": 4,
   "id": "0812c750",
   "metadata": {},
   "outputs": [
    {
     "data": {
      "text/plain": [
       "55.38496619666667"
      ]
     },
     "execution_count": 4,
     "metadata": {},
     "output_type": "execute_result"
    }
   ],
   "source": [
    "# 표본평균\n",
    "import numpy as np\n",
    "mu = np.mean(jfood)\n",
    "mu"
   ]
  },
  {
   "cell_type": "code",
   "execution_count": 6,
   "id": "2f1b11ad",
   "metadata": {},
   "outputs": [
    {
     "data": {
      "text/plain": [
       "19"
      ]
     },
     "execution_count": 6,
     "metadata": {},
     "output_type": "execute_result"
    }
   ],
   "source": [
    "# 자유도\n",
    "df = len(jfood)-1\n",
    "df"
   ]
  },
  {
   "cell_type": "code",
   "execution_count": 7,
   "id": "55bb1ce6",
   "metadata": {},
   "outputs": [
    {
     "data": {
      "text/plain": [
       "1.9579276805755885"
      ]
     },
     "execution_count": 7,
     "metadata": {},
     "output_type": "execute_result"
    }
   ],
   "source": [
    "# 표준오차\n",
    "sigma = np.std(jfood,ddof=1)\n",
    "se = sigma/np.sqrt(len(jfood))\n",
    "se"
   ]
  },
  {
   "cell_type": "code",
   "execution_count": 8,
   "id": "258a406f",
   "metadata": {},
   "outputs": [
    {
     "data": {
      "text/plain": [
       "2.7503396831713434"
      ]
     },
     "execution_count": 8,
     "metadata": {},
     "output_type": "execute_result"
    }
   ],
   "source": [
    "t_value = (mu-50)/se\n",
    "t_value"
   ]
  },
  {
   "cell_type": "code",
   "execution_count": 10,
   "id": "0b9abe7e",
   "metadata": {},
   "outputs": [
    {
     "data": {
      "text/plain": [
       "0.012725590012524268"
      ]
     },
     "execution_count": 10,
     "metadata": {},
     "output_type": "execute_result"
    }
   ],
   "source": [
    "# p값(유의확률)이 유의수준 0.05보다 작으면 귀무가설 기각\n",
    "from scipy import stats\n",
    "alpha = stats.t.cdf(t_value, df=df)\n",
    "(1-alpha) * 2"
   ]
  },
  {
   "cell_type": "code",
   "execution_count": 11,
   "id": "3c2fe8dc",
   "metadata": {},
   "outputs": [
    {
     "data": {
      "text/plain": [
       "Ttest_1sampResult(statistic=2.750339683171343, pvalue=0.012725590012524182)"
      ]
     },
     "execution_count": 11,
     "metadata": {},
     "output_type": "execute_result"
    }
   ],
   "source": [
    "# t검정 : t값, p값\n",
    "# p값(유의확률)이 유의수준 0.05보다 작으므로 귀무가설 기각\n",
    "# '과자의 무게는 50g이 아니다'라고 할 수 있다.\n",
    "stats.ttest_1samp(jfood,50)"
   ]
  },
  {
   "cell_type": "markdown",
   "id": "f882ad4d",
   "metadata": {},
   "source": [
    "- 대응표본 t검정 : 약을 먹기 전과 후의 체온의 차이를 보는 경우 사용\n",
    "- 독립표본 t검정 : 큰 바늘로 낚은 물고기의 길이와 작은 바늘로 낚은 물고기의 길이의 차이를 보는 경우 사용. welch 근사법이라고 불리는 방법을 이용하여 p값 계산(welch 검정)"
   ]
  },
  {
   "cell_type": "code",
   "execution_count": 12,
   "id": "03b6a63e",
   "metadata": {},
   "outputs": [
    {
     "data": {
      "text/html": [
       "<div>\n",
       "<style scoped>\n",
       "    .dataframe tbody tr th:only-of-type {\n",
       "        vertical-align: middle;\n",
       "    }\n",
       "\n",
       "    .dataframe tbody tr th {\n",
       "        vertical-align: top;\n",
       "    }\n",
       "\n",
       "    .dataframe thead th {\n",
       "        text-align: right;\n",
       "    }\n",
       "</style>\n",
       "<table border=\"1\" class=\"dataframe\">\n",
       "  <thead>\n",
       "    <tr style=\"text-align: right;\">\n",
       "      <th></th>\n",
       "      <th>person</th>\n",
       "      <th>medicine</th>\n",
       "      <th>body_temperature</th>\n",
       "    </tr>\n",
       "  </thead>\n",
       "  <tbody>\n",
       "    <tr>\n",
       "      <th>0</th>\n",
       "      <td>A</td>\n",
       "      <td>before</td>\n",
       "      <td>36.2</td>\n",
       "    </tr>\n",
       "    <tr>\n",
       "      <th>1</th>\n",
       "      <td>B</td>\n",
       "      <td>before</td>\n",
       "      <td>36.2</td>\n",
       "    </tr>\n",
       "    <tr>\n",
       "      <th>2</th>\n",
       "      <td>C</td>\n",
       "      <td>before</td>\n",
       "      <td>35.3</td>\n",
       "    </tr>\n",
       "    <tr>\n",
       "      <th>3</th>\n",
       "      <td>D</td>\n",
       "      <td>before</td>\n",
       "      <td>36.1</td>\n",
       "    </tr>\n",
       "    <tr>\n",
       "      <th>4</th>\n",
       "      <td>E</td>\n",
       "      <td>before</td>\n",
       "      <td>36.1</td>\n",
       "    </tr>\n",
       "    <tr>\n",
       "      <th>5</th>\n",
       "      <td>A</td>\n",
       "      <td>after</td>\n",
       "      <td>36.8</td>\n",
       "    </tr>\n",
       "    <tr>\n",
       "      <th>6</th>\n",
       "      <td>B</td>\n",
       "      <td>after</td>\n",
       "      <td>36.1</td>\n",
       "    </tr>\n",
       "    <tr>\n",
       "      <th>7</th>\n",
       "      <td>C</td>\n",
       "      <td>after</td>\n",
       "      <td>36.8</td>\n",
       "    </tr>\n",
       "    <tr>\n",
       "      <th>8</th>\n",
       "      <td>D</td>\n",
       "      <td>after</td>\n",
       "      <td>37.1</td>\n",
       "    </tr>\n",
       "    <tr>\n",
       "      <th>9</th>\n",
       "      <td>E</td>\n",
       "      <td>after</td>\n",
       "      <td>36.9</td>\n",
       "    </tr>\n",
       "  </tbody>\n",
       "</table>\n",
       "</div>"
      ],
      "text/plain": [
       "  person medicine  body_temperature\n",
       "0      A   before              36.2\n",
       "1      B   before              36.2\n",
       "2      C   before              35.3\n",
       "3      D   before              36.1\n",
       "4      E   before              36.1\n",
       "5      A    after              36.8\n",
       "6      B    after              36.1\n",
       "7      C    after              36.8\n",
       "8      D    after              37.1\n",
       "9      E    after              36.9"
      ]
     },
     "execution_count": 12,
     "metadata": {},
     "output_type": "execute_result"
    }
   ],
   "source": [
    "pt_data = pd.read_csv('dataset/5_9_ptt.csv')\n",
    "pt_data"
   ]
  },
  {
   "cell_type": "code",
   "execution_count": 14,
   "id": "3fbf63bc",
   "metadata": {},
   "outputs": [
    {
     "data": {
      "text/plain": [
       "array([ 0.6, -0.1,  1.5,  1. ,  0.8])"
      ]
     },
     "execution_count": 14,
     "metadata": {},
     "output_type": "execute_result"
    }
   ],
   "source": [
    "# 대응표본 t검정\n",
    "before = pt_data.query('medicine==\"before\"')['body_temperature']\n",
    "after = pt_data.query('medicine==\"after\"')['body_temperature']\n",
    "# 배열로 변환\n",
    "before = np.array(before)\n",
    "after = np.array(after)\n",
    "diff = after - before\n",
    "diff"
   ]
  },
  {
   "cell_type": "code",
   "execution_count": 15,
   "id": "0ec0a163",
   "metadata": {},
   "outputs": [
    {
     "data": {
      "text/plain": [
       "Ttest_1sampResult(statistic=2.901693483620596, pvalue=0.044043109730074276)"
      ]
     },
     "execution_count": 15,
     "metadata": {},
     "output_type": "execute_result"
    }
   ],
   "source": [
    "# 평균값이 0과 다른지 검정\n",
    "# 귀무가설을 기각하므로 유의미한 차이가 있다고 주장할 수 있다.\n",
    "stats.ttest_1samp(diff,0)"
   ]
  },
  {
   "cell_type": "code",
   "execution_count": 16,
   "id": "48a16152",
   "metadata": {},
   "outputs": [
    {
     "data": {
      "text/plain": [
       "3.1557282344421034"
      ]
     },
     "execution_count": 16,
     "metadata": {},
     "output_type": "execute_result"
    }
   ],
   "source": [
    "# 독립표본 t검정\n",
    "# 평균치\n",
    "mean_bf = np.mean(before)\n",
    "mean_af = np.mean(after)\n",
    "# 분산\n",
    "sigma_bf = np.var(before,ddof=1)\n",
    "sigma_af = np.var(after,ddof=1)\n",
    "# 샘플사이즈\n",
    "m=len(before)\n",
    "n=len(after)\n",
    "# t값\n",
    "t_value = (mean_af-mean_bf) / np.sqrt((sigma_bf/m+sigma_af/n))\n",
    "t_value"
   ]
  },
  {
   "cell_type": "code",
   "execution_count": 17,
   "id": "1b612c5f",
   "metadata": {},
   "outputs": [
    {
     "data": {
      "text/plain": [
       "Ttest_indResult(statistic=3.1557282344421034, pvalue=0.013484775682079892)"
      ]
     },
     "execution_count": 17,
     "metadata": {},
     "output_type": "execute_result"
    }
   ],
   "source": [
    "# 귀무가설을 기각하고 유의미한 차이가 있다고 판단\n",
    "# equal_var = False : 분산이 다르다고 가정한 t검정(welch 검정)\n",
    "stats.ttest_ind(after,before,equal_var=False)"
   ]
  },
  {
   "cell_type": "markdown",
   "id": "734e70af",
   "metadata": {},
   "source": [
    "- 카이제곱 검정(chi-squared test) 또는 χ2 검정은 카이제곱 분포에 기초한 통계적 방법으로, 관찰된 빈도가 기대 빈도와 통계적으로 다른지를 판단하는 검증방법임.\n",
    "\n",
    "- 카이제곱 검정에는 독립성 검정, 동질성 검정 등이 있음.\n",
    "\n",
    "- 독립성 검정과 동질성 검정은 분할표와 가설설정 부분만 다르며 검정 수행방법은 동일한 과정으로 진행됨.\n",
    "\n",
    "- 독립성 검정은 하나의 모집단에서 표본추출하며 동질성 검정은 두 개 이상의 모집단에서 표본추출하여 분할표를 만듦.  \n",
    "[독립성 검정 사례]\n",
    "어느 병원에서 진료를 받은 환자의 나이와 진찰받은 부위를 구분하여 작성한 분할표이다. 나이와 진찰받은 부위가 서로 관계가 있는지 유의수준 5%에서 검정  \n",
    "[동질성 검정 사례]\n",
    "세 가지 토양의 종류(진흙, 모래, 로움)에 따른 새로운 잡종 식물의 성장상태를 알기 위해 진흙 65군데, 모래 60군데, 로움 60군데를 대상으로 실험을 행하여 다음과 같은 분할표를 작성하였다. 토양의 종류에 따라 식물의 성장상태가 다르다고 할 수 있는 지를 유의수준 5%에서 검정"
   ]
  },
  {
   "cell_type": "code",
   "execution_count": 18,
   "id": "8c8643c4",
   "metadata": {},
   "outputs": [
    {
     "data": {
      "text/html": [
       "<div>\n",
       "<style scoped>\n",
       "    .dataframe tbody tr th:only-of-type {\n",
       "        vertical-align: middle;\n",
       "    }\n",
       "\n",
       "    .dataframe tbody tr th {\n",
       "        vertical-align: top;\n",
       "    }\n",
       "\n",
       "    .dataframe thead th {\n",
       "        text-align: right;\n",
       "    }\n",
       "</style>\n",
       "<table border=\"1\" class=\"dataframe\">\n",
       "  <thead>\n",
       "    <tr style=\"text-align: right;\">\n",
       "      <th></th>\n",
       "      <th>color</th>\n",
       "      <th>click</th>\n",
       "      <th>freq</th>\n",
       "    </tr>\n",
       "  </thead>\n",
       "  <tbody>\n",
       "    <tr>\n",
       "      <th>0</th>\n",
       "      <td>blue</td>\n",
       "      <td>click</td>\n",
       "      <td>20</td>\n",
       "    </tr>\n",
       "    <tr>\n",
       "      <th>1</th>\n",
       "      <td>blue</td>\n",
       "      <td>not</td>\n",
       "      <td>230</td>\n",
       "    </tr>\n",
       "    <tr>\n",
       "      <th>2</th>\n",
       "      <td>red</td>\n",
       "      <td>click</td>\n",
       "      <td>10</td>\n",
       "    </tr>\n",
       "    <tr>\n",
       "      <th>3</th>\n",
       "      <td>red</td>\n",
       "      <td>not</td>\n",
       "      <td>40</td>\n",
       "    </tr>\n",
       "  </tbody>\n",
       "</table>\n",
       "</div>"
      ],
      "text/plain": [
       "  color  click  freq\n",
       "0  blue  click    20\n",
       "1  blue    not   230\n",
       "2   red  click    10\n",
       "3   red    not    40"
      ]
     },
     "execution_count": 18,
     "metadata": {},
     "output_type": "execute_result"
    }
   ],
   "source": [
    "# 카이제곱 검정 : 독립성 검정의 분할표 및 가설 설정\n",
    "# 귀무가설 : 두 범주형 변수 사이에 연관이 없다.(독립이다.)\n",
    "# 대립가설 : 두 범주형 변수 사이에 연관이 있다.(종속이다.)\n",
    "click_data = pd.read_csv('dataset/5_10_cd.csv')\n",
    "click_data"
   ]
  },
  {
   "cell_type": "code",
   "execution_count": 19,
   "id": "3e6fc3d9",
   "metadata": {},
   "outputs": [
    {
     "data": {
      "text/html": [
       "<div>\n",
       "<style scoped>\n",
       "    .dataframe tbody tr th:only-of-type {\n",
       "        vertical-align: middle;\n",
       "    }\n",
       "\n",
       "    .dataframe tbody tr th {\n",
       "        vertical-align: top;\n",
       "    }\n",
       "\n",
       "    .dataframe thead th {\n",
       "        text-align: right;\n",
       "    }\n",
       "</style>\n",
       "<table border=\"1\" class=\"dataframe\">\n",
       "  <thead>\n",
       "    <tr style=\"text-align: right;\">\n",
       "      <th>click</th>\n",
       "      <th>click</th>\n",
       "      <th>not</th>\n",
       "    </tr>\n",
       "    <tr>\n",
       "      <th>color</th>\n",
       "      <th></th>\n",
       "      <th></th>\n",
       "    </tr>\n",
       "  </thead>\n",
       "  <tbody>\n",
       "    <tr>\n",
       "      <th>blue</th>\n",
       "      <td>20</td>\n",
       "      <td>230</td>\n",
       "    </tr>\n",
       "    <tr>\n",
       "      <th>red</th>\n",
       "      <td>10</td>\n",
       "      <td>40</td>\n",
       "    </tr>\n",
       "  </tbody>\n",
       "</table>\n",
       "</div>"
      ],
      "text/plain": [
       "click  click  not\n",
       "color            \n",
       "blue      20  230\n",
       "red       10   40"
      ]
     },
     "execution_count": 19,
     "metadata": {},
     "output_type": "execute_result"
    }
   ],
   "source": [
    "# 분할표\n",
    "cross = pd.pivot_table(data=click_data,values='freq',\n",
    "                      aggfunc='sum',index='color',columns='click')\n",
    "cross"
   ]
  },
  {
   "cell_type": "code",
   "execution_count": 20,
   "id": "0134f32d",
   "metadata": {},
   "outputs": [
    {
     "data": {
      "text/plain": [
       "(6.666666666666666,\n",
       " 0.009823274507519247,\n",
       " 1,\n",
       " array([[ 25., 225.],\n",
       "        [  5.,  45.]]))"
      ]
     },
     "execution_count": 20,
     "metadata": {},
     "output_type": "execute_result"
    }
   ],
   "source": [
    "# 카이스퀘어 통계량, p값, 자유도, 기대도수표\n",
    "# 카이스퀘어 검정 시 기대도수가 전부 5 이상이어야 함\n",
    "# p값이 0.05보다 작으므로 색에 따라 버튼을 클릭하는 것이 유의미하게 변한다고 판단\n",
    "stats.chi2_contingency(cross,correction=False) # 보정 안함"
   ]
  },
  {
   "cell_type": "markdown",
   "id": "554968a7",
   "metadata": {},
   "source": [
    "[과제]  \n",
    "Q. \"dataset/5_2_shoes.csv\" 을 데이터프레임으로 불러와서 아래작업을 수행하세요. \n",
    "\n",
    "- 4행 3열을 복사하여 수직으로 결합하여 8행 3열의 데이터프레임 df로 만드세요.\n",
    "- 교차분석표를 만드세요(values='sales',aggfunc='sum', index= 'store', columns = 'color')\n",
    "- 독립성 검정을 수행하세요."
   ]
  },
  {
   "cell_type": "markdown",
   "id": "8f8f4148",
   "metadata": {},
   "source": [
    "수리모델 : 현상을 수식으로 표현한 모델. 맥주 매상 = 20 + 4 * 기온\n",
    "- 확률모델 : 확률적인 표현이 있는 모델. 확률분포를 사용. 맥주 매상 ~ N(20+4\\*기온,시그마2). 맥주 매상은 20+4\\*기온+e, e ~ N(0,시그마2)를 따른다. 맥주 매상은 20+4\\*기온에 대해 노이즈 평균이 0, 분산이 시그마2인 정규분포를 따른다는 의미\n",
    "- 통계모델 : 데이터에 적합하게 구축된 모델. 맥주 매상 ~N(10+5\\*기온,시그마2) 확률모델의 구조를 생각하면서 데이터에 적합하게 파라미터를 조정해가며 통계모델을 구축\n",
    "- 확률분포와 통계모델 : 모집단에서 랜덤 샘플링을 하여 표본을 얻는 행동은 모집단 분포를 따르는 난수를 발생시키는 것과 같다. 통계모델을 사용하면 확률분포의 모수(파라미터)의 변화 패턴을 명확히 할 수 있다.즉 언급한 모델은 '기온이 올라가면 맥주 매상의 평균값이 증가한다'와 같은 구조라는 것을 알 수 있다.통계모델에 의한 예측은 기온이라는 독립변수를 얻는 것이 조건인 매상의 확률분포 즉 조건부 확류분포의 형태로 얻을 수 있으며 예측값의 대표값은 조건부 기댓값을 사용한다.기온이 10도C일 때의 매상 예측은 기댓값이 60,분산이 시그마2인 정규분포를 따르는 매상 데이터를 얻을 것이라는 주장이 된다.\n",
    "- 모델링에 초점 : 날씨와 세일이라는 2가지 영향을 동시에 평가하는 통계모델을 만든다면 더욱 올바른 효과를 분석할 수 있다. 통계모델은 잠정적인 세계의 모형으로\n",
    " - 통계모델을 구축 시 파라미터의 추정을 틀리게 하면 올바른 해석을 할 수 없다.\n",
    " - 분석에 사용하는 데이터에 문제가 있는 경우도 올바른 모델을 만들 수 없다.\n",
    "- 통계모델에 사용되는 파라미터를 계수라고 하는 반면 머신러닝에서는 가중치라고 표현"
   ]
  },
  {
   "cell_type": "code",
   "execution_count": 22,
   "id": "1949e4fe",
   "metadata": {},
   "outputs": [
    {
     "name": "stdout",
     "output_type": "stream",
     "text": [
      "Requirement already satisfied: statsmodels in c:\\anaconda3\\envs\\cakd3\\lib\\site-packages (0.12.2)\n",
      "Requirement already satisfied: patsy>=0.5 in c:\\anaconda3\\envs\\cakd3\\lib\\site-packages (from statsmodels) (0.5.1)\n",
      "Requirement already satisfied: numpy>=1.15 in c:\\anaconda3\\envs\\cakd3\\lib\\site-packages (from statsmodels) (1.20.2)\n",
      "Requirement already satisfied: pandas>=0.21 in c:\\anaconda3\\envs\\cakd3\\lib\\site-packages (from statsmodels) (1.2.4)\n",
      "Requirement already satisfied: scipy>=1.1 in c:\\anaconda3\\envs\\cakd3\\lib\\site-packages (from statsmodels) (1.6.2)\n",
      "Requirement already satisfied: python-dateutil>=2.7.3 in c:\\anaconda3\\envs\\cakd3\\lib\\site-packages (from pandas>=0.21->statsmodels) (2.8.1)\n",
      "Requirement already satisfied: pytz>=2017.3 in c:\\anaconda3\\envs\\cakd3\\lib\\site-packages (from pandas>=0.21->statsmodels) (2021.1)\n",
      "Requirement already satisfied: six in c:\\anaconda3\\envs\\cakd3\\lib\\site-packages (from patsy>=0.5->statsmodels) (1.16.0)\n"
     ]
    }
   ],
   "source": [
    "!pip install statsmodels"
   ]
  },
  {
   "cell_type": "code",
   "execution_count": 23,
   "id": "119f27ac",
   "metadata": {},
   "outputs": [
    {
     "data": {
      "text/html": [
       "<div>\n",
       "<style scoped>\n",
       "    .dataframe tbody tr th:only-of-type {\n",
       "        vertical-align: middle;\n",
       "    }\n",
       "\n",
       "    .dataframe tbody tr th {\n",
       "        vertical-align: top;\n",
       "    }\n",
       "\n",
       "    .dataframe thead th {\n",
       "        text-align: right;\n",
       "    }\n",
       "</style>\n",
       "<table border=\"1\" class=\"dataframe\">\n",
       "  <thead>\n",
       "    <tr style=\"text-align: right;\">\n",
       "      <th></th>\n",
       "      <th>beer</th>\n",
       "      <th>temperature</th>\n",
       "    </tr>\n",
       "  </thead>\n",
       "  <tbody>\n",
       "    <tr>\n",
       "      <th>0</th>\n",
       "      <td>45.3</td>\n",
       "      <td>20.5</td>\n",
       "    </tr>\n",
       "    <tr>\n",
       "      <th>1</th>\n",
       "      <td>59.3</td>\n",
       "      <td>25.0</td>\n",
       "    </tr>\n",
       "    <tr>\n",
       "      <th>2</th>\n",
       "      <td>40.4</td>\n",
       "      <td>10.0</td>\n",
       "    </tr>\n",
       "    <tr>\n",
       "      <th>3</th>\n",
       "      <td>38.0</td>\n",
       "      <td>26.9</td>\n",
       "    </tr>\n",
       "    <tr>\n",
       "      <th>4</th>\n",
       "      <td>37.0</td>\n",
       "      <td>15.8</td>\n",
       "    </tr>\n",
       "  </tbody>\n",
       "</table>\n",
       "</div>"
      ],
      "text/plain": [
       "   beer  temperature\n",
       "0  45.3         20.5\n",
       "1  59.3         25.0\n",
       "2  40.4         10.0\n",
       "3  38.0         26.9\n",
       "4  37.0         15.8"
      ]
     },
     "execution_count": 23,
     "metadata": {},
     "output_type": "execute_result"
    }
   ],
   "source": [
    "import statsmodels.formula.api as smf\n",
    "import statsmodels.api as sm\n",
    "import matplotlib.pyplot as plt\n",
    "import seaborn as sns\n",
    "\n",
    "beer = pd.read_csv('dataset/7_1_beer.csv')\n",
    "beer.head()"
   ]
  },
  {
   "cell_type": "code",
   "execution_count": 24,
   "id": "a79d48de",
   "metadata": {},
   "outputs": [
    {
     "data": {
      "text/plain": [
       "<seaborn.axisgrid.JointGrid at 0x2381078e370>"
      ]
     },
     "execution_count": 24,
     "metadata": {},
     "output_type": "execute_result"
    },
    {
     "data": {
      "image/png": "[encoded data removed]",
      "text/plain": [
       "<Figure size 432x432 with 3 Axes>"
      ]
     },
     "metadata": {
      "needs_background": "light"
     },
     "output_type": "display_data"
    }
   ],
   "source": [
    "sns.jointplot(x='temperature',y='beer',kind='reg',\n",
    "              data=beer,color='skyblue')"
   ]
  },
  {
   "cell_type": "code",
   "execution_count": 25,
   "id": "ef60b46f",
   "metadata": {},
   "outputs": [],
   "source": [
    "lm_model = smf.ols(formula = \"beer ~ temperature\",\n",
    "                  data = beer).fit()"
   ]
  },
  {
   "cell_type": "code",
   "execution_count": 26,
   "id": "b8746783",
   "metadata": {},
   "outputs": [
    {
     "data": {
      "text/html": [
       "<table class=\"simpletable\">\n",
       "<caption>OLS Regression Results</caption>\n",
       "<tr>\n",
       "  <th>Dep. Variable:</th>          <td>beer</td>       <th>  R-squared:         </th> <td>   0.504</td>\n",
       "</tr>\n",
       "<tr>\n",
       "  <th>Model:</th>                   <td>OLS</td>       <th>  Adj. R-squared:    </th> <td>   0.486</td>\n",
       "</tr>\n",
       "<tr>\n",
       "  <th>Method:</th>             <td>Least Squares</td>  <th>  F-statistic:       </th> <td>   28.45</td>\n",
       "</tr>\n",
       "<tr>\n",
       "  <th>Date:</th>             <td>Tue, 17 Aug 2021</td> <th>  Prob (F-statistic):</th> <td>1.11e-05</td>\n",
       "</tr>\n",
       "<tr>\n",
       "  <th>Time:</th>                 <td>14:14:20</td>     <th>  Log-Likelihood:    </th> <td> -102.45</td>\n",
       "</tr>\n",
       "<tr>\n",
       "  <th>No. Observations:</th>      <td>    30</td>      <th>  AIC:               </th> <td>   208.9</td>\n",
       "</tr>\n",
       "<tr>\n",
       "  <th>Df Residuals:</th>          <td>    28</td>      <th>  BIC:               </th> <td>   211.7</td>\n",
       "</tr>\n",
       "<tr>\n",
       "  <th>Df Model:</th>              <td>     1</td>      <th>                     </th>     <td> </td>   \n",
       "</tr>\n",
       "<tr>\n",
       "  <th>Covariance Type:</th>      <td>nonrobust</td>    <th>                     </th>     <td> </td>   \n",
       "</tr>\n",
       "</table>\n",
       "<table class=\"simpletable\">\n",
       "<tr>\n",
       "       <td></td>          <th>coef</th>     <th>std err</th>      <th>t</th>      <th>P>|t|</th>  <th>[0.025</th>    <th>0.975]</th>  \n",
       "</tr>\n",
       "<tr>\n",
       "  <th>Intercept</th>   <td>   34.6102</td> <td>    3.235</td> <td>   10.699</td> <td> 0.000</td> <td>   27.984</td> <td>   41.237</td>\n",
       "</tr>\n",
       "<tr>\n",
       "  <th>temperature</th> <td>    0.7654</td> <td>    0.144</td> <td>    5.334</td> <td> 0.000</td> <td>    0.471</td> <td>    1.059</td>\n",
       "</tr>\n",
       "</table>\n",
       "<table class=\"simpletable\">\n",
       "<tr>\n",
       "  <th>Omnibus:</th>       <td> 0.587</td> <th>  Durbin-Watson:     </th> <td>   1.960</td>\n",
       "</tr>\n",
       "<tr>\n",
       "  <th>Prob(Omnibus):</th> <td> 0.746</td> <th>  Jarque-Bera (JB):  </th> <td>   0.290</td>\n",
       "</tr>\n",
       "<tr>\n",
       "  <th>Skew:</th>          <td>-0.240</td> <th>  Prob(JB):          </th> <td>   0.865</td>\n",
       "</tr>\n",
       "<tr>\n",
       "  <th>Kurtosis:</th>      <td> 2.951</td> <th>  Cond. No.          </th> <td>    52.5</td>\n",
       "</tr>\n",
       "</table><br/><br/>Notes:<br/>[1] Standard Errors assume that the covariance matrix of the errors is correctly specified."
      ],
      "text/plain": [
       "<class 'statsmodels.iolib.summary.Summary'>\n",
       "\"\"\"\n",
       "                            OLS Regression Results                            \n",
       "==============================================================================\n",
       "Dep. Variable:                   beer   R-squared:                       0.504\n",
       "Model:                            OLS   Adj. R-squared:                  0.486\n",
       "Method:                 Least Squares   F-statistic:                     28.45\n",
       "Date:                Tue, 17 Aug 2021   Prob (F-statistic):           1.11e-05\n",
       "Time:                        14:14:20   Log-Likelihood:                -102.45\n",
       "No. Observations:                  30   AIC:                             208.9\n",
       "Df Residuals:                      28   BIC:                             211.7\n",
       "Df Model:                           1                                         \n",
       "Covariance Type:            nonrobust                                         \n",
       "===============================================================================\n",
       "                  coef    std err          t      P>|t|      [0.025      0.975]\n",
       "-------------------------------------------------------------------------------\n",
       "Intercept      34.6102      3.235     10.699      0.000      27.984      41.237\n",
       "temperature     0.7654      0.144      5.334      0.000       0.471       1.059\n",
       "==============================================================================\n",
       "Omnibus:                        0.587   Durbin-Watson:                   1.960\n",
       "Prob(Omnibus):                  0.746   Jarque-Bera (JB):                0.290\n",
       "Skew:                          -0.240   Prob(JB):                        0.865\n",
       "Kurtosis:                       2.951   Cond. No.                         52.5\n",
       "==============================================================================\n",
       "\n",
       "Notes:\n",
       "[1] Standard Errors assume that the covariance matrix of the errors is correctly specified.\n",
       "\"\"\""
      ]
     },
     "execution_count": 26,
     "metadata": {},
     "output_type": "execute_result"
    }
   ],
   "source": [
    "lm_model.summary()"
   ]
  },
  {
   "cell_type": "markdown",
   "id": "61e2144d",
   "metadata": {},
   "source": [
    "#### 해석 : 기온이 맥주 매상에 영향을 미친다는 것을 알 수 있음\n",
    "- std err : 계수의 표준오차\n",
    "- P>|t| : 귀무가설을 계수의 값이 0이라고 했을 때의 p값\n",
    "- 95% 신뢰구간의 하측신뢰한계와 상측신뢰한계\n",
    "                             \n",
    "- Df Residuals : 샘플사이즈에서 추정된 파라미터 수를 뺀 것\n",
    "- Df Models : 사용된 독립변수의 수\n",
    "- Covariance Type : 공분산 타입. 특별히 지정하지 않으면 nonrobust가 됨\n",
    "- R-squared, Adj. R-squared : 결정계수와 자유도 조정이 끝난 결정계수\n",
    " - 결정계수는 가지고 있는 데이터에 대해 모델을 적용했을 때의 적합도를 평가한 지표\n",
    " - 모델에 의한 추측치가 종속변수의 실젯값과 일치하면 R-squared는 1이 됨\n",
    " - 종속변숫값의 변동 크기를 모델로 설명 가능한 변동과 모델로 설명하지 못하는 잔차제곱합을 분해할 수 있는데 결정계수는 전체 변동폭의 크기에 대한 모델로 설명 가능한 변동폭의 비율이라고 할 수 있음\n",
    "- F-statistic, Prob(F-statistic) : 분산분석 결과\n",
    " - 분산분석은 평균값의 차이를 검정하는 방법\n",
    " - 분산분석을 사용할 때는 세 개 이상의 수준 간의 평균값에 차이가 있는 지 검정할 경우임\n",
    " - 모집단이 정규분포를 따르는 데이터에 대해서만 적용. 수준 사이의 분산값이 다르지 않다는 조건도 충족해야 함\n",
    " - F비 = 효과의 분산 크기 / 오차의 분산 크기. F비가 크면 오차에 비해 효과의 영향이 클 것이라고 판단\n",
    " - 분산의 비율을 취한 통계량으로 검정을 시행하기 때문에 분산분석 또는 ANOVA라고 부름\n",
    " - F분표의 누적분포함수를 사용해서 p값을 계산하고 p값이 0.05 이하가 되면 귀무가설을 기각함\n",
    "- Log-Likelihood : 최대로그우도\n",
    "- AIC : 아카이케 정보 기준\n",
    "- BIC : 베이즈 정보 기준\n",
    "    \n",
    "- Prob(Omnibus), Prob(JB)는 잔차의 정규성에 대한 검정결과\n",
    "- 귀무가설 : 잔차가 정규분포를 따른다, 대립가설 : 잔차가 정규분포와 다르다.\n",
    "- p값이 0.05보다 크다고 해도 검정의 비대칭성이 있으므로 정규분포라고 주장할 수 없음\n",
    "- Skew(왜도) : 히스토그램의 좌우비대칭방향과 그 정도를 측정하는 지표.\n",
    "- 왜도가 0보다 크면 오른쪽 자락이 길어짐. 정규분포의 왜도는 0\n",
    "- Kurtosis(첨도) : 히스토그램의 뾰족함을 측정하는 지표. 정규분포의 첨도는 3\n",
    "- Durbin-Watson : 잔차의 자기상관을 체크하는 지표. 2 전후라면 문제 없다고 판단.\n",
    "- 시계열데이터를 분석하는 경우 반드시 이 지표를 체크. 잔차에 자기상관이 있으면 계수의 t검정 결과 신뢰 못함\n",
    "- Durbin-Watson 통계량이 2보다 크거나 차이가 난다면 일반화 제곱법 등의 사용 검토 필요"
   ]
  },
  {
   "cell_type": "markdown",
   "id": "0637c595",
   "metadata": {},
   "source": [
    "[과제]  \n",
    "Q. 선형 모델을 생성하고 summary를 출력한 후 모델에 대한 통계지표들을 해석하세요.  \n",
    "\n",
    "df = pd.read_csv('dataset/auto-mpg.csv')  \n",
    "df_mw = df[['mpg','weight']]  \n",
    "df_mw.head()"
   ]
  },
  {
   "cell_type": "code",
   "execution_count": 28,
   "id": "78d589c6",
   "metadata": {},
   "outputs": [
    {
     "data": {
      "text/plain": [
       "227.94194972563105"
      ]
     },
     "execution_count": 28,
     "metadata": {},
     "output_type": "execute_result"
    }
   ],
   "source": [
    "null_model = smf.ols('beer ~ 1',data=beer).fit()\n",
    "null_model.aic"
   ]
  },
  {
   "cell_type": "code",
   "execution_count": 29,
   "id": "cd4d6591",
   "metadata": {},
   "outputs": [
    {
     "data": {
      "text/plain": [
       "208.9090293557544"
      ]
     },
     "execution_count": 29,
     "metadata": {},
     "output_type": "execute_result"
    }
   ],
   "source": [
    "lm_model = smf.ols('beer ~ temperature',data=beer).fit()\n",
    "lm_model.aic"
   ]
  },
  {
   "cell_type": "code",
   "execution_count": 30,
   "id": "50bca782",
   "metadata": {},
   "outputs": [
    {
     "data": {
      "text/plain": [
       "array([50.3014808 , 53.74590495, 42.26449113, 55.20021737, 46.70397114,\n",
       "       37.82501112, 44.94348769, 54.51133254, 52.44467805, 41.11634975,\n",
       "       54.66441806, 49.22988218, 53.21010564, 52.44467805, 41.03980699,\n",
       "       52.59776357, 45.24965873, 61.78289462, 55.42984564, 50.3014808 ,\n",
       "       42.41757665, 50.3014808 , 51.14345115, 40.6570932 , 66.91125946,\n",
       "       52.9039346 , 62.85449324, 41.42252079, 62.47177945, 39.50895182])"
      ]
     },
     "execution_count": 30,
     "metadata": {},
     "output_type": "execute_result"
    }
   ],
   "source": [
    "lm_model.predict()"
   ]
  },
  {
   "cell_type": "code",
   "execution_count": 31,
   "id": "9b252eeb",
   "metadata": {},
   "outputs": [
    {
     "data": {
      "text/plain": [
       "0    34.610215\n",
       "dtype: float64"
      ]
     },
     "execution_count": 31,
     "metadata": {},
     "output_type": "execute_result"
    }
   ],
   "source": [
    "# 기온이 0도일 때 맥주 매상의 기댓값\n",
    "lm_model.predict(pd.DataFrame({'temperature':[0]}))"
   ]
  },
  {
   "cell_type": "code",
   "execution_count": 32,
   "id": "6452487b",
   "metadata": {},
   "outputs": [
    {
     "data": {
      "text/plain": [
       "Intercept      34.610215\n",
       "temperature     0.765428\n",
       "dtype: float64"
      ]
     },
     "execution_count": 32,
     "metadata": {},
     "output_type": "execute_result"
    }
   ],
   "source": [
    "lm_model.params"
   ]
  },
  {
   "cell_type": "code",
   "execution_count": 33,
   "id": "5975d482",
   "metadata": {},
   "outputs": [
    {
     "data": {
      "text/plain": [
       "49.91876701095053"
      ]
     },
     "execution_count": 33,
     "metadata": {},
     "output_type": "execute_result"
    }
   ],
   "source": [
    "beta0 = lm_model.params[0]\n",
    "beta1 = lm_model.params[1]\n",
    "temperature = 20\n",
    "beta0 + beta1*temperature"
   ]
  },
  {
   "cell_type": "code",
   "execution_count": 34,
   "id": "878128ee",
   "metadata": {},
   "outputs": [
    {
     "data": {
      "text/plain": [
       "0    49.918767\n",
       "dtype: float64"
      ]
     },
     "execution_count": 34,
     "metadata": {},
     "output_type": "execute_result"
    }
   ],
   "source": [
    "lm_model.predict(pd.DataFrame({'temperature':[20]}))"
   ]
  },
  {
   "cell_type": "code",
   "execution_count": 35,
   "id": "144f99bb",
   "metadata": {},
   "outputs": [
    {
     "data": {
      "text/plain": [
       "0    -5.001481\n",
       "1     5.554095\n",
       "2    -1.864491\n",
       "3   -17.200217\n",
       "4    -9.703971\n",
       "dtype: float64"
      ]
     },
     "execution_count": 35,
     "metadata": {},
     "output_type": "execute_result"
    }
   ],
   "source": [
    "# 잔차 계산\n",
    "resid = lm_model.resid\n",
    "resid.head()"
   ]
  },
  {
   "cell_type": "code",
   "execution_count": 36,
   "id": "bdd95876",
   "metadata": {},
   "outputs": [
    {
     "data": {
      "text/plain": [
       "0    -5.001481\n",
       "1     5.554095\n",
       "2    -1.864491\n",
       "3   -17.200217\n",
       "4    -9.703971\n",
       "dtype: float64"
      ]
     },
     "execution_count": 36,
     "metadata": {},
     "output_type": "execute_result"
    }
   ],
   "source": [
    "# 잔차 = 실제값 - 예측값\n",
    "y_hat = beta0 + beta1*beer.temperature\n",
    "(beer.beer - y_hat).head()"
   ]
  },
  {
   "cell_type": "code",
   "execution_count": 37,
   "id": "d1163acd",
   "metadata": {},
   "outputs": [
    {
     "data": {
      "text/plain": [
       "0.503959323061188"
      ]
     },
     "execution_count": 37,
     "metadata": {},
     "output_type": "execute_result"
    }
   ],
   "source": [
    "# 결정계수\n",
    "mu = np.mean(beer.beer)\n",
    "y = beer.beer\n",
    "yhat = lm_model.predict()\n",
    "\n",
    "np.sum((yhat-mu)**2)/np.sum((y-mu)**2)"
   ]
  },
  {
   "cell_type": "code",
   "execution_count": 38,
   "id": "266a0d40",
   "metadata": {},
   "outputs": [
    {
     "data": {
      "text/plain": [
       "0.48624358459908523"
      ]
     },
     "execution_count": 38,
     "metadata": {},
     "output_type": "execute_result"
    }
   ],
   "source": [
    "# 수정 결정계수 : 독립변수의 수가 늘어나면 결정계수가 커지는 경향을 조정하기 \n",
    "# 위하여 독립변수가 늘어나는 것에 대하여 패널티 부여\n",
    "n = len(beer.beer)\n",
    "s = 1 # 독립변수의 수\n",
    "1 - ((np.sum(resid**2) / (n-s-1)) /\n",
    "    (np.sum((y-mu)**2) / (n-1)))"
   ]
  },
  {
   "cell_type": "code",
   "execution_count": 40,
   "id": "1f1dcbf1",
   "metadata": {},
   "outputs": [
    {
     "data": {
      "text/plain": [
       "0.4862435845990851"
      ]
     },
     "execution_count": 40,
     "metadata": {},
     "output_type": "execute_result"
    }
   ],
   "source": [
    "lm_model.rsquared_adj"
   ]
  },
  {
   "cell_type": "code",
   "execution_count": 41,
   "id": "3eb0af3f",
   "metadata": {},
   "outputs": [
    {
     "data": {
      "text/plain": [
       "3277.1146666666655"
      ]
     },
     "execution_count": 41,
     "metadata": {},
     "output_type": "execute_result"
    }
   ],
   "source": [
    "# 종속변수의 변동 크기는 모델로 설명 가능한 변동과 설명 못하는 \n",
    "# 잔차제곱합으로 분해할 수 있다.\n",
    "\n",
    "np.sum((y-mu)**2)"
   ]
  },
  {
   "cell_type": "code",
   "execution_count": 42,
   "id": "6c4d97e3",
   "metadata": {},
   "outputs": [
    {
     "data": {
      "text/plain": [
       "3277.1146666666727"
      ]
     },
     "execution_count": 42,
     "metadata": {},
     "output_type": "execute_result"
    }
   ],
   "source": [
    "np.sum((yhat-mu)**2) + sum(resid**2)"
   ]
  },
  {
   "cell_type": "code",
   "execution_count": 48,
   "id": "ff5119d4",
   "metadata": {},
   "outputs": [
    {
     "data": {
      "text/plain": [
       "<AxesSubplot:ylabel='Density'>"
      ]
     },
     "execution_count": 48,
     "metadata": {},
     "output_type": "execute_result"
    },
    {
     "data": {
      "image/png": "[encoded data removed]",
      "text/plain": [
       "<Figure size 720x432 with 2 Axes>"
      ]
     },
     "metadata": {
      "needs_background": "light"
     },
     "output_type": "display_data"
    }
   ],
   "source": [
    "# 잔차 그래프\n",
    "import warnings\n",
    "warnings.filterwarnings('ignore')\n",
    "fig = plt.figure(figsize=(10,6))\n",
    "ax1 = fig.add_subplot(1,2,1)\n",
    "ax2 = fig.add_subplot(1,2,2)\n",
    "sns.histplot(resid,color='skyblue',kde=True, ax=ax1)\n",
    "sns.distplot(resid,color='skyblue',ax=ax2)"
   ]
  },
  {
   "cell_type": "code",
   "execution_count": 49,
   "id": "18c4030b",
   "metadata": {},
   "outputs": [
    {
     "data": {
      "text/plain": [
       "<seaborn.axisgrid.JointGrid at 0x23814270d00>"
      ]
     },
     "execution_count": 49,
     "metadata": {},
     "output_type": "execute_result"
    },
    {
     "data": {
      "image/png": "[encoded data removed]",
      "text/plain": [
       "<Figure size 432x432 with 3 Axes>"
      ]
     },
     "metadata": {
      "needs_background": "light"
     },
     "output_type": "display_data"
    }
   ],
   "source": [
    "# 잔차의 산포도 : x축 적합도, y축 잔차\n",
    "sns.jointplot(lm_model.fittedvalues,resid)"
   ]
  },
  {
   "cell_type": "code",
   "execution_count": 51,
   "id": "298848b9",
   "metadata": {},
   "outputs": [
    {
     "data": {
      "image/png": "[encoded data removed]",
      "text/plain": [
       "<Figure size 432x288 with 1 Axes>"
      ]
     },
     "metadata": {
      "needs_background": "light"
     },
     "output_type": "display_data"
    }
   ],
   "source": [
    "# Q-Q 플롯 : 이론상의 분위점과 실제 데이터의 분위점을 산포도 그래프로 그린 것\n",
    "fig = sm.qqplot(resid,line='s')"
   ]
  },
  {
   "cell_type": "markdown",
   "id": "f225003d",
   "metadata": {},
   "source": [
    "### 분산분석\n",
    "- 정규선형모델 중에서 독립변수가 카테고리형 변수인 모델을 분산분석 모델이라고 하며 분산분석은 또한 검정방법의 이름이기도 함\n",
    "- 분산분석은 정규선형모델에서 폭넓게 이용되는 검정방법으로 평균값의 차이를 검정하는 방법\n",
    "- 평균값의 차이 겁정은 t검정을 이용하지만 세 개 이상의 수준간의 평균값 차이 검정은 분산분석을 사용\n",
    "- 모집단이 정규분포을 따르는 데이터에 대해서만 적용, 또한 수준 사이의 분산값이 다르지 않다는 조건도 충족\n",
    "- 자료를 분석하는 데 자료의 분산을 활용하는 통계기법으로 실험이나 관측에서 독립변수와 종속변수의 관계를 분석하는데 활용\n",
    "- \"온도는 생산성에 영향을 주는가?\", \"유통되는 약들이 당뇨에 미치는 효과는 같은가?\"와 같은 과제를 분석\n",
    "- 여러 정신과 환자들이 상담, 명상, 그리고 바이오 피드백 세 가지 치료법을 시도하려고 한다. 이 중에서 다른 치료법보다 나은 치료 방법이 있는가?\n",
    "- 한 제조업체는 전구를 만드는 두 가지 공법이 있다. 한 방법이 다른 방법 보다 나은가?\n",
    "- 서로 다른 두 학교의 학생들이 같은 시험을 치르려고 한다. 이 때 한 학교가 다른 학교보다 성적이 더 나은가?\n",
    "- 독립변수는 정성적이거나 정량적일 수 있으며 예에서 온도는 정량적이며 약은 정성적임\n",
    "- 온도가 인자라고 하면 10도, 20도, 30도 와 같이 몇 개의 값을 가지며 인자를 구성하는 몇 가지 특성을 수준이라 함\n",
    "- 각 수준은 독립적인 모집단을 구성하고 이에 따라 확률변수가 정의됨\n",
    "- 분산분석은 서로 다른 수준을 갖는 모집단들을 대상으로 그들의 평균에 의미가 있는 차이가 있는지 없는지를 검정\n",
    "- 인자가 하나인 분산분석을 일원분산분석, 둘이면 이원분산분석, 셋 이상이면 통틀어 다원분산분석이라고 함\n",
    "- 집단 또는 수준은 동일한 독립변수 내의 묶음을 의미한다. “씨리얼의 종류” 라는 독립변수가 있다면, 코코볼, 콘푸로스트, 오레오 오즈는 그 아래의 세 수준이 될 수 있다. “칼로리” 라는 독립변수의 경우에는 가당과 무가당 두 가지 수준을 가질 수 있음\n",
    "- 일원분산분석에서는 하나의 인자의 수준만 처리가 되나 이원분산분석에서는 두 인자의 수준들이 조합되어 처리됨\n",
    "- 다음의 가정에 기초\n",
    " - 모든 모집단의 확률변수는 정규분포를 갖는다\n",
    " - 모든 모집단의 확률변수의 분산은 sigma squared로 동일하다\n",
    " - 표본은 무작위로 추출되면 모든 표본은 서로 독립적이다"
   ]
  },
  {
   "cell_type": "markdown",
   "id": "6d99cc93",
   "metadata": {},
   "source": [
    "#### 검정의 다중성\n",
    "- 검정을 반복함으로써 유의미한 결과를 얻기 쉬어지는 문제를 검정의 다중성이라 함\n",
    "- 검정을 반복하면 귀무가설이 기각되기 쉬어지고 1종 오류를 저지를 확률이 높아집니다.\n",
    "- 맑음, 비, 흐림의 세가지 수준으로 매상이 달라지는지 검정할 때 맑음 대비 비, 비 대비 흐림, 맑음 대비 흐림의 3가지 조합으로 t검정을 실시하면 검정의 다중성 문제가 발생\n",
    "- 반면 분산분석을 수행하면 맑음이나 비와 같은 개별 카테고리를 보는 것이 아니라 날씨에 따라 매상이 다른지 여부를 한번의 검정으로 판단"
   ]
  },
  {
   "cell_type": "markdown",
   "id": "8efbf3df",
   "metadata": {},
   "source": [
    "#### 분산분석의 직감적 사고방식 : F비\n",
    "- 귀무가설 : 수준 간의 평균값에 차이가 없다, 대립가설 : 수준간의 평균값에 차이가 있다\n",
    "- 수준이란 날씨, 물고기 종류 등과 같은 카테고리 변수를 의미\n",
    "- 분산분석에서는 데이터의 변동을 오차와 효과로 분리하여 F비 계산. F비 = 효과의 분산 크기 / 오차의 분산 크기\n",
    "- 효과의 크기를 군간 변동, 오차의 크기를 군내변동이라 하고 데이터의 분산을 2개의 변동으로 나눈 뒤 그 비율을 최한 것을 통계량으로 사용하여 검정 시행\n",
    "- 분산의 비율을 취한 통계량으로 검정을 시행하므로 분산분석(ANOVA)이라고 부름\n",
    "- F비가 크면 오차에 비해 효과의 영향이 클 것이라고 판단\n",
    "- F분포의 누적분포함수를 사용해서 p값을 계산하고 p값이 0.05 이하가 되면 귀무가설을 기각"
   ]
  },
  {
   "cell_type": "code",
   "execution_count": 53,
   "id": "8d506e10",
   "metadata": {},
   "outputs": [
    {
     "data": {
      "text/html": [
       "<div>\n",
       "<style scoped>\n",
       "    .dataframe tbody tr th:only-of-type {\n",
       "        vertical-align: middle;\n",
       "    }\n",
       "\n",
       "    .dataframe tbody tr th {\n",
       "        vertical-align: top;\n",
       "    }\n",
       "\n",
       "    .dataframe thead th {\n",
       "        text-align: right;\n",
       "    }\n",
       "</style>\n",
       "<table border=\"1\" class=\"dataframe\">\n",
       "  <thead>\n",
       "    <tr style=\"text-align: right;\">\n",
       "      <th></th>\n",
       "      <th>beer</th>\n",
       "      <th>weather</th>\n",
       "    </tr>\n",
       "  </thead>\n",
       "  <tbody>\n",
       "    <tr>\n",
       "      <th>0</th>\n",
       "      <td>6</td>\n",
       "      <td>cloudy</td>\n",
       "    </tr>\n",
       "    <tr>\n",
       "      <th>1</th>\n",
       "      <td>8</td>\n",
       "      <td>cloudy</td>\n",
       "    </tr>\n",
       "    <tr>\n",
       "      <th>2</th>\n",
       "      <td>2</td>\n",
       "      <td>rainy</td>\n",
       "    </tr>\n",
       "    <tr>\n",
       "      <th>3</th>\n",
       "      <td>4</td>\n",
       "      <td>rainy</td>\n",
       "    </tr>\n",
       "    <tr>\n",
       "      <th>4</th>\n",
       "      <td>10</td>\n",
       "      <td>sunny</td>\n",
       "    </tr>\n",
       "    <tr>\n",
       "      <th>5</th>\n",
       "      <td>12</td>\n",
       "      <td>sunny</td>\n",
       "    </tr>\n",
       "  </tbody>\n",
       "</table>\n",
       "</div>"
      ],
      "text/plain": [
       "   beer weather\n",
       "0     6  cloudy\n",
       "1     8  cloudy\n",
       "2     2   rainy\n",
       "3     4   rainy\n",
       "4    10   sunny\n",
       "5    12   sunny"
      ]
     },
     "execution_count": 53,
     "metadata": {},
     "output_type": "execute_result"
    }
   ],
   "source": [
    "# 샘플 데이터\n",
    "weather = [\n",
    "    \"cloudy\",\"cloudy\",\n",
    "    \"rainy\",\"rainy\",\n",
    "    \"sunny\",\"sunny\"\n",
    "]\n",
    "beer = [6,8,2,4,10,12]\n",
    "w_beer = pd.DataFrame({\n",
    "    \"beer\":beer,\n",
    "    \"weather\":weather\n",
    "})\n",
    "w_beer"
   ]
  },
  {
   "cell_type": "code",
   "execution_count": 54,
   "id": "e7a7e8e8",
   "metadata": {},
   "outputs": [
    {
     "data": {
      "text/plain": [
       "<AxesSubplot:xlabel='weather', ylabel='beer'>"
      ]
     },
     "execution_count": 54,
     "metadata": {},
     "output_type": "execute_result"
    },
    {
     "data": {
      "image/png": "[encoded data removed]",
      "text/plain": [
       "<Figure size 432x288 with 1 Axes>"
      ]
     },
     "metadata": {
      "needs_background": "light"
     },
     "output_type": "display_data"
    }
   ],
   "source": [
    "# box plot\n",
    "sns.boxplot(x=\"weather\",y=\"beer\",\n",
    "           data = w_beer, color='skyblue')"
   ]
  },
  {
   "cell_type": "code",
   "execution_count": 55,
   "id": "6ed1adfa",
   "metadata": {},
   "outputs": [
    {
     "data": {
      "text/html": [
       "<div>\n",
       "<style scoped>\n",
       "    .dataframe tbody tr th:only-of-type {\n",
       "        vertical-align: middle;\n",
       "    }\n",
       "\n",
       "    .dataframe tbody tr th {\n",
       "        vertical-align: top;\n",
       "    }\n",
       "\n",
       "    .dataframe thead th {\n",
       "        text-align: right;\n",
       "    }\n",
       "</style>\n",
       "<table border=\"1\" class=\"dataframe\">\n",
       "  <thead>\n",
       "    <tr style=\"text-align: right;\">\n",
       "      <th></th>\n",
       "      <th>beer</th>\n",
       "    </tr>\n",
       "    <tr>\n",
       "      <th>weather</th>\n",
       "      <th></th>\n",
       "    </tr>\n",
       "  </thead>\n",
       "  <tbody>\n",
       "    <tr>\n",
       "      <th>cloudy</th>\n",
       "      <td>7</td>\n",
       "    </tr>\n",
       "    <tr>\n",
       "      <th>rainy</th>\n",
       "      <td>3</td>\n",
       "    </tr>\n",
       "    <tr>\n",
       "      <th>sunny</th>\n",
       "      <td>11</td>\n",
       "    </tr>\n",
       "  </tbody>\n",
       "</table>\n",
       "</div>"
      ],
      "text/plain": [
       "         beer\n",
       "weather      \n",
       "cloudy      7\n",
       "rainy       3\n",
       "sunny      11"
      ]
     },
     "execution_count": 55,
     "metadata": {},
     "output_type": "execute_result"
    }
   ],
   "source": [
    "# 날씨별 매상의 평균치\n",
    "w_beer.groupby('weather').mean()"
   ]
  },
  {
   "cell_type": "code",
   "execution_count": 56,
   "id": "9baf306d",
   "metadata": {},
   "outputs": [],
   "source": [
    "# 날씨에 의한 영향 : 2일씩 6일에 대한 날씨별 매상의 평균치\n",
    "effect = [7,7,3,3,11,11]"
   ]
  },
  {
   "cell_type": "code",
   "execution_count": 57,
   "id": "45758687",
   "metadata": {},
   "outputs": [
    {
     "data": {
      "text/plain": [
       "64.0"
      ]
     },
     "execution_count": 57,
     "metadata": {},
     "output_type": "execute_result"
    }
   ],
   "source": [
    "# effect의 흩어진 정도를 구함으로써 군간변동을 구할 수 있음\n",
    "mu_effect = np.mean(effect)\n",
    "sq_model = np.sum((effect-mu_effect)**2)\n",
    "sq_model"
   ]
  },
  {
   "cell_type": "code",
   "execution_count": 58,
   "id": "c882d620",
   "metadata": {},
   "outputs": [
    {
     "data": {
      "text/plain": [
       "0   -1\n",
       "1    1\n",
       "2   -1\n",
       "3    1\n",
       "4   -1\n",
       "5    1\n",
       "Name: beer, dtype: int64"
      ]
     },
     "execution_count": 58,
     "metadata": {},
     "output_type": "execute_result"
    }
   ],
   "source": [
    "resid = w_beer.beer - effect\n",
    "resid"
   ]
  },
  {
   "cell_type": "code",
   "execution_count": 59,
   "id": "501485df",
   "metadata": {},
   "outputs": [
    {
     "data": {
      "text/plain": [
       "6"
      ]
     },
     "execution_count": 59,
     "metadata": {},
     "output_type": "execute_result"
    }
   ],
   "source": [
    "# 군내변동 : 오차의 평균값은 0\n",
    "sq_resid = np.sum(resid**2)\n",
    "sq_resid"
   ]
  },
  {
   "cell_type": "code",
   "execution_count": 61,
   "id": "58227657",
   "metadata": {},
   "outputs": [],
   "source": [
    "df_model = 2 # 군간변동의 자유도(수준의 종류 수에 따라 좌우 : 수준(3) - 1)\n",
    "df_resid = 3 # 군내변동의 자유도(샘플사이즈와 수준의 종류 수 : 샘플(6)-수준(3)\n"
   ]
  },
  {
   "cell_type": "code",
   "execution_count": 62,
   "id": "e3140698",
   "metadata": {},
   "outputs": [
    {
     "data": {
      "text/plain": [
       "32.0"
      ]
     },
     "execution_count": 62,
     "metadata": {},
     "output_type": "execute_result"
    }
   ],
   "source": [
    "# 군간 평균제곱(분산)\n",
    "v_model = sq_model/df_model\n",
    "v_model"
   ]
  },
  {
   "cell_type": "code",
   "execution_count": 63,
   "id": "c3ff576f",
   "metadata": {},
   "outputs": [
    {
     "data": {
      "text/plain": [
       "2.0"
      ]
     },
     "execution_count": 63,
     "metadata": {},
     "output_type": "execute_result"
    }
   ],
   "source": [
    "# 군내 평균제곱(분산)\n",
    "v_resid = sq_resid / df_resid\n",
    "v_resid"
   ]
  },
  {
   "cell_type": "code",
   "execution_count": 65,
   "id": "f23199fa",
   "metadata": {},
   "outputs": [
    {
     "data": {
      "text/plain": [
       "16.0"
      ]
     },
     "execution_count": 65,
     "metadata": {},
     "output_type": "execute_result"
    }
   ],
   "source": [
    "# F비 : 군간 분산과 군내 분산의 비\n",
    "f_ratio = v_model / v_resid\n",
    "f_ratio"
   ]
  },
  {
   "cell_type": "code",
   "execution_count": 66,
   "id": "80c915e1",
   "metadata": {},
   "outputs": [
    {
     "data": {
      "text/plain": [
       "0.02509457330439091"
      ]
     },
     "execution_count": 66,
     "metadata": {},
     "output_type": "execute_result"
    }
   ],
   "source": [
    "# p값이 0.05 보다 작으므로 날씨에 의해 매상이 유의미하게 변화한다고 판단\n",
    "1 - stats.f.cdf(x=f_ratio,dfn=df_model,dfd=df_resid)"
   ]
  },
  {
   "cell_type": "code",
   "execution_count": 67,
   "id": "ee4aff2d",
   "metadata": {},
   "outputs": [],
   "source": [
    "anova_model = smf.ols('beer~weather',\n",
    "                     data=w_beer).fit()"
   ]
  },
  {
   "cell_type": "code",
   "execution_count": 68,
   "id": "a819d6ec",
   "metadata": {},
   "outputs": [
    {
     "data": {
      "text/html": [
       "<div>\n",
       "<style scoped>\n",
       "    .dataframe tbody tr th:only-of-type {\n",
       "        vertical-align: middle;\n",
       "    }\n",
       "\n",
       "    .dataframe tbody tr th {\n",
       "        vertical-align: top;\n",
       "    }\n",
       "\n",
       "    .dataframe thead th {\n",
       "        text-align: right;\n",
       "    }\n",
       "</style>\n",
       "<table border=\"1\" class=\"dataframe\">\n",
       "  <thead>\n",
       "    <tr style=\"text-align: right;\">\n",
       "      <th></th>\n",
       "      <th>sum_sq</th>\n",
       "      <th>df</th>\n",
       "      <th>F</th>\n",
       "      <th>PR(&gt;F)</th>\n",
       "    </tr>\n",
       "  </thead>\n",
       "  <tbody>\n",
       "    <tr>\n",
       "      <th>weather</th>\n",
       "      <td>64.0</td>\n",
       "      <td>2.0</td>\n",
       "      <td>16.0</td>\n",
       "      <td>0.025095</td>\n",
       "    </tr>\n",
       "    <tr>\n",
       "      <th>Residual</th>\n",
       "      <td>6.0</td>\n",
       "      <td>3.0</td>\n",
       "      <td>NaN</td>\n",
       "      <td>NaN</td>\n",
       "    </tr>\n",
       "  </tbody>\n",
       "</table>\n",
       "</div>"
      ],
      "text/plain": [
       "          sum_sq   df     F    PR(>F)\n",
       "weather     64.0  2.0  16.0  0.025095\n",
       "Residual     6.0  3.0   NaN       NaN"
      ]
     },
     "execution_count": 68,
     "metadata": {},
     "output_type": "execute_result"
    }
   ],
   "source": [
    "# 분산분석표 : 군간, 군내편차제곱합, 자유도, F비, p값\n",
    "sm.stats.anova_lm(anova_model,typ=2)"
   ]
  },
  {
   "cell_type": "code",
   "execution_count": 69,
   "id": "52c5ecb4",
   "metadata": {},
   "outputs": [
    {
     "data": {
      "text/plain": [
       "Intercept           7.0\n",
       "weather[T.rainy]   -4.0\n",
       "weather[T.sunny]    4.0\n",
       "dtype: float64"
      ]
     },
     "execution_count": 69,
     "metadata": {},
     "output_type": "execute_result"
    }
   ],
   "source": [
    "anova_model.params"
   ]
  }
 ],
 "metadata": {
  "kernelspec": {
   "display_name": "Python 3",
   "language": "python",
   "name": "python3"
  },
  "language_info": {
   "codemirror_mode": {
    "name": "ipython",
    "version": 3
   },
   "file_extension": ".py",
   "mimetype": "text/x-python",
   "name": "python",
   "nbconvert_exporter": "python",
   "pygments_lexer": "ipython3",
   "version": "3.8.8"
  }
 },
 "nbformat": 4,
 "nbformat_minor": 5
}

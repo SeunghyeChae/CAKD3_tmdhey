{
 "cells": [
  {
   "cell_type": "markdown",
   "id": "a671a601",
   "metadata": {},
   "source": [
    "Numpy는 \"numerical python\"의 약자로 대규모 다차원 배열과 행렬연산에 필요한 다양한 함수를 제공\n",
    "- Numerical python을 의미하는 넘파이는 파이썬에서 선형대수 기반의 프로그램을 쉽게 만들 수 있도록 지원하는 대표적인 패키지\n",
    "- 많은 머신러닝 알고리즘이 넘파이 기반으로 작성돼 있으며 알고리즘의 입출력 데이터를 넘파이 배열 타입으로 사용함\n",
    "- 넘파이의 기본 데이터 타입은 ndarray.ndarray를 이용해 넘파이에서 다차원 배열을 쉽게 생성하고 다양한 연산 수행\n",
    "\n",
    "Numpy 특징\n",
    "- 강력한 N차원 배열 객체\n",
    "- 정교한 브로드케스팅(Broadcast)기능\n",
    "- C/C++ 및 포트란 코드 통합 도구\n",
    "- 유용한 선형 대수학, 푸리에 변환 및 난수 기능\n",
    "- 범용적 데이터 처리에 사용 가능한 다차원 컨테이너\n"
   ]
  },
  {
   "cell_type": "code",
   "execution_count": 3,
   "id": "362a9201",
   "metadata": {},
   "outputs": [
    {
     "name": "stdout",
     "output_type": "stream",
     "text": [
      "[[0.45611328 0.10073142 0.19663527]\n",
      " [0.96745562 0.59712807 0.74246564]] \n",
      "\n",
      "[[4.56113277 1.00731419 1.96635275]\n",
      " [9.67455622 5.97128065 7.42465645]] \n",
      "\n",
      "[[0.91222655 0.20146284 0.39327055]\n",
      " [1.93491124 1.19425613 1.48493129]]\n"
     ]
    }
   ],
   "source": [
    "import numpy as np\n",
    "data= np.random.rand(2,3) # 정규분포에서 숫자뽑아줌 2행3열\n",
    "print(data,'\\n')\n",
    "print(data*10,'\\n')\n",
    "print(data + data)"
   ]
  },
  {
   "cell_type": "code",
   "execution_count": 4,
   "id": "f3cc5050",
   "metadata": {},
   "outputs": [
    {
     "data": {
      "text/plain": [
       "'C:\\\\♥workspace\\\\cakd3\\\\numpy'"
      ]
     },
     "execution_count": 4,
     "metadata": {},
     "output_type": "execute_result"
    }
   ],
   "source": [
    "%pwd"
   ]
  },
  {
   "cell_type": "markdown",
   "id": "39b01819",
   "metadata": {},
   "source": [
    "다차원 배열 \n",
    "\n",
    "<img src='numpy차원.jpg' STYLE= 'width:500px;'>"
   ]
  },
  {
   "cell_type": "code",
   "execution_count": 5,
   "id": "15c7495c",
   "metadata": {},
   "outputs": [
    {
     "data": {
      "text/plain": [
       "array([[1, 2, 3, 4],\n",
       "       [5, 6, 7, 8]])"
      ]
     },
     "execution_count": 5,
     "metadata": {},
     "output_type": "execute_result"
    }
   ],
   "source": [
    "data2=[[1,2,3,4],[5,6,7,8]]\n",
    "arr2= np.array(data2)\n",
    "arr2"
   ]
  },
  {
   "cell_type": "code",
   "execution_count": 8,
   "id": "1e61b46e",
   "metadata": {},
   "outputs": [
    {
     "data": {
      "text/plain": [
       "array([[1, 2, 3, 4],\n",
       "       [5, 6, 7, 8]])"
      ]
     },
     "execution_count": 8,
     "metadata": {},
     "output_type": "execute_result"
    }
   ],
   "source": [
    "arr2= np.arange(1,9).reshape(2,4)\n",
    "arr2"
   ]
  },
  {
   "cell_type": "code",
   "execution_count": 9,
   "id": "ec993e79",
   "metadata": {},
   "outputs": [
    {
     "name": "stdout",
     "output_type": "stream",
     "text": [
      "2\n"
     ]
    }
   ],
   "source": [
    "print(arr2.ndim)"
   ]
  },
  {
   "cell_type": "code",
   "execution_count": 15,
   "id": "9a238ee0",
   "metadata": {},
   "outputs": [
    {
     "name": "stdout",
     "output_type": "stream",
     "text": [
      "3\n",
      "(3, 2, 5)\n"
     ]
    }
   ],
   "source": [
    "# 3차원 배열 \n",
    "array3= np.array([[[1,2,3,4,5],[6,7,8,9,10]],\n",
    "                 [[1,2,3,4,5],[6,7,8,9,10]],\n",
    "                 [[1,2,3,4,5],[6,7,8,9,10]]])\n",
    "\n",
    "print(array3.ndim)\n",
    "print(array3.shape) # 3차원, 행, 열 "
   ]
  },
  {
   "cell_type": "code",
   "execution_count": 20,
   "id": "f48f82ba",
   "metadata": {},
   "outputs": [
    {
     "name": "stdout",
     "output_type": "stream",
     "text": [
      "[0. 0. 0. 0. 0. 0. 0. 0. 0. 0.] \n",
      "\n",
      "[[0. 0. 0. 0. 0. 0.]\n",
      " [0. 0. 0. 0. 0. 0.]\n",
      " [0. 0. 0. 0. 0. 0.]] \n",
      "\n",
      "[[[0. 0.]\n",
      "  [0. 0.]\n",
      "  [0. 0.]]\n",
      "\n",
      " [[0. 0.]\n",
      "  [0. 0.]\n",
      "  [0. 0.]]]\n"
     ]
    }
   ],
   "source": [
    "print(np.zeros(10),'\\n')\n",
    "print(np.zeros((3,6)),'\\n')\n",
    "print(np.zeros((2,3,2)))"
   ]
  },
  {
   "cell_type": "code",
   "execution_count": 22,
   "id": "b4b3e4b2",
   "metadata": {},
   "outputs": [
    {
     "name": "stdout",
     "output_type": "stream",
     "text": [
      "[1. 1. 1. 1. 1. 1. 1. 1. 1. 1.] \n",
      "\n",
      "[[1. 1. 1. 1. 1. 1.]\n",
      " [1. 1. 1. 1. 1. 1.]\n",
      " [1. 1. 1. 1. 1. 1.]] \n",
      "\n",
      "[[[1. 1.]\n",
      "  [1. 1.]\n",
      "  [1. 1.]]\n",
      "\n",
      " [[1. 1.]\n",
      "  [1. 1.]\n",
      "  [1. 1.]]] \n",
      "\n"
     ]
    }
   ],
   "source": [
    "print(np.ones(10),'\\n')\n",
    "print(np.ones((3,6)),'\\n')\n",
    "print(np.ones((2,3,2)),'\\n')"
   ]
  },
  {
   "cell_type": "code",
   "execution_count": 29,
   "id": "1e51bae1",
   "metadata": {},
   "outputs": [
    {
     "data": {
      "text/plain": [
       "array([ 0,  1,  2,  3,  4,  5,  6,  7,  8,  9, 10, 11, 12, 13, 14])"
      ]
     },
     "execution_count": 29,
     "metadata": {},
     "output_type": "execute_result"
    }
   ],
   "source": [
    "arr3= np.arange(15)\n",
    "# arr3= np.arange(1,15)\n",
    "arr3"
   ]
  },
  {
   "cell_type": "code",
   "execution_count": 34,
   "id": "3577e6d7",
   "metadata": {},
   "outputs": [
    {
     "data": {
      "text/plain": [
       "array([[ 0,  1,  2,  3,  4],\n",
       "       [ 5,  6,  7,  8,  9],\n",
       "       [10, 11, 12, 13, 14]])"
      ]
     },
     "execution_count": 34,
     "metadata": {},
     "output_type": "execute_result"
    }
   ],
   "source": [
    "# reshape함수\n",
    "# arr3.reshape(3,5)\n",
    "# arr3.reshape(5,-1) # 5행으로 알아서 만들어줌\n",
    "arr3.reshape(-1,5)  #5열로 알아서 만들어줌"
   ]
  },
  {
   "cell_type": "code",
   "execution_count": 36,
   "id": "65748f55",
   "metadata": {},
   "outputs": [
    {
     "data": {
      "text/plain": [
       "array([[ 0,  1,  2],\n",
       "       [ 3,  4,  5],\n",
       "       [ 6,  7,  8],\n",
       "       [ 9, 10, 11],\n",
       "       [12, 13, 14]])"
      ]
     },
     "execution_count": 36,
     "metadata": {},
     "output_type": "execute_result"
    }
   ],
   "source": [
    "# Q .5행3열 ,7행25열,  다차원 배열을 생성하세요 \n",
    "arr_53= np.arange(15)\n",
    "arr_53.reshape(5,3)\n"
   ]
  },
  {
   "cell_type": "code",
   "execution_count": 39,
   "id": "7c2c2bd1",
   "metadata": {},
   "outputs": [
    {
     "data": {
      "text/plain": [
       "array([[  0,   1,   2,   3,   4,   5,   6,   7,   8,   9,  10,  11,  12,\n",
       "         13,  14,  15,  16,  17,  18,  19,  20,  21,  22,  23,  24],\n",
       "       [ 25,  26,  27,  28,  29,  30,  31,  32,  33,  34,  35,  36,  37,\n",
       "         38,  39,  40,  41,  42,  43,  44,  45,  46,  47,  48,  49],\n",
       "       [ 50,  51,  52,  53,  54,  55,  56,  57,  58,  59,  60,  61,  62,\n",
       "         63,  64,  65,  66,  67,  68,  69,  70,  71,  72,  73,  74],\n",
       "       [ 75,  76,  77,  78,  79,  80,  81,  82,  83,  84,  85,  86,  87,\n",
       "         88,  89,  90,  91,  92,  93,  94,  95,  96,  97,  98,  99],\n",
       "       [100, 101, 102, 103, 104, 105, 106, 107, 108, 109, 110, 111, 112,\n",
       "        113, 114, 115, 116, 117, 118, 119, 120, 121, 122, 123, 124],\n",
       "       [125, 126, 127, 128, 129, 130, 131, 132, 133, 134, 135, 136, 137,\n",
       "        138, 139, 140, 141, 142, 143, 144, 145, 146, 147, 148, 149],\n",
       "       [150, 151, 152, 153, 154, 155, 156, 157, 158, 159, 160, 161, 162,\n",
       "        163, 164, 165, 166, 167, 168, 169, 170, 171, 172, 173, 174]])"
      ]
     },
     "execution_count": 39,
     "metadata": {},
     "output_type": "execute_result"
    }
   ],
   "source": [
    "arr_725= np.arange(7*25)\n",
    "arr_725.reshape(7,-1)"
   ]
  },
  {
   "cell_type": "code",
   "execution_count": 59,
   "id": "b5b44cc6",
   "metadata": {},
   "outputs": [
    {
     "name": "stdout",
     "output_type": "stream",
     "text": [
      "[[ 1  2  3  4  5  6  7  8  9 10 11 12 13 14 15]\n",
      " [16 17 18 19 20 21 22 23 24 25 26 27 28 29 30]]\n",
      "[[[ 1  2  3  4  5]\n",
      "  [ 6  7  8  9 10]\n",
      "  [11 12 13 14 15]]\n",
      "\n",
      " [[16 17 18 19 20]\n",
      "  [21 22 23 24 25]\n",
      "  [26 27 28 29 30]]]\n"
     ]
    }
   ],
   "source": [
    "# Q. 1~30 연속된 정수로 1차원,2차원,3차원 배열을 생성하세요\n",
    "arr_1= np.arange(1,31)\n",
    "arr_2= np.arange(1,31).reshape(2,-1)\n",
    "arr_33=np.arange(1,31).reshape(2,3,5)\n",
    "\n",
    "print(arr_2)\n",
    "print(arr_33)"
   ]
  },
  {
   "cell_type": "code",
   "execution_count": 61,
   "id": "ec2fa54d",
   "metadata": {},
   "outputs": [
    {
     "name": "stdout",
     "output_type": "stream",
     "text": [
      "[[ 0  1  2  3  4]\n",
      " [ 5  6  7  8  9]\n",
      " [10 11 12 13 14]\n",
      " [15 16 17 18 19]]\n",
      "[[[ 0  1  2  3  4]\n",
      "  [ 5  6  7  8  9]]\n",
      "\n",
      " [[10 11 12 13 14]\n",
      "  [15 16 17 18 19]]]\n"
     ]
    }
   ],
   "source": [
    "# Q. 연속된 정수 20으로 1차원 배열을 생성한 후 2차원,3차원 배열로 변환abs\n",
    "arr_201= np.arange(20)\n",
    "arr_r2=arr_201.reshape(4,-1)\n",
    "arr_r3=arr_201.reshape(2,2,5)\n",
    "print(arr_r2)\n",
    "print(arr_r3)"
   ]
  },
  {
   "cell_type": "code",
   "execution_count": 6,
   "id": "0d700215",
   "metadata": {},
   "outputs": [
    {
     "name": "stdout",
     "output_type": "stream",
     "text": [
      "[ 0  1  2  3  4  5  6  7  8  9 10 11 12 13 14 15 16 17 18 19]\n",
      "[[[ 0  1  2  3  4]\n",
      "  [ 5  6  7  8  9]]\n",
      "\n",
      " [[10 11 12 13 14]\n",
      "  [15 16 17 18 19]]]\n"
     ]
    }
   ],
   "source": [
    "# 연속된 정수 20으로 2차원 배열을 생성한 후 1차원,3차원 배열로 변환\n",
    "\n",
    "\n",
    "arr_201= arr_202.reshape(-1)\n",
    "arr_203= arr_202.reshape(2,2,5)\n",
    "\n",
    "print(arr_201)\n",
    "print(arr_203)"
   ]
  },
  {
   "cell_type": "code",
   "execution_count": 58,
   "id": "3d2a3e83",
   "metadata": {},
   "outputs": [
    {
     "data": {
      "text/plain": [
       "array([[ 1,  2,  3,  4],\n",
       "       [ 5,  6,  7,  8],\n",
       "       [ 9, 10, 11, 12],\n",
       "       [13, 14, 15, 16],\n",
       "       [17, 18, 19, 20],\n",
       "       [21, 22, 23, 24]])"
      ]
     },
     "execution_count": 58,
     "metadata": {},
     "output_type": "execute_result"
    }
   ],
   "source": [
    "# Q. 연속된 정수 1~24로 3차원 배열을 생성한 후 1차원, 2차원 배열로 변환하세요.\n",
    "\n",
    "ar = np.arange(1,25)\n",
    "n3 = ar.reshape(((1,1,-1)))\n",
    "n2 = n3.reshape(1,-1)\n",
    "n1 = n3.reshape(-1)\n"
   ]
  },
  {
   "cell_type": "code",
   "execution_count": null,
   "id": "978d8c32",
   "metadata": {},
   "outputs": [],
   "source": [
    "# 행렬 기본정리: https://math-development-geometry.tistory.com/52\n"
   ]
  },
  {
   "cell_type": "code",
   "execution_count": 64,
   "id": "66d28b17",
   "metadata": {},
   "outputs": [
    {
     "data": {
      "text/plain": [
       "array([[1., 0., 0.],\n",
       "       [0., 1., 0.],\n",
       "       [0., 0., 1.]])"
      ]
     },
     "execution_count": 64,
     "metadata": {},
     "output_type": "execute_result"
    }
   ],
   "source": [
    "ar=np.eye(3)\n",
    "ar"
   ]
  },
  {
   "cell_type": "code",
   "execution_count": 68,
   "id": "823b6dec",
   "metadata": {},
   "outputs": [
    {
     "name": "stdout",
     "output_type": "stream",
     "text": [
      "[[1 2 3]\n",
      " [4 5 6]]\n"
     ]
    },
    {
     "data": {
      "text/plain": [
       "array([[0, 0, 0],\n",
       "       [0, 0, 0]])"
      ]
     },
     "execution_count": 68,
     "metadata": {},
     "output_type": "execute_result"
    }
   ],
   "source": [
    "a= np.array([[1,2,3],[4,5,6]])\n",
    "print(a)\n",
    "b= np.zeros_like(a)\n",
    "b"
   ]
  },
  {
   "cell_type": "code",
   "execution_count": 69,
   "id": "937632e0",
   "metadata": {},
   "outputs": [
    {
     "data": {
      "text/plain": [
       "array([  0.        ,   2.04081633,   4.08163265,   6.12244898,\n",
       "         8.16326531,  10.20408163,  12.24489796,  14.28571429,\n",
       "        16.32653061,  18.36734694,  20.40816327,  22.44897959,\n",
       "        24.48979592,  26.53061224,  28.57142857,  30.6122449 ,\n",
       "        32.65306122,  34.69387755,  36.73469388,  38.7755102 ,\n",
       "        40.81632653,  42.85714286,  44.89795918,  46.93877551,\n",
       "        48.97959184,  51.02040816,  53.06122449,  55.10204082,\n",
       "        57.14285714,  59.18367347,  61.2244898 ,  63.26530612,\n",
       "        65.30612245,  67.34693878,  69.3877551 ,  71.42857143,\n",
       "        73.46938776,  75.51020408,  77.55102041,  79.59183673,\n",
       "        81.63265306,  83.67346939,  85.71428571,  87.75510204,\n",
       "        89.79591837,  91.83673469,  93.87755102,  95.91836735,\n",
       "        97.95918367, 100.        ])"
      ]
     },
     "execution_count": 69,
     "metadata": {},
     "output_type": "execute_result"
    }
   ],
   "source": [
    "# 0~10을 균등하게 50개로 나눠줌\n",
    "np.linspace(0,100)"
   ]
  },
  {
   "cell_type": "code",
   "execution_count": 71,
   "id": "8956c2a5",
   "metadata": {},
   "outputs": [
    {
     "data": {
      "text/plain": [
       "(array([0.  , 0.25, 0.5 , 0.75, 1.  ]), 0.25)"
      ]
     },
     "execution_count": 71,
     "metadata": {},
     "output_type": "execute_result"
    }
   ],
   "source": [
    "np.linspace(0,1,5,retstep=True)\n",
    "#0~2을 5개로 나눈다... + 간격 출력\n"
   ]
  },
  {
   "cell_type": "code",
   "execution_count": 76,
   "id": "a05c1388",
   "metadata": {},
   "outputs": [
    {
     "data": {
      "text/plain": [
       "[<matplotlib.lines.Line2D at 0x1bbf3acfac0>]"
      ]
     },
     "execution_count": 76,
     "metadata": {},
     "output_type": "execute_result"
    },
    {
     "data": {
      "image/png": "[encoded data removed]",
      "text/plain": [
       "<Figure size 432x288 with 1 Axes>"
      ]
     },
     "metadata": {
      "needs_background": "light"
     },
     "output_type": "display_data"
    }
   ],
   "source": [
    "import matplotlib.pyplot as plt\n",
    "x= np.linspace(0,1)\n",
    "y= np.linspace(0,50)\n",
    "plt.plot(x,y,'o')"
   ]
  },
  {
   "cell_type": "code",
   "execution_count": 75,
   "id": "f801c8ac",
   "metadata": {},
   "outputs": [
    {
     "data": {
      "text/plain": [
       "[<matplotlib.lines.Line2D at 0x1bbf3a7d880>]"
      ]
     },
     "execution_count": 75,
     "metadata": {},
     "output_type": "execute_result"
    },
    {
     "data": {
      "image/png": "[encoded data removed]",
      "text/plain": [
       "<Figure size 432x288 with 1 Axes>"
      ]
     },
     "metadata": {
      "needs_background": "light"
     },
     "output_type": "display_data"
    }
   ],
   "source": [
    "x= np.linspace(0,20,20)\n",
    "y= np.linspace(0.1,1,20)\n",
    "plt.plot(x,y,'o')"
   ]
  },
  {
   "cell_type": "code",
   "execution_count": 78,
   "id": "963afae2",
   "metadata": {},
   "outputs": [
    {
     "name": "stdout",
     "output_type": "stream",
     "text": [
      "0.0999999993810619\n",
      "1.0\n"
     ]
    },
    {
     "data": {
      "text/plain": [
       "array([ 1.25892541,  1.40400425,  1.565802  ,  1.74624535,  1.94748304,\n",
       "        2.1719114 ,  2.42220294,  2.70133812,  3.0126409 ,  3.35981829,\n",
       "        3.74700446,  4.17881006,  4.66037703,  5.19743987,  5.79639395,\n",
       "        6.46437163,  7.2093272 ,  8.04013161,  8.9666781 , 10.        ])"
      ]
     },
     "execution_count": 78,
     "metadata": {},
     "output_type": "execute_result"
    }
   ],
   "source": [
    "print(np.log10(1.25892541))\n",
    "print(np.log10(10))\n",
    "np.logspace(0.1,1,20)"
   ]
  },
  {
   "cell_type": "code",
   "execution_count": 79,
   "id": "8d610b6a",
   "metadata": {},
   "outputs": [
    {
     "data": {
      "text/plain": [
       "[<matplotlib.lines.Line2D at 0x1bbf3b30280>]"
      ]
     },
     "execution_count": 79,
     "metadata": {},
     "output_type": "execute_result"
    },
    {
     "data": {
      "image/png": "[encoded data removed]",
      "text/plain": [
       "<Figure size 432x288 with 1 Axes>"
      ]
     },
     "metadata": {
      "needs_background": "light"
     },
     "output_type": "display_data"
    }
   ],
   "source": [
    "x= np.linspace(0,20,20)\n",
    "y=np.logspace(0.1,1,20)\n",
    "plt.plot(x,y,'o')"
   ]
  },
  {
   "cell_type": "code",
   "execution_count": 81,
   "id": "05a33be3",
   "metadata": {},
   "outputs": [
    {
     "name": "stdout",
     "output_type": "stream",
     "text": [
      "int32\n"
     ]
    },
    {
     "data": {
      "text/plain": [
       "dtype('float64')"
      ]
     },
     "execution_count": 81,
     "metadata": {},
     "output_type": "execute_result"
    }
   ],
   "source": [
    "ar1= np.array([1,2,3,4,5])\n",
    "print(ar1.dtype)\n",
    "float_ar1= ar1.astype(np.float64)\n",
    "float_ar1.dtype"
   ]
  },
  {
   "cell_type": "code",
   "execution_count": 84,
   "id": "ba496f99",
   "metadata": {},
   "outputs": [
    {
     "data": {
      "text/plain": [
       "array([ 1.25, -9.5 , 42.  ])"
      ]
     },
     "execution_count": 84,
     "metadata": {},
     "output_type": "execute_result"
    }
   ],
   "source": [
    "numeric_string= np.array(['1.25','-9.5','42'],dtype=np.string_)\n",
    "numeric_string.astype(float)"
   ]
  },
  {
   "cell_type": "code",
   "execution_count": 87,
   "id": "c5753890",
   "metadata": {},
   "outputs": [
    {
     "name": "stdout",
     "output_type": "stream",
     "text": [
      "[1 2 3] int32\n",
      "[1.2 2.3 3. ] float64\n"
     ]
    }
   ],
   "source": [
    "# Q. 정수와 실수로 구성된 list_e= [1.2, 2.3, 3]을 numpy를 이용해서\n",
    "#실수형과 정수형으로 각각 출력하세요\n",
    "list_e= [1.2, 2.3, 3]\n",
    "nu= np.array(list_e)\n",
    "nu1=nu.astype(int)\n",
    "print(nu1,nu1.dtype)\n",
    "print(nu,nu.dtype)"
   ]
  },
  {
   "cell_type": "code",
   "execution_count": 90,
   "id": "be031102",
   "metadata": {},
   "outputs": [
    {
     "data": {
      "text/plain": [
       "array([[1, 2, 3],\n",
       "       [4, 5, 6]])"
      ]
     },
     "execution_count": 90,
     "metadata": {},
     "output_type": "execute_result"
    }
   ],
   "source": [
    "arr= np.array([[1,2,3],[4,5,6]])\n",
    "arr"
   ]
  },
  {
   "cell_type": "code",
   "execution_count": 91,
   "id": "ef1b43f5",
   "metadata": {},
   "outputs": [
    {
     "data": {
      "text/plain": [
       "array([[ 1,  4,  9],\n",
       "       [16, 25, 36]])"
      ]
     },
     "execution_count": 91,
     "metadata": {},
     "output_type": "execute_result"
    }
   ],
   "source": [
    "arr*arr"
   ]
  },
  {
   "cell_type": "code",
   "execution_count": 92,
   "id": "80baba83",
   "metadata": {},
   "outputs": [
    {
     "data": {
      "text/plain": [
       "array([[0, 0, 0],\n",
       "       [0, 0, 0]])"
      ]
     },
     "execution_count": 92,
     "metadata": {},
     "output_type": "execute_result"
    }
   ],
   "source": [
    "arr-arr"
   ]
  },
  {
   "cell_type": "code",
   "execution_count": 93,
   "id": "35b6a0f7",
   "metadata": {},
   "outputs": [
    {
     "data": {
      "text/plain": [
       "array([[False, False, False],\n",
       "       [False, False, False]])"
      ]
     },
     "execution_count": 93,
     "metadata": {},
     "output_type": "execute_result"
    }
   ],
   "source": [
    "arr>arr"
   ]
  },
  {
   "cell_type": "code",
   "execution_count": 94,
   "id": "b163850d",
   "metadata": {},
   "outputs": [
    {
     "data": {
      "text/plain": [
       "array([[1, 2, 3],\n",
       "       [4, 5, 6],\n",
       "       [7, 8, 9]])"
      ]
     },
     "execution_count": 94,
     "metadata": {},
     "output_type": "execute_result"
    }
   ],
   "source": [
    "ar2= np.arange(1,10).reshape(3,3)\n",
    "ar2"
   ]
  },
  {
   "cell_type": "code",
   "execution_count": 95,
   "id": "9e5a6aea",
   "metadata": {},
   "outputs": [
    {
     "data": {
      "text/plain": [
       "array([7, 8, 9])"
      ]
     },
     "execution_count": 95,
     "metadata": {},
     "output_type": "execute_result"
    }
   ],
   "source": [
    "ar2[2]"
   ]
  },
  {
   "cell_type": "code",
   "execution_count": 96,
   "id": "b9ddf3f8",
   "metadata": {},
   "outputs": [
    {
     "data": {
      "text/plain": [
       "3"
      ]
     },
     "execution_count": 96,
     "metadata": {},
     "output_type": "execute_result"
    }
   ],
   "source": [
    "ar2[0,2]\n",
    "ar2[0][2]"
   ]
  },
  {
   "cell_type": "code",
   "execution_count": 97,
   "id": "32e47f44",
   "metadata": {},
   "outputs": [
    {
     "data": {
      "text/plain": [
       "array([[ 0,  1,  2,  3],\n",
       "       [ 4,  5,  6,  7],\n",
       "       [ 8,  9, 10, 11],\n",
       "       [12, 13, 14, 15],\n",
       "       [16, 17, 18, 19]])"
      ]
     },
     "execution_count": 97,
     "metadata": {},
     "output_type": "execute_result"
    }
   ],
   "source": [
    "ar2= np.arange(20).reshape(5,4)\n",
    "ar2"
   ]
  },
  {
   "cell_type": "code",
   "execution_count": 98,
   "id": "859baa1d",
   "metadata": {},
   "outputs": [
    {
     "data": {
      "text/plain": [
       "array([[1, 2, 3],\n",
       "       [5, 6, 7]])"
      ]
     },
     "execution_count": 98,
     "metadata": {},
     "output_type": "execute_result"
    }
   ],
   "source": [
    "ar2[:2,1:]"
   ]
  },
  {
   "cell_type": "code",
   "execution_count": 7,
   "id": "0fdadf75",
   "metadata": {},
   "outputs": [
    {
     "data": {
      "text/plain": [
       "array([[1., 0., 0.],\n",
       "       [0., 1., 0.],\n",
       "       [0., 0., 1.]])"
      ]
     },
     "execution_count": 7,
     "metadata": {},
     "output_type": "execute_result"
    }
   ],
   "source": [
    "# 항등행렬/ 단위행렬\n",
    "ar=np.eye(3)\n",
    "ar"
   ]
  },
  {
   "cell_type": "code",
   "execution_count": 8,
   "id": "c6e9fee9",
   "metadata": {},
   "outputs": [
    {
     "name": "stdout",
     "output_type": "stream",
     "text": [
      "[1 2 3 4 5 6 7 8 9]\n"
     ]
    }
   ],
   "source": [
    "# Boolean Indexing\n",
    "ar1= np.arange(1,10)\n",
    "print(ar1)"
   ]
  },
  {
   "cell_type": "code",
   "execution_count": 14,
   "id": "995268a9",
   "metadata": {},
   "outputs": [
    {
     "data": {
      "text/plain": [
       "array([6, 7, 8, 9])"
      ]
     },
     "execution_count": 14,
     "metadata": {},
     "output_type": "execute_result"
    }
   ],
   "source": [
    "# 5보다 큰 것 \n",
    "ar1[ar1>5]           # Ture인것만 뽑힘~ "
   ]
  },
  {
   "cell_type": "code",
   "execution_count": 13,
   "id": "3884d548",
   "metadata": {},
   "outputs": [
    {
     "name": "stdout",
     "output_type": "stream",
     "text": [
      "[False False False False False  True  True  True  True]\n"
     ]
    }
   ],
   "source": [
    "print(ar1>5)"
   ]
  },
  {
   "cell_type": "code",
   "execution_count": 15,
   "id": "5e0e834d",
   "metadata": {},
   "outputs": [
    {
     "data": {
      "text/plain": [
       "array([6, 7, 8, 9])"
      ]
     },
     "execution_count": 15,
     "metadata": {},
     "output_type": "execute_result"
    }
   ],
   "source": [
    "# 인덱스로 뽑는거 여러개에 지정 가능 ~ \n",
    "\n",
    "indexes= np.array([5,6,7,8])\n",
    "\n",
    "ar3= ar1[indexes]\n",
    "ar3"
   ]
  },
  {
   "cell_type": "code",
   "execution_count": 18,
   "id": "c7953ba0",
   "metadata": {},
   "outputs": [
    {
     "data": {
      "text/plain": [
       "array([11, 12, 13, 14])"
      ]
     },
     "execution_count": 18,
     "metadata": {},
     "output_type": "execute_result"
    }
   ],
   "source": [
    "# Q. 1~14까지 ndarray를 만들어 array_e로 저장하고 (array_e/2)>5를\n",
    "# 불린 인덱스로 출력 \n",
    "\n",
    "array_e= np.arange(1,15)\n",
    "array_e[(array_e/2)>5]"
   ]
  },
  {
   "cell_type": "code",
   "execution_count": 20,
   "id": "1676d782",
   "metadata": {},
   "outputs": [
    {
     "name": "stdout",
     "output_type": "stream",
     "text": [
      "['Bob' 'Joe' 'Will' 'Bob' 'will' 'Joe' 'Joe'] \n",
      "\n",
      "[[ 0.29750201 -0.19243254 -1.99226187 -0.90035361]\n",
      " [-1.98418216  0.75747963 -1.18822405 -0.47336735]\n",
      " [-1.74792374  1.47608594  0.11398537  0.36699078]\n",
      " [-0.69709001  0.29995741 -1.75094768 -1.03865375]\n",
      " [-1.10799141 -1.52141506 -0.28469683 -0.3566064 ]\n",
      " [ 0.88863398 -0.99676969 -2.05947512 -0.63945636]\n",
      " [-0.41427454 -0.0583499  -0.21019093 -0.39319674]]\n"
     ]
    }
   ],
   "source": [
    "names=np.array(['Bob','Joe','Will','Bob','will','Joe','Joe'])\n",
    "data= np.random.randn(7,4)\n",
    "print(names,'\\n')\n",
    "print(data)"
   ]
  },
  {
   "cell_type": "code",
   "execution_count": 22,
   "id": "05765b3f",
   "metadata": {},
   "outputs": [
    {
     "data": {
      "text/plain": [
       "array([ True, False, False,  True, False, False, False])"
      ]
     },
     "execution_count": 22,
     "metadata": {},
     "output_type": "execute_result"
    }
   ],
   "source": [
    "names =='Bob'"
   ]
  },
  {
   "cell_type": "code",
   "execution_count": 23,
   "id": "d1972340",
   "metadata": {},
   "outputs": [
    {
     "data": {
      "text/plain": [
       "array([[ 0.29750201, -0.19243254, -1.99226187, -0.90035361],\n",
       "       [-0.69709001,  0.29995741, -1.75094768, -1.03865375]])"
      ]
     },
     "execution_count": 23,
     "metadata": {},
     "output_type": "execute_result"
    }
   ],
   "source": [
    "data[names=='Bob']\n",
    "\n",
    "# data에서 True에 해당하는 인덱스 행만 나옴 "
   ]
  },
  {
   "cell_type": "code",
   "execution_count": 24,
   "id": "1dacd228",
   "metadata": {},
   "outputs": [
    {
     "data": {
      "text/plain": [
       "array([[-1.98418216,  0.75747963, -1.18822405, -0.47336735],\n",
       "       [-1.74792374,  1.47608594,  0.11398537,  0.36699078],\n",
       "       [-1.10799141, -1.52141506, -0.28469683, -0.3566064 ],\n",
       "       [ 0.88863398, -0.99676969, -2.05947512, -0.63945636],\n",
       "       [-0.41427454, -0.0583499 , -0.21019093, -0.39319674]])"
      ]
     },
     "execution_count": 24,
     "metadata": {},
     "output_type": "execute_result"
    }
   ],
   "source": [
    "data[names!='Bob']"
   ]
  },
  {
   "cell_type": "code",
   "execution_count": 27,
   "id": "3f607e5b",
   "metadata": {},
   "outputs": [
    {
     "data": {
      "text/plain": [
       "array([[-1.99226187, -0.90035361],\n",
       "       [-1.75094768, -1.03865375]])"
      ]
     },
     "execution_count": 27,
     "metadata": {},
     "output_type": "execute_result"
    }
   ],
   "source": [
    "data[names=='Bob',2:]"
   ]
  },
  {
   "cell_type": "code",
   "execution_count": 28,
   "id": "26c87a41",
   "metadata": {},
   "outputs": [
    {
     "data": {
      "text/plain": [
       "array([[ 0.29750201, -0.19243254, -1.99226187, -0.90035361],\n",
       "       [-1.74792374,  1.47608594,  0.11398537,  0.36699078],\n",
       "       [-0.69709001,  0.29995741, -1.75094768, -1.03865375]])"
      ]
     },
     "execution_count": 28,
     "metadata": {},
     "output_type": "execute_result"
    }
   ],
   "source": [
    "mask= (names=='Bob')|(names=='Will')\n",
    "\n",
    "data[mask]"
   ]
  },
  {
   "cell_type": "code",
   "execution_count": 29,
   "id": "a54e2e09",
   "metadata": {},
   "outputs": [
    {
     "data": {
      "text/plain": [
       "array([[0.29750201, 0.        , 0.        , 0.        ],\n",
       "       [0.        , 0.75747963, 0.        , 0.        ],\n",
       "       [0.        , 1.47608594, 0.11398537, 0.36699078],\n",
       "       [0.        , 0.29995741, 0.        , 0.        ],\n",
       "       [0.        , 0.        , 0.        , 0.        ],\n",
       "       [0.88863398, 0.        , 0.        , 0.        ],\n",
       "       [0.        , 0.        , 0.        , 0.        ]])"
      ]
     },
     "execution_count": 29,
     "metadata": {},
     "output_type": "execute_result"
    }
   ],
   "source": [
    "data[data<0]=0\n",
    "data"
   ]
  },
  {
   "cell_type": "code",
   "execution_count": 31,
   "id": "43dc751d",
   "metadata": {},
   "outputs": [
    {
     "data": {
      "text/plain": [
       "array([[7.        , 7.        , 7.        , 7.        ],\n",
       "       [0.        , 0.75747963, 0.        , 0.        ],\n",
       "       [7.        , 7.        , 7.        , 7.        ],\n",
       "       [7.        , 7.        , 7.        , 7.        ],\n",
       "       [7.        , 7.        , 7.        , 7.        ],\n",
       "       [0.88863398, 0.        , 0.        , 0.        ],\n",
       "       [0.        , 0.        , 0.        , 0.        ]])"
      ]
     },
     "execution_count": 31,
     "metadata": {},
     "output_type": "execute_result"
    }
   ],
   "source": [
    "data[(names!='Joe')]=7\n",
    "data"
   ]
  },
  {
   "cell_type": "code",
   "execution_count": 32,
   "id": "68d14e21",
   "metadata": {},
   "outputs": [
    {
     "data": {
      "text/plain": [
       "array([[ 0,  1,  2,  3,  4],\n",
       "       [ 5,  6,  7,  8,  9],\n",
       "       [10, 11, 12, 13, 14]])"
      ]
     },
     "execution_count": 32,
     "metadata": {},
     "output_type": "execute_result"
    }
   ],
   "source": [
    "# 배열 전치와 축 바꾸기\n",
    "ar= np.arange(15).reshape(3,5)\n",
    "ar"
   ]
  },
  {
   "cell_type": "code",
   "execution_count": 35,
   "id": "191188e8",
   "metadata": {},
   "outputs": [
    {
     "data": {
      "text/plain": [
       "array([[ 0,  5, 10],\n",
       "       [ 1,  6, 11],\n",
       "       [ 2,  7, 12],\n",
       "       [ 3,  8, 13],\n",
       "       [ 4,  9, 14]])"
      ]
     },
     "execution_count": 35,
     "metadata": {},
     "output_type": "execute_result"
    }
   ],
   "source": [
    "ar_t= ar.T\n",
    "ar_t"
   ]
  },
  {
   "cell_type": "code",
   "execution_count": 36,
   "id": "6585d538",
   "metadata": {},
   "outputs": [
    {
     "data": {
      "text/plain": [
       "array([[ 0,  1,  2,  3,  4],\n",
       "       [ 5,  6,  7,  8,  9],\n",
       "       [10, 11, 12, 13, 14]])"
      ]
     },
     "execution_count": 36,
     "metadata": {},
     "output_type": "execute_result"
    }
   ],
   "source": [
    "ar=ar_t.T\n",
    "ar"
   ]
  },
  {
   "cell_type": "code",
   "execution_count": 37,
   "id": "04221ec5",
   "metadata": {},
   "outputs": [
    {
     "data": {
      "text/plain": [
       "array([[ 1.76405235,  0.40015721,  0.97873798],\n",
       "       [ 2.2408932 ,  1.86755799, -0.97727788],\n",
       "       [ 0.95008842, -0.15135721, -0.10321885],\n",
       "       [ 0.4105985 ,  0.14404357,  1.45427351],\n",
       "       [ 0.76103773,  0.12167502,  0.44386323],\n",
       "       [ 0.33367433,  1.49407907, -0.20515826]])"
      ]
     },
     "execution_count": 37,
     "metadata": {},
     "output_type": "execute_result"
    }
   ],
   "source": [
    "# np.random.randn(m,n) :평균0 표준편차1인 표준정규분포 난수 matrix(m,n)난수 생성\n",
    "\n",
    "np.random.seed(0)\n",
    "arr= np.random.randn(6,3)\n",
    "arr"
   ]
  },
  {
   "cell_type": "code",
   "execution_count": 39,
   "id": "4347da9c",
   "metadata": {},
   "outputs": [
    {
     "data": {
      "text/plain": [
       "array([ 3,  6,  9, 12, 15, 18, 21, 24, 27, 30, 33, 36, 39, 42, 45, 48, 51,\n",
       "       54, 57, 60, 63, 66, 69, 72, 75, 78, 81, 84, 87, 90, 93, 96, 99])"
      ]
     },
     "execution_count": 39,
     "metadata": {},
     "output_type": "execute_result"
    }
   ],
   "source": [
    "# Q. 1~100까지 배열에서 3의 배수인 것만 출력\n",
    "ar= np.arange(1,101)\n",
    "ar3= ar[ar%3==0]\n",
    "ar3"
   ]
  },
  {
   "cell_type": "code",
   "execution_count": 40,
   "id": "64377bd1",
   "metadata": {},
   "outputs": [
    {
     "data": {
      "text/plain": [
       "array([  3,   5,   6,   9,  10,  12,  15,  18,  20,  21,  24,  25,  27,\n",
       "        30,  33,  35,  36,  39,  40,  42,  45,  48,  50,  51,  54,  55,\n",
       "        57,  60,  63,  65,  66,  69,  70,  72,  75,  78,  80,  81,  84,\n",
       "        85,  87,  90,  93,  95,  96,  99, 100])"
      ]
     },
     "execution_count": 40,
     "metadata": {},
     "output_type": "execute_result"
    }
   ],
   "source": [
    "#. Q. 1~100까지 배열에서 3의 배수이거나 5의 배수인 것만을 출력 \n",
    "ar= np.arange(1,101)\n",
    "ar35= ar[(ar%3==0)|(ar%5==0)]\n",
    "ar35"
   ]
  },
  {
   "cell_type": "code",
   "execution_count": 41,
   "id": "2afa1e7c",
   "metadata": {},
   "outputs": [
    {
     "data": {
      "text/plain": [
       "array([[ 0.3130677 , -0.85409574, -2.55298982,  0.6536186 ],\n",
       "       [ 0.8644362 , -0.74216502,  2.26975462, -1.45436567],\n",
       "       [ 0.04575852, -0.18718385,  1.53277921,  1.46935877],\n",
       "       [ 0.15494743,  0.37816252, -0.88778575, -1.98079647],\n",
       "       [-0.34791215,  0.15634897,  1.23029068,  1.20237985]])"
      ]
     },
     "execution_count": 41,
     "metadata": {},
     "output_type": "execute_result"
    }
   ],
   "source": [
    "ar= np.random.randn(5,4)\n",
    "ar"
   ]
  },
  {
   "cell_type": "code",
   "execution_count": 42,
   "id": "6f3cf54a",
   "metadata": {},
   "outputs": [
    {
     "data": {
      "text/plain": [
       "0.06318043000333648"
      ]
     },
     "execution_count": 42,
     "metadata": {},
     "output_type": "execute_result"
    }
   ],
   "source": [
    "ar.mean()"
   ]
  },
  {
   "cell_type": "code",
   "execution_count": 43,
   "id": "7a8a3dd6",
   "metadata": {},
   "outputs": [
    {
     "data": {
      "text/plain": [
       "0.0632"
      ]
     },
     "execution_count": 43,
     "metadata": {},
     "output_type": "execute_result"
    }
   ],
   "source": [
    "round(ar.mean(),4)"
   ]
  },
  {
   "cell_type": "code",
   "execution_count": 45,
   "id": "75d4d521",
   "metadata": {},
   "outputs": [
    {
     "data": {
      "text/plain": [
       "1.2636"
      ]
     },
     "execution_count": 45,
     "metadata": {},
     "output_type": "execute_result"
    }
   ],
   "source": [
    "ar.sum().round(4)"
   ]
  },
  {
   "cell_type": "code",
   "execution_count": 49,
   "id": "3b8d1094",
   "metadata": {},
   "outputs": [
    {
     "name": "stdout",
     "output_type": "stream",
     "text": [
      "[1 2 3 4 5 6 7 8] \n",
      "\n"
     ]
    },
    {
     "data": {
      "text/plain": [
       "array([ 1,  3,  6, 10, 15, 21, 28, 36], dtype=int32)"
      ]
     },
     "execution_count": 49,
     "metadata": {},
     "output_type": "execute_result"
    }
   ],
   "source": [
    "# cumsum = 누적합계 \n",
    "ar= np.arange(1,9)\n",
    "print(ar,'\\n')\n",
    "ar.cumsum()\n"
   ]
  },
  {
   "cell_type": "code",
   "execution_count": 50,
   "id": "e82be48d",
   "metadata": {},
   "outputs": [
    {
     "data": {
      "text/plain": [
       "array([[0, 1, 2],\n",
       "       [3, 4, 5],\n",
       "       [6, 7, 8]])"
      ]
     },
     "execution_count": 50,
     "metadata": {},
     "output_type": "execute_result"
    }
   ],
   "source": [
    "ar1= np.arange(9).reshape(3,3)\n",
    "ar1"
   ]
  },
  {
   "cell_type": "code",
   "execution_count": 52,
   "id": "0759aa2d",
   "metadata": {},
   "outputs": [
    {
     "data": {
      "text/plain": [
       "array([ 1,  3,  6, 10, 15, 21, 28, 36, 45], dtype=int32)"
      ]
     },
     "execution_count": 52,
     "metadata": {},
     "output_type": "execute_result"
    }
   ],
   "source": [
    "ar1.cumsum(axis=0) # 행쪽으로 누적"
   ]
  },
  {
   "cell_type": "code",
   "execution_count": 54,
   "id": "a0177499",
   "metadata": {},
   "outputs": [
    {
     "ename": "AxisError",
     "evalue": "axis 1 is out of bounds for array of dimension 1",
     "output_type": "error",
     "traceback": [
      "\u001b[1;31m---------------------------------------------------------------------------\u001b[0m",
      "\u001b[1;31mAxisError\u001b[0m                                 Traceback (most recent call last)",
      "\u001b[1;32m<ipython-input-54-687e25359dda>\u001b[0m in \u001b[0;36m<module>\u001b[1;34m\u001b[0m\n\u001b[1;32m----> 1\u001b[1;33m \u001b[0mar1\u001b[0m\u001b[1;33m.\u001b[0m\u001b[0mcumsum\u001b[0m\u001b[1;33m(\u001b[0m\u001b[0maxis\u001b[0m\u001b[1;33m=\u001b[0m\u001b[1;36m1\u001b[0m\u001b[1;33m)\u001b[0m \u001b[1;31m# 열쪽으로 누적\u001b[0m\u001b[1;33m\u001b[0m\u001b[1;33m\u001b[0m\u001b[0m\n\u001b[0m",
      "\u001b[1;31mAxisError\u001b[0m: axis 1 is out of bounds for array of dimension 1"
     ]
    }
   ],
   "source": [
    "ar1.cumsum(axis=1) # 열쪽으로 누적"
   ]
  },
  {
   "cell_type": "code",
   "execution_count": 55,
   "id": "ef501819",
   "metadata": {},
   "outputs": [
    {
     "name": "stdout",
     "output_type": "stream",
     "text": [
      "[-0.38732682 -0.30230275 -1.04855297 -1.42001794 -1.70627019  1.9507754\n",
      " -0.50965218 -0.4380743  -1.25279536  0.77749036] \n",
      "\n"
     ]
    },
    {
     "data": {
      "text/plain": [
       "2"
      ]
     },
     "execution_count": 55,
     "metadata": {},
     "output_type": "execute_result"
    }
   ],
   "source": [
    "ar= np.random.randn(10)\n",
    "print(ar,'\\n')\n",
    "\n",
    "#양수인 원소의 개수 \n",
    "(ar>0).sum()"
   ]
  },
  {
   "cell_type": "code",
   "execution_count": 56,
   "id": "f85b90cb",
   "metadata": {},
   "outputs": [
    {
     "data": {
      "text/plain": [
       "2"
      ]
     },
     "execution_count": 56,
     "metadata": {},
     "output_type": "execute_result"
    }
   ],
   "source": [
    "len(ar[ar>0])"
   ]
  },
  {
   "cell_type": "code",
   "execution_count": 57,
   "id": "9aa44225",
   "metadata": {},
   "outputs": [
    {
     "data": {
      "text/plain": [
       "True"
      ]
     },
     "execution_count": 57,
     "metadata": {},
     "output_type": "execute_result"
    }
   ],
   "source": [
    "bools= np.array([False,False, True,True])\n",
    "bools.any()"
   ]
  },
  {
   "cell_type": "code",
   "execution_count": 58,
   "id": "0f8cda75",
   "metadata": {},
   "outputs": [
    {
     "data": {
      "text/plain": [
       "False"
      ]
     },
     "execution_count": 58,
     "metadata": {},
     "output_type": "execute_result"
    }
   ],
   "source": [
    "bools.all()"
   ]
  },
  {
   "cell_type": "code",
   "execution_count": 59,
   "id": "90ff07f5",
   "metadata": {},
   "outputs": [
    {
     "name": "stdout",
     "output_type": "stream",
     "text": [
      "[[0.46631077 0.24442559 0.15896958 0.11037514]\n",
      " [0.65632959 0.13818295 0.19658236 0.36872517]\n",
      " [0.82099323 0.09710128 0.83794491 0.09609841]\n",
      " [0.97645947 0.4686512  0.97676109 0.60484552]]\n"
     ]
    }
   ],
   "source": [
    "# 삼항식의 백터화 버전\n",
    "ar= np.random.rand(4,4)\n",
    "print(ar)"
   ]
  },
  {
   "cell_type": "code",
   "execution_count": null,
   "id": "f58f963b",
   "metadata": {},
   "outputs": [],
   "source": [
    "np,where(ar>0,2,-2) # 0보다 크면 2, 크지않으면 -2 ㅜ"
   ]
  },
  {
   "cell_type": "code",
   "execution_count": 60,
   "id": "78b026d4",
   "metadata": {},
   "outputs": [
    {
     "data": {
      "text/plain": [
       "array([[2., 2., 2., 2.],\n",
       "       [2., 2., 2., 2.],\n",
       "       [2., 2., 2., 2.],\n",
       "       [2., 2., 2., 2.]])"
      ]
     },
     "execution_count": 60,
     "metadata": {},
     "output_type": "execute_result"
    }
   ],
   "source": [
    "# Q. ar에서 모든양수를 2로 바꾼 뒤 출력 \n",
    "np.where(ar>0,2,ar)\n"
   ]
  },
  {
   "cell_type": "code",
   "execution_count": 62,
   "id": "849bcbfc",
   "metadata": {},
   "outputs": [
    {
     "name": "stdout",
     "output_type": "stream",
     "text": [
      "[[0.46631077 0.24442559 0.15896958 0.11037514]\n",
      " [0.65632959 0.13818295 0.19658236 0.36872517]\n",
      " [0.82099323 0.09710128 0.83794491 0.09609841]\n",
      " [0.97645947 0.4686512  0.97676109 0.60484552]] \n",
      "\n",
      "[[0.11037514 0.15896958 0.24442559 0.46631077]\n",
      " [0.13818295 0.19658236 0.36872517 0.65632959]\n",
      " [0.09609841 0.09710128 0.82099323 0.83794491]\n",
      " [0.4686512  0.60484552 0.97645947 0.97676109]]\n"
     ]
    },
    {
     "data": {
      "text/plain": [
       "array([[0.46631077, 0.24442559, 0.15896958, 0.11037514],\n",
       "       [0.65632959, 0.13818295, 0.19658236, 0.36872517],\n",
       "       [0.82099323, 0.09710128, 0.83794491, 0.09609841],\n",
       "       [0.97645947, 0.4686512 , 0.97676109, 0.60484552]])"
      ]
     },
     "execution_count": 62,
     "metadata": {},
     "output_type": "execute_result"
    }
   ],
   "source": [
    "# np.sort()\n",
    "np.random.randn(5)\n",
    "print(ar,'\\n')\n",
    "print(np.sort(ar))\n",
    "ar"
   ]
  },
  {
   "cell_type": "code",
   "execution_count": 70,
   "id": "61ca0c65",
   "metadata": {},
   "outputs": [
    {
     "name": "stdout",
     "output_type": "stream",
     "text": [
      "[[ 7 12]\n",
      " [ 8 12]] \n",
      "\n",
      "[[ 8 12]\n",
      " [ 7 12]]\n"
     ]
    }
   ],
   "source": [
    "# 행렬이 차원 ,이상일 경우 axis축 값 설정을통해 \n",
    "ar= np.array([[8,12],\n",
    "            [7,12]])\n",
    "sort_sr2_s0= np.sort(ar,axis=0)\n",
    "print(sort_sr2_s0,'\\n')\n",
    "sort_sr2_al= np.sort(ar,axis=1)\n",
    "print(sort_sr2_al)"
   ]
  },
  {
   "cell_type": "code",
   "execution_count": 78,
   "id": "574e4c32",
   "metadata": {},
   "outputs": [
    {
     "name": "stdout",
     "output_type": "stream",
     "text": [
      "[-0.67433266  0.03183056 -0.63584608  0.67643329  0.57659082 -0.20829876] \n",
      "\n",
      "[-0.67433266 -0.63584608 -0.20829876  0.03183056  0.57659082  0.67643329]\n"
     ]
    }
   ],
   "source": [
    "# ndarray.sort() : 원본반영\n",
    "ar= np.random.randn(6)\n",
    "print(ar,'\\n')\n",
    "ar.sort()\n",
    "print(ar)\n"
   ]
  },
  {
   "cell_type": "code",
   "execution_count": 80,
   "id": "d0a943c7",
   "metadata": {},
   "outputs": [
    {
     "name": "stdout",
     "output_type": "stream",
     "text": [
      "[[-0.82643854 -0.09845252 -0.66347829]\n",
      " [ 1.12663592 -1.07993151 -1.14746865]\n",
      " [-0.43782004 -0.49803245  1.92953205]\n",
      " [ 0.94942081  0.08755124 -1.22543552]\n",
      " [ 0.84436298 -1.00021535 -1.5447711 ]] \n",
      "\n",
      "[[-0.82643854 -1.07993151 -1.5447711 ]\n",
      " [-0.43782004 -1.00021535 -1.22543552]\n",
      " [ 0.84436298 -0.49803245 -1.14746865]\n",
      " [ 0.94942081 -0.09845252 -0.66347829]\n",
      " [ 1.12663592  0.08755124  1.92953205]]\n",
      "[[-1.5447711  -1.07993151 -0.82643854]\n",
      " [-1.22543552 -1.00021535 -0.43782004]\n",
      " [-1.14746865 -0.49803245  0.84436298]\n",
      " [-0.66347829 -0.09845252  0.94942081]\n",
      " [ 0.08755124  1.12663592  1.92953205]]\n"
     ]
    }
   ],
   "source": [
    "ar2= np.random.randn(5,3)\n",
    "print(ar2,'\\n')\n",
    "ar2.sort(0) #행방향으로 오름차순 \n",
    "print(ar2)\n",
    "ar2.sort()\n",
    "print(ar2)"
   ]
  },
  {
   "cell_type": "code",
   "execution_count": 81,
   "id": "45fc76a4",
   "metadata": {},
   "outputs": [
    {
     "data": {
      "text/plain": [
       "array([1, 2, 3])"
      ]
     },
     "execution_count": 81,
     "metadata": {},
     "output_type": "execute_result"
    }
   ],
   "source": [
    "ar= np.array([3,3,2,2,1,1])\n",
    "np.unique(ar)"
   ]
  },
  {
   "cell_type": "code",
   "execution_count": 84,
   "id": "52d73b99",
   "metadata": {},
   "outputs": [
    {
     "data": {
      "text/plain": [
       "array([ True, False, False,  True,  True, False,  True])"
      ]
     },
     "execution_count": 84,
     "metadata": {},
     "output_type": "execute_result"
    }
   ],
   "source": [
    "values=np.array([6,0,0,3,2,5,6])\n",
    "np.in1d(values,[2,3,6])"
   ]
  },
  {
   "cell_type": "code",
   "execution_count": 85,
   "id": "912ecad5",
   "metadata": {},
   "outputs": [
    {
     "data": {
      "text/plain": [
       "array([0, 1, 2, 3, 4, 5, 6, 7, 8, 9])"
      ]
     },
     "execution_count": 85,
     "metadata": {},
     "output_type": "execute_result"
    }
   ],
   "source": [
    " # 배열 데이터의 입출력: np.save, np.load . npy 형식 \n",
    "    # numpy 폴더에 저장됨!..!!! 신기하다 \n",
    "\n",
    "arr=np.arange(10)\n",
    "np.save('some_array',arr)\n",
    "np.load('some_array.npy')"
   ]
  },
  {
   "cell_type": "markdown",
   "id": "d88d6a13",
   "metadata": {},
   "source": [
    "선형대수 \n",
    "\n",
    "<img src='./dataset/내적.jpg' STYLE='width:800px;'>\n",
    "\n",
    "벡터 a를 벡터 b와 같은 방향의 성분과 그렇지 않은 성분으로 분해한다고 할 때 $|a|cosθ$의 길이는 벡터 b와 같은 방향의 성분 길이와 같다.  \n",
    "\n",
    "벡터 a와 b의 내적은 벡터 b의 길이와 벡터 a에서 벡터 b와 같은 방향의 성분 길이를 곱한 것이다.\n",
    "\n",
    "- 행렬 내적은 행렬 곱이며 두 행렬 A와 B의 내적은 np.dot()을 이용해 계산이 가능\n",
    "- 행렬 내적의 특성으로 왼쪽 행렬의 열개수와 오른쪽 행렬의 행개수가 동일해야 내적 연산 가능\n"
   ]
  },
  {
   "cell_type": "code",
   "execution_count": 92,
   "id": "10f9cb78",
   "metadata": {},
   "outputs": [
    {
     "name": "stdout",
     "output_type": "stream",
     "text": [
      "[[1 2 3]\n",
      " [4 5 6]] \n",
      "\n",
      "[[ 6. 23.]\n",
      " [-1.  7.]\n",
      " [ 8.  9.]] \n",
      "\n"
     ]
    },
    {
     "data": {
      "text/plain": [
       "array([[ 28.,  64.],\n",
       "       [ 67., 181.]])"
      ]
     },
     "execution_count": 92,
     "metadata": {},
     "output_type": "execute_result"
    }
   ],
   "source": [
    "# 행렬곱 : x.dot(y), np.dot(x,y)\n",
    "\n",
    "x= np.arange(1,7).reshape(2,3)\n",
    "y= np.array([[6.,23],[-1,7],[8,9]])\n",
    "print(x,'\\n')\n",
    "print(y,'\\n')\n",
    "\n",
    "np.dot(x,y)"
   ]
  },
  {
   "cell_type": "markdown",
   "id": "ffcd3aec",
   "metadata": {},
   "source": [
    "<img src='./dataset/행렬곱.jpg' STYLE='width:800px;'>"
   ]
  },
  {
   "cell_type": "code",
   "execution_count": 94,
   "id": "584cd35c",
   "metadata": {},
   "outputs": [
    {
     "data": {
      "text/plain": [
       "array([[1, 2, 1],\n",
       "       [2, 2, 3],\n",
       "       [1, 3, 1]])"
      ]
     },
     "execution_count": 94,
     "metadata": {},
     "output_type": "execute_result"
    }
   ],
   "source": [
    "# 역행렬: 어떤 행렬 A와 곱했을 때 곱셈에 대한 항등원인 단위행렬 E가\n",
    "# 나오는 행렬을 행렬A의 역행렬이라고 한다. \n",
    "\n",
    "np.random.seed(0)\n",
    "mt1= np.random.randint(1,4,size=(3,3))\n",
    "mt1\n"
   ]
  },
  {
   "cell_type": "code",
   "execution_count": 95,
   "id": "d2a12cff",
   "metadata": {},
   "outputs": [
    {
     "data": {
      "text/plain": [
       "array([[ 7., -1., -4.],\n",
       "       [-1.,  0.,  1.],\n",
       "       [-4.,  1.,  2.]])"
      ]
     },
     "execution_count": 95,
     "metadata": {},
     "output_type": "execute_result"
    }
   ],
   "source": [
    "# 역행렬 만들기 np.linalg.inv()\n",
    "\n",
    "mt2= np.linalg.inv(mt1)\n",
    "mt2"
   ]
  },
  {
   "cell_type": "code",
   "execution_count": 96,
   "id": "e62ae7d8",
   "metadata": {
    "scrolled": true
   },
   "outputs": [
    {
     "data": {
      "text/plain": [
       "array([[1., 0., 0.],\n",
       "       [0., 1., 0.],\n",
       "       [0., 0., 1.]])"
      ]
     },
     "execution_count": 96,
     "metadata": {},
     "output_type": "execute_result"
    }
   ],
   "source": [
    "np.dot(mt1,mt2)"
   ]
  },
  {
   "cell_type": "code",
   "execution_count": 98,
   "id": "8fe7c251",
   "metadata": {},
   "outputs": [
    {
     "data": {
      "text/plain": [
       "array([[ 76,  82],\n",
       "       [184, 199]])"
      ]
     },
     "execution_count": 98,
     "metadata": {},
     "output_type": "execute_result"
    }
   ],
   "source": [
    "# Q. 아래 두행렬을 np.arange, reshape를 이용해서 생성\n",
    "# 각각 a1, b1 으로 저장하고 행렬 내적을 계산한 결과를 출력하세요.\n",
    "\n",
    "\n",
    "a1= np.arange(1,7).reshape(2,3)\n",
    "b1= np.arange(10,16).reshape(3,2)\n",
    "\n",
    "a1.dot(b1)"
   ]
  },
  {
   "cell_type": "code",
   "execution_count": null,
   "id": "a35aec59",
   "metadata": {},
   "outputs": [],
   "source": []
  },
  {
   "cell_type": "code",
   "execution_count": null,
   "id": "a5b0a854",
   "metadata": {},
   "outputs": [],
   "source": [
    "arrange\n",
    "01,\n",
    "매출액 비교 칼럼만들기 - 종속변수ㅇ.ㅇ.....\n",
    "\n"
   ]
  },
  {
   "cell_type": "code",
   "execution_count": null,
   "id": "3dbd7166",
   "metadata": {},
   "outputs": [],
   "source": []
  }
 ],
 "metadata": {
  "kernelspec": {
   "display_name": "Python 3",
   "language": "python",
   "name": "python3"
  },
  "language_info": {
   "codemirror_mode": {
    "name": "ipython",
    "version": 3
   },
   "file_extension": ".py",
   "mimetype": "text/x-python",
   "name": "python",
   "nbconvert_exporter": "python",
   "pygments_lexer": "ipython3",
   "version": "3.8.10"
  }
 },
 "nbformat": 4,
 "nbformat_minor": 5
}

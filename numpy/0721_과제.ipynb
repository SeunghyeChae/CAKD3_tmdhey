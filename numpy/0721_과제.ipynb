{
 "cells": [
  {
   "cell_type": "code",
   "execution_count": 2,
   "id": "9cceba53",
   "metadata": {},
   "outputs": [
    {
     "data": {
      "text/plain": [
       "array([[1, 2, 3],\n",
       "       [4, 5, 6],\n",
       "       [7, 8, 9]])"
      ]
     },
     "execution_count": 2,
     "metadata": {},
     "output_type": "execute_result"
    }
   ],
   "source": [
    "import numpy as np\n",
    "# 과제\n",
    "ar2 = np.arange(1,10).reshape(3,3)\n",
    "ar2\n",
    "\n",
    "\n",
    "# Q. ar2에서 슬라이싱을 사용해서 아래와 같이 출력하세요 \n",
    "# [[1 2]\n",
    "#  [4 5]]\n",
    "\n",
    "# (2가지 방법)\n",
    "# [[4 5 6]\n",
    "# [7 8 9]]\n",
    "\n",
    "# [[1 2 3]\n",
    "# [4 5 6]\n",
    "# [7 8 9]]\n",
    "\n",
    "# [[2 3]\n",
    "# [5 6]]\n",
    "\n",
    "# [1 4]"
   ]
  },
  {
   "cell_type": "code",
   "execution_count": 3,
   "id": "1d2e1a3f",
   "metadata": {},
   "outputs": [
    {
     "data": {
      "text/plain": [
       "array([[1, 2],\n",
       "       [4, 5]])"
      ]
     },
     "execution_count": 3,
     "metadata": {},
     "output_type": "execute_result"
    }
   ],
   "source": [
    "# 1\n",
    "ar2[:2,:2]  # 행// 열"
   ]
  },
  {
   "cell_type": "code",
   "execution_count": 4,
   "id": "5e7dda4b",
   "metadata": {},
   "outputs": [
    {
     "data": {
      "text/plain": [
       "array([[4, 5, 6],\n",
       "       [7, 8, 9]])"
      ]
     },
     "execution_count": 4,
     "metadata": {},
     "output_type": "execute_result"
    }
   ],
   "source": [
    "# 2-1\n",
    "ar2[1:3,:3]"
   ]
  },
  {
   "cell_type": "code",
   "execution_count": 5,
   "id": "8c781d26",
   "metadata": {},
   "outputs": [
    {
     "data": {
      "text/plain": [
       "array([[4, 5, 6],\n",
       "       [7, 8, 9]])"
      ]
     },
     "execution_count": 5,
     "metadata": {},
     "output_type": "execute_result"
    }
   ],
   "source": [
    "#2-2\n",
    "np.array(ar2)[1:3]\n",
    "\n",
    "# print(ar2[1:,:])\n"
   ]
  },
  {
   "cell_type": "code",
   "execution_count": 6,
   "id": "1dc884a8",
   "metadata": {},
   "outputs": [
    {
     "data": {
      "text/plain": [
       "array([[4, 5, 6],\n",
       "       [7, 8, 9]])"
      ]
     },
     "execution_count": 6,
     "metadata": {},
     "output_type": "execute_result"
    }
   ],
   "source": [
    "#2-3\n",
    "ar2[np.array([1,2])]"
   ]
  },
  {
   "cell_type": "code",
   "execution_count": 7,
   "id": "534a6085",
   "metadata": {},
   "outputs": [
    {
     "data": {
      "text/plain": [
       "array([[1, 2, 3],\n",
       "       [4, 5, 6],\n",
       "       [7, 8, 9]])"
      ]
     },
     "execution_count": 7,
     "metadata": {},
     "output_type": "execute_result"
    }
   ],
   "source": [
    "#3-1\n",
    "ar2[:]"
   ]
  },
  {
   "cell_type": "code",
   "execution_count": 8,
   "id": "3b0ec32f",
   "metadata": {},
   "outputs": [
    {
     "data": {
      "text/plain": [
       "array([[1, 2, 3],\n",
       "       [4, 5, 6],\n",
       "       [7, 8, 9]])"
      ]
     },
     "execution_count": 8,
     "metadata": {},
     "output_type": "execute_result"
    }
   ],
   "source": [
    "#3-2\n",
    "np.array(ar2)[0:3]"
   ]
  },
  {
   "cell_type": "code",
   "execution_count": 9,
   "id": "8b82e52a",
   "metadata": {},
   "outputs": [
    {
     "data": {
      "text/plain": [
       "array([[1, 2, 3],\n",
       "       [4, 5, 6],\n",
       "       [7, 8, 9]])"
      ]
     },
     "execution_count": 9,
     "metadata": {},
     "output_type": "execute_result"
    }
   ],
   "source": [
    "#3-3\n",
    "ar2[np.array([0,1,2])]"
   ]
  },
  {
   "cell_type": "code",
   "execution_count": 10,
   "id": "3a3d2d0d",
   "metadata": {},
   "outputs": [
    {
     "data": {
      "text/plain": [
       "array([[1, 2, 3],\n",
       "       [4, 5, 6]])"
      ]
     },
     "execution_count": 10,
     "metadata": {},
     "output_type": "execute_result"
    }
   ],
   "source": [
    "#4-1\n",
    "ar2[:2]"
   ]
  },
  {
   "cell_type": "code",
   "execution_count": 11,
   "id": "dfa8cdbb",
   "metadata": {},
   "outputs": [
    {
     "data": {
      "text/plain": [
       "array([[1],\n",
       "       [4]])"
      ]
     },
     "execution_count": 11,
     "metadata": {},
     "output_type": "execute_result"
    }
   ],
   "source": [
    "#5 # [1 4]\n",
    "ar2[:2,:1]"
   ]
  },
  {
   "cell_type": "code",
   "execution_count": 12,
   "id": "21dc6790",
   "metadata": {},
   "outputs": [
    {
     "data": {
      "text/plain": [
       "array([1, 4])"
      ]
     },
     "execution_count": 12,
     "metadata": {},
     "output_type": "execute_result"
    }
   ],
   "source": [
    "ar2[:2,0]"
   ]
  },
  {
   "cell_type": "code",
   "execution_count": null,
   "id": "92fe2814",
   "metadata": {},
   "outputs": [],
   "source": []
  },
  {
   "cell_type": "code",
   "execution_count": null,
   "id": "4e334e13",
   "metadata": {},
   "outputs": [],
   "source": []
  }
 ],
 "metadata": {
  "kernelspec": {
   "display_name": "Python 3",
   "language": "python",
   "name": "python3"
  },
  "language_info": {
   "codemirror_mode": {
    "name": "ipython",
    "version": 3
   },
   "file_extension": ".py",
   "mimetype": "text/x-python",
   "name": "python",
   "nbconvert_exporter": "python",
   "pygments_lexer": "ipython3",
   "version": "3.8.10"
  }
 },
 "nbformat": 4,
 "nbformat_minor": 5
}

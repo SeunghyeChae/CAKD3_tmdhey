{
 "cells": [
  {
   "cell_type": "code",
   "execution_count": 1,
   "id": "555b8da5",
   "metadata": {
    "scrolled": true
   },
   "outputs": [
    {
     "data": {
      "text/plain": [
       "['강원도강릉시.csv',\n",
       " '강원도인제군.csv',\n",
       " '강원도춘천시.csv',\n",
       " '경기도가평군.csv',\n",
       " '광주광역시광산구.csv',\n",
       " '부산광역시서구.csv',\n",
       " '서울특별시강남구.csv',\n",
       " '서울특별시강동구.csv',\n",
       " '서울특별시강북구.csv',\n",
       " '서울특별시강서구.csv',\n",
       " '서울특별시관악구.csv',\n",
       " '서울특별시광진구.csv',\n",
       " '서울특별시구로구.csv',\n",
       " '서울특별시금천구.csv',\n",
       " '서울특별시노원구.csv',\n",
       " '서울특별시도봉구.csv',\n",
       " '서울특별시동대문구.csv',\n",
       " '서울특별시동작구.csv',\n",
       " '서울특별시마포구.csv',\n",
       " '서울특별시서대문구.csv',\n",
       " '서울특별시서초구.csv',\n",
       " '서울특별시성동구.csv',\n",
       " '서울특별시성북구.csv',\n",
       " '서울특별시송파구.csv',\n",
       " '서울특별시양천구.csv',\n",
       " '서울특별시영등포구.csv',\n",
       " '서울특별시용산구.csv',\n",
       " '서울특별시은평구.csv',\n",
       " '서울특별시종로구.csv',\n",
       " '서울특별시중구.csv',\n",
       " '서울특별시중랑구.csv',\n",
       " '전라남도신안군.csv',\n",
       " '전라북도고창군.csv',\n",
       " '전라북도무주군.csv',\n",
       " '전라북도정읍시.csv',\n",
       " '충청남도아산시.csv',\n",
       " '충청북도진천군.csv']"
      ]
     },
     "execution_count": 1,
     "metadata": {},
     "output_type": "execute_result"
    }
   ],
   "source": [
    "import os\n",
    "import pandas as pd\n",
    "\n",
    "path = '전처리완료dataset/re/'\n",
    "file_list = os.listdir(path)\n",
    "file_list_py = [file for file in file_list if file.endswith('.csv')]\n",
    "df = pd.DataFrame()\n",
    "for i in file_list_py:\n",
    "    data = pd.read_csv(path + '/'+ i)\n",
    "    df = pd.concat([df,data])\n",
    "    \n",
    "df = df.reset_index(drop = True)\n",
    "\n",
    "시도명 = (df['시도명'].unique()).tolist()\n",
    "시군구명 = (df['시군구명'].unique()).tolist()\n",
    "\n",
    "df[['시군구명','읍/면/동']]\n",
    "ui = []\n",
    "for i in range(len(시군구명)):\n",
    "    for j in 시군구명:\n",
    "        ui.append([j,df[(df['시군구명']==j)]['읍/면/동'].unique().tolist()])\n",
    "        \n",
    "file_list"
   ]
  },
  {
   "cell_type": "code",
   "execution_count": 5,
   "id": "4bdddfb6",
   "metadata": {
    "scrolled": false
   },
   "outputs": [
    {
     "data": {
      "text/plain": [
       "['노원구', ['공릉동', '상계동', '월계동', '중계동', '하계동']]"
      ]
     },
     "execution_count": 5,
     "metadata": {},
     "output_type": "execute_result"
    }
   ],
   "source": [
    "dui = ui[6][1]\n",
    "\n",
    "ui[14]"
   ]
  },
  {
   "cell_type": "code",
   "execution_count": 25,
   "id": "fbe4bf43",
   "metadata": {},
   "outputs": [
    {
     "data": {
      "text/plain": [
       "list"
      ]
     },
     "execution_count": 25,
     "metadata": {},
     "output_type": "execute_result"
    }
   ],
   "source": [
    "type(강릉시ui)"
   ]
  },
  {
   "cell_type": "code",
   "execution_count": 26,
   "id": "59079429",
   "metadata": {},
   "outputs": [
    {
     "data": {
      "text/plain": [
       "['주문진읍',\n",
       " '성산면',\n",
       " '왕산면',\n",
       " '구정면',\n",
       " '강동면',\n",
       " '옥계면',\n",
       " '사천면',\n",
       " '연곡면',\n",
       " '홍제동',\n",
       " '중앙동',\n",
       " '옥천동',\n",
       " '교동',\n",
       " '포남동',\n",
       " '초당동',\n",
       " '송정동',\n",
       " '내곡동',\n",
       " '강남동',\n",
       " '성덕동',\n",
       " '경포동',\n",
       " '강문동',\n",
       " '견소동',\n",
       " '금학동',\n",
       " '난곡동',\n",
       " '남문동',\n",
       " '남항진동',\n",
       " '노암동',\n",
       " '담산동',\n",
       " '대전동',\n",
       " '두산동',\n",
       " '박월동',\n",
       " '병산동',\n",
       " '성남동',\n",
       " '신석동',\n",
       " '안현동',\n",
       " '용강동',\n",
       " '운정동',\n",
       " '유산동',\n",
       " '유천동',\n",
       " '임당동',\n",
       " '입암동',\n",
       " '저동',\n",
       " '죽헌동',\n",
       " '지변동',\n",
       " '청량동',\n",
       " '학동']"
      ]
     },
     "execution_count": 26,
     "metadata": {},
     "output_type": "execute_result"
    }
   ],
   "source": [
    "서울특별시ui"
   ]
  },
  {
   "cell_type": "code",
   "execution_count": null,
   "id": "6f56ab5d",
   "metadata": {},
   "outputs": [],
   "source": []
  }
 ],
 "metadata": {
  "kernelspec": {
   "display_name": "Python 3",
   "language": "python",
   "name": "python3"
  },
  "language_info": {
   "codemirror_mode": {
    "name": "ipython",
    "version": 3
   },
   "file_extension": ".py",
   "mimetype": "text/x-python",
   "name": "python",
   "nbconvert_exporter": "python",
   "pygments_lexer": "ipython3",
   "version": "3.8.10"
  }
 },
 "nbformat": 4,
 "nbformat_minor": 5
}

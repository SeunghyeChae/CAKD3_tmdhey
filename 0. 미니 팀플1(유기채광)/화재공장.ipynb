{
 "cells": [
  {
   "cell_type": "code",
   "execution_count": 139,
   "id": "e4573766",
   "metadata": {},
   "outputs": [
    {
     "data": {
      "text/plain": [
       "['왕십리2동',\n",
       " '마장동',\n",
       " '사근동',\n",
       " '행당1동',\n",
       " '행당2동',\n",
       " '응봉동',\n",
       " '금호1가동',\n",
       " '금호4가동',\n",
       " '성수1가1동',\n",
       " '성수1가2동',\n",
       " '성수2가1동',\n",
       " '성수2가3동',\n",
       " '송정동',\n",
       " '용답동',\n",
       " '왕십리도선동',\n",
       " '금호2.3가동',\n",
       " '옥수동']"
      ]
     },
     "execution_count": 139,
     "metadata": {},
     "output_type": "execute_result"
    }
   ],
   "source": [
    "import pandas as pd\n",
    "import numpy as np\n",
    "\n",
    "import warnings\n",
    "warnings.filterwarnings('ignore')\n",
    "\n",
    "검색할시도명 = '서울특별시'\n",
    "검색할시군구명 = '성동구'\n",
    "# 검색할시도명 = '전라북도'\n",
    "# 검색할시군구명 = '고창군'\n",
    "\n",
    "# 이거 띄어쓰기 잘해야함 '전라남도 신안군',\"\",x\n",
    "import re\n",
    "def dong(x):\n",
    "    import re\n",
    "\n",
    "    p = re.compile('[가-힣]\\S*[읍면동가]')\n",
    "\n",
    "    r = p.findall(x)\n",
    "    \n",
    "    return ''.join(r)\n",
    "\n",
    "import re\n",
    "def dong1(x):\n",
    "    import re\n",
    "\n",
    "    p = re.compile('[가-힣]\\S*[면동가]')\n",
    "\n",
    "    r = p.findall(x)\n",
    "    \n",
    "    return ''.join(r)\n",
    "\n",
    "빼올ui = 검색할시도명\n",
    "검색할구 = 검색할시군구명\n",
    "PP = pd.read_csv(f'전처리완료dataset/human/{빼올ui}.csv')\n",
    "um = PP[PP['시군구명']==검색할구]\n",
    "u1 = um['읍/면/동'].tolist()\n",
    "u1\n"
   ]
  },
  {
   "cell_type": "code",
   "execution_count": 137,
   "id": "d2c4c436",
   "metadata": {},
   "outputs": [
    {
     "ename": "IndexError",
     "evalue": "index 0 is out of bounds for axis 0 with size 0",
     "output_type": "error",
     "traceback": [
      "\u001b[1;31m---------------------------------------------------------------------------\u001b[0m",
      "\u001b[1;31mIndexError\u001b[0m                                Traceback (most recent call last)",
      "\u001b[1;32m<ipython-input-137-734c6bb4e7b1>\u001b[0m in \u001b[0;36m<module>\u001b[1;34m\u001b[0m\n\u001b[0;32m     29\u001b[0m \u001b[0mdetail\u001b[0m\u001b[1;33m[\u001b[0m\u001b[1;34m'설치유무'\u001b[0m\u001b[1;33m]\u001b[0m \u001b[1;33m=\u001b[0m \u001b[0mnp\u001b[0m\u001b[1;33m.\u001b[0m\u001b[0mnan\u001b[0m\u001b[1;33m\u001b[0m\u001b[1;33m\u001b[0m\u001b[0m\n\u001b[0;32m     30\u001b[0m \u001b[0mdetail\u001b[0m\u001b[1;33m[\u001b[0m\u001b[1;34m'시도명'\u001b[0m\u001b[1;33m]\u001b[0m \u001b[1;33m=\u001b[0m \u001b[0mdata\u001b[0m\u001b[1;33m[\u001b[0m\u001b[0mdata\u001b[0m\u001b[1;33m[\u001b[0m\u001b[1;34m'시도명'\u001b[0m\u001b[1;33m]\u001b[0m\u001b[1;33m==\u001b[0m\u001b[0m검색할시도명\u001b[0m\u001b[1;33m]\u001b[0m\u001b[1;33m[\u001b[0m\u001b[1;34m'시도명'\u001b[0m\u001b[1;33m]\u001b[0m\u001b[1;33m.\u001b[0m\u001b[0munique\u001b[0m\u001b[1;33m(\u001b[0m\u001b[1;33m)\u001b[0m\u001b[1;33m[\u001b[0m\u001b[1;36m0\u001b[0m\u001b[1;33m]\u001b[0m\u001b[1;33m\u001b[0m\u001b[1;33m\u001b[0m\u001b[0m\n\u001b[1;32m---> 31\u001b[1;33m \u001b[0mdetail\u001b[0m\u001b[1;33m[\u001b[0m\u001b[1;34m'시군구명'\u001b[0m\u001b[1;33m]\u001b[0m \u001b[1;33m=\u001b[0m \u001b[0mdata\u001b[0m\u001b[1;33m[\u001b[0m\u001b[0mdata\u001b[0m\u001b[1;33m[\u001b[0m\u001b[1;34m'시군구명'\u001b[0m\u001b[1;33m]\u001b[0m\u001b[1;33m==\u001b[0m\u001b[0m검색할시군구명\u001b[0m\u001b[1;33m]\u001b[0m\u001b[1;33m[\u001b[0m\u001b[1;34m'시군구명'\u001b[0m\u001b[1;33m]\u001b[0m\u001b[1;33m.\u001b[0m\u001b[0munique\u001b[0m\u001b[1;33m(\u001b[0m\u001b[1;33m)\u001b[0m\u001b[1;33m[\u001b[0m\u001b[1;36m0\u001b[0m\u001b[1;33m]\u001b[0m\u001b[1;33m\u001b[0m\u001b[1;33m\u001b[0m\u001b[0m\n\u001b[0m\u001b[0;32m     32\u001b[0m \u001b[1;33m\u001b[0m\u001b[0m\n\u001b[0;32m     33\u001b[0m \u001b[1;32mdef\u001b[0m \u001b[0m설치유무\u001b[0m\u001b[1;33m(\u001b[0m\u001b[0mx\u001b[0m\u001b[1;33m)\u001b[0m\u001b[1;33m:\u001b[0m\u001b[1;33m\u001b[0m\u001b[1;33m\u001b[0m\u001b[0m\n",
      "\u001b[1;31mIndexError\u001b[0m: index 0 is out of bounds for axis 0 with size 0"
     ]
    }
   ],
   "source": [
    "data = pd.read_csv('dataset/전국스마트가로등표준데이터.csv',encoding='cp949')\n",
    "\n",
    "data.isnull().sum()\n",
    "\n",
    "data.columns\n",
    "\n",
    "data['시도명'].unique()\n",
    "\n",
    "data['시도명'] = data['시도명'].replace('14','전라남도')\n",
    "\n",
    "data[data['시도명']==검색할시도명]['시군구명'].unique()\n",
    "\n",
    "data1 = data[data['시도명']==검색할시도명]\n",
    "detail_1 = data1[data1['시군구명']==검색할시군구명]\n",
    "\n",
    "\n",
    "detail_1['읍/면/동'] = detail_1['소재지지번주소'].apply(lambda x : dong(x))\n",
    "\n",
    "detail_1['설치유무'] = 1\n",
    "\n",
    "get_col = ['시도명','시군구명','소재지지번주소','읍/면/동','설치유무']\n",
    "detail_1 = detail_1[get_col]\n",
    "\n",
    "\n",
    "u2 = detail_1['읍/면/동'].unique().tolist()\n",
    "us = pd.Series(u1)\n",
    "\n",
    "detail = pd.DataFrame(us)\n",
    "detail['설치유무'] = np.nan\n",
    "detail['시도명'] = data[data['시도명']==검색할시도명]['시도명'].unique()[0]\n",
    "detail['시군구명'] = data[data['시군구명']==검색할시군구명]['시군구명'].unique()[0]\n",
    "\n",
    "def 설치유무(x):\n",
    "    y = ''\n",
    "    for i in u2 :\n",
    "        if x == i :\n",
    "            y = 1\n",
    "    return y\n",
    "\n",
    "\n",
    "detail['설치유무'].update(detail[0].apply(설치유무))\n",
    "detail['설치유무'] = detail['설치유무'].replace(\"\",0)\n",
    "detail = detail.rename(columns={0:'읍/면/동'})\n",
    "\n",
    "detail = detail[['시도명','시군구명','읍/면/동','설치유무']]\n",
    "\n",
    "detail"
   ]
  },
  {
   "cell_type": "code",
   "execution_count": 138,
   "id": "99ef78e2",
   "metadata": {
    "scrolled": false
   },
   "outputs": [
    {
     "ename": "KeyError",
     "evalue": "'시군구명'",
     "output_type": "error",
     "traceback": [
      "\u001b[1;31m---------------------------------------------------------------------------\u001b[0m",
      "\u001b[1;31mKeyError\u001b[0m                                  Traceback (most recent call last)",
      "\u001b[1;32m~\\anaconda3\\envs\\cakd3\\lib\\site-packages\\pandas\\core\\indexes\\base.py\u001b[0m in \u001b[0;36mget_loc\u001b[1;34m(self, key, method, tolerance)\u001b[0m\n\u001b[0;32m   3079\u001b[0m             \u001b[1;32mtry\u001b[0m\u001b[1;33m:\u001b[0m\u001b[1;33m\u001b[0m\u001b[1;33m\u001b[0m\u001b[0m\n\u001b[1;32m-> 3080\u001b[1;33m                 \u001b[1;32mreturn\u001b[0m \u001b[0mself\u001b[0m\u001b[1;33m.\u001b[0m\u001b[0m_engine\u001b[0m\u001b[1;33m.\u001b[0m\u001b[0mget_loc\u001b[0m\u001b[1;33m(\u001b[0m\u001b[0mcasted_key\u001b[0m\u001b[1;33m)\u001b[0m\u001b[1;33m\u001b[0m\u001b[1;33m\u001b[0m\u001b[0m\n\u001b[0m\u001b[0;32m   3081\u001b[0m             \u001b[1;32mexcept\u001b[0m \u001b[0mKeyError\u001b[0m \u001b[1;32mas\u001b[0m \u001b[0merr\u001b[0m\u001b[1;33m:\u001b[0m\u001b[1;33m\u001b[0m\u001b[1;33m\u001b[0m\u001b[0m\n",
      "\u001b[1;32mpandas\\_libs\\index.pyx\u001b[0m in \u001b[0;36mpandas._libs.index.IndexEngine.get_loc\u001b[1;34m()\u001b[0m\n",
      "\u001b[1;32mpandas\\_libs\\index.pyx\u001b[0m in \u001b[0;36mpandas._libs.index.IndexEngine.get_loc\u001b[1;34m()\u001b[0m\n",
      "\u001b[1;32mpandas\\_libs\\hashtable_class_helper.pxi\u001b[0m in \u001b[0;36mpandas._libs.hashtable.PyObjectHashTable.get_item\u001b[1;34m()\u001b[0m\n",
      "\u001b[1;32mpandas\\_libs\\hashtable_class_helper.pxi\u001b[0m in \u001b[0;36mpandas._libs.hashtable.PyObjectHashTable.get_item\u001b[1;34m()\u001b[0m\n",
      "\u001b[1;31mKeyError\u001b[0m: '시군구명'",
      "\nThe above exception was the direct cause of the following exception:\n",
      "\u001b[1;31mKeyError\u001b[0m                                  Traceback (most recent call last)",
      "\u001b[1;32m<ipython-input-138-bb671524b7b8>\u001b[0m in \u001b[0;36m<module>\u001b[1;34m\u001b[0m\n\u001b[0;32m      9\u001b[0m \u001b[1;33m\u001b[0m\u001b[0m\n\u001b[0;32m     10\u001b[0m \u001b[0mfire\u001b[0m\u001b[1;33m[\u001b[0m\u001b[1;34m'시도명'\u001b[0m\u001b[1;33m]\u001b[0m \u001b[1;33m=\u001b[0m \u001b[0mdetail\u001b[0m\u001b[1;33m[\u001b[0m\u001b[1;34m'시도명'\u001b[0m\u001b[1;33m]\u001b[0m\u001b[1;33m\u001b[0m\u001b[1;33m\u001b[0m\u001b[0m\n\u001b[1;32m---> 11\u001b[1;33m \u001b[0mfire\u001b[0m\u001b[1;33m[\u001b[0m\u001b[1;34m'시군구명'\u001b[0m\u001b[1;33m]\u001b[0m \u001b[1;33m=\u001b[0m \u001b[0mdetail\u001b[0m\u001b[1;33m[\u001b[0m\u001b[1;34m'시군구명'\u001b[0m\u001b[1;33m]\u001b[0m\u001b[1;33m\u001b[0m\u001b[1;33m\u001b[0m\u001b[0m\n\u001b[0m\u001b[0;32m     12\u001b[0m \u001b[0mfire\u001b[0m \u001b[1;33m=\u001b[0m \u001b[0mfire\u001b[0m\u001b[1;33m[\u001b[0m\u001b[1;33m[\u001b[0m\u001b[1;34m'시도명'\u001b[0m\u001b[1;33m,\u001b[0m\u001b[1;34m'시군구명'\u001b[0m\u001b[1;33m,\u001b[0m\u001b[1;34m'읍/면/동'\u001b[0m\u001b[1;33m,\u001b[0m\u001b[1;34m'화재발생횟수'\u001b[0m\u001b[1;33m]\u001b[0m\u001b[1;33m]\u001b[0m\u001b[1;33m\u001b[0m\u001b[1;33m\u001b[0m\u001b[0m\n\u001b[0;32m     13\u001b[0m \u001b[0mdf\u001b[0m \u001b[1;33m=\u001b[0m \u001b[0mpd\u001b[0m\u001b[1;33m.\u001b[0m\u001b[0mmerge\u001b[0m\u001b[1;33m(\u001b[0m\u001b[0mdetail\u001b[0m\u001b[1;33m,\u001b[0m\u001b[0mfire\u001b[0m\u001b[1;33m,\u001b[0m\u001b[0mon\u001b[0m\u001b[1;33m=\u001b[0m\u001b[1;33m[\u001b[0m\u001b[1;34m'시도명'\u001b[0m\u001b[1;33m,\u001b[0m\u001b[1;34m'시군구명'\u001b[0m\u001b[1;33m,\u001b[0m\u001b[1;34m'읍/면/동'\u001b[0m\u001b[1;33m]\u001b[0m\u001b[1;33m,\u001b[0m\u001b[0mhow\u001b[0m\u001b[1;33m=\u001b[0m\u001b[1;34m'left'\u001b[0m\u001b[1;33m)\u001b[0m\u001b[1;33m\u001b[0m\u001b[1;33m\u001b[0m\u001b[0m\n",
      "\u001b[1;32m~\\anaconda3\\envs\\cakd3\\lib\\site-packages\\pandas\\core\\frame.py\u001b[0m in \u001b[0;36m__getitem__\u001b[1;34m(self, key)\u001b[0m\n\u001b[0;32m   3022\u001b[0m             \u001b[1;32mif\u001b[0m \u001b[0mself\u001b[0m\u001b[1;33m.\u001b[0m\u001b[0mcolumns\u001b[0m\u001b[1;33m.\u001b[0m\u001b[0mnlevels\u001b[0m \u001b[1;33m>\u001b[0m \u001b[1;36m1\u001b[0m\u001b[1;33m:\u001b[0m\u001b[1;33m\u001b[0m\u001b[1;33m\u001b[0m\u001b[0m\n\u001b[0;32m   3023\u001b[0m                 \u001b[1;32mreturn\u001b[0m \u001b[0mself\u001b[0m\u001b[1;33m.\u001b[0m\u001b[0m_getitem_multilevel\u001b[0m\u001b[1;33m(\u001b[0m\u001b[0mkey\u001b[0m\u001b[1;33m)\u001b[0m\u001b[1;33m\u001b[0m\u001b[1;33m\u001b[0m\u001b[0m\n\u001b[1;32m-> 3024\u001b[1;33m             \u001b[0mindexer\u001b[0m \u001b[1;33m=\u001b[0m \u001b[0mself\u001b[0m\u001b[1;33m.\u001b[0m\u001b[0mcolumns\u001b[0m\u001b[1;33m.\u001b[0m\u001b[0mget_loc\u001b[0m\u001b[1;33m(\u001b[0m\u001b[0mkey\u001b[0m\u001b[1;33m)\u001b[0m\u001b[1;33m\u001b[0m\u001b[1;33m\u001b[0m\u001b[0m\n\u001b[0m\u001b[0;32m   3025\u001b[0m             \u001b[1;32mif\u001b[0m \u001b[0mis_integer\u001b[0m\u001b[1;33m(\u001b[0m\u001b[0mindexer\u001b[0m\u001b[1;33m)\u001b[0m\u001b[1;33m:\u001b[0m\u001b[1;33m\u001b[0m\u001b[1;33m\u001b[0m\u001b[0m\n\u001b[0;32m   3026\u001b[0m                 \u001b[0mindexer\u001b[0m \u001b[1;33m=\u001b[0m \u001b[1;33m[\u001b[0m\u001b[0mindexer\u001b[0m\u001b[1;33m]\u001b[0m\u001b[1;33m\u001b[0m\u001b[1;33m\u001b[0m\u001b[0m\n",
      "\u001b[1;32m~\\anaconda3\\envs\\cakd3\\lib\\site-packages\\pandas\\core\\indexes\\base.py\u001b[0m in \u001b[0;36mget_loc\u001b[1;34m(self, key, method, tolerance)\u001b[0m\n\u001b[0;32m   3080\u001b[0m                 \u001b[1;32mreturn\u001b[0m \u001b[0mself\u001b[0m\u001b[1;33m.\u001b[0m\u001b[0m_engine\u001b[0m\u001b[1;33m.\u001b[0m\u001b[0mget_loc\u001b[0m\u001b[1;33m(\u001b[0m\u001b[0mcasted_key\u001b[0m\u001b[1;33m)\u001b[0m\u001b[1;33m\u001b[0m\u001b[1;33m\u001b[0m\u001b[0m\n\u001b[0;32m   3081\u001b[0m             \u001b[1;32mexcept\u001b[0m \u001b[0mKeyError\u001b[0m \u001b[1;32mas\u001b[0m \u001b[0merr\u001b[0m\u001b[1;33m:\u001b[0m\u001b[1;33m\u001b[0m\u001b[1;33m\u001b[0m\u001b[0m\n\u001b[1;32m-> 3082\u001b[1;33m                 \u001b[1;32mraise\u001b[0m \u001b[0mKeyError\u001b[0m\u001b[1;33m(\u001b[0m\u001b[0mkey\u001b[0m\u001b[1;33m)\u001b[0m \u001b[1;32mfrom\u001b[0m \u001b[0merr\u001b[0m\u001b[1;33m\u001b[0m\u001b[1;33m\u001b[0m\u001b[0m\n\u001b[0m\u001b[0;32m   3083\u001b[0m \u001b[1;33m\u001b[0m\u001b[0m\n\u001b[0;32m   3084\u001b[0m         \u001b[1;32mif\u001b[0m \u001b[0mtolerance\u001b[0m \u001b[1;32mis\u001b[0m \u001b[1;32mnot\u001b[0m \u001b[1;32mNone\u001b[0m\u001b[1;33m:\u001b[0m\u001b[1;33m\u001b[0m\u001b[1;33m\u001b[0m\u001b[0m\n",
      "\u001b[1;31mKeyError\u001b[0m: '시군구명'"
     ]
    }
   ],
   "source": [
    "fire = pd.read_csv('dataset/화재발생정보.csv', encoding='cp949',index_col='연번')\n",
    "fire = fire[(fire['시도']==검색할시도명) & (fire['시군구'] == 검색할시군구명)]\n",
    "fire['읍면동'].value_counts()\n",
    "group = fire.groupby('읍면동').count()\n",
    "group = group.reset_index(drop = False)\n",
    "group['화재발생횟수'] = group['사망']\n",
    "fire = group[['읍면동','화재발생횟수']]\n",
    "fire = fire.rename(columns={'읍면동':'읍/면/동'})\n",
    "\n",
    "fire['시도명'] = detail['시도명']\n",
    "fire['시군구명'] = detail['시군구명']\n",
    "fire = fire[['시도명','시군구명','읍/면/동','화재발생횟수']]\n",
    "df = pd.merge(detail,fire,on=['시도명','시군구명','읍/면/동'],how='left')\n",
    "df['화재발생횟수'] = df['화재발생횟수'].fillna(0)\n",
    "print(df.isnull().sum())\n",
    "df"
   ]
  },
  {
   "cell_type": "code",
   "execution_count": 122,
   "id": "f73df69a",
   "metadata": {},
   "outputs": [],
   "source": [
    "df.to_csv(f'전처리완료dataset/화재/{검색할시도명}{검색할시군구명}화재.csv')"
   ]
  },
  {
   "cell_type": "code",
   "execution_count": null,
   "id": "7b77a753",
   "metadata": {},
   "outputs": [],
   "source": []
  },
  {
   "cell_type": "code",
   "execution_count": null,
   "id": "eb9c5f41",
   "metadata": {},
   "outputs": [],
   "source": []
  },
  {
   "cell_type": "code",
   "execution_count": null,
   "id": "dd18415a",
   "metadata": {},
   "outputs": [],
   "source": []
  },
  {
   "cell_type": "code",
   "execution_count": null,
   "id": "e8d86e1c",
   "metadata": {},
   "outputs": [],
   "source": []
  },
  {
   "cell_type": "code",
   "execution_count": null,
   "id": "333ffc28",
   "metadata": {},
   "outputs": [],
   "source": []
  },
  {
   "cell_type": "code",
   "execution_count": null,
   "id": "3f5969d1",
   "metadata": {},
   "outputs": [],
   "source": []
  },
  {
   "cell_type": "code",
   "execution_count": null,
   "id": "b1851631",
   "metadata": {},
   "outputs": [],
   "source": []
  },
  {
   "cell_type": "code",
   "execution_count": null,
   "id": "6ae0d8a0",
   "metadata": {},
   "outputs": [],
   "source": []
  },
  {
   "cell_type": "code",
   "execution_count": null,
   "id": "e16461ea",
   "metadata": {},
   "outputs": [],
   "source": []
  },
  {
   "cell_type": "code",
   "execution_count": null,
   "id": "5f457906",
   "metadata": {},
   "outputs": [],
   "source": []
  },
  {
   "cell_type": "code",
   "execution_count": null,
   "id": "681684e6",
   "metadata": {},
   "outputs": [],
   "source": []
  },
  {
   "cell_type": "code",
   "execution_count": null,
   "id": "a809933b",
   "metadata": {},
   "outputs": [],
   "source": []
  },
  {
   "cell_type": "code",
   "execution_count": 15,
   "id": "a2e8c7b1",
   "metadata": {},
   "outputs": [
    {
     "data": {
      "text/plain": [
       "스마트가로등유형         0\n",
       "시도명              0\n",
       "시군구명             0\n",
       "도로명              0\n",
       "소재지도로명주소      1212\n",
       "소재지지번주소        794\n",
       "위도             104\n",
       "경도             107\n",
       "스마트가로등형태         0\n",
       "점등상태여부           0\n",
       "센서종류             0\n",
       "센싱정보서비스       2652\n",
       "CCTV유무           0\n",
       "WiFi유무           0\n",
       "GPS수신기유무         0\n",
       "비콘유무             0\n",
       "조명제어여부           0\n",
       "위급상황신고가능여부       0\n",
       "앱서비스명         2488\n",
       "앱서비스제공내용      2507\n",
       "기타서비스         2921\n",
       "설치연도          1796\n",
       "관리기관명            0\n",
       "관리기관전화번호         0\n",
       "데이터기준일자          0\n",
       "제공기관코드           0\n",
       "제공기관명            0\n",
       "dtype: int64"
      ]
     },
     "execution_count": 15,
     "metadata": {},
     "output_type": "execute_result"
    }
   ],
   "source": [
    "data = pd.read_csv('dataset/전국스마트가로등표준데이터.csv',encoding='cp949')\n",
    "data.isnull().sum()"
   ]
  },
  {
   "cell_type": "code",
   "execution_count": null,
   "id": "f99203fd",
   "metadata": {},
   "outputs": [],
   "source": []
  }
 ],
 "metadata": {
  "kernelspec": {
   "display_name": "Python 3",
   "language": "python",
   "name": "python3"
  },
  "language_info": {
   "codemirror_mode": {
    "name": "ipython",
    "version": 3
   },
   "file_extension": ".py",
   "mimetype": "text/x-python",
   "name": "python",
   "nbconvert_exporter": "python",
   "pygments_lexer": "ipython3",
   "version": "3.8.10"
  }
 },
 "nbformat": 4,
 "nbformat_minor": 5
}

{
 "cells": [
  {
   "cell_type": "code",
   "execution_count": 3,
   "id": "acbaa6f9",
   "metadata": {
    "scrolled": true
   },
   "outputs": [
    {
     "data": {
      "text/html": [
       "<div>\n",
       "<style scoped>\n",
       "    .dataframe tbody tr th:only-of-type {\n",
       "        vertical-align: middle;\n",
       "    }\n",
       "\n",
       "    .dataframe tbody tr th {\n",
       "        vertical-align: top;\n",
       "    }\n",
       "\n",
       "    .dataframe thead th {\n",
       "        text-align: right;\n",
       "    }\n",
       "</style>\n",
       "<table border=\"1\" class=\"dataframe\">\n",
       "  <thead>\n",
       "    <tr style=\"text-align: right;\">\n",
       "      <th></th>\n",
       "      <th>관리기관명</th>\n",
       "      <th>소재지도로명주소</th>\n",
       "      <th>소재지지번주소</th>\n",
       "      <th>설치목적구분</th>\n",
       "      <th>카메라대수</th>\n",
       "      <th>카메라화소수</th>\n",
       "      <th>촬영방면정보</th>\n",
       "      <th>보관일수</th>\n",
       "      <th>설치연월</th>\n",
       "      <th>관리기관전화번호</th>\n",
       "      <th>위도</th>\n",
       "      <th>경도</th>\n",
       "      <th>데이터기준일자</th>\n",
       "      <th>제공기관코드</th>\n",
       "      <th>제공기관명</th>\n",
       "    </tr>\n",
       "  </thead>\n",
       "  <tbody>\n",
       "    <tr>\n",
       "      <th>1</th>\n",
       "      <td>경상남도 김해시청</td>\n",
       "      <td>NaN</td>\n",
       "      <td>경상남도 김해시 구산동 1072-19</td>\n",
       "      <td>생활방범</td>\n",
       "      <td>3</td>\n",
       "      <td>200</td>\n",
       "      <td>현대병원뒤</td>\n",
       "      <td>30</td>\n",
       "      <td>2019-11</td>\n",
       "      <td>055-330-4741</td>\n",
       "      <td>35.249247</td>\n",
       "      <td>128.871639</td>\n",
       "      <td>2019-06-26</td>\n",
       "      <td>5350000</td>\n",
       "      <td>경상남도 김해시</td>\n",
       "    </tr>\n",
       "  </tbody>\n",
       "</table>\n",
       "</div>"
      ],
      "text/plain": [
       "       관리기관명 소재지도로명주소               소재지지번주소 설치목적구분 카메라대수 카메라화소수 촬영방면정보 보관일수  \\\n",
       "1  경상남도 김해시청      NaN  경상남도 김해시 구산동 1072-19   생활방범     3    200  현대병원뒤   30   \n",
       "\n",
       "      설치연월      관리기관전화번호         위도          경도     데이터기준일자   제공기관코드     제공기관명  \n",
       "1  2019-11  055-330-4741  35.249247  128.871639  2019-06-26  5350000  경상남도 김해시  "
      ]
     },
     "execution_count": 3,
     "metadata": {},
     "output_type": "execute_result"
    }
   ],
   "source": [
    "import pandas as pd\n",
    "df=pd.read_excel('dataset/전국CCTV표준데이터-20210801.xls')\n",
    "\n",
    "df = df.rename(columns=df.iloc[0])\n",
    "\n",
    "df= df.drop(df.index[0])\n",
    "\n",
    "df.head(1)"
   ]
  },
  {
   "cell_type": "code",
   "execution_count": 4,
   "id": "6e42ee5a",
   "metadata": {
    "scrolled": true
   },
   "outputs": [
    {
     "data": {
      "text/html": [
       "<div>\n",
       "<style scoped>\n",
       "    .dataframe tbody tr th:only-of-type {\n",
       "        vertical-align: middle;\n",
       "    }\n",
       "\n",
       "    .dataframe tbody tr th {\n",
       "        vertical-align: top;\n",
       "    }\n",
       "\n",
       "    .dataframe thead th {\n",
       "        text-align: right;\n",
       "    }\n",
       "</style>\n",
       "<table border=\"1\" class=\"dataframe\">\n",
       "  <thead>\n",
       "    <tr style=\"text-align: right;\">\n",
       "      <th></th>\n",
       "      <th>소재지지번주소</th>\n",
       "      <th>설치목적구분</th>\n",
       "      <th>카메라대수</th>\n",
       "    </tr>\n",
       "  </thead>\n",
       "  <tbody>\n",
       "    <tr>\n",
       "      <th>1</th>\n",
       "      <td>경상남도 김해시 구산동 1072-19</td>\n",
       "      <td>생활방범</td>\n",
       "      <td>3</td>\n",
       "    </tr>\n",
       "  </tbody>\n",
       "</table>\n",
       "</div>"
      ],
      "text/plain": [
       "                소재지지번주소 설치목적구분 카메라대수\n",
       "1  경상남도 김해시 구산동 1072-19   생활방범     3"
      ]
     },
     "execution_count": 4,
     "metadata": {},
     "output_type": "execute_result"
    }
   ],
   "source": [
    "df= df[['소재지지번주소', '설치목적구분','카메라대수']]\n",
    "df.head(1)"
   ]
  },
  {
   "cell_type": "code",
   "execution_count": null,
   "id": "50f6845a",
   "metadata": {},
   "outputs": [],
   "source": []
  },
  {
   "cell_type": "code",
   "execution_count": null,
   "id": "0cf7443b",
   "metadata": {},
   "outputs": [],
   "source": []
  },
  {
   "cell_type": "code",
   "execution_count": null,
   "id": "14f803a8",
   "metadata": {},
   "outputs": [],
   "source": [
    "import pandas as pd\n",
    "pd.set_option('display.max_row', 500)\n",
    "import numpy as np\n",
    "\n",
    "import warnings\n",
    "warnings.filterwarnings('ignore')\n",
    "\n",
    "검색할시도명='강원도'\n",
    "검색할시군구명='인제군'\n",
    "제공기관명 = f'{검색할시도명} {검색할시군구명}'\n",
    "\n",
    "빼올ui = 검색할시도명\n",
    "검색할구 = 검색할시군구명\n",
    "PP = pd.read_csv(f'전처리완료dataset/human/{빼올ui}.csv')\n",
    "PP = PP.rename(columns=df.iloc[0])\n",
    "PP= PP.drop(df.index[0])\n",
    "\n"
   ]
  },
  {
   "cell_type": "code",
   "execution_count": null,
   "id": "ba20abd1",
   "metadata": {},
   "outputs": [],
   "source": [
    "PP= PP[['소재지지번주소', '설치목적구분','카메라대수']]\n",
    "PP.head(1)"
   ]
  },
  {
   "cell_type": "code",
   "execution_count": null,
   "id": "ca1bee73",
   "metadata": {},
   "outputs": [],
   "source": [
    "um = PP[PP['시군구명']==검색할구]\n",
    "u1 = um['읍/면/동'].tolist()\n",
    "u1\n",
    "len(u1)"
   ]
  },
  {
   "cell_type": "code",
   "execution_count": null,
   "id": "675a261a",
   "metadata": {},
   "outputs": [],
   "source": [
    "import re\n",
    "def dong(x):\n",
    "    import re\n",
    "\n",
    "    p = re.compile('[가-힣]\\S*[읍면동가]')\n",
    "\n",
    "    r = p.findall(x)\n",
    "    \n",
    "    return ''.join(r)\n"
   ]
  },
  {
   "cell_type": "code",
   "execution_count": null,
   "id": "a2caf5d6",
   "metadata": {},
   "outputs": [],
   "source": [
    "data =pd.read_excel('dataset/전국CCTV표준데이터-20210801.xls')\n",
    "\n",
    "data.isnull().sum()\n",
    "\n",
    "data.columns\n",
    "\n",
    "data['시도명'].unique()\n",
    "\n",
    "data['시도명'] = data['시도명'].replace('14','전라남도')\n",
    "\n",
    "data[data['시도명']==검색할시도명]['시군구명'].unique()\n",
    "\n",
    "data1 = data[data['시도명']==검색할시도명]\n",
    "detail_1 = data1[data1['시군구명']==검색할시군구명]\n",
    "\n",
    "\n",
    "detail_1['읍/면/동'] = detail_1['소재지지번주소'].apply(lambda x : dong(x))\n",
    "\n",
    "\n",
    "detail_1['설치유무'] = 1\n",
    "\n",
    "get_col = ['시도명','시군구명','소재지지번주소','읍/면/동','설치유무']\n",
    "detail_1 = detail_1[get_col]\n",
    "\n",
    "\n",
    "u2 = detail_1['읍/면/동'].unique().tolist()\n",
    "us = pd.Series(u1)\n",
    "\n",
    "detail = pd.DataFrame(us)\n",
    "detail['설치유무'] = np.nan\n",
    "detail['시도명'] = data[data['시도명']==검색할시도명]['시도명'].unique()[0]\n",
    "detail['시군구명'] = data[data['시군구명']==검색할시군구명]['시군구명'].unique()[0]\n",
    "\n",
    "def 설치유무(x):\n",
    "    y = ''\n",
    "    for i in u2 :\n",
    "        if x == i :\n",
    "            y = 1\n",
    "    return y\n",
    "\n",
    "\n",
    "detail['설치유무'].update(detail[0].apply(설치유무))\n",
    "detail['설치유무'] = detail['설치유무'].replace(\"\",0)\n",
    "detail = detail.rename(columns={0:'읍/면/동'})\n",
    "\n",
    "detail = detail[['시도명','시군구명','읍/면/동','설치유무']]\n",
    "\n",
    "detail"
   ]
  },
  {
   "cell_type": "code",
   "execution_count": null,
   "id": "f9338169",
   "metadata": {},
   "outputs": [],
   "source": [
    "df= pd.read_excel('dataset/전국어린이보호구역표준데이터-20210801.xls')\n",
    "\n",
    "df = df.rename(columns=df.iloc[0])\n",
    "df= df.drop(df.index[0])\n",
    "\n",
    "df1 = df.loc[df.loc[:,'제공기관명'].str.contains(제공기관명,na=False)]\n",
    "\n",
    "detail_1 = df1[df1['제공기관명']==제공기관명]\n",
    "\n",
    "\n",
    "detail_1['읍/면/동'] = detail_1['소재지지번주소'].apply(lambda x : dong1(x))\n",
    "\n",
    "\n",
    "a= 제공기관명.split(\" \")[0]\n",
    "b= 제공기관명.split(\" \")[1]\n",
    "\n",
    "detail_1['시도명']= a\n",
    "detail_1['시군구명']= b\n",
    "\n"
   ]
  },
  {
   "cell_type": "code",
   "execution_count": null,
   "id": "06f4fa0d",
   "metadata": {},
   "outputs": [],
   "source": [
    "a = detail_1[detail_1['읍/면/동']=='']\n",
    "display(a)\n",
    "a['읍/면/동'] = a['읍/면/동'].replace(\"\",'신북읍')\n",
    "detail_1[detail_1['읍/면/동']==''] = a\n",
    "child = detail_1[['시도명','시군구명','읍/면/동']]\n",
    "child['어린이보호구역개수'] = 1\n",
    "child[child['읍/면/동']=='']"
   ]
  },
  {
   "cell_type": "code",
   "execution_count": null,
   "id": "d94b77fd",
   "metadata": {},
   "outputs": [],
   "source": [
    "group = child.groupby(['시도명','시군구명','읍/면/동'])\n",
    "a = group.sum()\n",
    "a = a.reset_index()\n",
    "child = a"
   ]
  },
  {
   "cell_type": "code",
   "execution_count": null,
   "id": "3ab8b110",
   "metadata": {},
   "outputs": [],
   "source": [
    "df = pd.merge(detail,child,on=['시도명','시군구명','읍/면/동'],how='left')\n",
    "df['어린이보호구역개수'] = df['어린이보호구역개수'].fillna(0)\n",
    "print(df.isnull().sum())\n",
    "df"
   ]
  },
  {
   "cell_type": "code",
   "execution_count": null,
   "id": "b8854c7e",
   "metadata": {},
   "outputs": [],
   "source": [
    "df.to_csv(f'Dataset/child/{검색할시도명}{검색할시군구명}어린이보호구역.csv')"
   ]
  }
 ],
 "metadata": {
  "kernelspec": {
   "display_name": "Python 3",
   "language": "python",
   "name": "python3"
  },
  "language_info": {
   "codemirror_mode": {
    "name": "ipython",
    "version": 3
   },
   "file_extension": ".py",
   "mimetype": "text/x-python",
   "name": "python",
   "nbconvert_exporter": "python",
   "pygments_lexer": "ipython3",
   "version": "3.8.10"
  }
 },
 "nbformat": 4,
 "nbformat_minor": 5
}

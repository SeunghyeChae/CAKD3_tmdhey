{
 "cells": [
  {
   "cell_type": "code",
   "execution_count": 29,
   "id": "26d2409a",
   "metadata": {
    "scrolled": true
   },
   "outputs": [
    {
     "name": "stdout",
     "output_type": "stream",
     "text": [
      "구매할 로또 개수를 입력하세요>5\n",
      "[1]:[37, 12, 36, 22, 18, 19]\n",
      "[2]:[7, 9, 24, 1, 28, 14]\n",
      "[3]:[39, 3, 23, 26, 1, 4]\n",
      "[4]:[34, 6, 13, 21, 42, 16]\n",
      "[5]:[25, 24, 11, 9, 39, 18]\n"
     ]
    }
   ],
   "source": [
    "import random  #랜덤 불러오기\n",
    "\n",
    "class lotto:  #클래스 lotto설정\n",
    "        def nums(self):\n",
    "            lotto_numbers = []  \n",
    "            for i in range(6):\n",
    "                \n",
    "                while True:\n",
    "                    lotto_number = random.randint(1, 46)\n",
    "                    if lotto_number not in lotto_numbers:\n",
    "                        lotto_numbers.append(lotto_number) \n",
    "                        break \n",
    "                        \n",
    "                    else:\n",
    "                        lotto_number=random.randint(1,46)\n",
    "                    result=(lotto_numbers)\n",
    "                    \n",
    "            return lotto_numbers\n",
    "            \n",
    "a=lotto()\n",
    "n=int(input('구매할 로또 개수를 입력하세요>'))\n",
    "while n>0:\n",
    "    if n<=0:\n",
    "        break\n",
    "    for i in range(n):\n",
    "        print('[{}]:{}'.format(i+1,a.nums()))\n",
    "    break"
   ]
  },
  {
   "cell_type": "code",
   "execution_count": 11,
   "id": "b6f82c2e",
   "metadata": {},
   "outputs": [
    {
     "name": "stdout",
     "output_type": "stream",
     "text": [
      "[43, 30, 21, 22, 6, 34]\n",
      "[26, 37, 7, 29, 3, 23]\n",
      "[23, 32, 4, 17, 6, 39]\n",
      "[41, 9, 24, 30, 36, 38]\n",
      "[9, 24, 38, 27, 1, 10]\n"
     ]
    }
   ],
   "source": [
    "import random\n",
    "\n",
    "for i in range(1,6):\n",
    "    print (random.sample(range(1,46),6))"
   ]
  },
  {
   "cell_type": "code",
   "execution_count": 35,
   "id": "181ee951",
   "metadata": {
    "scrolled": false
   },
   "outputs": [
    {
     "name": "stdout",
     "output_type": "stream",
     "text": [
      "남성의 이름을 입력해주세요>q\n",
      "남성의 이름을 입력해주세요>w\n",
      "남성의 이름을 입력주세요>e\n",
      "남성의 이름을 입력해주세요>r\n",
      "남성의 이름을 입력해주세요>t\n",
      "여성의 이름을 입력해주세요>1\n",
      "여성의 이름을 입력해주세요>2\n",
      "여성의 이름을 입력해주세요>3\n",
      "여성의 이름을 입력해주세요>4\n",
      "여성의 이름을 입력해주세요>5\n",
      "정해진 파트너는 ('e', '1')입니다.\n",
      "정해진 파트너는 ('w', '5')입니다.\n",
      "정해진 파트너는 ('r', '3')입니다.\n",
      "정해진 파트너는 ('q', '4')입니다.\n",
      "정해진 파트너는 ('t', '2')입니다.\n"
     ]
    }
   ],
   "source": [
    "# Q2. 남녀 파트너 정해주기 프로그램을 작성하세요.(5개 커플)\n",
    "\n",
    "m1=input(\"남성의 이름을 입력해주세요>\")\n",
    "m2=input(\"남성의 이름을 입력해주세요>\")\n",
    "m3=input(\"남성의 이름을 입력주세요>\")\n",
    "m4=input(\"남성의 이름을 입력해주세요>\")\n",
    "m5=input(\"남성의 이름을 입력해주세요>\")\n",
    "\n",
    "w1=input(\"여성의 이름을 입력해주세요>\")\n",
    "w2=input(\"여성의 이름을 입력해주세요>\")\n",
    "w3=input(\"여성의 이름을 입력해주세요>\")\n",
    "w4=input(\"여성의 이름을 입력해주세요>\")\n",
    "w5=input(\"여성의 이름을 입력해주세요>\")\n",
    "\n",
    "import random\n",
    "male= [m1,m2,m3,m4,m5]\n",
    "female= [w1,w2,w3,w4,w5]\n",
    "\n",
    "random.shuffle(male)\n",
    "random.shuffle(female)\n",
    "\n",
    "for pair in zip(male,female):\n",
    "    print('정해진 파트너는 {}입니다.'.format(pair))\n",
    "\n",
    "    "
   ]
  },
  {
   "cell_type": "code",
   "execution_count": 14,
   "id": "56883299",
   "metadata": {},
   "outputs": [
    {
     "name": "stdout",
     "output_type": "stream",
     "text": [
      "1번째 파트너는 김넷,채삼입니다.\n",
      "2번째 파트너는 김다섯,채사입니다.\n",
      "3번째 파트너는 김하나,채일입니다.\n",
      "4번째 파트너는 김셋,채이입니다.\n",
      "5번째 파트너는 김둘,채오입니다.\n",
      "None\n"
     ]
    }
   ],
   "source": [
    "male=['김하나','김둘','김셋','김넷','김다섯']\n",
    "female=['채일','채이','채삼','채사','채오']\n",
    "\n",
    "class couple:\n",
    "    def __init__(self,num,list_1,list_2):\n",
    "        self.num=num\n",
    "        self.list_1=list_1\n",
    "        self.list_2=list_2\n",
    "    def qwer(self):\n",
    "        A=random.sample(self.list_1, self.num)\n",
    "        B=random.sample(self.list_2, self.num)\n",
    "        \n",
    "        for i in range(self.num):\n",
    "            print('{}번째 파트너는 {},{}입니다.'.format(i+1,A[i],B[i]))\n",
    "            \n",
    "a=couple(5,male,female)\n",
    "print(a.qwer())"
   ]
  },
  {
   "cell_type": "code",
   "execution_count": null,
   "id": "d4225136",
   "metadata": {},
   "outputs": [],
   "source": [
    "# Q3. 입력받은 문자열의 각 문자를 그 다음 문자로 변경하여 출력하세요."
   ]
  },
  {
   "cell_type": "code",
   "execution_count": 22,
   "id": "77810b96",
   "metadata": {},
   "outputs": [
    {
     "ename": "SyntaxError",
     "evalue": "invalid syntax (<ipython-input-22-c18b35602516>, line 5)",
     "output_type": "error",
     "traceback": [
      "\u001b[1;36m  File \u001b[1;32m\"<ipython-input-22-c18b35602516>\"\u001b[1;36m, line \u001b[1;32m5\u001b[0m\n\u001b[1;33m    if (i-1)=len(str(aa))::\u001b[0m\n\u001b[1;37m            ^\u001b[0m\n\u001b[1;31mSyntaxError\u001b[0m\u001b[1;31m:\u001b[0m invalid syntax\n"
     ]
    }
   ],
   "source": [
    "\n",
    "\n",
    "class change:\n",
    "    def qwer(self):\n",
    "        aa=input('문자를 입력해주세요:>')\n",
    "        for i in range(len(aa)):\n",
    "            if (i-1)=len(str(aa)):\n",
    "                aa[i-1]=aa[0]\n",
    "            else:\n",
    "                aa[i-1]=aa[i]\n",
    "    result= aa\n",
    "    \n",
    "X=change()\n",
    "print (X.qwer())\n",
    "\n",
    "## ㅠㅠ ..... \n",
    "\n"
   ]
  },
  {
   "cell_type": "code",
   "execution_count": null,
   "id": "19000ea3",
   "metadata": {},
   "outputs": [],
   "source": [
    "# Q4. url에서 호스트 도메인을 추출하여 출력하세요.\n",
    "url = 'http://news.naver.com/main/read.nhn?mode=LSD&mid=shm&sid1=105&oid=028&aid=0002334601'\n",
    "\n",
    "\n",
    "## http://blog.quantylab.com/url_parsing.html\n",
    "## https://madplay.github.io/post/python-urllib\n",
    "### 문제자체를 잘 모르겠음"
   ]
  },
  {
   "cell_type": "code",
   "execution_count": 32,
   "id": "f741451e",
   "metadata": {},
   "outputs": [
    {
     "name": "stdout",
     "output_type": "stream",
     "text": [
      "ParseResult(scheme='http', netloc='news.naver.com', path='/main/read.nhn', params='', query='mode=LSD&mid=shm&sid1=105&oid=028&aid=0002334601', fragment='') \n",
      "\n",
      "\n",
      " news.naver.com\n"
     ]
    }
   ],
   "source": [
    "import urllib.parse\n",
    "\n",
    "url_hd= urllib.parse.urlparse('http://news.naver.com/main/read.nhn?mode=LSD&mid=shm&sid1=105&oid=028&aid=0002334601')\n",
    "print(url_hd, '\\n')\n",
    "print('\\n',url_hd.netloc)"
   ]
  },
  {
   "cell_type": "code",
   "execution_count": null,
   "id": "565ab05a",
   "metadata": {},
   "outputs": [],
   "source": [
    "# Q5. url에서 쿼리문을 추출하여 출력하세요.\n",
    "# url에서 '?'뒤에 표시되는 문자열을 쿼리 문자열이라고 하며 변수=값 사이 &로 \n",
    "# 구분되어 나열된다.\n",
    "url = 'http://news.naver.com/main/read.nhn?mode=LSD&mid=shm&sid1=105&oid=028&aid=0002334601'"
   ]
  },
  {
   "cell_type": "code",
   "execution_count": 31,
   "id": "4501afe4",
   "metadata": {},
   "outputs": [
    {
     "name": "stdout",
     "output_type": "stream",
     "text": [
      "ParseResult(scheme='http', netloc='news.naver.com', path='/main/read.nhn', params='', query='mode=LSD&mid=shm&sid1=105&oid=028&aid=0002334601', fragment='') \n",
      "\n",
      "\n",
      " mode=LSD&mid=shm&sid1=105&oid=028&aid=0002334601\n"
     ]
    }
   ],
   "source": [
    "import urllib.parse\n",
    "\n",
    "url_qy= urllib.parse.urlparse('http://news.naver.com/main/read.nhn?mode=LSD&mid=shm&sid1=105&oid=028&aid=0002334601')\n",
    "print(url_qy,'\\n')\n",
    "\n",
    "print('\\n',url_qy.query)"
   ]
  },
  {
   "cell_type": "code",
   "execution_count": null,
   "id": "0d402adc",
   "metadata": {},
   "outputs": [],
   "source": [
    "# Q6. 텍스트 파일(mydata.txt)을 읽고  파일의 내용에서 나타나는 문자들에 대해 자주 \n",
    "# 나타나는 문자들을 아래와 같이 순서대로 출력하세요.\n",
    "# [ ] -> [177]회 나타남\n",
    "# [e] -> [97]회 나타남\n",
    "# [t] -> [85]회 나타남"
   ]
  },
  {
   "cell_type": "code",
   "execution_count": 41,
   "id": "8ab4f21e",
   "metadata": {},
   "outputs": [
    {
     "ename": "TypeError",
     "evalue": "'builtin_function_or_method' object is not subscriptable",
     "output_type": "error",
     "traceback": [
      "\u001b[1;31m---------------------------------------------------------------------------\u001b[0m",
      "\u001b[1;31mTypeError\u001b[0m                                 Traceback (most recent call last)",
      "\u001b[1;32m<ipython-input-41-20292e286926>\u001b[0m in \u001b[0;36m<module>\u001b[1;34m\u001b[0m\n\u001b[0;32m      3\u001b[0m     \u001b[0mX\u001b[0m\u001b[1;33m=\u001b[0m \u001b[0msorted\u001b[0m\u001b[1;33m(\u001b[0m\u001b[0mset\u001b[0m\u001b[1;33m(\u001b[0m\u001b[0mfile_1\u001b[0m\u001b[1;33m)\u001b[0m\u001b[1;33m)\u001b[0m\u001b[1;33m\u001b[0m\u001b[1;33m\u001b[0m\u001b[0m\n\u001b[0;32m      4\u001b[0m     \u001b[1;32mfor\u001b[0m \u001b[0mi\u001b[0m \u001b[1;32min\u001b[0m \u001b[0mX\u001b[0m\u001b[1;33m:\u001b[0m\u001b[1;33m\u001b[0m\u001b[1;33m\u001b[0m\u001b[0m\n\u001b[1;32m----> 5\u001b[1;33m         \u001b[0mprint\u001b[0m\u001b[1;33m(\u001b[0m\u001b[1;34m\"[{}]->[{}]회 나타남\"\u001b[0m\u001b[1;33m.\u001b[0m\u001b[0mformat\u001b[0m\u001b[1;33m(\u001b[0m\u001b[0mi\u001b[0m\u001b[1;33m,\u001b[0m\u001b[0mfile_1\u001b[0m\u001b[1;33m.\u001b[0m\u001b[0mcount\u001b[0m\u001b[1;33m[\u001b[0m\u001b[0mi\u001b[0m\u001b[1;33m]\u001b[0m\u001b[1;33m)\u001b[0m\u001b[1;33m)\u001b[0m\u001b[1;33m\u001b[0m\u001b[1;33m\u001b[0m\u001b[0m\n\u001b[0m\u001b[0;32m      6\u001b[0m \u001b[1;33m\u001b[0m\u001b[0m\n\u001b[0;32m      7\u001b[0m \u001b[1;33m\u001b[0m\u001b[0m\n",
      "\u001b[1;31mTypeError\u001b[0m: 'builtin_function_or_method' object is not subscriptable"
     ]
    }
   ],
   "source": [
    "with open(\"C:\\♥workspace\\cakd3\\programming\\data/mydata.txt\",\"r\") as f:\n",
    "    file_1= f.read()\n",
    "    X= sorted(set(file_1))\n",
    "    for i in X:\n",
    "        print(\"[{}]->[{}]회 나타남\".format(i,file_1.count[i]))\n",
    "       \n",
    "        \n",
    "    \n",
    "    "
   ]
  },
  {
   "cell_type": "code",
   "execution_count": null,
   "id": "50eeaee7",
   "metadata": {},
   "outputs": [],
   "source": [
    "# Q7. mydata.txt 파일에 들어있는 단어수를 계산하여 출력하세요."
   ]
  },
  {
   "cell_type": "code",
   "execution_count": 45,
   "id": "361eed10",
   "metadata": {},
   "outputs": [
    {
     "ename": "FileNotFoundError",
     "evalue": "[Errno 2] No such file or directory: 'mydata.txt'",
     "output_type": "error",
     "traceback": [
      "\u001b[1;31m---------------------------------------------------------------------------\u001b[0m",
      "\u001b[1;31mFileNotFoundError\u001b[0m                         Traceback (most recent call last)",
      "\u001b[1;32m<ipython-input-45-537514c05f48>\u001b[0m in \u001b[0;36m<module>\u001b[1;34m\u001b[0m\n\u001b[1;32m----> 1\u001b[1;33m \u001b[1;32mwith\u001b[0m \u001b[0mopen\u001b[0m\u001b[1;33m(\u001b[0m\u001b[1;34m'mydata.txt'\u001b[0m\u001b[1;33m,\u001b[0m \u001b[1;34m'r'\u001b[0m\u001b[1;33m)\u001b[0m \u001b[1;32mas\u001b[0m \u001b[0mf\u001b[0m\u001b[1;33m:\u001b[0m\u001b[1;33m\u001b[0m\u001b[1;33m\u001b[0m\u001b[0m\n\u001b[0m\u001b[0;32m      2\u001b[0m     \u001b[0ma\u001b[0m\u001b[1;33m=\u001b[0m\u001b[0mf\u001b[0m\u001b[1;33m.\u001b[0m\u001b[0mread\u001b[0m\u001b[1;33m(\u001b[0m\u001b[1;33m)\u001b[0m\u001b[1;33m\u001b[0m\u001b[1;33m\u001b[0m\u001b[0m\n\u001b[0;32m      3\u001b[0m     \u001b[0ma\u001b[0m\u001b[1;33m=\u001b[0m\u001b[0ma\u001b[0m\u001b[1;33m.\u001b[0m\u001b[0msplit\u001b[0m\u001b[1;33m(\u001b[0m\u001b[1;33m)\u001b[0m\u001b[1;33m\u001b[0m\u001b[1;33m\u001b[0m\u001b[0m\n\u001b[0;32m      4\u001b[0m \u001b[1;33m\u001b[0m\u001b[0m\n\u001b[0;32m      5\u001b[0m     \u001b[0mprint\u001b[0m\u001b[1;33m(\u001b[0m\u001b[1;34m\"mydata.txt 파일에 들어있는 단어 수:{}\"\u001b[0m\u001b[1;33m.\u001b[0m\u001b[0mformat\u001b[0m\u001b[1;33m(\u001b[0m\u001b[0mlen\u001b[0m\u001b[1;33m(\u001b[0m\u001b[0ma\u001b[0m\u001b[1;33m)\u001b[0m\u001b[1;33m)\u001b[0m\u001b[1;33m)\u001b[0m\u001b[1;33m\u001b[0m\u001b[1;33m\u001b[0m\u001b[0m\n",
      "\u001b[1;31mFileNotFoundError\u001b[0m: [Errno 2] No such file or directory: 'mydata.txt'"
     ]
    }
   ],
   "source": [
    "with open('C:\\♥workspace\\cakd3\\programming\\data/mydata.txt', 'r') as f:\n",
    "    a=f.read()\n",
    "    a=a.split()\n",
    "\n",
    "    print(\"mydata.txt 파일에 들어있는 단어 수:{}\".format(len(a)))"
   ]
  },
  {
   "cell_type": "code",
   "execution_count": null,
   "id": "c0cbf9f9",
   "metadata": {},
   "outputs": [],
   "source": [
    "# Q8. 사용자가 입력한 단어가 mydata.txt 파일에 포함된 개수를 계산하여 출력하세요."
   ]
  },
  {
   "cell_type": "code",
   "execution_count": 50,
   "id": "dce808da",
   "metadata": {},
   "outputs": [
    {
     "name": "stdout",
     "output_type": "stream",
     "text": [
      "찾을 단어를 입력하세요: never\n",
      "never의 개수:1\n"
     ]
    }
   ],
   "source": [
    "word_1 = input(\"찾을 단어를 입력하세요: \")\n",
    "\n",
    "with open('C:\\♥workspace\\cakd3\\programming\\data/mydata.txt', 'r') as f:\n",
    "    data = f.read().split()\n",
    "    \n",
    "words = data.count(word_1)\n",
    "print('{}의 개수:{}'.format(word_1,words))"
   ]
  },
  {
   "cell_type": "code",
   "execution_count": null,
   "id": "cdc27f60",
   "metadata": {},
   "outputs": [],
   "source": [
    "# Q9. mydata.txt 파일에서 특정 단어 t1을 다른 단어 t2로 변경하여 출력하세요.b"
   ]
  },
  {
   "cell_type": "code",
   "execution_count": 53,
   "id": "c319b4dd",
   "metadata": {},
   "outputs": [
    {
     "name": "stdout",
     "output_type": "stream",
     "text": [
      "찾을 단어를 입력하세요: the\n",
      "바꿀 단어를 입력하세요: THE\n",
      "a lot of things occur each day\n",
      "we've got to live with on our way\n",
      "THEre's so much misery on THE screen\n",
      "with commercials in between\n",
      "\n",
      "and THE russians won't be so late\n",
      "uncle sam don't want to wait\n",
      "no matter if you're black or white\n",
      "you never ever had a right\n",
      "\n",
      "and look up to THE eternal skies\n",
      "see warfare even THEre\n",
      "what once has been a paradise\n",
      "now destruction and despair\n",
      "\n",
      "in oTHEr worlds THE children die\n",
      "lacking food ill from a fly\n",
      "oppressed by troops to tame THEir land\n",
      "it's all THE same again\n",
      "\n",
      "if any man is free on earth\n",
      "THEn tormentors steal his birth\n",
      "THEy slam gun butts in his face\n",
      "and leave his woman choked in mace\n",
      "\n",
      "so stand up for our human rights\n",
      "push back this pest of hate\n",
      "raise you voice pass on THE light\n",
      "unite! it's not too late\n",
      "\n",
      "how many tears flow away\n",
      "to become a sea of fears\n",
      "how many hearts are torn apart\n",
      "till anoTHEr torment starts\n",
      "\n",
      "but before THE world\n",
      "turns into a sun\n",
      "all cruelty and violence\n",
      "on earth will be dead and gone\n",
      "\n",
      "so stand up for our human rights\n",
      "push back this pest of hate\n",
      "raise you voice pass on THE light\n",
      "unite! it's not too late\n"
     ]
    }
   ],
   "source": [
    "a = ''\n",
    "t1= input(\"찾을 단어를 입력하세요: \")\n",
    "t2= input(\"바꿀 단어를 입력하세요: \")\n",
    "with open('C:\\♥workspace\\cakd3\\programming\\data/mydata.txt', 'r') as f:\n",
    "    data=f.read()\n",
    "    \n",
    "print(data.replace(t1,t2))"
   ]
  },
  {
   "cell_type": "code",
   "execution_count": null,
   "id": "033208cf",
   "metadata": {},
   "outputs": [],
   "source": [
    "# Q10. 주어진 데이터에서 1880년에서 2015년까지 년도별 출생아 수를 출력하세요."
   ]
  },
  {
   "cell_type": "code",
   "execution_count": null,
   "id": "22533749",
   "metadata": {},
   "outputs": [],
   "source": [
    "for i in range(1880,2016):\n",
    "    count=0\n",
    "    filename = 'C:\\♥workspace\\cakd3\\programming\\data\\names/yob%d.txt' %y\n",
    "    with open(filename,'r') as f:\n",
    "        lines=f.readlines().split(',')\n",
    "        count+=int(lines[2])\n",
    "        print(\"{}년도 신생아 수: {}명\".format(i,count))\n",
    "    "
   ]
  },
  {
   "cell_type": "code",
   "execution_count": null,
   "id": "f79e0ff2",
   "metadata": {},
   "outputs": [],
   "source": [
    "# Q11. 주어진 데이터에서 연도별 성별 출생아 수를 계산하여 출력하세요."
   ]
  },
  {
   "cell_type": "code",
   "execution_count": null,
   "id": "73b87b59",
   "metadata": {},
   "outputs": [],
   "source": [
    "def birth_y(year):\n",
    "    with open('C:\\♥workspace\\cakd3\\programming\\data\\names/yob%d.txt' %y) as f:\n",
    "        male_n=0\n",
    "        female_n=0\n",
    "        \n",
    "        while 1:\n",
    "            lines=f.readlines().split(',') #,를 기준으로 나눈다\n",
    "            if not lines:\n",
    "                break\n",
    "        if lines[1] =='M':\n",
    "            male+=int(lines[2])\n",
    "        elif lines[1] =='W':\n",
    "            female+=int(lines[2])\n",
    "            \n",
    "\n",
    "    print(\"{}년도 여아 출생아 수: {},\\n,아 출생아수\".format(year,male,female))"
   ]
  },
  {
   "cell_type": "code",
   "execution_count": null,
   "id": "6bd95d72",
   "metadata": {},
   "outputs": [],
   "source": [
    "# Q12. 출생년도를 입력하면 그해 인기순 상위10개 이름을 출력하세요."
   ]
  },
  {
   "cell_type": "code",
   "execution_count": null,
   "id": "150dc38e",
   "metadata": {},
   "outputs": [],
   "source": [
    "birthyear= int(input('출생년도를 입력하세요.(ex.1998)> '))\n",
    "\n",
    "with open "
   ]
  },
  {
   "cell_type": "code",
   "execution_count": null,
   "id": "8c02828a",
   "metadata": {},
   "outputs": [],
   "source": []
  },
  {
   "cell_type": "code",
   "execution_count": null,
   "id": "35c862af",
   "metadata": {},
   "outputs": [],
   "source": []
  },
  {
   "cell_type": "code",
   "execution_count": null,
   "id": "6269685c",
   "metadata": {},
   "outputs": [],
   "source": []
  },
  {
   "cell_type": "code",
   "execution_count": null,
   "id": "007ef1dc",
   "metadata": {},
   "outputs": [],
   "source": []
  },
  {
   "cell_type": "code",
   "execution_count": null,
   "id": "16ae603c",
   "metadata": {},
   "outputs": [],
   "source": [
    "birthyear= int(input('출생년도를 입력하세요.(ex.1998)> '))\n",
    "\n",
    "with open ('C:\\♥workspace\\cakd3\\programming\\data\\names/yob%d.txt' %birthyear,'r') as f:\n",
    "    n=0\n",
    "    while 1:\n",
    "     \n",
    "    lines=f.readlines()\n",
    "        n+=1\n",
    "        if n==10:\n",
    "            break\n",
    "            \n",
    "    print(birthyear)"
   ]
  },
  {
   "cell_type": "code",
   "execution_count": null,
   "id": "f3f98aa6",
   "metadata": {},
   "outputs": [],
   "source": []
  },
  {
   "cell_type": "code",
   "execution_count": null,
   "id": "d1bebcae",
   "metadata": {},
   "outputs": [],
   "source": []
  },
  {
   "cell_type": "code",
   "execution_count": null,
   "id": "341aff35",
   "metadata": {},
   "outputs": [],
   "source": []
  },
  {
   "cell_type": "code",
   "execution_count": null,
   "id": "c82f0099",
   "metadata": {},
   "outputs": [],
   "source": [
    "# Q13. 음식점의 음식 주문가격 산출 프로그램을 자유롭게 작성하세요."
   ]
  },
  {
   "cell_type": "code",
   "execution_count": null,
   "id": "30d77bea",
   "metadata": {},
   "outputs": [],
   "source": [
    "class restaurant:\n",
    "    def price(self):\n",
    "        price_food=0\n",
    "        \n",
    "        while 1:\n",
    "                food= input('어떤 음식을 드시겠습니까? (바질파스타/빠네/알리오올리오/루꼴라 피자/음료/식전빵)>')\n",
    "                if food=='바질파스타':\n",
    "                    price_food+=13000\n",
    "                elif food=='빠네':\n",
    "                    price_food+=14000\n",
    "                elif food=='알리오올리오':\n",
    "                    price_food+=12000\n",
    "                elif food=='루꼴라 피자':\n",
    "                    price_food+=18000\n",
    "                elif food=='음료':\n",
    "                    price_food+=2000\n",
    "                elif food=='식전빵':\n",
    "                    price_food+=314000\n",
    "a=restaurant()\n",
    "a.price()\n",
    "print('고객님이 주문하신 음식은 {}. 가격은 {}입니다.'.format(food,a.price()))"
   ]
  },
  {
   "cell_type": "code",
   "execution_count": null,
   "id": "108b0c45",
   "metadata": {},
   "outputs": [],
   "source": []
  },
  {
   "cell_type": "code",
   "execution_count": null,
   "id": "08080af4",
   "metadata": {},
   "outputs": [],
   "source": []
  },
  {
   "cell_type": "code",
   "execution_count": null,
   "id": "677463f0",
   "metadata": {},
   "outputs": [],
   "source": []
  }
 ],
 "metadata": {
  "kernelspec": {
   "display_name": "Python 3",
   "language": "python",
   "name": "python3"
  },
  "language_info": {
   "codemirror_mode": {
    "name": "ipython",
    "version": 3
   },
   "file_extension": ".py",
   "mimetype": "text/x-python",
   "name": "python",
   "nbconvert_exporter": "python",
   "pygments_lexer": "ipython3",
   "version": "3.8.10"
  }
 },
 "nbformat": 4,
 "nbformat_minor": 5
}

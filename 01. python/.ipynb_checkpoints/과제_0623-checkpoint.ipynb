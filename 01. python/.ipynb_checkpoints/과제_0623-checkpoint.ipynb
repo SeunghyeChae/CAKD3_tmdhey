{
 "cells": [
  {
   "cell_type": "code",
   "execution_count": 9,
   "id": "55e3c0a5",
   "metadata": {},
   "outputs": [
    {
     "name": "stdout",
     "output_type": "stream",
     "text": [
      "3 6 9 12 15 18 "
     ]
    }
   ],
   "source": [
    "# Q. 1 ~ 20사이의 정수에서 3의 배수만 출력하세요.\n",
    "\n",
    "for a in range(1,21):\n",
    "    if a%3==0:\n",
    "        print(a,end=' ')\n"
   ]
  },
  {
   "cell_type": "code",
   "execution_count": 11,
   "id": "a72feed7",
   "metadata": {},
   "outputs": [
    {
     "name": "stdout",
     "output_type": "stream",
     "text": [
      "96 97 98 99 100 "
     ]
    }
   ],
   "source": [
    "# Q. 1 ~ 100 범위의 정수에서 95보다 큰 정수만 출력하세요\n",
    "\n",
    "for a in range(1,101):\n",
    "    if a>95:\n",
    "        print(a,end=' ')\n"
   ]
  },
  {
   "cell_type": "code",
   "execution_count": 21,
   "id": "da2c3c9d",
   "metadata": {},
   "outputs": [
    {
     "name": "stdout",
     "output_type": "stream",
     "text": [
      "7 9 "
     ]
    }
   ],
   "source": [
    "# Q. [5, 0, 3, 3, 7, 9, 3, 5, 2, 4]에서 7,9만 출력하세요.\n",
    "\n",
    "X=[5, 0, 3, 3, 7, 9, 3, 5, 2, 4]\n",
    "for a in X:\n",
    "    if a>6:\n",
    "        print(a, end=(' '))"
   ]
  },
  {
   "cell_type": "code",
   "execution_count": 47,
   "id": "1c3045d3",
   "metadata": {},
   "outputs": [
    {
     "name": "stdout",
     "output_type": "stream",
     "text": [
      "0 9\n"
     ]
    }
   ],
   "source": [
    "# Q. [5, 0, 3, 3, 7, 9, 3, 5, 2, 4]에서 0,9만 출력하세요\n",
    "A=[5,0,3,3,7,9,3,5,2,4]\n",
    " \n",
    "print(min(A),max(A))"
   ]
  },
  {
   "cell_type": "code",
   "execution_count": 68,
   "id": "cfdd2e9f",
   "metadata": {},
   "outputs": [
    {
     "name": "stdout",
     "output_type": "stream",
     "text": [
      "10 11 12 "
     ]
    }
   ],
   "source": [
    "# Q. num에서 10,11,12만 출력하세요\n",
    "num=[0, 1, 2, 3, 4, 5, 6, 7, 8, 9, 10, 11, 12, 13, 14, 15, 16, 17, 18, 19]\n",
    "for a in num:\n",
    "    if 9<a<13:\n",
    "        print(a,end=(' '))"
   ]
  },
  {
   "cell_type": "code",
   "execution_count": 72,
   "id": "f82e366c",
   "metadata": {},
   "outputs": [
    {
     "name": "stdout",
     "output_type": "stream",
     "text": [
      "24750\n"
     ]
    }
   ],
   "source": [
    "# Q. 500 ~ 1000 사이의 정수 중 3과 5의 공배수의 합을 구하세요.\n",
    "\n",
    "sum=0\n",
    "for a in range(500,1001):\n",
    "    if a%3==0 and a%5==0:\n",
    "        sum+=a\n",
    "        #a+=1  <아고 안해도됨 for문이라... while에는 필요\n",
    "print(sum)"
   ]
  },
  {
   "cell_type": "code",
   "execution_count": 73,
   "id": "00b9cf5b",
   "metadata": {},
   "outputs": [
    {
     "name": "stdout",
     "output_type": "stream",
     "text": [
      "14210\n"
     ]
    }
   ],
   "source": [
    "# Q. 1 ~ 1000사이의 정수 중 5와 7의 공배수의 합을 구하세요\n",
    "\n",
    "sum=0\n",
    "for a in range(1,1001):\n",
    "    if a%5==0 and a%7==0:\n",
    "        sum+=a\n",
    "       # a+=1\n",
    "print(sum)"
   ]
  },
  {
   "cell_type": "code",
   "execution_count": 86,
   "id": "32edeec5",
   "metadata": {},
   "outputs": [
    {
     "name": "stdout",
     "output_type": "stream",
     "text": [
      "[12, 24, 36, 48, 60, 72, 84, 96, 108, 120, 132, 144, 156, 168, 180, 192, 204, 216, 228, 240, 252, 264, 276, 288, 300, 312, 324, 336, 348, 360, 372, 384, 396, 408, 420, 432, 444, 456, 468, 480, 492, 504, 516, 528, 540, 552, 564, 576, 588, 600, 612, 624, 636, 648, 660, 672, 684, 696, 708, 720, 732, 744, 756, 768, 780, 792, 804, 816, 828, 840, 852, 864, 876, 888, 900, 912, 924, 936, 948, 960, 972, 984, 996]\n"
     ]
    }
   ],
   "source": [
    "#1 ~ 100사이의 정수 중 3와 4의 공배수를 리스트로 구하세요.\n",
    "#= list1=[]\n",
    "list1=list()\n",
    "for a in range(1,1001):\n",
    "    if a%3==0 and a%4==0:\n",
    "        list1.append(a)\n",
    "print(list1)"
   ]
  },
  {
   "cell_type": "code",
   "execution_count": 39,
   "id": "105a58c7",
   "metadata": {},
   "outputs": [
    {
     "name": "stdout",
     "output_type": "stream",
     "text": [
      "2520\n"
     ]
    }
   ],
   "source": [
    "#3~7사이의 정수의 곱을 구하세요.********\n",
    "\n",
    "a=0\n",
    "mul=1\n",
    "while 1:\n",
    "    a+=1\n",
    "    if 3<=a<8:\n",
    "        mul*=a\n",
    "    elif a>7:\n",
    "        break\n",
    "    \n",
    "print(mul)"
   ]
  },
  {
   "cell_type": "code",
   "execution_count": 25,
   "id": "7c512af8",
   "metadata": {},
   "outputs": [
    {
     "name": "stdout",
     "output_type": "stream",
     "text": [
      "25\n"
     ]
    }
   ],
   "source": [
    "# Q. 2,3을 더한 후 5를 곱하는 계산 값을 람다함수를 이용하여 구하세요.\n",
    "\n",
    "a= lambda a,b,c : (a+b)*c\n",
    "print(a(2,3,5))"
   ]
  },
  {
   "cell_type": "code",
   "execution_count": 2,
   "id": "d52c79bf",
   "metadata": {},
   "outputs": [
    {
     "data": {
      "text/plain": [
       "1"
      ]
     },
     "execution_count": 2,
     "metadata": {},
     "output_type": "execute_result"
    }
   ],
   "source": [
    "# Q. 2와 5를 더한 후 3으로 나눈 나머지 값을 사용자 함수를 이용하여 구하세요.\n",
    "\n",
    "def hello(a,b,c):\n",
    "    return (a+b)%c\n",
    "\n",
    "hello(2,5,3)"
   ]
  },
  {
   "cell_type": "code",
   "execution_count": 41,
   "id": "9b2b1b84",
   "metadata": {},
   "outputs": [
    {
     "name": "stdout",
     "output_type": "stream",
     "text": [
      "It is true\n",
      "'Python is fit for data analysis'\n",
      "\n"
     ]
    }
   ],
   "source": [
    "input_a = \"\"\"\n",
    "                       It is true\n",
    "'Python is fit for data analysis'\n",
    "\"\"\"\n",
    "print(input_a.lstrip())\n",
    "\n"
   ]
  },
  {
   "cell_type": "code",
   "execution_count": 44,
   "id": "058dcbb8",
   "metadata": {},
   "outputs": [
    {
     "name": "stdout",
     "output_type": "stream",
     "text": [
      "['10', '20', '30', '40', '50']\n"
     ]
    }
   ],
   "source": [
    "# Q. \"10/20/30/40/50\"을 '/'를 기준으로 구분하여 아래와 같이 출력하세요.\n",
    "# ['10', '20', '30', '40', '50']\n",
    "\n",
    "X=\"10/20/30/40/50\"\n",
    "print(X.split('/'))"
   ]
  },
  {
   "cell_type": "code",
   "execution_count": 63,
   "id": "a6c32e82",
   "metadata": {},
   "outputs": [
    {
     "name": "stdout",
     "output_type": "stream",
     "text": [
      "2021년 6월 23일 16시 57분 35초\n"
     ]
    }
   ],
   "source": [
    "# Q. 현재의 날씨와 시간을 다음과 같이 포멧으로 표현하세요\n",
    "# 2021년 6월 23일 09시 01분 01초\n",
    "import datetime\n",
    "now= datetime.datetime.now()\n",
    "print(\"{}년 {}월 {}일 {}시 {}분 {}초\".format(now.year, now.month, now.day, now.hour, now.minute, now.second))"
   ]
  },
  {
   "cell_type": "code",
   "execution_count": 4,
   "id": "b2dafbcd",
   "metadata": {},
   "outputs": [
    {
     "name": "stdout",
     "output_type": "stream",
     "text": [
      "첫번째 수를 입력하세요>6\n",
      "두번째 수를 입력하세요>1\n",
      "수를 다시 입력하세요\n"
     ]
    }
   ],
   "source": [
    "# Q. 짝수 와 짝수를 입력하면 곱한 값을 출력하고 홀수와 홀수를 입력하면 덧셈 값을 \n",
    "# 출력하고 그외는 다시 입력하라는 메시지를 출력하세요.\n",
    "\n",
    "num1=int(input('첫번째 수를 입력하세요>'))\n",
    "num2=int(input('두번째 수를 입력하세요>'))\n",
    "\n",
    "if num1%2==0 and num2%2==0:\n",
    "    print(num1*num2)\n",
    "elif num1%2==1 and num2%2==1:\n",
    "    print(num1+num2)\n",
    "else:\n",
    "    print('수를 다시 입력하세요')\n"
   ]
  },
  {
   "cell_type": "code",
   "execution_count": 79,
   "id": "7431f3ba",
   "metadata": {},
   "outputs": [
    {
     "name": "stdout",
     "output_type": "stream",
     "text": [
      "2500\n"
     ]
    }
   ],
   "source": [
    "# Q. 1부터 100까지 아래와 같이 2개의 수를 곱해서 가장 큰 수를 구하세요.\n",
    "num1= 0\n",
    "num2= 100\n",
    "list1=list()\n",
    "#list1=[]\n",
    "\n",
    "while 1:\n",
    "    num1+=1\n",
    "    num2-=1\n",
    "    list1.append(num1*num2)\n",
    "    if num1==99 or num2==1:\n",
    "        break\n",
    "print(max(list1))\n"
   ]
  },
  {
   "cell_type": "code",
   "execution_count": 81,
   "id": "db44b8d8",
   "metadata": {},
   "outputs": [
    {
     "name": "stdout",
     "output_type": "stream",
     "text": [
      "[[1, 4, 7], [2, 5, 8], [3, 6, 9]]\n"
     ]
    }
   ],
   "source": [
    "# Q. [    ]을 채워서 아래의 출력과 같이 출력하세요. ###########\n",
    "# 출력 :\n",
    "# [[1,4,7],[2,5,8],[3,6,9]]\n",
    "\n",
    "numbers = [1,2,3,4,5,6,7,8,9]\n",
    "output = [[], [], []]\n",
    "\n",
    "for number in numbers:\n",
    "    output[(number+2)%3].append(number)\n",
    "print(output)\n",
    "\n",
    "#대괄호 안에들어가는건 인덱스값 \n",
    "#첫번째 1이 왔을 때 인덱스 0, 두번째2에 1, 3번쨰에2\n",
    "#인덱스를 만족할 수 있는 로직"
   ]
  },
  {
   "cell_type": "markdown",
   "id": "182c6c47",
   "metadata": {},
   "source": [
    "\n",
    "## Q. 커피 자판기 프로그램\n",
    "- 시나리오 : 자판기 커피 재고 5잔, 커피 1잔 가격 300원, 재고 범위내에서 300원 이상 돈을 넣으면 거스름돈과 커피를 주고 그렇지 않으면 반환하며 재고가 소진되면 안내멘트 출력\n",
    "- 각 Case별 멘트 출력은 상황에 맞게 창작\n",
    "- while, if ~ elif ~ else 제어문을 사용하여 작성"
   ]
  },
  {
   "cell_type": "code",
   "execution_count": 102,
   "id": "10d2f01a",
   "metadata": {},
   "outputs": [
    {
     "name": "stdout",
     "output_type": "stream",
     "text": [
      "돈을 넣어주세요>800\n",
      "주문하신 커피 나왔습니다. 거스름돈은500원 입니다.\n"
     ]
    }
   ],
   "source": [
    "count=5 \n",
    "coffee=300\n",
    "\n",
    "while count>0:\n",
    "    a=int(input('돈을 넣어주세요>'))\n",
    "    if a>coffee:\n",
    "        print('주문하신 커피 나왔습니다. 거스름돈은{}원 입니다.'.format(a-coffee))\n",
    "        count-=1\n",
    "    elif a<coffee:\n",
    "        print('커피값이 모자라 돈이 반환됩니다.')\n",
    "    if count==0:\n",
    "        print('재고가 소진되어 자판기 운영을 종료합니다')\n",
    "    break\n",
    "    "
   ]
  },
  {
   "cell_type": "code",
   "execution_count": 7,
   "id": "47717197",
   "metadata": {},
   "outputs": [
    {
     "ename": "SyntaxError",
     "evalue": "invalid syntax (<ipython-input-7-baeac5fee911>, line 12)",
     "output_type": "error",
     "traceback": [
      "\u001b[1;36m  File \u001b[1;32m\"<ipython-input-7-baeac5fee911>\"\u001b[1;36m, line \u001b[1;32m12\u001b[0m\n\u001b[1;33m    elif a<(coffee*b):\u001b[0m\n\u001b[1;37m    ^\u001b[0m\n\u001b[1;31mSyntaxError\u001b[0m\u001b[1;31m:\u001b[0m invalid syntax\n"
     ]
    }
   ],
   "source": [
    "count=5 \n",
    "coffee=300\n",
    "while count>0:\n",
    "    \n",
    "    a=int(input('돈을 넣어주세요>'))\n",
    "    b=int(input('주문하실 커피 개수를 입력해주세요>'))\n",
    "\n",
    "    if a>(coffee*b) and count>=b:\n",
    "        count-=b\n",
    "        print('주문하신 커피 {}잔 나왔습니다. 거스름돈은{}원 입니다.'.format(b,a-(coffee*b))\n",
    "\n",
    "    elif a<(coffee*b):\n",
    "        print('커피값이 모자라 돈이 반환됩니다.')\n",
    "    if count==0:\n",
    "        print('재고가 소진되어 자판기 운영을 종료합니다')\n",
    "    break"
   ]
  },
  {
   "cell_type": "code",
   "execution_count": null,
   "id": "4875c69a",
   "metadata": {},
   "outputs": [],
   "source": []
  },
  {
   "cell_type": "code",
   "execution_count": null,
   "id": "9c8c49ba",
   "metadata": {},
   "outputs": [],
   "source": []
  },
  {
   "cell_type": "code",
   "execution_count": null,
   "id": "3d487970",
   "metadata": {},
   "outputs": [],
   "source": []
  }
 ],
 "metadata": {
  "kernelspec": {
   "display_name": "Python 3",
   "language": "python",
   "name": "python3"
  },
  "language_info": {
   "codemirror_mode": {
    "name": "ipython",
    "version": 3
   },
   "file_extension": ".py",
   "mimetype": "text/x-python",
   "name": "python",
   "nbconvert_exporter": "python",
   "pygments_lexer": "ipython3",
   "version": "3.8.10"
  }
 },
 "nbformat": 4,
 "nbformat_minor": 5
}

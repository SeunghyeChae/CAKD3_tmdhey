{
 "cells": [
  {
   "cell_type": "code",
   "execution_count": 7,
   "id": "db26e464",
   "metadata": {},
   "outputs": [
    {
     "name": "stdout",
     "output_type": "stream",
     "text": [
      "2021 년\n",
      "6 월\n",
      "23 일\n",
      "10 시\n",
      "16 분\n",
      "2 초\n"
     ]
    }
   ],
   "source": [
    "import datetime\n",
    "a=datetime.datetime.now()\n",
    "print(a.year,'년')\n",
    "print(a.month,'월')\n",
    "print(a.day,'일')\n",
    "print(a.hour,'시')\n",
    "print(a.minute,'분')\n",
    "print(a.second,'초')"
   ]
  },
  {
   "cell_type": "code",
   "execution_count": 24,
   "id": "96328729",
   "metadata": {},
   "outputs": [
    {
     "name": "stdout",
     "output_type": "stream",
     "text": [
      "1\n",
      "2\n",
      "3\n",
      "4\n",
      "5\n"
     ]
    }
   ],
   "source": [
    "# 제어문- for~continue~break\n",
    "# 1~10범위의 정수에서 1부터 5까지만 출력하세요\n",
    "for a in range(1,11):\n",
    "    print(a)\n",
    "    if a<5:\n",
    "        continue\n",
    "    else:\n",
    "        break\n"
   ]
  },
  {
   "cell_type": "code",
   "execution_count": 27,
   "id": "108188bd",
   "metadata": {},
   "outputs": [
    {
     "name": "stdout",
     "output_type": "stream",
     "text": [
      "1\n",
      "2\n",
      "3\n",
      "4\n",
      "5\n"
     ]
    }
   ],
   "source": [
    "\n",
    "for a in range(1,11):\n",
    "    print(a)\n",
    "    if a==5:\n",
    "        break  "
   ]
  },
  {
   "cell_type": "code",
   "execution_count": 32,
   "id": "1d308d9f",
   "metadata": {},
   "outputs": [],
   "source": [
    "for a in range(1,11):\n",
    "        if a>4:\n",
    "            break"
   ]
  },
  {
   "cell_type": "code",
   "execution_count": 35,
   "id": "11da48f3",
   "metadata": {},
   "outputs": [
    {
     "name": "stdout",
     "output_type": "stream",
     "text": [
      "15\n",
      "20\n",
      "25\n"
     ]
    }
   ],
   "source": [
    "#Q. numbers 리스트에서 15,20,25출력 (for문if문 사용 필수 )\n",
    "numbers=[5,15,6,20,7,25]\n",
    "\n",
    "for a in numbers:\n",
    "    if a%5 ==0 and a>5:\n",
    "        print(a)"
   ]
  },
  {
   "cell_type": "code",
   "execution_count": 38,
   "id": "84775a9f",
   "metadata": {},
   "outputs": [
    {
     "name": "stdout",
     "output_type": "stream",
     "text": [
      "15 20 25 "
     ]
    }
   ],
   "source": [
    "numbers=[5,15,6,20,7,25]\n",
    "for a in numbers:\n",
    "    if a<15:\n",
    "        continue\n",
    "    else:\n",
    "        print(a,end=' ')"
   ]
  },
  {
   "cell_type": "code",
   "execution_count": 58,
   "id": "b49af9a8",
   "metadata": {},
   "outputs": [
    {
     "name": "stdout",
     "output_type": "stream",
     "text": [
      "45\n",
      "1034\n"
     ]
    }
   ],
   "source": [
    "#제어문 -while\n",
    "#정수 1부터 n 까지 더할 때 그 합이 1000보다 커지게 되는 n과 합을 구하세요\n",
    "\n",
    "a=1\n",
    "sum=0\n",
    "while 1:\n",
    "    a=a+1\n",
    "    sum+=a\n",
    "    if sum>1000:\n",
    "        print(a)\n",
    "        print(sum)\n",
    "        break\n",
    "\n"
   ]
  },
  {
   "cell_type": "code",
   "execution_count": 75,
   "id": "80ed5f13",
   "metadata": {},
   "outputs": [
    {
     "name": "stdout",
     "output_type": "stream",
     "text": [
      "166833\n"
     ]
    }
   ],
   "source": [
    "# Q. while문 사용해서 1~1000까지 정수중 3의 배수의 합구하기\n",
    "\n",
    "a=1\n",
    "sum=0\n",
    "\n",
    "while a<1001:\n",
    "    if a%3==0:\n",
    "        sum+=a\n",
    "    a+=1\n",
    "print(sum)\n",
    "        \n",
    "        \n",
    "        \n",
    "    "
   ]
  },
  {
   "cell_type": "code",
   "execution_count": 93,
   "id": "5b2e12d7",
   "metadata": {},
   "outputs": [
    {
     "name": "stdout",
     "output_type": "stream",
     "text": [
      "33165\n"
     ]
    }
   ],
   "source": [
    "#과제 Q. while문 사용해서 1~1000까지 정수중 3과5의 공배수의 합구하기\n",
    "\n",
    "a=1\n",
    "sum=0\n",
    "while a<1001:\n",
    "    if a%3==0 and a%5==0:\n",
    "        sum+=a\n",
    "    a+=1\n",
    "print(sum)\n"
   ]
  },
  {
   "cell_type": "code",
   "execution_count": 89,
   "id": "69ba2019",
   "metadata": {},
   "outputs": [
    {
     "name": "stdout",
     "output_type": "stream",
     "text": [
      "4550\n"
     ]
    }
   ],
   "source": [
    "n=0\n",
    "sum=0\n",
    "while 1:\n",
    "    n=n+1\n",
    "    if n>=5 and n<=95:\n",
    "        sum+=n\n",
    "        continue\n",
    "    elif n>100:\n",
    "        break\n",
    "print(sum)"
   ]
  },
  {
   "cell_type": "code",
   "execution_count": 104,
   "id": "70ef908b",
   "metadata": {},
   "outputs": [
    {
     "name": "stdout",
     "output_type": "stream",
     "text": [
      "5050\n"
     ]
    }
   ],
   "source": [
    "# 1~100합 / 1~4합 / 96~100합 \n",
    "\n",
    "\n",
    "num=1\n",
    "sum=0\n",
    "\n",
    "for num in range(1,101):\n",
    "    sum+=num\n",
    "    num+=1\n",
    "print(sum)"
   ]
  },
  {
   "cell_type": "code",
   "execution_count": 105,
   "id": "80daf67f",
   "metadata": {},
   "outputs": [
    {
     "name": "stdout",
     "output_type": "stream",
     "text": [
      "32\n",
      "25\n"
     ]
    }
   ],
   "source": [
    "#Q. 람다 함수를 이용해서 a의 b제곱을 구하는 식을 만들고\n",
    "#a,b가 아래와 같이주어졌을 때 각각의 값 을 구하시오\n",
    "# a=2, b=5\n",
    "# a=5, b=2\n",
    "\n",
    "x= lambda a, b: a**b\n",
    "print(x(2,5))\n",
    "print(x(5,2))"
   ]
  },
  {
   "cell_type": "code",
   "execution_count": 107,
   "id": "6547843d",
   "metadata": {},
   "outputs": [
    {
     "data": {
      "text/plain": [
       "1"
      ]
     },
     "execution_count": 107,
     "metadata": {},
     "output_type": "execute_result"
    }
   ],
   "source": [
    "a=2; b=3; c=5\n",
    "a*b-c\n",
    "\n",
    "\n"
   ]
  },
  {
   "cell_type": "code",
   "execution_count": 109,
   "id": "03fedd1c",
   "metadata": {},
   "outputs": [
    {
     "name": "stdout",
     "output_type": "stream",
     "text": [
      "1\n"
     ]
    }
   ],
   "source": [
    "x= lambda a,b,c : a*b-c\n",
    "print(x(2,3,5))"
   ]
  },
  {
   "cell_type": "code",
   "execution_count": 111,
   "id": "72139173",
   "metadata": {},
   "outputs": [
    {
     "data": {
      "text/plain": [
       "(2, 17)"
      ]
     },
     "execution_count": 111,
     "metadata": {},
     "output_type": "execute_result"
    }
   ],
   "source": [
    "#Q. 97을 40으로 나눈 몫과 나머지를 내장함수를 이용하여 구하세요. (튜플 입력필수)\n",
    "a,b=97,40\n",
    "divmod(a,b)"
   ]
  },
  {
   "cell_type": "code",
   "execution_count": 112,
   "id": "433c13f6",
   "metadata": {},
   "outputs": [
    {
     "data": {
      "text/plain": [
       "20"
      ]
     },
     "execution_count": 112,
     "metadata": {},
     "output_type": "execute_result"
    }
   ],
   "source": [
    "#사용자 함수\n",
    "def add_10(a):\n",
    "    return a+10\n",
    "\n",
    "add_10(10)"
   ]
  },
  {
   "cell_type": "code",
   "execution_count": 114,
   "id": "87c66c7d",
   "metadata": {},
   "outputs": [
    {
     "data": {
      "text/plain": [
       "1"
      ]
     },
     "execution_count": 114,
     "metadata": {},
     "output_type": "execute_result"
    }
   ],
   "source": [
    "def lambd_a(a,b,c):\n",
    "    return a*b-c\n",
    "\n",
    "lambd_a(2,3,5)"
   ]
  },
  {
   "cell_type": "code",
   "execution_count": 126,
   "id": "ddb5797d",
   "metadata": {},
   "outputs": [
    {
     "name": "stdout",
     "output_type": "stream",
     "text": [
      "a의 값을 입력하시오3\n",
      "b의 값을 입력하시오1\n",
      "c의 값을 입력하시오5\n"
     ]
    },
    {
     "data": {
      "text/plain": [
       "8"
      ]
     },
     "execution_count": 126,
     "metadata": {},
     "output_type": "execute_result"
    }
   ],
   "source": [
    "X=[2,3,5,7,8,9]\n",
    "\n",
    "def hello(a,b,c):\n",
    "    if a in X:\n",
    "        return a**b+c\n",
    "    else:\n",
    "        return 'ERROR'\n",
    "    \n",
    "a= int(input('a의 값을 입력하시오'))\n",
    "b= int(input('b의 값을 입력하시오'))\n",
    "c= int(input('c의 값을 입력하시오'))\n",
    "hello(a,b,c)"
   ]
  },
  {
   "cell_type": "code",
   "execution_count": 127,
   "id": "6619fdd3",
   "metadata": {},
   "outputs": [
    {
     "ename": "KeyboardInterrupt",
     "evalue": "Interrupted by user",
     "output_type": "error",
     "traceback": [
      "\u001b[1;31m---------------------------------------------------------------------------\u001b[0m",
      "\u001b[1;31mKeyboardInterrupt\u001b[0m                         Traceback (most recent call last)",
      "\u001b[1;32m<ipython-input-127-c6d26270df3c>\u001b[0m in \u001b[0;36m<module>\u001b[1;34m\u001b[0m\n\u001b[0;32m      9\u001b[0m     \u001b[1;32mif\u001b[0m \u001b[1;36m0\u001b[0m \u001b[1;33m<=\u001b[0m \u001b[0matt_r\u001b[0m \u001b[1;33m<=\u001b[0m \u001b[1;36m100\u001b[0m\u001b[1;33m:\u001b[0m\u001b[1;33m\u001b[0m\u001b[1;33m\u001b[0m\u001b[0m\n\u001b[0;32m     10\u001b[0m         \u001b[0mprint\u001b[0m\u001b[1;33m(\u001b[0m\u001b[1;34m\"출석률은 {:.2f}%입니다.\"\u001b[0m\u001b[1;33m.\u001b[0m\u001b[0mformat\u001b[0m\u001b[1;33m(\u001b[0m\u001b[0matt_r\u001b[0m\u001b[1;33m)\u001b[0m\u001b[1;33m)\u001b[0m\u001b[1;33m\u001b[0m\u001b[1;33m\u001b[0m\u001b[0m\n\u001b[1;32m---> 11\u001b[1;33m \u001b[0matt_rate\u001b[0m\u001b[1;33m(\u001b[0m\u001b[1;33m)\u001b[0m\u001b[1;33m\u001b[0m\u001b[1;33m\u001b[0m\u001b[0m\n\u001b[0m\u001b[0;32m     12\u001b[0m \u001b[1;33m\u001b[0m\u001b[0m\n",
      "\u001b[1;32m<ipython-input-127-c6d26270df3c>\u001b[0m in \u001b[0;36matt_rate\u001b[1;34m()\u001b[0m\n\u001b[0;32m      1\u001b[0m \u001b[1;32mdef\u001b[0m \u001b[0matt_rate\u001b[0m\u001b[1;33m(\u001b[0m\u001b[1;33m)\u001b[0m\u001b[1;33m:\u001b[0m\u001b[1;33m\u001b[0m\u001b[1;33m\u001b[0m\u001b[0m\n\u001b[1;32m----> 2\u001b[1;33m     \u001b[0mdays\u001b[0m \u001b[1;33m=\u001b[0m \u001b[0mint\u001b[0m\u001b[1;33m(\u001b[0m\u001b[0minput\u001b[0m\u001b[1;33m(\u001b[0m\u001b[1;34m\"전체 수업일수를 입력하세요: \"\u001b[0m\u001b[1;33m)\u001b[0m\u001b[1;33m)\u001b[0m\u001b[1;33m\u001b[0m\u001b[1;33m\u001b[0m\u001b[0m\n\u001b[0m\u001b[0;32m      3\u001b[0m     \u001b[0mabsent\u001b[0m \u001b[1;33m=\u001b[0m \u001b[0mint\u001b[0m\u001b[1;33m(\u001b[0m\u001b[0minput\u001b[0m\u001b[1;33m(\u001b[0m\u001b[1;34m\"결석일수를 입력하세요: \"\u001b[0m\u001b[1;33m)\u001b[0m\u001b[1;33m)\u001b[0m\u001b[1;33m\u001b[0m\u001b[1;33m\u001b[0m\u001b[0m\n\u001b[0;32m      4\u001b[0m     \u001b[0mlate\u001b[0m \u001b[1;33m=\u001b[0m \u001b[0mint\u001b[0m\u001b[1;33m(\u001b[0m\u001b[0minput\u001b[0m\u001b[1;33m(\u001b[0m\u001b[1;34m\"지각 횟수를 입력하세요: \"\u001b[0m\u001b[1;33m)\u001b[0m\u001b[1;33m)\u001b[0m\u001b[1;33m\u001b[0m\u001b[1;33m\u001b[0m\u001b[0m\n\u001b[0;32m      5\u001b[0m     \u001b[0mout\u001b[0m \u001b[1;33m=\u001b[0m \u001b[0mint\u001b[0m\u001b[1;33m(\u001b[0m\u001b[0minput\u001b[0m\u001b[1;33m(\u001b[0m\u001b[1;34m\"외출 횟수를 입력하세요: \"\u001b[0m\u001b[1;33m)\u001b[0m\u001b[1;33m)\u001b[0m\u001b[1;33m\u001b[0m\u001b[1;33m\u001b[0m\u001b[0m\n",
      "\u001b[1;32m~\\anaconda3\\envs\\cakd3\\lib\\site-packages\\ipykernel\\kernelbase.py\u001b[0m in \u001b[0;36mraw_input\u001b[1;34m(self, prompt)\u001b[0m\n\u001b[0;32m    858\u001b[0m                 \u001b[1;34m\"raw_input was called, but this frontend does not support input requests.\"\u001b[0m\u001b[1;33m\u001b[0m\u001b[1;33m\u001b[0m\u001b[0m\n\u001b[0;32m    859\u001b[0m             )\n\u001b[1;32m--> 860\u001b[1;33m         return self._input_request(str(prompt),\n\u001b[0m\u001b[0;32m    861\u001b[0m             \u001b[0mself\u001b[0m\u001b[1;33m.\u001b[0m\u001b[0m_parent_ident\u001b[0m\u001b[1;33m,\u001b[0m\u001b[1;33m\u001b[0m\u001b[1;33m\u001b[0m\u001b[0m\n\u001b[0;32m    862\u001b[0m             \u001b[0mself\u001b[0m\u001b[1;33m.\u001b[0m\u001b[0m_parent_header\u001b[0m\u001b[1;33m,\u001b[0m\u001b[1;33m\u001b[0m\u001b[1;33m\u001b[0m\u001b[0m\n",
      "\u001b[1;32m~\\anaconda3\\envs\\cakd3\\lib\\site-packages\\ipykernel\\kernelbase.py\u001b[0m in \u001b[0;36m_input_request\u001b[1;34m(self, prompt, ident, parent, password)\u001b[0m\n\u001b[0;32m    902\u001b[0m             \u001b[1;32mexcept\u001b[0m \u001b[0mKeyboardInterrupt\u001b[0m\u001b[1;33m:\u001b[0m\u001b[1;33m\u001b[0m\u001b[1;33m\u001b[0m\u001b[0m\n\u001b[0;32m    903\u001b[0m                 \u001b[1;31m# re-raise KeyboardInterrupt, to truncate traceback\u001b[0m\u001b[1;33m\u001b[0m\u001b[1;33m\u001b[0m\u001b[1;33m\u001b[0m\u001b[0m\n\u001b[1;32m--> 904\u001b[1;33m                 \u001b[1;32mraise\u001b[0m \u001b[0mKeyboardInterrupt\u001b[0m\u001b[1;33m(\u001b[0m\u001b[1;34m\"Interrupted by user\"\u001b[0m\u001b[1;33m)\u001b[0m \u001b[1;32mfrom\u001b[0m \u001b[1;32mNone\u001b[0m\u001b[1;33m\u001b[0m\u001b[1;33m\u001b[0m\u001b[0m\n\u001b[0m\u001b[0;32m    905\u001b[0m             \u001b[1;32mexcept\u001b[0m \u001b[0mException\u001b[0m \u001b[1;32mas\u001b[0m \u001b[0me\u001b[0m\u001b[1;33m:\u001b[0m\u001b[1;33m\u001b[0m\u001b[1;33m\u001b[0m\u001b[0m\n\u001b[0;32m    906\u001b[0m                 \u001b[0mself\u001b[0m\u001b[1;33m.\u001b[0m\u001b[0mlog\u001b[0m\u001b[1;33m.\u001b[0m\u001b[0mwarning\u001b[0m\u001b[1;33m(\u001b[0m\u001b[1;34m\"Invalid Message:\"\u001b[0m\u001b[1;33m,\u001b[0m \u001b[0mexc_info\u001b[0m\u001b[1;33m=\u001b[0m\u001b[1;32mTrue\u001b[0m\u001b[1;33m)\u001b[0m\u001b[1;33m\u001b[0m\u001b[1;33m\u001b[0m\u001b[0m\n",
      "\u001b[1;31mKeyboardInterrupt\u001b[0m: Interrupted by user"
     ]
    }
   ],
   "source": [
    "def att_rate():\n",
    "    days = int(input(\"전체 수업일수를 입력하세요: \"))\n",
    "    absent = int(input(\"결석일수를 입력하세요: \"))\n",
    "    late = int(input(\"지각 횟수를 입력하세요: \"))\n",
    "    out = int(input(\"외출 횟수를 입력하세요: \"))\n",
    "    early = int(input(\"조퇴 횟수를 입력하세요: \"))\n",
    "    absent += (late+out+early)//3\n",
    "    att_r = (days-absent)*100/(days)\n",
    "    if 0 <= att_r <= 100:\n",
    "        print(\"출석률은 {:.2f}%입니다.\".format(att_r))\n",
    "att_rate()\n",
    "\n"
   ]
  },
  {
   "cell_type": "code",
   "execution_count": 128,
   "id": "987fcedb",
   "metadata": {},
   "outputs": [],
   "source": [
    "#현재 시각을 오전과 오후를 구분하는 프로그램을 작성하세요\n",
    "import datetime\n",
    "\n",
    "a=datetime.datetime.now()\n",
    "if t.hour<12:\n",
    "    print(\"현재시각은 오전 {}시로 오전입니다.\".format(t,hour))\n",
    "else :\n",
    "    print(\"현재시각은 오후 {}시로 오후입니다.\".format(t,hour))"
   ]
  },
  {
   "cell_type": "code",
   "execution_count": 131,
   "id": "7d2238d0",
   "metadata": {},
   "outputs": [
    {
     "name": "stdout",
     "output_type": "stream",
     "text": [
      "정수x= 1\n",
      "홀수\n"
     ]
    }
   ],
   "source": [
    "#@ 정수를 입력하면 홀수 짝수를 판별하는 프로그램 작성\n",
    "\n",
    "n= int(input('정수x= '))\n",
    "if n%2==0:\n",
    "    print('짝수')\n",
    "else:\n",
    "    print('홀수')\n"
   ]
  },
  {
   "cell_type": "code",
   "execution_count": 133,
   "id": "bb807163",
   "metadata": {},
   "outputs": [
    {
     "name": "stdout",
     "output_type": "stream",
     "text": [
      "정수를 입력해주세요>3\n",
      "홀수\n"
     ]
    }
   ],
   "source": [
    "number = input(\"정수를 입력해주세요>\")\n",
    "number= int(number)\n",
    "\n",
    "if number%2 ==0 :\n",
    "    print(\"짝수\")\n",
    "else:\n",
    "    print(\"홀수\")\n",
    "    "
   ]
  },
  {
   "cell_type": "code",
   "execution_count": null,
   "id": "6c821e11",
   "metadata": {},
   "outputs": [],
   "source": [
    "n1= int(input('수를 입력하세요.'))\n",
    "n2= int(input('처음과 다른 수를 입력하세요.'))\n",
    "if n1>n2:\n",
    "    print (n1)\n",
    "else :\n",
    "    print(n2)\n"
   ]
  },
  {
   "cell_type": "code",
   "execution_count": 138,
   "id": "ff998ce0",
   "metadata": {},
   "outputs": [
    {
     "name": "stdout",
     "output_type": "stream",
     "text": [
      "5\n"
     ]
    },
    {
     "ename": "ValueError",
     "evalue": "not enough values to unpack (expected 2, got 1)",
     "output_type": "error",
     "traceback": [
      "\u001b[1;31m---------------------------------------------------------------------------\u001b[0m",
      "\u001b[1;31mValueError\u001b[0m                                Traceback (most recent call last)",
      "\u001b[1;32m<ipython-input-138-55ef59ed65e9>\u001b[0m in \u001b[0;36m<module>\u001b[1;34m\u001b[0m\n\u001b[1;32m----> 1\u001b[1;33m \u001b[0ma\u001b[0m\u001b[1;33m,\u001b[0m\u001b[0mb\u001b[0m \u001b[1;33m=\u001b[0m \u001b[0mmap\u001b[0m\u001b[1;33m(\u001b[0m\u001b[0mint\u001b[0m\u001b[1;33m,\u001b[0m \u001b[0minput\u001b[0m\u001b[1;33m(\u001b[0m\u001b[1;33m)\u001b[0m\u001b[1;33m.\u001b[0m\u001b[0msplit\u001b[0m\u001b[1;33m(\u001b[0m\u001b[1;33m)\u001b[0m\u001b[1;33m)\u001b[0m\u001b[1;33m\u001b[0m\u001b[1;33m\u001b[0m\u001b[0m\n\u001b[0m\u001b[0;32m      2\u001b[0m \u001b[0mprint\u001b[0m\u001b[1;33m(\u001b[0m\u001b[0mmax\u001b[0m\u001b[1;33m(\u001b[0m\u001b[0ma\u001b[0m\u001b[1;33m,\u001b[0m\u001b[0mb\u001b[0m\u001b[1;33m)\u001b[0m\u001b[1;33m)\u001b[0m\u001b[1;33m\u001b[0m\u001b[1;33m\u001b[0m\u001b[0m\n",
      "\u001b[1;31mValueError\u001b[0m: not enough values to unpack (expected 2, got 1)"
     ]
    }
   ],
   "source": []
  },
  {
   "cell_type": "code",
   "execution_count": null,
   "id": "7760aff4",
   "metadata": {},
   "outputs": [],
   "source": []
  },
  {
   "cell_type": "code",
   "execution_count": null,
   "id": "76f6fc28",
   "metadata": {},
   "outputs": [],
   "source": []
  }
 ],
 "metadata": {
  "kernelspec": {
   "display_name": "Python 3",
   "language": "python",
   "name": "python3"
  },
  "language_info": {
   "codemirror_mode": {
    "name": "ipython",
    "version": 3
   },
   "file_extension": ".py",
   "mimetype": "text/x-python",
   "name": "python",
   "nbconvert_exporter": "python",
   "pygments_lexer": "ipython3",
   "version": "3.8.10"
  }
 },
 "nbformat": 4,
 "nbformat_minor": 5
}

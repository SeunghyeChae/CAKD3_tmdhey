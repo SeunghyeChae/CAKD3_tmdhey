{
 "cells": [
  {
   "cell_type": "code",
   "execution_count": 1,
   "id": "0a342449",
   "metadata": {},
   "outputs": [],
   "source": [
    "import turtle\n",
    "t= turtle.Turtle()\n",
    "t.shape('arrow')\n",
    "t.pencolor(\"red\")\n",
    "t.speed(0)\n",
    "t.width(3)\n",
    "t.forward(100)"
   ]
  },
  {
   "cell_type": "code",
   "execution_count": null,
   "id": "a6cdf889",
   "metadata": {},
   "outputs": [],
   "source": [
    "\n",
    "import turtle\n",
    "import random\n",
    "import time\n",
    "import threading\n",
    "t=turtle.Turtle()\n",
    "t.hideturtle()\n",
    "\n",
    "s=50\n",
    "t.pensize(5)\n",
    "showmovesflag=0"
   ]
  },
  {
   "cell_type": "code",
   "execution_count": null,
   "id": "fddf0c83",
   "metadata": {},
   "outputs": [
    {
     "name": "stdout",
     "output_type": "stream",
     "text": [
      "spacebar pressed\n",
      "spacebar pressed\n",
      "spacebar pressed\n",
      "spacebar pressed\n"
     ]
    }
   ],
   "source": [
    "import turtle\n",
    "pen=turtle.Turtle()\n",
    "def space():\n",
    "    print(\"spacebar pressed\")\n",
    "turtle.onkeypress(space, \"space\")\n",
    "turtle.listen()\n",
    "pen.hideturtle()\n",
    "pen.penup()\n",
    "while True:\n",
    "    pen.goto(-100,100)\n",
    "    pen.goto(100,-100)"
   ]
  },
  {
   "cell_type": "code",
   "execution_count": null,
   "id": "413842cc",
   "metadata": {},
   "outputs": [],
   "source": []
  }
 ],
 "metadata": {
  "kernelspec": {
   "display_name": "Python 3",
   "language": "python",
   "name": "python3"
  }
 },
 "nbformat": 4,
 "nbformat_minor": 5
}

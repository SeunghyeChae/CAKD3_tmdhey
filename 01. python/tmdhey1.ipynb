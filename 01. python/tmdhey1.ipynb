{
 "cells": [
  {
   "cell_type": "raw",
   "id": "7bb5372d",
   "metadata": {},
   "source": [
    "검색하기....~\n",
    "\n",
    "글입력 하기\n",
    "입력한 글에서 찾고싶은 문자 찾기 \n",
    "\n",
    "입려ㄱ한 글에서 찾은 문자를 다른 문자로 변경\n",
    "\n",
    "글에서 문자 수정하기/ 원하는 문자 개수 찾기 -> 모두 삭제 할래? Y/N "
   ]
  },
  {
   "cell_type": "code",
   "execution_count": 2,
   "id": "651dea4f",
   "metadata": {},
   "outputs": [
    {
     "name": "stdout",
     "output_type": "stream",
     "text": [
      "문자 수정을 원하시면 '수정'을 입력하시고, 문자 개수를 찾기 및 삭제를 원하시면 '찾기'를 입력해주세요>찾기\n",
      "글을 입력해주세요>호랑이 인형은 귀엽다. 그래서 나는 매일 호랑이 인형을 들고 잔다.호랑이 인형을 갖고 있는 사람은 많다.\n",
      "글에서 찾고싶은 문자를 입력해주세요.>호랑이 \n",
      "해당 글에 존재하는 입력하신 문자의 개수는 3개 입니다.\n",
      "해당 글에서 입력하신 문자를 모두 삭제하시겠습니까?(Y/N)>Y\n",
      "\u001b[36m\u001b[0m인형은 귀엽다. 그래서 나는 매일 \u001b[36m\u001b[0m인형을 들고 잔다.\u001b[36m\u001b[0m인형을 갖고 있는 사람은 많다.\n"
     ]
    }
   ],
   "source": [
    "\n",
    "Q= input(\"문자 수정을 원하시면 '수정'을 입력하시고, 문자 개수를 찾기 및 삭제를 원하시면 '찾기'를 입력해주세요>\")\n",
    "\n",
    "if Q== '수정':\n",
    "    wri= input('글을 입력해주세요>')\n",
    "    word= input('글에서 수정하고 싶은 문자를 입력해주세요>')\n",
    "    \n",
    "    if word in wri:\n",
    "        wri= wri.replace(word, '\\033[36m' + word + '\\033[0m')\n",
    "        print(wri)\n",
    "        change= input('문자를 어떻게 수정하시겠습니까?>')\n",
    "        wri=wri.replace('\\033[36m' + word + '\\033[0m',change)\n",
    "    print(wri)\n",
    "    \n",
    "\n",
    "elif Q=='찾기':\n",
    "    wri= input('글을 입력해주세요>')\n",
    "    word= input('글에서 찾고싶은 문자를 입력해주세요.>')\n",
    "    wri= wri.replace(word, '\\033[36m' + word + '\\033[0m')\n",
    "    if word in wri:\n",
    "        print('해당 글에 존재하는 입력하신 문자의 개수는 {}개 입니다.'.format(wri.count(word)))\n",
    "        dlt=input('해당 글에서 입력하신 문자를 모두 삭제하시겠습니까?(Y/N)>')\n",
    "        if dlt=='Y':\n",
    "            wri=wri.replace(word,\"\")\n",
    "            print(wri)\n",
    "        elif dlt=='N':\n",
    "             print(wri)\n",
    "        else:\n",
    "            print('Y 또는 N으로 표시해주세요. ')\n",
    "                \n",
    "else:\n",
    "    print(\"'수정'또는 '찾기'라고 입력해주세요.\")\n",
    "\n",
    "    \n",
    "#그는 빅 브라더를 사랑했다.\n",
    "#호랑이 인형은 귀엽다. 그래서 나는 매일 호랑이 인형을 들고 잔다.호랑이 인형을 갖고 있는 사람은 많다.\n",
    "    \n",
    "#궁금한거.. 존재하지 않습니다-> 처음으로 돌아가기  ////     if-if에 else:  print('입력하신 문자는 해당 글에 존재하지 않습니다.')불가능"
   ]
  },
  {
   "cell_type": "code",
   "execution_count": null,
   "id": "8c3ff4db",
   "metadata": {},
   "outputs": [],
   "source": []
  },
  {
   "cell_type": "code",
   "execution_count": null,
   "id": "f94b2adb",
   "metadata": {},
   "outputs": [],
   "source": []
  },
  {
   "cell_type": "code",
   "execution_count": null,
   "id": "3a576d8a",
   "metadata": {},
   "outputs": [],
   "source": []
  },
  {
   "cell_type": "code",
   "execution_count": null,
   "id": "f14d37eb",
   "metadata": {},
   "outputs": [],
   "source": []
  },
  {
   "cell_type": "code",
   "execution_count": null,
   "id": "b1aa2f5c",
   "metadata": {},
   "outputs": [],
   "source": []
  },
  {
   "cell_type": "code",
   "execution_count": null,
   "id": "1ac737de",
   "metadata": {},
   "outputs": [],
   "source": []
  },
  {
   "cell_type": "code",
   "execution_count": null,
   "id": "2933713a",
   "metadata": {},
   "outputs": [],
   "source": []
  },
  {
   "cell_type": "code",
   "execution_count": null,
   "id": "8cc5ab14",
   "metadata": {},
   "outputs": [],
   "source": []
  },
  {
   "cell_type": "code",
   "execution_count": 3,
   "id": "6db1fac3",
   "metadata": {},
   "outputs": [
    {
     "name": "stdout",
     "output_type": "stream",
     "text": [
      "문자 수정을 원하시면 '수정'을 입력하시고, 문자 개수를 찾기 및 삭제를 원하시면 '찾기'를 입력해주세요>찾기\n",
      "글을 입력해주세요>그는 빅 브라더를 사랑했다.\n",
      "글에서 찾고싶은 문자를 입력해주세요.>빅 브라더\n",
      "그는 \u001b[36m빅 브라더\u001b[0m를 사랑했다.\n",
      "해당 글에 존재하는 입력하신 문자의 개수는 1개 입니다.\n",
      "해당 글에서 입력하신 문자를 모두 삭제하시겠습니까?(Y/N)>Y\n",
      "그는 \u001b[36m\u001b[0m를 사랑했다.\n"
     ]
    }
   ],
   "source": [
    "#####\n",
    "\n",
    "Q= input(\"문자 수정을 원하시면 '수정'을 입력하시고, 문자 개수를 찾기 및 삭제를 원하시면 '찾기'를 입력해주세요>\")\n",
    "\n",
    "if Q== '수정':\n",
    "    wri= input('글을 입력해주세요>')\n",
    "    word= input('글에서 수정하고 싶은 문자를 입력해주세요>')\n",
    "    \n",
    "    if word in wri:\n",
    "        wri= wri.replace(word, '\\033[36m' + word + '\\033[0m')\n",
    "        print(wri)\n",
    "        change= input('문자를 어떻게 수정하시겠습니까?>')\n",
    "        wri=wri.replace('\\033[36m' + word + '\\033[0m',change)\n",
    "    print(wri)\n",
    "\n",
    "elif Q=='찾기':\n",
    "    wri= input('글을 입력해주세요>')\n",
    "    word= input('글에서 찾고싶은 문자를 입력해주세요.>')\n",
    "    wri= wri.replace(word, '\\033[36m' + word + '\\033[0m')\n",
    "    print(wri)\n",
    "    if word in wri:\n",
    "        print('해당 글에 존재하는 입력하신 문자의 개수는 {}개 입니다.'.format(wri.count(word)))\n",
    "        dlt=input('해당 글에서 입력하신 문자를 모두 삭제하시겠습니까?(Y/N)>')\n",
    "        if dlt=='Y':\n",
    "            wri=wri.replace(word,\"\")\n",
    "            print(wri)\n",
    "        elif dlt=='N':\n",
    "             print(wri)\n",
    "        else:\n",
    "            print('Y 또는 N으로 표시해주세요. ')\n",
    "                \n",
    "else:\n",
    "    print(\"'수정'또는 '찾기'라고 입력해주세요.\")\n",
    "\n",
    "       \n",
    "#그는 빅 브라더를 사랑했다.\n",
    "#호랑이 인형은 귀엽다. 그래서 나는 매일 호랑이 인형을 들고 잔다.호랑이 인형을 갖고 있는 사람은 많다.\n",
    "    \n",
    "#궁금한거.. 존재하지 않습니다-> 처음으로 돌아가기  ////     if-if에 else:  print('입력하신 문자는 해당 글에 존재하지 않습니다.')불가능"
   ]
  },
  {
   "cell_type": "code",
   "execution_count": 3,
   "id": "40a113af",
   "metadata": {},
   "outputs": [
    {
     "ename": "SyntaxError",
     "evalue": "invalid syntax (<ipython-input-3-c7c761c754bf>, line 13)",
     "output_type": "error",
     "traceback": [
      "\u001b[1;36m  File \u001b[1;32m\"<ipython-input-3-c7c761c754bf>\"\u001b[1;36m, line \u001b[1;32m13\u001b[0m\n\u001b[1;33m    else:\u001b[0m\n\u001b[1;37m    ^\u001b[0m\n\u001b[1;31mSyntaxError\u001b[0m\u001b[1;31m:\u001b[0m invalid syntax\n"
     ]
    }
   ],
   "source": [
    "Q= input(\"문자 수정을 원하시면 '수정'을 입력하시고, 문자 개수를 찾기 및 삭제를 원하시면 '찾기'를 입력해주세요>\")\n",
    "\n",
    "if Q== '수정':\n",
    "    wri= input('글을 입력해주세요>')\n",
    "    word= input('글에서 수정하고 싶은 문자를 입력해주세요>')\n",
    "    \n",
    "    if word in wri:\n",
    "        wri= wri.replace(word, '\\033[91m' + word + '\\033[0m')\n",
    "        print(wri)\n",
    "        change= input('문자를 어떻게 수정하시겠습니까?>')\n",
    "        wri=wri.replace('\\033[91m' + word + '\\033[0m',change)\n",
    "    print(wri)\n",
    "    else:\n",
    "        print('입력하신 문자는 해당 글에 존재하지 않습니다.')\n",
    "        \n",
    "elif Q=='찾기':\n",
    "    wri= input('글을 입력해주세요>')\n",
    "    word= input('글에서 찾고싶은 문자를 입력해주세요.>')\n",
    "    if word in wri:\n",
    "        print('해당 글에 존재하는 입력하신 문자의 개수는 {}개 입니다.'.format(wri.count(word)))\n",
    "        dlt=input('해당 글에서 입력하신 문자를 모두 삭제하시겠습니까?(Y/N)>')\n",
    "        if dlt=='Y':\n",
    "            wri=wri.replace(word,\"\")\n",
    "            print(wri)\n",
    "        elif dlt=='N':\n",
    "             print(wri)\n",
    "        else:\n",
    "            print('Y 또는 N으로 표시해주세요. ')\n",
    "        print(wri)\n",
    "else:\n",
    "    print(\"'수정'또는 '찾기'라고 입력해주세요.\")\n"
   ]
  },
  {
   "cell_type": "code",
   "execution_count": null,
   "id": "83ff0ab1",
   "metadata": {},
   "outputs": [],
   "source": []
  },
  {
   "cell_type": "code",
   "execution_count": null,
   "id": "49d8bbdc",
   "metadata": {},
   "outputs": [],
   "source": []
  },
  {
   "cell_type": "code",
   "execution_count": null,
   "id": "663b334e",
   "metadata": {},
   "outputs": [],
   "source": []
  },
  {
   "cell_type": "code",
   "execution_count": null,
   "id": "fd8232b6",
   "metadata": {},
   "outputs": [],
   "source": []
  },
  {
   "cell_type": "code",
   "execution_count": null,
   "id": "bda90d15",
   "metadata": {},
   "outputs": [],
   "source": []
  },
  {
   "cell_type": "code",
   "execution_count": null,
   "id": "181d358a",
   "metadata": {},
   "outputs": [],
   "source": []
  },
  {
   "cell_type": "code",
   "execution_count": null,
   "id": "7ea88da2",
   "metadata": {},
   "outputs": [],
   "source": []
  }
 ],
 "metadata": {
  "kernelspec": {
   "display_name": "Python 3",
   "language": "python",
   "name": "python3"
  },
  "language_info": {
   "codemirror_mode": {
    "name": "ipython",
    "version": 3
   },
   "file_extension": ".py",
   "mimetype": "text/x-python",
   "name": "python",
   "nbconvert_exporter": "python",
   "pygments_lexer": "ipython3",
   "version": "3.8.10"
  }
 },
 "nbformat": 4,
 "nbformat_minor": 5
}

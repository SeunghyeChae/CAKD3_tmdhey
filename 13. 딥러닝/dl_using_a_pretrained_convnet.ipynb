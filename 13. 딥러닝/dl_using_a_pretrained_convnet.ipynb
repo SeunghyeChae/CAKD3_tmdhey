{
  "nbformat": 4,
  "nbformat_minor": 0,
  "metadata": {
    "colab": {
      "name": "dl_using-a-pretrained-convnet.ipynb",
      "provenance": [],
      "collapsed_sections": [],
      "machine_shape": "hm",
      "authorship_tag": "ABX9TyORnb+/9bcdTGqmc3FG7jFh",
      "include_colab_link": true
    },
    "kernelspec": {
      "name": "python3",
      "display_name": "Python 3"
    },
    "language_info": {
      "name": "python"
    },
    "accelerator": "GPU"
  },
  "cells": [
    {
      "cell_type": "markdown",
      "metadata": {
        "id": "view-in-github",
        "colab_type": "text"
      },
      "source": [
        "<a href=\"https://colab.research.google.com/github/SeunghyeChae/CAKD3_tmdhey/blob/main/dl_using_a_pretrained_convnet.ipynb\" target=\"_parent\"><img src=\"https://colab.research.google.com/assets/colab-badge.svg\" alt=\"Open In Colab\"/></a>"
      ]
    },
    {
      "cell_type": "code",
      "metadata": {
        "colab": {
          "base_uri": "https://localhost:8080/"
        },
        "id": "bjtf-9-F6TLe",
        "outputId": "8ebc4af6-ce63-4e64-9538-e68581bd1387"
      },
      "source": [
        "from google.colab import drive\n",
        "drive.mount('/content/drive')"
      ],
      "execution_count": 1,
      "outputs": [
        {
          "output_type": "stream",
          "name": "stdout",
          "text": [
            "Mounted at /content/drive\n"
          ]
        }
      ]
    },
    {
      "cell_type": "markdown",
      "metadata": {
        "id": "DomKDCd86eMp"
      },
      "source": [
        "- 그냥 하면선형\n",
        "- relu해주면 비선형으로 변환\n",
        "- 입력값이 0보다 작으면 0으로 출력, 0보다 크면 입력값 그대로 출력하는 유닛\n",
        "- 171p\n",
        "\n",
        "- 2진분류 sigmoid \n",
        "- 3분류 이상 softmax "
      ]
    },
    {
      "cell_type": "code",
      "metadata": {
        "colab": {
          "base_uri": "https://localhost:8080/"
        },
        "id": "7MD18mxc6ezp",
        "outputId": "599cf7f7-9261-4a3e-98d6-717e5feb001a"
      },
      "source": [
        "# imageNet 데이터셋에 훈련된 이미지 분류 모델 \n",
        "# 우리는 VGG16 (사전 훈련된 네트워크)\n",
        "\n",
        "from tensorflow.keras.applications import VGG16\n",
        "conv_base= VGG16(weights='imagenet', # 가중치\n",
        "                 include_top= False, # 완전연결층에 연결할 것인지\n",
        "                  input_shape= (150,150,3))\n"
      ],
      "execution_count": 2,
      "outputs": [
        {
          "output_type": "stream",
          "name": "stdout",
          "text": [
            "Downloading data from https://storage.googleapis.com/tensorflow/keras-applications/vgg16/vgg16_weights_tf_dim_ordering_tf_kernels_notop.h5\n",
            "58892288/58889256 [==============================] - 0s 0us/step\n",
            "58900480/58889256 [==============================] - 0s 0us/step\n"
          ]
        }
      ]
    },
    {
      "cell_type": "code",
      "metadata": {
        "colab": {
          "base_uri": "https://localhost:8080/"
        },
        "id": "09fqQLmX6exB",
        "outputId": "83c058ec-40eb-482e-e6bb-e3f6c9534b55"
      },
      "source": [
        "# 우리가 가져온 convnet보기 \n",
        "conv_base.summary()"
      ],
      "execution_count": 3,
      "outputs": [
        {
          "output_type": "stream",
          "name": "stdout",
          "text": [
            "Model: \"vgg16\"\n",
            "_________________________________________________________________\n",
            "Layer (type)                 Output Shape              Param #   \n",
            "=================================================================\n",
            "input_1 (InputLayer)         [(None, 150, 150, 3)]     0         \n",
            "_________________________________________________________________\n",
            "block1_conv1 (Conv2D)        (None, 150, 150, 64)      1792      \n",
            "_________________________________________________________________\n",
            "block1_conv2 (Conv2D)        (None, 150, 150, 64)      36928     \n",
            "_________________________________________________________________\n",
            "block1_pool (MaxPooling2D)   (None, 75, 75, 64)        0         \n",
            "_________________________________________________________________\n",
            "block2_conv1 (Conv2D)        (None, 75, 75, 128)       73856     \n",
            "_________________________________________________________________\n",
            "block2_conv2 (Conv2D)        (None, 75, 75, 128)       147584    \n",
            "_________________________________________________________________\n",
            "block2_pool (MaxPooling2D)   (None, 37, 37, 128)       0         \n",
            "_________________________________________________________________\n",
            "block3_conv1 (Conv2D)        (None, 37, 37, 256)       295168    \n",
            "_________________________________________________________________\n",
            "block3_conv2 (Conv2D)        (None, 37, 37, 256)       590080    \n",
            "_________________________________________________________________\n",
            "block3_conv3 (Conv2D)        (None, 37, 37, 256)       590080    \n",
            "_________________________________________________________________\n",
            "block3_pool (MaxPooling2D)   (None, 18, 18, 256)       0         \n",
            "_________________________________________________________________\n",
            "block4_conv1 (Conv2D)        (None, 18, 18, 512)       1180160   \n",
            "_________________________________________________________________\n",
            "block4_conv2 (Conv2D)        (None, 18, 18, 512)       2359808   \n",
            "_________________________________________________________________\n",
            "block4_conv3 (Conv2D)        (None, 18, 18, 512)       2359808   \n",
            "_________________________________________________________________\n",
            "block4_pool (MaxPooling2D)   (None, 9, 9, 512)         0         \n",
            "_________________________________________________________________\n",
            "block5_conv1 (Conv2D)        (None, 9, 9, 512)         2359808   \n",
            "_________________________________________________________________\n",
            "block5_conv2 (Conv2D)        (None, 9, 9, 512)         2359808   \n",
            "_________________________________________________________________\n",
            "block5_conv3 (Conv2D)        (None, 9, 9, 512)         2359808   \n",
            "_________________________________________________________________\n",
            "block5_pool (MaxPooling2D)   (None, 4, 4, 512)         0         \n",
            "=================================================================\n",
            "Total params: 14,714,688\n",
            "Trainable params: 14,714,688\n",
            "Non-trainable params: 0\n",
            "_________________________________________________________________\n"
          ]
        }
      ]
    },
    {
      "cell_type": "code",
      "metadata": {
        "id": "I-bBDlbO6euy"
      },
      "source": [
        "# 완전연결층에 연결하여 사용 \n",
        "# 2가지 방법 -  데이터증식 / 증식없이"
      ],
      "execution_count": 4,
      "outputs": []
    },
    {
      "cell_type": "code",
      "metadata": {
        "id": "vu8Q3w0LAJ3t"
      },
      "source": [
        "# # 데이터 증식을 사용하지 않는 빠른 특성추출 \n",
        "# import os\n",
        "# import numpy as np \n",
        "# from tensorflow.keras.preprocessing.image import ImageDataGenerator\n",
        "\n",
        "# base_dir= ''\n",
        "\n",
        "# train_dir= os.path.join(base_dir, 'train')\n",
        "# validation_dir = os.path.join(base_dir, 'validation')\n",
        "# test_dir = os.path.join(base_dir,'test')\n",
        "\n",
        "# datagen = ImageDataGenerator(rescale=1./255)\n",
        "# batch_size= 20\n",
        "\n",
        "# def extract_features(directory, sample_count):\n",
        "#   features = np.zeros(shape=(sample_count, 4, 4, 512))\n",
        "#   labels = np.zeros(shape=(sample_cuont))\n",
        "#   generator = datagen.flow_from_directory(\n",
        "#       directory,\n",
        "#       target_size(150,150),\n",
        "#       batch_size = batch_size,\n",
        "#       class_mode = 'binary')\n",
        "#   i=0\n",
        "#   for input_batch, labels_batch in generator:\n",
        "#     features_batch = conv_base.predict(input_batch)\n",
        "#     features[i*batch_size: (i+1)*batch_size]= features_batch\n",
        "#     labels[i*batch_size: (i+1)*batch_size]= labels_batch\n",
        "#     i += 1\n",
        "#     if i * batch_size >= sample_count:\n",
        "#       break\n",
        "#     return features\n",
        "\n",
        "# train_features, train_labels= extract_features(train_dir,2000)\n",
        "# validation_features, validation_labels = extract_features(validation_dir,1000)\n",
        "# test_features, test_labels = extract_features(test_dir,1000)\n"
      ],
      "execution_count": 11,
      "outputs": []
    },
    {
      "cell_type": "code",
      "metadata": {
        "colab": {
          "base_uri": "https://localhost:8080/"
        },
        "id": "0-ftfSGl6esA",
        "outputId": "06e84b68-ce41-442c-8c24-9ee97d8db7a9"
      },
      "source": [
        "import os\n",
        "import numpy as np\n",
        "from tensorflow.keras.preprocessing.image import ImageDataGenerator\n",
        "\n",
        "base_dir = '/content/drive/MyDrive/cakd_colab/dl_keras/datasets/cats_and_dogs_small'\n",
        "\n",
        "train_dir = os.path.join(base_dir,'train')\n",
        "validation_dir = os.path.join(base_dir, 'validation')\n",
        "test_dir = os.path.join(base_dir,'test')\n",
        "\n",
        "datagen = ImageDataGenerator( rescale = 1./255)\n",
        "batch_size = 20\n",
        "\n",
        "# 특징을 추출하는 definition\n",
        "def extract_features(directory, sample_count):\n",
        "  features = np.zeros(shape=(sample_count, 4, 4, 512))\n",
        "  labels = np.zeros(shape=(sample_count))\n",
        "  generator = datagen.flow_from_directory(\n",
        "      directory,\n",
        "      target_size = (150,150),\n",
        "      batch_size = batch_size,\n",
        "      class_mode = 'binary'\n",
        "  )\n",
        "  i = 0\n",
        "  for inputs_batch, labels_batch in generator:\n",
        "    features_batch = conv_base.predict(inputs_batch)\n",
        "    features[i * batch_size : ( i + 1 ) * batch_size] = features_batch\n",
        "    labels[i * batch_size : ( i + 1 ) * batch_size] = labels_batch\n",
        "    i += 1\n",
        "    if i * batch_size >= sample_count:\n",
        "      break\n",
        "  return features, labels\n",
        "\n",
        "train_features, train_labels = extract_features(train_dir,2000)\n",
        "validation_features, validation_labels = extract_features(validation_dir, 1000)\n",
        "test_features, test_labels = extract_features(test_dir, 1000)"
      ],
      "execution_count": 13,
      "outputs": [
        {
          "output_type": "stream",
          "name": "stdout",
          "text": [
            "Found 2000 images belonging to 2 classes.\n",
            "Found 1000 images belonging to 2 classes.\n",
            "Found 1000 images belonging to 2 classes.\n"
          ]
        }
      ]
    },
    {
      "cell_type": "code",
      "metadata": {
        "colab": {
          "base_uri": "https://localhost:8080/"
        },
        "id": "kIClsAtwLCAK",
        "outputId": "c642f9ae-9e4c-475e-e181-030558bdaaea"
      },
      "source": [
        "train_features.shape\n",
        "validation_features.shape\n",
        "test_features.shape\n"
      ],
      "execution_count": 14,
      "outputs": [
        {
          "output_type": "execute_result",
          "data": {
            "text/plain": [
              "(1000, 4, 4, 512)"
            ]
          },
          "metadata": {},
          "execution_count": 14
        }
      ]
    },
    {
      "cell_type": "code",
      "metadata": {
        "id": "AeLms7RK6epT"
      },
      "source": [
        "train_features = np.reshape(train_features, (2000,4*4*512))\n",
        "validation_features = np.reshape(validation_features, (1000, 4*4*512))\n",
        "test_features = np.reshape(test_features,(1000,4*4*512))"
      ],
      "execution_count": 16,
      "outputs": []
    },
    {
      "cell_type": "code",
      "metadata": {
        "colab": {
          "base_uri": "https://localhost:8080/"
        },
        "id": "EG_-uNVX6em5",
        "outputId": "76ce7349-c9fa-4ae9-90b4-de5de01bce21"
      },
      "source": [
        "train_features.shape"
      ],
      "execution_count": 17,
      "outputs": [
        {
          "output_type": "execute_result",
          "data": {
            "text/plain": [
              "(2000, 8192)"
            ]
          },
          "metadata": {},
          "execution_count": 17
        }
      ]
    },
    {
      "cell_type": "code",
      "metadata": {
        "colab": {
          "base_uri": "https://localhost:8080/"
        },
        "id": "oUw02OD56eJ4",
        "outputId": "5e67f261-f40f-4125-f5c3-69feed3129b0"
      },
      "source": [
        "from tensorflow.keras import models\n",
        "from tensorflow.keras import layers\n",
        "from tensorflow.keras import optimizers\n",
        "\n",
        "model = models.Sequential()\n",
        "model.add(layers.Dense(256, activation='relu', input_dim=4*4*512))\n",
        "model.add(layers.Dropout(0.5))\n",
        "model.add(layers.Dense(1, activation = 'sigmoid'))\n",
        "\n",
        "\n",
        "\n",
        "model.compile(optimizer=optimizers.RMSprop(lr=2e-5),\n",
        "              loss = 'binary_crossentropy',\n",
        "              metrics=['acc'])\n",
        "\n",
        "\n",
        "\n",
        "history = model.fit(train_features, train_labels,\n",
        "                    epochs=30,\n",
        "                    batch_size=20,\n",
        "                    validation_data=(validation_features, validation_labels))\n",
        "\n",
        "\n"
      ],
      "execution_count": 18,
      "outputs": [
        {
          "output_type": "stream",
          "name": "stderr",
          "text": [
            "/usr/local/lib/python3.7/dist-packages/keras/optimizer_v2/optimizer_v2.py:356: UserWarning: The `lr` argument is deprecated, use `learning_rate` instead.\n",
            "  \"The `lr` argument is deprecated, use `learning_rate` instead.\")\n"
          ]
        },
        {
          "output_type": "stream",
          "name": "stdout",
          "text": [
            "Epoch 1/30\n",
            "100/100 [==============================] - 1s 4ms/step - loss: 0.6247 - acc: 0.6550 - val_loss: 0.4586 - val_acc: 0.8180\n",
            "Epoch 2/30\n",
            "100/100 [==============================] - 0s 3ms/step - loss: 0.4468 - acc: 0.7970 - val_loss: 0.3710 - val_acc: 0.8580\n",
            "Epoch 3/30\n",
            "100/100 [==============================] - 0s 3ms/step - loss: 0.3638 - acc: 0.8500 - val_loss: 0.3275 - val_acc: 0.8760\n",
            "Epoch 4/30\n",
            "100/100 [==============================] - 0s 3ms/step - loss: 0.3140 - acc: 0.8785 - val_loss: 0.3029 - val_acc: 0.8790\n",
            "Epoch 5/30\n",
            "100/100 [==============================] - 0s 3ms/step - loss: 0.2979 - acc: 0.8750 - val_loss: 0.2844 - val_acc: 0.8910\n",
            "Epoch 6/30\n",
            "100/100 [==============================] - 0s 3ms/step - loss: 0.2679 - acc: 0.8875 - val_loss: 0.2756 - val_acc: 0.8880\n",
            "Epoch 7/30\n",
            "100/100 [==============================] - 0s 3ms/step - loss: 0.2494 - acc: 0.9020 - val_loss: 0.2724 - val_acc: 0.8850\n",
            "Epoch 8/30\n",
            "100/100 [==============================] - 0s 3ms/step - loss: 0.2421 - acc: 0.9045 - val_loss: 0.2655 - val_acc: 0.8920\n",
            "Epoch 9/30\n",
            "100/100 [==============================] - 0s 3ms/step - loss: 0.2259 - acc: 0.9110 - val_loss: 0.2539 - val_acc: 0.8930\n",
            "Epoch 10/30\n",
            "100/100 [==============================] - 0s 3ms/step - loss: 0.2110 - acc: 0.9250 - val_loss: 0.2499 - val_acc: 0.8980\n",
            "Epoch 11/30\n",
            "100/100 [==============================] - 0s 3ms/step - loss: 0.2006 - acc: 0.9270 - val_loss: 0.2519 - val_acc: 0.8970\n",
            "Epoch 12/30\n",
            "100/100 [==============================] - 0s 3ms/step - loss: 0.1929 - acc: 0.9295 - val_loss: 0.2428 - val_acc: 0.9000\n",
            "Epoch 13/30\n",
            "100/100 [==============================] - 0s 3ms/step - loss: 0.1857 - acc: 0.9335 - val_loss: 0.2430 - val_acc: 0.9000\n",
            "Epoch 14/30\n",
            "100/100 [==============================] - 0s 3ms/step - loss: 0.1734 - acc: 0.9395 - val_loss: 0.2414 - val_acc: 0.9020\n",
            "Epoch 15/30\n",
            "100/100 [==============================] - 0s 3ms/step - loss: 0.1720 - acc: 0.9400 - val_loss: 0.2394 - val_acc: 0.9020\n",
            "Epoch 16/30\n",
            "100/100 [==============================] - 0s 3ms/step - loss: 0.1560 - acc: 0.9480 - val_loss: 0.2347 - val_acc: 0.9060\n",
            "Epoch 17/30\n",
            "100/100 [==============================] - 0s 3ms/step - loss: 0.1509 - acc: 0.9505 - val_loss: 0.2349 - val_acc: 0.9000\n",
            "Epoch 18/30\n",
            "100/100 [==============================] - 0s 3ms/step - loss: 0.1499 - acc: 0.9460 - val_loss: 0.2345 - val_acc: 0.9020\n",
            "Epoch 19/30\n",
            "100/100 [==============================] - 0s 3ms/step - loss: 0.1415 - acc: 0.9545 - val_loss: 0.2350 - val_acc: 0.9000\n",
            "Epoch 20/30\n",
            "100/100 [==============================] - 0s 3ms/step - loss: 0.1361 - acc: 0.9585 - val_loss: 0.2362 - val_acc: 0.8980\n",
            "Epoch 21/30\n",
            "100/100 [==============================] - 0s 3ms/step - loss: 0.1332 - acc: 0.9570 - val_loss: 0.2365 - val_acc: 0.8990\n",
            "Epoch 22/30\n",
            "100/100 [==============================] - 0s 3ms/step - loss: 0.1222 - acc: 0.9600 - val_loss: 0.2473 - val_acc: 0.8980\n",
            "Epoch 23/30\n",
            "100/100 [==============================] - 0s 3ms/step - loss: 0.1192 - acc: 0.9595 - val_loss: 0.2314 - val_acc: 0.9020\n",
            "Epoch 24/30\n",
            "100/100 [==============================] - 0s 3ms/step - loss: 0.1177 - acc: 0.9600 - val_loss: 0.2326 - val_acc: 0.9020\n",
            "Epoch 25/30\n",
            "100/100 [==============================] - 0s 3ms/step - loss: 0.1166 - acc: 0.9595 - val_loss: 0.2383 - val_acc: 0.9050\n",
            "Epoch 26/30\n",
            "100/100 [==============================] - 0s 3ms/step - loss: 0.1129 - acc: 0.9625 - val_loss: 0.2351 - val_acc: 0.9010\n",
            "Epoch 27/30\n",
            "100/100 [==============================] - 0s 3ms/step - loss: 0.1091 - acc: 0.9620 - val_loss: 0.2336 - val_acc: 0.9010\n",
            "Epoch 28/30\n",
            "100/100 [==============================] - 0s 3ms/step - loss: 0.1007 - acc: 0.9695 - val_loss: 0.2343 - val_acc: 0.9010\n",
            "Epoch 29/30\n",
            "100/100 [==============================] - 0s 3ms/step - loss: 0.0940 - acc: 0.9725 - val_loss: 0.2407 - val_acc: 0.9020\n",
            "Epoch 30/30\n",
            "100/100 [==============================] - 0s 3ms/step - loss: 0.0943 - acc: 0.9690 - val_loss: 0.2355 - val_acc: 0.9010\n"
          ]
        }
      ]
    },
    {
      "cell_type": "code",
      "metadata": {
        "colab": {
          "base_uri": "https://localhost:8080/",
          "height": 545
        },
        "id": "OeasXqMc6eHI",
        "outputId": "c6d4c962-1c0c-4096-b18a-ebbfefa8079c"
      },
      "source": [
        "import matplotlib.pyplot as plt\n",
        "\n",
        "acc = history.history['acc']\n",
        "val_acc = history.history['val_acc']\n",
        "loss = history.history['loss']\n",
        "val_loss = history.history['val_loss']\n",
        "\n",
        "epochs = range(len(acc))\n",
        "\n",
        "plt.plot(epochs,acc,'bo',label='Training acc')\n",
        "plt.plot(epochs,val_acc,'b',label='Validation_acc')\n",
        "plt.title('Training and validation accuracy')\n",
        "plt.legend()\n",
        "plt.show()\n",
        "\n",
        "plt.figure()\n",
        "\n",
        "plt.plot(epochs, loss, 'bo',label = 'Training acc')\n",
        "plt.plot(epochs, val_loss, 'b',label = 'Validation acc')\n",
        "plt.title('Training and validation loss')\n",
        "plt.legend()\n",
        "\n",
        "plt.show()\n",
        "\n",
        "\n",
        "\n"
      ],
      "execution_count": 21,
      "outputs": [
        {
          "output_type": "display_data",
          "data": {
            "image/png": "[encoded data removed]",
            "text/plain": [
              "<Figure size 432x288 with 1 Axes>"
            ]
          },
          "metadata": {
            "needs_background": "light"
          }
        },
        {
          "output_type": "display_data",
          "data": {
            "image/png": "[encoded data removed]",
            "text/plain": [
              "<Figure size 432x288 with 1 Axes>"
            ]
          },
          "metadata": {
            "needs_background": "light"
          }
        }
      ]
    },
    {
      "cell_type": "code",
      "metadata": {
        "id": "p7H7qkKm6eEY"
      },
      "source": [
        ""
      ],
      "execution_count": null,
      "outputs": []
    },
    {
      "cell_type": "code",
      "metadata": {
        "id": "YnUH13au6eBz"
      },
      "source": [
        ""
      ],
      "execution_count": null,
      "outputs": []
    },
    {
      "cell_type": "code",
      "metadata": {
        "id": "1ebzu5K56d_K"
      },
      "source": [
        ""
      ],
      "execution_count": null,
      "outputs": []
    },
    {
      "cell_type": "code",
      "metadata": {
        "id": "uk9Lgy5i6d8o"
      },
      "source": [
        ""
      ],
      "execution_count": null,
      "outputs": []
    },
    {
      "cell_type": "code",
      "metadata": {
        "id": "PWWcUESP6d1o"
      },
      "source": [
        ""
      ],
      "execution_count": null,
      "outputs": []
    },
    {
      "cell_type": "code",
      "metadata": {
        "id": "TMaKNgLM6dzL"
      },
      "source": [
        ""
      ],
      "execution_count": null,
      "outputs": []
    },
    {
      "cell_type": "code",
      "metadata": {
        "id": "0XNeD9kI6dwx"
      },
      "source": [
        ""
      ],
      "execution_count": null,
      "outputs": []
    },
    {
      "cell_type": "code",
      "metadata": {
        "id": "yee0ajrm6duZ"
      },
      "source": [
        ""
      ],
      "execution_count": null,
      "outputs": []
    },
    {
      "cell_type": "code",
      "metadata": {
        "id": "H-W5NZZU6dsL"
      },
      "source": [
        ""
      ],
      "execution_count": null,
      "outputs": []
    },
    {
      "cell_type": "code",
      "metadata": {
        "id": "ky5SBHNQ6dpj"
      },
      "source": [
        ""
      ],
      "execution_count": null,
      "outputs": []
    },
    {
      "cell_type": "code",
      "metadata": {
        "id": "ApYaeUZM6dnQ"
      },
      "source": [
        ""
      ],
      "execution_count": null,
      "outputs": []
    },
    {
      "cell_type": "code",
      "metadata": {
        "id": "9fXAapvD6dk4"
      },
      "source": [
        ""
      ],
      "execution_count": null,
      "outputs": []
    }
  ]
}

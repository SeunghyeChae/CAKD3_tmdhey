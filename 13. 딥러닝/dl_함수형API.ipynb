{
  "nbformat": 4,
  "nbformat_minor": 0,
  "metadata": {
    "colab": {
      "name": "dl_함수형API",
      "provenance": [],
      "collapsed_sections": [],
      "machine_shape": "hm",
      "authorship_tag": "ABX9TyPwix7XgPL0r5aYQwnZfOPK",
      "include_colab_link": true
    },
    "kernelspec": {
      "name": "python3",
      "display_name": "Python 3"
    },
    "language_info": {
      "name": "python"
    },
    "accelerator": "GPU"
  },
  "cells": [
    {
      "cell_type": "markdown",
      "metadata": {
        "id": "view-in-github",
        "colab_type": "text"
      },
      "source": [
        "<a href=\"https://colab.research.google.com/github/SeunghyeChae/CAKD3_tmdhey/blob/main/dl_%ED%95%A8%EC%88%98%ED%98%95API.ipynb\" target=\"_parent\"><img src=\"https://colab.research.google.com/assets/colab-badge.svg\" alt=\"Open In Colab\"/></a>"
      ]
    },
    {
      "cell_type": "code",
      "metadata": {
        "id": "D1B3LuTg-T9U"
      },
      "source": [
        "# sequential input 2개이상 output 2개이상에는 사용 못함 \n",
        "# 각 층에서 가중치 계산\n",
        "# optimizer에의해 손실함수 최소화시켜주기 위해 역전파 이용\n",
        "\n",
        "# ex. input에 \n",
        "# 데이터 설명하는 데이터 = 메타 데이터\n",
        "# 사용자가 제공한 텍스트\n",
        "# 제품 사진 \n",
        "# 이런게 들어갈 경우 sequential어려움 \n",
        "\n",
        "# ex. output에\n",
        "# 장르 / 시대 등 ..\n"
      ],
      "execution_count": null,
      "outputs": []
    },
    {
      "cell_type": "code",
      "metadata": {
        "colab": {
          "base_uri": "https://localhost:8080/"
        },
        "id": "ZgIR9FVvAUrU",
        "outputId": "c445d80e-57d9-4bcb-a161-1091b78a14c1"
      },
      "source": [
        "from google.colab import drive\n",
        "drive.mount('/content/drive')"
      ],
      "execution_count": 1,
      "outputs": [
        {
          "output_type": "stream",
          "name": "stdout",
          "text": [
            "Mounted at /content/drive\n"
          ]
        }
      ]
    },
    {
      "cell_type": "code",
      "metadata": {
        "colab": {
          "base_uri": "https://localhost:8080/"
        },
        "id": "wH9WzpkzAkv_",
        "outputId": "8bdc7d69-13ea-4653-a85c-6aca23e88c95"
      },
      "source": [
        "from tensorflow.keras import Sequential,Model\n",
        "from tensorflow.keras import layers\n",
        "from tensorflow.keras import Input \n",
        "\n",
        "seq_model = Sequential()\n",
        "seq_model.add(layers.Dense(32,activation='relu',input_shape=(64,)))\n",
        "seq_model.add(layers.Dense(32,activation='relu'))\n",
        "seq_model.add(layers.Dense(10,activation='softmax'))\n",
        "\n",
        "seq_model.summary()"
      ],
      "execution_count": 2,
      "outputs": [
        {
          "output_type": "stream",
          "name": "stdout",
          "text": [
            "Model: \"sequential\"\n",
            "_________________________________________________________________\n",
            "Layer (type)                 Output Shape              Param #   \n",
            "=================================================================\n",
            "dense (Dense)                (None, 32)                2080      \n",
            "_________________________________________________________________\n",
            "dense_1 (Dense)              (None, 32)                1056      \n",
            "_________________________________________________________________\n",
            "dense_2 (Dense)              (None, 10)                330       \n",
            "=================================================================\n",
            "Total params: 3,466\n",
            "Trainable params: 3,466\n",
            "Non-trainable params: 0\n",
            "_________________________________________________________________\n"
          ]
        }
      ]
    },
    {
      "cell_type": "code",
      "metadata": {
        "id": "h3jaUPgXCJtQ"
      },
      "source": [
        "# 함수형 API로 입력텐서 셋팅해주고..\n",
        "# 처음 인풋을 레이어에 넣어주고 *반복"
      ],
      "execution_count": 3,
      "outputs": []
    },
    {
      "cell_type": "code",
      "metadata": {
        "colab": {
          "base_uri": "https://localhost:8080/"
        },
        "id": "qUpT0VYDCbrT",
        "outputId": "ed01cd72-540e-4799-eded-7fe160adbd0d"
      },
      "source": [
        "input_tensor= Input(shape=(64,))\n",
        "x= layers.Dense(32,activation='relu')(input_tensor)\n",
        "x= layers.Dense(32,activation='relu')(x)\n",
        "output_tensor= layers.Dense(10,activation='softmax')(x)\n",
        "\n",
        "model= Model(input_tensor, output_tensor)\n",
        "model.summary()\n"
      ],
      "execution_count": 5,
      "outputs": [
        {
          "output_type": "stream",
          "name": "stdout",
          "text": [
            "Model: \"model\"\n",
            "_________________________________________________________________\n",
            "Layer (type)                 Output Shape              Param #   \n",
            "=================================================================\n",
            "input_1 (InputLayer)         [(None, 64)]              0         \n",
            "_________________________________________________________________\n",
            "dense_3 (Dense)              (None, 32)                2080      \n",
            "_________________________________________________________________\n",
            "dense_4 (Dense)              (None, 32)                1056      \n",
            "_________________________________________________________________\n",
            "dense_5 (Dense)              (None, 10)                330       \n",
            "=================================================================\n",
            "Total params: 3,466\n",
            "Trainable params: 3,466\n",
            "Non-trainable params: 0\n",
            "_________________________________________________________________\n"
          ]
        }
      ]
    },
    {
      "cell_type": "code",
      "metadata": {
        "colab": {
          "base_uri": "https://localhost:8080/"
        },
        "id": "cW6zUH8aC9nq",
        "outputId": "9b05d9d3-7401-42a5-a125-9f5142253894"
      },
      "source": [
        "import numpy as np\n",
        "model.compile(optimizer='rmsprop',loss='categorical_crossentropy')\n",
        "\n",
        "x_train = np.random.random((1000,64))\n",
        "y_train= np.random.random((1000,10))\n",
        "\n",
        "model.fit(x_train, y_train, epochs=10, batch_size=128)\n",
        "\n",
        "score = model.evaluate(x_train,y_train)"
      ],
      "execution_count": 8,
      "outputs": [
        {
          "output_type": "stream",
          "name": "stdout",
          "text": [
            "Epoch 1/10\n",
            "8/8 [==============================] - 2s 3ms/step - loss: 11.8248\n",
            "Epoch 2/10\n",
            "8/8 [==============================] - 0s 3ms/step - loss: 12.7343\n",
            "Epoch 3/10\n",
            "8/8 [==============================] - 0s 2ms/step - loss: 14.2153\n",
            "Epoch 4/10\n",
            "8/8 [==============================] - 0s 3ms/step - loss: 16.2699\n",
            "Epoch 5/10\n",
            "8/8 [==============================] - 0s 3ms/step - loss: 19.0647\n",
            "Epoch 6/10\n",
            "8/8 [==============================] - 0s 2ms/step - loss: 22.5270\n",
            "Epoch 7/10\n",
            "8/8 [==============================] - 0s 2ms/step - loss: 26.2051\n",
            "Epoch 8/10\n",
            "8/8 [==============================] - 0s 2ms/step - loss: 30.2518\n",
            "Epoch 9/10\n",
            "8/8 [==============================] - 0s 3ms/step - loss: 34.3031\n",
            "Epoch 10/10\n",
            "8/8 [==============================] - 0s 3ms/step - loss: 38.4927\n",
            "32/32 [==============================] - 0s 2ms/step - loss: 41.1593\n"
          ]
        }
      ]
    },
    {
      "cell_type": "code",
      "metadata": {
        "colab": {
          "base_uri": "https://localhost:8080/"
        },
        "id": "K04dfjkWELan",
        "outputId": "8f445b8b-aa6d-4e95-f8ba-6ebf66cad30f"
      },
      "source": [
        "score"
      ],
      "execution_count": 9,
      "outputs": [
        {
          "output_type": "execute_result",
          "data": {
            "text/plain": [
              "41.1593132019043"
            ]
          },
          "metadata": {},
          "execution_count": 9
        }
      ]
    },
    {
      "cell_type": "markdown",
      "metadata": {
        "id": "jbWEVhOOLKWH"
      },
      "source": [
        "# 다중 입력모델"
      ]
    },
    {
      "cell_type": "code",
      "metadata": {
        "id": "3fnwZWtxEh1o"
      },
      "source": [
        "# 다중 입력모델 \n",
        "\n",
        "from tensorflow.keras import Sequential,Model\n",
        "from tensorflow.keras import layers\n",
        "from tensorflow.keras import Input \n",
        "\n",
        "text_vocabulary_size= 10000\n",
        "question_vocabulary_size= 10000\n",
        "answer_vocabulary_size = 500\n",
        "\n",
        "text_input= Input(shape=(None,),\n",
        "                  dtype='int32',\n",
        "                  name='text')\n",
        "\n",
        "embadded_text= layers.Embedding(\n",
        "    text_vocabulary_size,64)(text_input)\n",
        "\n",
        "\n",
        "encoded_text= layers.LSTM(32)(embadded_text)\n",
        "\n",
        "question_input= Input(shape=(None,),\n",
        "                  dtype='int32',\n",
        "                  name='question')\n",
        "embedded_question = layers.Embedding(\n",
        "    question_vocabulary_size,32)(question_input)\n",
        "\n",
        "encoded_question= layers.LSTM(32)(embedded_question)\n",
        "\n",
        "concatenated= layers.concatenate([encoded_text,encoded_question],axis=-1)\n",
        "\n",
        "answer= layers.Dense(answer_vocabulary_size,\n",
        "                     activation='softmax')(concatenated)\n",
        "\n",
        "model= Model([text_input, question_input],answer)\n",
        "model.compile(optimizer='rmsprop',\n",
        "              loss='categorical_crossentropy',\n",
        "              metrics=['acc'])\n"
      ],
      "execution_count": 15,
      "outputs": []
    },
    {
      "cell_type": "code",
      "metadata": {
        "colab": {
          "base_uri": "https://localhost:8080/"
        },
        "id": "UUgqx00XG8oM",
        "outputId": "9ecb83a9-58b5-4213-a27d-77a93fc8fa7c"
      },
      "source": [
        "import numpy as np\n",
        "text_vocabulary_size= 10000\n",
        "question_vocabulary_size= 10000\n",
        "answer_vocabulary_size=500\n",
        "num_samples=1000\n",
        "max_length= 100\n",
        "\n",
        "text= np.random.randint(1,text_vocabulary_size,\n",
        "                        size=(num_samples,max_length))\n",
        "text.shape"
      ],
      "execution_count": 16,
      "outputs": [
        {
          "output_type": "execute_result",
          "data": {
            "text/plain": [
              "(1000, 100)"
            ]
          },
          "metadata": {},
          "execution_count": 16
        }
      ]
    },
    {
      "cell_type": "code",
      "metadata": {
        "colab": {
          "base_uri": "https://localhost:8080/"
        },
        "id": "BdF1uo4WHyWY",
        "outputId": "2fb761be-2b12-4756-a61f-b6d19b266547"
      },
      "source": [
        "from tensorflow.keras.utils import to_categorical\n",
        "\n",
        "num_sample= 1000\n",
        "max_length= 100\n",
        "\n",
        "text= np.random.randint(1,text_vocabulary_size,\n",
        "                        size=(num_samples,max_length))\n",
        "\n",
        "question= np.random.randint(1,question_vocabulary_size,\n",
        "                            size=(num_samples, max_length))\n",
        "\n",
        "answers= np.random.randint(0,answer_vocabulary_size,size=num_samples)\n",
        "\n",
        "answers = to_categorical(answers)\n",
        "\n",
        "model.fit([text,question],answers,epochs=10,batch_size=128)"
      ],
      "execution_count": 17,
      "outputs": [
        {
          "output_type": "stream",
          "name": "stdout",
          "text": [
            "Epoch 1/10\n",
            "8/8 [==============================] - 5s 15ms/step - loss: 6.2150 - acc: 0.0040\n",
            "Epoch 2/10\n",
            "8/8 [==============================] - 0s 15ms/step - loss: 6.1963 - acc: 0.0400\n",
            "Epoch 3/10\n",
            "8/8 [==============================] - 0s 14ms/step - loss: 6.1150 - acc: 0.0050\n",
            "Epoch 4/10\n",
            "8/8 [==============================] - 0s 14ms/step - loss: 6.0216 - acc: 0.0090\n",
            "Epoch 5/10\n",
            "8/8 [==============================] - 0s 14ms/step - loss: 5.9351 - acc: 0.0080\n",
            "Epoch 6/10\n",
            "8/8 [==============================] - 0s 14ms/step - loss: 5.8548 - acc: 0.0120\n",
            "Epoch 7/10\n",
            "8/8 [==============================] - 0s 14ms/step - loss: 5.7983 - acc: 0.0080\n",
            "Epoch 8/10\n",
            "8/8 [==============================] - 0s 14ms/step - loss: 5.7337 - acc: 0.0130\n",
            "Epoch 9/10\n",
            "8/8 [==============================] - 0s 13ms/step - loss: 5.6432 - acc: 0.0190\n",
            "Epoch 10/10\n",
            "8/8 [==============================] - 0s 14ms/step - loss: 5.5878 - acc: 0.0260\n"
          ]
        },
        {
          "output_type": "execute_result",
          "data": {
            "text/plain": [
              "<keras.callbacks.History at 0x7f66b8e7dd90>"
            ]
          },
          "metadata": {},
          "execution_count": 17
        }
      ]
    },
    {
      "cell_type": "markdown",
      "metadata": {
        "id": "O1uhK5d1IrIw"
      },
      "source": [
        "# 다중 출력모델"
      ]
    },
    {
      "cell_type": "code",
      "metadata": {
        "id": "_1WT6kC0LJOj"
      },
      "source": [
        "# [과제]다중 출력모델"
      ],
      "execution_count": 18,
      "outputs": []
    },
    {
      "cell_type": "code",
      "metadata": {
        "id": "LVbbuzDNLOzH"
      },
      "source": [
        ""
      ],
      "execution_count": null,
      "outputs": []
    },
    {
      "cell_type": "markdown",
      "metadata": {
        "id": "ftmFJUhPLTEY"
      },
      "source": [
        "# 층으로 구성된 비순환 유향 그래프"
      ]
    },
    {
      "cell_type": "code",
      "metadata": {
        "id": "hG_c525zMnzZ"
      },
      "source": [
        "# 잔차연결- resnet에서 했음 "
      ],
      "execution_count": null,
      "outputs": []
    },
    {
      "cell_type": "code",
      "metadata": {
        "id": "gAAWG4aiLVTH"
      },
      "source": [
        "# from tensorflow.keras import layers\n",
        "\n",
        "# branch_a= layers.Conv2D(128,1,\n",
        "#                         activation='relu',strides=2)(x)\n",
        "\n",
        "# branch_b= layers.Conv2D(128,1,activation='relu')(x)\n",
        "# branch_b= layers.Conv2D(128,1,activation='relu',strides=2)(branch_b)\n",
        "\n",
        "# branch_c= layers.AveragePooling2D(3,strides=2)(x)\n",
        "# branch_c= layers.Conv2D(128,1,activation='relu')(branch_c)"
      ],
      "execution_count": null,
      "outputs": []
    },
    {
      "cell_type": "code",
      "metadata": {
        "id": "u25ECtTEPgBK"
      },
      "source": [
        ""
      ],
      "execution_count": null,
      "outputs": []
    }
  ]
}

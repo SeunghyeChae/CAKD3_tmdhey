{
  "nbformat": 4,
  "nbformat_minor": 0,
  "metadata": {
    "colab": {
      "name": "CNN VGGNet GoogLeNet ResNet.ipynb",
      "provenance": [],
      "collapsed_sections": [],
      "machine_shape": "hm",
      "authorship_tag": "ABX9TyMfd+aPY/tQy/U4dQPZpbEV",
      "include_colab_link": true
    },
    "kernelspec": {
      "name": "python3",
      "display_name": "Python 3"
    },
    "language_info": {
      "name": "python"
    },
    "accelerator": "TPU"
  },
  "cells": [
    {
      "cell_type": "markdown",
      "metadata": {
        "id": "view-in-github",
        "colab_type": "text"
      },
      "source": [
        "<a href=\"https://colab.research.google.com/github/SeunghyeChae/CAKD3_tmdhey/blob/main/13.%20%EB%94%A5%EB%9F%AC%EB%8B%9D/CNN_VGGNet_GoogLeNet_ResNet.ipynb\" target=\"_parent\"><img src=\"https://colab.research.google.com/assets/colab-badge.svg\" alt=\"Open In Colab\"/></a>"
      ]
    },
    {
      "cell_type": "code",
      "metadata": {
        "id": "lRTyINNMBlnb",
        "colab": {
          "base_uri": "https://localhost:8080/"
        },
        "outputId": "f56b31d5-9366-407a-f08c-2fa21bbf83c2"
      },
      "source": [
        "from google.colab import drive\n",
        "drive.mount('/content/drive')\n"
      ],
      "execution_count": null,
      "outputs": [
        {
          "output_type": "stream",
          "name": "stdout",
          "text": [
            "Mounted at /content/drive\n"
          ]
        }
      ]
    },
    {
      "cell_type": "markdown",
      "metadata": {
        "id": "bYJ1FipcCc0b"
      },
      "source": [
        "# CNN\n",
        "완전 연결 네트워크의 문제점으로부터 시작\n",
        "- 매개변수의 폭발적인 증가\n",
        "- 공간 추론의 부족\n",
        "  - 픽셀 사이의 근접성 개념이 완전 연결 계층에서는 손실됨\n",
        "- 합성곱 계층은 입력 이밎가 커져도 튜닝해야 할 매개변수 개수에 영향을 주지 않음\n",
        "- 또한 그 어떠한 이미지에도 그 차원 수와 상관없이 적용 될 수 있음.\n",
        "https://medium.com/@pechyonkin/key-deep-learning-architectures-lenet-5-6fc3c59e6f4\n",
        "\n",
        "# 컨볼루션 연산\n",
        "  - 필터 연산\n",
        "    - 입력 데이터에 필터를 통한 어떠한 연산을 진행\n",
        "    - 필터에 대응하는 원소끼리 곱하고 그 합을 구함\n",
        "    - 연산이 완료된 결과 데이터를 특정 맵이라 부름\n",
        "  - 필터\n",
        "    - 커널이라고도 하며 흔히 사진 어플에서 사용하는 '이미지 필터'와 비슷한 개념\n",
        "    - 필터의 사이즈는 '거의 항상 홀수'\n",
        "    - 짝수이면 패딩이 비대칭이 되어버림\n",
        "    - 왼쪽, 오른쪽을 다르게 주어야함\n",
        "    - 중심위치가 존재, 즉 구별된 하나의 픽셀(중심 픽셀)이 존재\n",
        "    - 필터의 학습 파라미터 개수는 입력 데이터의 크기와 상관없이 일정, 따라서 과적합을 방지할 수 있음.\n",
        "\n",
        "An example of convolution operation\n",
        "\n",
        "https://www.researchgate.net/figure/An-example-of-convolution-operation-in-2D-2_fig3_324165524\n",
        "\n",
        "  - 일반적으로 합성곱 연산을 한 후 의 데이터 사이즈는 ( n - f + 1) X (n - f + 1)\n",
        "  - 패딩과 스트라이드\n",
        "    - 필터 (커널) 사이즈와 함께 입력 이미지와 출력 이미지의 사이즈를 결정하기 위해 사용\n",
        "    - 사용자가 결정할 수 있음\n",
        "    - 패딩은 입력 데이터의 주변을 특정 값으로 채우는 기법. 주로 0 으로 많이 채움\n",
        "    - 출력 데이터의 크기 : (n + 2p -f + 1) X (n + 2p -f + 1)\n",
        "    - valid(패딩을 주지 않음) 와 same(패딩을 주어 입력 이미지와 연산 후의 이미지가 같게 함). 패딩의 크기는 (k-1)/2 (단,  stride = 1)\n",
        "    - 스트라이드는 필터를 적용하는 간격을 의미.\n",
        "\n",
        "https://m.blog.naver.com/jevida/221841296542\n"
      ]
    },
    {
      "cell_type": "code",
      "metadata": {
        "id": "dRqYNNPgUBPq"
      },
      "source": [
        ""
      ],
      "execution_count": null,
      "outputs": []
    }
  ]
}
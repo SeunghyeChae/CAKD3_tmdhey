{
  "nbformat": 4,
  "nbformat_minor": 0,
  "metadata": {
    "colab": {
      "name": "뉴스기사분류(다중분류).ipynb",
      "provenance": [],
      "collapsed_sections": [],
      "machine_shape": "hm",
      "authorship_tag": "ABX9TyNpcalRFWnz/g7DGh2S/Ziq",
      "include_colab_link": true
    },
    "kernelspec": {
      "name": "python3",
      "display_name": "Python 3"
    },
    "language_info": {
      "name": "python"
    },
    "accelerator": "GPU"
  },
  "cells": [
    {
      "cell_type": "markdown",
      "metadata": {
        "id": "view-in-github",
        "colab_type": "text"
      },
      "source": [
        "<a href=\"https://colab.research.google.com/github/SeunghyeChae/CAKD3_tmdhey/blob/main/%EB%89%B4%EC%8A%A4%EA%B8%B0%EC%82%AC%EB%B6%84%EB%A5%98(%EB%8B%A4%EC%A4%91%EB%B6%84%EB%A5%98).ipynb\" target=\"_parent\"><img src=\"https://colab.research.google.com/assets/colab-badge.svg\" alt=\"Open In Colab\"/></a>"
      ]
    },
    {
      "cell_type": "code",
      "metadata": {
        "colab": {
          "base_uri": "https://localhost:8080/"
        },
        "id": "Qx8DmlPa9AV7",
        "outputId": "9bbd6d25-5b76-4bfa-cd49-8ee0234fd0f2"
      },
      "source": [
        "from google.colab import drive\n",
        "drive.mount('/content/drive')"
      ],
      "execution_count": null,
      "outputs": [
        {
          "output_type": "stream",
          "name": "stdout",
          "text": [
            "Mounted at /content/drive\n"
          ]
        }
      ]
    },
    {
      "cell_type": "code",
      "metadata": {
        "id": "YbdeuaO49EWn"
      },
      "source": [
        "import tensorflow as tf\n",
        "from tensorflow import keras"
      ],
      "execution_count": null,
      "outputs": []
    },
    {
      "cell_type": "code",
      "metadata": {
        "colab": {
          "base_uri": "https://localhost:8080/",
          "height": 35
        },
        "id": "5QbtxfoH9NWc",
        "outputId": "50c8e574-a237-4d11-e054-735621d3983b"
      },
      "source": [
        "keras.__version__"
      ],
      "execution_count": null,
      "outputs": [
        {
          "output_type": "execute_result",
          "data": {
            "application/vnd.google.colaboratory.intrinsic+json": {
              "type": "string"
            },
            "text/plain": [
              "'2.6.0'"
            ]
          },
          "metadata": {},
          "execution_count": 5
        }
      ]
    },
    {
      "cell_type": "code",
      "metadata": {
        "colab": {
          "base_uri": "https://localhost:8080/",
          "height": 35
        },
        "id": "CYDhjtZQ9NLW",
        "outputId": "69469d9a-9ee0-4a1a-fbdf-8917551dee9b"
      },
      "source": [
        "tf.keras.__version__"
      ],
      "execution_count": null,
      "outputs": [
        {
          "output_type": "execute_result",
          "data": {
            "application/vnd.google.colaboratory.intrinsic+json": {
              "type": "string"
            },
            "text/plain": [
              "'2.6.0'"
            ]
          },
          "metadata": {},
          "execution_count": 6
        }
      ]
    },
    {
      "cell_type": "code",
      "metadata": {
        "colab": {
          "base_uri": "https://localhost:8080/"
        },
        "id": "3v_MOPB-9M-h",
        "outputId": "4901e167-a0a9-4d99-ea10-65d7163c2afa"
      },
      "source": [
        "from tensorflow.keras.datasets import reuters\n",
        "(train_data,train_labels),(test_data,test_labels)= reuters.load_data(num_words=10000)"
      ],
      "execution_count": null,
      "outputs": [
        {
          "output_type": "stream",
          "name": "stdout",
          "text": [
            "Downloading data from https://storage.googleapis.com/tensorflow/tf-keras-datasets/reuters.npz\n",
            "2113536/2110848 [==============================] - 0s 0us/step\n",
            "2121728/2110848 [==============================] - 0s 0us/step\n"
          ]
        }
      ]
    },
    {
      "cell_type": "code",
      "metadata": {
        "colab": {
          "base_uri": "https://localhost:8080/"
        },
        "id": "zmDCQiBn9M7-",
        "outputId": "96727135-70f7-4329-cec6-044480125b1d"
      },
      "source": [
        "len(train_data)"
      ],
      "execution_count": null,
      "outputs": [
        {
          "output_type": "execute_result",
          "data": {
            "text/plain": [
              "8982"
            ]
          },
          "metadata": {},
          "execution_count": 10
        }
      ]
    },
    {
      "cell_type": "code",
      "metadata": {
        "colab": {
          "base_uri": "https://localhost:8080/"
        },
        "id": "Hkiff8nQ9M5G",
        "outputId": "65f580bc-dc70-44ae-ffa0-3131e3a9d470"
      },
      "source": [
        "len(test_data)"
      ],
      "execution_count": null,
      "outputs": [
        {
          "output_type": "execute_result",
          "data": {
            "text/plain": [
              "2246"
            ]
          },
          "metadata": {},
          "execution_count": 11
        }
      ]
    },
    {
      "cell_type": "code",
      "metadata": {
        "colab": {
          "base_uri": "https://localhost:8080/"
        },
        "id": "nvvxrDY_9M2W",
        "outputId": "65f18974-cb84-49a0-a4d7-570d524125f3"
      },
      "source": [
        "print(train_data[0])"
      ],
      "execution_count": null,
      "outputs": [
        {
          "output_type": "stream",
          "name": "stdout",
          "text": [
            "[1, 2, 2, 8, 43, 10, 447, 5, 25, 207, 270, 5, 3095, 111, 16, 369, 186, 90, 67, 7, 89, 5, 19, 102, 6, 19, 124, 15, 90, 67, 84, 22, 482, 26, 7, 48, 4, 49, 8, 864, 39, 209, 154, 6, 151, 6, 83, 11, 15, 22, 155, 11, 15, 7, 48, 9, 4579, 1005, 504, 6, 258, 6, 272, 11, 15, 22, 134, 44, 11, 15, 16, 8, 197, 1245, 90, 67, 52, 29, 209, 30, 32, 132, 6, 109, 15, 17, 12]\n"
          ]
        }
      ]
    },
    {
      "cell_type": "code",
      "metadata": {
        "colab": {
          "base_uri": "https://localhost:8080/"
        },
        "id": "qDi7d-2v9Mzm",
        "outputId": "e373ecd5-77fa-4d21-dd74-bef3c1be5a9d"
      },
      "source": [
        "import pandas as pd \n",
        "pd.Series(train_labels).nunique()"
      ],
      "execution_count": null,
      "outputs": [
        {
          "output_type": "execute_result",
          "data": {
            "text/plain": [
              "46"
            ]
          },
          "metadata": {},
          "execution_count": 14
        }
      ]
    },
    {
      "cell_type": "code",
      "metadata": {
        "id": "vfjdTSEQ9MwW"
      },
      "source": [
        "# 벡터화로 희소행렬\n",
        "import numpy as np\n",
        "\n",
        "def vectorize_sequences(sequences, dimension=10000):\n",
        "  results = np.zeros((len(sequences),dimension))\n",
        "  for i,sequence in enumerate(sequences):\n",
        "    results[i,sequence] = 1.\n",
        "  return results\n",
        "\n",
        "\n",
        "x_train = vectorize_sequences(train_data)\n",
        "x_test = vectorize_sequences(test_data)"
      ],
      "execution_count": null,
      "outputs": []
    },
    {
      "cell_type": "code",
      "metadata": {
        "colab": {
          "base_uri": "https://localhost:8080/"
        },
        "id": "1MnnX_Ub9Mta",
        "outputId": "5dc8407e-0bda-4abe-f9bd-c77812ea6286"
      },
      "source": [
        "len(x_train[0])"
      ],
      "execution_count": null,
      "outputs": [
        {
          "output_type": "execute_result",
          "data": {
            "text/plain": [
              "10000"
            ]
          },
          "metadata": {},
          "execution_count": 21
        }
      ]
    },
    {
      "cell_type": "code",
      "metadata": {
        "id": "QOyYnrgE9MmO"
      },
      "source": [
        "# 원핫 dimension=46으로\n",
        "def to_one_hot(labels,dimension=46):\n",
        "  results= np.zeros((len(labels),dimension))\n",
        "  for i,label in enumerate(labels):\n",
        "    results[i,label] = 1.\n",
        "  return results\n",
        "\n",
        "one_hot_train_labels= to_one_hot(train_labels)\n",
        "one_hot_test_labels= to_one_hot(test_labels)"
      ],
      "execution_count": null,
      "outputs": []
    },
    {
      "cell_type": "code",
      "metadata": {
        "colab": {
          "base_uri": "https://localhost:8080/"
        },
        "id": "A4FWOxIS9MjW",
        "outputId": "a171b0b1-981b-4fe1-f728-72a4badf54bf"
      },
      "source": [
        "len(one_hot_train_labels[0])"
      ],
      "execution_count": null,
      "outputs": [
        {
          "output_type": "execute_result",
          "data": {
            "text/plain": [
              "46"
            ]
          },
          "metadata": {},
          "execution_count": 23
        }
      ]
    },
    {
      "cell_type": "code",
      "metadata": {
        "id": "tMTU9zmV9Mg4"
      },
      "source": [
        "# keras 내장함수 \n",
        "# from tensorflow.keras.utils import to_categorical \n",
        "from keras.utils.np_utils import to_categorical\n",
        "\n",
        "one_hot_train_labels= to_categorical(train_labels)\n",
        "one_hot_test_labels= to_categorical(test_labels)"
      ],
      "execution_count": null,
      "outputs": []
    },
    {
      "cell_type": "code",
      "metadata": {
        "id": "tph19BjS9MeG"
      },
      "source": [
        "# output이 46개가 되어야함 \n",
        "# 레이어 3개 유닛64 output은 46 -- softmax (이진분류에서는 sigmoid)\n",
        "\n",
        "from keras import models\n",
        "from keras import layers\n",
        "\n",
        "model = models.Sequential()\n",
        "model.add(layers.Dense(64, activation='relu',input_shape=(10000,))) # 입력개수 안넣어줌: 가변적  -> 뭘 넣어도 64개로 출력 \n",
        "model.add(layers.Dense(64, activation='relu' ))\n",
        "model.add(layers.Dense(46, activation='softmax'))  # 46개중 확률이 제일 큰걸로 분류... (멀티분류= softmax)"
      ],
      "execution_count": null,
      "outputs": []
    },
    {
      "cell_type": "code",
      "metadata": {
        "id": "G8pO0LFD9MbY"
      },
      "source": [
        "model.compile(optimizer= 'rmsprop',\n",
        "              loss= 'categorical_crossentropy',\n",
        "              metrics=['accuracy'])\n",
        "\n"
      ],
      "execution_count": null,
      "outputs": []
    },
    {
      "cell_type": "code",
      "metadata": {
        "id": "ilmgOE9Z9MY2"
      },
      "source": [
        "x_val = x_train[:1000]\n",
        "partial_x_train = x_train[1000:]\n",
        "\n",
        "y_val = one_hot_train_labels[:1000]\n",
        "partial_y_train = one_hot_train_labels[1000:]"
      ],
      "execution_count": null,
      "outputs": []
    },
    {
      "cell_type": "code",
      "metadata": {
        "colab": {
          "base_uri": "https://localhost:8080/"
        },
        "id": "JVnZy5bg9MWO",
        "outputId": "935f2ba9-91c2-4c43-c0fb-bf7d98be976d"
      },
      "source": [
        "history = model.fit(partial_x_train,\n",
        "                    partial_y_train,\n",
        "                    epochs=20,\n",
        "                    batch_size=512,\n",
        "                    validation_data= (x_val, y_val))"
      ],
      "execution_count": null,
      "outputs": [
        {
          "output_type": "stream",
          "name": "stdout",
          "text": [
            "Epoch 1/20\n",
            "16/16 [==============================] - 2s 25ms/step - loss: 2.6593 - accuracy: 0.5184 - val_loss: 1.7967 - val_accuracy: 0.6350\n",
            "Epoch 2/20\n",
            "16/16 [==============================] - 0s 10ms/step - loss: 1.4907 - accuracy: 0.6952 - val_loss: 1.3596 - val_accuracy: 0.6960\n",
            "Epoch 3/20\n",
            "16/16 [==============================] - 0s 10ms/step - loss: 1.1064 - accuracy: 0.7646 - val_loss: 1.1634 - val_accuracy: 0.7530\n",
            "Epoch 4/20\n",
            "16/16 [==============================] - 0s 17ms/step - loss: 0.8693 - accuracy: 0.8188 - val_loss: 1.0477 - val_accuracy: 0.7860\n",
            "Epoch 5/20\n",
            "16/16 [==============================] - 0s 13ms/step - loss: 0.6884 - accuracy: 0.8568 - val_loss: 0.9875 - val_accuracy: 0.7910\n",
            "Epoch 6/20\n",
            "16/16 [==============================] - 0s 11ms/step - loss: 0.5489 - accuracy: 0.8884 - val_loss: 0.9316 - val_accuracy: 0.8050\n",
            "Epoch 7/20\n",
            "16/16 [==============================] - 0s 10ms/step - loss: 0.4397 - accuracy: 0.9093 - val_loss: 0.8777 - val_accuracy: 0.8160\n",
            "Epoch 8/20\n",
            "16/16 [==============================] - 0s 13ms/step - loss: 0.3542 - accuracy: 0.9257 - val_loss: 0.8794 - val_accuracy: 0.8230\n",
            "Epoch 9/20\n",
            "16/16 [==============================] - 0s 12ms/step - loss: 0.2946 - accuracy: 0.9359 - val_loss: 0.8805 - val_accuracy: 0.8150\n",
            "Epoch 10/20\n",
            "16/16 [==============================] - 0s 12ms/step - loss: 0.2433 - accuracy: 0.9429 - val_loss: 0.8908 - val_accuracy: 0.8180\n",
            "Epoch 11/20\n",
            "16/16 [==============================] - 0s 11ms/step - loss: 0.2100 - accuracy: 0.9485 - val_loss: 0.8915 - val_accuracy: 0.8200\n",
            "Epoch 12/20\n",
            "16/16 [==============================] - 0s 11ms/step - loss: 0.1870 - accuracy: 0.9500 - val_loss: 0.8985 - val_accuracy: 0.8200\n",
            "Epoch 13/20\n",
            "16/16 [==============================] - 0s 11ms/step - loss: 0.1688 - accuracy: 0.9530 - val_loss: 0.9580 - val_accuracy: 0.8150\n",
            "Epoch 14/20\n",
            "16/16 [==============================] - 0s 10ms/step - loss: 0.1501 - accuracy: 0.9557 - val_loss: 0.9752 - val_accuracy: 0.8050\n",
            "Epoch 15/20\n",
            "16/16 [==============================] - 0s 11ms/step - loss: 0.1390 - accuracy: 0.9575 - val_loss: 0.9943 - val_accuracy: 0.8040\n",
            "Epoch 16/20\n",
            "16/16 [==============================] - 0s 11ms/step - loss: 0.1293 - accuracy: 0.9570 - val_loss: 1.0073 - val_accuracy: 0.8140\n",
            "Epoch 17/20\n",
            "16/16 [==============================] - 0s 11ms/step - loss: 0.1262 - accuracy: 0.9579 - val_loss: 1.0137 - val_accuracy: 0.8080\n",
            "Epoch 18/20\n",
            "16/16 [==============================] - 0s 14ms/step - loss: 0.1209 - accuracy: 0.9563 - val_loss: 1.0573 - val_accuracy: 0.8000\n",
            "Epoch 19/20\n",
            "16/16 [==============================] - 0s 13ms/step - loss: 0.1149 - accuracy: 0.9592 - val_loss: 1.0448 - val_accuracy: 0.7960\n",
            "Epoch 20/20\n",
            "16/16 [==============================] - 0s 10ms/step - loss: 0.1130 - accuracy: 0.9570 - val_loss: 1.1057 - val_accuracy: 0.7970\n"
          ]
        }
      ]
    },
    {
      "cell_type": "code",
      "metadata": {
        "colab": {
          "base_uri": "https://localhost:8080/",
          "height": 295
        },
        "id": "K9JndGNY9MTe",
        "outputId": "69bb663a-d83e-4df4-9771-51833bb07280"
      },
      "source": [
        "import matplotlib.pyplot as plt \n",
        "\n",
        "loss = history.history['loss']\n",
        "val_loss = history.history['val_loss']\n",
        "\n",
        "epochs= range(1, len(loss)+1)\n",
        "\n",
        "plt.plot(epochs, loss, 'bo', label='Training loss')\n",
        "plt.plot(epochs, val_loss, 'b', label='Validation loss')\n",
        "plt.title('Training and validation loss')\n",
        "plt.xlabel('Epochs')\n",
        "plt.ylabel('Loss')\n",
        "plt.legend()\n",
        "\n",
        "plt.show()"
      ],
      "execution_count": null,
      "outputs": [
        {
          "output_type": "display_data",
          "data": {
            "image/png": "[encoded data removed]",
            "text/plain": [
              "<Figure size 432x288 with 1 Axes>"
            ]
          },
          "metadata": {
            "needs_background": "light"
          }
        }
      ]
    },
    {
      "cell_type": "code",
      "metadata": {
        "colab": {
          "base_uri": "https://localhost:8080/",
          "height": 295
        },
        "id": "zyvQ_L0m9MRX",
        "outputId": "43617a0b-eb2e-48cf-f63d-3161f6931c2b"
      },
      "source": [
        "plt.clf() # 그래프를 초기화\n",
        "\n",
        "acc = history.history['accuracy']\n",
        "val_acc = history.history['val_accuracy']\n",
        "\n",
        "\n",
        "plt.plot(epochs, acc, 'bo',label = 'Training acc')\n",
        "plt.plot(epochs, val_acc,'b',label = 'Validation acc')\n",
        "plt.title('Training and validation accuracy')\n",
        "plt.xlabel('Epochs')\n",
        "plt.ylabel('Accuracy')\n",
        "plt.legend()\n",
        "\n",
        "plt.show()"
      ],
      "execution_count": null,
      "outputs": [
        {
          "output_type": "display_data",
          "data": {
            "image/png": "[encoded data removed]",
            "text/plain": [
              "<Figure size 432x288 with 1 Axes>"
            ]
          },
          "metadata": {
            "needs_background": "light"
          }
        }
      ]
    },
    {
      "cell_type": "code",
      "metadata": {
        "id": "YOKgBLJw9MMb"
      },
      "source": [
        "# 이 모델은 9번째 epoch이후에 과대적합이 시작된다.\n",
        "# 9번쨰 에포크로 새로운 모델을 훈련하고 테스트 세트로 평가\n",
        "\n"
      ],
      "execution_count": null,
      "outputs": []
    },
    {
      "cell_type": "code",
      "metadata": {
        "colab": {
          "base_uri": "https://localhost:8080/"
        },
        "id": "OTNWXmqNLXzX",
        "outputId": "fa1ffb40-5e1d-401a-b26b-1ab433b39ff3"
      },
      "source": [
        "model = models.Sequential()\n",
        "model.add(layers.Dense(64, activation='relu',input_shape=(10000,)))\n",
        "model.add(layers.Dense(64, activation='relu' ))\n",
        "model.add(layers.Dense(46, activation='softmax')) \n",
        "\n",
        "model.compile(optimizer= 'rmsprop',\n",
        "              loss= 'categorical_crossentropy',\n",
        "              metrics=['accuracy'])\n",
        "\n",
        "model.fit(partial_x_train,\n",
        "          partial_y_train,\n",
        "          epochs=9,\n",
        "          batch_size=512,\n",
        "          validation_data= (x_val, y_val))\n",
        "results = model.evaluate(x_test, one_hot_test_labels)"
      ],
      "execution_count": null,
      "outputs": [
        {
          "output_type": "stream",
          "name": "stdout",
          "text": [
            "Epoch 1/9\n",
            "16/16 [==============================] - 1s 22ms/step - loss: 2.4888 - accuracy: 0.5457 - val_loss: 1.6718 - val_accuracy: 0.6510\n",
            "Epoch 2/9\n",
            "16/16 [==============================] - 0s 11ms/step - loss: 1.4121 - accuracy: 0.7040 - val_loss: 1.3146 - val_accuracy: 0.7130\n",
            "Epoch 3/9\n",
            "16/16 [==============================] - 0s 11ms/step - loss: 1.0675 - accuracy: 0.7657 - val_loss: 1.1349 - val_accuracy: 0.7530\n",
            "Epoch 4/9\n",
            "16/16 [==============================] - 0s 11ms/step - loss: 0.8399 - accuracy: 0.8178 - val_loss: 1.0456 - val_accuracy: 0.7700\n",
            "Epoch 5/9\n",
            "16/16 [==============================] - 0s 11ms/step - loss: 0.6667 - accuracy: 0.8566 - val_loss: 0.9721 - val_accuracy: 0.7970\n",
            "Epoch 6/9\n",
            "16/16 [==============================] - 0s 11ms/step - loss: 0.5360 - accuracy: 0.8890 - val_loss: 0.9224 - val_accuracy: 0.8160\n",
            "Epoch 7/9\n",
            "16/16 [==============================] - 0s 10ms/step - loss: 0.4276 - accuracy: 0.9119 - val_loss: 0.8942 - val_accuracy: 0.8150\n",
            "Epoch 8/9\n",
            "16/16 [==============================] - 0s 10ms/step - loss: 0.3503 - accuracy: 0.9266 - val_loss: 0.9067 - val_accuracy: 0.8060\n",
            "Epoch 9/9\n",
            "16/16 [==============================] - 0s 10ms/step - loss: 0.2852 - accuracy: 0.9372 - val_loss: 0.8800 - val_accuracy: 0.8220\n",
            "71/71 [==============================] - 0s 2ms/step - loss: 0.9753 - accuracy: 0.7863\n"
          ]
        }
      ]
    },
    {
      "cell_type": "code",
      "metadata": {
        "colab": {
          "base_uri": "https://localhost:8080/"
        },
        "id": "OAJg9IZBLXwn",
        "outputId": "b67b41b1-eb35-4305-a1de-ae0351643e78"
      },
      "source": [
        "results"
      ],
      "execution_count": null,
      "outputs": [
        {
          "output_type": "execute_result",
          "data": {
            "text/plain": [
              "[0.9753450751304626, 0.7862867116928101]"
            ]
          },
          "metadata": {},
          "execution_count": 53
        }
      ]
    },
    {
      "cell_type": "code",
      "metadata": {
        "colab": {
          "base_uri": "https://localhost:8080/"
        },
        "id": "TVC4uNblLXt8",
        "outputId": "99aeaa6d-5a20-49c8-ffa1-e31ca3c635d6"
      },
      "source": [
        "import copy\n",
        "test_labels_copy = copy.copy(test_labels)\n",
        "np.random.shuffle(test_labels_copy)\n",
        "hits_array = np.array(test_labels) == np.array(test_labels_copy)\n",
        "float(np.sum(hits_array))/len(test_labels)"
      ],
      "execution_count": null,
      "outputs": [
        {
          "output_type": "execute_result",
          "data": {
            "text/plain": [
              "0.19100623330365094"
            ]
          },
          "metadata": {},
          "execution_count": 59
        }
      ]
    },
    {
      "cell_type": "code",
      "metadata": {
        "id": "pK9bcBbVLXrF"
      },
      "source": [
        "predictions = model.predict(x_test)"
      ],
      "execution_count": null,
      "outputs": []
    },
    {
      "cell_type": "code",
      "metadata": {
        "colab": {
          "base_uri": "https://localhost:8080/"
        },
        "id": "SR2QR7eMLXom",
        "outputId": "617c6e2a-08a6-46a9-a93f-7b6efe368582"
      },
      "source": [
        "predictions[0].shape"
      ],
      "execution_count": null,
      "outputs": [
        {
          "output_type": "execute_result",
          "data": {
            "text/plain": [
              "(46,)"
            ]
          },
          "metadata": {},
          "execution_count": 56
        }
      ]
    },
    {
      "cell_type": "code",
      "metadata": {
        "colab": {
          "base_uri": "https://localhost:8080/"
        },
        "id": "4kNK3WwdLXhA",
        "outputId": "94285496-e561-47f0-e1ba-8d0346b87c1b"
      },
      "source": [
        "np.sum(predictions[0])"
      ],
      "execution_count": null,
      "outputs": [
        {
          "output_type": "execute_result",
          "data": {
            "text/plain": [
              "0.9999999"
            ]
          },
          "metadata": {},
          "execution_count": 57
        }
      ]
    },
    {
      "cell_type": "code",
      "metadata": {
        "colab": {
          "base_uri": "https://localhost:8080/"
        },
        "id": "fDRtf5l7LXed",
        "outputId": "aecc87e6-fafb-4f4c-ed9e-1a07a589779d"
      },
      "source": [
        "np.argmax(predictions[0])"
      ],
      "execution_count": null,
      "outputs": [
        {
          "output_type": "execute_result",
          "data": {
            "text/plain": [
              "3"
            ]
          },
          "metadata": {},
          "execution_count": 58
        }
      ]
    },
    {
      "cell_type": "code",
      "metadata": {
        "id": "1B-fK0xhLXbY"
      },
      "source": [
        "# 출력 64 -> 4개 :: 병목이 생김 \n",
        "# 두번째 레이어의 출력: 4로 해서 돌려보기 \n",
        "# epochs 20 batch 128"
      ],
      "execution_count": null,
      "outputs": []
    },
    {
      "cell_type": "code",
      "metadata": {
        "colab": {
          "base_uri": "https://localhost:8080/"
        },
        "id": "WiU8fYyMLXZE",
        "outputId": "514bdde2-1539-45ad-da95-cd8bb581ff75"
      },
      "source": [
        "model = models.Sequential()\n",
        "model.add(layers.Dense(64, activation='relu',input_shape=(10000,)))\n",
        "model.add(layers.Dense(4, activation='relu' ))\n",
        "model.add(layers.Dense(46, activation='softmax')) \n",
        "\n",
        "model.compile(optimizer= 'rmsprop',\n",
        "              loss= 'categorical_crossentropy',\n",
        "              metrics=['accuracy'])\n",
        "\n",
        "model.fit(partial_x_train,\n",
        "          partial_y_train,\n",
        "          epochs=20,\n",
        "          batch_size=128,\n",
        "          validation_data= (x_val, y_val))\n",
        "results = model.evaluate(x_test, one_hot_test_labels)"
      ],
      "execution_count": null,
      "outputs": [
        {
          "output_type": "stream",
          "name": "stdout",
          "text": [
            "Epoch 1/20\n",
            "63/63 [==============================] - 1s 7ms/step - loss: 3.3784 - accuracy: 0.1901 - val_loss: 2.8758 - val_accuracy: 0.2210\n",
            "Epoch 2/20\n",
            "63/63 [==============================] - 0s 4ms/step - loss: 2.4380 - accuracy: 0.3101 - val_loss: 2.0099 - val_accuracy: 0.5670\n",
            "Epoch 3/20\n",
            "63/63 [==============================] - 0s 4ms/step - loss: 1.6753 - accuracy: 0.6045 - val_loss: 1.6069 - val_accuracy: 0.6260\n",
            "Epoch 4/20\n",
            "63/63 [==============================] - 0s 4ms/step - loss: 1.3788 - accuracy: 0.6566 - val_loss: 1.4676 - val_accuracy: 0.6400\n",
            "Epoch 5/20\n",
            "63/63 [==============================] - 0s 4ms/step - loss: 1.2109 - accuracy: 0.6853 - val_loss: 1.4006 - val_accuracy: 0.6630\n",
            "Epoch 6/20\n",
            "63/63 [==============================] - 0s 4ms/step - loss: 1.0793 - accuracy: 0.7177 - val_loss: 1.3670 - val_accuracy: 0.6700\n",
            "Epoch 7/20\n",
            "63/63 [==============================] - 0s 4ms/step - loss: 0.9689 - accuracy: 0.7413 - val_loss: 1.3399 - val_accuracy: 0.7080\n",
            "Epoch 8/20\n",
            "63/63 [==============================] - 0s 6ms/step - loss: 0.8759 - accuracy: 0.7786 - val_loss: 1.3305 - val_accuracy: 0.7080\n",
            "Epoch 9/20\n",
            "63/63 [==============================] - 0s 6ms/step - loss: 0.8004 - accuracy: 0.7929 - val_loss: 1.3626 - val_accuracy: 0.7150\n",
            "Epoch 10/20\n",
            "63/63 [==============================] - 0s 5ms/step - loss: 0.7402 - accuracy: 0.8023 - val_loss: 1.3846 - val_accuracy: 0.7130\n",
            "Epoch 11/20\n",
            "63/63 [==============================] - 0s 4ms/step - loss: 0.6869 - accuracy: 0.8137 - val_loss: 1.3830 - val_accuracy: 0.7170\n",
            "Epoch 12/20\n",
            "63/63 [==============================] - 0s 4ms/step - loss: 0.6411 - accuracy: 0.8193 - val_loss: 1.4491 - val_accuracy: 0.7170\n",
            "Epoch 13/20\n",
            "63/63 [==============================] - 0s 4ms/step - loss: 0.6009 - accuracy: 0.8262 - val_loss: 1.4949 - val_accuracy: 0.7180\n",
            "Epoch 14/20\n",
            "63/63 [==============================] - 0s 4ms/step - loss: 0.5663 - accuracy: 0.8375 - val_loss: 1.5310 - val_accuracy: 0.7220\n",
            "Epoch 15/20\n",
            "63/63 [==============================] - 0s 6ms/step - loss: 0.5340 - accuracy: 0.8539 - val_loss: 1.6229 - val_accuracy: 0.7220\n",
            "Epoch 16/20\n",
            "63/63 [==============================] - 0s 5ms/step - loss: 0.5062 - accuracy: 0.8573 - val_loss: 1.6500 - val_accuracy: 0.7210\n",
            "Epoch 17/20\n",
            "63/63 [==============================] - 0s 4ms/step - loss: 0.4810 - accuracy: 0.8682 - val_loss: 1.7166 - val_accuracy: 0.7370\n",
            "Epoch 18/20\n",
            "63/63 [==============================] - 0s 6ms/step - loss: 0.4611 - accuracy: 0.8779 - val_loss: 1.7926 - val_accuracy: 0.7190\n",
            "Epoch 19/20\n",
            "63/63 [==============================] - 0s 4ms/step - loss: 0.4409 - accuracy: 0.8831 - val_loss: 1.8870 - val_accuracy: 0.7130\n",
            "Epoch 20/20\n",
            "63/63 [==============================] - 0s 6ms/step - loss: 0.4245 - accuracy: 0.8874 - val_loss: 1.9086 - val_accuracy: 0.7180\n",
            "71/71 [==============================] - 0s 3ms/step - loss: 2.1503 - accuracy: 0.7008\n"
          ]
        }
      ]
    },
    {
      "cell_type": "code",
      "metadata": {
        "colab": {
          "base_uri": "https://localhost:8080/"
        },
        "id": "aYWPQT7KLXWK",
        "outputId": "e9874179-a381-474a-b457-bca8d98c6937"
      },
      "source": [
        "results"
      ],
      "execution_count": null,
      "outputs": [
        {
          "output_type": "execute_result",
          "data": {
            "text/plain": [
              "[2.15029239654541, 0.700801432132721]"
            ]
          },
          "metadata": {},
          "execution_count": 61
        }
      ]
    },
    {
      "cell_type": "code",
      "metadata": {
        "id": "0D6A5tGMLXTk"
      },
      "source": [
        ""
      ],
      "execution_count": null,
      "outputs": []
    },
    {
      "cell_type": "code",
      "metadata": {
        "id": "RbGFdDo8LXRE"
      },
      "source": [
        ""
      ],
      "execution_count": null,
      "outputs": []
    },
    {
      "cell_type": "code",
      "metadata": {
        "id": "oJNd83KXLXO0"
      },
      "source": [
        ""
      ],
      "execution_count": null,
      "outputs": []
    },
    {
      "cell_type": "code",
      "metadata": {
        "id": "OAJBGahILXMU"
      },
      "source": [
        ""
      ],
      "execution_count": null,
      "outputs": []
    }
  ]
}

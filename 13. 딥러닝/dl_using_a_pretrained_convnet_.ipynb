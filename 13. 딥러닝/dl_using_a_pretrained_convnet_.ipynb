{
  "nbformat": 4,
  "nbformat_minor": 0,
  "metadata": {
    "colab": {
      "name": "dl_using-a-pretrained-convnet.ipynb",
      "provenance": [],
      "collapsed_sections": [],
      "machine_shape": "hm",
      "authorship_tag": "ABX9TyOxcnl4O3JzB+nrnEdp+Qcv",
      "include_colab_link": true
    },
    "kernelspec": {
      "name": "python3",
      "display_name": "Python 3"
    },
    "language_info": {
      "name": "python"
    },
    "accelerator": "GPU"
  },
  "cells": [
    {
      "cell_type": "markdown",
      "metadata": {
        "id": "view-in-github",
        "colab_type": "text"
      },
      "source": [
        "<a href=\"https://colab.research.google.com/github/SeunghyeChae/CAKD3_tmdhey/blob/main/dl_using_a_pretrained_convnet.ipynb\" target=\"_parent\"><img src=\"https://colab.research.google.com/assets/colab-badge.svg\" alt=\"Open In Colab\"/></a>"
      ]
    },
    {
      "cell_type": "code",
      "metadata": {
        "colab": {
          "base_uri": "https://localhost:8080/"
        },
        "id": "bjtf-9-F6TLe",
        "outputId": "e89ae7a5-f988-4524-c015-50e70f508172"
      },
      "source": [
        "from google.colab import drive\n",
        "drive.mount('/content/drive')"
      ],
      "execution_count": null,
      "outputs": [
        {
          "output_type": "stream",
          "name": "stdout",
          "text": [
            "Mounted at /content/drive\n"
          ]
        }
      ]
    },
    {
      "cell_type": "markdown",
      "metadata": {
        "id": "DomKDCd86eMp"
      },
      "source": [
        "- 그냥 하면선형\n",
        "- relu해주면 비선형으로 변환\n",
        "- 입력값이 0보다 작으면 0으로 출력, 0보다 크면 입력값 그대로 출력하는 유닛\n",
        "- 171p\n",
        "\n",
        "- 2진분류 sigmoid \n",
        "- 3분류 이상 softmax "
      ]
    },
    {
      "cell_type": "code",
      "metadata": {
        "colab": {
          "base_uri": "https://localhost:8080/"
        },
        "id": "7MD18mxc6ezp",
        "outputId": "e701d7d3-4992-4e1b-af43-611c16b693de"
      },
      "source": [
        "# imageNet 데이터셋에 훈련된 이미지 분류 모델 \n",
        "# 우리는 VGG16 (사전 훈련된 네트워크)\n",
        "\n",
        "from tensorflow.keras.applications import VGG16\n",
        "conv_base= VGG16(weights='imagenet', # 가중치\n",
        "                 include_top= False, # 완전연결층에 연결할 것인지\n",
        "                  input_shape= (150,150,3))\n"
      ],
      "execution_count": null,
      "outputs": [
        {
          "output_type": "stream",
          "name": "stdout",
          "text": [
            "Downloading data from https://storage.googleapis.com/tensorflow/keras-applications/vgg16/vgg16_weights_tf_dim_ordering_tf_kernels_notop.h5\n",
            "58892288/58889256 [==============================] - 0s 0us/step\n",
            "58900480/58889256 [==============================] - 0s 0us/step\n"
          ]
        }
      ]
    },
    {
      "cell_type": "code",
      "metadata": {
        "colab": {
          "base_uri": "https://localhost:8080/"
        },
        "id": "09fqQLmX6exB",
        "outputId": "5e3df487-8900-425f-9693-95d805e88a95"
      },
      "source": [
        "# 우리가 가져온 convnet보기 \n",
        "conv_base.summary()"
      ],
      "execution_count": null,
      "outputs": [
        {
          "output_type": "stream",
          "name": "stdout",
          "text": [
            "Model: \"vgg16\"\n",
            "_________________________________________________________________\n",
            "Layer (type)                 Output Shape              Param #   \n",
            "=================================================================\n",
            "input_1 (InputLayer)         [(None, 150, 150, 3)]     0         \n",
            "_________________________________________________________________\n",
            "block1_conv1 (Conv2D)        (None, 150, 150, 64)      1792      \n",
            "_________________________________________________________________\n",
            "block1_conv2 (Conv2D)        (None, 150, 150, 64)      36928     \n",
            "_________________________________________________________________\n",
            "block1_pool (MaxPooling2D)   (None, 75, 75, 64)        0         \n",
            "_________________________________________________________________\n",
            "block2_conv1 (Conv2D)        (None, 75, 75, 128)       73856     \n",
            "_________________________________________________________________\n",
            "block2_conv2 (Conv2D)        (None, 75, 75, 128)       147584    \n",
            "_________________________________________________________________\n",
            "block2_pool (MaxPooling2D)   (None, 37, 37, 128)       0         \n",
            "_________________________________________________________________\n",
            "block3_conv1 (Conv2D)        (None, 37, 37, 256)       295168    \n",
            "_________________________________________________________________\n",
            "block3_conv2 (Conv2D)        (None, 37, 37, 256)       590080    \n",
            "_________________________________________________________________\n",
            "block3_conv3 (Conv2D)        (None, 37, 37, 256)       590080    \n",
            "_________________________________________________________________\n",
            "block3_pool (MaxPooling2D)   (None, 18, 18, 256)       0         \n",
            "_________________________________________________________________\n",
            "block4_conv1 (Conv2D)        (None, 18, 18, 512)       1180160   \n",
            "_________________________________________________________________\n",
            "block4_conv2 (Conv2D)        (None, 18, 18, 512)       2359808   \n",
            "_________________________________________________________________\n",
            "block4_conv3 (Conv2D)        (None, 18, 18, 512)       2359808   \n",
            "_________________________________________________________________\n",
            "block4_pool (MaxPooling2D)   (None, 9, 9, 512)         0         \n",
            "_________________________________________________________________\n",
            "block5_conv1 (Conv2D)        (None, 9, 9, 512)         2359808   \n",
            "_________________________________________________________________\n",
            "block5_conv2 (Conv2D)        (None, 9, 9, 512)         2359808   \n",
            "_________________________________________________________________\n",
            "block5_conv3 (Conv2D)        (None, 9, 9, 512)         2359808   \n",
            "_________________________________________________________________\n",
            "block5_pool (MaxPooling2D)   (None, 4, 4, 512)         0         \n",
            "=================================================================\n",
            "Total params: 14,714,688\n",
            "Trainable params: 14,714,688\n",
            "Non-trainable params: 0\n",
            "_________________________________________________________________\n"
          ]
        }
      ]
    },
    {
      "cell_type": "code",
      "metadata": {
        "id": "I-bBDlbO6euy"
      },
      "source": [
        "# 완전연결층에 연결하여 사용 \n",
        "# 2가지 방법 -  데이터증식 / 증식없이"
      ],
      "execution_count": null,
      "outputs": []
    },
    {
      "cell_type": "code",
      "metadata": {
        "id": "vu8Q3w0LAJ3t"
      },
      "source": [
        "# # 데이터 증식을 사용하지 않는 빠른 특성추출 \n",
        "# import os\n",
        "# import numpy as np \n",
        "# from tensorflow.keras.preprocessing.image import ImageDataGenerator\n",
        "\n",
        "# base_dir= ''\n",
        "\n",
        "# train_dir= os.path.join(base_dir, 'train')\n",
        "# validation_dir = os.path.join(base_dir, 'validation')\n",
        "# test_dir = os.path.join(base_dir,'test')\n",
        "\n",
        "# datagen = ImageDataGenerator(rescale=1./255)\n",
        "# batch_size= 20\n",
        "\n",
        "# def extract_features(directory, sample_count):\n",
        "#   features = np.zeros(shape=(sample_count, 4, 4, 512))\n",
        "#   labels = np.zeros(shape=(sample_cuont))\n",
        "#   generator = datagen.flow_from_directory(\n",
        "#       directory,\n",
        "#       target_size(150,150),\n",
        "#       batch_size = batch_size,\n",
        "#       class_mode = 'binary')\n",
        "#   i=0\n",
        "#   for input_batch, labels_batch in generator:\n",
        "#     features_batch = conv_base.predict(input_batch)\n",
        "#     features[i*batch_size: (i+1)*batch_size]= features_batch\n",
        "#     labels[i*batch_size: (i+1)*batch_size]= labels_batch\n",
        "#     i += 1\n",
        "#     if i * batch_size >= sample_count:\n",
        "#       break\n",
        "#     return features\n",
        "\n",
        "# train_features, train_labels= extract_features(train_dir,2000)\n",
        "# validation_features, validation_labels = extract_features(validation_dir,1000)\n",
        "# test_features, test_labels = extract_features(test_dir,1000)\n"
      ],
      "execution_count": null,
      "outputs": []
    },
    {
      "cell_type": "code",
      "metadata": {
        "colab": {
          "base_uri": "https://localhost:8080/"
        },
        "id": "0-ftfSGl6esA",
        "outputId": "06e84b68-ce41-442c-8c24-9ee97d8db7a9"
      },
      "source": [
        "import os\n",
        "import numpy as np\n",
        "from tensorflow.keras.preprocessing.image import ImageDataGenerator\n",
        "\n",
        "base_dir = '/content/drive/MyDrive/cakd_colab/dl_keras/datasets/cats_and_dogs_small'\n",
        "\n",
        "train_dir = os.path.join(base_dir,'train')\n",
        "validation_dir = os.path.join(base_dir, 'validation')\n",
        "test_dir = os.path.join(base_dir,'test')\n",
        "\n",
        "datagen = ImageDataGenerator( rescale = 1./255)\n",
        "batch_size = 20\n",
        "\n",
        "# 특징을 추출하는 definition\n",
        "def extract_features(directory, sample_count):\n",
        "  features = np.zeros(shape=(sample_count, 4, 4, 512))\n",
        "  labels = np.zeros(shape=(sample_count))\n",
        "  generator = datagen.flow_from_directory(\n",
        "      directory,\n",
        "      target_size = (150,150),\n",
        "      batch_size = batch_size,\n",
        "      class_mode = 'binary'\n",
        "  )\n",
        "  i = 0\n",
        "  for inputs_batch, labels_batch in generator:\n",
        "    features_batch = conv_base.predict(inputs_batch)\n",
        "    features[i * batch_size : ( i + 1 ) * batch_size] = features_batch\n",
        "    labels[i * batch_size : ( i + 1 ) * batch_size] = labels_batch\n",
        "    i += 1\n",
        "    if i * batch_size >= sample_count:\n",
        "      break\n",
        "  return features, labels\n",
        "\n",
        "train_features, train_labels = extract_features(train_dir,2000)\n",
        "validation_features, validation_labels = extract_features(validation_dir, 1000)\n",
        "test_features, test_labels = extract_features(test_dir, 1000)"
      ],
      "execution_count": null,
      "outputs": [
        {
          "output_type": "stream",
          "name": "stdout",
          "text": [
            "Found 2000 images belonging to 2 classes.\n",
            "Found 1000 images belonging to 2 classes.\n",
            "Found 1000 images belonging to 2 classes.\n"
          ]
        }
      ]
    },
    {
      "cell_type": "code",
      "metadata": {
        "colab": {
          "base_uri": "https://localhost:8080/"
        },
        "id": "kIClsAtwLCAK",
        "outputId": "c642f9ae-9e4c-475e-e181-030558bdaaea"
      },
      "source": [
        "train_features.shape\n",
        "validation_features.shape\n",
        "test_features.shape\n"
      ],
      "execution_count": null,
      "outputs": [
        {
          "output_type": "execute_result",
          "data": {
            "text/plain": [
              "(1000, 4, 4, 512)"
            ]
          },
          "metadata": {},
          "execution_count": 14
        }
      ]
    },
    {
      "cell_type": "code",
      "metadata": {
        "id": "AeLms7RK6epT"
      },
      "source": [
        "train_features = np.reshape(train_features, (2000,4*4*512))\n",
        "validation_features = np.reshape(validation_features, (1000, 4*4*512))\n",
        "test_features = np.reshape(test_features,(1000,4*4*512))"
      ],
      "execution_count": null,
      "outputs": []
    },
    {
      "cell_type": "code",
      "metadata": {
        "colab": {
          "base_uri": "https://localhost:8080/"
        },
        "id": "EG_-uNVX6em5",
        "outputId": "76ce7349-c9fa-4ae9-90b4-de5de01bce21"
      },
      "source": [
        "train_features.shape"
      ],
      "execution_count": null,
      "outputs": [
        {
          "output_type": "execute_result",
          "data": {
            "text/plain": [
              "(2000, 8192)"
            ]
          },
          "metadata": {},
          "execution_count": 17
        }
      ]
    },
    {
      "cell_type": "code",
      "metadata": {
        "colab": {
          "base_uri": "https://localhost:8080/"
        },
        "id": "oUw02OD56eJ4",
        "outputId": "5e67f261-f40f-4125-f5c3-69feed3129b0"
      },
      "source": [
        "from tensorflow.keras import models\n",
        "from tensorflow.keras import layers\n",
        "from tensorflow.keras import optimizers\n",
        "\n",
        "model = models.Sequential()\n",
        "model.add(layers.Dense(256, activation='relu', input_dim=4*4*512))\n",
        "model.add(layers.Dropout(0.5))\n",
        "model.add(layers.Dense(1, activation = 'sigmoid'))\n",
        "\n",
        "\n",
        "\n",
        "model.compile(optimizer=optimizers.RMSprop(lr=2e-5),\n",
        "              loss = 'binary_crossentropy',\n",
        "              metrics=['acc'])\n",
        "\n",
        "\n",
        "\n",
        "history = model.fit(train_features, train_labels,\n",
        "                    epochs=30,\n",
        "                    batch_size=20,\n",
        "                    validation_data=(validation_features, validation_labels))\n",
        "\n",
        "\n"
      ],
      "execution_count": null,
      "outputs": [
        {
          "output_type": "stream",
          "name": "stderr",
          "text": [
            "/usr/local/lib/python3.7/dist-packages/keras/optimizer_v2/optimizer_v2.py:356: UserWarning: The `lr` argument is deprecated, use `learning_rate` instead.\n",
            "  \"The `lr` argument is deprecated, use `learning_rate` instead.\")\n"
          ]
        },
        {
          "output_type": "stream",
          "name": "stdout",
          "text": [
            "Epoch 1/30\n",
            "100/100 [==============================] - 1s 4ms/step - loss: 0.6247 - acc: 0.6550 - val_loss: 0.4586 - val_acc: 0.8180\n",
            "Epoch 2/30\n",
            "100/100 [==============================] - 0s 3ms/step - loss: 0.4468 - acc: 0.7970 - val_loss: 0.3710 - val_acc: 0.8580\n",
            "Epoch 3/30\n",
            "100/100 [==============================] - 0s 3ms/step - loss: 0.3638 - acc: 0.8500 - val_loss: 0.3275 - val_acc: 0.8760\n",
            "Epoch 4/30\n",
            "100/100 [==============================] - 0s 3ms/step - loss: 0.3140 - acc: 0.8785 - val_loss: 0.3029 - val_acc: 0.8790\n",
            "Epoch 5/30\n",
            "100/100 [==============================] - 0s 3ms/step - loss: 0.2979 - acc: 0.8750 - val_loss: 0.2844 - val_acc: 0.8910\n",
            "Epoch 6/30\n",
            "100/100 [==============================] - 0s 3ms/step - loss: 0.2679 - acc: 0.8875 - val_loss: 0.2756 - val_acc: 0.8880\n",
            "Epoch 7/30\n",
            "100/100 [==============================] - 0s 3ms/step - loss: 0.2494 - acc: 0.9020 - val_loss: 0.2724 - val_acc: 0.8850\n",
            "Epoch 8/30\n",
            "100/100 [==============================] - 0s 3ms/step - loss: 0.2421 - acc: 0.9045 - val_loss: 0.2655 - val_acc: 0.8920\n",
            "Epoch 9/30\n",
            "100/100 [==============================] - 0s 3ms/step - loss: 0.2259 - acc: 0.9110 - val_loss: 0.2539 - val_acc: 0.8930\n",
            "Epoch 10/30\n",
            "100/100 [==============================] - 0s 3ms/step - loss: 0.2110 - acc: 0.9250 - val_loss: 0.2499 - val_acc: 0.8980\n",
            "Epoch 11/30\n",
            "100/100 [==============================] - 0s 3ms/step - loss: 0.2006 - acc: 0.9270 - val_loss: 0.2519 - val_acc: 0.8970\n",
            "Epoch 12/30\n",
            "100/100 [==============================] - 0s 3ms/step - loss: 0.1929 - acc: 0.9295 - val_loss: 0.2428 - val_acc: 0.9000\n",
            "Epoch 13/30\n",
            "100/100 [==============================] - 0s 3ms/step - loss: 0.1857 - acc: 0.9335 - val_loss: 0.2430 - val_acc: 0.9000\n",
            "Epoch 14/30\n",
            "100/100 [==============================] - 0s 3ms/step - loss: 0.1734 - acc: 0.9395 - val_loss: 0.2414 - val_acc: 0.9020\n",
            "Epoch 15/30\n",
            "100/100 [==============================] - 0s 3ms/step - loss: 0.1720 - acc: 0.9400 - val_loss: 0.2394 - val_acc: 0.9020\n",
            "Epoch 16/30\n",
            "100/100 [==============================] - 0s 3ms/step - loss: 0.1560 - acc: 0.9480 - val_loss: 0.2347 - val_acc: 0.9060\n",
            "Epoch 17/30\n",
            "100/100 [==============================] - 0s 3ms/step - loss: 0.1509 - acc: 0.9505 - val_loss: 0.2349 - val_acc: 0.9000\n",
            "Epoch 18/30\n",
            "100/100 [==============================] - 0s 3ms/step - loss: 0.1499 - acc: 0.9460 - val_loss: 0.2345 - val_acc: 0.9020\n",
            "Epoch 19/30\n",
            "100/100 [==============================] - 0s 3ms/step - loss: 0.1415 - acc: 0.9545 - val_loss: 0.2350 - val_acc: 0.9000\n",
            "Epoch 20/30\n",
            "100/100 [==============================] - 0s 3ms/step - loss: 0.1361 - acc: 0.9585 - val_loss: 0.2362 - val_acc: 0.8980\n",
            "Epoch 21/30\n",
            "100/100 [==============================] - 0s 3ms/step - loss: 0.1332 - acc: 0.9570 - val_loss: 0.2365 - val_acc: 0.8990\n",
            "Epoch 22/30\n",
            "100/100 [==============================] - 0s 3ms/step - loss: 0.1222 - acc: 0.9600 - val_loss: 0.2473 - val_acc: 0.8980\n",
            "Epoch 23/30\n",
            "100/100 [==============================] - 0s 3ms/step - loss: 0.1192 - acc: 0.9595 - val_loss: 0.2314 - val_acc: 0.9020\n",
            "Epoch 24/30\n",
            "100/100 [==============================] - 0s 3ms/step - loss: 0.1177 - acc: 0.9600 - val_loss: 0.2326 - val_acc: 0.9020\n",
            "Epoch 25/30\n",
            "100/100 [==============================] - 0s 3ms/step - loss: 0.1166 - acc: 0.9595 - val_loss: 0.2383 - val_acc: 0.9050\n",
            "Epoch 26/30\n",
            "100/100 [==============================] - 0s 3ms/step - loss: 0.1129 - acc: 0.9625 - val_loss: 0.2351 - val_acc: 0.9010\n",
            "Epoch 27/30\n",
            "100/100 [==============================] - 0s 3ms/step - loss: 0.1091 - acc: 0.9620 - val_loss: 0.2336 - val_acc: 0.9010\n",
            "Epoch 28/30\n",
            "100/100 [==============================] - 0s 3ms/step - loss: 0.1007 - acc: 0.9695 - val_loss: 0.2343 - val_acc: 0.9010\n",
            "Epoch 29/30\n",
            "100/100 [==============================] - 0s 3ms/step - loss: 0.0940 - acc: 0.9725 - val_loss: 0.2407 - val_acc: 0.9020\n",
            "Epoch 30/30\n",
            "100/100 [==============================] - 0s 3ms/step - loss: 0.0943 - acc: 0.9690 - val_loss: 0.2355 - val_acc: 0.9010\n"
          ]
        }
      ]
    },
    {
      "cell_type": "code",
      "metadata": {
        "colab": {
          "base_uri": "https://localhost:8080/",
          "height": 545
        },
        "id": "OeasXqMc6eHI",
        "outputId": "c6d4c962-1c0c-4096-b18a-ebbfefa8079c"
      },
      "source": [
        "import matplotlib.pyplot as plt\n",
        "\n",
        "acc = history.history['acc']\n",
        "val_acc = history.history['val_acc']\n",
        "loss = history.history['loss']\n",
        "val_loss = history.history['val_loss']\n",
        "\n",
        "epochs = range(len(acc))\n",
        "\n",
        "plt.plot(epochs,acc,'bo',label='Training acc')\n",
        "plt.plot(epochs,val_acc,'b',label='Validation_acc')\n",
        "plt.title('Training and validation accuracy')\n",
        "plt.legend()\n",
        "plt.show()\n",
        "\n",
        "plt.figure()\n",
        "\n",
        "plt.plot(epochs, loss, 'bo',label = 'Training acc')\n",
        "plt.plot(epochs, val_loss, 'b',label = 'Validation acc')\n",
        "plt.title('Training and validation loss')\n",
        "plt.legend()\n",
        "\n",
        "plt.show()\n",
        "\n",
        "\n",
        "\n"
      ],
      "execution_count": null,
      "outputs": [
        {
          "output_type": "display_data",
          "data": {
            "image/png": "[encoded data removed]",
            "text/plain": [
              "<Figure size 432x288 with 1 Axes>"
            ]
          },
          "metadata": {
            "needs_background": "light"
          }
        },
        {
          "output_type": "display_data",
          "data": {
            "image/png": "[encoded data removed]",
            "text/plain": [
              "<Figure size 432x288 with 1 Axes>"
            ]
          },
          "metadata": {
            "needs_background": "light"
          }
        }
      ]
    },
    {
      "cell_type": "code",
      "metadata": {
        "id": "p7H7qkKm6eEY"
      },
      "source": [
        ""
      ],
      "execution_count": null,
      "outputs": []
    },
    {
      "cell_type": "code",
      "metadata": {
        "id": "YnUH13au6eBz"
      },
      "source": [
        "# 데이타 증식 기법 사용\n",
        "\n",
        "from tensorflow.keras import models\n",
        "from tensorflow.keras import layers\n",
        "\n",
        "model= models.Sequential()\n",
        "model.add(conv_base)\n",
        "model.add(layers.Flatten())\n",
        "model.add(layers.Dense(256,activation='relu'))\n",
        "model.add(layers.Dense(1,activation='sigmoid'))"
      ],
      "execution_count": null,
      "outputs": []
    },
    {
      "cell_type": "code",
      "metadata": {
        "id": "1ebzu5K56d_K",
        "colab": {
          "base_uri": "https://localhost:8080/"
        },
        "outputId": "a6ae44d3-9bed-455e-e860-4e199f08e07a"
      },
      "source": [
        "model.summary()"
      ],
      "execution_count": null,
      "outputs": [
        {
          "output_type": "stream",
          "name": "stdout",
          "text": [
            "Model: \"sequential_1\"\n",
            "_________________________________________________________________\n",
            "Layer (type)                 Output Shape              Param #   \n",
            "=================================================================\n",
            "vgg16 (Functional)           (None, 4, 4, 512)         14714688  \n",
            "_________________________________________________________________\n",
            "flatten_1 (Flatten)          (None, 8192)              0         \n",
            "_________________________________________________________________\n",
            "dense_1 (Dense)              (None, 256)               2097408   \n",
            "_________________________________________________________________\n",
            "dense_2 (Dense)              (None, 1)                 257       \n",
            "=================================================================\n",
            "Total params: 16,812,353\n",
            "Trainable params: 16,812,353\n",
            "Non-trainable params: 0\n",
            "_________________________________________________________________\n"
          ]
        }
      ]
    },
    {
      "cell_type": "code",
      "metadata": {
        "id": "c7QtoEZpHKMD"
      },
      "source": [
        "import os\n",
        "import numpy as np\n",
        "from tensorflow.keras import optimizers\n",
        "\n",
        "base_dir = '/content/drive/MyDrive/cakd_colab/dl_keras/datasets/cats_and_dogs_small'\n",
        "\n",
        "train_dir = os.path.join(base_dir,'train')\n",
        "validation_dir = os.path.join(base_dir, 'validation')\n",
        "test_dir = os.path.join(base_dir,'test')"
      ],
      "execution_count": null,
      "outputs": []
    },
    {
      "cell_type": "code",
      "metadata": {
        "id": "PWWcUESP6d1o",
        "colab": {
          "base_uri": "https://localhost:8080/"
        },
        "outputId": "7f28b78d-a231-468c-d5f0-786e5b81148e"
      },
      "source": [
        "from tensorflow.keras.preprocessing.image import ImageDataGenerator\n",
        "\n",
        "# train 데이터 증식 (테스트는 하면 안됨)\n",
        "train_datagen = ImageDataGenerator(rescale= 1./255,# 부동소수점으로 바꿔주고 255로 나눠주기\n",
        "                                   rotation_range=20,\n",
        "                                   width_shift_range=0.1,\n",
        "                                   height_shift_range=0.1,\n",
        "                                   shear_range=0.1,\n",
        "                                   zoom_range=0.1,\n",
        "                                   horizontal_flip=True,\n",
        "                                   fill_mode='nearest')    # p194\n",
        "\n",
        "test_datagen = ImageDataGenerator(rescale=1./255)\n",
        "\n",
        "train_generator = train_datagen.flow_from_directory(train_dir, \n",
        "                                                    target_size=(150,150),\n",
        "                                                    batch_size=20,\n",
        "                                                    class_mode='binary')\n",
        "\n",
        "\n",
        "validation_generator=test_datagen.flow_from_directory(validation_dir,\n",
        "                                                      target_size=(150,150),\n",
        "                                                      batch_size=20,\n",
        "                                                      class_mode='binary')\n",
        "\n",
        "\n",
        "model.compile(loss='binary_crossentropy', optimizer=optimizers.RMSprop(lr=2e-5),metrics=['acc'])\n",
        "\n",
        "history = model.fit_generator(train_generator, steps_per_epoch = 100,\n",
        "                              epochs=30,\n",
        "                              validation_data = validation_generator,\n",
        "                              validation_steps=50,\n",
        "                              verbose=2)"
      ],
      "execution_count": null,
      "outputs": [
        {
          "output_type": "stream",
          "name": "stdout",
          "text": [
            "Found 2000 images belonging to 2 classes.\n",
            "Found 1000 images belonging to 2 classes.\n"
          ]
        },
        {
          "output_type": "stream",
          "name": "stderr",
          "text": [
            "/usr/local/lib/python3.7/dist-packages/keras/optimizer_v2/optimizer_v2.py:356: UserWarning: The `lr` argument is deprecated, use `learning_rate` instead.\n",
            "  \"The `lr` argument is deprecated, use `learning_rate` instead.\")\n",
            "/usr/local/lib/python3.7/dist-packages/keras/engine/training.py:1972: UserWarning: `Model.fit_generator` is deprecated and will be removed in a future version. Please use `Model.fit`, which supports generators.\n",
            "  warnings.warn('`Model.fit_generator` is deprecated and '\n"
          ]
        },
        {
          "output_type": "stream",
          "name": "stdout",
          "text": [
            "Epoch 1/30\n",
            "100/100 - 1407s - loss: 0.3834 - acc: 0.8080 - val_loss: 0.1729 - val_acc: 0.9330\n",
            "Epoch 2/30\n",
            "100/100 - 18s - loss: 0.1976 - acc: 0.9125 - val_loss: 0.1963 - val_acc: 0.9200\n",
            "Epoch 3/30\n",
            "100/100 - 19s - loss: 0.1403 - acc: 0.9415 - val_loss: 0.1214 - val_acc: 0.9490\n",
            "Epoch 4/30\n",
            "100/100 - 19s - loss: 0.1128 - acc: 0.9565 - val_loss: 0.1011 - val_acc: 0.9610\n",
            "Epoch 5/30\n",
            "100/100 - 18s - loss: 0.0896 - acc: 0.9670 - val_loss: 0.1135 - val_acc: 0.9540\n",
            "Epoch 6/30\n",
            "100/100 - 18s - loss: 0.0666 - acc: 0.9745 - val_loss: 0.0994 - val_acc: 0.9580\n",
            "Epoch 7/30\n",
            "100/100 - 19s - loss: 0.0547 - acc: 0.9795 - val_loss: 0.1062 - val_acc: 0.9630\n",
            "Epoch 8/30\n",
            "100/100 - 18s - loss: 0.0605 - acc: 0.9845 - val_loss: 0.1030 - val_acc: 0.9630\n",
            "Epoch 9/30\n",
            "100/100 - 18s - loss: 0.0485 - acc: 0.9830 - val_loss: 0.1189 - val_acc: 0.9520\n",
            "Epoch 10/30\n",
            "100/100 - 18s - loss: 0.0428 - acc: 0.9835 - val_loss: 0.1258 - val_acc: 0.9500\n",
            "Epoch 11/30\n",
            "100/100 - 18s - loss: 0.0360 - acc: 0.9855 - val_loss: 0.1817 - val_acc: 0.9460\n",
            "Epoch 12/30\n",
            "100/100 - 18s - loss: 0.0318 - acc: 0.9920 - val_loss: 0.1374 - val_acc: 0.9670\n",
            "Epoch 13/30\n",
            "100/100 - 18s - loss: 0.0292 - acc: 0.9890 - val_loss: 0.1265 - val_acc: 0.9610\n",
            "Epoch 14/30\n",
            "100/100 - 18s - loss: 0.0363 - acc: 0.9895 - val_loss: 0.1191 - val_acc: 0.9580\n",
            "Epoch 15/30\n",
            "100/100 - 18s - loss: 0.0283 - acc: 0.9915 - val_loss: 0.1547 - val_acc: 0.9570\n",
            "Epoch 16/30\n",
            "100/100 - 18s - loss: 0.0221 - acc: 0.9930 - val_loss: 0.1178 - val_acc: 0.9620\n",
            "Epoch 17/30\n",
            "100/100 - 18s - loss: 0.0214 - acc: 0.9945 - val_loss: 0.1627 - val_acc: 0.9520\n",
            "Epoch 18/30\n",
            "100/100 - 18s - loss: 0.0246 - acc: 0.9910 - val_loss: 0.1373 - val_acc: 0.9600\n",
            "Epoch 19/30\n",
            "100/100 - 18s - loss: 0.0074 - acc: 0.9970 - val_loss: 0.1796 - val_acc: 0.9530\n",
            "Epoch 20/30\n",
            "100/100 - 19s - loss: 0.0211 - acc: 0.9945 - val_loss: 0.1734 - val_acc: 0.9550\n",
            "Epoch 21/30\n",
            "100/100 - 18s - loss: 0.0178 - acc: 0.9920 - val_loss: 0.2577 - val_acc: 0.9490\n",
            "Epoch 22/30\n",
            "100/100 - 18s - loss: 0.0144 - acc: 0.9965 - val_loss: 0.2171 - val_acc: 0.9550\n",
            "Epoch 23/30\n",
            "100/100 - 18s - loss: 0.0199 - acc: 0.9945 - val_loss: 0.1563 - val_acc: 0.9620\n",
            "Epoch 24/30\n",
            "100/100 - 18s - loss: 0.0251 - acc: 0.9895 - val_loss: 0.1556 - val_acc: 0.9560\n",
            "Epoch 25/30\n",
            "100/100 - 18s - loss: 0.0133 - acc: 0.9950 - val_loss: 0.1697 - val_acc: 0.9620\n",
            "Epoch 26/30\n",
            "100/100 - 18s - loss: 0.0110 - acc: 0.9955 - val_loss: 0.1975 - val_acc: 0.9630\n",
            "Epoch 27/30\n",
            "100/100 - 18s - loss: 0.0184 - acc: 0.9920 - val_loss: 0.1534 - val_acc: 0.9660\n",
            "Epoch 28/30\n",
            "100/100 - 18s - loss: 0.0115 - acc: 0.9965 - val_loss: 0.1850 - val_acc: 0.9580\n",
            "Epoch 29/30\n",
            "100/100 - 18s - loss: 0.0165 - acc: 0.9955 - val_loss: 0.2405 - val_acc: 0.9560\n",
            "Epoch 30/30\n",
            "100/100 - 18s - loss: 0.0121 - acc: 0.9965 - val_loss: 0.1378 - val_acc: 0.9650\n"
          ]
        }
      ]
    },
    {
      "cell_type": "code",
      "metadata": {
        "id": "TMaKNgLM6dzL"
      },
      "source": [
        "model.save('/content/drive/MyDrive/cakd_colab/dl_keras/cats_and_dogs_small_3.h5')"
      ],
      "execution_count": null,
      "outputs": []
    },
    {
      "cell_type": "code",
      "metadata": {
        "id": "0XNeD9kI6dwx",
        "colab": {
          "base_uri": "https://localhost:8080/",
          "height": 545
        },
        "outputId": "90e1e367-38fa-45c4-d9b4-b94f85182d02"
      },
      "source": [
        "import matplotlib.pyplot as plt\n",
        "acc = history.history['acc']\n",
        "val_acc = history.history['val_acc']\n",
        "loss = history.history['loss']\n",
        "val_loss = history.history['val_loss']\n",
        "\n",
        "epochs = range(len(acc))\n",
        "\n",
        "plt.plot(epochs,acc,'bo',label='Training acc')\n",
        "plt.plot(epochs,val_acc,'b',label='Validation_acc')\n",
        "plt.title('Training and validation accuracy')\n",
        "plt.legend()\n",
        "\n",
        "\n",
        "plt.figure()\n",
        "\n",
        "plt.plot(epochs, loss, 'bo',label = 'Training acc')\n",
        "plt.plot(epochs, val_loss, 'b',label = 'Validation acc')\n",
        "plt.title('Training and validation loss')\n",
        "plt.legend()\n",
        "\n",
        "plt.show()\n"
      ],
      "execution_count": null,
      "outputs": [
        {
          "output_type": "display_data",
          "data": {
            "image/png": "[encoded data removed]",
            "text/plain": [
              "<Figure size 432x288 with 1 Axes>"
            ]
          },
          "metadata": {
            "needs_background": "light"
          }
        },
        {
          "output_type": "display_data",
          "data": {
            "image/png": "[encoded data removed]",
            "text/plain": [
              "<Figure size 432x288 with 1 Axes>"
            ]
          },
          "metadata": {
            "needs_background": "light"
          }
        }
      ]
    },
    {
      "cell_type": "code",
      "metadata": {
        "id": "yee0ajrm6duZ"
      },
      "source": [
        "conv_base.trainable= True\n",
        "\n",
        "set_trainable= False\n",
        "for layer in conv_base.layers:\n",
        "  if layer.name == 'bolck5_conv1':\n",
        "    set_trainable= True\n",
        "  if set_trainable:\n",
        "    layer.trainable= True\n",
        "  else:\n",
        "    layer.trainable= False\n",
        "    "
      ],
      "execution_count": null,
      "outputs": []
    },
    {
      "cell_type": "code",
      "metadata": {
        "colab": {
          "base_uri": "https://localhost:8080/"
        },
        "id": "QBJZsZGBO0ht",
        "outputId": "8a2f9d73-a399-4aa5-f4e4-6e24c6e4fb2f"
      },
      "source": [
        "model.compile(loss='binary_crossentropy',\n",
        "              optimizer= optimizers.RMSprop(learning_rate= 1e-5),\n",
        "              metrics=['acc'])\n",
        "\n",
        "history= model.fit(\n",
        "    train_generator,\n",
        "    steps_per_epoch=100,\n",
        "    epochs=100,\n",
        "    validation_data= validation_generator,\n",
        "    validation_steps=50\n",
        ")"
      ],
      "execution_count": null,
      "outputs": [
        {
          "output_type": "stream",
          "name": "stdout",
          "text": [
            "Epoch 1/100\n",
            "100/100 [==============================] - 19s 181ms/step - loss: 0.0020 - acc: 0.9995 - val_loss: 0.1449 - val_acc: 0.9630\n",
            "Epoch 2/100\n",
            "100/100 [==============================] - 18s 180ms/step - loss: 9.0167e-04 - acc: 1.0000 - val_loss: 0.1523 - val_acc: 0.9630\n",
            "Epoch 3/100\n",
            "100/100 [==============================] - 18s 178ms/step - loss: 0.0012 - acc: 1.0000 - val_loss: 0.1585 - val_acc: 0.9650\n",
            "Epoch 4/100\n",
            "100/100 [==============================] - 18s 179ms/step - loss: 0.0017 - acc: 0.9995 - val_loss: 0.1561 - val_acc: 0.9620\n",
            "Epoch 5/100\n",
            "100/100 [==============================] - 18s 180ms/step - loss: 0.0040 - acc: 0.9980 - val_loss: 0.1553 - val_acc: 0.9690\n",
            "Epoch 6/100\n",
            "100/100 [==============================] - 18s 178ms/step - loss: 6.7033e-04 - acc: 1.0000 - val_loss: 0.1582 - val_acc: 0.9640\n",
            "Epoch 7/100\n",
            "100/100 [==============================] - 18s 179ms/step - loss: 0.0062 - acc: 0.9990 - val_loss: 0.1620 - val_acc: 0.9620\n",
            "Epoch 8/100\n",
            "100/100 [==============================] - 18s 178ms/step - loss: 0.0015 - acc: 0.9995 - val_loss: 0.1615 - val_acc: 0.9660\n",
            "Epoch 9/100\n",
            "100/100 [==============================] - 18s 178ms/step - loss: 5.5452e-04 - acc: 1.0000 - val_loss: 0.1673 - val_acc: 0.9650\n",
            "Epoch 10/100\n",
            "100/100 [==============================] - 18s 178ms/step - loss: 0.0035 - acc: 0.9985 - val_loss: 0.1658 - val_acc: 0.9630\n",
            "Epoch 11/100\n",
            "100/100 [==============================] - 18s 179ms/step - loss: 0.0033 - acc: 0.9985 - val_loss: 0.1667 - val_acc: 0.9640\n",
            "Epoch 12/100\n",
            "100/100 [==============================] - 18s 177ms/step - loss: 5.1969e-04 - acc: 1.0000 - val_loss: 0.1745 - val_acc: 0.9650\n",
            "Epoch 13/100\n",
            "100/100 [==============================] - 18s 178ms/step - loss: 0.0014 - acc: 0.9995 - val_loss: 0.1729 - val_acc: 0.9650\n",
            "Epoch 14/100\n",
            "100/100 [==============================] - 18s 177ms/step - loss: 0.0010 - acc: 0.9995 - val_loss: 0.1729 - val_acc: 0.9640\n",
            "Epoch 15/100\n",
            "100/100 [==============================] - 18s 179ms/step - loss: 9.8406e-04 - acc: 0.9995 - val_loss: 0.1731 - val_acc: 0.9650\n",
            "Epoch 16/100\n",
            "100/100 [==============================] - 18s 178ms/step - loss: 3.9632e-04 - acc: 1.0000 - val_loss: 0.1744 - val_acc: 0.9660\n",
            "Epoch 17/100\n",
            "100/100 [==============================] - 18s 179ms/step - loss: 0.0020 - acc: 0.9990 - val_loss: 0.1877 - val_acc: 0.9650\n",
            "Epoch 18/100\n",
            "100/100 [==============================] - 18s 180ms/step - loss: 0.0015 - acc: 0.9990 - val_loss: 0.1825 - val_acc: 0.9640\n",
            "Epoch 19/100\n",
            "100/100 [==============================] - 18s 177ms/step - loss: 1.8427e-04 - acc: 1.0000 - val_loss: 0.1888 - val_acc: 0.9650\n",
            "Epoch 20/100\n",
            "100/100 [==============================] - 18s 179ms/step - loss: 0.0022 - acc: 0.9995 - val_loss: 0.1977 - val_acc: 0.9620\n",
            "Epoch 21/100\n",
            "100/100 [==============================] - 18s 178ms/step - loss: 5.2445e-04 - acc: 1.0000 - val_loss: 0.1900 - val_acc: 0.9650\n",
            "Epoch 22/100\n",
            "100/100 [==============================] - 18s 180ms/step - loss: 0.0011 - acc: 0.9995 - val_loss: 0.1910 - val_acc: 0.9660\n",
            "Epoch 23/100\n",
            "100/100 [==============================] - 18s 178ms/step - loss: 2.0323e-04 - acc: 1.0000 - val_loss: 0.1932 - val_acc: 0.9660\n",
            "Epoch 24/100\n",
            "100/100 [==============================] - 18s 179ms/step - loss: 1.8903e-04 - acc: 1.0000 - val_loss: 0.1994 - val_acc: 0.9650\n",
            "Epoch 25/100\n",
            "100/100 [==============================] - 18s 178ms/step - loss: 1.6726e-04 - acc: 1.0000 - val_loss: 0.2094 - val_acc: 0.9630\n",
            "Epoch 26/100\n",
            "100/100 [==============================] - 18s 178ms/step - loss: 1.5402e-04 - acc: 1.0000 - val_loss: 0.2074 - val_acc: 0.9650\n",
            "Epoch 27/100\n",
            "100/100 [==============================] - 18s 178ms/step - loss: 0.0074 - acc: 0.9990 - val_loss: 0.2037 - val_acc: 0.9660\n",
            "Epoch 28/100\n",
            "100/100 [==============================] - 18s 179ms/step - loss: 8.5270e-05 - acc: 1.0000 - val_loss: 0.2084 - val_acc: 0.9660\n",
            "Epoch 29/100\n",
            "100/100 [==============================] - 18s 177ms/step - loss: 0.0030 - acc: 0.9985 - val_loss: 0.2102 - val_acc: 0.9660\n",
            "Epoch 30/100\n",
            "100/100 [==============================] - 18s 177ms/step - loss: 2.1032e-04 - acc: 1.0000 - val_loss: 0.2072 - val_acc: 0.9670\n",
            "Epoch 31/100\n",
            "100/100 [==============================] - 18s 177ms/step - loss: 0.0012 - acc: 0.9995 - val_loss: 0.2096 - val_acc: 0.9660\n",
            "Epoch 32/100\n",
            "100/100 [==============================] - 18s 178ms/step - loss: 0.0017 - acc: 0.9995 - val_loss: 0.2080 - val_acc: 0.9680\n",
            "Epoch 33/100\n",
            "100/100 [==============================] - 18s 178ms/step - loss: 3.0978e-04 - acc: 1.0000 - val_loss: 0.2174 - val_acc: 0.9660\n",
            "Epoch 34/100\n",
            "100/100 [==============================] - 18s 179ms/step - loss: 0.0014 - acc: 0.9995 - val_loss: 0.2161 - val_acc: 0.9670\n",
            "Epoch 35/100\n",
            "100/100 [==============================] - 18s 179ms/step - loss: 6.4862e-04 - acc: 0.9995 - val_loss: 0.2149 - val_acc: 0.9650\n",
            "Epoch 36/100\n",
            "100/100 [==============================] - 18s 177ms/step - loss: 0.0017 - acc: 0.9995 - val_loss: 0.2164 - val_acc: 0.9660\n",
            "Epoch 37/100\n",
            "100/100 [==============================] - 18s 178ms/step - loss: 4.0100e-04 - acc: 1.0000 - val_loss: 0.2179 - val_acc: 0.9650\n",
            "Epoch 38/100\n",
            "100/100 [==============================] - 18s 178ms/step - loss: 7.2617e-04 - acc: 0.9995 - val_loss: 0.2191 - val_acc: 0.9660\n",
            "Epoch 39/100\n",
            "100/100 [==============================] - 18s 178ms/step - loss: 0.0013 - acc: 0.9995 - val_loss: 0.2201 - val_acc: 0.9640\n",
            "Epoch 40/100\n",
            "100/100 [==============================] - 18s 178ms/step - loss: 0.0015 - acc: 0.9995 - val_loss: 0.2179 - val_acc: 0.9660\n",
            "Epoch 41/100\n",
            "100/100 [==============================] - 18s 177ms/step - loss: 5.9779e-04 - acc: 1.0000 - val_loss: 0.2186 - val_acc: 0.9660\n",
            "Epoch 42/100\n",
            "100/100 [==============================] - 18s 179ms/step - loss: 6.8688e-04 - acc: 0.9995 - val_loss: 0.2285 - val_acc: 0.9650\n",
            "Epoch 43/100\n",
            "100/100 [==============================] - 18s 179ms/step - loss: 8.7991e-05 - acc: 1.0000 - val_loss: 0.2322 - val_acc: 0.9640\n",
            "Epoch 44/100\n",
            "100/100 [==============================] - 18s 178ms/step - loss: 4.4982e-04 - acc: 0.9995 - val_loss: 0.2287 - val_acc: 0.9650\n",
            "Epoch 45/100\n",
            "100/100 [==============================] - 18s 178ms/step - loss: 4.3106e-05 - acc: 1.0000 - val_loss: 0.2389 - val_acc: 0.9630\n",
            "Epoch 46/100\n",
            "100/100 [==============================] - 18s 178ms/step - loss: 9.1942e-05 - acc: 1.0000 - val_loss: 0.2325 - val_acc: 0.9660\n",
            "Epoch 47/100\n",
            "100/100 [==============================] - 18s 178ms/step - loss: 1.8950e-04 - acc: 1.0000 - val_loss: 0.2363 - val_acc: 0.9660\n",
            "Epoch 48/100\n",
            "100/100 [==============================] - 18s 179ms/step - loss: 0.0013 - acc: 0.9995 - val_loss: 0.2352 - val_acc: 0.9660\n",
            "Epoch 49/100\n",
            "100/100 [==============================] - 18s 178ms/step - loss: 0.0049 - acc: 0.9995 - val_loss: 0.2329 - val_acc: 0.9650\n",
            "Epoch 50/100\n",
            "100/100 [==============================] - 18s 180ms/step - loss: 8.2260e-04 - acc: 0.9995 - val_loss: 0.2304 - val_acc: 0.9670\n",
            "Epoch 51/100\n",
            "100/100 [==============================] - 18s 179ms/step - loss: 5.6028e-04 - acc: 0.9995 - val_loss: 0.2319 - val_acc: 0.9660\n",
            "Epoch 52/100\n",
            "100/100 [==============================] - 18s 179ms/step - loss: 0.0022 - acc: 0.9995 - val_loss: 0.2398 - val_acc: 0.9650\n",
            "Epoch 53/100\n",
            "100/100 [==============================] - 18s 178ms/step - loss: 4.9873e-04 - acc: 0.9995 - val_loss: 0.2462 - val_acc: 0.9650\n",
            "Epoch 54/100\n",
            "100/100 [==============================] - 18s 178ms/step - loss: 9.2569e-04 - acc: 0.9995 - val_loss: 0.2471 - val_acc: 0.9660\n",
            "Epoch 55/100\n",
            "100/100 [==============================] - 18s 178ms/step - loss: 0.0027 - acc: 0.9985 - val_loss: 0.2389 - val_acc: 0.9650\n",
            "Epoch 56/100\n",
            "100/100 [==============================] - 18s 179ms/step - loss: 0.0019 - acc: 0.9995 - val_loss: 0.2448 - val_acc: 0.9650\n",
            "Epoch 57/100\n",
            "100/100 [==============================] - 18s 182ms/step - loss: 1.7503e-05 - acc: 1.0000 - val_loss: 0.2489 - val_acc: 0.9660\n",
            "Epoch 58/100\n",
            "100/100 [==============================] - 18s 178ms/step - loss: 1.9555e-04 - acc: 1.0000 - val_loss: 0.2418 - val_acc: 0.9630\n",
            "Epoch 59/100\n",
            "100/100 [==============================] - 18s 178ms/step - loss: 1.0089e-04 - acc: 1.0000 - val_loss: 0.2423 - val_acc: 0.9670\n",
            "Epoch 60/100\n",
            "100/100 [==============================] - 18s 178ms/step - loss: 3.7594e-05 - acc: 1.0000 - val_loss: 0.2485 - val_acc: 0.9650\n",
            "Epoch 61/100\n",
            "100/100 [==============================] - 18s 179ms/step - loss: 1.4322e-04 - acc: 1.0000 - val_loss: 0.2558 - val_acc: 0.9650\n",
            "Epoch 62/100\n",
            "100/100 [==============================] - 18s 178ms/step - loss: 0.0017 - acc: 0.9995 - val_loss: 0.2569 - val_acc: 0.9650\n",
            "Epoch 63/100\n",
            "100/100 [==============================] - 18s 179ms/step - loss: 0.0022 - acc: 0.9990 - val_loss: 0.2539 - val_acc: 0.9660\n",
            "Epoch 64/100\n",
            "100/100 [==============================] - 18s 177ms/step - loss: 9.7933e-05 - acc: 1.0000 - val_loss: 0.2549 - val_acc: 0.9660\n",
            "Epoch 65/100\n",
            "100/100 [==============================] - 18s 178ms/step - loss: 0.0052 - acc: 0.9990 - val_loss: 0.2512 - val_acc: 0.9660\n",
            "Epoch 66/100\n",
            "100/100 [==============================] - 18s 179ms/step - loss: 0.0036 - acc: 0.9990 - val_loss: 0.2498 - val_acc: 0.9660\n",
            "Epoch 67/100\n",
            "100/100 [==============================] - 18s 178ms/step - loss: 1.8447e-04 - acc: 1.0000 - val_loss: 0.2563 - val_acc: 0.9660\n",
            "Epoch 68/100\n",
            "100/100 [==============================] - 18s 180ms/step - loss: 0.0052 - acc: 0.9990 - val_loss: 0.2528 - val_acc: 0.9650\n",
            "Epoch 69/100\n",
            "100/100 [==============================] - 18s 180ms/step - loss: 0.0056 - acc: 0.9995 - val_loss: 0.2585 - val_acc: 0.9650\n",
            "Epoch 70/100\n",
            "100/100 [==============================] - 18s 179ms/step - loss: 2.1541e-04 - acc: 1.0000 - val_loss: 0.2557 - val_acc: 0.9650\n",
            "Epoch 71/100\n",
            "100/100 [==============================] - 18s 178ms/step - loss: 4.2931e-04 - acc: 1.0000 - val_loss: 0.2533 - val_acc: 0.9670\n",
            "Epoch 72/100\n",
            "100/100 [==============================] - 18s 178ms/step - loss: 9.8670e-04 - acc: 0.9995 - val_loss: 0.2579 - val_acc: 0.9650\n",
            "Epoch 73/100\n",
            "100/100 [==============================] - 18s 177ms/step - loss: 2.3659e-05 - acc: 1.0000 - val_loss: 0.2626 - val_acc: 0.9650\n",
            "Epoch 74/100\n",
            "100/100 [==============================] - 18s 181ms/step - loss: 6.3413e-04 - acc: 0.9995 - val_loss: 0.2575 - val_acc: 0.9640\n",
            "Epoch 75/100\n",
            "100/100 [==============================] - 18s 178ms/step - loss: 0.0052 - acc: 0.9990 - val_loss: 0.2552 - val_acc: 0.9660\n",
            "Epoch 76/100\n",
            "100/100 [==============================] - 18s 178ms/step - loss: 0.0041 - acc: 0.9990 - val_loss: 0.2554 - val_acc: 0.9660\n",
            "Epoch 77/100\n",
            "100/100 [==============================] - 18s 177ms/step - loss: 1.0728e-04 - acc: 1.0000 - val_loss: 0.2565 - val_acc: 0.9660\n",
            "Epoch 78/100\n",
            "100/100 [==============================] - 18s 178ms/step - loss: 4.5498e-05 - acc: 1.0000 - val_loss: 0.2660 - val_acc: 0.9650\n",
            "Epoch 79/100\n",
            "100/100 [==============================] - 18s 179ms/step - loss: 0.0015 - acc: 0.9995 - val_loss: 0.2630 - val_acc: 0.9630\n",
            "Epoch 80/100\n",
            "100/100 [==============================] - 18s 178ms/step - loss: 1.2187e-04 - acc: 1.0000 - val_loss: 0.2596 - val_acc: 0.9660\n",
            "Epoch 81/100\n",
            "100/100 [==============================] - 18s 179ms/step - loss: 0.0014 - acc: 0.9995 - val_loss: 0.2607 - val_acc: 0.9660\n",
            "Epoch 82/100\n",
            "100/100 [==============================] - 18s 178ms/step - loss: 7.7409e-05 - acc: 1.0000 - val_loss: 0.2652 - val_acc: 0.9650\n",
            "Epoch 83/100\n",
            "100/100 [==============================] - 18s 179ms/step - loss: 2.8809e-05 - acc: 1.0000 - val_loss: 0.2671 - val_acc: 0.9630\n",
            "Epoch 84/100\n",
            "100/100 [==============================] - 18s 178ms/step - loss: 4.7721e-05 - acc: 1.0000 - val_loss: 0.2678 - val_acc: 0.9640\n",
            "Epoch 85/100\n",
            "100/100 [==============================] - 18s 179ms/step - loss: 3.6842e-04 - acc: 1.0000 - val_loss: 0.2657 - val_acc: 0.9640\n",
            "Epoch 86/100\n",
            "100/100 [==============================] - 18s 178ms/step - loss: 0.0036 - acc: 0.9990 - val_loss: 0.2671 - val_acc: 0.9630\n",
            "Epoch 87/100\n",
            "100/100 [==============================] - 18s 178ms/step - loss: 1.2620e-04 - acc: 1.0000 - val_loss: 0.2716 - val_acc: 0.9650\n",
            "Epoch 88/100\n",
            "100/100 [==============================] - 18s 178ms/step - loss: 0.0022 - acc: 0.9995 - val_loss: 0.2723 - val_acc: 0.9660\n",
            "Epoch 89/100\n",
            "100/100 [==============================] - 18s 178ms/step - loss: 1.4316e-04 - acc: 1.0000 - val_loss: 0.2694 - val_acc: 0.9650\n",
            "Epoch 90/100\n",
            "100/100 [==============================] - 18s 178ms/step - loss: 0.0017 - acc: 0.9995 - val_loss: 0.2677 - val_acc: 0.9660\n",
            "Epoch 91/100\n",
            "100/100 [==============================] - 18s 180ms/step - loss: 4.9354e-05 - acc: 1.0000 - val_loss: 0.2693 - val_acc: 0.9660\n",
            "Epoch 92/100\n",
            "100/100 [==============================] - 18s 183ms/step - loss: 5.7433e-04 - acc: 0.9995 - val_loss: 0.2682 - val_acc: 0.9660\n",
            "Epoch 93/100\n",
            "100/100 [==============================] - 18s 179ms/step - loss: 0.0022 - acc: 0.9995 - val_loss: 0.2694 - val_acc: 0.9660\n",
            "Epoch 94/100\n",
            "100/100 [==============================] - 18s 180ms/step - loss: 1.7744e-04 - acc: 1.0000 - val_loss: 0.2761 - val_acc: 0.9660\n",
            "Epoch 95/100\n",
            "100/100 [==============================] - 18s 178ms/step - loss: 0.0057 - acc: 0.9985 - val_loss: 0.2735 - val_acc: 0.9660\n",
            "Epoch 96/100\n",
            "100/100 [==============================] - 18s 178ms/step - loss: 1.4642e-05 - acc: 1.0000 - val_loss: 0.2762 - val_acc: 0.9640\n",
            "Epoch 97/100\n",
            "100/100 [==============================] - 18s 178ms/step - loss: 8.3602e-05 - acc: 1.0000 - val_loss: 0.2775 - val_acc: 0.9640\n",
            "Epoch 98/100\n",
            "100/100 [==============================] - 18s 179ms/step - loss: 7.3839e-05 - acc: 1.0000 - val_loss: 0.2765 - val_acc: 0.9650\n",
            "Epoch 99/100\n",
            "100/100 [==============================] - 18s 177ms/step - loss: 3.0339e-04 - acc: 1.0000 - val_loss: 0.2857 - val_acc: 0.9640\n",
            "Epoch 100/100\n",
            "100/100 [==============================] - 18s 178ms/step - loss: 1.6287e-04 - acc: 1.0000 - val_loss: 0.2803 - val_acc: 0.9640\n"
          ]
        }
      ]
    },
    {
      "cell_type": "code",
      "metadata": {
        "id": "H-W5NZZU6dsL",
        "colab": {
          "base_uri": "https://localhost:8080/",
          "height": 239
        },
        "outputId": "6cf0f1c2-a49d-48f3-db5a-e327f47d72a2"
      },
      "source": [
        "\n",
        "acc = history.history['acc']\n",
        "val_acc = history.history['val_acc']\n",
        "loss = history.history['loss']\n",
        "val_loss = history.history['val_loss']\n",
        "\n",
        "epochs = range(len(acc))\n",
        "\n",
        "plt.plot(epochs,acc,'bo',label='Training acc')\n",
        "plt.plot(epochs,val_acc,'b',label='Validation_acc')\n",
        "plt.title('Training and validation accuracy')\n",
        "plt.legend()\n",
        "\n",
        "\n",
        "plt.figure()\n",
        "\n",
        "plt.plot(epochs, loss, 'bo',label = 'Training acc')\n",
        "plt.plot(epochs, val_loss, 'b',label = 'Validation acc')\n",
        "plt.title('Training and validation loss')\n",
        "plt.legend()\n",
        "\n",
        "plt.show()\n"
      ],
      "execution_count": null,
      "outputs": [
        {
          "output_type": "error",
          "ename": "NameError",
          "evalue": "ignored",
          "traceback": [
            "\u001b[0;31m---------------------------------------------------------------------------\u001b[0m",
            "\u001b[0;31mNameError\u001b[0m                                 Traceback (most recent call last)",
            "\u001b[0;32m<ipython-input-1-92f5de8b4567>\u001b[0m in \u001b[0;36m<module>\u001b[0;34m()\u001b[0m\n\u001b[1;32m      1\u001b[0m \u001b[0;34m\u001b[0m\u001b[0m\n\u001b[0;32m----> 2\u001b[0;31m \u001b[0macc\u001b[0m \u001b[0;34m=\u001b[0m \u001b[0mhistory\u001b[0m\u001b[0;34m.\u001b[0m\u001b[0mhistory\u001b[0m\u001b[0;34m[\u001b[0m\u001b[0;34m'acc'\u001b[0m\u001b[0;34m]\u001b[0m\u001b[0;34m\u001b[0m\u001b[0;34m\u001b[0m\u001b[0m\n\u001b[0m\u001b[1;32m      3\u001b[0m \u001b[0mval_acc\u001b[0m \u001b[0;34m=\u001b[0m \u001b[0mhistory\u001b[0m\u001b[0;34m.\u001b[0m\u001b[0mhistory\u001b[0m\u001b[0;34m[\u001b[0m\u001b[0;34m'val_acc'\u001b[0m\u001b[0;34m]\u001b[0m\u001b[0;34m\u001b[0m\u001b[0;34m\u001b[0m\u001b[0m\n\u001b[1;32m      4\u001b[0m \u001b[0mloss\u001b[0m \u001b[0;34m=\u001b[0m \u001b[0mhistory\u001b[0m\u001b[0;34m.\u001b[0m\u001b[0mhistory\u001b[0m\u001b[0;34m[\u001b[0m\u001b[0;34m'loss'\u001b[0m\u001b[0;34m]\u001b[0m\u001b[0;34m\u001b[0m\u001b[0;34m\u001b[0m\u001b[0m\n\u001b[1;32m      5\u001b[0m \u001b[0mval_loss\u001b[0m \u001b[0;34m=\u001b[0m \u001b[0mhistory\u001b[0m\u001b[0;34m.\u001b[0m\u001b[0mhistory\u001b[0m\u001b[0;34m[\u001b[0m\u001b[0;34m'val_loss'\u001b[0m\u001b[0;34m]\u001b[0m\u001b[0;34m\u001b[0m\u001b[0;34m\u001b[0m\u001b[0m\n",
            "\u001b[0;31mNameError\u001b[0m: name 'history' is not defined"
          ]
        }
      ]
    },
    {
      "cell_type": "code",
      "metadata": {
        "id": "ky5SBHNQ6dpj"
      },
      "source": [
        ""
      ],
      "execution_count": null,
      "outputs": []
    },
    {
      "cell_type": "code",
      "metadata": {
        "id": "ApYaeUZM6dnQ"
      },
      "source": [
        ""
      ],
      "execution_count": null,
      "outputs": []
    },
    {
      "cell_type": "code",
      "metadata": {
        "id": "9fXAapvD6dk4"
      },
      "source": [
        ""
      ],
      "execution_count": null,
      "outputs": []
    }
  ]
}

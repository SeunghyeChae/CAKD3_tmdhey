{
  "nbformat": 4,
  "nbformat_minor": 0,
  "metadata": {
    "colab": {
      "name": "과대적합_과소적합.ipynb",
      "provenance": [],
      "collapsed_sections": [],
      "machine_shape": "hm",
      "authorship_tag": "ABX9TyOYvWZThNBLW0JGvFyX3T/0",
      "include_colab_link": true
    },
    "kernelspec": {
      "name": "python3",
      "display_name": "Python 3"
    },
    "language_info": {
      "name": "python"
    },
    "accelerator": "GPU"
  },
  "cells": [
    {
      "cell_type": "markdown",
      "metadata": {
        "id": "view-in-github",
        "colab_type": "text"
      },
      "source": [
        "<a href=\"https://colab.research.google.com/github/SeunghyeChae/CAKD3_tmdhey/blob/main/%EA%B3%BC%EB%8C%80%EC%A0%81%ED%95%A9_%EA%B3%BC%EC%86%8C%EC%A0%81%ED%95%A9.ipynb\" target=\"_parent\"><img src=\"https://colab.research.google.com/assets/colab-badge.svg\" alt=\"Open In Colab\"/></a>"
      ]
    },
    {
      "cell_type": "code",
      "metadata": {
        "colab": {
          "base_uri": "https://localhost:8080/"
        },
        "id": "25d1jJ5UPEYX",
        "outputId": "b59d3f03-2049-4037-c125-0ef36e8960a8"
      },
      "source": [
        "from google.colab import drive\n",
        "drive.mount('/content/drive')"
      ],
      "execution_count": null,
      "outputs": [
        {
          "output_type": "stream",
          "name": "stdout",
          "text": [
            "Mounted at /content/drive\n"
          ]
        }
      ]
    },
    {
      "cell_type": "code",
      "metadata": {
        "colab": {
          "base_uri": "https://localhost:8080/"
        },
        "id": "L42pmQ-2Pgcy",
        "outputId": "0bc6a3c0-9017-4bc7-c4e3-9cb016b6d035"
      },
      "source": [
        "from tensorflow.keras.datasets import imdb\n",
        "import numpy as np\n",
        "\n",
        "(train_data, train_labels), (test_data, test_labels) = imdb.load_data(num_words=10000)\n",
        "\n",
        "def vectorize_sequences(sequences, dimension=10000):\n",
        "    # 크기가 (len(sequences), dimension))이고 모든 원소가 0인 행렬을 만듭니다\n",
        "    results = np.zeros((len(sequences), dimension))\n",
        "    for i, sequence in enumerate(sequences):\n",
        "        results[i, sequence] = 1.  # results[i]에서 특정 인덱스의 위치를 1로 만듭니다\n",
        "    return results\n",
        "\n",
        "# 훈련 데이터를 벡터로 변환합니다\n",
        "x_train = vectorize_sequences(train_data)\n",
        "# 테스트 데이터를 벡터로 변환합니다\n",
        "x_test = vectorize_sequences(test_data)\n",
        "# 레이블을 벡터로 변환합니다\n",
        "y_train = np.asarray(train_labels).astype('float32')\n",
        "y_test = np.asarray(test_labels).astype('float32')\n"
      ],
      "execution_count": null,
      "outputs": [
        {
          "output_type": "stream",
          "name": "stdout",
          "text": [
            "Downloading data from https://storage.googleapis.com/tensorflow/tf-keras-datasets/imdb.npz\n",
            "17465344/17464789 [==============================] - 0s 0us/step\n",
            "17473536/17464789 [==============================] - 0s 0us/step\n"
          ]
        }
      ]
    },
    {
      "cell_type": "code",
      "metadata": {
        "id": "rAlBfhQpQA5F"
      },
      "source": [
        "from tensorflow.keras import models\n",
        "\n",
        "from tensorflow.keras import layers\n",
        "\n",
        "original_model = models.Sequential()\n",
        "\n",
        "original_model.add(layers.Dense(16, activation='relu',input_shape = (10000,)))\n",
        "original_model.add(layers.Dense(16,activation='relu'))\n",
        "original_model.add(layers.Dense(1,activation='sigmoid'))\n",
        "original_model.compile(optimizer='rmsprop',loss='binary_crossentropy',metrics=['accuracy'])\n"
      ],
      "execution_count": null,
      "outputs": []
    },
    {
      "cell_type": "code",
      "metadata": {
        "id": "mPX0AOXHQA3j"
      },
      "source": [
        "from tensorflow.keras import models\n",
        "\n",
        "from tensorflow.keras import layers\n",
        "\n",
        "smaller_model = models.Sequential()\n",
        "\n",
        "smaller_model.add(layers.Dense(6, activation='relu',input_shape = (10000,)))\n",
        "smaller_model.add(layers.Dense(6,activation='relu'))\n",
        "smaller_model.add(layers.Dense(1,activation='sigmoid'))\n",
        "smaller_model.compile(optimizer='rmsprop',loss='binary_crossentropy',metrics=['accuracy'])\n"
      ],
      "execution_count": null,
      "outputs": []
    },
    {
      "cell_type": "code",
      "metadata": {
        "colab": {
          "base_uri": "https://localhost:8080/"
        },
        "id": "xJGxhEvRQA2i",
        "outputId": "a5319e97-1d1f-457e-ae5d-565ccd2ef863"
      },
      "source": [
        "original_hist= original_model.fit(x_train, y_train, epochs=20,\n",
        "                                  batch_size=512,\n",
        "                                  validation_data=(x_test,y_test))\n"
      ],
      "execution_count": null,
      "outputs": [
        {
          "output_type": "stream",
          "name": "stdout",
          "text": [
            "Epoch 1/20\n",
            "49/49 [==============================] - 4s 43ms/step - loss: 0.4539 - accuracy: 0.8232 - val_loss: 0.3566 - val_accuracy: 0.8632\n",
            "Epoch 2/20\n",
            "49/49 [==============================] - 1s 15ms/step - loss: 0.2601 - accuracy: 0.9086 - val_loss: 0.2953 - val_accuracy: 0.8821\n",
            "Epoch 3/20\n",
            "49/49 [==============================] - 1s 16ms/step - loss: 0.2015 - accuracy: 0.9279 - val_loss: 0.3026 - val_accuracy: 0.8780\n",
            "Epoch 4/20\n",
            "49/49 [==============================] - 1s 16ms/step - loss: 0.1698 - accuracy: 0.9392 - val_loss: 0.2897 - val_accuracy: 0.8859\n",
            "Epoch 5/20\n",
            "49/49 [==============================] - 1s 15ms/step - loss: 0.1446 - accuracy: 0.9500 - val_loss: 0.3068 - val_accuracy: 0.8810\n",
            "Epoch 6/20\n",
            "49/49 [==============================] - 1s 15ms/step - loss: 0.1280 - accuracy: 0.9552 - val_loss: 0.3277 - val_accuracy: 0.8772\n",
            "Epoch 7/20\n",
            "49/49 [==============================] - 1s 16ms/step - loss: 0.1131 - accuracy: 0.9621 - val_loss: 0.3697 - val_accuracy: 0.8687\n",
            "Epoch 8/20\n",
            "49/49 [==============================] - 1s 15ms/step - loss: 0.1001 - accuracy: 0.9668 - val_loss: 0.3943 - val_accuracy: 0.8656\n",
            "Epoch 9/20\n",
            "49/49 [==============================] - 1s 15ms/step - loss: 0.0892 - accuracy: 0.9704 - val_loss: 0.4174 - val_accuracy: 0.8642\n",
            "Epoch 10/20\n",
            "49/49 [==============================] - 1s 16ms/step - loss: 0.0795 - accuracy: 0.9733 - val_loss: 0.4342 - val_accuracy: 0.8635\n",
            "Epoch 11/20\n",
            "49/49 [==============================] - 1s 16ms/step - loss: 0.0697 - accuracy: 0.9778 - val_loss: 0.4778 - val_accuracy: 0.8596\n",
            "Epoch 12/20\n",
            "49/49 [==============================] - 1s 16ms/step - loss: 0.0601 - accuracy: 0.9812 - val_loss: 0.4950 - val_accuracy: 0.8598\n",
            "Epoch 13/20\n",
            "49/49 [==============================] - 1s 15ms/step - loss: 0.0539 - accuracy: 0.9833 - val_loss: 0.5264 - val_accuracy: 0.8592\n",
            "Epoch 14/20\n",
            "49/49 [==============================] - 1s 15ms/step - loss: 0.0464 - accuracy: 0.9858 - val_loss: 0.5715 - val_accuracy: 0.8546\n",
            "Epoch 15/20\n",
            "49/49 [==============================] - 1s 15ms/step - loss: 0.0403 - accuracy: 0.9878 - val_loss: 0.5963 - val_accuracy: 0.8553\n",
            "Epoch 16/20\n",
            "49/49 [==============================] - 1s 15ms/step - loss: 0.0352 - accuracy: 0.9903 - val_loss: 0.6524 - val_accuracy: 0.8506\n",
            "Epoch 17/20\n",
            "49/49 [==============================] - 1s 16ms/step - loss: 0.0287 - accuracy: 0.9927 - val_loss: 0.6668 - val_accuracy: 0.8532\n",
            "Epoch 18/20\n",
            "49/49 [==============================] - 1s 15ms/step - loss: 0.0248 - accuracy: 0.9932 - val_loss: 0.7271 - val_accuracy: 0.8500\n",
            "Epoch 19/20\n",
            "49/49 [==============================] - 1s 16ms/step - loss: 0.0205 - accuracy: 0.9948 - val_loss: 0.7588 - val_accuracy: 0.8486\n",
            "Epoch 20/20\n",
            "49/49 [==============================] - 1s 15ms/step - loss: 0.0179 - accuracy: 0.9959 - val_loss: 0.7875 - val_accuracy: 0.8494\n"
          ]
        }
      ]
    },
    {
      "cell_type": "code",
      "metadata": {
        "colab": {
          "base_uri": "https://localhost:8080/"
        },
        "id": "7EIs9S2gQA0r",
        "outputId": "caa2488e-1cec-43ac-c39f-90f8c10e0d61"
      },
      "source": [
        "smaller_hist= smaller_model.fit(x_train, y_train, epochs=20,\n",
        "                                  batch_size=512,\n",
        "                                  validation_data=(x_test,y_test))"
      ],
      "execution_count": null,
      "outputs": [
        {
          "output_type": "stream",
          "name": "stdout",
          "text": [
            "Epoch 1/20\n",
            "49/49 [==============================] - 2s 40ms/step - loss: 0.5122 - accuracy: 0.8140 - val_loss: 0.4023 - val_accuracy: 0.8693\n",
            "Epoch 2/20\n",
            "49/49 [==============================] - 1s 21ms/step - loss: 0.3176 - accuracy: 0.9000 - val_loss: 0.3186 - val_accuracy: 0.8830\n",
            "Epoch 3/20\n",
            "49/49 [==============================] - 1s 15ms/step - loss: 0.2398 - accuracy: 0.9191 - val_loss: 0.2846 - val_accuracy: 0.8898\n",
            "Epoch 4/20\n",
            "49/49 [==============================] - 1s 16ms/step - loss: 0.1984 - accuracy: 0.9318 - val_loss: 0.2782 - val_accuracy: 0.8892\n",
            "Epoch 5/20\n",
            "49/49 [==============================] - 1s 16ms/step - loss: 0.1728 - accuracy: 0.9387 - val_loss: 0.2832 - val_accuracy: 0.8867\n",
            "Epoch 6/20\n",
            "49/49 [==============================] - 1s 15ms/step - loss: 0.1537 - accuracy: 0.9460 - val_loss: 0.2925 - val_accuracy: 0.8834\n",
            "Epoch 7/20\n",
            "49/49 [==============================] - 1s 16ms/step - loss: 0.1376 - accuracy: 0.9532 - val_loss: 0.3193 - val_accuracy: 0.8762\n",
            "Epoch 8/20\n",
            "49/49 [==============================] - 1s 15ms/step - loss: 0.1257 - accuracy: 0.9578 - val_loss: 0.3219 - val_accuracy: 0.8785\n",
            "Epoch 9/20\n",
            "49/49 [==============================] - 1s 15ms/step - loss: 0.1144 - accuracy: 0.9622 - val_loss: 0.3368 - val_accuracy: 0.8756\n",
            "Epoch 10/20\n",
            "49/49 [==============================] - 1s 15ms/step - loss: 0.1045 - accuracy: 0.9660 - val_loss: 0.3798 - val_accuracy: 0.8674\n",
            "Epoch 11/20\n",
            "49/49 [==============================] - 1s 15ms/step - loss: 0.0965 - accuracy: 0.9688 - val_loss: 0.3775 - val_accuracy: 0.8706\n",
            "Epoch 12/20\n",
            "49/49 [==============================] - 1s 16ms/step - loss: 0.0886 - accuracy: 0.9718 - val_loss: 0.3947 - val_accuracy: 0.8680\n",
            "Epoch 13/20\n",
            "49/49 [==============================] - 1s 15ms/step - loss: 0.0811 - accuracy: 0.9754 - val_loss: 0.4187 - val_accuracy: 0.8658\n",
            "Epoch 14/20\n",
            "49/49 [==============================] - 1s 15ms/step - loss: 0.0747 - accuracy: 0.9769 - val_loss: 0.4565 - val_accuracy: 0.8600\n",
            "Epoch 15/20\n",
            "49/49 [==============================] - 1s 16ms/step - loss: 0.0691 - accuracy: 0.9794 - val_loss: 0.4656 - val_accuracy: 0.8615\n",
            "Epoch 16/20\n",
            "49/49 [==============================] - 1s 16ms/step - loss: 0.0633 - accuracy: 0.9814 - val_loss: 0.4866 - val_accuracy: 0.8613\n",
            "Epoch 17/20\n",
            "49/49 [==============================] - 1s 16ms/step - loss: 0.0578 - accuracy: 0.9838 - val_loss: 0.5158 - val_accuracy: 0.8580\n",
            "Epoch 18/20\n",
            "49/49 [==============================] - 1s 15ms/step - loss: 0.0534 - accuracy: 0.9854 - val_loss: 0.5465 - val_accuracy: 0.8555\n",
            "Epoch 19/20\n",
            "49/49 [==============================] - 1s 15ms/step - loss: 0.0488 - accuracy: 0.9866 - val_loss: 0.5646 - val_accuracy: 0.8549\n",
            "Epoch 20/20\n",
            "49/49 [==============================] - 1s 15ms/step - loss: 0.0437 - accuracy: 0.9886 - val_loss: 0.5908 - val_accuracy: 0.8544\n"
          ]
        }
      ]
    },
    {
      "cell_type": "code",
      "metadata": {
        "id": "H7_EJm-JQAzL"
      },
      "source": [
        "epochs= range(1,21)\n",
        "original_val_loss = original_hist.history['val_loss']\n",
        "smaller_model_val_loss = smaller_hist.history['val_loss']\n"
      ],
      "execution_count": null,
      "outputs": []
    },
    {
      "cell_type": "code",
      "metadata": {
        "colab": {
          "base_uri": "https://localhost:8080/",
          "height": 279
        },
        "id": "EbUBvjqyQAyO",
        "outputId": "18c73a87-b503-4ea1-de57-cfb9305343ba"
      },
      "source": [
        "import matplotlib.pyplot as plt\n",
        "\n",
        "plt.plot(epochs, original_val_loss, 'b+', label= 'Original model')\n",
        "plt.plot(epochs, smaller_model_val_loss, 'bo', label='Small model' )\n",
        "plt.xlabel('Epochs')\n",
        "plt.ylabel('Validation loss')\n",
        "plt.legend()\n",
        "plt.show()"
      ],
      "execution_count": null,
      "outputs": [
        {
          "output_type": "display_data",
          "data": {
            "image/png": "[encoded data removed]",
            "text/plain": [
              "<Figure size 432x288 with 1 Axes>"
            ]
          },
          "metadata": {
            "needs_background": "light"
          }
        }
      ]
    },
    {
      "cell_type": "code",
      "metadata": {
        "id": "lt2cTGiuQAub"
      },
      "source": [
        "\n",
        "bigger_model = models.Sequential()\n",
        "\n",
        "bigger_model.add(layers.Dense(1024, activation='relu',input_shape = (10000,)))\n",
        "bigger_model.add(layers.Dense(1024,activation='relu'))\n",
        "bigger_model.add(layers.Dense(1,activation='sigmoid'))\n",
        "\n",
        "bigger_model.compile(optimizer='rmsprop',\n",
        "                          loss='binary_crossentropy',\n",
        "                          metrics=['accuracy'])\n"
      ],
      "execution_count": null,
      "outputs": []
    },
    {
      "cell_type": "code",
      "metadata": {
        "colab": {
          "base_uri": "https://localhost:8080/"
        },
        "id": "D1EIS6rAQAXW",
        "outputId": "95c52ebb-2385-44e6-a7ca-6c1801e6d11d"
      },
      "source": [
        "bigger_hist= bigger_model.fit(x_train, y_train, epochs=20,\n",
        "                                  batch_size=512,\n",
        "                                  validation_data=(x_test,y_test))"
      ],
      "execution_count": null,
      "outputs": [
        {
          "output_type": "stream",
          "name": "stdout",
          "text": [
            "Epoch 1/20\n",
            "49/49 [==============================] - 2s 38ms/step - loss: 0.5457 - accuracy: 0.8126 - val_loss: 0.3820 - val_accuracy: 0.8330\n",
            "Epoch 2/20\n",
            "49/49 [==============================] - 1s 21ms/step - loss: 0.2238 - accuracy: 0.9110 - val_loss: 0.3484 - val_accuracy: 0.8575\n",
            "Epoch 3/20\n",
            "49/49 [==============================] - 1s 21ms/step - loss: 0.1225 - accuracy: 0.9570 - val_loss: 0.4522 - val_accuracy: 0.8489\n",
            "Epoch 4/20\n",
            "49/49 [==============================] - 1s 21ms/step - loss: 0.0835 - accuracy: 0.9821 - val_loss: 0.4679 - val_accuracy: 0.8813\n",
            "Epoch 5/20\n",
            "49/49 [==============================] - 1s 21ms/step - loss: 0.0900 - accuracy: 0.9905 - val_loss: 1.1656 - val_accuracy: 0.7963\n",
            "Epoch 6/20\n",
            "49/49 [==============================] - 1s 20ms/step - loss: 0.0030 - accuracy: 0.9992 - val_loss: 0.6570 - val_accuracy: 0.8828\n",
            "Epoch 7/20\n",
            "49/49 [==============================] - 1s 21ms/step - loss: 6.4390e-05 - accuracy: 1.0000 - val_loss: 0.8265 - val_accuracy: 0.8777\n",
            "Epoch 8/20\n",
            "49/49 [==============================] - 1s 21ms/step - loss: 0.1545 - accuracy: 0.9924 - val_loss: 2.8725 - val_accuracy: 0.7668\n",
            "Epoch 9/20\n",
            "49/49 [==============================] - 1s 20ms/step - loss: 0.0138 - accuracy: 0.9982 - val_loss: 0.7402 - val_accuracy: 0.8800\n",
            "Epoch 10/20\n",
            "49/49 [==============================] - 1s 21ms/step - loss: 9.6139e-06 - accuracy: 1.0000 - val_loss: 0.8213 - val_accuracy: 0.8804\n",
            "Epoch 11/20\n",
            "49/49 [==============================] - 1s 22ms/step - loss: 2.3597e-06 - accuracy: 1.0000 - val_loss: 0.9276 - val_accuracy: 0.8800\n",
            "Epoch 12/20\n",
            "49/49 [==============================] - 1s 21ms/step - loss: 5.7188e-07 - accuracy: 1.0000 - val_loss: 1.0563 - val_accuracy: 0.8802\n",
            "Epoch 13/20\n",
            "49/49 [==============================] - 1s 21ms/step - loss: 1.3273e-07 - accuracy: 1.0000 - val_loss: 1.1799 - val_accuracy: 0.8799\n",
            "Epoch 14/20\n",
            "49/49 [==============================] - 1s 21ms/step - loss: 3.6379e-08 - accuracy: 1.0000 - val_loss: 1.2630 - val_accuracy: 0.8799\n",
            "Epoch 15/20\n",
            "49/49 [==============================] - 1s 21ms/step - loss: 1.6180e-08 - accuracy: 1.0000 - val_loss: 1.3108 - val_accuracy: 0.8798\n",
            "Epoch 16/20\n",
            "49/49 [==============================] - 1s 21ms/step - loss: 1.0104e-08 - accuracy: 1.0000 - val_loss: 1.3383 - val_accuracy: 0.8799\n",
            "Epoch 17/20\n",
            "49/49 [==============================] - 1s 21ms/step - loss: 7.3909e-09 - accuracy: 1.0000 - val_loss: 1.3585 - val_accuracy: 0.8801\n",
            "Epoch 18/20\n",
            "49/49 [==============================] - 1s 21ms/step - loss: 5.8344e-09 - accuracy: 1.0000 - val_loss: 1.3739 - val_accuracy: 0.8800\n",
            "Epoch 19/20\n",
            "49/49 [==============================] - 1s 21ms/step - loss: 4.8261e-09 - accuracy: 1.0000 - val_loss: 1.3865 - val_accuracy: 0.8796\n",
            "Epoch 20/20\n",
            "49/49 [==============================] - 1s 21ms/step - loss: 4.1525e-09 - accuracy: 1.0000 - val_loss: 1.3970 - val_accuracy: 0.8799\n"
          ]
        }
      ]
    },
    {
      "cell_type": "code",
      "metadata": {
        "id": "-kS9IbicU_Qa"
      },
      "source": [
        "bigger_model_val_loss = bigger_hist.history['val_loss']"
      ],
      "execution_count": null,
      "outputs": []
    },
    {
      "cell_type": "code",
      "metadata": {
        "colab": {
          "base_uri": "https://localhost:8080/",
          "height": 283
        },
        "id": "MwK1NzRFQAII",
        "outputId": "50f6bc64-dc0b-45c1-ad69-44c54f13b620"
      },
      "source": [
        "import matplotlib.pyplot as plt\n",
        "\n",
        "plt.plot(epochs, original_val_loss, 'b+', label= 'Original model')\n",
        "plt.plot(epochs, bigger_model_val_loss, 'bo', label='Bigger model' )\n",
        "plt.xlabel('Epochs')\n",
        "plt.ylabel('Validation loss')\n",
        "plt.legend()\n",
        "plt.show()\n",
        "\n",
        "# 큰 모델이 더 과대적합이 빨리 일어남"
      ],
      "execution_count": null,
      "outputs": [
        {
          "output_type": "display_data",
          "data": {
            "image/png": "[encoded data removed]",
            "text/plain": [
              "<Figure size 432x288 with 1 Axes>"
            ]
          },
          "metadata": {
            "needs_background": "light"
          }
        }
      ]
    },
    {
      "cell_type": "code",
      "metadata": {
        "colab": {
          "base_uri": "https://localhost:8080/",
          "height": 279
        },
        "id": "C4hE_6KeQAGr",
        "outputId": "bbe59ad9-e570-432b-a9d3-6b287ae4397f"
      },
      "source": [
        "original_train_loss = original_hist.history['loss']\n",
        "bigger_train_loss= bigger_hist.history['loss']\n",
        "\n",
        "plt.plot(epochs, original_train_loss, 'b+',label='Original model')\n",
        "plt.plot(epochs, bigger_train_loss, 'bo', label= 'Bigger model')\n",
        "\n",
        "plt.xlabel('Epochs')\n",
        "plt.ylabel('Training loss')\n",
        "plt.legend()\n",
        "plt.show()"
      ],
      "execution_count": null,
      "outputs": [
        {
          "output_type": "display_data",
          "data": {
            "image/png": "[encoded data removed]",
            "text/plain": [
              "<Figure size 432x288 with 1 Axes>"
            ]
          },
          "metadata": {
            "needs_background": "light"
          }
        }
      ]
    },
    {
      "cell_type": "markdown",
      "metadata": {
        "id": "8IGGysd2a0Ko"
      },
      "source": [
        " 용량이 큰 네트워크는 훈련 손실이 빠르게 0에 가까워진다. 용량이 많은 네트워크일수록 더 빠르게 훈련 데이터를 모델링 할 수 있어서 훈련 손실이 낮아진다. 하지만 더욱 과대적합에 민감해진다. (훈련과 검증 손실 사이에 큰 차이가 발생)"
      ]
    },
    {
      "cell_type": "code",
      "metadata": {
        "id": "73_iI1o1QAE_"
      },
      "source": [
        "# 레이어마다 가중치 있어서 레이어 늘면 가중치가 늘어난다.\n",
        "# 파라미터 "
      ],
      "execution_count": null,
      "outputs": []
    },
    {
      "cell_type": "code",
      "metadata": {
        "id": "iIrEeOKuQADm"
      },
      "source": [
        "from keras import regularizers\n",
        "\n",
        "l2_model = models.Sequential()\n",
        "l2_model.add(layers.Dense(16,kernel_regularizer = regularizers.l2(0.001),\n",
        "                       activation='relu',input_shape=(10000,)))\n",
        "l2_model.add(layers.Dense(16,kernel_regularizer=regularizers.l2(0.001),\n",
        "                       activation='relu'))\n",
        "l2_model.add(layers.Dense(1,activation='sigmoid'))\n"
      ],
      "execution_count": null,
      "outputs": []
    },
    {
      "cell_type": "code",
      "metadata": {
        "id": "qxge6XUdP__P"
      },
      "source": [
        "l2_model.compile(optimizer='rmsprop',\n",
        "              loss='binary_crossentropy',\n",
        "              metrics=['accuracy'])"
      ],
      "execution_count": null,
      "outputs": []
    },
    {
      "cell_type": "code",
      "metadata": {
        "colab": {
          "base_uri": "https://localhost:8080/"
        },
        "id": "YeNOwG8iP_96",
        "outputId": "6f0d0d36-29d4-4a7f-ffa7-5a025a2a4ae1"
      },
      "source": [
        "l2_model_hist = l2_model.fit(x_train,y_train,\n",
        "                             epochs=20,\n",
        "                             batch_size=512,\n",
        "                             validation_data=(x_test,y_test))"
      ],
      "execution_count": null,
      "outputs": [
        {
          "output_type": "stream",
          "name": "stdout",
          "text": [
            "Epoch 1/20\n",
            "49/49 [==============================] - 2s 35ms/step - loss: 0.5125 - accuracy: 0.8232 - val_loss: 0.4050 - val_accuracy: 0.8743\n",
            "Epoch 2/20\n",
            "49/49 [==============================] - 1s 16ms/step - loss: 0.3351 - accuracy: 0.9022 - val_loss: 0.3482 - val_accuracy: 0.8856\n",
            "Epoch 3/20\n",
            "49/49 [==============================] - 1s 16ms/step - loss: 0.2847 - accuracy: 0.9169 - val_loss: 0.3409 - val_accuracy: 0.8851\n",
            "Epoch 4/20\n",
            "49/49 [==============================] - 1s 16ms/step - loss: 0.2640 - accuracy: 0.9242 - val_loss: 0.3375 - val_accuracy: 0.8857\n",
            "Epoch 5/20\n",
            "49/49 [==============================] - 1s 15ms/step - loss: 0.2514 - accuracy: 0.9302 - val_loss: 0.3391 - val_accuracy: 0.8853\n",
            "Epoch 6/20\n",
            "49/49 [==============================] - 1s 15ms/step - loss: 0.2400 - accuracy: 0.9351 - val_loss: 0.3558 - val_accuracy: 0.8801\n",
            "Epoch 7/20\n",
            "49/49 [==============================] - 1s 15ms/step - loss: 0.2346 - accuracy: 0.9356 - val_loss: 0.3599 - val_accuracy: 0.8781\n",
            "Epoch 8/20\n",
            "49/49 [==============================] - 1s 16ms/step - loss: 0.2306 - accuracy: 0.9385 - val_loss: 0.3824 - val_accuracy: 0.8708\n",
            "Epoch 9/20\n",
            "49/49 [==============================] - 1s 15ms/step - loss: 0.2246 - accuracy: 0.9390 - val_loss: 0.3716 - val_accuracy: 0.8771\n",
            "Epoch 10/20\n",
            "49/49 [==============================] - 1s 15ms/step - loss: 0.2196 - accuracy: 0.9405 - val_loss: 0.3892 - val_accuracy: 0.8710\n",
            "Epoch 11/20\n",
            "49/49 [==============================] - 1s 15ms/step - loss: 0.2162 - accuracy: 0.9430 - val_loss: 0.3730 - val_accuracy: 0.8768\n",
            "Epoch 12/20\n",
            "49/49 [==============================] - 1s 16ms/step - loss: 0.2123 - accuracy: 0.9438 - val_loss: 0.3893 - val_accuracy: 0.8729\n",
            "Epoch 13/20\n",
            "49/49 [==============================] - 1s 16ms/step - loss: 0.2110 - accuracy: 0.9448 - val_loss: 0.4273 - val_accuracy: 0.8620\n",
            "Epoch 14/20\n",
            "49/49 [==============================] - 1s 15ms/step - loss: 0.2101 - accuracy: 0.9450 - val_loss: 0.3895 - val_accuracy: 0.8734\n",
            "Epoch 15/20\n",
            "49/49 [==============================] - 1s 16ms/step - loss: 0.2002 - accuracy: 0.9503 - val_loss: 0.4059 - val_accuracy: 0.8705\n",
            "Epoch 16/20\n",
            "49/49 [==============================] - 1s 16ms/step - loss: 0.2041 - accuracy: 0.9467 - val_loss: 0.4075 - val_accuracy: 0.8702\n",
            "Epoch 17/20\n",
            "49/49 [==============================] - 1s 16ms/step - loss: 0.1985 - accuracy: 0.9496 - val_loss: 0.4133 - val_accuracy: 0.8701\n",
            "Epoch 18/20\n",
            "49/49 [==============================] - 1s 16ms/step - loss: 0.1974 - accuracy: 0.9498 - val_loss: 0.4088 - val_accuracy: 0.8712\n",
            "Epoch 19/20\n",
            "49/49 [==============================] - 1s 16ms/step - loss: 0.1909 - accuracy: 0.9526 - val_loss: 0.4353 - val_accuracy: 0.8633\n",
            "Epoch 20/20\n",
            "49/49 [==============================] - 1s 16ms/step - loss: 0.1911 - accuracy: 0.9527 - val_loss: 0.4103 - val_accuracy: 0.8692\n"
          ]
        }
      ]
    },
    {
      "cell_type": "code",
      "metadata": {
        "id": "ijqqyf2HP_5v"
      },
      "source": [
        "l2_model_val_loss= l2_model_hist.history['val_loss']"
      ],
      "execution_count": null,
      "outputs": []
    },
    {
      "cell_type": "code",
      "metadata": {
        "colab": {
          "base_uri": "https://localhost:8080/",
          "height": 279
        },
        "id": "RM9J45MKP_4d",
        "outputId": "aebd6efc-34bd-4f58-aafc-74ceef18a780"
      },
      "source": [
        "plt.plot(epochs,original_val_loss,'b+',label='Original model')\n",
        "plt.plot(epochs,l2_model_val_loss, 'bo', label='L2-regularized model' )\n",
        "plt.xlabel('Epochs')\n",
        "plt.ylabel('Validation loss')\n",
        "plt.legend()\n",
        "plt.show()"
      ],
      "execution_count": null,
      "outputs": [
        {
          "output_type": "display_data",
          "data": {
            "image/png": "[encoded data removed]",
            "text/plain": [
              "<Figure size 432x288 with 1 Axes>"
            ]
          },
          "metadata": {
            "needs_background": "light"
          }
        }
      ]
    },
    {
      "cell_type": "markdown",
      "metadata": {
        "id": "FT3J5PZ0fIR0"
      },
      "source": [
        "모델이 동일한 파라미터 수를 가지고 있더라도 L2규제를 사용한 모델이 기본 모델보다 훨씬 더 과대적합에 잘 견디고 있음"
      ]
    },
    {
      "cell_type": "code",
      "metadata": {
        "id": "U6a4JcecP_0V"
      },
      "source": [
        "# [과제] l1규제(0.001) 모델과 비교 "
      ],
      "execution_count": null,
      "outputs": []
    },
    {
      "cell_type": "code",
      "metadata": {
        "id": "kbUjD82zP_yu"
      },
      "source": [
        "# 드롭아웃 \n",
        "\n",
        "dpt_model = models.Sequential()\n",
        "dpt_model.add(layers.Dense(16,activation='relu',input_shape=(10000,)))\n",
        "dpt_model.add(layers.Dropout(0.5)) # 드롭아웃은 레이어 단계별로 해주어야함\n",
        "dpt_model.add(layers.Dense(16,activation='relu'))\n",
        "dpt_model.add(layers.Dropout(0.5)) \n",
        "dpt_model.add(layers.Dense(1,activation='sigmoid'))\n",
        "\n",
        "dpt_model.compile(optimizer='rmsprop',\n",
        "                  loss= 'binary_crossentropy',\n",
        "                  metrics=['accuracy'])\n"
      ],
      "execution_count": null,
      "outputs": []
    },
    {
      "cell_type": "code",
      "metadata": {
        "colab": {
          "base_uri": "https://localhost:8080/"
        },
        "id": "Q7hCwQyHP_xZ",
        "outputId": "16bf2545-f800-4905-c33f-d31c5dbe366b"
      },
      "source": [
        "dpt_model_hist= dpt_model.fit(x_train,y_train,\n",
        "                              epochs=20,\n",
        "                              batch_size= 512,\n",
        "                              validation_data=(x_test,y_test))"
      ],
      "execution_count": null,
      "outputs": [
        {
          "output_type": "stream",
          "name": "stdout",
          "text": [
            "Epoch 1/20\n",
            "49/49 [==============================] - 2s 35ms/step - loss: 0.5861 - accuracy: 0.6940 - val_loss: 0.4461 - val_accuracy: 0.8626\n",
            "Epoch 2/20\n",
            "49/49 [==============================] - 1s 15ms/step - loss: 0.4326 - accuracy: 0.8247 - val_loss: 0.3504 - val_accuracy: 0.8726\n",
            "Epoch 3/20\n",
            "49/49 [==============================] - 1s 15ms/step - loss: 0.3475 - accuracy: 0.8708 - val_loss: 0.2909 - val_accuracy: 0.8885\n",
            "Epoch 4/20\n",
            "49/49 [==============================] - 1s 15ms/step - loss: 0.2956 - accuracy: 0.8979 - val_loss: 0.2790 - val_accuracy: 0.8893\n",
            "Epoch 5/20\n",
            "49/49 [==============================] - 1s 15ms/step - loss: 0.2530 - accuracy: 0.9144 - val_loss: 0.2796 - val_accuracy: 0.8882\n",
            "Epoch 6/20\n",
            "49/49 [==============================] - 1s 16ms/step - loss: 0.2230 - accuracy: 0.9266 - val_loss: 0.2962 - val_accuracy: 0.8873\n",
            "Epoch 7/20\n",
            "49/49 [==============================] - 1s 15ms/step - loss: 0.1909 - accuracy: 0.9374 - val_loss: 0.3281 - val_accuracy: 0.8842\n",
            "Epoch 8/20\n",
            "49/49 [==============================] - 1s 16ms/step - loss: 0.1771 - accuracy: 0.9424 - val_loss: 0.3285 - val_accuracy: 0.8845\n",
            "Epoch 9/20\n",
            "49/49 [==============================] - 1s 16ms/step - loss: 0.1645 - accuracy: 0.9467 - val_loss: 0.3644 - val_accuracy: 0.8797\n",
            "Epoch 10/20\n",
            "49/49 [==============================] - 1s 16ms/step - loss: 0.1477 - accuracy: 0.9504 - val_loss: 0.3808 - val_accuracy: 0.8820\n",
            "Epoch 11/20\n",
            "49/49 [==============================] - 1s 16ms/step - loss: 0.1377 - accuracy: 0.9545 - val_loss: 0.3998 - val_accuracy: 0.8813\n",
            "Epoch 12/20\n",
            "49/49 [==============================] - 1s 15ms/step - loss: 0.1279 - accuracy: 0.9573 - val_loss: 0.4437 - val_accuracy: 0.8805\n",
            "Epoch 13/20\n",
            "49/49 [==============================] - 1s 16ms/step - loss: 0.1225 - accuracy: 0.9600 - val_loss: 0.4643 - val_accuracy: 0.8777\n",
            "Epoch 14/20\n",
            "49/49 [==============================] - 1s 16ms/step - loss: 0.1192 - accuracy: 0.9598 - val_loss: 0.4800 - val_accuracy: 0.8767\n",
            "Epoch 15/20\n",
            "49/49 [==============================] - 1s 15ms/step - loss: 0.1085 - accuracy: 0.9626 - val_loss: 0.4980 - val_accuracy: 0.8741\n",
            "Epoch 16/20\n",
            "49/49 [==============================] - 1s 15ms/step - loss: 0.1120 - accuracy: 0.9650 - val_loss: 0.5143 - val_accuracy: 0.8696\n",
            "Epoch 17/20\n",
            "49/49 [==============================] - 1s 15ms/step - loss: 0.1017 - accuracy: 0.9662 - val_loss: 0.5375 - val_accuracy: 0.8718\n",
            "Epoch 18/20\n",
            "49/49 [==============================] - 1s 15ms/step - loss: 0.1038 - accuracy: 0.9666 - val_loss: 0.5651 - val_accuracy: 0.8745\n",
            "Epoch 19/20\n",
            "49/49 [==============================] - 1s 15ms/step - loss: 0.0994 - accuracy: 0.9666 - val_loss: 0.5801 - val_accuracy: 0.8736\n",
            "Epoch 20/20\n",
            "49/49 [==============================] - 1s 16ms/step - loss: 0.0956 - accuracy: 0.9680 - val_loss: 0.6072 - val_accuracy: 0.8692\n"
          ]
        }
      ]
    },
    {
      "cell_type": "code",
      "metadata": {
        "id": "e_h-BCXFP_v0"
      },
      "source": [
        "dpt_model_val_loss= dpt_model_hist.history['val_loss']"
      ],
      "execution_count": null,
      "outputs": []
    },
    {
      "cell_type": "code",
      "metadata": {
        "colab": {
          "base_uri": "https://localhost:8080/",
          "height": 279
        },
        "id": "tHNY3AvPP_ue",
        "outputId": "689e7021-bcbc-44a9-9337-887055495d13"
      },
      "source": [
        "plt.plot(epochs,original_val_loss,'b+',label='Original model')\n",
        "plt.plot(epochs,dpt_model_val_loss, 'bo', label='Dropout-regularized model' )\n",
        "plt.xlabel('Epochs')\n",
        "plt.ylabel('Validation loss')\n",
        "plt.legend()\n",
        "plt.show()"
      ],
      "execution_count": null,
      "outputs": [
        {
          "output_type": "display_data",
          "data": {
            "image/png": "[encoded data removed]",
            "text/plain": [
              "<Figure size 432x288 with 1 Axes>"
            ]
          },
          "metadata": {
            "needs_background": "light"
          }
        }
      ]
    },
    {
      "cell_type": "markdown",
      "metadata": {
        "id": "8nE_lkDmi7PJ"
      },
      "source": [
        "신경망에서 과대적합을 방지하기 위한 방법\n",
        "- 훈련 데이터를 더 모은다.\n",
        "- 네트워크의 용량을 감소시킨다.(레이어 수, 유닛 수)\n",
        "- 가중치 규제를 추가한다. (L1, L2)\n",
        "- 드롭아웃을 추가한다."
      ]
    },
    {
      "cell_type": "code",
      "metadata": {
        "id": "VQuu0Qdeioae"
      },
      "source": [
        ""
      ],
      "execution_count": null,
      "outputs": []
    },
    {
      "cell_type": "code",
      "metadata": {
        "id": "6vVxcic_P_rT"
      },
      "source": [
        ""
      ],
      "execution_count": null,
      "outputs": []
    },
    {
      "cell_type": "code",
      "metadata": {
        "id": "bwXeBIGIP_jS"
      },
      "source": [
        ""
      ],
      "execution_count": null,
      "outputs": []
    },
    {
      "cell_type": "code",
      "metadata": {
        "id": "Sa0EoIjsP_hu"
      },
      "source": [
        ""
      ],
      "execution_count": null,
      "outputs": []
    },
    {
      "cell_type": "code",
      "metadata": {
        "id": "uPJQoF2-P_d8"
      },
      "source": [
        ""
      ],
      "execution_count": null,
      "outputs": []
    },
    {
      "cell_type": "code",
      "metadata": {
        "id": "ThYSVDQpP_dG"
      },
      "source": [
        ""
      ],
      "execution_count": null,
      "outputs": []
    },
    {
      "cell_type": "code",
      "metadata": {
        "id": "JhN013NyP_ad"
      },
      "source": [
        ""
      ],
      "execution_count": null,
      "outputs": []
    },
    {
      "cell_type": "code",
      "metadata": {
        "id": "c8vA-xtgP_Xy"
      },
      "source": [
        ""
      ],
      "execution_count": null,
      "outputs": []
    },
    {
      "cell_type": "code",
      "metadata": {
        "id": "5ByCBMoTP_VJ"
      },
      "source": [
        ""
      ],
      "execution_count": null,
      "outputs": []
    },
    {
      "cell_type": "code",
      "metadata": {
        "id": "54B2G6xZP_Sg"
      },
      "source": [
        ""
      ],
      "execution_count": null,
      "outputs": []
    },
    {
      "cell_type": "code",
      "metadata": {
        "id": "D2bV9CnkP_P6"
      },
      "source": [
        ""
      ],
      "execution_count": null,
      "outputs": []
    },
    {
      "cell_type": "code",
      "metadata": {
        "id": "LEKjhYUUP_NX"
      },
      "source": [
        ""
      ],
      "execution_count": null,
      "outputs": []
    },
    {
      "cell_type": "code",
      "metadata": {
        "id": "4eNt9uIcPgaC"
      },
      "source": [
        ""
      ],
      "execution_count": null,
      "outputs": []
    },
    {
      "cell_type": "code",
      "metadata": {
        "id": "WCHFUyjaPgXa"
      },
      "source": [
        ""
      ],
      "execution_count": null,
      "outputs": []
    },
    {
      "cell_type": "code",
      "metadata": {
        "id": "DJvb0avTPgUy"
      },
      "source": [
        ""
      ],
      "execution_count": null,
      "outputs": []
    },
    {
      "cell_type": "code",
      "metadata": {
        "id": "PgFkxjDhPgST"
      },
      "source": [
        ""
      ],
      "execution_count": null,
      "outputs": []
    },
    {
      "cell_type": "code",
      "metadata": {
        "id": "7iXXEKIiPgOS"
      },
      "source": [
        ""
      ],
      "execution_count": null,
      "outputs": []
    },
    {
      "cell_type": "code",
      "metadata": {
        "id": "Jfnf7gMlPgLi"
      },
      "source": [
        ""
      ],
      "execution_count": null,
      "outputs": []
    },
    {
      "cell_type": "code",
      "metadata": {
        "id": "6dXVETdBPgI6"
      },
      "source": [
        ""
      ],
      "execution_count": null,
      "outputs": []
    },
    {
      "cell_type": "code",
      "metadata": {
        "id": "Xkid2ZlpPgGK"
      },
      "source": [
        ""
      ],
      "execution_count": null,
      "outputs": []
    },
    {
      "cell_type": "code",
      "metadata": {
        "id": "mvzZouHQPgDi"
      },
      "source": [
        ""
      ],
      "execution_count": null,
      "outputs": []
    },
    {
      "cell_type": "code",
      "metadata": {
        "id": "yZupPHRTPgAq"
      },
      "source": [
        ""
      ],
      "execution_count": null,
      "outputs": []
    },
    {
      "cell_type": "code",
      "metadata": {
        "id": "tnmaK0quPf-F"
      },
      "source": [
        ""
      ],
      "execution_count": null,
      "outputs": []
    },
    {
      "cell_type": "code",
      "metadata": {
        "id": "8aZ-yBYLPf7S"
      },
      "source": [
        ""
      ],
      "execution_count": null,
      "outputs": []
    },
    {
      "cell_type": "code",
      "metadata": {
        "id": "Bvc8WRfqPf41"
      },
      "source": [
        ""
      ],
      "execution_count": null,
      "outputs": []
    },
    {
      "cell_type": "code",
      "metadata": {
        "id": "8XfLfkVYPf2S"
      },
      "source": [
        ""
      ],
      "execution_count": null,
      "outputs": []
    },
    {
      "cell_type": "code",
      "metadata": {
        "id": "sjP_MyCGPf0C"
      },
      "source": [
        ""
      ],
      "execution_count": null,
      "outputs": []
    }
  ]
}

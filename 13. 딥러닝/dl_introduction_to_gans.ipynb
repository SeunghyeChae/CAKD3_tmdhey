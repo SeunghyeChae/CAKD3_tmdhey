{
  "nbformat": 4,
  "nbformat_minor": 0,
  "metadata": {
    "colab": {
      "name": "dl_introduction_to_gans.ipynb",
      "provenance": [],
      "machine_shape": "hm",
      "authorship_tag": "ABX9TyNl1ttbwPIK02CZu+PjchWQ",
      "include_colab_link": true
    },
    "kernelspec": {
      "name": "python3",
      "display_name": "Python 3"
    },
    "language_info": {
      "name": "python"
    },
    "accelerator": "GPU"
  },
  "cells": [
    {
      "cell_type": "markdown",
      "metadata": {
        "id": "view-in-github",
        "colab_type": "text"
      },
      "source": [
        "<a href=\"https://colab.research.google.com/github/SeunghyeChae/CAKD3_tmdhey/blob/main/13.%20%EB%94%A5%EB%9F%AC%EB%8B%9D/dl_introduction_to_gans.ipynb\" target=\"_parent\"><img src=\"https://colab.research.google.com/assets/colab-badge.svg\" alt=\"Open In Colab\"/></a>"
      ]
    },
    {
      "cell_type": "markdown",
      "metadata": {
        "id": "vg1a9Of4JZt1"
      },
      "source": [
        "https://lifeignite.tistory.com/53\n"
      ]
    },
    {
      "cell_type": "markdown",
      "metadata": {
        "id": "crmwaWdoM_Q8"
      },
      "source": [
        "GAN 구조는 다음과 같습니다.\n",
        "1. Generator 네트워크는 (latent_dim,) 크기의 벡터를 (32,32,3) 크기의 이미지로 매핑합ㄴ디ㅏ.\n",
        "2. discriminator 네트워크는 (32,32,3)크기의 이미지가 진짜일 확률을 추정하여 이진 값으로 매핑합니다.\n",
        "3. 생성자와 판별자를 연결하는 gan 네트워크를 만듭니다.\n",
        "gan(x) = discriminator(generator(x))입니다. 이 gan 네트워크는 잠재 공간의 벡터를 판별자의 평가로 매핑합니다. 판별자는 생성자가 잠재 공간의 벡터를 디코딩한 것이 얼마나 현실적인지를 평가합니다.\n",
        "4. '진짜'/'가짜' 레이블과 함께 진짜 이미지와 가짜 이미지 샘플을 사용해 판별자를 훈련합니다. 일반적인 이미지 분류 모델을 훈련하는 것과 동일합니다.\n",
        "5. 생성자를 훈련하려면 gan 모델의 손실에 대한 생성자 가중치의 그래디언트를 사용합니다. 이 말은 매 단계 마다 생성자에 의해 디코딩된 이미지를 판별자가 '진짜'로 분류하도록 만드는 방향으로 생성자의 가중치를 이동한다는 뜻입니다. 다른 말로 하면 판별자를 속이도록 생성자를 훈련합니다."
      ]
    },
    {
      "cell_type": "markdown",
      "metadata": {
        "id": "A-Pg0rwENxp3"
      },
      "source": [
        ""
      ]
    },
    {
      "cell_type": "code",
      "metadata": {
        "colab": {
          "base_uri": "https://localhost:8080/"
        },
        "id": "wZgb5JnGN5GL",
        "outputId": "8e627aaa-5ff5-4421-92d5-b440588f83bf"
      },
      "source": [
        "# 생성자\n",
        "import tensorflow as tf\n",
        "from tensorflow import keras\n",
        "from tensorflow.keras import layers\n",
        "import numpy as np\n",
        "\n",
        "latent_dim = 32\n",
        "height = 32\n",
        "width = 32\n",
        "channels = 3\n",
        "\n",
        "generator_input = keras.Input(shape=(latent_dim,))\n",
        "# 입력을 16*16 zmrldml 128개 채널을 가진 큭성 맵으로 변환\n",
        "x = layers.Dense(128*16*16)(generator_input)\n",
        "x = layers.LeakyReLU()(x)\n",
        "x = layers.Reshape((16,16,128))(x)\n",
        "\n",
        "# 합성곱 층을 추가\n",
        "x = layers.Conv2D(265, 5, padding='same')(x) # same 인풋 아웃풋 같음\n",
        "\n",
        "# 32*32크기의 업샘플링\n",
        "x = layers.Conv2DTranspose(256, 4, strides=2, padding='same')(x)\n",
        "x = layers.LeakyReLU()(x)\n",
        "\n",
        "# 합성곱 층을 추가\n",
        "x = layers.Conv2D(256, 5, padding='same')(x)\n",
        "x = layers.LeakyReLU()(x)\n",
        "x = layers.Conv2D(256, 5, padding='same')(x)\n",
        "x = layers.LeakyReLU()(x)\n",
        "\n",
        "# 32*32 크기의 1개 채널을 가진 특성 맵을 생성\n",
        "x = layers.Conv2D(channels, 7, activation='tanh', padding='same')(x)\n",
        "generator = keras.models.Model(generator_input, x)\n",
        "generator.summary()"
      ],
      "execution_count": 5,
      "outputs": [
        {
          "output_type": "stream",
          "name": "stdout",
          "text": [
            "Model: \"model\"\n",
            "_________________________________________________________________\n",
            " Layer (type)                Output Shape              Param #   \n",
            "=================================================================\n",
            " input_2 (InputLayer)        [(None, 32)]              0         \n",
            "                                                                 \n",
            " dense_1 (Dense)             (None, 32768)             1081344   \n",
            "                                                                 \n",
            " leaky_re_lu (LeakyReLU)     (None, 32768)             0         \n",
            "                                                                 \n",
            " reshape (Reshape)           (None, 16, 16, 128)       0         \n",
            "                                                                 \n",
            " conv2d (Conv2D)             (None, 16, 16, 265)       848265    \n",
            "                                                                 \n",
            " conv2d_transpose (Conv2DTra  (None, 32, 32, 256)      1085696   \n",
            " nspose)                                                         \n",
            "                                                                 \n",
            " leaky_re_lu_1 (LeakyReLU)   (None, 32, 32, 256)       0         \n",
            "                                                                 \n",
            " conv2d_1 (Conv2D)           (None, 32, 32, 256)       1638656   \n",
            "                                                                 \n",
            " leaky_re_lu_2 (LeakyReLU)   (None, 32, 32, 256)       0         \n",
            "                                                                 \n",
            " conv2d_2 (Conv2D)           (None, 32, 32, 256)       1638656   \n",
            "                                                                 \n",
            " leaky_re_lu_3 (LeakyReLU)   (None, 32, 32, 256)       0         \n",
            "                                                                 \n",
            " conv2d_3 (Conv2D)           (None, 32, 32, 3)         37635     \n",
            "                                                                 \n",
            "=================================================================\n",
            "Total params: 6,330,252\n",
            "Trainable params: 6,330,252\n",
            "Non-trainable params: 0\n",
            "_________________________________________________________________\n"
          ]
        }
      ]
    },
    {
      "cell_type": "code",
      "metadata": {
        "colab": {
          "base_uri": "https://localhost:8080/"
        },
        "id": "M_beoQrIJceb",
        "outputId": "a7f47cae-dc2d-4b11-923b-8c43dfa4ea95"
      },
      "source": [
        "# 판별자 \n",
        "\n",
        "discriminator_input= layers.Input(shape=(height,width,channels))\n",
        "x= layers.Conv2D(128,3)(discriminator_input)\n",
        "x= layers.LeakyReLU()(x)\n",
        "x= layers.Conv2D(128,4,strides=2)(x)\n",
        "x= layers.LeakyReLU()(x)\n",
        "x= layers.Conv2D(128,4,strides=2)(x)\n",
        "x= layers.LeakyReLU()(x)\n",
        "x= layers.Conv2D(128,4,strides=2)(x)\n",
        "x= layers.Flatten()(x)\n",
        "\n",
        "x= layers.Dropout(0.4)(x)\n",
        "\n",
        "x= layers.Dense(1,activation='sigmoid')(x)\n",
        "\n",
        "discriminator= keras.models.Model(discriminator_input,x)\n",
        "discriminator.summary()\n",
        "\n",
        "discriminator_optimizer= keras.optimizers.RMSprop(learning_rate=0.0008, clipvalue=1.0, decay=1e-8)\n",
        "discriminator.compile(optimizer=discriminator_optimizer, loss= 'binary_crossentropy')"
      ],
      "execution_count": 7,
      "outputs": [
        {
          "output_type": "stream",
          "name": "stdout",
          "text": [
            "Model: \"model_1\"\n",
            "_________________________________________________________________\n",
            " Layer (type)                Output Shape              Param #   \n",
            "=================================================================\n",
            " input_4 (InputLayer)        [(None, 32, 32, 3)]       0         \n",
            "                                                                 \n",
            " conv2d_4 (Conv2D)           (None, 30, 30, 128)       3584      \n",
            "                                                                 \n",
            " leaky_re_lu_4 (LeakyReLU)   (None, 30, 30, 128)       0         \n",
            "                                                                 \n",
            " conv2d_5 (Conv2D)           (None, 14, 14, 128)       262272    \n",
            "                                                                 \n",
            " leaky_re_lu_5 (LeakyReLU)   (None, 14, 14, 128)       0         \n",
            "                                                                 \n",
            " conv2d_6 (Conv2D)           (None, 6, 6, 128)         262272    \n",
            "                                                                 \n",
            " leaky_re_lu_6 (LeakyReLU)   (None, 6, 6, 128)         0         \n",
            "                                                                 \n",
            " conv2d_7 (Conv2D)           (None, 2, 2, 128)         262272    \n",
            "                                                                 \n",
            " flatten (Flatten)           (None, 512)               0         \n",
            "                                                                 \n",
            " dropout (Dropout)           (None, 512)               0         \n",
            "                                                                 \n",
            " dense_2 (Dense)             (None, 1)                 513       \n",
            "                                                                 \n",
            "=================================================================\n",
            "Total params: 790,913\n",
            "Trainable params: 790,913\n",
            "Non-trainable params: 0\n",
            "_________________________________________________________________\n"
          ]
        }
      ]
    },
    {
      "cell_type": "code",
      "metadata": {
        "id": "Q0L58BSZJcbs"
      },
      "source": [
        "# 판별자의 가중치가 훈련되지 않도록 설정\n",
        "\n",
        "discriminator.trainable = False\n",
        "gan_input = keras.Input(shape=(latent_dim,))\n",
        "gan_output= discriminator(generator(gan_input))\n",
        "gan= keras.models.Model(gan_input,gan_output)\n",
        "\n",
        "gan_optimizer= keras.optimizers.RMSprop(learning_rate=0.0004, clipvalue=1.0, decay=1e-8)\n",
        "gan.compile(optimizer=gan_optimizer, loss='binary_crossentropy')\n",
        "\n"
      ],
      "execution_count": 10,
      "outputs": []
    },
    {
      "cell_type": "code",
      "metadata": {
        "colab": {
          "base_uri": "https://localhost:8080/"
        },
        "id": "oRlAji0RJcY7",
        "outputId": "10fe9914-d75b-4a6f-95d5-306f9f9e7868"
      },
      "source": [
        "import os \n",
        "from tensorflow.keras.preprocessing import image\n",
        "(x_train,y_train),(_,_) = keras.datasets.cifar10.load_data()\n"
      ],
      "execution_count": 11,
      "outputs": [
        {
          "output_type": "stream",
          "name": "stdout",
          "text": [
            "Downloading data from https://www.cs.toronto.edu/~kriz/cifar-10-python.tar.gz\n",
            "170500096/170498071 [==============================] - 5s 0us/step\n",
            "170508288/170498071 [==============================] - 5s 0us/step\n"
          ]
        }
      ]
    },
    {
      "cell_type": "code",
      "metadata": {
        "colab": {
          "base_uri": "https://localhost:8080/"
        },
        "id": "PgRCwDpoJcWN",
        "outputId": "2e3da587-b1e4-4abf-ad8a-163dd0af1cfe"
      },
      "source": [
        "x_train.shape"
      ],
      "execution_count": 13,
      "outputs": [
        {
          "output_type": "execute_result",
          "data": {
            "text/plain": [
              "(50000, 32, 32, 3)"
            ]
          },
          "metadata": {},
          "execution_count": 13
        }
      ]
    },
    {
      "cell_type": "code",
      "metadata": {
        "colab": {
          "base_uri": "https://localhost:8080/"
        },
        "id": "_cVjf_mnJcSr",
        "outputId": "bc88ecfd-8b1f-4ca0-f2b5-3e97d16038f8"
      },
      "source": [
        "import pandas as pd \n",
        "pd.DataFrame(y_train).value_counts()"
      ],
      "execution_count": 19,
      "outputs": [
        {
          "output_type": "execute_result",
          "data": {
            "text/plain": [
              "9    5000\n",
              "8    5000\n",
              "7    5000\n",
              "6    5000\n",
              "5    5000\n",
              "4    5000\n",
              "3    5000\n",
              "2    5000\n",
              "1    5000\n",
              "0    5000\n",
              "dtype: int64"
            ]
          },
          "metadata": {},
          "execution_count": 19
        }
      ]
    },
    {
      "cell_type": "code",
      "metadata": {
        "id": "fl9aI2wYYNVk"
      },
      "source": [
        "x_train = x_train [y_train.flatten()==6]"
      ],
      "execution_count": 20,
      "outputs": []
    },
    {
      "cell_type": "code",
      "metadata": {
        "id": "g7sYAOoTYbV9"
      },
      "source": [
        "x_train = x_train.reshape(\n",
        "    (x_train.shape[0],) + (height, width, channels)).astype('float32')/255."
      ],
      "execution_count": 22,
      "outputs": []
    },
    {
      "cell_type": "code",
      "metadata": {
        "colab": {
          "base_uri": "https://localhost:8080/",
          "height": 297
        },
        "id": "ba-17VeTYbSp",
        "outputId": "ba273578-d9dc-4f2b-bbb8-6b4af4a54d70"
      },
      "source": [
        "import matplotlib.pyplot as plt \n",
        "plt.figure(figsize =(20,8))\n",
        "for i in range(10):\n",
        "  plt.subplot(2,5,i+1)\n",
        "  plt.imshow(x_train[i])\n",
        "  plt.xticks([])\n",
        "  plt.yticks([])\n",
        "plt.show()\n",
        "plt.close()"
      ],
      "execution_count": 23,
      "outputs": [
        {
          "output_type": "display_data",
          "data": {
            "image/png": "[encoded data removed]",
            "text/plain": [
              "<Figure size 1440x576 with 10 Axes>"
            ]
          },
          "metadata": {}
        }
      ]
    },
    {
      "cell_type": "code",
      "metadata": {
        "id": "9Ug_sbm_bZ5D"
      },
      "source": [
        "os.mkdir('./datasets')"
      ],
      "execution_count": 24,
      "outputs": []
    },
    {
      "cell_type": "code",
      "metadata": {
        "id": "2fxKcCCNYbP9"
      },
      "source": [
        "iterations= 10000\n",
        "batch_size = 20\n",
        "save_dir = './datasets/gan_images/'"
      ],
      "execution_count": 25,
      "outputs": []
    },
    {
      "cell_type": "code",
      "metadata": {
        "colab": {
          "base_uri": "https://localhost:8080/"
        },
        "id": "fN1n_C99YbNU",
        "outputId": "c14be810-6ab7-40f9-f71a-63e8b86438a0"
      },
      "source": [
        "if not os.path.exists(save_dir):\n",
        "  os.mkdir(save_dir)\n",
        "\n",
        "start=0\n",
        "for step in range(iterations):\n",
        "  # 잠재공간에 무작위로 포인트 샘플링\n",
        "  random_latent_vactors= np.random.normal(size=(batch_size,latent_dim))\n",
        "\n",
        "  # 가짜 이미지를 디코딩\n",
        "  generated_images = generator.predict(random_latent_vactors)\n",
        "\n",
        "  # 진짜 이미지와 연결 \n",
        "  stop =  start + batch_size\n",
        "  real_images = x_train[start:stop]\n",
        "  combined_images = np.concatenate([generated_images, real_images])\n",
        "\n",
        "  labels= np.concatenate([np.ones((batch_size,1)),\n",
        "                          np.zeros((batch_size,1))])\n",
        "  \n",
        "  # 레이블에 랜덤 노이즈를 추가\n",
        "  labels += 0.05 * np.random.random(labels.shape)\n",
        "\n",
        "  # discriminator 훈련\n",
        "  d_loss = discriminator.train_on_batch(combined_images,labels)\n",
        "\n",
        "  # 잠재 공간에서 무작위로 포인트 샘플링 \n",
        "  random_latent_vactors = np.random.normal(size=(batch_size,latent_dim))\n",
        "\n",
        "  # 모두 진짜 이미지라고 레이블을 만듦\n",
        "  misleading_target = np.zeros((batch_size,1))\n",
        "\n",
        "\n",
        "  # generator 훈련\n",
        "  a_loss = gan.train_on_batch(random_latent_vectors, misleading_target)\n",
        "\n",
        "\n",
        "  start += batch_size\n",
        "  if start > len(x_train) - batch_size :\n",
        "    start= 0\n",
        "\n",
        "  if step % 100 == 0:\n",
        "    gan.save_weights('gan.h5')\n",
        "\n",
        "    print('스탭 %s에서 판별자 손실: %s' %(step,d_loss))\n",
        "    print('스탭 %s에서 적대적 손실: %s' %(step,a_loss))\n",
        "\n",
        "    # 생성된 이미지 하나를 저장\n",
        "    img = image.array_to_img(generated_images[0] * 255., scale=False)\n",
        "    img.save(os.path.join(save_dir,'generated_frog' + str(step) + '.png'))\n",
        "\n",
        "    # 비교를 위하여 진짜 이미지 하나를 저장\n",
        "    img = image.array_to_img(real_images[0]* 255., scale=False)\n",
        "    img.save(os.path.join(save_dir,'real_frog'+str(step)+'.png'))"
      ],
      "execution_count": 33,
      "outputs": [
        {
          "output_type": "stream",
          "name": "stdout",
          "text": [
            "스탭 0에서 판별자 손실: -0.02922261878848076\n",
            "스탭 0에서 적대적 손실: 12.081812858581543\n",
            "스탭 100에서 판별자 손실: 0.7674462199211121\n",
            "스탭 100에서 적대적 손실: 1.0584051609039307\n",
            "스탭 200에서 판별자 손실: 0.7170622944831848\n",
            "스탭 200에서 적대적 손실: 0.6640347242355347\n",
            "스탭 300에서 판별자 손실: 0.5644233226776123\n",
            "스탭 300에서 적대적 손실: 0.698196291923523\n",
            "스탭 400에서 판별자 손실: 0.7343424558639526\n",
            "스탭 400에서 적대적 손실: 0.6770845651626587\n",
            "스탭 500에서 판별자 손실: 0.6165064573287964\n",
            "스탭 500에서 적대적 손실: 0.5369640588760376\n",
            "스탭 600에서 판별자 손실: 0.6892293691635132\n",
            "스탭 600에서 적대적 손실: 0.632011353969574\n",
            "스탭 700에서 판별자 손실: 0.7129278182983398\n",
            "스탭 700에서 적대적 손실: 0.8727880716323853\n",
            "스탭 800에서 판별자 손실: 0.712752640247345\n",
            "스탭 800에서 적대적 손실: 0.5288118720054626\n",
            "스탭 900에서 판별자 손실: 0.6984847784042358\n",
            "스탭 900에서 적대적 손실: 0.7199575304985046\n",
            "스탭 1000에서 판별자 손실: 0.5668796300888062\n",
            "스탭 1000에서 적대적 손실: 0.3390354514122009\n",
            "스탭 1100에서 판별자 손실: 0.7549452781677246\n",
            "스탭 1100에서 적대적 손실: 0.8453911542892456\n",
            "스탭 1200에서 판별자 손실: 0.6493215560913086\n",
            "스탭 1200에서 적대적 손실: 0.46319469809532166\n",
            "스탭 1300에서 판별자 손실: 0.6623493432998657\n",
            "스탭 1300에서 적대적 손실: 0.344684898853302\n",
            "스탭 1400에서 판별자 손실: 0.6432681083679199\n",
            "스탭 1400에서 적대적 손실: 0.3390689492225647\n",
            "스탭 1500에서 판별자 손실: 0.6115313172340393\n",
            "스탭 1500에서 적대적 손실: 0.3742673099040985\n",
            "스탭 1600에서 판별자 손실: 0.7617462277412415\n",
            "스탭 1600에서 적대적 손실: 0.7444971799850464\n",
            "스탭 1700에서 판별자 손실: 0.8151624798774719\n",
            "스탭 1700에서 적대적 손실: 0.6822057962417603\n",
            "스탭 1800에서 판별자 손실: 0.5277182459831238\n",
            "스탭 1800에서 적대적 손실: 0.15584796667099\n",
            "스탭 1900에서 판별자 손실: 0.48503822088241577\n",
            "스탭 1900에서 적대적 손실: 0.1967036873102188\n",
            "스탭 2000에서 판별자 손실: 0.5411934852600098\n",
            "스탭 2000에서 적대적 손실: 0.42090028524398804\n",
            "스탭 2100에서 판별자 손실: 0.4370904862880707\n",
            "스탭 2100에서 적대적 손실: 0.16308295726776123\n",
            "스탭 2200에서 판별자 손실: 0.448394775390625\n",
            "스탭 2200에서 적대적 손실: 0.355465829372406\n",
            "스탭 2300에서 판별자 손실: 0.7795746922492981\n",
            "스탭 2300에서 적대적 손실: 0.7572849988937378\n",
            "스탭 2400에서 판별자 손실: 0.5456046462059021\n",
            "스탭 2400에서 적대적 손실: 0.214741513133049\n",
            "스탭 2500에서 판별자 손실: 0.5386468172073364\n",
            "스탭 2500에서 적대적 손실: 0.15337128937244415\n",
            "스탭 2600에서 판별자 손실: 0.6892617344856262\n",
            "스탭 2600에서 적대적 손실: 0.2576269209384918\n",
            "스탭 2700에서 판별자 손실: 0.6081721186637878\n",
            "스탭 2700에서 적대적 손실: 0.35633978247642517\n",
            "스탭 2800에서 판별자 손실: 0.7297208905220032\n",
            "스탭 2800에서 적대적 손실: 0.07456525415182114\n",
            "스탭 2900에서 판별자 손실: 0.8098357319831848\n",
            "스탭 2900에서 적대적 손실: 0.46129170060157776\n",
            "스탭 3000에서 판별자 손실: 0.6646236181259155\n",
            "스탭 3000에서 적대적 손실: 0.1399468630552292\n",
            "스탭 3100에서 판별자 손실: 0.44635218381881714\n",
            "스탭 3100에서 적대적 손실: 0.11290768533945084\n",
            "스탭 3200에서 판별자 손실: 0.6428061723709106\n",
            "스탭 3200에서 적대적 손실: 0.36675336956977844\n",
            "스탭 3300에서 판별자 손실: 0.4427762031555176\n",
            "스탭 3300에서 적대적 손실: 0.17892125248908997\n",
            "스탭 3400에서 판별자 손실: 0.6980047821998596\n",
            "스탭 3400에서 적대적 손실: 0.16759201884269714\n",
            "스탭 3500에서 판별자 손실: 0.6633904576301575\n",
            "스탭 3500에서 적대적 손실: 0.04596666246652603\n",
            "스탭 3600에서 판별자 손실: 0.5203033089637756\n",
            "스탭 3600에서 적대적 손실: 0.25253549218177795\n",
            "스탭 3700에서 판별자 손실: 0.37228965759277344\n",
            "스탭 3700에서 적대적 손실: 0.1255418360233307\n",
            "스탭 3800에서 판별자 손실: 0.7510662078857422\n",
            "스탭 3800에서 적대적 손실: 0.09228873252868652\n",
            "스탭 3900에서 판별자 손실: 0.7296838760375977\n",
            "스탭 3900에서 적대적 손실: 1.1387079954147339\n",
            "스탭 4000에서 판별자 손실: 0.41798344254493713\n",
            "스탭 4000에서 적대적 손실: 0.061845190823078156\n",
            "스탭 4100에서 판별자 손실: 0.38278236985206604\n",
            "스탭 4100에서 적대적 손실: 0.12191472202539444\n",
            "스탭 4200에서 판별자 손실: 0.3301572799682617\n",
            "스탭 4200에서 적대적 손실: 0.571184515953064\n",
            "스탭 4300에서 판별자 손실: 0.305637925863266\n",
            "스탭 4300에서 적대적 손실: 0.007400567177683115\n",
            "스탭 4400에서 판별자 손실: 0.5045300126075745\n",
            "스탭 4400에서 적대적 손실: 0.022082772105932236\n",
            "스탭 4500에서 판별자 손실: 0.27785247564315796\n",
            "스탭 4500에서 적대적 손실: 0.1614273488521576\n",
            "스탭 4600에서 판별자 손실: 0.6452451944351196\n",
            "스탭 4600에서 적대적 손실: 0.12708893418312073\n",
            "스탭 4700에서 판별자 손실: 0.12520691752433777\n",
            "스탭 4700에서 적대적 손실: 0.010773195885121822\n",
            "스탭 4800에서 판별자 손실: 0.5057277679443359\n",
            "스탭 4800에서 적대적 손실: 0.011327454820275307\n",
            "스탭 4900에서 판별자 손실: 0.21231186389923096\n",
            "스탭 4900에서 적대적 손실: 0.05773518607020378\n",
            "스탭 5000에서 판별자 손실: 0.3357866704463959\n",
            "스탭 5000에서 적대적 손실: 1.030106782913208\n",
            "스탭 5100에서 판별자 손실: 0.4116913676261902\n",
            "스탭 5100에서 적대적 손실: 0.004718869458884001\n",
            "스탭 5200에서 판별자 손실: 0.23372144997119904\n",
            "스탭 5200에서 적대적 손실: 0.10825081914663315\n",
            "스탭 5300에서 판별자 손실: 0.3256194591522217\n",
            "스탭 5300에서 적대적 손실: 0.0728967934846878\n",
            "스탭 5400에서 판별자 손실: 0.2809702754020691\n",
            "스탭 5400에서 적대적 손실: 0.03890816122293472\n",
            "스탭 5500에서 판별자 손실: 0.3086637556552887\n",
            "스탭 5500에서 적대적 손실: 0.16480740904808044\n",
            "스탭 5600에서 판별자 손실: 0.3648984432220459\n",
            "스탭 5600에서 적대적 손실: 0.00142340874299407\n",
            "스탭 5700에서 판별자 손실: 0.1523541808128357\n",
            "스탭 5700에서 적대적 손실: 0.06087775155901909\n",
            "스탭 5800에서 판별자 손실: 0.09302006661891937\n",
            "스탭 5800에서 적대적 손실: 0.0005578422569669783\n",
            "스탭 5900에서 판별자 손실: 0.33766254782676697\n",
            "스탭 5900에서 적대적 손실: 0.29639026522636414\n",
            "스탭 6000에서 판별자 손실: 0.4761272966861725\n",
            "스탭 6000에서 적대적 손실: 0.29948312044143677\n",
            "스탭 6100에서 판별자 손실: 0.28338879346847534\n",
            "스탭 6100에서 적대적 손실: 0.26312920451164246\n",
            "스탭 6200에서 판별자 손실: 0.09614679962396622\n",
            "스탭 6200에서 적대적 손실: 1.9157226085662842\n",
            "스탭 6300에서 판별자 손실: 0.3608422875404358\n",
            "스탭 6300에서 적대적 손실: 0.35511085391044617\n",
            "스탭 6400에서 판별자 손실: 0.3718205988407135\n",
            "스탭 6400에서 적대적 손실: 0.015311668626964092\n",
            "스탭 6500에서 판별자 손실: 0.12624868750572205\n",
            "스탭 6500에서 적대적 손실: 0.5718859434127808\n",
            "스탭 6600에서 판별자 손실: 0.29206928610801697\n",
            "스탭 6600에서 적대적 손실: 0.97877037525177\n",
            "스탭 6700에서 판별자 손실: 0.3226896822452545\n",
            "스탭 6700에서 적대적 손실: 0.00739226583391428\n",
            "스탭 6800에서 판별자 손실: 0.20159690082073212\n",
            "스탭 6800에서 적대적 손실: 3.1195020710583776e-05\n",
            "스탭 6900에서 판별자 손실: 0.0764629915356636\n",
            "스탭 6900에서 적대적 손실: 0.021531308069825172\n",
            "스탭 7000에서 판별자 손실: 0.27518343925476074\n",
            "스탭 7000에서 적대적 손실: 0.02964712679386139\n",
            "스탭 7100에서 판별자 손실: 0.22515301406383514\n",
            "스탭 7100에서 적대적 손실: 0.03163302689790726\n",
            "스탭 7200에서 판별자 손실: 0.3188120126724243\n",
            "스탭 7200에서 적대적 손실: 0.014739987440407276\n",
            "스탭 7300에서 판별자 손실: 0.33910825848579407\n",
            "스탭 7300에서 적대적 손실: 0.030671920627355576\n",
            "스탭 7400에서 판별자 손실: 0.4515148103237152\n",
            "스탭 7400에서 적대적 손실: 0.24631598591804504\n",
            "스탭 7500에서 판별자 손실: 0.22796495258808136\n",
            "스탭 7500에서 적대적 손실: 0.011945887468755245\n",
            "스탭 7600에서 판별자 손실: 0.15260981023311615\n",
            "스탭 7600에서 적대적 손실: 0.3725481629371643\n",
            "스탭 7700에서 판별자 손실: 0.987460732460022\n",
            "스탭 7700에서 적대적 손실: 0.0010200944961979985\n",
            "스탭 7800에서 판별자 손실: 0.12085207551717758\n",
            "스탭 7800에서 적대적 손실: 0.023084990680217743\n",
            "스탭 7900에서 판별자 손실: 0.4602630138397217\n",
            "스탭 7900에서 적대적 손실: 0.0016998769715428352\n",
            "스탭 8000에서 판별자 손실: 0.3904271423816681\n",
            "스탭 8000에서 적대적 손실: 0.004556493367999792\n",
            "스탭 8100에서 판별자 손실: 0.14087656140327454\n",
            "스탭 8100에서 적대적 손실: 0.003625681158155203\n",
            "스탭 8200에서 판별자 손실: 0.30804699659347534\n",
            "스탭 8200에서 적대적 손실: 0.00900769792497158\n",
            "스탭 8300에서 판별자 손실: 0.37335407733917236\n",
            "스탭 8300에서 적대적 손실: 0.01596917398273945\n",
            "스탭 8400에서 판별자 손실: 0.19727346301078796\n",
            "스탭 8400에서 적대적 손실: 0.003134407801553607\n",
            "스탭 8500에서 판별자 손실: 0.3401157259941101\n",
            "스탭 8500에서 적대적 손실: 0.15798231959342957\n",
            "스탭 8600에서 판별자 손실: 0.25847557187080383\n",
            "스탭 8600에서 적대적 손실: 1.949588749994291e-06\n",
            "스탭 8700에서 판별자 손실: 0.3339313566684723\n",
            "스탭 8700에서 적대적 손실: 0.09181651473045349\n",
            "스탭 8800에서 판별자 손실: 1.4443657398223877\n",
            "스탭 8800에서 적대적 손실: 0.0031625633127987385\n",
            "스탭 8900에서 판별자 손실: 0.07819602638483047\n",
            "스탭 8900에서 적대적 손실: 0.0015953609254211187\n",
            "스탭 9000에서 판별자 손실: 0.1163986474275589\n",
            "스탭 9000에서 적대적 손실: 9.857975237537175e-05\n",
            "스탭 9100에서 판별자 손실: 0.2950790822505951\n",
            "스탭 9100에서 적대적 손실: 0.40234270691871643\n",
            "스탭 9200에서 판별자 손실: 0.23917803168296814\n",
            "스탭 9200에서 적대적 손실: 0.01607682555913925\n",
            "스탭 9300에서 판별자 손실: 0.30604973435401917\n",
            "스탭 9300에서 적대적 손실: 0.23398907482624054\n",
            "스탭 9400에서 판별자 손실: 0.03887171298265457\n",
            "스탭 9400에서 적대적 손실: 0.00323496013879776\n",
            "스탭 9500에서 판별자 손실: 0.27599653601646423\n",
            "스탭 9500에서 적대적 손실: 0.17112118005752563\n",
            "스탭 9600에서 판별자 손실: 0.2430640161037445\n",
            "스탭 9600에서 적대적 손실: 0.07072944939136505\n",
            "스탭 9700에서 판별자 손실: 0.680311918258667\n",
            "스탭 9700에서 적대적 손실: 0.0002210931124864146\n",
            "스탭 9800에서 판별자 손실: 0.16522404551506042\n",
            "스탭 9800에서 적대적 손실: 3.440494401729666e-05\n",
            "스탭 9900에서 판별자 손실: 0.08614981174468994\n",
            "스탭 9900에서 적대적 손실: 0.0006838716217316687\n"
          ]
        }
      ]
    },
    {
      "cell_type": "code",
      "metadata": {
        "colab": {
          "base_uri": "https://localhost:8080/",
          "height": 297
        },
        "id": "wTZ0cq5yYbKw",
        "outputId": "2428df69-4ce4-4a07-e1e7-812d1c4cc2e3"
      },
      "source": [
        "# 가짜 이미지 몇 개를 출력 \n",
        "random_latent_vectors = np.random.normal(size=(10,latent_dim))\n",
        "generated_images = generator.predict(random_latent_vectors)\n",
        "plt.figure(figsize=(20,8))\n",
        "for i in range(generated_images.shape[0]):\n",
        "  plt.subplot(2,5,i+1)\n",
        "  img= image.array_to_img(generated_images[i] * 255., scale=False)\n",
        "  plt.imshow(img)\n",
        "  plt.xticks([])\n",
        "  plt.yticks([])\n",
        "plt.show()\n",
        "plt.close()"
      ],
      "execution_count": 34,
      "outputs": [
        {
          "output_type": "display_data",
          "data": {
            "image/png": "[encoded data removed]",
            "text/plain": [
              "<Figure size 1440x576 with 10 Axes>"
            ]
          },
          "metadata": {}
        }
      ]
    },
    {
      "cell_type": "code",
      "metadata": {
        "id": "UNLx37gWYbIJ"
      },
      "source": [
        ""
      ],
      "execution_count": null,
      "outputs": []
    },
    {
      "cell_type": "code",
      "metadata": {
        "id": "oF1EsDTSYbFf"
      },
      "source": [
        ""
      ],
      "execution_count": null,
      "outputs": []
    },
    {
      "cell_type": "code",
      "metadata": {
        "id": "Rocx2BFxYa1Q"
      },
      "source": [
        ""
      ],
      "execution_count": null,
      "outputs": []
    },
    {
      "cell_type": "code",
      "metadata": {
        "id": "CLhdWd4OYawQ"
      },
      "source": [
        ""
      ],
      "execution_count": null,
      "outputs": []
    },
    {
      "cell_type": "code",
      "metadata": {
        "id": "1N2-BwLkYas3"
      },
      "source": [
        ""
      ],
      "execution_count": null,
      "outputs": []
    },
    {
      "cell_type": "code",
      "metadata": {
        "id": "mebBLP9cYap0"
      },
      "source": [
        ""
      ],
      "execution_count": null,
      "outputs": []
    },
    {
      "cell_type": "code",
      "metadata": {
        "id": "mcucJnCCYalS"
      },
      "source": [
        ""
      ],
      "execution_count": null,
      "outputs": []
    },
    {
      "cell_type": "code",
      "metadata": {
        "id": "tkHZEgp5Yaf7"
      },
      "source": [
        ""
      ],
      "execution_count": null,
      "outputs": []
    },
    {
      "cell_type": "code",
      "metadata": {
        "id": "5H6NYQepYadJ"
      },
      "source": [
        ""
      ],
      "execution_count": null,
      "outputs": []
    },
    {
      "cell_type": "code",
      "metadata": {
        "id": "SqNOyaDcYaap"
      },
      "source": [
        ""
      ],
      "execution_count": null,
      "outputs": []
    },
    {
      "cell_type": "code",
      "metadata": {
        "id": "PT858pPbYaX2"
      },
      "source": [
        ""
      ],
      "execution_count": null,
      "outputs": []
    },
    {
      "cell_type": "code",
      "metadata": {
        "id": "x8XQRcDwYaUm"
      },
      "source": [
        ""
      ],
      "execution_count": null,
      "outputs": []
    },
    {
      "cell_type": "code",
      "metadata": {
        "id": "bNXyjmMpYaR3"
      },
      "source": [
        ""
      ],
      "execution_count": null,
      "outputs": []
    }
  ]
}
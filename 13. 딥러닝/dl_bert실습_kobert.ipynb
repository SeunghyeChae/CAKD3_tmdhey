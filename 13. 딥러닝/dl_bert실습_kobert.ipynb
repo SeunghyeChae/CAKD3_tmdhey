{
  "nbformat": 4,
  "nbformat_minor": 0,
  "metadata": {
    "colab": {
      "name": "dl_bert실습_kobert.ipynb",
      "provenance": [],
      "machine_shape": "hm",
      "authorship_tag": "ABX9TyMuDPzjdso2MUaYKWs2h7bW",
      "include_colab_link": true
    },
    "kernelspec": {
      "name": "python3",
      "display_name": "Python 3"
    },
    "language_info": {
      "name": "python"
    },
    "accelerator": "GPU",
    "widgets": {
      "application/vnd.jupyter.widget-state+json": {
        "67753d568f1146a4ae07090b5a9387a8": {
          "model_module": "@jupyter-widgets/controls",
          "model_name": "HBoxModel",
          "model_module_version": "1.5.0",
          "state": {
            "_view_name": "HBoxView",
            "_dom_classes": [],
            "_model_name": "HBoxModel",
            "_view_module": "@jupyter-widgets/controls",
            "_model_module_version": "1.5.0",
            "_view_count": null,
            "_view_module_version": "1.5.0",
            "box_style": "",
            "layout": "IPY_MODEL_ecd3da2a886a48a9b0b9c6d9525620fc",
            "_model_module": "@jupyter-widgets/controls",
            "children": [
              "IPY_MODEL_6bd7e2725c77444186e72206ef07acbc",
              "IPY_MODEL_2db01204e3ff47bc8ad82d8567ed10bd",
              "IPY_MODEL_665554c6e8db42f6aeb23a2cb5d3aa3b"
            ]
          }
        },
        "ecd3da2a886a48a9b0b9c6d9525620fc": {
          "model_module": "@jupyter-widgets/base",
          "model_name": "LayoutModel",
          "model_module_version": "1.2.0",
          "state": {
            "_view_name": "LayoutView",
            "grid_template_rows": null,
            "right": null,
            "justify_content": null,
            "_view_module": "@jupyter-widgets/base",
            "overflow": null,
            "_model_module_version": "1.2.0",
            "_view_count": null,
            "flex_flow": null,
            "width": null,
            "min_width": null,
            "border": null,
            "align_items": null,
            "bottom": null,
            "_model_module": "@jupyter-widgets/base",
            "top": null,
            "grid_column": null,
            "overflow_y": null,
            "overflow_x": null,
            "grid_auto_flow": null,
            "grid_area": null,
            "grid_template_columns": null,
            "flex": null,
            "_model_name": "LayoutModel",
            "justify_items": null,
            "grid_row": null,
            "max_height": null,
            "align_content": null,
            "visibility": null,
            "align_self": null,
            "height": null,
            "min_height": null,
            "padding": null,
            "grid_auto_rows": null,
            "grid_gap": null,
            "max_width": null,
            "order": null,
            "_view_module_version": "1.2.0",
            "grid_template_areas": null,
            "object_position": null,
            "object_fit": null,
            "grid_auto_columns": null,
            "margin": null,
            "display": null,
            "left": null
          }
        },
        "6bd7e2725c77444186e72206ef07acbc": {
          "model_module": "@jupyter-widgets/controls",
          "model_name": "HTMLModel",
          "model_module_version": "1.5.0",
          "state": {
            "_view_name": "HTMLView",
            "style": "IPY_MODEL_dd77c6aa22b64948879f747dc6999782",
            "_dom_classes": [],
            "description": "",
            "_model_name": "HTMLModel",
            "placeholder": "​",
            "_view_module": "@jupyter-widgets/controls",
            "_model_module_version": "1.5.0",
            "value": "Downloading: 100%",
            "_view_count": null,
            "_view_module_version": "1.5.0",
            "description_tooltip": null,
            "_model_module": "@jupyter-widgets/controls",
            "layout": "IPY_MODEL_837ab645b2d84bf79c0aacdf0514ebd8"
          }
        },
        "2db01204e3ff47bc8ad82d8567ed10bd": {
          "model_module": "@jupyter-widgets/controls",
          "model_name": "FloatProgressModel",
          "model_module_version": "1.5.0",
          "state": {
            "_view_name": "ProgressView",
            "style": "IPY_MODEL_212f67ee2dbd4803aed3a80a21602aed",
            "_dom_classes": [],
            "description": "",
            "_model_name": "FloatProgressModel",
            "bar_style": "success",
            "max": 371391,
            "_view_module": "@jupyter-widgets/controls",
            "_model_module_version": "1.5.0",
            "value": 371391,
            "_view_count": null,
            "_view_module_version": "1.5.0",
            "orientation": "horizontal",
            "min": 0,
            "description_tooltip": null,
            "_model_module": "@jupyter-widgets/controls",
            "layout": "IPY_MODEL_0197380c1f704702bcbc4386fa82b048"
          }
        },
        "665554c6e8db42f6aeb23a2cb5d3aa3b": {
          "model_module": "@jupyter-widgets/controls",
          "model_name": "HTMLModel",
          "model_module_version": "1.5.0",
          "state": {
            "_view_name": "HTMLView",
            "style": "IPY_MODEL_b617756045134fd79ecc27001865252e",
            "_dom_classes": [],
            "description": "",
            "_model_name": "HTMLModel",
            "placeholder": "​",
            "_view_module": "@jupyter-widgets/controls",
            "_model_module_version": "1.5.0",
            "value": " 363k/363k [00:00&lt;00:00, 322kB/s]",
            "_view_count": null,
            "_view_module_version": "1.5.0",
            "description_tooltip": null,
            "_model_module": "@jupyter-widgets/controls",
            "layout": "IPY_MODEL_361fc5994ea548b28be3b71bfbc48c38"
          }
        },
        "dd77c6aa22b64948879f747dc6999782": {
          "model_module": "@jupyter-widgets/controls",
          "model_name": "DescriptionStyleModel",
          "model_module_version": "1.5.0",
          "state": {
            "_view_name": "StyleView",
            "_model_name": "DescriptionStyleModel",
            "description_width": "",
            "_view_module": "@jupyter-widgets/base",
            "_model_module_version": "1.5.0",
            "_view_count": null,
            "_view_module_version": "1.2.0",
            "_model_module": "@jupyter-widgets/controls"
          }
        },
        "837ab645b2d84bf79c0aacdf0514ebd8": {
          "model_module": "@jupyter-widgets/base",
          "model_name": "LayoutModel",
          "model_module_version": "1.2.0",
          "state": {
            "_view_name": "LayoutView",
            "grid_template_rows": null,
            "right": null,
            "justify_content": null,
            "_view_module": "@jupyter-widgets/base",
            "overflow": null,
            "_model_module_version": "1.2.0",
            "_view_count": null,
            "flex_flow": null,
            "width": null,
            "min_width": null,
            "border": null,
            "align_items": null,
            "bottom": null,
            "_model_module": "@jupyter-widgets/base",
            "top": null,
            "grid_column": null,
            "overflow_y": null,
            "overflow_x": null,
            "grid_auto_flow": null,
            "grid_area": null,
            "grid_template_columns": null,
            "flex": null,
            "_model_name": "LayoutModel",
            "justify_items": null,
            "grid_row": null,
            "max_height": null,
            "align_content": null,
            "visibility": null,
            "align_self": null,
            "height": null,
            "min_height": null,
            "padding": null,
            "grid_auto_rows": null,
            "grid_gap": null,
            "max_width": null,
            "order": null,
            "_view_module_version": "1.2.0",
            "grid_template_areas": null,
            "object_position": null,
            "object_fit": null,
            "grid_auto_columns": null,
            "margin": null,
            "display": null,
            "left": null
          }
        },
        "212f67ee2dbd4803aed3a80a21602aed": {
          "model_module": "@jupyter-widgets/controls",
          "model_name": "ProgressStyleModel",
          "model_module_version": "1.5.0",
          "state": {
            "_view_name": "StyleView",
            "_model_name": "ProgressStyleModel",
            "description_width": "",
            "_view_module": "@jupyter-widgets/base",
            "_model_module_version": "1.5.0",
            "_view_count": null,
            "_view_module_version": "1.2.0",
            "bar_color": null,
            "_model_module": "@jupyter-widgets/controls"
          }
        },
        "0197380c1f704702bcbc4386fa82b048": {
          "model_module": "@jupyter-widgets/base",
          "model_name": "LayoutModel",
          "model_module_version": "1.2.0",
          "state": {
            "_view_name": "LayoutView",
            "grid_template_rows": null,
            "right": null,
            "justify_content": null,
            "_view_module": "@jupyter-widgets/base",
            "overflow": null,
            "_model_module_version": "1.2.0",
            "_view_count": null,
            "flex_flow": null,
            "width": null,
            "min_width": null,
            "border": null,
            "align_items": null,
            "bottom": null,
            "_model_module": "@jupyter-widgets/base",
            "top": null,
            "grid_column": null,
            "overflow_y": null,
            "overflow_x": null,
            "grid_auto_flow": null,
            "grid_area": null,
            "grid_template_columns": null,
            "flex": null,
            "_model_name": "LayoutModel",
            "justify_items": null,
            "grid_row": null,
            "max_height": null,
            "align_content": null,
            "visibility": null,
            "align_self": null,
            "height": null,
            "min_height": null,
            "padding": null,
            "grid_auto_rows": null,
            "grid_gap": null,
            "max_width": null,
            "order": null,
            "_view_module_version": "1.2.0",
            "grid_template_areas": null,
            "object_position": null,
            "object_fit": null,
            "grid_auto_columns": null,
            "margin": null,
            "display": null,
            "left": null
          }
        },
        "b617756045134fd79ecc27001865252e": {
          "model_module": "@jupyter-widgets/controls",
          "model_name": "DescriptionStyleModel",
          "model_module_version": "1.5.0",
          "state": {
            "_view_name": "StyleView",
            "_model_name": "DescriptionStyleModel",
            "description_width": "",
            "_view_module": "@jupyter-widgets/base",
            "_model_module_version": "1.5.0",
            "_view_count": null,
            "_view_module_version": "1.2.0",
            "_model_module": "@jupyter-widgets/controls"
          }
        },
        "361fc5994ea548b28be3b71bfbc48c38": {
          "model_module": "@jupyter-widgets/base",
          "model_name": "LayoutModel",
          "model_module_version": "1.2.0",
          "state": {
            "_view_name": "LayoutView",
            "grid_template_rows": null,
            "right": null,
            "justify_content": null,
            "_view_module": "@jupyter-widgets/base",
            "overflow": null,
            "_model_module_version": "1.2.0",
            "_view_count": null,
            "flex_flow": null,
            "width": null,
            "min_width": null,
            "border": null,
            "align_items": null,
            "bottom": null,
            "_model_module": "@jupyter-widgets/base",
            "top": null,
            "grid_column": null,
            "overflow_y": null,
            "overflow_x": null,
            "grid_auto_flow": null,
            "grid_area": null,
            "grid_template_columns": null,
            "flex": null,
            "_model_name": "LayoutModel",
            "justify_items": null,
            "grid_row": null,
            "max_height": null,
            "align_content": null,
            "visibility": null,
            "align_self": null,
            "height": null,
            "min_height": null,
            "padding": null,
            "grid_auto_rows": null,
            "grid_gap": null,
            "max_width": null,
            "order": null,
            "_view_module_version": "1.2.0",
            "grid_template_areas": null,
            "object_position": null,
            "object_fit": null,
            "grid_auto_columns": null,
            "margin": null,
            "display": null,
            "left": null
          }
        },
        "66cb66f6be9240459c81e844b9bf6ab1": {
          "model_module": "@jupyter-widgets/controls",
          "model_name": "HBoxModel",
          "model_module_version": "1.5.0",
          "state": {
            "_view_name": "HBoxView",
            "_dom_classes": [],
            "_model_name": "HBoxModel",
            "_view_module": "@jupyter-widgets/controls",
            "_model_module_version": "1.5.0",
            "_view_count": null,
            "_view_module_version": "1.5.0",
            "box_style": "",
            "layout": "IPY_MODEL_ffbefc1cd20448a6824eb4cfd9c8dfd7",
            "_model_module": "@jupyter-widgets/controls",
            "children": [
              "IPY_MODEL_bc4b5bd433a2455096451ecba4e8def7",
              "IPY_MODEL_33581e8948d24f53823182be1a00a668",
              "IPY_MODEL_fd6bd24acc9544d487cef8186aabd59f"
            ]
          }
        },
        "ffbefc1cd20448a6824eb4cfd9c8dfd7": {
          "model_module": "@jupyter-widgets/base",
          "model_name": "LayoutModel",
          "model_module_version": "1.2.0",
          "state": {
            "_view_name": "LayoutView",
            "grid_template_rows": null,
            "right": null,
            "justify_content": null,
            "_view_module": "@jupyter-widgets/base",
            "overflow": null,
            "_model_module_version": "1.2.0",
            "_view_count": null,
            "flex_flow": null,
            "width": null,
            "min_width": null,
            "border": null,
            "align_items": null,
            "bottom": null,
            "_model_module": "@jupyter-widgets/base",
            "top": null,
            "grid_column": null,
            "overflow_y": null,
            "overflow_x": null,
            "grid_auto_flow": null,
            "grid_area": null,
            "grid_template_columns": null,
            "flex": null,
            "_model_name": "LayoutModel",
            "justify_items": null,
            "grid_row": null,
            "max_height": null,
            "align_content": null,
            "visibility": null,
            "align_self": null,
            "height": null,
            "min_height": null,
            "padding": null,
            "grid_auto_rows": null,
            "grid_gap": null,
            "max_width": null,
            "order": null,
            "_view_module_version": "1.2.0",
            "grid_template_areas": null,
            "object_position": null,
            "object_fit": null,
            "grid_auto_columns": null,
            "margin": null,
            "display": null,
            "left": null
          }
        },
        "bc4b5bd433a2455096451ecba4e8def7": {
          "model_module": "@jupyter-widgets/controls",
          "model_name": "HTMLModel",
          "model_module_version": "1.5.0",
          "state": {
            "_view_name": "HTMLView",
            "style": "IPY_MODEL_ab5198ba4c724b03a514e9ba29829e5e",
            "_dom_classes": [],
            "description": "",
            "_model_name": "HTMLModel",
            "placeholder": "​",
            "_view_module": "@jupyter-widgets/controls",
            "_model_module_version": "1.5.0",
            "value": "Downloading: 100%",
            "_view_count": null,
            "_view_module_version": "1.5.0",
            "description_tooltip": null,
            "_model_module": "@jupyter-widgets/controls",
            "layout": "IPY_MODEL_247461b2f77a4666aabdf45999c7d659"
          }
        },
        "33581e8948d24f53823182be1a00a668": {
          "model_module": "@jupyter-widgets/controls",
          "model_name": "FloatProgressModel",
          "model_module_version": "1.5.0",
          "state": {
            "_view_name": "ProgressView",
            "style": "IPY_MODEL_b89cab4b86d745bfae15b309bd8d4047",
            "_dom_classes": [],
            "description": "",
            "_model_name": "FloatProgressModel",
            "bar_style": "success",
            "max": 77779,
            "_view_module": "@jupyter-widgets/controls",
            "_model_module_version": "1.5.0",
            "value": 77779,
            "_view_count": null,
            "_view_module_version": "1.5.0",
            "orientation": "horizontal",
            "min": 0,
            "description_tooltip": null,
            "_model_module": "@jupyter-widgets/controls",
            "layout": "IPY_MODEL_04a36147efc0472989944e5b548e50fb"
          }
        },
        "fd6bd24acc9544d487cef8186aabd59f": {
          "model_module": "@jupyter-widgets/controls",
          "model_name": "HTMLModel",
          "model_module_version": "1.5.0",
          "state": {
            "_view_name": "HTMLView",
            "style": "IPY_MODEL_286ea741effb4e0c9871f3dc0f74ea60",
            "_dom_classes": [],
            "description": "",
            "_model_name": "HTMLModel",
            "placeholder": "​",
            "_view_module": "@jupyter-widgets/controls",
            "_model_module_version": "1.5.0",
            "value": " 76.0k/76.0k [00:00&lt;00:00, 129kB/s]",
            "_view_count": null,
            "_view_module_version": "1.5.0",
            "description_tooltip": null,
            "_model_module": "@jupyter-widgets/controls",
            "layout": "IPY_MODEL_f40e4ffd81b24472b6f980f042df3d3f"
          }
        },
        "ab5198ba4c724b03a514e9ba29829e5e": {
          "model_module": "@jupyter-widgets/controls",
          "model_name": "DescriptionStyleModel",
          "model_module_version": "1.5.0",
          "state": {
            "_view_name": "StyleView",
            "_model_name": "DescriptionStyleModel",
            "description_width": "",
            "_view_module": "@jupyter-widgets/base",
            "_model_module_version": "1.5.0",
            "_view_count": null,
            "_view_module_version": "1.2.0",
            "_model_module": "@jupyter-widgets/controls"
          }
        },
        "247461b2f77a4666aabdf45999c7d659": {
          "model_module": "@jupyter-widgets/base",
          "model_name": "LayoutModel",
          "model_module_version": "1.2.0",
          "state": {
            "_view_name": "LayoutView",
            "grid_template_rows": null,
            "right": null,
            "justify_content": null,
            "_view_module": "@jupyter-widgets/base",
            "overflow": null,
            "_model_module_version": "1.2.0",
            "_view_count": null,
            "flex_flow": null,
            "width": null,
            "min_width": null,
            "border": null,
            "align_items": null,
            "bottom": null,
            "_model_module": "@jupyter-widgets/base",
            "top": null,
            "grid_column": null,
            "overflow_y": null,
            "overflow_x": null,
            "grid_auto_flow": null,
            "grid_area": null,
            "grid_template_columns": null,
            "flex": null,
            "_model_name": "LayoutModel",
            "justify_items": null,
            "grid_row": null,
            "max_height": null,
            "align_content": null,
            "visibility": null,
            "align_self": null,
            "height": null,
            "min_height": null,
            "padding": null,
            "grid_auto_rows": null,
            "grid_gap": null,
            "max_width": null,
            "order": null,
            "_view_module_version": "1.2.0",
            "grid_template_areas": null,
            "object_position": null,
            "object_fit": null,
            "grid_auto_columns": null,
            "margin": null,
            "display": null,
            "left": null
          }
        },
        "b89cab4b86d745bfae15b309bd8d4047": {
          "model_module": "@jupyter-widgets/controls",
          "model_name": "ProgressStyleModel",
          "model_module_version": "1.5.0",
          "state": {
            "_view_name": "StyleView",
            "_model_name": "ProgressStyleModel",
            "description_width": "",
            "_view_module": "@jupyter-widgets/base",
            "_model_module_version": "1.5.0",
            "_view_count": null,
            "_view_module_version": "1.2.0",
            "bar_color": null,
            "_model_module": "@jupyter-widgets/controls"
          }
        },
        "04a36147efc0472989944e5b548e50fb": {
          "model_module": "@jupyter-widgets/base",
          "model_name": "LayoutModel",
          "model_module_version": "1.2.0",
          "state": {
            "_view_name": "LayoutView",
            "grid_template_rows": null,
            "right": null,
            "justify_content": null,
            "_view_module": "@jupyter-widgets/base",
            "overflow": null,
            "_model_module_version": "1.2.0",
            "_view_count": null,
            "flex_flow": null,
            "width": null,
            "min_width": null,
            "border": null,
            "align_items": null,
            "bottom": null,
            "_model_module": "@jupyter-widgets/base",
            "top": null,
            "grid_column": null,
            "overflow_y": null,
            "overflow_x": null,
            "grid_auto_flow": null,
            "grid_area": null,
            "grid_template_columns": null,
            "flex": null,
            "_model_name": "LayoutModel",
            "justify_items": null,
            "grid_row": null,
            "max_height": null,
            "align_content": null,
            "visibility": null,
            "align_self": null,
            "height": null,
            "min_height": null,
            "padding": null,
            "grid_auto_rows": null,
            "grid_gap": null,
            "max_width": null,
            "order": null,
            "_view_module_version": "1.2.0",
            "grid_template_areas": null,
            "object_position": null,
            "object_fit": null,
            "grid_auto_columns": null,
            "margin": null,
            "display": null,
            "left": null
          }
        },
        "286ea741effb4e0c9871f3dc0f74ea60": {
          "model_module": "@jupyter-widgets/controls",
          "model_name": "DescriptionStyleModel",
          "model_module_version": "1.5.0",
          "state": {
            "_view_name": "StyleView",
            "_model_name": "DescriptionStyleModel",
            "description_width": "",
            "_view_module": "@jupyter-widgets/base",
            "_model_module_version": "1.5.0",
            "_view_count": null,
            "_view_module_version": "1.2.0",
            "_model_module": "@jupyter-widgets/controls"
          }
        },
        "f40e4ffd81b24472b6f980f042df3d3f": {
          "model_module": "@jupyter-widgets/base",
          "model_name": "LayoutModel",
          "model_module_version": "1.2.0",
          "state": {
            "_view_name": "LayoutView",
            "grid_template_rows": null,
            "right": null,
            "justify_content": null,
            "_view_module": "@jupyter-widgets/base",
            "overflow": null,
            "_model_module_version": "1.2.0",
            "_view_count": null,
            "flex_flow": null,
            "width": null,
            "min_width": null,
            "border": null,
            "align_items": null,
            "bottom": null,
            "_model_module": "@jupyter-widgets/base",
            "top": null,
            "grid_column": null,
            "overflow_y": null,
            "overflow_x": null,
            "grid_auto_flow": null,
            "grid_area": null,
            "grid_template_columns": null,
            "flex": null,
            "_model_name": "LayoutModel",
            "justify_items": null,
            "grid_row": null,
            "max_height": null,
            "align_content": null,
            "visibility": null,
            "align_self": null,
            "height": null,
            "min_height": null,
            "padding": null,
            "grid_auto_rows": null,
            "grid_gap": null,
            "max_width": null,
            "order": null,
            "_view_module_version": "1.2.0",
            "grid_template_areas": null,
            "object_position": null,
            "object_fit": null,
            "grid_auto_columns": null,
            "margin": null,
            "display": null,
            "left": null
          }
        },
        "d41b180ecad945b599cd3696b5458192": {
          "model_module": "@jupyter-widgets/controls",
          "model_name": "HBoxModel",
          "model_module_version": "1.5.0",
          "state": {
            "_view_name": "HBoxView",
            "_dom_classes": [],
            "_model_name": "HBoxModel",
            "_view_module": "@jupyter-widgets/controls",
            "_model_module_version": "1.5.0",
            "_view_count": null,
            "_view_module_version": "1.5.0",
            "box_style": "",
            "layout": "IPY_MODEL_381b451730674634bb6ecca77264024e",
            "_model_module": "@jupyter-widgets/controls",
            "children": [
              "IPY_MODEL_8ecdda77eefd4754bfca9f5c2ebb6ee0",
              "IPY_MODEL_c8900533ac4946ff913ffe1d0c786eb8",
              "IPY_MODEL_55c071ebd1ee48ddab58a690737422c0"
            ]
          }
        },
        "381b451730674634bb6ecca77264024e": {
          "model_module": "@jupyter-widgets/base",
          "model_name": "LayoutModel",
          "model_module_version": "1.2.0",
          "state": {
            "_view_name": "LayoutView",
            "grid_template_rows": null,
            "right": null,
            "justify_content": null,
            "_view_module": "@jupyter-widgets/base",
            "overflow": null,
            "_model_module_version": "1.2.0",
            "_view_count": null,
            "flex_flow": null,
            "width": null,
            "min_width": null,
            "border": null,
            "align_items": null,
            "bottom": null,
            "_model_module": "@jupyter-widgets/base",
            "top": null,
            "grid_column": null,
            "overflow_y": null,
            "overflow_x": null,
            "grid_auto_flow": null,
            "grid_area": null,
            "grid_template_columns": null,
            "flex": null,
            "_model_name": "LayoutModel",
            "justify_items": null,
            "grid_row": null,
            "max_height": null,
            "align_content": null,
            "visibility": null,
            "align_self": null,
            "height": null,
            "min_height": null,
            "padding": null,
            "grid_auto_rows": null,
            "grid_gap": null,
            "max_width": null,
            "order": null,
            "_view_module_version": "1.2.0",
            "grid_template_areas": null,
            "object_position": null,
            "object_fit": null,
            "grid_auto_columns": null,
            "margin": null,
            "display": null,
            "left": null
          }
        },
        "8ecdda77eefd4754bfca9f5c2ebb6ee0": {
          "model_module": "@jupyter-widgets/controls",
          "model_name": "HTMLModel",
          "model_module_version": "1.5.0",
          "state": {
            "_view_name": "HTMLView",
            "style": "IPY_MODEL_5450a13a82ce492084a52e1e8e99dd37",
            "_dom_classes": [],
            "description": "",
            "_model_name": "HTMLModel",
            "placeholder": "​",
            "_view_module": "@jupyter-widgets/controls",
            "_model_module_version": "1.5.0",
            "value": "Downloading: 100%",
            "_view_count": null,
            "_view_module_version": "1.5.0",
            "description_tooltip": null,
            "_model_module": "@jupyter-widgets/controls",
            "layout": "IPY_MODEL_f9fda7218f4d406f8fc888413bf38a35"
          }
        },
        "c8900533ac4946ff913ffe1d0c786eb8": {
          "model_module": "@jupyter-widgets/controls",
          "model_name": "FloatProgressModel",
          "model_module_version": "1.5.0",
          "state": {
            "_view_name": "ProgressView",
            "style": "IPY_MODEL_17ec122a22064093b936d5d6ebfc0ddc",
            "_dom_classes": [],
            "description": "",
            "_model_name": "FloatProgressModel",
            "bar_style": "success",
            "max": 51,
            "_view_module": "@jupyter-widgets/controls",
            "_model_module_version": "1.5.0",
            "value": 51,
            "_view_count": null,
            "_view_module_version": "1.5.0",
            "orientation": "horizontal",
            "min": 0,
            "description_tooltip": null,
            "_model_module": "@jupyter-widgets/controls",
            "layout": "IPY_MODEL_06d7a21a887d429b8bc16e4dcfcb2d87"
          }
        },
        "55c071ebd1ee48ddab58a690737422c0": {
          "model_module": "@jupyter-widgets/controls",
          "model_name": "HTMLModel",
          "model_module_version": "1.5.0",
          "state": {
            "_view_name": "HTMLView",
            "style": "IPY_MODEL_aa437420668d4263b5fcdb2a5320e744",
            "_dom_classes": [],
            "description": "",
            "_model_name": "HTMLModel",
            "placeholder": "​",
            "_view_module": "@jupyter-widgets/controls",
            "_model_module_version": "1.5.0",
            "value": " 51.0/51.0 [00:00&lt;00:00, 1.90kB/s]",
            "_view_count": null,
            "_view_module_version": "1.5.0",
            "description_tooltip": null,
            "_model_module": "@jupyter-widgets/controls",
            "layout": "IPY_MODEL_58bf31c82f8549208f9674b2a91deb1c"
          }
        },
        "5450a13a82ce492084a52e1e8e99dd37": {
          "model_module": "@jupyter-widgets/controls",
          "model_name": "DescriptionStyleModel",
          "model_module_version": "1.5.0",
          "state": {
            "_view_name": "StyleView",
            "_model_name": "DescriptionStyleModel",
            "description_width": "",
            "_view_module": "@jupyter-widgets/base",
            "_model_module_version": "1.5.0",
            "_view_count": null,
            "_view_module_version": "1.2.0",
            "_model_module": "@jupyter-widgets/controls"
          }
        },
        "f9fda7218f4d406f8fc888413bf38a35": {
          "model_module": "@jupyter-widgets/base",
          "model_name": "LayoutModel",
          "model_module_version": "1.2.0",
          "state": {
            "_view_name": "LayoutView",
            "grid_template_rows": null,
            "right": null,
            "justify_content": null,
            "_view_module": "@jupyter-widgets/base",
            "overflow": null,
            "_model_module_version": "1.2.0",
            "_view_count": null,
            "flex_flow": null,
            "width": null,
            "min_width": null,
            "border": null,
            "align_items": null,
            "bottom": null,
            "_model_module": "@jupyter-widgets/base",
            "top": null,
            "grid_column": null,
            "overflow_y": null,
            "overflow_x": null,
            "grid_auto_flow": null,
            "grid_area": null,
            "grid_template_columns": null,
            "flex": null,
            "_model_name": "LayoutModel",
            "justify_items": null,
            "grid_row": null,
            "max_height": null,
            "align_content": null,
            "visibility": null,
            "align_self": null,
            "height": null,
            "min_height": null,
            "padding": null,
            "grid_auto_rows": null,
            "grid_gap": null,
            "max_width": null,
            "order": null,
            "_view_module_version": "1.2.0",
            "grid_template_areas": null,
            "object_position": null,
            "object_fit": null,
            "grid_auto_columns": null,
            "margin": null,
            "display": null,
            "left": null
          }
        },
        "17ec122a22064093b936d5d6ebfc0ddc": {
          "model_module": "@jupyter-widgets/controls",
          "model_name": "ProgressStyleModel",
          "model_module_version": "1.5.0",
          "state": {
            "_view_name": "StyleView",
            "_model_name": "ProgressStyleModel",
            "description_width": "",
            "_view_module": "@jupyter-widgets/base",
            "_model_module_version": "1.5.0",
            "_view_count": null,
            "_view_module_version": "1.2.0",
            "bar_color": null,
            "_model_module": "@jupyter-widgets/controls"
          }
        },
        "06d7a21a887d429b8bc16e4dcfcb2d87": {
          "model_module": "@jupyter-widgets/base",
          "model_name": "LayoutModel",
          "model_module_version": "1.2.0",
          "state": {
            "_view_name": "LayoutView",
            "grid_template_rows": null,
            "right": null,
            "justify_content": null,
            "_view_module": "@jupyter-widgets/base",
            "overflow": null,
            "_model_module_version": "1.2.0",
            "_view_count": null,
            "flex_flow": null,
            "width": null,
            "min_width": null,
            "border": null,
            "align_items": null,
            "bottom": null,
            "_model_module": "@jupyter-widgets/base",
            "top": null,
            "grid_column": null,
            "overflow_y": null,
            "overflow_x": null,
            "grid_auto_flow": null,
            "grid_area": null,
            "grid_template_columns": null,
            "flex": null,
            "_model_name": "LayoutModel",
            "justify_items": null,
            "grid_row": null,
            "max_height": null,
            "align_content": null,
            "visibility": null,
            "align_self": null,
            "height": null,
            "min_height": null,
            "padding": null,
            "grid_auto_rows": null,
            "grid_gap": null,
            "max_width": null,
            "order": null,
            "_view_module_version": "1.2.0",
            "grid_template_areas": null,
            "object_position": null,
            "object_fit": null,
            "grid_auto_columns": null,
            "margin": null,
            "display": null,
            "left": null
          }
        },
        "aa437420668d4263b5fcdb2a5320e744": {
          "model_module": "@jupyter-widgets/controls",
          "model_name": "DescriptionStyleModel",
          "model_module_version": "1.5.0",
          "state": {
            "_view_name": "StyleView",
            "_model_name": "DescriptionStyleModel",
            "description_width": "",
            "_view_module": "@jupyter-widgets/base",
            "_model_module_version": "1.5.0",
            "_view_count": null,
            "_view_module_version": "1.2.0",
            "_model_module": "@jupyter-widgets/controls"
          }
        },
        "58bf31c82f8549208f9674b2a91deb1c": {
          "model_module": "@jupyter-widgets/base",
          "model_name": "LayoutModel",
          "model_module_version": "1.2.0",
          "state": {
            "_view_name": "LayoutView",
            "grid_template_rows": null,
            "right": null,
            "justify_content": null,
            "_view_module": "@jupyter-widgets/base",
            "overflow": null,
            "_model_module_version": "1.2.0",
            "_view_count": null,
            "flex_flow": null,
            "width": null,
            "min_width": null,
            "border": null,
            "align_items": null,
            "bottom": null,
            "_model_module": "@jupyter-widgets/base",
            "top": null,
            "grid_column": null,
            "overflow_y": null,
            "overflow_x": null,
            "grid_auto_flow": null,
            "grid_area": null,
            "grid_template_columns": null,
            "flex": null,
            "_model_name": "LayoutModel",
            "justify_items": null,
            "grid_row": null,
            "max_height": null,
            "align_content": null,
            "visibility": null,
            "align_self": null,
            "height": null,
            "min_height": null,
            "padding": null,
            "grid_auto_rows": null,
            "grid_gap": null,
            "max_width": null,
            "order": null,
            "_view_module_version": "1.2.0",
            "grid_template_areas": null,
            "object_position": null,
            "object_fit": null,
            "grid_auto_columns": null,
            "margin": null,
            "display": null,
            "left": null
          }
        },
        "5c2055d7e2d84061aed8f73ea3d80c9e": {
          "model_module": "@jupyter-widgets/controls",
          "model_name": "HBoxModel",
          "model_module_version": "1.5.0",
          "state": {
            "_view_name": "HBoxView",
            "_dom_classes": [],
            "_model_name": "HBoxModel",
            "_view_module": "@jupyter-widgets/controls",
            "_model_module_version": "1.5.0",
            "_view_count": null,
            "_view_module_version": "1.5.0",
            "box_style": "",
            "layout": "IPY_MODEL_604bafbf1ac54ba3b6b285f9712a3708",
            "_model_module": "@jupyter-widgets/controls",
            "children": [
              "IPY_MODEL_0d3fea8332c3472986683471478405fa",
              "IPY_MODEL_9db5106001024d91918183f784f3396d",
              "IPY_MODEL_1bbe4b1c217f4d26b743ee8a76d3f255"
            ]
          }
        },
        "604bafbf1ac54ba3b6b285f9712a3708": {
          "model_module": "@jupyter-widgets/base",
          "model_name": "LayoutModel",
          "model_module_version": "1.2.0",
          "state": {
            "_view_name": "LayoutView",
            "grid_template_rows": null,
            "right": null,
            "justify_content": null,
            "_view_module": "@jupyter-widgets/base",
            "overflow": null,
            "_model_module_version": "1.2.0",
            "_view_count": null,
            "flex_flow": null,
            "width": null,
            "min_width": null,
            "border": null,
            "align_items": null,
            "bottom": null,
            "_model_module": "@jupyter-widgets/base",
            "top": null,
            "grid_column": null,
            "overflow_y": null,
            "overflow_x": null,
            "grid_auto_flow": null,
            "grid_area": null,
            "grid_template_columns": null,
            "flex": null,
            "_model_name": "LayoutModel",
            "justify_items": null,
            "grid_row": null,
            "max_height": null,
            "align_content": null,
            "visibility": null,
            "align_self": null,
            "height": null,
            "min_height": null,
            "padding": null,
            "grid_auto_rows": null,
            "grid_gap": null,
            "max_width": null,
            "order": null,
            "_view_module_version": "1.2.0",
            "grid_template_areas": null,
            "object_position": null,
            "object_fit": null,
            "grid_auto_columns": null,
            "margin": null,
            "display": null,
            "left": null
          }
        },
        "0d3fea8332c3472986683471478405fa": {
          "model_module": "@jupyter-widgets/controls",
          "model_name": "HTMLModel",
          "model_module_version": "1.5.0",
          "state": {
            "_view_name": "HTMLView",
            "style": "IPY_MODEL_24bd929884014b0ba084c49adf73d9fc",
            "_dom_classes": [],
            "description": "",
            "_model_name": "HTMLModel",
            "placeholder": "​",
            "_view_module": "@jupyter-widgets/controls",
            "_model_module_version": "1.5.0",
            "value": "Downloading: 100%",
            "_view_count": null,
            "_view_module_version": "1.5.0",
            "description_tooltip": null,
            "_model_module": "@jupyter-widgets/controls",
            "layout": "IPY_MODEL_70344110db4e47ebb5dbfeb34aeb8cfe"
          }
        },
        "9db5106001024d91918183f784f3396d": {
          "model_module": "@jupyter-widgets/controls",
          "model_name": "FloatProgressModel",
          "model_module_version": "1.5.0",
          "state": {
            "_view_name": "ProgressView",
            "style": "IPY_MODEL_8ad78d44e55f4f99ab29cf42373bf427",
            "_dom_classes": [],
            "description": "",
            "_model_name": "FloatProgressModel",
            "bar_style": "success",
            "max": 426,
            "_view_module": "@jupyter-widgets/controls",
            "_model_module_version": "1.5.0",
            "value": 426,
            "_view_count": null,
            "_view_module_version": "1.5.0",
            "orientation": "horizontal",
            "min": 0,
            "description_tooltip": null,
            "_model_module": "@jupyter-widgets/controls",
            "layout": "IPY_MODEL_c7ec24c0298c4bfea17b05ac945ae533"
          }
        },
        "1bbe4b1c217f4d26b743ee8a76d3f255": {
          "model_module": "@jupyter-widgets/controls",
          "model_name": "HTMLModel",
          "model_module_version": "1.5.0",
          "state": {
            "_view_name": "HTMLView",
            "style": "IPY_MODEL_ba74854d145b4108ae3e0b070a225821",
            "_dom_classes": [],
            "description": "",
            "_model_name": "HTMLModel",
            "placeholder": "​",
            "_view_module": "@jupyter-widgets/controls",
            "_model_module_version": "1.5.0",
            "value": " 426/426 [00:00&lt;00:00, 14.4kB/s]",
            "_view_count": null,
            "_view_module_version": "1.5.0",
            "description_tooltip": null,
            "_model_module": "@jupyter-widgets/controls",
            "layout": "IPY_MODEL_4054173362e1468198272fa6a1721d62"
          }
        },
        "24bd929884014b0ba084c49adf73d9fc": {
          "model_module": "@jupyter-widgets/controls",
          "model_name": "DescriptionStyleModel",
          "model_module_version": "1.5.0",
          "state": {
            "_view_name": "StyleView",
            "_model_name": "DescriptionStyleModel",
            "description_width": "",
            "_view_module": "@jupyter-widgets/base",
            "_model_module_version": "1.5.0",
            "_view_count": null,
            "_view_module_version": "1.2.0",
            "_model_module": "@jupyter-widgets/controls"
          }
        },
        "70344110db4e47ebb5dbfeb34aeb8cfe": {
          "model_module": "@jupyter-widgets/base",
          "model_name": "LayoutModel",
          "model_module_version": "1.2.0",
          "state": {
            "_view_name": "LayoutView",
            "grid_template_rows": null,
            "right": null,
            "justify_content": null,
            "_view_module": "@jupyter-widgets/base",
            "overflow": null,
            "_model_module_version": "1.2.0",
            "_view_count": null,
            "flex_flow": null,
            "width": null,
            "min_width": null,
            "border": null,
            "align_items": null,
            "bottom": null,
            "_model_module": "@jupyter-widgets/base",
            "top": null,
            "grid_column": null,
            "overflow_y": null,
            "overflow_x": null,
            "grid_auto_flow": null,
            "grid_area": null,
            "grid_template_columns": null,
            "flex": null,
            "_model_name": "LayoutModel",
            "justify_items": null,
            "grid_row": null,
            "max_height": null,
            "align_content": null,
            "visibility": null,
            "align_self": null,
            "height": null,
            "min_height": null,
            "padding": null,
            "grid_auto_rows": null,
            "grid_gap": null,
            "max_width": null,
            "order": null,
            "_view_module_version": "1.2.0",
            "grid_template_areas": null,
            "object_position": null,
            "object_fit": null,
            "grid_auto_columns": null,
            "margin": null,
            "display": null,
            "left": null
          }
        },
        "8ad78d44e55f4f99ab29cf42373bf427": {
          "model_module": "@jupyter-widgets/controls",
          "model_name": "ProgressStyleModel",
          "model_module_version": "1.5.0",
          "state": {
            "_view_name": "StyleView",
            "_model_name": "ProgressStyleModel",
            "description_width": "",
            "_view_module": "@jupyter-widgets/base",
            "_model_module_version": "1.5.0",
            "_view_count": null,
            "_view_module_version": "1.2.0",
            "bar_color": null,
            "_model_module": "@jupyter-widgets/controls"
          }
        },
        "c7ec24c0298c4bfea17b05ac945ae533": {
          "model_module": "@jupyter-widgets/base",
          "model_name": "LayoutModel",
          "model_module_version": "1.2.0",
          "state": {
            "_view_name": "LayoutView",
            "grid_template_rows": null,
            "right": null,
            "justify_content": null,
            "_view_module": "@jupyter-widgets/base",
            "overflow": null,
            "_model_module_version": "1.2.0",
            "_view_count": null,
            "flex_flow": null,
            "width": null,
            "min_width": null,
            "border": null,
            "align_items": null,
            "bottom": null,
            "_model_module": "@jupyter-widgets/base",
            "top": null,
            "grid_column": null,
            "overflow_y": null,
            "overflow_x": null,
            "grid_auto_flow": null,
            "grid_area": null,
            "grid_template_columns": null,
            "flex": null,
            "_model_name": "LayoutModel",
            "justify_items": null,
            "grid_row": null,
            "max_height": null,
            "align_content": null,
            "visibility": null,
            "align_self": null,
            "height": null,
            "min_height": null,
            "padding": null,
            "grid_auto_rows": null,
            "grid_gap": null,
            "max_width": null,
            "order": null,
            "_view_module_version": "1.2.0",
            "grid_template_areas": null,
            "object_position": null,
            "object_fit": null,
            "grid_auto_columns": null,
            "margin": null,
            "display": null,
            "left": null
          }
        },
        "ba74854d145b4108ae3e0b070a225821": {
          "model_module": "@jupyter-widgets/controls",
          "model_name": "DescriptionStyleModel",
          "model_module_version": "1.5.0",
          "state": {
            "_view_name": "StyleView",
            "_model_name": "DescriptionStyleModel",
            "description_width": "",
            "_view_module": "@jupyter-widgets/base",
            "_model_module_version": "1.5.0",
            "_view_count": null,
            "_view_module_version": "1.2.0",
            "_model_module": "@jupyter-widgets/controls"
          }
        },
        "4054173362e1468198272fa6a1721d62": {
          "model_module": "@jupyter-widgets/base",
          "model_name": "LayoutModel",
          "model_module_version": "1.2.0",
          "state": {
            "_view_name": "LayoutView",
            "grid_template_rows": null,
            "right": null,
            "justify_content": null,
            "_view_module": "@jupyter-widgets/base",
            "overflow": null,
            "_model_module_version": "1.2.0",
            "_view_count": null,
            "flex_flow": null,
            "width": null,
            "min_width": null,
            "border": null,
            "align_items": null,
            "bottom": null,
            "_model_module": "@jupyter-widgets/base",
            "top": null,
            "grid_column": null,
            "overflow_y": null,
            "overflow_x": null,
            "grid_auto_flow": null,
            "grid_area": null,
            "grid_template_columns": null,
            "flex": null,
            "_model_name": "LayoutModel",
            "justify_items": null,
            "grid_row": null,
            "max_height": null,
            "align_content": null,
            "visibility": null,
            "align_self": null,
            "height": null,
            "min_height": null,
            "padding": null,
            "grid_auto_rows": null,
            "grid_gap": null,
            "max_width": null,
            "order": null,
            "_view_module_version": "1.2.0",
            "grid_template_areas": null,
            "object_position": null,
            "object_fit": null,
            "grid_auto_columns": null,
            "margin": null,
            "display": null,
            "left": null
          }
        }
      }
    }
  },
  "cells": [
    {
      "cell_type": "markdown",
      "metadata": {
        "id": "view-in-github",
        "colab_type": "text"
      },
      "source": [
        "<a href=\"https://colab.research.google.com/github/SeunghyeChae/CAKD3_tmdhey/blob/main/13.%20%EB%94%A5%EB%9F%AC%EB%8B%9D/dl_bert%EC%8B%A4%EC%8A%B5_kobert.ipynb\" target=\"_parent\"><img src=\"https://colab.research.google.com/assets/colab-badge.svg\" alt=\"Open In Colab\"/></a>"
      ]
    },
    {
      "cell_type": "markdown",
      "metadata": {
        "id": "Bmtcx5rVY-l0"
      },
      "source": [
        "한글 데이터를 분석하려면, 100개가 넘는 언어에 대해 훈련된 버트를 사용해야합니다. \n",
        "이번에는 한국어 데이터로 훈련되었고, SKT에서 만든 KoBERT를 사용하도록 하겠습니다.\n",
        "모델을 로드하기에 앞서, 토크나이저를 불러오도록 하겠습니다.\n",
        "huggingface 에서는 아주 쉽게 토크나이저를 불러올 수 있습니다.\n",
        "http://github,com.monologg/KoBERT_NER에서 kober를 tokenize할 수 있는 코드를 가져왔습니다. \n"
      ]
    },
    {
      "cell_type": "code",
      "metadata": {
        "id": "20gOw34EgEil"
      },
      "source": [
        "#     \"monologg/kobert-lm\": {\"do_lower_case\": False},\n",
        "#     \"monologg/distilkobert\": {\"do_lower_case\": False}\n",
        "# }\n",
        "\n",
        "# SPIECE_UNDERLINE = u'▁'\n",
        "\n",
        "\n",
        "# class KoBertTokenizer(PreTrainedTokenizer):\n",
        "#     \"\"\"\n",
        "#         SentencePiece based tokenizer. Peculiarities:\n",
        "#             - requires `SentencePiece <https://github.com/google/sentencepiece>`_\n",
        "#     \"\"\"\n",
        "#     vocab_files_names = VOCAB_FILES_NAMES\n",
        "#     pretrained_vocab_files_map = PRETRAINED_VOCAB_FILES_MAP\n",
        "#     pretrained_init_configuration = PRETRAINED_INIT_CONFIGURATION\n",
        "#     max_model_input_sizes = PRETRAINED_POSITIONAL_EMBEDDINGS_SIZES\n",
        "\n",
        "#     def __init__(\n",
        "#             self,\n",
        "#             vocab_file,\n",
        "#             vocab_txt,\n",
        "#             do_lower_case=False,\n",
        "#             remove_space=True,\n",
        "#             keep_accents=False,\n",
        "#             unk_token=\"[UNK]\",\n",
        "#             sep_token=\"[SEP]\",\n",
        "#             pad_token=\"[PAD]\",\n",
        "#             cls_token=\"[CLS]\",\n",
        "#             mask_token=\"[MASK]\",\n",
        "#             **kwargs):\n",
        "#         super().__init__(\n",
        "#             unk_token=unk_token,\n",
        "#             sep_token=sep_token,\n",
        "#             pad_token=pad_token,\n",
        "#             cls_token=cls_token,\n",
        "#             mask_token=mask_token,\n",
        "#             **kwargs\n",
        "#         )\n",
        "\n",
        "#         # Build vocab\n",
        "#         self.token2idx = dict()\n",
        "#         self.idx2token = []\n",
        "#         with open(vocab_txt, 'r', encoding='utf-8') as f:\n",
        "#             for idx, token in enumerate(f):\n",
        "#                 token = token.strip()\n",
        "#                 self.token2idx[token] = idx\n",
        "#                 self.idx2token.append(token)\n",
        "\n",
        "#         try:\n",
        "#             import sentencepiece as spm\n",
        "#         except ImportError:\n",
        "#             logger.warning(\"You need to install SentencePiece to use KoBertTokenizer: https://github.com/google/sentencepiece\"\n",
        "#                            \"pip install sentencepiece\")\n",
        "\n",
        "#         self.do_lower_case = do_lower_case\n",
        "#         self.remove_space = remove_space\n",
        "#         self.keep_accents = keep_accents\n",
        "#         self.vocab_file = vocab_file\n",
        "#         self.vocab_txt = vocab_txt\n",
        "\n",
        "#         self.sp_model = spm.SentencePieceProcessor()\n",
        "#         self.sp_model.Load(vocab_file)\n",
        "\n",
        "#     @property\n",
        "#     def vocab_size(self):\n",
        "#         return len(self.idx2token)\n",
        "\n",
        "#     def get_vocab(self):\n",
        "#         return dict(self.token2idx, **self.added_tokens_encoder)\n",
        "\n",
        "#     def __getstate__(self):\n",
        "#         state = self.__dict__.copy()\n",
        "#         state[\"sp_model\"] = None\n",
        "#         return state\n",
        "\n",
        "#     def __setstate__(self, d):\n",
        "#         self.__dict__ = d\n",
        "#         try:\n",
        "#             import sentencepiece as spm\n",
        "#         except ImportError:\n",
        "#             logger.warning(\"You need to install SentencePiece to use KoBertTokenizer: https://github.com/google/sentencepiece\"\n",
        "#                            \"pip install sentencepiece\")\n",
        "#         self.sp_model = spm.SentencePieceProcessor()\n",
        "#         self.sp_model.Load(self.vocab_file)\n",
        "\n",
        "#     def preprocess_text(self, inputs):\n",
        "#         if self.remove_space:\n",
        "#             outputs = \" \".join(inputs.strip().split())\n",
        "#         else:\n",
        "#             outputs = inputs\n",
        "#         outputs = outputs.replace(\"``\", '\"').replace(\"''\", '\"')\n",
        "\n",
        "#         if not self.keep_accents:\n",
        "#             outputs = unicodedata.normalize('NFKD', outputs)\n",
        "#             outputs = \"\".join([c for c in outputs if not unicodedata.combining(c)])\n",
        "#         if self.do_lower_case:\n",
        "#             outputs = outputs.lower()\n",
        "\n",
        "#         return outputs\n",
        "\n",
        "#     def _tokenize(self, text, return_unicode=True, sample=False):\n",
        "#         \"\"\" Tokenize a string. \"\"\"\n",
        "#         text = self.preprocess_text(text)\n",
        "\n",
        "#         if not sample:\n",
        "#             pieces = self.sp_model.EncodeAsPieces(text)\n",
        "#         else:\n",
        "#             pieces = self.sp_model.SampleEncodeAsPieces(text, 64, 0.1)\n",
        "#         new_pieces = []\n",
        "#         for piece in pieces:\n",
        "#             if len(piece) > 1 and piece[-1] == str(\",\") and piece[-2].isdigit():\n",
        "#                 cur_pieces = self.sp_model.EncodeAsPieces(piece[:-1].replace(SPIECE_UNDERLINE, \"\"))\n",
        "#                 if piece[0] != SPIECE_UNDERLINE and cur_pieces[0][0] == SPIECE_UNDERLINE:\n",
        "#                     if len(cur_pieces[0]) == 1:\n",
        "#                         cur_pieces = cur_pieces[1:]\n",
        "#                     else:\n",
        "#                         cur_pieces[0] = cur_pieces[0][1:]\n",
        "#                 cur_pieces.append(piece[-1])\n",
        "#                 new_pieces.extend(cur_pieces)\n",
        "#             else:\n",
        "#                 new_pieces.append(piece)\n",
        "\n",
        "#         return new_pieces\n",
        "\n",
        "#     def _convert_token_to_id(self, token):\n",
        "#         \"\"\" Converts a token (str/unicode) in an id using the vocab. \"\"\"\n",
        "#         return self.token2idx.get(token, self.token2idx[self.unk_token])\n",
        "\n",
        "#     def _convert_id_to_token(self, index, return_unicode=True):\n",
        "#         \"\"\"Converts an index (integer) in a token (string/unicode) using the vocab.\"\"\"\n",
        "#         return self.idx2token[index]\n",
        "\n",
        "#     def convert_tokens_to_string(self, tokens):\n",
        "#         \"\"\"Converts a sequence of tokens (strings for sub-words) in a single string.\"\"\"\n",
        "#         out_string = \"\".join(tokens).replace(SPIECE_UNDERLINE, \" \").strip()\n",
        "#         return out_string\n",
        "\n",
        "#     def build_inputs_with_special_tokens(self, token_ids_0, token_ids_1=None):\n",
        "#         \"\"\"\n",
        "#         Build model inputs from a sequence or a pair of sequence for sequence classification tasks\n",
        "#         by concatenating and adding special tokens.\n",
        "#         A KoBERT sequence has the following format:\n",
        "#             single sequence: [CLS] X [SEP]\n",
        "#             pair of sequences: [CLS] A [SEP] B [SEP]\n",
        "#         \"\"\"\n",
        "#         if token_ids_1 is None:\n",
        "#             return [self.cls_token_id] + token_ids_0 + [self.sep_token_id]\n",
        "#         cls = [self.cls_token_id]\n",
        "#         sep = [self.sep_token_id]\n",
        "#         return cls + token_ids_0 + sep + token_ids_1 + sep\n",
        "\n",
        "#     def get_special_tokens_mask(self, token_ids_0, token_ids_1=None, already_has_special_tokens=False):\n",
        "#         \"\"\"\n",
        "#         Retrieves sequence ids from a token list that has no special tokens added. This method is called when adding\n",
        "#         special tokens using the tokenizer ``prepare_for_model`` or ``encode_plus`` methods.\n",
        "#         Args:\n",
        "#             token_ids_0: list of ids (must not contain special tokens)\n",
        "#             token_ids_1: Optional list of ids (must not contain special tokens), necessary when fetching sequence ids\n",
        "#                 for sequence pairs\n",
        "#             already_has_special_tokens: (default False) Set to True if the token list is already formated with\n",
        "#                 special tokens for the model\n",
        "#         Returns:\n",
        "#             A list of integers in the range [0, 1]: 0 for a special token, 1 for a sequence token.\n",
        "#         \"\"\"\n",
        "\n",
        "#         if already_has_special_tokens:\n",
        "#             if token_ids_1 is not None:\n",
        "#                 raise ValueError(\n",
        "#                     \"You should not supply a second sequence if the provided sequence of \"\n",
        "#                     \"ids is already formated with special tokens for the model.\"\n",
        "#                 )\n",
        "#             return list(map(lambda x: 1 if x in [self.sep_token_id, self.cls_token_id] else 0, token_ids_0))\n",
        "\n",
        "#         if token_ids_1 is not None:\n",
        "#             return [1] + ([0] * len(token_ids_0)) + [1] + ([0] * len(token_ids_1)) + [1]\n",
        "#         return [1] + ([0] * len(token_ids_0)) + [1]\n",
        "\n",
        "#     def create_token_type_ids_from_sequences(self, token_ids_0, token_ids_1=None):\n",
        "#         \"\"\"\n",
        "#         Creates a mask from the two sequences passed to be used in a sequence-pair classification task.\n",
        "#         A KoBERT sequence pair mask has the following format:\n",
        "#         0 0 0 0 0 0 0 0 0 0 1 1 1 1 1 1 1 1 1 1 1\n",
        "#         | first sequence    | second sequence\n",
        "#         if token_ids_1 is None, only returns the first portion of the mask (0's).\n",
        "#         \"\"\"\n",
        "#         sep = [self.sep_token_id]\n",
        "#         cls = [self.cls_token_id]\n",
        "#         if token_ids_1 is None:\n",
        "#             return len(cls + token_ids_0 + sep) * [0]\n",
        "#         return len(cls + token_ids_0 + sep) * [0] + len(token_ids_1 + sep) * [1]\n",
        "\n",
        "#     def save_vocabulary(self, save_directory):\n",
        "#         \"\"\" Save the sentencepiece vocabulary (copy original file) and special tokens file\n",
        "#             to a directory.\n",
        "#         \"\"\"\n",
        "#         if not os.path.isdir(save_directory):\n",
        "#             logger.error(\"Vocabulary path ({}) should be a directory\".format(save_directory))\n",
        "#             return\n",
        "\n",
        "#         # 1. Save sentencepiece model\n",
        "#         out_vocab_model = os.path.join(save_directory, VOCAB_FILES_NAMES[\"vocab_file\"])\n",
        "\n",
        "#         if os.path.abspath(self.vocab_file) != os.path.abspath(out_vocab_model):\n",
        "#             copyfile(self.vocab_file, out_vocab_model)\n",
        "\n",
        "#         # 2. Save vocab.txt\n",
        "#         index = 0\n",
        "#         out_vocab_txt = os.path.join(save_directory, VOCAB_FILES_NAMES[\"vocab_txt\"])\n",
        "#         with open(out_vocab_txt, \"w\", encoding=\"utf-8\") as writer:\n",
        "#             for token, token_index in sorted(self.token2idx.items(), key=lambda kv: kv[1]):\n",
        "#                 if index != token_index:\n",
        "#                     logger.warning(\n",
        "#                         \"Saving vocabulary to {}: vocabulary indices are not consecutive.\"\n",
        "#                         \" Please check that the vocabulary is not corrupted!\".format(out_vocab_txt)\n",
        "#                     )\n",
        "#                     index = token_index\n",
        "#                 writer.write(token + \"\\n\")\n",
        "#                 index += 1\n",
        "\n",
        "#         return out_vocab_model, out_vocab_txt"
      ],
      "execution_count": 10,
      "outputs": []
    },
    {
      "cell_type": "code",
      "metadata": {
        "colab": {
          "base_uri": "https://localhost:8080/"
        },
        "id": "IkbTtHCteoo2",
        "outputId": "e47d7c95-2ee2-4732-fb3f-2496375d9bf9"
      },
      "source": [
        "!pip install transformers"
      ],
      "execution_count": 2,
      "outputs": [
        {
          "output_type": "stream",
          "name": "stdout",
          "text": [
            "Collecting transformers\n",
            "  Downloading transformers-4.12.3-py3-none-any.whl (3.1 MB)\n",
            "\u001b[K     |████████████████████████████████| 3.1 MB 4.1 MB/s \n",
            "\u001b[?25hCollecting pyyaml>=5.1\n",
            "  Downloading PyYAML-6.0-cp37-cp37m-manylinux_2_5_x86_64.manylinux1_x86_64.manylinux_2_12_x86_64.manylinux2010_x86_64.whl (596 kB)\n",
            "\u001b[K     |████████████████████████████████| 596 kB 64.1 MB/s \n",
            "\u001b[?25hCollecting huggingface-hub<1.0,>=0.1.0\n",
            "  Downloading huggingface_hub-0.1.0-py3-none-any.whl (59 kB)\n",
            "\u001b[K     |████████████████████████████████| 59 kB 9.6 MB/s \n",
            "\u001b[?25hCollecting tokenizers<0.11,>=0.10.1\n",
            "  Downloading tokenizers-0.10.3-cp37-cp37m-manylinux_2_5_x86_64.manylinux1_x86_64.manylinux_2_12_x86_64.manylinux2010_x86_64.whl (3.3 MB)\n",
            "\u001b[K     |████████████████████████████████| 3.3 MB 35.3 MB/s \n",
            "\u001b[?25hRequirement already satisfied: packaging>=20.0 in /usr/local/lib/python3.7/dist-packages (from transformers) (21.0)\n",
            "Requirement already satisfied: regex!=2019.12.17 in /usr/local/lib/python3.7/dist-packages (from transformers) (2019.12.20)\n",
            "Requirement already satisfied: numpy>=1.17 in /usr/local/lib/python3.7/dist-packages (from transformers) (1.19.5)\n",
            "Requirement already satisfied: importlib-metadata in /usr/local/lib/python3.7/dist-packages (from transformers) (4.8.1)\n",
            "Requirement already satisfied: tqdm>=4.27 in /usr/local/lib/python3.7/dist-packages (from transformers) (4.62.3)\n",
            "Collecting sacremoses\n",
            "  Downloading sacremoses-0.0.46-py3-none-any.whl (895 kB)\n",
            "\u001b[K     |████████████████████████████████| 895 kB 64.8 MB/s \n",
            "\u001b[?25hRequirement already satisfied: filelock in /usr/local/lib/python3.7/dist-packages (from transformers) (3.3.0)\n",
            "Requirement already satisfied: requests in /usr/local/lib/python3.7/dist-packages (from transformers) (2.23.0)\n",
            "Requirement already satisfied: typing-extensions in /usr/local/lib/python3.7/dist-packages (from huggingface-hub<1.0,>=0.1.0->transformers) (3.7.4.3)\n",
            "Requirement already satisfied: pyparsing>=2.0.2 in /usr/local/lib/python3.7/dist-packages (from packaging>=20.0->transformers) (2.4.7)\n",
            "Requirement already satisfied: zipp>=0.5 in /usr/local/lib/python3.7/dist-packages (from importlib-metadata->transformers) (3.6.0)\n",
            "Requirement already satisfied: idna<3,>=2.5 in /usr/local/lib/python3.7/dist-packages (from requests->transformers) (2.10)\n",
            "Requirement already satisfied: certifi>=2017.4.17 in /usr/local/lib/python3.7/dist-packages (from requests->transformers) (2021.5.30)\n",
            "Requirement already satisfied: urllib3!=1.25.0,!=1.25.1,<1.26,>=1.21.1 in /usr/local/lib/python3.7/dist-packages (from requests->transformers) (1.24.3)\n",
            "Requirement already satisfied: chardet<4,>=3.0.2 in /usr/local/lib/python3.7/dist-packages (from requests->transformers) (3.0.4)\n",
            "Requirement already satisfied: click in /usr/local/lib/python3.7/dist-packages (from sacremoses->transformers) (7.1.2)\n",
            "Requirement already satisfied: joblib in /usr/local/lib/python3.7/dist-packages (from sacremoses->transformers) (1.0.1)\n",
            "Requirement already satisfied: six in /usr/local/lib/python3.7/dist-packages (from sacremoses->transformers) (1.15.0)\n",
            "Installing collected packages: pyyaml, tokenizers, sacremoses, huggingface-hub, transformers\n",
            "  Attempting uninstall: pyyaml\n",
            "    Found existing installation: PyYAML 3.13\n",
            "    Uninstalling PyYAML-3.13:\n",
            "      Successfully uninstalled PyYAML-3.13\n",
            "Successfully installed huggingface-hub-0.1.0 pyyaml-6.0 sacremoses-0.0.46 tokenizers-0.10.3 transformers-4.12.3\n"
          ]
        }
      ]
    },
    {
      "cell_type": "code",
      "metadata": {
        "colab": {
          "base_uri": "https://localhost:8080/"
        },
        "id": "6ZlwhWq0eYz2",
        "outputId": "055f3a13-c6c6-4e0d-ee68-8a4a99a15012"
      },
      "source": [
        "!pip install sentencepiece"
      ],
      "execution_count": 1,
      "outputs": [
        {
          "output_type": "stream",
          "name": "stdout",
          "text": [
            "Collecting sentencepiece\n",
            "  Downloading sentencepiece-0.1.96-cp37-cp37m-manylinux_2_17_x86_64.manylinux2014_x86_64.whl (1.2 MB)\n",
            "\u001b[?25l\r\u001b[K     |▎                               | 10 kB 35.8 MB/s eta 0:00:01\r\u001b[K     |▌                               | 20 kB 8.2 MB/s eta 0:00:01\r\u001b[K     |▉                               | 30 kB 7.6 MB/s eta 0:00:01\r\u001b[K     |█                               | 40 kB 7.3 MB/s eta 0:00:01\r\u001b[K     |█▍                              | 51 kB 4.1 MB/s eta 0:00:01\r\u001b[K     |█▋                              | 61 kB 4.4 MB/s eta 0:00:01\r\u001b[K     |██                              | 71 kB 4.4 MB/s eta 0:00:01\r\u001b[K     |██▏                             | 81 kB 5.0 MB/s eta 0:00:01\r\u001b[K     |██▍                             | 92 kB 5.1 MB/s eta 0:00:01\r\u001b[K     |██▊                             | 102 kB 4.1 MB/s eta 0:00:01\r\u001b[K     |███                             | 112 kB 4.1 MB/s eta 0:00:01\r\u001b[K     |███▎                            | 122 kB 4.1 MB/s eta 0:00:01\r\u001b[K     |███▌                            | 133 kB 4.1 MB/s eta 0:00:01\r\u001b[K     |███▉                            | 143 kB 4.1 MB/s eta 0:00:01\r\u001b[K     |████                            | 153 kB 4.1 MB/s eta 0:00:01\r\u001b[K     |████▎                           | 163 kB 4.1 MB/s eta 0:00:01\r\u001b[K     |████▋                           | 174 kB 4.1 MB/s eta 0:00:01\r\u001b[K     |████▉                           | 184 kB 4.1 MB/s eta 0:00:01\r\u001b[K     |█████▏                          | 194 kB 4.1 MB/s eta 0:00:01\r\u001b[K     |█████▍                          | 204 kB 4.1 MB/s eta 0:00:01\r\u001b[K     |█████▊                          | 215 kB 4.1 MB/s eta 0:00:01\r\u001b[K     |██████                          | 225 kB 4.1 MB/s eta 0:00:01\r\u001b[K     |██████▏                         | 235 kB 4.1 MB/s eta 0:00:01\r\u001b[K     |██████▌                         | 245 kB 4.1 MB/s eta 0:00:01\r\u001b[K     |██████▊                         | 256 kB 4.1 MB/s eta 0:00:01\r\u001b[K     |███████                         | 266 kB 4.1 MB/s eta 0:00:01\r\u001b[K     |███████▎                        | 276 kB 4.1 MB/s eta 0:00:01\r\u001b[K     |███████▋                        | 286 kB 4.1 MB/s eta 0:00:01\r\u001b[K     |███████▉                        | 296 kB 4.1 MB/s eta 0:00:01\r\u001b[K     |████████                        | 307 kB 4.1 MB/s eta 0:00:01\r\u001b[K     |████████▍                       | 317 kB 4.1 MB/s eta 0:00:01\r\u001b[K     |████████▋                       | 327 kB 4.1 MB/s eta 0:00:01\r\u001b[K     |█████████                       | 337 kB 4.1 MB/s eta 0:00:01\r\u001b[K     |█████████▏                      | 348 kB 4.1 MB/s eta 0:00:01\r\u001b[K     |█████████▌                      | 358 kB 4.1 MB/s eta 0:00:01\r\u001b[K     |█████████▊                      | 368 kB 4.1 MB/s eta 0:00:01\r\u001b[K     |██████████                      | 378 kB 4.1 MB/s eta 0:00:01\r\u001b[K     |██████████▎                     | 389 kB 4.1 MB/s eta 0:00:01\r\u001b[K     |██████████▌                     | 399 kB 4.1 MB/s eta 0:00:01\r\u001b[K     |██████████▉                     | 409 kB 4.1 MB/s eta 0:00:01\r\u001b[K     |███████████                     | 419 kB 4.1 MB/s eta 0:00:01\r\u001b[K     |███████████▍                    | 430 kB 4.1 MB/s eta 0:00:01\r\u001b[K     |███████████▋                    | 440 kB 4.1 MB/s eta 0:00:01\r\u001b[K     |███████████▉                    | 450 kB 4.1 MB/s eta 0:00:01\r\u001b[K     |████████████▏                   | 460 kB 4.1 MB/s eta 0:00:01\r\u001b[K     |████████████▍                   | 471 kB 4.1 MB/s eta 0:00:01\r\u001b[K     |████████████▊                   | 481 kB 4.1 MB/s eta 0:00:01\r\u001b[K     |█████████████                   | 491 kB 4.1 MB/s eta 0:00:01\r\u001b[K     |█████████████▎                  | 501 kB 4.1 MB/s eta 0:00:01\r\u001b[K     |█████████████▌                  | 512 kB 4.1 MB/s eta 0:00:01\r\u001b[K     |█████████████▊                  | 522 kB 4.1 MB/s eta 0:00:01\r\u001b[K     |██████████████                  | 532 kB 4.1 MB/s eta 0:00:01\r\u001b[K     |██████████████▎                 | 542 kB 4.1 MB/s eta 0:00:01\r\u001b[K     |██████████████▋                 | 552 kB 4.1 MB/s eta 0:00:01\r\u001b[K     |██████████████▉                 | 563 kB 4.1 MB/s eta 0:00:01\r\u001b[K     |███████████████▏                | 573 kB 4.1 MB/s eta 0:00:01\r\u001b[K     |███████████████▍                | 583 kB 4.1 MB/s eta 0:00:01\r\u001b[K     |███████████████▋                | 593 kB 4.1 MB/s eta 0:00:01\r\u001b[K     |████████████████                | 604 kB 4.1 MB/s eta 0:00:01\r\u001b[K     |████████████████▏               | 614 kB 4.1 MB/s eta 0:00:01\r\u001b[K     |████████████████▌               | 624 kB 4.1 MB/s eta 0:00:01\r\u001b[K     |████████████████▊               | 634 kB 4.1 MB/s eta 0:00:01\r\u001b[K     |█████████████████               | 645 kB 4.1 MB/s eta 0:00:01\r\u001b[K     |█████████████████▎              | 655 kB 4.1 MB/s eta 0:00:01\r\u001b[K     |█████████████████▌              | 665 kB 4.1 MB/s eta 0:00:01\r\u001b[K     |█████████████████▉              | 675 kB 4.1 MB/s eta 0:00:01\r\u001b[K     |██████████████████              | 686 kB 4.1 MB/s eta 0:00:01\r\u001b[K     |██████████████████▍             | 696 kB 4.1 MB/s eta 0:00:01\r\u001b[K     |██████████████████▋             | 706 kB 4.1 MB/s eta 0:00:01\r\u001b[K     |███████████████████             | 716 kB 4.1 MB/s eta 0:00:01\r\u001b[K     |███████████████████▏            | 727 kB 4.1 MB/s eta 0:00:01\r\u001b[K     |███████████████████▍            | 737 kB 4.1 MB/s eta 0:00:01\r\u001b[K     |███████████████████▊            | 747 kB 4.1 MB/s eta 0:00:01\r\u001b[K     |████████████████████            | 757 kB 4.1 MB/s eta 0:00:01\r\u001b[K     |████████████████████▎           | 768 kB 4.1 MB/s eta 0:00:01\r\u001b[K     |████████████████████▌           | 778 kB 4.1 MB/s eta 0:00:01\r\u001b[K     |████████████████████▉           | 788 kB 4.1 MB/s eta 0:00:01\r\u001b[K     |█████████████████████           | 798 kB 4.1 MB/s eta 0:00:01\r\u001b[K     |█████████████████████▎          | 808 kB 4.1 MB/s eta 0:00:01\r\u001b[K     |█████████████████████▋          | 819 kB 4.1 MB/s eta 0:00:01\r\u001b[K     |█████████████████████▉          | 829 kB 4.1 MB/s eta 0:00:01\r\u001b[K     |██████████████████████▏         | 839 kB 4.1 MB/s eta 0:00:01\r\u001b[K     |██████████████████████▍         | 849 kB 4.1 MB/s eta 0:00:01\r\u001b[K     |██████████████████████▊         | 860 kB 4.1 MB/s eta 0:00:01\r\u001b[K     |███████████████████████         | 870 kB 4.1 MB/s eta 0:00:01\r\u001b[K     |███████████████████████▏        | 880 kB 4.1 MB/s eta 0:00:01\r\u001b[K     |███████████████████████▌        | 890 kB 4.1 MB/s eta 0:00:01\r\u001b[K     |███████████████████████▊        | 901 kB 4.1 MB/s eta 0:00:01\r\u001b[K     |████████████████████████        | 911 kB 4.1 MB/s eta 0:00:01\r\u001b[K     |████████████████████████▎       | 921 kB 4.1 MB/s eta 0:00:01\r\u001b[K     |████████████████████████▋       | 931 kB 4.1 MB/s eta 0:00:01\r\u001b[K     |████████████████████████▉       | 942 kB 4.1 MB/s eta 0:00:01\r\u001b[K     |█████████████████████████       | 952 kB 4.1 MB/s eta 0:00:01\r\u001b[K     |█████████████████████████▍      | 962 kB 4.1 MB/s eta 0:00:01\r\u001b[K     |█████████████████████████▋      | 972 kB 4.1 MB/s eta 0:00:01\r\u001b[K     |██████████████████████████      | 983 kB 4.1 MB/s eta 0:00:01\r\u001b[K     |██████████████████████████▏     | 993 kB 4.1 MB/s eta 0:00:01\r\u001b[K     |██████████████████████████▌     | 1.0 MB 4.1 MB/s eta 0:00:01\r\u001b[K     |██████████████████████████▊     | 1.0 MB 4.1 MB/s eta 0:00:01\r\u001b[K     |███████████████████████████     | 1.0 MB 4.1 MB/s eta 0:00:01\r\u001b[K     |███████████████████████████▎    | 1.0 MB 4.1 MB/s eta 0:00:01\r\u001b[K     |███████████████████████████▌    | 1.0 MB 4.1 MB/s eta 0:00:01\r\u001b[K     |███████████████████████████▉    | 1.1 MB 4.1 MB/s eta 0:00:01\r\u001b[K     |████████████████████████████    | 1.1 MB 4.1 MB/s eta 0:00:01\r\u001b[K     |████████████████████████████▍   | 1.1 MB 4.1 MB/s eta 0:00:01\r\u001b[K     |████████████████████████████▋   | 1.1 MB 4.1 MB/s eta 0:00:01\r\u001b[K     |████████████████████████████▉   | 1.1 MB 4.1 MB/s eta 0:00:01\r\u001b[K     |█████████████████████████████▏  | 1.1 MB 4.1 MB/s eta 0:00:01\r\u001b[K     |█████████████████████████████▍  | 1.1 MB 4.1 MB/s eta 0:00:01\r\u001b[K     |█████████████████████████████▊  | 1.1 MB 4.1 MB/s eta 0:00:01\r\u001b[K     |██████████████████████████████  | 1.1 MB 4.1 MB/s eta 0:00:01\r\u001b[K     |██████████████████████████████▎ | 1.1 MB 4.1 MB/s eta 0:00:01\r\u001b[K     |██████████████████████████████▌ | 1.2 MB 4.1 MB/s eta 0:00:01\r\u001b[K     |██████████████████████████████▊ | 1.2 MB 4.1 MB/s eta 0:00:01\r\u001b[K     |███████████████████████████████ | 1.2 MB 4.1 MB/s eta 0:00:01\r\u001b[K     |███████████████████████████████▎| 1.2 MB 4.1 MB/s eta 0:00:01\r\u001b[K     |███████████████████████████████▋| 1.2 MB 4.1 MB/s eta 0:00:01\r\u001b[K     |███████████████████████████████▉| 1.2 MB 4.1 MB/s eta 0:00:01\r\u001b[K     |████████████████████████████████| 1.2 MB 4.1 MB/s \n",
            "\u001b[?25hInstalling collected packages: sentencepiece\n",
            "Successfully installed sentencepiece-0.1.96\n"
          ]
        }
      ]
    },
    {
      "cell_type": "code",
      "metadata": {
        "id": "dfBqaC5nec2I"
      },
      "source": [
        "import tensorflow as tf\n",
        "import numpy as np\n",
        "import pandas as pd\n",
        "from transformers import *\n",
        "import json\n",
        "import numpy as np\n",
        "import pandas as pd\n",
        "from tqdm import tqdm\n",
        "import os\n",
        "import sentencepiece as spm\n"
      ],
      "execution_count": 3,
      "outputs": []
    },
    {
      "cell_type": "code",
      "metadata": {
        "colab": {
          "base_uri": "https://localhost:8080/"
        },
        "id": "e8ywSqazeu5p",
        "outputId": "af3327db-fbd2-4c3b-d2e8-3f07c7014e8a"
      },
      "source": [
        "import os\n",
        "from google.colab import drive\n",
        "drive.mount('/content/gdrive/')"
      ],
      "execution_count": 4,
      "outputs": [
        {
          "output_type": "stream",
          "name": "stdout",
          "text": [
            "Mounted at /content/gdrive/\n"
          ]
        }
      ]
    },
    {
      "cell_type": "code",
      "metadata": {
        "colab": {
          "base_uri": "https://localhost:8080/"
        },
        "id": "IaW6LN5ce6IA",
        "outputId": "b87eec55-87d8-4394-be3a-daadc5bd91da"
      },
      "source": [
        "# 네이버 영화 감성분석 데이터 다운로드\n",
        "!git clone https://github.com/e9t/nsmc.git"
      ],
      "execution_count": 5,
      "outputs": [
        {
          "output_type": "stream",
          "name": "stdout",
          "text": [
            "Cloning into 'nsmc'...\n",
            "remote: Enumerating objects: 14763, done.\u001b[K\n",
            "remote: Total 14763 (delta 0), reused 0 (delta 0), pack-reused 14763\u001b[K\n",
            "Receiving objects: 100% (14763/14763), 56.19 MiB | 10.97 MiB/s, done.\n",
            "Resolving deltas: 100% (1749/1749), done.\n",
            "Checking out files: 100% (14737/14737), done.\n"
          ]
        }
      ]
    },
    {
      "cell_type": "code",
      "metadata": {
        "colab": {
          "base_uri": "https://localhost:8080/"
        },
        "id": "f4b3p_zte9A1",
        "outputId": "4811646e-f3c1-4e3d-a63a-5ec91af8fca6"
      },
      "source": [
        "os.listdir('nsmc')"
      ],
      "execution_count": 6,
      "outputs": [
        {
          "output_type": "execute_result",
          "data": {
            "text/plain": [
              "['ratings_train.txt',\n",
              " '.git',\n",
              " 'synopses.json',\n",
              " 'ratings.txt',\n",
              " 'ratings_test.txt',\n",
              " 'raw',\n",
              " 'README.md',\n",
              " 'code']"
            ]
          },
          "metadata": {},
          "execution_count": 6
        }
      ]
    },
    {
      "cell_type": "code",
      "metadata": {
        "colab": {
          "base_uri": "https://localhost:8080/",
          "height": 202
        },
        "id": "pWWGw8rsfYq9",
        "outputId": "445c62ad-72e5-453b-abc5-04300b757019"
      },
      "source": [
        "train = pd.read_table(\"nsmc/\"+\"ratings_train.txt\")\n",
        "test = pd.read_table(\"nsmc/\"+\"ratings_test.txt\")\n",
        "train.head()"
      ],
      "execution_count": 9,
      "outputs": [
        {
          "output_type": "execute_result",
          "data": {
            "text/html": [
              "<div>\n",
              "<style scoped>\n",
              "    .dataframe tbody tr th:only-of-type {\n",
              "        vertical-align: middle;\n",
              "    }\n",
              "\n",
              "    .dataframe tbody tr th {\n",
              "        vertical-align: top;\n",
              "    }\n",
              "\n",
              "    .dataframe thead th {\n",
              "        text-align: right;\n",
              "    }\n",
              "</style>\n",
              "<table border=\"1\" class=\"dataframe\">\n",
              "  <thead>\n",
              "    <tr style=\"text-align: right;\">\n",
              "      <th></th>\n",
              "      <th>id</th>\n",
              "      <th>document</th>\n",
              "      <th>label</th>\n",
              "    </tr>\n",
              "  </thead>\n",
              "  <tbody>\n",
              "    <tr>\n",
              "      <th>0</th>\n",
              "      <td>9976970</td>\n",
              "      <td>아 더빙.. 진짜 짜증나네요 목소리</td>\n",
              "      <td>0</td>\n",
              "    </tr>\n",
              "    <tr>\n",
              "      <th>1</th>\n",
              "      <td>3819312</td>\n",
              "      <td>흠...포스터보고 초딩영화줄....오버연기조차 가볍지 않구나</td>\n",
              "      <td>1</td>\n",
              "    </tr>\n",
              "    <tr>\n",
              "      <th>2</th>\n",
              "      <td>10265843</td>\n",
              "      <td>너무재밓었다그래서보는것을추천한다</td>\n",
              "      <td>0</td>\n",
              "    </tr>\n",
              "    <tr>\n",
              "      <th>3</th>\n",
              "      <td>9045019</td>\n",
              "      <td>교도소 이야기구먼 ..솔직히 재미는 없다..평점 조정</td>\n",
              "      <td>0</td>\n",
              "    </tr>\n",
              "    <tr>\n",
              "      <th>4</th>\n",
              "      <td>6483659</td>\n",
              "      <td>사이몬페그의 익살스런 연기가 돋보였던 영화!스파이더맨에서 늙어보이기만 했던 커스틴 ...</td>\n",
              "      <td>1</td>\n",
              "    </tr>\n",
              "  </tbody>\n",
              "</table>\n",
              "</div>"
            ],
            "text/plain": [
              "         id                                           document  label\n",
              "0   9976970                                아 더빙.. 진짜 짜증나네요 목소리      0\n",
              "1   3819312                  흠...포스터보고 초딩영화줄....오버연기조차 가볍지 않구나      1\n",
              "2  10265843                                  너무재밓었다그래서보는것을추천한다      0\n",
              "3   9045019                      교도소 이야기구먼 ..솔직히 재미는 없다..평점 조정      0\n",
              "4   6483659  사이몬페그의 익살스런 연기가 돋보였던 영화!스파이더맨에서 늙어보이기만 했던 커스틴 ...      1"
            ]
          },
          "metadata": {},
          "execution_count": 9
        }
      ]
    },
    {
      "cell_type": "code",
      "metadata": {
        "colab": {
          "base_uri": "https://localhost:8080/"
        },
        "id": "x72ygv0XgR55",
        "outputId": "774db84b-9727-4d36-9007-dc3637de2880"
      },
      "source": [
        "!pwd"
      ],
      "execution_count": 11,
      "outputs": [
        {
          "output_type": "stream",
          "name": "stdout",
          "text": [
            "/content\n"
          ]
        }
      ]
    },
    {
      "cell_type": "code",
      "metadata": {
        "colab": {
          "resources": {
            "http://localhost:8080/nbextensions/google.colab/files.js": {
              "data": "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",
              "ok": true,
              "headers": [
                [
                  "content-type",
                  "application/javascript"
                ]
              ],
              "status": 200,
              "status_text": ""
            }
          },
          "base_uri": "https://localhost:8080/",
          "height": 113
        },
        "id": "5Vb4AVMVgV1Q",
        "outputId": "ba1af27d-3189-4ef1-e20a-e381258bc168"
      },
      "source": [
        "# tokenization_kobert.py 업로드\n",
        "from google.colab import files\n",
        "files.upload()"
      ],
      "execution_count": 12,
      "outputs": [
        {
          "output_type": "display_data",
          "data": {
            "text/html": [
              "\n",
              "     <input type=\"file\" id=\"files-8092845c-2ada-4d3f-b725-616ca3aa9263\" name=\"files[]\" multiple disabled\n",
              "        style=\"border:none\" />\n",
              "     <output id=\"result-8092845c-2ada-4d3f-b725-616ca3aa9263\">\n",
              "      Upload widget is only available when the cell has been executed in the\n",
              "      current browser session. Please rerun this cell to enable.\n",
              "      </output>\n",
              "      <script src=\"/nbextensions/google.colab/files.js\"></script> "
            ],
            "text/plain": [
              "<IPython.core.display.HTML object>"
            ]
          },
          "metadata": {}
        },
        {
          "output_type": "stream",
          "name": "stdout",
          "text": [
            "Saving tokenization_kobert.py to tokenization_kobert.py\n"
          ]
        },
        {
          "output_type": "execute_result",
          "data": {
            "text/plain": [
              "{'tokenization_kobert.py': b'# coding=utf-8\\n# Copyright 2018 Google AI, Google Brain and Carnegie Mellon University Authors and the HuggingFace Inc. team and Jangwon Park\\n#\\n# Licensed under the Apache License, Version 2.0 (the \"License\");\\n# you may not use this file except in compliance with the License.\\n# You may obtain a copy of the License at\\n#\\n#     http://www.apache.org/licenses/LICENSE-2.0\\n#\\n# Unless required by applicable law or agreed to in writing, software\\n# distributed under the License is distributed on an \"AS IS\" BASIS,\\n# WITHOUT WARRANTIES OR CONDITIONS OF ANY KIND, either express or implied.\\n# See the License for the specific language governing permissions and\\n# limitations under the License.\\n\"\"\" Tokenization classes for KoBert model.\"\"\"\\n\\n\\nimport logging\\nimport os\\nimport unicodedata\\nfrom shutil import copyfile\\n\\nfrom transformers import PreTrainedTokenizer\\n\\n\\nlogger = logging.getLogger(__name__)\\n\\nVOCAB_FILES_NAMES = {\"vocab_file\": \"tokenizer_78b3253a26.model\",\\n                     \"vocab_txt\": \"vocab.txt\"}\\n\\nPRETRAINED_VOCAB_FILES_MAP = {\\n    \"vocab_file\": {\\n        \"monologg/kobert\": \"https://s3.amazonaws.com/models.huggingface.co/bert/monologg/kobert/tokenizer_78b3253a26.model\",\\n        \"monologg/kobert-lm\": \"https://s3.amazonaws.com/models.huggingface.co/bert/monologg/kobert-lm/tokenizer_78b3253a26.model\",\\n        \"monologg/distilkobert\": \"https://s3.amazonaws.com/models.huggingface.co/bert/monologg/distilkobert/tokenizer_78b3253a26.model\"\\n    },\\n    \"vocab_txt\": {\\n        \"monologg/kobert\": \"https://s3.amazonaws.com/models.huggingface.co/bert/monologg/kobert/vocab.txt\",\\n        \"monologg/kobert-lm\": \"https://s3.amazonaws.com/models.huggingface.co/bert/monologg/kobert-lm/vocab.txt\",\\n        \"monologg/distilkobert\": \"https://s3.amazonaws.com/models.huggingface.co/bert/monologg/distilkobert/vocab.txt\"\\n    }\\n}\\n\\nPRETRAINED_POSITIONAL_EMBEDDINGS_SIZES = {\\n    \"monologg/kobert\": 512,\\n    \"monologg/kobert-lm\": 512,\\n    \"monologg/distilkobert\": 512\\n}\\n\\nPRETRAINED_INIT_CONFIGURATION = {\\n    \"monologg/kobert\": {\"do_lower_case\": False},\\n    \"monologg/kobert-lm\": {\"do_lower_case\": False},\\n    \"monologg/distilkobert\": {\"do_lower_case\": False}\\n}\\n\\nSPIECE_UNDERLINE = u\\'\\xe2\\x96\\x81\\'\\n\\n\\nclass KoBertTokenizer(PreTrainedTokenizer):\\n    \"\"\"\\n        SentencePiece based tokenizer. Peculiarities:\\n            - requires `SentencePiece <https://github.com/google/sentencepiece>`_\\n    \"\"\"\\n    vocab_files_names = VOCAB_FILES_NAMES\\n    pretrained_vocab_files_map = PRETRAINED_VOCAB_FILES_MAP\\n    pretrained_init_configuration = PRETRAINED_INIT_CONFIGURATION\\n    max_model_input_sizes = PRETRAINED_POSITIONAL_EMBEDDINGS_SIZES\\n\\n    def __init__(\\n            self,\\n            vocab_file,\\n            vocab_txt,\\n            do_lower_case=False,\\n            remove_space=True,\\n            keep_accents=False,\\n            unk_token=\"[UNK]\",\\n            sep_token=\"[SEP]\",\\n            pad_token=\"[PAD]\",\\n            cls_token=\"[CLS]\",\\n            mask_token=\"[MASK]\",\\n            **kwargs):\\n        super().__init__(\\n            unk_token=unk_token,\\n            sep_token=sep_token,\\n            pad_token=pad_token,\\n            cls_token=cls_token,\\n            mask_token=mask_token,\\n            **kwargs\\n        )\\n\\n        # Build vocab\\n        self.token2idx = dict()\\n        self.idx2token = []\\n        with open(vocab_txt, \\'r\\', encoding=\\'utf-8\\') as f:\\n            for idx, token in enumerate(f):\\n                token = token.strip()\\n                self.token2idx[token] = idx\\n                self.idx2token.append(token)\\n\\n        try:\\n            import sentencepiece as spm\\n        except ImportError:\\n            logger.warning(\"You need to install SentencePiece to use KoBertTokenizer: https://github.com/google/sentencepiece\"\\n                           \"pip install sentencepiece\")\\n\\n        self.do_lower_case = do_lower_case\\n        self.remove_space = remove_space\\n        self.keep_accents = keep_accents\\n        self.vocab_file = vocab_file\\n        self.vocab_txt = vocab_txt\\n\\n        self.sp_model = spm.SentencePieceProcessor()\\n        self.sp_model.Load(vocab_file)\\n\\n    @property\\n    def vocab_size(self):\\n        return len(self.idx2token)\\n\\n    def get_vocab(self):\\n        return dict(self.token2idx, **self.added_tokens_encoder)\\n\\n    def __getstate__(self):\\n        state = self.__dict__.copy()\\n        state[\"sp_model\"] = None\\n        return state\\n\\n    def __setstate__(self, d):\\n        self.__dict__ = d\\n        try:\\n            import sentencepiece as spm\\n        except ImportError:\\n            logger.warning(\"You need to install SentencePiece to use KoBertTokenizer: https://github.com/google/sentencepiece\"\\n                           \"pip install sentencepiece\")\\n        self.sp_model = spm.SentencePieceProcessor()\\n        self.sp_model.Load(self.vocab_file)\\n\\n    def preprocess_text(self, inputs):\\n        if self.remove_space:\\n            outputs = \" \".join(inputs.strip().split())\\n        else:\\n            outputs = inputs\\n        outputs = outputs.replace(\"``\", \\'\"\\').replace(\"\\'\\'\", \\'\"\\')\\n\\n        if not self.keep_accents:\\n            outputs = unicodedata.normalize(\\'NFKD\\', outputs)\\n            outputs = \"\".join([c for c in outputs if not unicodedata.combining(c)])\\n        if self.do_lower_case:\\n            outputs = outputs.lower()\\n\\n        return outputs\\n\\n    def _tokenize(self, text, return_unicode=True, sample=False):\\n        \"\"\" Tokenize a string. \"\"\"\\n        text = self.preprocess_text(text)\\n\\n        if not sample:\\n            pieces = self.sp_model.EncodeAsPieces(text)\\n        else:\\n            pieces = self.sp_model.SampleEncodeAsPieces(text, 64, 0.1)\\n        new_pieces = []\\n        for piece in pieces:\\n            if len(piece) > 1 and piece[-1] == str(\",\") and piece[-2].isdigit():\\n                cur_pieces = self.sp_model.EncodeAsPieces(piece[:-1].replace(SPIECE_UNDERLINE, \"\"))\\n                if piece[0] != SPIECE_UNDERLINE and cur_pieces[0][0] == SPIECE_UNDERLINE:\\n                    if len(cur_pieces[0]) == 1:\\n                        cur_pieces = cur_pieces[1:]\\n                    else:\\n                        cur_pieces[0] = cur_pieces[0][1:]\\n                cur_pieces.append(piece[-1])\\n                new_pieces.extend(cur_pieces)\\n            else:\\n                new_pieces.append(piece)\\n\\n        return new_pieces\\n\\n    def _convert_token_to_id(self, token):\\n        \"\"\" Converts a token (str/unicode) in an id using the vocab. \"\"\"\\n        return self.token2idx.get(token, self.token2idx[self.unk_token])\\n\\n    def _convert_id_to_token(self, index, return_unicode=True):\\n        \"\"\"Converts an index (integer) in a token (string/unicode) using the vocab.\"\"\"\\n        return self.idx2token[index]\\n\\n    def convert_tokens_to_string(self, tokens):\\n        \"\"\"Converts a sequence of tokens (strings for sub-words) in a single string.\"\"\"\\n        out_string = \"\".join(tokens).replace(SPIECE_UNDERLINE, \" \").strip()\\n        return out_string\\n\\n    def build_inputs_with_special_tokens(self, token_ids_0, token_ids_1=None):\\n        \"\"\"\\n        Build model inputs from a sequence or a pair of sequence for sequence classification tasks\\n        by concatenating and adding special tokens.\\n        A KoBERT sequence has the following format:\\n            single sequence: [CLS] X [SEP]\\n            pair of sequences: [CLS] A [SEP] B [SEP]\\n        \"\"\"\\n        if token_ids_1 is None:\\n            return [self.cls_token_id] + token_ids_0 + [self.sep_token_id]\\n        cls = [self.cls_token_id]\\n        sep = [self.sep_token_id]\\n        return cls + token_ids_0 + sep + token_ids_1 + sep\\n\\n    def get_special_tokens_mask(self, token_ids_0, token_ids_1=None, already_has_special_tokens=False):\\n        \"\"\"\\n        Retrieves sequence ids from a token list that has no special tokens added. This method is called when adding\\n        special tokens using the tokenizer ``prepare_for_model`` or ``encode_plus`` methods.\\n        Args:\\n            token_ids_0: list of ids (must not contain special tokens)\\n            token_ids_1: Optional list of ids (must not contain special tokens), necessary when fetching sequence ids\\n                for sequence pairs\\n            already_has_special_tokens: (default False) Set to True if the token list is already formated with\\n                special tokens for the model\\n        Returns:\\n            A list of integers in the range [0, 1]: 0 for a special token, 1 for a sequence token.\\n        \"\"\"\\n\\n        if already_has_special_tokens:\\n            if token_ids_1 is not None:\\n                raise ValueError(\\n                    \"You should not supply a second sequence if the provided sequence of \"\\n                    \"ids is already formated with special tokens for the model.\"\\n                )\\n            return list(map(lambda x: 1 if x in [self.sep_token_id, self.cls_token_id] else 0, token_ids_0))\\n\\n        if token_ids_1 is not None:\\n            return [1] + ([0] * len(token_ids_0)) + [1] + ([0] * len(token_ids_1)) + [1]\\n        return [1] + ([0] * len(token_ids_0)) + [1]\\n\\n    def create_token_type_ids_from_sequences(self, token_ids_0, token_ids_1=None):\\n        \"\"\"\\n        Creates a mask from the two sequences passed to be used in a sequence-pair classification task.\\n        A KoBERT sequence pair mask has the following format:\\n        0 0 0 0 0 0 0 0 0 0 1 1 1 1 1 1 1 1 1 1 1\\n        | first sequence    | second sequence\\n        if token_ids_1 is None, only returns the first portion of the mask (0\\'s).\\n        \"\"\"\\n        sep = [self.sep_token_id]\\n        cls = [self.cls_token_id]\\n        if token_ids_1 is None:\\n            return len(cls + token_ids_0 + sep) * [0]\\n        return len(cls + token_ids_0 + sep) * [0] + len(token_ids_1 + sep) * [1]\\n\\n    def save_vocabulary(self, save_directory):\\n        \"\"\" Save the sentencepiece vocabulary (copy original file) and special tokens file\\n            to a directory.\\n        \"\"\"\\n        if not os.path.isdir(save_directory):\\n            logger.error(\"Vocabulary path ({}) should be a directory\".format(save_directory))\\n            return\\n\\n        # 1. Save sentencepiece model\\n        out_vocab_model = os.path.join(save_directory, VOCAB_FILES_NAMES[\"vocab_file\"])\\n\\n        if os.path.abspath(self.vocab_file) != os.path.abspath(out_vocab_model):\\n            copyfile(self.vocab_file, out_vocab_model)\\n\\n        # 2. Save vocab.txt\\n        index = 0\\n        out_vocab_txt = os.path.join(save_directory, VOCAB_FILES_NAMES[\"vocab_txt\"])\\n        with open(out_vocab_txt, \"w\", encoding=\"utf-8\") as writer:\\n            for token, token_index in sorted(self.token2idx.items(), key=lambda kv: kv[1]):\\n                if index != token_index:\\n                    logger.warning(\\n                        \"Saving vocabulary to {}: vocabulary indices are not consecutive.\"\\n                        \" Please check that the vocabulary is not corrupted!\".format(out_vocab_txt)\\n                    )\\n                    index = token_index\\n                writer.write(token + \"\\\\n\")\\n                index += 1\\n\\n        return out_vocab_model, out_vocab_txt\\n'}"
            ]
          },
          "metadata": {},
          "execution_count": 12
        }
      ]
    },
    {
      "cell_type": "code",
      "metadata": {
        "colab": {
          "base_uri": "https://localhost:8080/"
        },
        "id": "yRTOmr6fgvDB",
        "outputId": "dfc4f5ab-3d29-4265-a9e9-d962b201b75c"
      },
      "source": [
        "!ls"
      ],
      "execution_count": 14,
      "outputs": [
        {
          "output_type": "stream",
          "name": "stdout",
          "text": [
            "gdrive\tnsmc  __pycache__  sample_data\ttokenization_kobert.py\n"
          ]
        }
      ]
    },
    {
      "cell_type": "code",
      "metadata": {
        "colab": {
          "base_uri": "https://localhost:8080/",
          "height": 197,
          "referenced_widgets": [
            "67753d568f1146a4ae07090b5a9387a8",
            "ecd3da2a886a48a9b0b9c6d9525620fc",
            "6bd7e2725c77444186e72206ef07acbc",
            "2db01204e3ff47bc8ad82d8567ed10bd",
            "665554c6e8db42f6aeb23a2cb5d3aa3b",
            "dd77c6aa22b64948879f747dc6999782",
            "837ab645b2d84bf79c0aacdf0514ebd8",
            "212f67ee2dbd4803aed3a80a21602aed",
            "0197380c1f704702bcbc4386fa82b048",
            "b617756045134fd79ecc27001865252e",
            "361fc5994ea548b28be3b71bfbc48c38",
            "66cb66f6be9240459c81e844b9bf6ab1",
            "ffbefc1cd20448a6824eb4cfd9c8dfd7",
            "bc4b5bd433a2455096451ecba4e8def7",
            "33581e8948d24f53823182be1a00a668",
            "fd6bd24acc9544d487cef8186aabd59f",
            "ab5198ba4c724b03a514e9ba29829e5e",
            "247461b2f77a4666aabdf45999c7d659",
            "b89cab4b86d745bfae15b309bd8d4047",
            "04a36147efc0472989944e5b548e50fb",
            "286ea741effb4e0c9871f3dc0f74ea60",
            "f40e4ffd81b24472b6f980f042df3d3f",
            "d41b180ecad945b599cd3696b5458192",
            "381b451730674634bb6ecca77264024e",
            "8ecdda77eefd4754bfca9f5c2ebb6ee0",
            "c8900533ac4946ff913ffe1d0c786eb8",
            "55c071ebd1ee48ddab58a690737422c0",
            "5450a13a82ce492084a52e1e8e99dd37",
            "f9fda7218f4d406f8fc888413bf38a35",
            "17ec122a22064093b936d5d6ebfc0ddc",
            "06d7a21a887d429b8bc16e4dcfcb2d87",
            "aa437420668d4263b5fcdb2a5320e744",
            "58bf31c82f8549208f9674b2a91deb1c",
            "5c2055d7e2d84061aed8f73ea3d80c9e",
            "604bafbf1ac54ba3b6b285f9712a3708",
            "0d3fea8332c3472986683471478405fa",
            "9db5106001024d91918183f784f3396d",
            "1bbe4b1c217f4d26b743ee8a76d3f255",
            "24bd929884014b0ba084c49adf73d9fc",
            "70344110db4e47ebb5dbfeb34aeb8cfe",
            "8ad78d44e55f4f99ab29cf42373bf427",
            "c7ec24c0298c4bfea17b05ac945ae533",
            "ba74854d145b4108ae3e0b070a225821",
            "4054173362e1468198272fa6a1721d62"
          ]
        },
        "id": "pHspEeqHbGOL",
        "outputId": "115f66bd-a279-4720-b64c-417a44b60be3"
      },
      "source": [
        "# kobert 토크나이즈 임포트 \n",
        "from tokenization_kobert import KoBertTokenizer\n",
        "\n",
        "tokenizer= KoBertTokenizer.from_pretrained('monologg/kobert')"
      ],
      "execution_count": 16,
      "outputs": [
        {
          "output_type": "display_data",
          "data": {
            "application/vnd.jupyter.widget-view+json": {
              "model_id": "67753d568f1146a4ae07090b5a9387a8",
              "version_minor": 0,
              "version_major": 2
            },
            "text/plain": [
              "Downloading:   0%|          | 0.00/363k [00:00<?, ?B/s]"
            ]
          },
          "metadata": {}
        },
        {
          "output_type": "display_data",
          "data": {
            "application/vnd.jupyter.widget-view+json": {
              "model_id": "66cb66f6be9240459c81e844b9bf6ab1",
              "version_minor": 0,
              "version_major": 2
            },
            "text/plain": [
              "Downloading:   0%|          | 0.00/76.0k [00:00<?, ?B/s]"
            ]
          },
          "metadata": {}
        },
        {
          "output_type": "display_data",
          "data": {
            "application/vnd.jupyter.widget-view+json": {
              "model_id": "d41b180ecad945b599cd3696b5458192",
              "version_minor": 0,
              "version_major": 2
            },
            "text/plain": [
              "Downloading:   0%|          | 0.00/51.0 [00:00<?, ?B/s]"
            ]
          },
          "metadata": {}
        },
        {
          "output_type": "display_data",
          "data": {
            "application/vnd.jupyter.widget-view+json": {
              "model_id": "5c2055d7e2d84061aed8f73ea3d80c9e",
              "version_minor": 0,
              "version_major": 2
            },
            "text/plain": [
              "Downloading:   0%|          | 0.00/426 [00:00<?, ?B/s]"
            ]
          },
          "metadata": {}
        },
        {
          "output_type": "stream",
          "name": "stderr",
          "text": [
            "The tokenizer class you load from this checkpoint is not the same type as the class this function is called from. It may result in unexpected tokenization. \n",
            "The tokenizer class you load from this checkpoint is 'BertTokenizer'. \n",
            "The class this function is called from is 'KoBertTokenizer'.\n"
          ]
        }
      ]
    },
    {
      "cell_type": "code",
      "metadata": {
        "id": "nteR28rgbPPT"
      },
      "source": [
        "# 버트에 맞게 \n",
        "def convert_data(data_df):\n",
        "  global tokenizer\n",
        "\n",
        "  SEQ_LEN = 64\n",
        "  tokens, masks, segments, targets = [],[],[],[]\n",
        "\n",
        "  for i in tqdm(range(len(data_df))):\n",
        "    token = tokenizer.encode(data_df[DATA_COLUMN][i], max_length=SEQ_LEN, truncation=True, padding='max_length')\n",
        "\n",
        "    num_zeros=token.count(0)\n",
        "    mask = [1]*(SEQ_LEN - num_zeros) + [0] * num_zeros\n",
        "\n",
        "    segment = [0] * SEQ_LEN\n",
        "\n",
        "    tokens.append(token)\n",
        "    masks.append(mask)\n",
        "    segments.append(segment)\n",
        "\n",
        "    targets.append(data_df[LABEL_COLUMN][i])\n",
        "\n",
        "  tokens = np.array(tokens)\n",
        "  masks=np.array(masks)\n",
        "  segments = np.array(segments)\n",
        "\n",
        "  targets.append(data_df[LABEL_COLUMN][i])\n",
        "  return [tokens, masks, segments], targets"
      ],
      "execution_count": 19,
      "outputs": []
    },
    {
      "cell_type": "code",
      "metadata": {
        "colab": {
          "base_uri": "https://localhost:8080/"
        },
        "id": "r0YkHMyej8Gh",
        "outputId": "b111179b-d0b2-458d-d43c-f3e51758b035"
      },
      "source": [
        "def load_data(pandas_dataframe):\n",
        "  data_df= pandas_dataframe\n",
        "  data_df[DATA_COLUMN]= data_df[DATA_COLUMN].astype(str)\n",
        "  data_df[LABEL_COLUMN]= data_df[LABEL_COLUMN].astype(int)\n",
        "  data_x,data_y= convert_data(data_df)\n",
        "\n",
        "  return data_x, data_y\n",
        "\n",
        "SEQ_LEN= 64\n",
        "BATCH_SIZE= 32\n",
        "DATA_COLUMN= 'document'\n",
        "LABEL_COLUMN= 'label'\n",
        "\n",
        "train_x,train_y= load_data(train)"
      ],
      "execution_count": 20,
      "outputs": [
        {
          "output_type": "stream",
          "name": "stderr",
          "text": [
            "100%|██████████| 150000/150000 [00:32<00:00, 4653.73it/s]\n"
          ]
        }
      ]
    },
    {
      "cell_type": "code",
      "metadata": {
        "colab": {
          "base_uri": "https://localhost:8080/"
        },
        "id": "nWzoDgCTktg8",
        "outputId": "52abe2c8-6509-4008-cb2e-6dde90acc232"
      },
      "source": [
        "test_x, test_y= load_data(test)"
      ],
      "execution_count": 21,
      "outputs": [
        {
          "output_type": "stream",
          "name": "stderr",
          "text": [
            "100%|██████████| 50000/50000 [00:10<00:00, 4810.16it/s]\n"
          ]
        }
      ]
    },
    {
      "cell_type": "code",
      "metadata": {
        "colab": {
          "base_uri": "https://localhost:8080/"
        },
        "id": "Tlg1NgzUlRn3",
        "outputId": "cbcdd083-b782-4627-9054-0c04417797fc"
      },
      "source": [
        "# 버트 활용한 감성분석 모델 생성 \n",
        "\n",
        "model = TFBertModel.from_pretrained('monologg/kobert',from_pt=True)\n",
        "\n",
        "token_inputs = tf.keras.layers.Input((SEQ_LEN,),dtype=tf.int32, name='input_word_ids')\n",
        "mask_inputs = tf.keras.layers.Input((SEQ_LEN,),dtype=tf.int32, name='input_masks')\n",
        "segment_inputs = tf.keras.layers.Input((SEQ_LEN,),dtype=tf.int32, name='input_segment')\n",
        "bert_output=model([token_inputs, mask_inputs,segment_inputs])\n",
        "\n"
      ],
      "execution_count": 25,
      "outputs": [
        {
          "output_type": "stream",
          "name": "stderr",
          "text": [
            "All PyTorch model weights were used when initializing TFBertModel.\n",
            "\n",
            "All the weights of TFBertModel were initialized from the PyTorch model.\n",
            "If your task is similar to the task the model of the checkpoint was trained on, you can already use TFBertModel for predictions without further training.\n"
          ]
        }
      ]
    },
    {
      "cell_type": "code",
      "metadata": {
        "colab": {
          "base_uri": "https://localhost:8080/"
        },
        "id": "HEkcNsSVmLPT",
        "outputId": "76286aec-1d06-46ac-8fcb-b7266a04be5e"
      },
      "source": [
        "bert_output= bert_output[1]\n",
        "bert_output.shape"
      ],
      "execution_count": 26,
      "outputs": [
        {
          "output_type": "execute_result",
          "data": {
            "text/plain": [
              "TensorShape([None, 768])"
            ]
          },
          "metadata": {},
          "execution_count": 26
        }
      ]
    },
    {
      "cell_type": "code",
      "metadata": {
        "colab": {
          "base_uri": "https://localhost:8080/"
        },
        "id": "8ov-L21AmjD4",
        "outputId": "c43f7fdf-5ce2-44d7-a2d0-9d811e418843"
      },
      "source": [
        "!pip install tensorflow_addons\n",
        "import tensorflow_addons as tfa\n",
        "\n",
        "\n",
        "opt =tfa.optimizers.RectifiedAdam(lr = 5.0e-5, total_steps=2344*2, warmup_proportion=0.1, min_lr=1e-5, epsilon=1e-08, clipnorm=1.0)"
      ],
      "execution_count": 30,
      "outputs": [
        {
          "output_type": "stream",
          "name": "stdout",
          "text": [
            "Collecting tensorflow_addons\n",
            "  Downloading tensorflow_addons-0.14.0-cp37-cp37m-manylinux_2_12_x86_64.manylinux2010_x86_64.whl (1.1 MB)\n",
            "\u001b[?25l\r\u001b[K     |▎                               | 10 kB 43.9 MB/s eta 0:00:01\r\u001b[K     |▋                               | 20 kB 8.1 MB/s eta 0:00:01\r\u001b[K     |▉                               | 30 kB 7.4 MB/s eta 0:00:01\r\u001b[K     |█▏                              | 40 kB 7.2 MB/s eta 0:00:01\r\u001b[K     |█▌                              | 51 kB 3.9 MB/s eta 0:00:01\r\u001b[K     |█▊                              | 61 kB 4.1 MB/s eta 0:00:01\r\u001b[K     |██                              | 71 kB 4.4 MB/s eta 0:00:01\r\u001b[K     |██▍                             | 81 kB 4.9 MB/s eta 0:00:01\r\u001b[K     |██▋                             | 92 kB 5.0 MB/s eta 0:00:01\r\u001b[K     |███                             | 102 kB 4.1 MB/s eta 0:00:01\r\u001b[K     |███▎                            | 112 kB 4.1 MB/s eta 0:00:01\r\u001b[K     |███▌                            | 122 kB 4.1 MB/s eta 0:00:01\r\u001b[K     |███▉                            | 133 kB 4.1 MB/s eta 0:00:01\r\u001b[K     |████▏                           | 143 kB 4.1 MB/s eta 0:00:01\r\u001b[K     |████▍                           | 153 kB 4.1 MB/s eta 0:00:01\r\u001b[K     |████▊                           | 163 kB 4.1 MB/s eta 0:00:01\r\u001b[K     |█████                           | 174 kB 4.1 MB/s eta 0:00:01\r\u001b[K     |█████▎                          | 184 kB 4.1 MB/s eta 0:00:01\r\u001b[K     |█████▋                          | 194 kB 4.1 MB/s eta 0:00:01\r\u001b[K     |██████                          | 204 kB 4.1 MB/s eta 0:00:01\r\u001b[K     |██████▏                         | 215 kB 4.1 MB/s eta 0:00:01\r\u001b[K     |██████▌                         | 225 kB 4.1 MB/s eta 0:00:01\r\u001b[K     |██████▉                         | 235 kB 4.1 MB/s eta 0:00:01\r\u001b[K     |███████                         | 245 kB 4.1 MB/s eta 0:00:01\r\u001b[K     |███████▍                        | 256 kB 4.1 MB/s eta 0:00:01\r\u001b[K     |███████▊                        | 266 kB 4.1 MB/s eta 0:00:01\r\u001b[K     |████████                        | 276 kB 4.1 MB/s eta 0:00:01\r\u001b[K     |████████▎                       | 286 kB 4.1 MB/s eta 0:00:01\r\u001b[K     |████████▋                       | 296 kB 4.1 MB/s eta 0:00:01\r\u001b[K     |████████▉                       | 307 kB 4.1 MB/s eta 0:00:01\r\u001b[K     |█████████▏                      | 317 kB 4.1 MB/s eta 0:00:01\r\u001b[K     |█████████▌                      | 327 kB 4.1 MB/s eta 0:00:01\r\u001b[K     |█████████▊                      | 337 kB 4.1 MB/s eta 0:00:01\r\u001b[K     |██████████                      | 348 kB 4.1 MB/s eta 0:00:01\r\u001b[K     |██████████▍                     | 358 kB 4.1 MB/s eta 0:00:01\r\u001b[K     |██████████▋                     | 368 kB 4.1 MB/s eta 0:00:01\r\u001b[K     |███████████                     | 378 kB 4.1 MB/s eta 0:00:01\r\u001b[K     |███████████▎                    | 389 kB 4.1 MB/s eta 0:00:01\r\u001b[K     |███████████▌                    | 399 kB 4.1 MB/s eta 0:00:01\r\u001b[K     |███████████▉                    | 409 kB 4.1 MB/s eta 0:00:01\r\u001b[K     |████████████▏                   | 419 kB 4.1 MB/s eta 0:00:01\r\u001b[K     |████████████▍                   | 430 kB 4.1 MB/s eta 0:00:01\r\u001b[K     |████████████▊                   | 440 kB 4.1 MB/s eta 0:00:01\r\u001b[K     |█████████████                   | 450 kB 4.1 MB/s eta 0:00:01\r\u001b[K     |█████████████▎                  | 460 kB 4.1 MB/s eta 0:00:01\r\u001b[K     |█████████████▋                  | 471 kB 4.1 MB/s eta 0:00:01\r\u001b[K     |██████████████                  | 481 kB 4.1 MB/s eta 0:00:01\r\u001b[K     |██████████████▏                 | 491 kB 4.1 MB/s eta 0:00:01\r\u001b[K     |██████████████▌                 | 501 kB 4.1 MB/s eta 0:00:01\r\u001b[K     |██████████████▉                 | 512 kB 4.1 MB/s eta 0:00:01\r\u001b[K     |███████████████                 | 522 kB 4.1 MB/s eta 0:00:01\r\u001b[K     |███████████████▍                | 532 kB 4.1 MB/s eta 0:00:01\r\u001b[K     |███████████████▊                | 542 kB 4.1 MB/s eta 0:00:01\r\u001b[K     |████████████████                | 552 kB 4.1 MB/s eta 0:00:01\r\u001b[K     |████████████████▎               | 563 kB 4.1 MB/s eta 0:00:01\r\u001b[K     |████████████████▋               | 573 kB 4.1 MB/s eta 0:00:01\r\u001b[K     |████████████████▉               | 583 kB 4.1 MB/s eta 0:00:01\r\u001b[K     |█████████████████▏              | 593 kB 4.1 MB/s eta 0:00:01\r\u001b[K     |█████████████████▌              | 604 kB 4.1 MB/s eta 0:00:01\r\u001b[K     |█████████████████▊              | 614 kB 4.1 MB/s eta 0:00:01\r\u001b[K     |██████████████████              | 624 kB 4.1 MB/s eta 0:00:01\r\u001b[K     |██████████████████▍             | 634 kB 4.1 MB/s eta 0:00:01\r\u001b[K     |██████████████████▋             | 645 kB 4.1 MB/s eta 0:00:01\r\u001b[K     |███████████████████             | 655 kB 4.1 MB/s eta 0:00:01\r\u001b[K     |███████████████████▎            | 665 kB 4.1 MB/s eta 0:00:01\r\u001b[K     |███████████████████▌            | 675 kB 4.1 MB/s eta 0:00:01\r\u001b[K     |███████████████████▉            | 686 kB 4.1 MB/s eta 0:00:01\r\u001b[K     |████████████████████▏           | 696 kB 4.1 MB/s eta 0:00:01\r\u001b[K     |████████████████████▍           | 706 kB 4.1 MB/s eta 0:00:01\r\u001b[K     |████████████████████▊           | 716 kB 4.1 MB/s eta 0:00:01\r\u001b[K     |█████████████████████           | 727 kB 4.1 MB/s eta 0:00:01\r\u001b[K     |█████████████████████▎          | 737 kB 4.1 MB/s eta 0:00:01\r\u001b[K     |█████████████████████▋          | 747 kB 4.1 MB/s eta 0:00:01\r\u001b[K     |██████████████████████          | 757 kB 4.1 MB/s eta 0:00:01\r\u001b[K     |██████████████████████▏         | 768 kB 4.1 MB/s eta 0:00:01\r\u001b[K     |██████████████████████▌         | 778 kB 4.1 MB/s eta 0:00:01\r\u001b[K     |██████████████████████▉         | 788 kB 4.1 MB/s eta 0:00:01\r\u001b[K     |███████████████████████         | 798 kB 4.1 MB/s eta 0:00:01\r\u001b[K     |███████████████████████▍        | 808 kB 4.1 MB/s eta 0:00:01\r\u001b[K     |███████████████████████▊        | 819 kB 4.1 MB/s eta 0:00:01\r\u001b[K     |████████████████████████        | 829 kB 4.1 MB/s eta 0:00:01\r\u001b[K     |████████████████████████▎       | 839 kB 4.1 MB/s eta 0:00:01\r\u001b[K     |████████████████████████▋       | 849 kB 4.1 MB/s eta 0:00:01\r\u001b[K     |████████████████████████▉       | 860 kB 4.1 MB/s eta 0:00:01\r\u001b[K     |█████████████████████████▏      | 870 kB 4.1 MB/s eta 0:00:01\r\u001b[K     |█████████████████████████▍      | 880 kB 4.1 MB/s eta 0:00:01\r\u001b[K     |█████████████████████████▊      | 890 kB 4.1 MB/s eta 0:00:01\r\u001b[K     |██████████████████████████      | 901 kB 4.1 MB/s eta 0:00:01\r\u001b[K     |██████████████████████████▎     | 911 kB 4.1 MB/s eta 0:00:01\r\u001b[K     |██████████████████████████▋     | 921 kB 4.1 MB/s eta 0:00:01\r\u001b[K     |███████████████████████████     | 931 kB 4.1 MB/s eta 0:00:01\r\u001b[K     |███████████████████████████▏    | 942 kB 4.1 MB/s eta 0:00:01\r\u001b[K     |███████████████████████████▌    | 952 kB 4.1 MB/s eta 0:00:01\r\u001b[K     |███████████████████████████▉    | 962 kB 4.1 MB/s eta 0:00:01\r\u001b[K     |████████████████████████████    | 972 kB 4.1 MB/s eta 0:00:01\r\u001b[K     |████████████████████████████▍   | 983 kB 4.1 MB/s eta 0:00:01\r\u001b[K     |████████████████████████████▊   | 993 kB 4.1 MB/s eta 0:00:01\r\u001b[K     |█████████████████████████████   | 1.0 MB 4.1 MB/s eta 0:00:01\r\u001b[K     |█████████████████████████████▎  | 1.0 MB 4.1 MB/s eta 0:00:01\r\u001b[K     |█████████████████████████████▋  | 1.0 MB 4.1 MB/s eta 0:00:01\r\u001b[K     |█████████████████████████████▉  | 1.0 MB 4.1 MB/s eta 0:00:01\r\u001b[K     |██████████████████████████████▏ | 1.0 MB 4.1 MB/s eta 0:00:01\r\u001b[K     |██████████████████████████████▌ | 1.1 MB 4.1 MB/s eta 0:00:01\r\u001b[K     |██████████████████████████████▊ | 1.1 MB 4.1 MB/s eta 0:00:01\r\u001b[K     |███████████████████████████████ | 1.1 MB 4.1 MB/s eta 0:00:01\r\u001b[K     |███████████████████████████████▍| 1.1 MB 4.1 MB/s eta 0:00:01\r\u001b[K     |███████████████████████████████▋| 1.1 MB 4.1 MB/s eta 0:00:01\r\u001b[K     |████████████████████████████████| 1.1 MB 4.1 MB/s eta 0:00:01\r\u001b[K     |████████████████████████████████| 1.1 MB 4.1 MB/s \n",
            "\u001b[?25hRequirement already satisfied: typeguard>=2.7 in /usr/local/lib/python3.7/dist-packages (from tensorflow_addons) (2.7.1)\n",
            "Installing collected packages: tensorflow-addons\n",
            "Successfully installed tensorflow-addons-0.14.0\n"
          ]
        },
        {
          "output_type": "stream",
          "name": "stderr",
          "text": [
            "/usr/local/lib/python3.7/dist-packages/keras/optimizer_v2/optimizer_v2.py:356: UserWarning: The `lr` argument is deprecated, use `learning_rate` instead.\n",
            "  \"The `lr` argument is deprecated, use `learning_rate` instead.\")\n"
          ]
        }
      ]
    },
    {
      "cell_type": "code",
      "metadata": {
        "colab": {
          "base_uri": "https://localhost:8080/"
        },
        "id": "SdX_PKLTnWHw",
        "outputId": "a2f78e50-178f-4ff6-b767-5eda405c8c6a"
      },
      "source": [
        "sentiment_drop = tf.keras.layers.Dropout(0.5)(bert_output)\n",
        "sentiment_first=tf.keras.layers.Dense(1,activation='sigmoid',kernel_initializer = tf.keras.initializers.TruncatedNormal(stddev=0.02))(sentiment_drop)\n",
        "sentiment_model=tf.keras.Model([token_inputs,mask_inputs,segment_inputs],sentiment_first)\n",
        "sentiment_model.compile(optimizer=opt, loss=tf.keras.losses.BinaryCrossentropy(),metrics=['accuracy'])\n",
        "\n",
        "sentiment_model.summary()\n"
      ],
      "execution_count": 32,
      "outputs": [
        {
          "output_type": "stream",
          "name": "stdout",
          "text": [
            "Model: \"model\"\n",
            "__________________________________________________________________________________________________\n",
            "Layer (type)                    Output Shape         Param #     Connected to                     \n",
            "==================================================================================================\n",
            "input_word_ids (InputLayer)     [(None, 64)]         0                                            \n",
            "__________________________________________________________________________________________________\n",
            "input_masks (InputLayer)        [(None, 64)]         0                                            \n",
            "__________________________________________________________________________________________________\n",
            "input_segment (InputLayer)      [(None, 64)]         0                                            \n",
            "__________________________________________________________________________________________________\n",
            "tf_bert_model_1 (TFBertModel)   TFBaseModelOutputWit 92186880    input_word_ids[0][0]             \n",
            "                                                                 input_masks[0][0]                \n",
            "                                                                 input_segment[0][0]              \n",
            "__________________________________________________________________________________________________\n",
            "dropout_75 (Dropout)            (None, 768)          0           tf_bert_model_1[0][1]            \n",
            "__________________________________________________________________________________________________\n",
            "dense (Dense)                   (None, 1)            769         dropout_75[0][0]                 \n",
            "==================================================================================================\n",
            "Total params: 92,187,649\n",
            "Trainable params: 92,187,649\n",
            "Non-trainable params: 0\n",
            "__________________________________________________________________________________________________\n"
          ]
        }
      ]
    },
    {
      "cell_type": "code",
      "metadata": {
        "colab": {
          "base_uri": "https://localhost:8080/",
          "height": 332
        },
        "id": "FN6yVb2Kos8i",
        "outputId": "522f2ed9-3e68-418a-c53f-75afbdecef17"
      },
      "source": [
        "sentiment_model.fit(train_x, train_y,epochs=2, shuffle=True, batch_size=64, validation_data=(test_x,test_y))"
      ],
      "execution_count": 38,
      "outputs": [
        {
          "output_type": "error",
          "ename": "ValueError",
          "evalue": "ignored",
          "traceback": [
            "\u001b[0;31m---------------------------------------------------------------------------\u001b[0m",
            "\u001b[0;31mValueError\u001b[0m                                Traceback (most recent call last)",
            "\u001b[0;32m<ipython-input-38-00215533c334>\u001b[0m in \u001b[0;36m<module>\u001b[0;34m()\u001b[0m\n\u001b[0;32m----> 1\u001b[0;31m \u001b[0msentiment_model\u001b[0m\u001b[0;34m.\u001b[0m\u001b[0mfit\u001b[0m\u001b[0;34m(\u001b[0m\u001b[0mtrain_x\u001b[0m\u001b[0;34m,\u001b[0m \u001b[0mtrain_y\u001b[0m\u001b[0;34m,\u001b[0m\u001b[0mepochs\u001b[0m\u001b[0;34m=\u001b[0m\u001b[0;36m2\u001b[0m\u001b[0;34m,\u001b[0m \u001b[0mshuffle\u001b[0m\u001b[0;34m=\u001b[0m\u001b[0;32mTrue\u001b[0m\u001b[0;34m,\u001b[0m \u001b[0mbatch_size\u001b[0m\u001b[0;34m=\u001b[0m\u001b[0;36m64\u001b[0m\u001b[0;34m,\u001b[0m \u001b[0mvalidation_data\u001b[0m\u001b[0;34m=\u001b[0m\u001b[0;34m(\u001b[0m\u001b[0mtest_x\u001b[0m\u001b[0;34m,\u001b[0m\u001b[0mtest_y\u001b[0m\u001b[0;34m)\u001b[0m\u001b[0;34m)\u001b[0m\u001b[0;34m\u001b[0m\u001b[0;34m\u001b[0m\u001b[0m\n\u001b[0m",
            "\u001b[0;32m/usr/local/lib/python3.7/dist-packages/keras/engine/training.py\u001b[0m in \u001b[0;36mfit\u001b[0;34m(self, x, y, batch_size, epochs, verbose, callbacks, validation_split, validation_data, shuffle, class_weight, sample_weight, initial_epoch, steps_per_epoch, validation_steps, validation_batch_size, validation_freq, max_queue_size, workers, use_multiprocessing)\u001b[0m\n\u001b[1;32m   1146\u001b[0m           \u001b[0muse_multiprocessing\u001b[0m\u001b[0;34m=\u001b[0m\u001b[0muse_multiprocessing\u001b[0m\u001b[0;34m,\u001b[0m\u001b[0;34m\u001b[0m\u001b[0;34m\u001b[0m\u001b[0m\n\u001b[1;32m   1147\u001b[0m           \u001b[0mmodel\u001b[0m\u001b[0;34m=\u001b[0m\u001b[0mself\u001b[0m\u001b[0;34m,\u001b[0m\u001b[0;34m\u001b[0m\u001b[0;34m\u001b[0m\u001b[0m\n\u001b[0;32m-> 1148\u001b[0;31m           steps_per_execution=self._steps_per_execution)\n\u001b[0m\u001b[1;32m   1149\u001b[0m \u001b[0;34m\u001b[0m\u001b[0m\n\u001b[1;32m   1150\u001b[0m       \u001b[0;31m# Container that configures and calls `tf.keras.Callback`s.\u001b[0m\u001b[0;34m\u001b[0m\u001b[0;34m\u001b[0m\u001b[0;34m\u001b[0m\u001b[0m\n",
            "\u001b[0;32m/usr/local/lib/python3.7/dist-packages/keras/engine/data_adapter.py\u001b[0m in \u001b[0;36mget_data_handler\u001b[0;34m(*args, **kwargs)\u001b[0m\n\u001b[1;32m   1381\u001b[0m   \u001b[0;32mif\u001b[0m \u001b[0mgetattr\u001b[0m\u001b[0;34m(\u001b[0m\u001b[0mkwargs\u001b[0m\u001b[0;34m[\u001b[0m\u001b[0;34m\"model\"\u001b[0m\u001b[0;34m]\u001b[0m\u001b[0;34m,\u001b[0m \u001b[0;34m\"_cluster_coordinator\"\u001b[0m\u001b[0;34m,\u001b[0m \u001b[0;32mNone\u001b[0m\u001b[0;34m)\u001b[0m\u001b[0;34m:\u001b[0m\u001b[0;34m\u001b[0m\u001b[0;34m\u001b[0m\u001b[0m\n\u001b[1;32m   1382\u001b[0m     \u001b[0;32mreturn\u001b[0m \u001b[0m_ClusterCoordinatorDataHandler\u001b[0m\u001b[0;34m(\u001b[0m\u001b[0;34m*\u001b[0m\u001b[0margs\u001b[0m\u001b[0;34m,\u001b[0m \u001b[0;34m**\u001b[0m\u001b[0mkwargs\u001b[0m\u001b[0;34m)\u001b[0m\u001b[0;34m\u001b[0m\u001b[0;34m\u001b[0m\u001b[0m\n\u001b[0;32m-> 1383\u001b[0;31m   \u001b[0;32mreturn\u001b[0m \u001b[0mDataHandler\u001b[0m\u001b[0;34m(\u001b[0m\u001b[0;34m*\u001b[0m\u001b[0margs\u001b[0m\u001b[0;34m,\u001b[0m \u001b[0;34m**\u001b[0m\u001b[0mkwargs\u001b[0m\u001b[0;34m)\u001b[0m\u001b[0;34m\u001b[0m\u001b[0;34m\u001b[0m\u001b[0m\n\u001b[0m\u001b[1;32m   1384\u001b[0m \u001b[0;34m\u001b[0m\u001b[0m\n\u001b[1;32m   1385\u001b[0m \u001b[0;34m\u001b[0m\u001b[0m\n",
            "\u001b[0;32m/usr/local/lib/python3.7/dist-packages/keras/engine/data_adapter.py\u001b[0m in \u001b[0;36m__init__\u001b[0;34m(self, x, y, sample_weight, batch_size, steps_per_epoch, initial_epoch, epochs, shuffle, class_weight, max_queue_size, workers, use_multiprocessing, model, steps_per_execution, distribute)\u001b[0m\n\u001b[1;32m   1135\u001b[0m       \u001b[0mself\u001b[0m\u001b[0;34m.\u001b[0m\u001b[0m_steps_per_execution_value\u001b[0m \u001b[0;34m=\u001b[0m \u001b[0msteps_per_execution\u001b[0m\u001b[0;34m.\u001b[0m\u001b[0mnumpy\u001b[0m\u001b[0;34m(\u001b[0m\u001b[0;34m)\u001b[0m\u001b[0;34m.\u001b[0m\u001b[0mitem\u001b[0m\u001b[0;34m(\u001b[0m\u001b[0;34m)\u001b[0m\u001b[0;34m\u001b[0m\u001b[0;34m\u001b[0m\u001b[0m\n\u001b[1;32m   1136\u001b[0m \u001b[0;34m\u001b[0m\u001b[0m\n\u001b[0;32m-> 1137\u001b[0;31m     \u001b[0madapter_cls\u001b[0m \u001b[0;34m=\u001b[0m \u001b[0mselect_data_adapter\u001b[0m\u001b[0;34m(\u001b[0m\u001b[0mx\u001b[0m\u001b[0;34m,\u001b[0m \u001b[0my\u001b[0m\u001b[0;34m)\u001b[0m\u001b[0;34m\u001b[0m\u001b[0;34m\u001b[0m\u001b[0m\n\u001b[0m\u001b[1;32m   1138\u001b[0m     self._adapter = adapter_cls(\n\u001b[1;32m   1139\u001b[0m         \u001b[0mx\u001b[0m\u001b[0;34m,\u001b[0m\u001b[0;34m\u001b[0m\u001b[0;34m\u001b[0m\u001b[0m\n",
            "\u001b[0;32m/usr/local/lib/python3.7/dist-packages/keras/engine/data_adapter.py\u001b[0m in \u001b[0;36mselect_data_adapter\u001b[0;34m(x, y)\u001b[0m\n\u001b[1;32m    977\u001b[0m         \u001b[0;34m\"Failed to find data adapter that can handle \"\u001b[0m\u001b[0;34m\u001b[0m\u001b[0;34m\u001b[0m\u001b[0m\n\u001b[1;32m    978\u001b[0m         \"input: {}, {}\".format(\n\u001b[0;32m--> 979\u001b[0;31m             _type_name(x), _type_name(y)))\n\u001b[0m\u001b[1;32m    980\u001b[0m   \u001b[0;32melif\u001b[0m \u001b[0mlen\u001b[0m\u001b[0;34m(\u001b[0m\u001b[0madapter_cls\u001b[0m\u001b[0;34m)\u001b[0m \u001b[0;34m>\u001b[0m \u001b[0;36m1\u001b[0m\u001b[0;34m:\u001b[0m\u001b[0;34m\u001b[0m\u001b[0;34m\u001b[0m\u001b[0m\n\u001b[1;32m    981\u001b[0m     raise RuntimeError(\n",
            "\u001b[0;31mValueError\u001b[0m: Failed to find data adapter that can handle input: (<class 'list'> containing values of types {\"<class 'numpy.ndarray'>\"}), (<class 'list'> containing values of types {\"<class 'numpy.int64'>\"})"
          ]
        }
      ]
    },
    {
      "cell_type": "code",
      "metadata": {
        "id": "tEeXaerUos6G"
      },
      "source": [
        ""
      ],
      "execution_count": null,
      "outputs": []
    },
    {
      "cell_type": "code",
      "metadata": {
        "id": "erKROiZsos4C"
      },
      "source": [
        ""
      ],
      "execution_count": null,
      "outputs": []
    },
    {
      "cell_type": "code",
      "metadata": {
        "id": "hHEROscjos1j"
      },
      "source": [
        ""
      ],
      "execution_count": null,
      "outputs": []
    },
    {
      "cell_type": "code",
      "metadata": {
        "id": "m8BeUgwEoYdx"
      },
      "source": [
        ""
      ],
      "execution_count": null,
      "outputs": []
    }
  ]
}
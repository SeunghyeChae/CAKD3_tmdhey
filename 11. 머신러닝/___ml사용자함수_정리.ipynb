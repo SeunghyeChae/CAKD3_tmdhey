{
 "cells": [
  {
   "cell_type": "markdown",
   "id": "b10a0075",
   "metadata": {},
   "source": [
    "### 규제 선형모델 (릿지 랏쏘)"
   ]
  },
  {
   "cell_type": "code",
   "execution_count": null,
   "id": "45424641",
   "metadata": {},
   "outputs": [],
   "source": [
    "# 선형회귀 사용자함수\n",
    "def linear_evaluation(model_name,y_test,prediction):\n",
    "    name = model_name\n",
    "    mse = mean_squared_error(y_test,prediction)\n",
    "    rmse = np.sqrt(mse)\n",
    "    r2 = r2_score(y_test,prediction)\n",
    "    \n",
    "    pd.options.display.float_format='{:.4f}'.format\n",
    "    print('[Model]:', model_name,'\\n')\n",
    "    print('[MSE]: {:.4f}'.format(mse))\n",
    "    print('[RMSE]: {:.4f}'.format(rmse))\n",
    "    print('[r2]: {:.4f}'.format(r2),'\\n')\n",
    "    print('[Intercept]:' , lr.intercept_,'\\n')\n",
    "    print('[corr_effeicient]:', lr.coef_,2)\n",
    "    print('---' * 25)\n"
   ]
  },
  {
   "cell_type": "code",
   "execution_count": null,
   "id": "2b0b54ca",
   "metadata": {},
   "outputs": [],
   "source": [
    "# Cross_val_score 사용자함수 - 모델변경가능\n",
    "\n",
    "from sklearn.model_selection import cross_val_score\n",
    "\n",
    "def Cross_val_score_eval(model_name,X,y,n_cv):\n",
    "    neg_mse_score = cross_val_score(model_name,X,y,scoring=\"neg_mean_squared_error\",cv=n_cv)\n",
    "    rmse_score = np.sqrt(-1*neg_mse_score)\n",
    "    avg_rmse=np.mean(rmse_score)\n",
    "    print('[model]:',model_name,'\\n')\n",
    "    print('5 folds independent Negative MSE scores:', np.round(neg_mse_score,2))\n",
    "    print('5 folds indenpendent RMSE scores:', np.round(rmse_score,2))\n",
    "    print('5 folds Mean RMSE: {:.3f}'.format(avg_rmse))\n",
    "    print('---' * 25)\n",
    "\n",
    "    \n",
    "Cross_val_score_eval(lr,X_data,y_target,5)"
   ]
  },
  {
   "cell_type": "code",
   "execution_count": null,
   "id": "0348cb01",
   "metadata": {},
   "outputs": [],
   "source": []
  },
  {
   "cell_type": "code",
   "execution_count": null,
   "id": "ad90a219",
   "metadata": {},
   "outputs": [],
   "source": []
  },
  {
   "cell_type": "code",
   "execution_count": null,
   "id": "da472626",
   "metadata": {},
   "outputs": [],
   "source": []
  },
  {
   "cell_type": "code",
   "execution_count": null,
   "id": "519dd097",
   "metadata": {},
   "outputs": [],
   "source": []
  },
  {
   "cell_type": "code",
   "execution_count": null,
   "id": "4538c2c6",
   "metadata": {},
   "outputs": [],
   "source": []
  },
  {
   "cell_type": "code",
   "execution_count": null,
   "id": "4984ea88",
   "metadata": {},
   "outputs": [],
   "source": []
  },
  {
   "cell_type": "code",
   "execution_count": null,
   "id": "a6bfe9b6",
   "metadata": {},
   "outputs": [],
   "source": []
  },
  {
   "cell_type": "code",
   "execution_count": null,
   "id": "e0772c94",
   "metadata": {},
   "outputs": [],
   "source": []
  },
  {
   "cell_type": "code",
   "execution_count": null,
   "id": "ec9ad4cb",
   "metadata": {},
   "outputs": [],
   "source": []
  },
  {
   "cell_type": "code",
   "execution_count": null,
   "id": "6fbbd7a7",
   "metadata": {},
   "outputs": [],
   "source": []
  },
  {
   "cell_type": "code",
   "execution_count": null,
   "id": "7bbb9719",
   "metadata": {},
   "outputs": [],
   "source": []
  },
  {
   "cell_type": "code",
   "execution_count": null,
   "id": "18385230",
   "metadata": {},
   "outputs": [],
   "source": []
  },
  {
   "cell_type": "code",
   "execution_count": null,
   "id": "b578ffb3",
   "metadata": {},
   "outputs": [],
   "source": []
  },
  {
   "cell_type": "code",
   "execution_count": null,
   "id": "82796535",
   "metadata": {},
   "outputs": [],
   "source": []
  },
  {
   "cell_type": "code",
   "execution_count": null,
   "id": "7ec45499",
   "metadata": {},
   "outputs": [],
   "source": []
  },
  {
   "cell_type": "code",
   "execution_count": null,
   "id": "1fe29d2c",
   "metadata": {},
   "outputs": [],
   "source": []
  },
  {
   "cell_type": "code",
   "execution_count": null,
   "id": "52575e02",
   "metadata": {},
   "outputs": [],
   "source": []
  },
  {
   "cell_type": "code",
   "execution_count": null,
   "id": "104fd3b9",
   "metadata": {},
   "outputs": [],
   "source": []
  },
  {
   "cell_type": "code",
   "execution_count": null,
   "id": "2dcdc2c9",
   "metadata": {},
   "outputs": [],
   "source": []
  },
  {
   "cell_type": "code",
   "execution_count": null,
   "id": "ae7d679e",
   "metadata": {},
   "outputs": [],
   "source": []
  },
  {
   "cell_type": "code",
   "execution_count": null,
   "id": "872b1fa8",
   "metadata": {},
   "outputs": [],
   "source": []
  },
  {
   "cell_type": "code",
   "execution_count": null,
   "id": "7f0c8ea1",
   "metadata": {},
   "outputs": [],
   "source": []
  },
  {
   "cell_type": "code",
   "execution_count": null,
   "id": "4c491671",
   "metadata": {},
   "outputs": [],
   "source": []
  },
  {
   "cell_type": "code",
   "execution_count": null,
   "id": "733fe16d",
   "metadata": {},
   "outputs": [],
   "source": []
  },
  {
   "cell_type": "code",
   "execution_count": null,
   "id": "0f06805b",
   "metadata": {},
   "outputs": [],
   "source": []
  },
  {
   "cell_type": "code",
   "execution_count": null,
   "id": "7b561412",
   "metadata": {},
   "outputs": [],
   "source": []
  },
  {
   "cell_type": "code",
   "execution_count": null,
   "id": "294deb8c",
   "metadata": {},
   "outputs": [],
   "source": []
  }
 ],
 "metadata": {
  "kernelspec": {
   "display_name": "Python 3",
   "language": "python",
   "name": "python3"
  },
  "language_info": {
   "codemirror_mode": {
    "name": "ipython",
    "version": 3
   },
   "file_extension": ".py",
   "mimetype": "text/x-python",
   "name": "python",
   "nbconvert_exporter": "python",
   "pygments_lexer": "ipython3",
   "version": "3.8.8"
  }
 },
 "nbformat": 4,
 "nbformat_minor": 5
}

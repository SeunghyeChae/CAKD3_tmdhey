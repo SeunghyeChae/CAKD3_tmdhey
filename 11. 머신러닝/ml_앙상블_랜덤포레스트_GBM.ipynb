{
 "cells": [
  {
   "cell_type": "markdown",
   "id": "cab2e7c7",
   "metadata": {},
   "source": [
    "## 앙상블 학습\n",
    "- 앙상블 학습의 유형은 보팅, 배경, 부스팅 세가지로 나눌 수 있으며 이외에도 스태깅을 포함한 다양한 앙상블 방법이 있\n",
    "다.\n",
    "- 보팅의 경우 서로 다른 알고리즘을 가진 분류기를 결합하는 것이고 배깅의 경우 각각의 분류기각 모두 같은 유형의 알고\n",
    "리즘 기반이다.\n",
    "- 정형 데이터의 예측 분석 영역에서는 매우 높은 예측 성능. Bagging 과 Boosting\n",
    "배깅 방식의 대표인 Random Forest는 뛰어난 예측 성능, 상대적으로 빠른 수행시간, 유연성 등으로 애용.\n",
    "- 부스팅의 효시는 Gradient Boosting, 한 단계 발전시키면서도 시간 단축시킨 XgBoost, LightGBM이 정형 데이터의 분류 영역에서 활용도 확대\n",
    "- 앙상블의 앙상블이라고 불리는 스태킹 기법\n",
    "- 앙상블의 기본 알고리즘은 결정 트리"
   ]
  },
  {
   "cell_type": "markdown",
   "id": "51a8a25f",
   "metadata": {},
   "source": [
    "## Voting Classifier \n",
    "- 하드보팅: 다수결 원칙, 다수의 분류기가 결정한 예측값을 최종 보팅 결과값으로 선정\n",
    "- 소프트 보팅: 분류기들의 레이블 값 결정 확률을 모두 더해서 평균하고 이들중 가장 높은 레이블 값을 최종 보팅 결과값으로 선정"
   ]
  },
  {
   "cell_type": "code",
   "execution_count": 5,
   "id": "a821c903",
   "metadata": {},
   "outputs": [
    {
     "data": {
      "text/plain": [
       "dict_keys(['data', 'target', 'frame', 'target_names', 'DESCR', 'feature_names', 'filename'])"
      ]
     },
     "execution_count": 5,
     "metadata": {},
     "output_type": "execute_result"
    }
   ],
   "source": [
    "import pandas as pd\n",
    "from sklearn.ensemble import VotingClassifier\n",
    "from sklearn.linear_model import LogisticRegression # 로지스틱은 리니어 모델에서 파생 \n",
    "from sklearn.neighbors import KNeighborsClassifier\n",
    "from sklearn.datasets import load_breast_cancer\n",
    "from sklearn.model_selection import train_test_split\n",
    "from sklearn.metrics import accuracy_score\n",
    "import warnings\n",
    "warnings.filterwarnings('ignore')\n",
    "\n",
    "cancer= load_breast_cancer()\n",
    "\n",
    "cancer.keys()"
   ]
  },
  {
   "cell_type": "code",
   "execution_count": 10,
   "id": "f846e564",
   "metadata": {},
   "outputs": [
    {
     "name": "stdout",
     "output_type": "stream",
     "text": [
      "LogisticRegression 정확도: 0.9386\n",
      "KNeighborsClassifier 정확도: 0.9035\n"
     ]
    }
   ],
   "source": [
    "lr_clf= LogisticRegression()\n",
    "knn_clf= KNeighborsClassifier()\n",
    "\n",
    "# 개별 모델을 소프트 보팅 기반의 앙상블 모델로 구현한 분류기 \n",
    "vo_clf= VotingClassifier(estimators=[('LR',lr_clf),('KNN',knn_clf)],voting='soft')\n",
    "\n",
    "X_train,X_test,y_train,y_test = train_test_split(cancer.data,cancer.target,\n",
    "                                                test_size=0.2,random_state=156)\n",
    "\n",
    "# 개별 모델의 학습/예측/평가\n",
    "classifiers= [lr_clf,knn_clf]\n",
    "for classifier in classifiers:\n",
    "    classifier.fit(X_train,y_train)\n",
    "    pred= classifier.predict(X_test)\n",
    "    class_name= classifier.__class__.__name__\n",
    "    print('{0} 정확도: {1:.4f}'.format(class_name,accuracy_score(y_test,pred)))"
   ]
  },
  {
   "cell_type": "code",
   "execution_count": 17,
   "id": "50f27b52",
   "metadata": {
    "scrolled": true
   },
   "outputs": [
    {
     "name": "stdout",
     "output_type": "stream",
     "text": [
      "VotingClassifier 정확도 : 0.9474\n"
     ]
    }
   ],
   "source": [
    "# votingclassifier 학습 평가\n",
    "\n",
    "vo_clf.fit(X_train,y_train)\n",
    "vpred = vo_clf.predict(X_test)\n",
    "class_name= vo_clf.__class__.__name__\n",
    "print('{0} 정확도 : {1:.4f}'.format(class_name,accuracy_score(y_test,vpred)))\n"
   ]
  },
  {
   "cell_type": "code",
   "execution_count": null,
   "id": "286fc372",
   "metadata": {},
   "outputs": [],
   "source": []
  },
  {
   "cell_type": "code",
   "execution_count": 18,
   "id": "dd68d9f4",
   "metadata": {},
   "outputs": [],
   "source": [
    "import pandas as pd\n",
    "\n",
    "def get_human_dataset( ):\n",
    "    \n",
    "    # 각 데이터 파일들은 공백으로 분리되어 있으므로 read_csv에서 공백 문자를 sep으로 할당.\n",
    "    feature_name_df = pd.read_csv('dataset/human_activity/features.txt',sep='\\s+',\n",
    "                        header=None,names=['column_index','column_name'])\n",
    "    # DataFrame에 피처명을 컬럼으로 부여하기 위해 리스트 객체로 다시 변환\n",
    "    feature_name = feature_name_df.iloc[:, 1].values.tolist()\n",
    "    \n",
    "    # 학습 피처 데이터 세트와 테스트 피처 데이터를 DataFrame으로 로딩, 칼럼명은 feature_name 적용\n",
    "    # 우선 칼럼명 없이 데이터프레임으로 불러온 후 칼럼명을 추가함\n",
    "    X_train = pd.read_csv('dataset/human_activity/train/X_train.txt', sep='\\s+', header=None)\n",
    "    X_train.columns = feature_name\n",
    "    X_test = pd.read_csv('dataset/human_activity/test/X_test.txt', sep='\\s+',header=None)\n",
    "    X_test.columns = feature_name\n",
    "    \n",
    "    # 학습 레이블과 테스트 레이블 데이터를 DataFrame으로 로딩하고 칼럼명은 action으로 부여\n",
    "    y_train = pd.read_csv('dataset//human_activity/train/y_train.txt', sep='\\s+', header=None, names = ['action'])\n",
    "    y_test = pd.read_csv('dataset/human_activity/test/y_test.txt', sep='\\s+', header=None, names = ['action'])\n",
    "    \n",
    "    # 로드된 학습/테스트용 DataFrame을 모두 반환 \n",
    "    return X_train, X_test, y_train, y_test\n",
    "\n",
    "\n",
    "X_train, X_test, y_train, y_test = get_human_dataset()"
   ]
  },
  {
   "cell_type": "code",
   "execution_count": 19,
   "id": "af0e7f4c",
   "metadata": {},
   "outputs": [
    {
     "name": "stdout",
     "output_type": "stream",
     "text": [
      "VotingClassifier 정확도: 0.9260\n"
     ]
    }
   ],
   "source": [
    "from sklearn.ensemble import RandomForestClassifier \n",
    "from sklearn.metrics import accuracy_score\n",
    "\n",
    "X_train, X_test, y_train, y_test = get_human_dataset()\n",
    "\n",
    "rf_clf = RandomForestClassifier()\n",
    "rf_clf.fit(X_train, y_train)\n",
    "rf_pred = rf_clf.predict(X_test)\n",
    "accuracy = accuracy_score(y_test,rf_pred)\n",
    "class_name= vo_clf.__class__.__name__\n",
    "print('{0} 정확도: {1:.4f}'.format(class_name,accuracy))\n"
   ]
  },
  {
   "cell_type": "code",
   "execution_count": null,
   "id": "c87b3ef9",
   "metadata": {},
   "outputs": [],
   "source": []
  },
  {
   "cell_type": "markdown",
   "id": "573d8a31",
   "metadata": {},
   "source": [
    "GBM ( Gradient Boosting Machine)\n",
    "- 부스팅 알고리즘은 여러 개의 약한 학습기(weak learner)를 순차적으로 학습 예측하면서 잘못 예측한 데이터에 가중치를 부여를 통해 오류를 개선해 나가면서 학습하는 방식\n",
    "- 가중치 업데이트를 경사하강법(Gradient Descent)를 이용한다.\n",
    "- 분류는 물론이고 회귀도 가능하다\n",
    "- 파라미터 : n_estimators, max_depth, max_features\n",
    "    - loss : 경사하강법에서 사용할 비용하수 지정, 기본값 deviance 적용\n",
    "    - learning_rate : GBM이 학습할 때 마다 적용할 학습률, 오류값 보정 시 적용하는 계수로 0~1 사이의 값 지정. 기본값은 0.1 작게 설정하면 예측성능이 높아지나 수행시간이 오래 걸리고 큰 값을 적용하면 예측 성능이 떨어질 가능성이 높으나 빠른 수행이 가능하다. n_estimator와 상호 보완적으로 조합해 사용\n",
    "    - n_estimator : weak learner의 개수\n",
    "    - subsample : weak learner가 학습에 사용되는 데이터의 샘플링 비율. 기본값은 1이다."
   ]
  },
  {
   "cell_type": "code",
   "execution_count": 24,
   "id": "f842e573",
   "metadata": {},
   "outputs": [
    {
     "ename": "AttributeError",
     "evalue": "'GradientBoostingClassifier' object has no attribute 'predic'",
     "output_type": "error",
     "traceback": [
      "\u001b[1;31m---------------------------------------------------------------------------\u001b[0m",
      "\u001b[1;31mAttributeError\u001b[0m                            Traceback (most recent call last)",
      "\u001b[1;32m<ipython-input-24-13e4123bedf2>\u001b[0m in \u001b[0;36m<module>\u001b[1;34m\u001b[0m\n\u001b[0;32m      9\u001b[0m \u001b[0mgb_clf\u001b[0m\u001b[1;33m=\u001b[0m \u001b[0mGradientBoostingClassifier\u001b[0m\u001b[1;33m(\u001b[0m\u001b[1;33m)\u001b[0m\u001b[1;33m\u001b[0m\u001b[1;33m\u001b[0m\u001b[0m\n\u001b[0;32m     10\u001b[0m \u001b[0mgb_clf\u001b[0m\u001b[1;33m.\u001b[0m\u001b[0mfit\u001b[0m\u001b[1;33m(\u001b[0m\u001b[0mX_train\u001b[0m\u001b[1;33m,\u001b[0m\u001b[0my_train\u001b[0m\u001b[1;33m)\u001b[0m\u001b[1;33m\u001b[0m\u001b[1;33m\u001b[0m\u001b[0m\n\u001b[1;32m---> 11\u001b[1;33m \u001b[0mgb_pred\u001b[0m\u001b[1;33m=\u001b[0m \u001b[0mgb_clf\u001b[0m\u001b[1;33m.\u001b[0m\u001b[0mpredic\u001b[0m\u001b[1;33m(\u001b[0m\u001b[0mX_test\u001b[0m\u001b[1;33m)\u001b[0m\u001b[1;33m\u001b[0m\u001b[1;33m\u001b[0m\u001b[0m\n\u001b[0m\u001b[0;32m     12\u001b[0m \u001b[0mgb_accuracy\u001b[0m\u001b[1;33m=\u001b[0m \u001b[0maccuracy_score\u001b[0m\u001b[1;33m(\u001b[0m\u001b[0my_test\u001b[0m\u001b[1;33m,\u001b[0m\u001b[0mgb_pred\u001b[0m\u001b[1;33m)\u001b[0m\u001b[1;33m\u001b[0m\u001b[1;33m\u001b[0m\u001b[0m\n\u001b[0;32m     13\u001b[0m \u001b[0mprint\u001b[0m\u001b[1;33m(\u001b[0m\u001b[1;34m'GBM 정확도 : {:4f}'\u001b[0m\u001b[1;33m.\u001b[0m\u001b[0mformat\u001b[0m\u001b[1;33m(\u001b[0m\u001b[0mgb_accuracy\u001b[0m\u001b[1;33m)\u001b[0m\u001b[1;33m)\u001b[0m\u001b[1;33m\u001b[0m\u001b[1;33m\u001b[0m\u001b[0m\n",
      "\u001b[1;31mAttributeError\u001b[0m: 'GradientBoostingClassifier' object has no attribute 'predic'"
     ]
    }
   ],
   "source": [
    "from sklearn.ensemble import GradientBoostingClassifier\n",
    "from sklearn.metrics import accuracy_score\n",
    "import time \n",
    "\n",
    "X_train, X_test, y_train, y_test = get_human_dataset()\n",
    "\n",
    "start_time= time.time()\n",
    "\n",
    "gb_clf= GradientBoostingClassifier()\n",
    "gb_clf.fit(X_train,y_train) \n",
    "gb_pred= gb_clf.predic(X_test)\n",
    "gb_accuracy= accuracy_score(y_test,gb_pred)\n",
    "print('GBM 정확도 : {:4f}'.format(gb_accuracy))\n",
    "print('GBM 수행시간: {:1f}'.format(time.time() - start_time()))"
   ]
  },
  {
   "cell_type": "code",
   "execution_count": 26,
   "id": "f4e7efad",
   "metadata": {
    "scrolled": true
   },
   "outputs": [
    {
     "name": "stdout",
     "output_type": "stream",
     "text": [
      "Fitting 2 folds for each of 4 candidates, totalling 8 fits\n",
      "최적 하이퍼 파라미터:\n",
      " {'learning_rate': 0.1, 'n_estimators': 200}\n",
      "최고 예측 정확도:0.8998\n"
     ]
    }
   ],
   "source": [
    "# 주의: 30 ~ 1시간 소요\n",
    "from sklearn.model_selection import GridSearchCV\n",
    "\n",
    "params= {\n",
    "    'n_estimators':[100,200],\n",
    "    'learning_rate':[0.05,0.1]\n",
    "}\n",
    "grid_cv= GridSearchCV(gb_clf , param_grid=params , cv=2 , verbose=1 )\n",
    "grid_cv.fit(X_train,y_train)\n",
    "\n",
    "print('최적 하이퍼 파라미터:\\n',grid_cv.best_params_)\n",
    "print('최고 예측 정확도:{:.4f}'.format(grid_cv.best_score_))\n",
    "\n",
    "# 직접 입력해주는게 하이퍼 파라이터\n",
    "# 직접 입력 안해주는게 파라미터 (모수를 파라미터라고 함)"
   ]
  },
  {
   "cell_type": "code",
   "execution_count": 27,
   "id": "c4583f21",
   "metadata": {},
   "outputs": [
    {
     "name": "stdout",
     "output_type": "stream",
     "text": [
      "GBM 정확도:0.9403\n"
     ]
    }
   ],
   "source": [
    "gb_pred= grid_cv.best_estimator_.predict(X_test)\n",
    "gb_accuracy= accuracy_score(y_test,gb_pred)\n",
    "print('GBM 정확도:{:.4f}'.format(gb_accuracy))"
   ]
  },
  {
   "cell_type": "code",
   "execution_count": 28,
   "id": "f50912a6",
   "metadata": {},
   "outputs": [],
   "source": [
    "# 랜덤포레스트\n",
    "# GBM\n",
    "# logistic Regression \n",
    "# KNN\n",
    "# decision tree \n",
    "# 서포트백터머신 \n",
    "\n",
    "# lightGBM\n",
    "# xgboost"
   ]
  },
  {
   "cell_type": "code",
   "execution_count": 29,
   "id": "3fb945b6",
   "metadata": {},
   "outputs": [],
   "source": [
    "# 통계에서 계수 == 머신러닝,딥러닝에서의 가중치"
   ]
  },
  {
   "cell_type": "code",
   "execution_count": null,
   "id": "4381acf7",
   "metadata": {},
   "outputs": [],
   "source": []
  },
  {
   "cell_type": "code",
   "execution_count": null,
   "id": "ab0def0e",
   "metadata": {},
   "outputs": [],
   "source": []
  },
  {
   "cell_type": "code",
   "execution_count": null,
   "id": "03551e69",
   "metadata": {},
   "outputs": [],
   "source": []
  },
  {
   "cell_type": "code",
   "execution_count": null,
   "id": "d829ed1b",
   "metadata": {},
   "outputs": [],
   "source": []
  },
  {
   "cell_type": "code",
   "execution_count": null,
   "id": "b36fcfa0",
   "metadata": {},
   "outputs": [],
   "source": []
  },
  {
   "cell_type": "code",
   "execution_count": null,
   "id": "2e7ebf0f",
   "metadata": {},
   "outputs": [],
   "source": []
  },
  {
   "cell_type": "code",
   "execution_count": null,
   "id": "59d6d160",
   "metadata": {},
   "outputs": [],
   "source": []
  }
 ],
 "metadata": {
  "kernelspec": {
   "display_name": "Python 3",
   "language": "python",
   "name": "python3"
  },
  "language_info": {
   "codemirror_mode": {
    "name": "ipython",
    "version": 3
   },
   "file_extension": ".py",
   "mimetype": "text/x-python",
   "name": "python",
   "nbconvert_exporter": "python",
   "pygments_lexer": "ipython3",
   "version": "3.8.8"
  }
 },
 "nbformat": 4,
 "nbformat_minor": 5
}

{
 "cells": [
  {
   "cell_type": "code",
   "execution_count": 1,
   "id": "3e0c9fdc",
   "metadata": {},
   "outputs": [],
   "source": [
    "## import statsmodels.formula.api as smf\n",
    "import statsmodels.api as sm\n",
    "\n",
    "import pandas as pd\n",
    "import numpy as np\n",
    "import seaborn as sns\n",
    "import matplotlib.pyplot as plt\n",
    "%matplotlib inline\n",
    "plt.style.use('seaborn-dark')\n",
    "%config InlineBackend.figure_format = 'retina'\n",
    "pd.options.display.max_rows = 20\n",
    "pd.options.display.max_columns = 20\n",
    "\n",
    "plt.rcParams[\"figure.figsize\"] = (14,4)\n",
    "plt.rcParams['lines.linewidth'] = 2\n",
    "plt.rcParams['lines.color'] = 'r'\n",
    "plt.rcParams['axes.grid'] = True "
   ]
  },
  {
   "cell_type": "code",
   "execution_count": 3,
   "id": "95241ec2",
   "metadata": {},
   "outputs": [
    {
     "data": {
      "text/plain": [
       "0    58.529820\n",
       "1    52.353039\n",
       "2    74.446169\n",
       "3    52.983263\n",
       "4    55.876879\n",
       "Name: weight, dtype: float64"
      ]
     },
     "execution_count": 3,
     "metadata": {},
     "output_type": "execute_result"
    }
   ],
   "source": [
    "# t검정: 귀무가설 >> 과자의 무게는 50g이다.\n",
    "import pandas as pd\n",
    "\n",
    "junk_food= pd.read_csv('dataset/5_8_jfw.csv')\n",
    "\n",
    "jfood= junk_food.weight\n",
    "jfood.head()"
   ]
  },
  {
   "cell_type": "code",
   "execution_count": 4,
   "id": "9d69fe01",
   "metadata": {},
   "outputs": [
    {
     "data": {
      "text/plain": [
       "55.38496619666667"
      ]
     },
     "execution_count": 4,
     "metadata": {},
     "output_type": "execute_result"
    }
   ],
   "source": [
    "# 표본평균 \n",
    "import numpy as np\n",
    "mu= np.mean(jfood)\n",
    "mu"
   ]
  },
  {
   "cell_type": "code",
   "execution_count": 6,
   "id": "a58891f8",
   "metadata": {},
   "outputs": [
    {
     "data": {
      "text/plain": [
       "19"
      ]
     },
     "execution_count": 6,
     "metadata": {},
     "output_type": "execute_result"
    }
   ],
   "source": [
    "# 자유도\n",
    "df= len(jfood)-1\n",
    "df"
   ]
  },
  {
   "cell_type": "code",
   "execution_count": 7,
   "id": "db6b057e",
   "metadata": {},
   "outputs": [
    {
     "data": {
      "text/plain": [
       "1.9579276805755885"
      ]
     },
     "execution_count": 7,
     "metadata": {},
     "output_type": "execute_result"
    }
   ],
   "source": [
    "# 표준오차\n",
    "sigma= np.std(jfood,ddof=1) # 표주편차\n",
    "se= sigma/np.sqrt(len(jfood)) # sqrt n \n",
    "se"
   ]
  },
  {
   "cell_type": "code",
   "execution_count": 8,
   "id": "759e1cc2",
   "metadata": {},
   "outputs": [
    {
     "data": {
      "text/plain": [
       "2.7503396831713434"
      ]
     },
     "execution_count": 8,
     "metadata": {},
     "output_type": "execute_result"
    }
   ],
   "source": [
    "t_value= (mu-50)/se\n",
    "t_value"
   ]
  },
  {
   "cell_type": "code",
   "execution_count": 9,
   "id": "1c5cb9bb",
   "metadata": {},
   "outputs": [
    {
     "data": {
      "text/plain": [
       "0.012725590012524268"
      ]
     },
     "execution_count": 9,
     "metadata": {},
     "output_type": "execute_result"
    }
   ],
   "source": [
    "# p값(유의확률)이 유의수준 0.05보다 작으면 귀무가설 기각 \n",
    "from scipy import stats\n",
    "alpha= stats.t.cdf(t_value, df=df)  ## 왜 cdf 쓰는지 몰겠음\n",
    "\n",
    "# 양측검정\n",
    "(1-alpha)*2  # 이건 왜 하는거지... "
   ]
  },
  {
   "cell_type": "code",
   "execution_count": null,
   "id": "ea373bbc",
   "metadata": {},
   "outputs": [],
   "source": []
  },
  {
   "cell_type": "code",
   "execution_count": 10,
   "id": "a328c6c5",
   "metadata": {},
   "outputs": [
    {
     "data": {
      "text/html": [
       "<div>\n",
       "<style scoped>\n",
       "    .dataframe tbody tr th:only-of-type {\n",
       "        vertical-align: middle;\n",
       "    }\n",
       "\n",
       "    .dataframe tbody tr th {\n",
       "        vertical-align: top;\n",
       "    }\n",
       "\n",
       "    .dataframe thead th {\n",
       "        text-align: right;\n",
       "    }\n",
       "</style>\n",
       "<table border=\"1\" class=\"dataframe\">\n",
       "  <thead>\n",
       "    <tr style=\"text-align: right;\">\n",
       "      <th></th>\n",
       "      <th>person</th>\n",
       "      <th>medicine</th>\n",
       "      <th>body_temperature</th>\n",
       "    </tr>\n",
       "  </thead>\n",
       "  <tbody>\n",
       "    <tr>\n",
       "      <th>0</th>\n",
       "      <td>A</td>\n",
       "      <td>before</td>\n",
       "      <td>36.2</td>\n",
       "    </tr>\n",
       "    <tr>\n",
       "      <th>1</th>\n",
       "      <td>B</td>\n",
       "      <td>before</td>\n",
       "      <td>36.2</td>\n",
       "    </tr>\n",
       "    <tr>\n",
       "      <th>2</th>\n",
       "      <td>C</td>\n",
       "      <td>before</td>\n",
       "      <td>35.3</td>\n",
       "    </tr>\n",
       "    <tr>\n",
       "      <th>3</th>\n",
       "      <td>D</td>\n",
       "      <td>before</td>\n",
       "      <td>36.1</td>\n",
       "    </tr>\n",
       "    <tr>\n",
       "      <th>4</th>\n",
       "      <td>E</td>\n",
       "      <td>before</td>\n",
       "      <td>36.1</td>\n",
       "    </tr>\n",
       "    <tr>\n",
       "      <th>5</th>\n",
       "      <td>A</td>\n",
       "      <td>after</td>\n",
       "      <td>36.8</td>\n",
       "    </tr>\n",
       "    <tr>\n",
       "      <th>6</th>\n",
       "      <td>B</td>\n",
       "      <td>after</td>\n",
       "      <td>36.1</td>\n",
       "    </tr>\n",
       "    <tr>\n",
       "      <th>7</th>\n",
       "      <td>C</td>\n",
       "      <td>after</td>\n",
       "      <td>36.8</td>\n",
       "    </tr>\n",
       "    <tr>\n",
       "      <th>8</th>\n",
       "      <td>D</td>\n",
       "      <td>after</td>\n",
       "      <td>37.1</td>\n",
       "    </tr>\n",
       "    <tr>\n",
       "      <th>9</th>\n",
       "      <td>E</td>\n",
       "      <td>after</td>\n",
       "      <td>36.9</td>\n",
       "    </tr>\n",
       "  </tbody>\n",
       "</table>\n",
       "</div>"
      ],
      "text/plain": [
       "  person medicine  body_temperature\n",
       "0      A   before              36.2\n",
       "1      B   before              36.2\n",
       "2      C   before              35.3\n",
       "3      D   before              36.1\n",
       "4      E   before              36.1\n",
       "5      A    after              36.8\n",
       "6      B    after              36.1\n",
       "7      C    after              36.8\n",
       "8      D    after              37.1\n",
       "9      E    after              36.9"
      ]
     },
     "execution_count": 10,
     "metadata": {},
     "output_type": "execute_result"
    }
   ],
   "source": [
    "pt_data= pd.read_csv('dataset/5_9_ptt.csv')\n",
    "pt_data"
   ]
  },
  {
   "cell_type": "code",
   "execution_count": 12,
   "id": "590ac1ea",
   "metadata": {},
   "outputs": [
    {
     "data": {
      "text/plain": [
       "array([ 0.6, -0.1,  1.5,  1. ,  0.8])"
      ]
     },
     "execution_count": 12,
     "metadata": {},
     "output_type": "execute_result"
    }
   ],
   "source": [
    "# 대응표본 t검정 \n",
    "before = pt_data.query('medicine==\"before\"')['body_temperature']\n",
    "after = pt_data.query('medicine==\"after\"')['body_temperature']\n",
    "\n",
    "before= np.array(before)\n",
    "after= np.array(after)\n",
    "diff= after- before \n",
    "\n",
    "diff"
   ]
  },
  {
   "cell_type": "code",
   "execution_count": 13,
   "id": "0b92a61d",
   "metadata": {},
   "outputs": [
    {
     "data": {
      "text/plain": [
       "Ttest_1sampResult(statistic=2.901693483620596, pvalue=0.044043109730074276)"
      ]
     },
     "execution_count": 13,
     "metadata": {},
     "output_type": "execute_result"
    }
   ],
   "source": [
    "# 비교집단 평균값이 0과 다른지 검정\n",
    "# 귀무가설을 기각하므로 유의미한 차이가 있다고 주장할 수 있다.\n",
    "\n",
    "stats.ttest_1samp(diff,0)  # 비교집단, 관측치 \n"
   ]
  },
  {
   "cell_type": "code",
   "execution_count": null,
   "id": "47b92fb7",
   "metadata": {},
   "outputs": [],
   "source": [
    "# 독립표본 t검정\n",
    "\n",
    "# 평균치\n",
    "mean_bf= np.mean(before)\n"
   ]
  },
  {
   "cell_type": "code",
   "execution_count": null,
   "id": "3657f6f7",
   "metadata": {},
   "outputs": [],
   "source": []
  },
  {
   "cell_type": "code",
   "execution_count": null,
   "id": "82516a57",
   "metadata": {},
   "outputs": [],
   "source": []
  },
  {
   "cell_type": "code",
   "execution_count": null,
   "id": "69a814b9",
   "metadata": {},
   "outputs": [],
   "source": []
  }
 ],
 "metadata": {
  "kernelspec": {
   "display_name": "Python 3",
   "language": "python",
   "name": "python3"
  },
  "language_info": {
   "codemirror_mode": {
    "name": "ipython",
    "version": 3
   },
   "file_extension": ".py",
   "mimetype": "text/x-python",
   "name": "python",
   "nbconvert_exporter": "python",
   "pygments_lexer": "ipython3",
   "version": "3.8.8"
  }
 },
 "nbformat": 4,
 "nbformat_minor": 5
}

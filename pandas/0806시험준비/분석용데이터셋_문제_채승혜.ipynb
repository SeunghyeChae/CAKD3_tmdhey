{
 "cells": [
  {
   "cell_type": "code",
   "execution_count": 156,
   "metadata": {},
   "outputs": [],
   "source": [
    "import pandas as pd\n",
    "import numpy as np\n",
    "import seaborn as sns\n",
    "import matplotlib.pyplot as plt\n",
    "%matplotlib inline\n"
   ]
  },
  {
   "cell_type": "markdown",
   "metadata": {},
   "source": [
    "## 빅데이터 기반 AI 응용 솔루션 개발자 전문과정\n",
    "\n",
    "### 교과목명 : 분석용 데이터셋 구축\n",
    "- 평가일 : 21.8.6\n",
    "- 성명 : 채승혜\n",
    "- 점수 : 41.5+ 45 = 86.5"
   ]
  },
  {
   "cell_type": "markdown",
   "metadata": {},
   "source": [
    "### Q1. 타이타닉 생존자 예측모델 개발을 위한 Titanic 분석용 데이터셋을 생성한 후 주어진 방법으로 예측 정확도를 평가하세요.\n",
    "\n",
    "#### Titanic data 전처리\n",
    "- 분석 데이터 : titanic3.csv\n",
    "- 재사용 가능한 전처리 사용자 함수 작성 하여 전처리\n",
    "    - Null 값 처리 : Age는 평균나이, 나머지 칼럼은 'N'값으로 변경\n",
    "    - 불필요한 속성 칼럼 삭제\n",
    "    - 문자열 칼럼 레이블 인코딩\n",
    "- 통계적, 시각적 탐색을 통한 다양한 인사이트 도출\n",
    "- 탐색적 분석을 통한 feature engineering, 파생변수 \n",
    "\n",
    "#### 컬럼 정보\n",
    "\n",
    "- survived : 생존여부(1: 생존, 0 : 사망)\n",
    "- pclass : 승선권 클래스(1 : 1st, 2 : 2nd ,3 : 3rd)\n",
    "- name : 승객 이름\n",
    "- sex : 승객 성별\n",
    "- age : 승객 나이\n",
    "- sibsp : 동반한 형제자매, 배우자 수\n",
    "- parch : 동반한 부모, 자식 수\n",
    "- ticket : 티켓의 고유 넘버\n",
    "- fare 티켓의 요금\n",
    "- cabin : 객실 번호\n",
    "- embarked : 승선한 항구명(C : Cherbourg, Q : Queenstown, S : Southampton)\n",
    "- boat\n",
    "- body\n",
    "- home.dest\n",
    "\n",
    "#### 점수 산정\n",
    "- 예측 정확도 0.87 이상 50점\n",
    "- 예측 정확도 0.85 이상 45점\n",
    "- 예측 정확도 0.84 이하 정확도/2점"
   ]
  },
  {
   "cell_type": "code",
   "execution_count": 157,
   "metadata": {},
   "outputs": [
    {
     "data": {
      "text/html": [
       "<div>\n",
       "<style scoped>\n",
       "    .dataframe tbody tr th:only-of-type {\n",
       "        vertical-align: middle;\n",
       "    }\n",
       "\n",
       "    .dataframe tbody tr th {\n",
       "        vertical-align: top;\n",
       "    }\n",
       "\n",
       "    .dataframe thead th {\n",
       "        text-align: right;\n",
       "    }\n",
       "</style>\n",
       "<table border=\"1\" class=\"dataframe\">\n",
       "  <thead>\n",
       "    <tr style=\"text-align: right;\">\n",
       "      <th></th>\n",
       "      <th>pclass</th>\n",
       "      <th>survived</th>\n",
       "      <th>name</th>\n",
       "      <th>sex</th>\n",
       "      <th>age</th>\n",
       "      <th>sibsp</th>\n",
       "      <th>parch</th>\n",
       "      <th>ticket</th>\n",
       "      <th>fare</th>\n",
       "      <th>cabin</th>\n",
       "      <th>embarked</th>\n",
       "      <th>boat</th>\n",
       "      <th>body</th>\n",
       "      <th>home.dest</th>\n",
       "    </tr>\n",
       "  </thead>\n",
       "  <tbody>\n",
       "    <tr>\n",
       "      <th>0</th>\n",
       "      <td>1</td>\n",
       "      <td>1</td>\n",
       "      <td>Allen, Miss. Elisabeth Walton</td>\n",
       "      <td>female</td>\n",
       "      <td>29.0000</td>\n",
       "      <td>0</td>\n",
       "      <td>0</td>\n",
       "      <td>24160</td>\n",
       "      <td>211.3375</td>\n",
       "      <td>B5</td>\n",
       "      <td>S</td>\n",
       "      <td>2</td>\n",
       "      <td>NaN</td>\n",
       "      <td>St Louis, MO</td>\n",
       "    </tr>\n",
       "    <tr>\n",
       "      <th>1</th>\n",
       "      <td>1</td>\n",
       "      <td>1</td>\n",
       "      <td>Allison, Master. Hudson Trevor</td>\n",
       "      <td>male</td>\n",
       "      <td>0.9167</td>\n",
       "      <td>1</td>\n",
       "      <td>2</td>\n",
       "      <td>113781</td>\n",
       "      <td>151.5500</td>\n",
       "      <td>C22 C26</td>\n",
       "      <td>S</td>\n",
       "      <td>11</td>\n",
       "      <td>NaN</td>\n",
       "      <td>Montreal, PQ / Chesterville, ON</td>\n",
       "    </tr>\n",
       "  </tbody>\n",
       "</table>\n",
       "</div>"
      ],
      "text/plain": [
       "   pclass  survived                            name     sex      age  sibsp  \\\n",
       "0       1         1   Allen, Miss. Elisabeth Walton  female  29.0000      0   \n",
       "1       1         1  Allison, Master. Hudson Trevor    male   0.9167      1   \n",
       "\n",
       "   parch  ticket      fare    cabin embarked boat  body  \\\n",
       "0      0   24160  211.3375       B5        S    2   NaN   \n",
       "1      2  113781  151.5500  C22 C26        S   11   NaN   \n",
       "\n",
       "                         home.dest  \n",
       "0                     St Louis, MO  \n",
       "1  Montreal, PQ / Chesterville, ON  "
      ]
     },
     "execution_count": 157,
     "metadata": {},
     "output_type": "execute_result"
    }
   ],
   "source": [
    "df = pd.read_csv('./dataset/titanic3.csv')\n",
    "df.head(2)"
   ]
  },
  {
   "cell_type": "code",
   "execution_count": 158,
   "metadata": {},
   "outputs": [
    {
     "data": {
      "text/plain": [
       "pclass          0\n",
       "survived        0\n",
       "name            0\n",
       "sex             0\n",
       "age           263\n",
       "sibsp           0\n",
       "parch           0\n",
       "ticket          0\n",
       "fare            1\n",
       "cabin        1014\n",
       "embarked        2\n",
       "boat          823\n",
       "body         1188\n",
       "home.dest     564\n",
       "dtype: int64"
      ]
     },
     "execution_count": 158,
     "metadata": {},
     "output_type": "execute_result"
    }
   ],
   "source": [
    "df.isnull().sum()"
   ]
  },
  {
   "cell_type": "code",
   "execution_count": 159,
   "metadata": {},
   "outputs": [],
   "source": [
    "df.drop(['cabin','body','home.dest','ticket','boat'],axis=1,inplace=True)"
   ]
  },
  {
   "cell_type": "markdown",
   "metadata": {},
   "source": [
    "### 1. age 결측치 처리"
   ]
  },
  {
   "cell_type": "code",
   "execution_count": 160,
   "metadata": {},
   "outputs": [],
   "source": [
    "# name으로 title_cat 만들기\n",
    "\n",
    "\n",
    "for i in df:\n",
    "    df['title_cat']= df.name.str.extract('([a-zA-Z]+)\\.') "
   ]
  },
  {
   "cell_type": "code",
   "execution_count": 161,
   "metadata": {},
   "outputs": [
    {
     "data": {
      "text/plain": [
       "array(['Miss', 'Master', 'Mr', 'Mrs', 'Col', 'Mme', 'Dr', 'Major', 'Capt',\n",
       "       'Lady', 'Sir', 'Mlle', 'Dona', 'Jonkheer', 'Countess', 'Don',\n",
       "       'Rev', 'Ms'], dtype=object)"
      ]
     },
     "execution_count": 161,
     "metadata": {},
     "output_type": "execute_result"
    }
   ],
   "source": [
    "df.title_cat.unique()"
   ]
  },
  {
   "cell_type": "code",
   "execution_count": 162,
   "metadata": {},
   "outputs": [],
   "source": [
    "df.title_cat.replace(['Miss', 'Master', 'Mr', 'Mrs', 'Col', 'Mme', 'Dr', 'Major', 'Capt',\n",
    "       'Lady', 'Sir', 'Mlle', 'Dona', 'Jonkheer', 'Countess', 'Don',\n",
    "       'Rev', 'Ms'],\n",
    "        ['Miss', 'Master', 'Mr', 'Mrs', 'Other', 'Other', 'Other', 'Other', 'Other',\n",
    "       'Miss', 'Other', 'Other', 'Other', 'Other', 'Other', 'Other',\n",
    "       'Other', 'Ms'],inplace=True)\n"
   ]
  },
  {
   "cell_type": "code",
   "execution_count": 163,
   "metadata": {},
   "outputs": [
    {
     "data": {
      "text/plain": [
       "title_cat\n",
       "Master     5.482704\n",
       "Miss      21.898500\n",
       "Mr        32.252151\n",
       "Mrs       36.994118\n",
       "Ms        28.000000\n",
       "Other     42.966667\n",
       "Name: age, dtype: float64"
      ]
     },
     "execution_count": 163,
     "metadata": {},
     "output_type": "execute_result"
    }
   ],
   "source": [
    "df.groupby('title_cat')['age'].mean()"
   ]
  },
  {
   "cell_type": "code",
   "execution_count": 164,
   "metadata": {},
   "outputs": [
    {
     "data": {
      "text/plain": [
       "0"
      ]
     },
     "execution_count": 164,
     "metadata": {},
     "output_type": "execute_result"
    }
   ],
   "source": [
    "\n",
    "\n",
    "df.loc[(df.age.isnull()&(df.title_cat=='Master')),'age'] = 5\n",
    "df.loc[(df.age.isnull()&(df.title_cat=='Miss')),'age'] = 22\n",
    "df.loc[(df.age.isnull()&(df.title_cat=='Mr')),'age'] = 32\n",
    "df.loc[(df.age.isnull()&(df.title_cat=='Mrs')),'age'] = 37\n",
    "df.loc[(df.age.isnull()&(df.title_cat=='Ms')),'age'] = 28\n",
    "df.loc[(df.age.isnull()&(df.title_cat=='Other')),'age'] = 43\n",
    "\n",
    "df.age.isnull().sum()"
   ]
  },
  {
   "cell_type": "markdown",
   "metadata": {},
   "source": [
    "### pclass / sex 에 따른 생존확률"
   ]
  },
  {
   "cell_type": "code",
   "execution_count": 165,
   "metadata": {},
   "outputs": [
    {
     "data": {
      "text/plain": [
       "<seaborn.axisgrid.FacetGrid at 0x13c4811cf10>"
      ]
     },
     "execution_count": 165,
     "metadata": {},
     "output_type": "execute_result"
    },
    {
     "data": {
      "image/png": "[encoded data removed]",
      "text/plain": [
       "<Figure size 430.5x360 with 1 Axes>"
      ]
     },
     "metadata": {
      "needs_background": "light"
     },
     "output_type": "display_data"
    }
   ],
   "source": [
    "import warnings\n",
    "warnings.filterwarnings('ignore')\n",
    "dp = sns.factorplot(x=\"pclass\",y=\"survived\",hue='sex',data=df,kind=\"bar\")\n",
    "dp.set_ylabels(\"Survival Probability\")\n"
   ]
  },
  {
   "cell_type": "markdown",
   "metadata": {},
   "source": [
    "### embarked 결측치 처리 "
   ]
  },
  {
   "cell_type": "code",
   "execution_count": 166,
   "metadata": {},
   "outputs": [
    {
     "data": {
      "text/plain": [
       "S    914\n",
       "C    270\n",
       "Q    123\n",
       "Name: embarked, dtype: int64"
      ]
     },
     "execution_count": 166,
     "metadata": {},
     "output_type": "execute_result"
    }
   ],
   "source": [
    "df.embarked.value_counts()"
   ]
  },
  {
   "cell_type": "code",
   "execution_count": 167,
   "metadata": {},
   "outputs": [],
   "source": [
    "df.embarked.fillna('S',inplace=True)"
   ]
  },
  {
   "cell_type": "code",
   "execution_count": 168,
   "metadata": {},
   "outputs": [
    {
     "data": {
      "text/plain": [
       "0"
      ]
     },
     "execution_count": 168,
     "metadata": {},
     "output_type": "execute_result"
    }
   ],
   "source": [
    "df.embarked.isnull().sum()"
   ]
  },
  {
   "cell_type": "markdown",
   "metadata": {},
   "source": [
    "### fare 결측값 처리"
   ]
  },
  {
   "cell_type": "code",
   "execution_count": 169,
   "metadata": {},
   "outputs": [
    {
     "data": {
      "text/html": [
       "<div>\n",
       "<style scoped>\n",
       "    .dataframe tbody tr th:only-of-type {\n",
       "        vertical-align: middle;\n",
       "    }\n",
       "\n",
       "    .dataframe tbody tr th {\n",
       "        vertical-align: top;\n",
       "    }\n",
       "\n",
       "    .dataframe thead th {\n",
       "        text-align: right;\n",
       "    }\n",
       "</style>\n",
       "<table border=\"1\" class=\"dataframe\">\n",
       "  <thead>\n",
       "    <tr style=\"text-align: right;\">\n",
       "      <th></th>\n",
       "      <th>pclass</th>\n",
       "      <th>survived</th>\n",
       "      <th>name</th>\n",
       "      <th>sex</th>\n",
       "      <th>age</th>\n",
       "      <th>sibsp</th>\n",
       "      <th>parch</th>\n",
       "      <th>fare</th>\n",
       "      <th>embarked</th>\n",
       "      <th>title_cat</th>\n",
       "    </tr>\n",
       "  </thead>\n",
       "  <tbody>\n",
       "    <tr>\n",
       "      <th>1225</th>\n",
       "      <td>3</td>\n",
       "      <td>0</td>\n",
       "      <td>Storey, Mr. Thomas</td>\n",
       "      <td>male</td>\n",
       "      <td>60.5</td>\n",
       "      <td>0</td>\n",
       "      <td>0</td>\n",
       "      <td>NaN</td>\n",
       "      <td>S</td>\n",
       "      <td>Mr</td>\n",
       "    </tr>\n",
       "  </tbody>\n",
       "</table>\n",
       "</div>"
      ],
      "text/plain": [
       "      pclass  survived                name   sex   age  sibsp  parch  fare  \\\n",
       "1225       3         0  Storey, Mr. Thomas  male  60.5      0      0   NaN   \n",
       "\n",
       "     embarked title_cat  \n",
       "1225        S        Mr  "
      ]
     },
     "execution_count": 169,
     "metadata": {},
     "output_type": "execute_result"
    }
   ],
   "source": [
    "df[df.fare.isnull()]"
   ]
  },
  {
   "cell_type": "code",
   "execution_count": 170,
   "metadata": {},
   "outputs": [
    {
     "data": {
      "text/plain": [
       "pclass\n",
       "1    87.508992\n",
       "2    21.179196\n",
       "3    13.302889\n",
       "Name: fare, dtype: float64"
      ]
     },
     "execution_count": 170,
     "metadata": {},
     "output_type": "execute_result"
    }
   ],
   "source": [
    "df.groupby(['pclass'])['fare'].mean()\n"
   ]
  },
  {
   "cell_type": "code",
   "execution_count": 171,
   "metadata": {},
   "outputs": [
    {
     "data": {
      "text/plain": [
       "0"
      ]
     },
     "execution_count": 171,
     "metadata": {},
     "output_type": "execute_result"
    }
   ],
   "source": [
    "df.fare.fillna(13.3,inplace=True)\n",
    "\n",
    "df.fare.isnull().sum()"
   ]
  },
  {
   "cell_type": "markdown",
   "metadata": {},
   "source": [
    "### age 범주화 "
   ]
  },
  {
   "cell_type": "code",
   "execution_count": 172,
   "metadata": {},
   "outputs": [],
   "source": [
    "def cat_age(x):\n",
    "    cat = ''\n",
    "    if x < 10: \n",
    "        cat = 'young'\n",
    "    elif 10<= x <20 : \n",
    "        cat = 'teen'\n",
    "    elif 21<= x <40 : \n",
    "        cat = 'adult'\n",
    "    elif 40<= x <60 :  \n",
    "        cat = 'mature'\n",
    "    else: \n",
    "        cat = 'elder'\n",
    "    return cat\n"
   ]
  },
  {
   "cell_type": "code",
   "execution_count": 173,
   "metadata": {},
   "outputs": [
    {
     "data": {
      "text/html": [
       "<div>\n",
       "<style scoped>\n",
       "    .dataframe tbody tr th:only-of-type {\n",
       "        vertical-align: middle;\n",
       "    }\n",
       "\n",
       "    .dataframe tbody tr th {\n",
       "        vertical-align: top;\n",
       "    }\n",
       "\n",
       "    .dataframe thead th {\n",
       "        text-align: right;\n",
       "    }\n",
       "</style>\n",
       "<table border=\"1\" class=\"dataframe\">\n",
       "  <thead>\n",
       "    <tr style=\"text-align: right;\">\n",
       "      <th></th>\n",
       "      <th>pclass</th>\n",
       "      <th>survived</th>\n",
       "      <th>name</th>\n",
       "      <th>sex</th>\n",
       "      <th>age</th>\n",
       "      <th>sibsp</th>\n",
       "      <th>parch</th>\n",
       "      <th>fare</th>\n",
       "      <th>embarked</th>\n",
       "      <th>title_cat</th>\n",
       "      <th>age_cat</th>\n",
       "    </tr>\n",
       "  </thead>\n",
       "  <tbody>\n",
       "    <tr>\n",
       "      <th>0</th>\n",
       "      <td>1</td>\n",
       "      <td>1</td>\n",
       "      <td>Allen, Miss. Elisabeth Walton</td>\n",
       "      <td>female</td>\n",
       "      <td>29.0</td>\n",
       "      <td>0</td>\n",
       "      <td>0</td>\n",
       "      <td>211.3375</td>\n",
       "      <td>S</td>\n",
       "      <td>Miss</td>\n",
       "      <td>adult</td>\n",
       "    </tr>\n",
       "  </tbody>\n",
       "</table>\n",
       "</div>"
      ],
      "text/plain": [
       "   pclass  survived                           name     sex   age  sibsp  \\\n",
       "0       1         1  Allen, Miss. Elisabeth Walton  female  29.0      0   \n",
       "\n",
       "   parch      fare embarked title_cat age_cat  \n",
       "0      0  211.3375        S      Miss   adult  "
      ]
     },
     "execution_count": 173,
     "metadata": {},
     "output_type": "execute_result"
    }
   ],
   "source": [
    "age_cat = df.age.apply(lambda x : cat_age(x))\n",
    "df['age_cat'] = age_cat\n",
    "df.head(1)"
   ]
  },
  {
   "cell_type": "markdown",
   "metadata": {},
   "source": [
    "### fare 범주화"
   ]
  },
  {
   "cell_type": "code",
   "execution_count": 174,
   "metadata": {},
   "outputs": [
    {
     "data": {
      "text/plain": [
       "count    1309.000000\n",
       "mean       33.280204\n",
       "std        51.741831\n",
       "min         0.000000\n",
       "25%         7.895800\n",
       "50%        14.454200\n",
       "75%        31.275000\n",
       "max       512.329200\n",
       "Name: fare, dtype: float64"
      ]
     },
     "execution_count": 174,
     "metadata": {},
     "output_type": "execute_result"
    }
   ],
   "source": [
    "df.fare.describe()"
   ]
  },
  {
   "cell_type": "code",
   "execution_count": 175,
   "metadata": {},
   "outputs": [
    {
     "data": {
      "text/html": [
       "<div>\n",
       "<style scoped>\n",
       "    .dataframe tbody tr th:only-of-type {\n",
       "        vertical-align: middle;\n",
       "    }\n",
       "\n",
       "    .dataframe tbody tr th {\n",
       "        vertical-align: top;\n",
       "    }\n",
       "\n",
       "    .dataframe thead th {\n",
       "        text-align: right;\n",
       "    }\n",
       "</style>\n",
       "<table border=\"1\" class=\"dataframe\">\n",
       "  <thead>\n",
       "    <tr style=\"text-align: right;\">\n",
       "      <th></th>\n",
       "      <th>pclass</th>\n",
       "      <th>survived</th>\n",
       "      <th>name</th>\n",
       "      <th>sex</th>\n",
       "      <th>age</th>\n",
       "      <th>sibsp</th>\n",
       "      <th>parch</th>\n",
       "      <th>fare</th>\n",
       "      <th>embarked</th>\n",
       "      <th>title_cat</th>\n",
       "      <th>age_cat</th>\n",
       "      <th>fare_cat</th>\n",
       "    </tr>\n",
       "  </thead>\n",
       "  <tbody>\n",
       "    <tr>\n",
       "      <th>0</th>\n",
       "      <td>1</td>\n",
       "      <td>1</td>\n",
       "      <td>Allen, Miss. Elisabeth Walton</td>\n",
       "      <td>female</td>\n",
       "      <td>29.0</td>\n",
       "      <td>0</td>\n",
       "      <td>0</td>\n",
       "      <td>211.3375</td>\n",
       "      <td>S</td>\n",
       "      <td>Miss</td>\n",
       "      <td>adult</td>\n",
       "      <td>3</td>\n",
       "    </tr>\n",
       "  </tbody>\n",
       "</table>\n",
       "</div>"
      ],
      "text/plain": [
       "   pclass  survived                           name     sex   age  sibsp  \\\n",
       "0       1         1  Allen, Miss. Elisabeth Walton  female  29.0      0   \n",
       "\n",
       "   parch      fare embarked title_cat age_cat  fare_cat  \n",
       "0      0  211.3375        S      Miss   adult         3  "
      ]
     },
     "execution_count": 175,
     "metadata": {},
     "output_type": "execute_result"
    }
   ],
   "source": [
    "def fare_cat(x):\n",
    "    cat = ''\n",
    "    if x <= df.fare.describe()['25%']: \n",
    "        cat = 0\n",
    "    elif df.fare.describe()['25%']< x <= df.fare.describe()['50%']: \n",
    "        cat = 1\n",
    "    elif df.fare.describe()['50%']< x <= df.fare.describe()['75%']: \n",
    "        cat = 2\n",
    "    else: \n",
    "        cat = 3\n",
    "    return cat\n",
    "\n",
    "df['fare_cat'] = df['fare'].apply(lambda x: fare_cat(x))\n",
    "\n",
    "df.head(1)"
   ]
  },
  {
   "cell_type": "markdown",
   "metadata": {},
   "source": [
    "### 구성원 구하기"
   ]
  },
  {
   "cell_type": "code",
   "execution_count": 176,
   "metadata": {
    "scrolled": false
   },
   "outputs": [
    {
     "data": {
      "text/html": [
       "<div>\n",
       "<style scoped>\n",
       "    .dataframe tbody tr th:only-of-type {\n",
       "        vertical-align: middle;\n",
       "    }\n",
       "\n",
       "    .dataframe tbody tr th {\n",
       "        vertical-align: top;\n",
       "    }\n",
       "\n",
       "    .dataframe thead th {\n",
       "        text-align: right;\n",
       "    }\n",
       "</style>\n",
       "<table border=\"1\" class=\"dataframe\">\n",
       "  <thead>\n",
       "    <tr style=\"text-align: right;\">\n",
       "      <th></th>\n",
       "      <th>pclass</th>\n",
       "      <th>survived</th>\n",
       "      <th>name</th>\n",
       "      <th>sex</th>\n",
       "      <th>age</th>\n",
       "      <th>sibsp</th>\n",
       "      <th>parch</th>\n",
       "      <th>fare</th>\n",
       "      <th>embarked</th>\n",
       "      <th>title_cat</th>\n",
       "      <th>age_cat</th>\n",
       "      <th>fare_cat</th>\n",
       "      <th>member</th>\n",
       "    </tr>\n",
       "  </thead>\n",
       "  <tbody>\n",
       "    <tr>\n",
       "      <th>0</th>\n",
       "      <td>1</td>\n",
       "      <td>1</td>\n",
       "      <td>Allen, Miss. Elisabeth Walton</td>\n",
       "      <td>female</td>\n",
       "      <td>29.0000</td>\n",
       "      <td>0</td>\n",
       "      <td>0</td>\n",
       "      <td>211.3375</td>\n",
       "      <td>S</td>\n",
       "      <td>Miss</td>\n",
       "      <td>adult</td>\n",
       "      <td>3</td>\n",
       "      <td>0</td>\n",
       "    </tr>\n",
       "    <tr>\n",
       "      <th>1</th>\n",
       "      <td>1</td>\n",
       "      <td>1</td>\n",
       "      <td>Allison, Master. Hudson Trevor</td>\n",
       "      <td>male</td>\n",
       "      <td>0.9167</td>\n",
       "      <td>1</td>\n",
       "      <td>2</td>\n",
       "      <td>151.5500</td>\n",
       "      <td>S</td>\n",
       "      <td>Master</td>\n",
       "      <td>young</td>\n",
       "      <td>3</td>\n",
       "      <td>3</td>\n",
       "    </tr>\n",
       "  </tbody>\n",
       "</table>\n",
       "</div>"
      ],
      "text/plain": [
       "   pclass  survived                            name     sex      age  sibsp  \\\n",
       "0       1         1   Allen, Miss. Elisabeth Walton  female  29.0000      0   \n",
       "1       1         1  Allison, Master. Hudson Trevor    male   0.9167      1   \n",
       "\n",
       "   parch      fare embarked title_cat age_cat  fare_cat  member  \n",
       "0      0  211.3375        S      Miss   adult         3       0  \n",
       "1      2  151.5500        S    Master   young         3       3  "
      ]
     },
     "execution_count": 176,
     "metadata": {},
     "output_type": "execute_result"
    }
   ],
   "source": [
    "df['member']= df['sibsp'] + df['parch']\n",
    "df.head(2)"
   ]
  },
  {
   "cell_type": "code",
   "execution_count": 177,
   "metadata": {},
   "outputs": [
    {
     "data": {
      "text/plain": [
       "<seaborn.axisgrid.FacetGrid at 0x13c46ac6eb0>"
      ]
     },
     "execution_count": 177,
     "metadata": {},
     "output_type": "execute_result"
    },
    {
     "data": {
      "image/png": "[encoded data removed]",
      "text/plain": [
       "<Figure size 360x360 with 1 Axes>"
      ]
     },
     "metadata": {
      "needs_background": "light"
     },
     "output_type": "display_data"
    }
   ],
   "source": [
    "import warnings \n",
    "warnings.filterwarnings('ignore')\n",
    "\n",
    "sns.factorplot('member','survived',data = df)"
   ]
  },
  {
   "cell_type": "markdown",
   "metadata": {},
   "source": [
    "### survived- member, age, fare상관 관계 heatmap"
   ]
  },
  {
   "cell_type": "code",
   "execution_count": 178,
   "metadata": {},
   "outputs": [
    {
     "data": {
      "image/png": "[encoded data removed]",
      "text/plain": [
       "<Figure size 432x288 with 2 Axes>"
      ]
     },
     "metadata": {
      "needs_background": "light"
     },
     "output_type": "display_data"
    }
   ],
   "source": [
    "dh =sns.heatmap(df[['survived','member','age_cat','fare_cat']].corr(),annot=True, fmt = \".2f\", cmap = \"coolwarm\")"
   ]
  },
  {
   "cell_type": "markdown",
   "metadata": {},
   "source": [
    "### 인코딩"
   ]
  },
  {
   "cell_type": "code",
   "execution_count": 179,
   "metadata": {},
   "outputs": [],
   "source": [
    "from sklearn.preprocessing import LabelEncoder "
   ]
  },
  {
   "cell_type": "code",
   "execution_count": 180,
   "metadata": {
    "scrolled": true
   },
   "outputs": [
    {
     "data": {
      "text/html": [
       "<div>\n",
       "<style scoped>\n",
       "    .dataframe tbody tr th:only-of-type {\n",
       "        vertical-align: middle;\n",
       "    }\n",
       "\n",
       "    .dataframe tbody tr th {\n",
       "        vertical-align: top;\n",
       "    }\n",
       "\n",
       "    .dataframe thead th {\n",
       "        text-align: right;\n",
       "    }\n",
       "</style>\n",
       "<table border=\"1\" class=\"dataframe\">\n",
       "  <thead>\n",
       "    <tr style=\"text-align: right;\">\n",
       "      <th></th>\n",
       "      <th>pclass</th>\n",
       "      <th>survived</th>\n",
       "      <th>name</th>\n",
       "      <th>age</th>\n",
       "      <th>sibsp</th>\n",
       "      <th>parch</th>\n",
       "      <th>fare</th>\n",
       "      <th>embarked</th>\n",
       "      <th>title_cat</th>\n",
       "      <th>age_cat</th>\n",
       "      <th>fare_cat</th>\n",
       "      <th>member</th>\n",
       "      <th>sex_female</th>\n",
       "      <th>sex_male</th>\n",
       "    </tr>\n",
       "  </thead>\n",
       "  <tbody>\n",
       "    <tr>\n",
       "      <th>0</th>\n",
       "      <td>1</td>\n",
       "      <td>1</td>\n",
       "      <td>Allen, Miss. Elisabeth Walton</td>\n",
       "      <td>29.0</td>\n",
       "      <td>0</td>\n",
       "      <td>0</td>\n",
       "      <td>211.3375</td>\n",
       "      <td>S</td>\n",
       "      <td>Miss</td>\n",
       "      <td>adult</td>\n",
       "      <td>3</td>\n",
       "      <td>0</td>\n",
       "      <td>1</td>\n",
       "      <td>0</td>\n",
       "    </tr>\n",
       "  </tbody>\n",
       "</table>\n",
       "</div>"
      ],
      "text/plain": [
       "   pclass  survived                           name   age  sibsp  parch  \\\n",
       "0       1         1  Allen, Miss. Elisabeth Walton  29.0      0      0   \n",
       "\n",
       "       fare embarked title_cat age_cat  fare_cat  member  sex_female  sex_male  \n",
       "0  211.3375        S      Miss   adult         3       0           1         0  "
      ]
     },
     "execution_count": 180,
     "metadata": {},
     "output_type": "execute_result"
    }
   ],
   "source": [
    "df = pd.get_dummies(df, columns=['sex'])\n",
    "df.head(1)"
   ]
  },
  {
   "cell_type": "code",
   "execution_count": 181,
   "metadata": {
    "scrolled": true
   },
   "outputs": [
    {
     "data": {
      "text/html": [
       "<div>\n",
       "<style scoped>\n",
       "    .dataframe tbody tr th:only-of-type {\n",
       "        vertical-align: middle;\n",
       "    }\n",
       "\n",
       "    .dataframe tbody tr th {\n",
       "        vertical-align: top;\n",
       "    }\n",
       "\n",
       "    .dataframe thead th {\n",
       "        text-align: right;\n",
       "    }\n",
       "</style>\n",
       "<table border=\"1\" class=\"dataframe\">\n",
       "  <thead>\n",
       "    <tr style=\"text-align: right;\">\n",
       "      <th></th>\n",
       "      <th>pclass</th>\n",
       "      <th>survived</th>\n",
       "      <th>name</th>\n",
       "      <th>age</th>\n",
       "      <th>sibsp</th>\n",
       "      <th>parch</th>\n",
       "      <th>fare</th>\n",
       "      <th>embarked</th>\n",
       "      <th>title_cat</th>\n",
       "      <th>age_cat</th>\n",
       "      <th>fare_cat</th>\n",
       "      <th>member</th>\n",
       "      <th>sex_female</th>\n",
       "      <th>sex_male</th>\n",
       "    </tr>\n",
       "  </thead>\n",
       "  <tbody>\n",
       "    <tr>\n",
       "      <th>0</th>\n",
       "      <td>1</td>\n",
       "      <td>1</td>\n",
       "      <td>Allen, Miss. Elisabeth Walton</td>\n",
       "      <td>29.0000</td>\n",
       "      <td>0</td>\n",
       "      <td>0</td>\n",
       "      <td>211.3375</td>\n",
       "      <td>2</td>\n",
       "      <td>1</td>\n",
       "      <td>0</td>\n",
       "      <td>3</td>\n",
       "      <td>0</td>\n",
       "      <td>1</td>\n",
       "      <td>0</td>\n",
       "    </tr>\n",
       "    <tr>\n",
       "      <th>1</th>\n",
       "      <td>1</td>\n",
       "      <td>1</td>\n",
       "      <td>Allison, Master. Hudson Trevor</td>\n",
       "      <td>0.9167</td>\n",
       "      <td>1</td>\n",
       "      <td>2</td>\n",
       "      <td>151.5500</td>\n",
       "      <td>2</td>\n",
       "      <td>0</td>\n",
       "      <td>4</td>\n",
       "      <td>3</td>\n",
       "      <td>3</td>\n",
       "      <td>0</td>\n",
       "      <td>1</td>\n",
       "    </tr>\n",
       "  </tbody>\n",
       "</table>\n",
       "</div>"
      ],
      "text/plain": [
       "   pclass  survived                            name      age  sibsp  parch  \\\n",
       "0       1         1   Allen, Miss. Elisabeth Walton  29.0000      0      0   \n",
       "1       1         1  Allison, Master. Hudson Trevor   0.9167      1      2   \n",
       "\n",
       "       fare  embarked  title_cat  age_cat  fare_cat  member  sex_female  \\\n",
       "0  211.3375         2          1        0         3       0           1   \n",
       "1  151.5500         2          0        4         3       3           0   \n",
       "\n",
       "   sex_male  \n",
       "0         0  \n",
       "1         1  "
      ]
     },
     "execution_count": 181,
     "metadata": {},
     "output_type": "execute_result"
    }
   ],
   "source": [
    "\n",
    "le= LabelEncoder()\n",
    "features= ['age_cat','title_cat','fare_cat','embarked']\n",
    "\n",
    "for feature in features:\n",
    "    df[feature]= le.fit_transform(df[feature]) \n",
    "df.head(2)"
   ]
  },
  {
   "cell_type": "markdown",
   "metadata": {},
   "source": [
    "### 사망자/생존자의 나이 분포도 "
   ]
  },
  {
   "cell_type": "code",
   "execution_count": 182,
   "metadata": {},
   "outputs": [
    {
     "data": {
      "text/plain": [
       "<seaborn.axisgrid.FacetGrid at 0x13c46673430>"
      ]
     },
     "execution_count": 182,
     "metadata": {},
     "output_type": "execute_result"
    },
    {
     "data": {
      "image/png": "[encoded data removed]",
      "text/plain": [
       "<Figure size 432x216 with 2 Axes>"
      ]
     },
     "metadata": {
      "needs_background": "light"
     },
     "output_type": "display_data"
    }
   ],
   "source": [
    "dfg = sns.FacetGrid(df, col='survived')\n",
    "dfg.map(sns.distplot, \"age\")"
   ]
  },
  {
   "cell_type": "code",
   "execution_count": 183,
   "metadata": {},
   "outputs": [
    {
     "data": {
      "text/html": [
       "<div>\n",
       "<style scoped>\n",
       "    .dataframe tbody tr th:only-of-type {\n",
       "        vertical-align: middle;\n",
       "    }\n",
       "\n",
       "    .dataframe tbody tr th {\n",
       "        vertical-align: top;\n",
       "    }\n",
       "\n",
       "    .dataframe thead th {\n",
       "        text-align: right;\n",
       "    }\n",
       "</style>\n",
       "<table border=\"1\" class=\"dataframe\">\n",
       "  <thead>\n",
       "    <tr style=\"text-align: right;\">\n",
       "      <th></th>\n",
       "      <th>pclass</th>\n",
       "      <th>survived</th>\n",
       "      <th>age_cat</th>\n",
       "      <th>fare_cat</th>\n",
       "      <th>member</th>\n",
       "      <th>sex_female</th>\n",
       "      <th>sex_male</th>\n",
       "    </tr>\n",
       "  </thead>\n",
       "  <tbody>\n",
       "    <tr>\n",
       "      <th>0</th>\n",
       "      <td>1</td>\n",
       "      <td>1</td>\n",
       "      <td>0</td>\n",
       "      <td>3</td>\n",
       "      <td>0</td>\n",
       "      <td>1</td>\n",
       "      <td>0</td>\n",
       "    </tr>\n",
       "    <tr>\n",
       "      <th>1</th>\n",
       "      <td>1</td>\n",
       "      <td>1</td>\n",
       "      <td>4</td>\n",
       "      <td>3</td>\n",
       "      <td>3</td>\n",
       "      <td>0</td>\n",
       "      <td>1</td>\n",
       "    </tr>\n",
       "  </tbody>\n",
       "</table>\n",
       "</div>"
      ],
      "text/plain": [
       "   pclass  survived  age_cat  fare_cat  member  sex_female  sex_male\n",
       "0       1         1        0         3       0           1         0\n",
       "1       1         1        4         3       3           0         1"
      ]
     },
     "execution_count": 183,
     "metadata": {},
     "output_type": "execute_result"
    }
   ],
   "source": [
    "tdf= df.drop(['name','age','parch','member','sibsp','fare','title_cat','embarked'],axis=1)\n",
    "tdf.head(2)"
   ]
  },
  {
   "cell_type": "code",
   "execution_count": 322,
   "metadata": {},
   "outputs": [
    {
     "data": {
      "text/html": [
       "<div>\n",
       "<style scoped>\n",
       "    .dataframe tbody tr th:only-of-type {\n",
       "        vertical-align: middle;\n",
       "    }\n",
       "\n",
       "    .dataframe tbody tr th {\n",
       "        vertical-align: top;\n",
       "    }\n",
       "\n",
       "    .dataframe thead th {\n",
       "        text-align: right;\n",
       "    }\n",
       "</style>\n",
       "<table border=\"1\" class=\"dataframe\">\n",
       "  <thead>\n",
       "    <tr style=\"text-align: right;\">\n",
       "      <th></th>\n",
       "      <th>pclass</th>\n",
       "      <th>survived</th>\n",
       "      <th>age_cat</th>\n",
       "      <th>fare_cat</th>\n",
       "      <th>member</th>\n",
       "      <th>sex_female</th>\n",
       "      <th>sex_male</th>\n",
       "    </tr>\n",
       "  </thead>\n",
       "  <tbody>\n",
       "    <tr>\n",
       "      <th>0</th>\n",
       "      <td>1</td>\n",
       "      <td>1</td>\n",
       "      <td>0</td>\n",
       "      <td>3</td>\n",
       "      <td>0</td>\n",
       "      <td>1</td>\n",
       "      <td>0</td>\n",
       "    </tr>\n",
       "    <tr>\n",
       "      <th>1</th>\n",
       "      <td>1</td>\n",
       "      <td>1</td>\n",
       "      <td>4</td>\n",
       "      <td>3</td>\n",
       "      <td>3</td>\n",
       "      <td>0</td>\n",
       "      <td>1</td>\n",
       "    </tr>\n",
       "  </tbody>\n",
       "</table>\n",
       "</div>"
      ],
      "text/plain": [
       "   pclass  survived  age_cat  fare_cat  member  sex_female  sex_male\n",
       "0       1         1        0         3       0           1         0\n",
       "1       1         1        4         3       3           0         1"
      ]
     },
     "execution_count": 322,
     "metadata": {},
     "output_type": "execute_result"
    }
   ],
   "source": [
    "tdf= df[['pclass','survived','age_cat','fare_cat','member','sex_female','sex_male']]\n",
    "tdf.head(2)"
   ]
  },
  {
   "cell_type": "code",
   "execution_count": 323,
   "metadata": {},
   "outputs": [
    {
     "name": "stdout",
     "output_type": "stream",
     "text": [
      "(1047, 6)\n",
      "(262, 6)\n"
     ]
    }
   ],
   "source": [
    "# 모델 평가 준비 작업\n",
    "from sklearn import preprocessing\n",
    "from sklearn.model_selection import train_test_split\n",
    "\n",
    "# 독립변수, 종속변수 분리\n",
    "y_t_df = tdf['survived'] # 종속변수\n",
    "X_t_df = tdf.drop('survived', axis = 1) # 독립변수\n",
    "\n",
    "# 독립변수 정규화\n",
    "# X_t_df = preprocessing.StandardScaler().fit(X_t_df).transform(X_t_df)\n",
    "\n",
    "# 학습용 데이터와 평가용 데이터를 8:2 혹은 7:3으로 분리\n",
    "X_train, X_test, y_train, y_test = train_test_split(X_t_df, y_t_df, test_size = 0.2,\n",
    "                                                   random_state = 11)\n",
    "\n",
    "print(X_train.shape)\n",
    "print(X_test.shape)\n"
   ]
  },
  {
   "cell_type": "code",
   "execution_count": 324,
   "metadata": {},
   "outputs": [
    {
     "name": "stdout",
     "output_type": "stream",
     "text": [
      "rf 정확도:0.83, lr 정확도:0.8\n"
     ]
    }
   ],
   "source": [
    "# 모델 학습 및 평가\n",
    "from sklearn.metrics import accuracy_score\n",
    "from sklearn.linear_model import LogisticRegression\n",
    "from sklearn.ensemble import RandomForestClassifier\n",
    "\n",
    "rf_model = RandomForestClassifier()\n",
    "rf_model.fit(X_train, y_train)\n",
    "rf_pred = rf_model.predict(X_test)\n",
    "accuracy_rf = accuracy_score(y_test, rf_pred).round(2)\n",
    "\n",
    "lr_model = LogisticRegression()\n",
    "lr_model.fit(X_train,y_train)\n",
    "lr_pred = lr_model.predict(X_test)\n",
    "accuracy_lr = accuracy_score(y_test,lr_pred).round(2)\n",
    "\n",
    "print('rf 정확도:{}, lr 정확도:{}'.format(accuracy_rf,accuracy_lr))"
   ]
  },
  {
   "cell_type": "markdown",
   "metadata": {},
   "source": [
    "### Q2. 고객 속성 및 거래 데이터를 아래 제시된 방법으로 생성 후 다음 과제를 수행하세요.\n",
    "\n",
    "[고객별 속성 데이터]  \n",
    "- id : 1번 ~ 100번 일련번호\n",
    "- gender : 0,1 정수 난수 생성\n",
    "- age : 10 ~ 80사이 정수 난수를 생성하고 범주화하여 age_cat 파생\n",
    "- region : 1 ~ 5 사이 정수 난수 생성\n",
    "\n",
    "[거래 데이터]  \n",
    "- id : 1번 ~ 100번 일련번호(관측치 1000개)\n",
    "- product : 고급제품(hpd), 일반제품(lpd)로 구분\n",
    "- price : 100 ~ 200 사이 정수 난수 생성\n",
    "- qty : 1 ~ 2 사이 정수 난수 생성\n",
    "- day : 요일\n",
    "- date : 2020-01-01 ~ 2021-12-31 사이의 날짜 1000개 생성\n",
    "- amount : price * qty로 산출\n",
    "\n",
    "[과제]  \n",
    "- 고객 속성(id, 성별, 연령, 거주지역) 데이터와 거래 데이터를 통합한 데이터 프레임 df를 생성하세요.\n",
    "- df를 수정하여 5가지 이상의 인사이트를 포함한 데이터 셋으로 변환하세요\n",
    "- df 를 탐색적 분석을 통하여 인사이트를 도출하세요.\n",
    "\n",
    "#### 점수 산정\n",
    "- 인사이트 개수에 따라 점수 부여: 5개 50점,4개 45점,3개 40점,2개 35점,1개 30점"
   ]
  },
  {
   "cell_type": "code",
   "execution_count": 325,
   "metadata": {},
   "outputs": [],
   "source": [
    "# 인사이트 예시(요약 기술 및 관련 통계 및 시각화 제시)\n",
    "# 일반제품의 변화율인 lpd 컬럼과 구매증감율 ratio의 상관관계가 0.5 초과"
   ]
  },
  {
   "cell_type": "markdown",
   "metadata": {},
   "source": [
    "### *고객별 속성 데이터"
   ]
  },
  {
   "cell_type": "code",
   "execution_count": 363,
   "metadata": {},
   "outputs": [
    {
     "data": {
      "text/html": [
       "<div>\n",
       "<style scoped>\n",
       "    .dataframe tbody tr th:only-of-type {\n",
       "        vertical-align: middle;\n",
       "    }\n",
       "\n",
       "    .dataframe tbody tr th {\n",
       "        vertical-align: top;\n",
       "    }\n",
       "\n",
       "    .dataframe thead th {\n",
       "        text-align: right;\n",
       "    }\n",
       "</style>\n",
       "<table border=\"1\" class=\"dataframe\">\n",
       "  <thead>\n",
       "    <tr style=\"text-align: right;\">\n",
       "      <th></th>\n",
       "      <th>id_c</th>\n",
       "      <th>gender</th>\n",
       "      <th>age</th>\n",
       "      <th>region</th>\n",
       "    </tr>\n",
       "  </thead>\n",
       "  <tbody>\n",
       "    <tr>\n",
       "      <th>0</th>\n",
       "      <td>1</td>\n",
       "      <td>0</td>\n",
       "      <td>52</td>\n",
       "      <td>4</td>\n",
       "    </tr>\n",
       "    <tr>\n",
       "      <th>1</th>\n",
       "      <td>2</td>\n",
       "      <td>1</td>\n",
       "      <td>78</td>\n",
       "      <td>3</td>\n",
       "    </tr>\n",
       "    <tr>\n",
       "      <th>2</th>\n",
       "      <td>3</td>\n",
       "      <td>1</td>\n",
       "      <td>16</td>\n",
       "      <td>4</td>\n",
       "    </tr>\n",
       "  </tbody>\n",
       "</table>\n",
       "</div>"
      ],
      "text/plain": [
       "   id_c  gender  age  region\n",
       "0     1       0   52       4\n",
       "1     2       1   78       3\n",
       "2     3       1   16       4"
      ]
     },
     "execution_count": 363,
     "metadata": {},
     "output_type": "execute_result"
    }
   ],
   "source": [
    "np.random.seed(0)\n",
    "\n",
    "id_c = np.arange(1,101)\n",
    "\n",
    "gender = np.random.randint(2,size=100)\n",
    "\n",
    "\n",
    "age=np.random.randint(10,81,size=100)\n",
    "\n",
    "\n",
    "region = np.random.randint(1,6,size=100)\n",
    "\n",
    "\n",
    "df1 = pd.DataFrame({'id_c':id_c, 'gender':gender, 'age':age, 'region':region,})\n",
    "df1.head(3)"
   ]
  },
  {
   "cell_type": "code",
   "execution_count": 364,
   "metadata": {},
   "outputs": [
    {
     "data": {
      "text/html": [
       "<div>\n",
       "<style scoped>\n",
       "    .dataframe tbody tr th:only-of-type {\n",
       "        vertical-align: middle;\n",
       "    }\n",
       "\n",
       "    .dataframe tbody tr th {\n",
       "        vertical-align: top;\n",
       "    }\n",
       "\n",
       "    .dataframe thead th {\n",
       "        text-align: right;\n",
       "    }\n",
       "</style>\n",
       "<table border=\"1\" class=\"dataframe\">\n",
       "  <thead>\n",
       "    <tr style=\"text-align: right;\">\n",
       "      <th></th>\n",
       "      <th>id_c</th>\n",
       "      <th>gender</th>\n",
       "      <th>region</th>\n",
       "      <th>age_cat</th>\n",
       "    </tr>\n",
       "  </thead>\n",
       "  <tbody>\n",
       "    <tr>\n",
       "      <th>0</th>\n",
       "      <td>1</td>\n",
       "      <td>0</td>\n",
       "      <td>4</td>\n",
       "      <td>4</td>\n",
       "    </tr>\n",
       "    <tr>\n",
       "      <th>1</th>\n",
       "      <td>2</td>\n",
       "      <td>1</td>\n",
       "      <td>3</td>\n",
       "      <td>5</td>\n",
       "    </tr>\n",
       "    <tr>\n",
       "      <th>2</th>\n",
       "      <td>3</td>\n",
       "      <td>1</td>\n",
       "      <td>4</td>\n",
       "      <td>1</td>\n",
       "    </tr>\n",
       "  </tbody>\n",
       "</table>\n",
       "</div>"
      ],
      "text/plain": [
       "   id_c  gender  region  age_cat\n",
       "0     1       0       4        4\n",
       "1     2       1       3        5\n",
       "2     3       1       4        1"
      ]
     },
     "execution_count": 364,
     "metadata": {},
     "output_type": "execute_result"
    }
   ],
   "source": [
    "# age 범주화 \n",
    "\n",
    "def age_cat(x):\n",
    "    cat=''\n",
    "    if x < 30:\n",
    "        cat = 1\n",
    "    elif x < 40:\n",
    "        cat = 2\n",
    "    elif x < 50:\n",
    "        cat = 3\n",
    "    elif x < 60:\n",
    "        cat = 4\n",
    "    else:\n",
    "        cat = 5\n",
    "    return cat\n",
    "\n",
    "df1['age_cat'] = df1.age.apply(lambda x : age_cat(x))\n",
    "df1= df1.drop('age',axis=1)\n",
    "df1.head(3)"
   ]
  },
  {
   "cell_type": "markdown",
   "metadata": {},
   "source": [
    "### *거래데이터"
   ]
  },
  {
   "cell_type": "code",
   "execution_count": 365,
   "metadata": {},
   "outputs": [],
   "source": [
    "data = np.zeros((1000,6))\n",
    "\n",
    "df2 = pd.DataFrame(data,columns=['id_c','product','price','qty','day','year'])\n"
   ]
  },
  {
   "cell_type": "code",
   "execution_count": 366,
   "metadata": {},
   "outputs": [
    {
     "data": {
      "text/html": [
       "<div>\n",
       "<style scoped>\n",
       "    .dataframe tbody tr th:only-of-type {\n",
       "        vertical-align: middle;\n",
       "    }\n",
       "\n",
       "    .dataframe tbody tr th {\n",
       "        vertical-align: top;\n",
       "    }\n",
       "\n",
       "    .dataframe thead th {\n",
       "        text-align: right;\n",
       "    }\n",
       "</style>\n",
       "<table border=\"1\" class=\"dataframe\">\n",
       "  <thead>\n",
       "    <tr style=\"text-align: right;\">\n",
       "      <th></th>\n",
       "      <th>id_c</th>\n",
       "      <th>product</th>\n",
       "      <th>price</th>\n",
       "      <th>qty</th>\n",
       "      <th>day</th>\n",
       "      <th>year</th>\n",
       "    </tr>\n",
       "  </thead>\n",
       "  <tbody>\n",
       "    <tr>\n",
       "      <th>0</th>\n",
       "      <td>45</td>\n",
       "      <td>1</td>\n",
       "      <td>149</td>\n",
       "      <td>4</td>\n",
       "      <td>MON</td>\n",
       "      <td>2020</td>\n",
       "    </tr>\n",
       "    <tr>\n",
       "      <th>1</th>\n",
       "      <td>48</td>\n",
       "      <td>1</td>\n",
       "      <td>171</td>\n",
       "      <td>2</td>\n",
       "      <td>TUE</td>\n",
       "      <td>2020</td>\n",
       "    </tr>\n",
       "    <tr>\n",
       "      <th>2</th>\n",
       "      <td>65</td>\n",
       "      <td>2</td>\n",
       "      <td>139</td>\n",
       "      <td>3</td>\n",
       "      <td>TUE</td>\n",
       "      <td>2020</td>\n",
       "    </tr>\n",
       "    <tr>\n",
       "      <th>3</th>\n",
       "      <td>68</td>\n",
       "      <td>2</td>\n",
       "      <td>158</td>\n",
       "      <td>5</td>\n",
       "      <td>MON</td>\n",
       "      <td>2020</td>\n",
       "    </tr>\n",
       "    <tr>\n",
       "      <th>4</th>\n",
       "      <td>68</td>\n",
       "      <td>1</td>\n",
       "      <td>105</td>\n",
       "      <td>1</td>\n",
       "      <td>MON</td>\n",
       "      <td>2019</td>\n",
       "    </tr>\n",
       "  </tbody>\n",
       "</table>\n",
       "</div>"
      ],
      "text/plain": [
       "   id_c  product  price  qty  day  year\n",
       "0    45        1    149    4  MON  2020\n",
       "1    48        1    171    2  TUE  2020\n",
       "2    65        2    139    3  TUE  2020\n",
       "3    68        2    158    5  MON  2020\n",
       "4    68        1    105    1  MON  2019"
      ]
     },
     "execution_count": 366,
     "metadata": {},
     "output_type": "execute_result"
    }
   ],
   "source": [
    "np.random.seed(0)\n",
    "\n",
    "df2['id_c'] = np.random.randint(1,101,1000)\n",
    "\n",
    "df2['product'] = np.random.randint(1,3,1000)\n",
    "\n",
    "df2['price'] = np.random.randint(100,200,1000)\n",
    "\n",
    "df2['qty'] = np.random.randint(1,6,1000)\n",
    "\n",
    "df2['day'] = np.random.choice(['MON','TUE','WED','THU','FRI','SAT','SUN'],1000)\n",
    "\n",
    "df2['year'] = np.random.randint(2019,2021, size = 1000)\n",
    "\n",
    "df2.head()"
   ]
  },
  {
   "cell_type": "code",
   "execution_count": 367,
   "metadata": {},
   "outputs": [
    {
     "data": {
      "text/html": [
       "<div>\n",
       "<style scoped>\n",
       "    .dataframe tbody tr th:only-of-type {\n",
       "        vertical-align: middle;\n",
       "    }\n",
       "\n",
       "    .dataframe tbody tr th {\n",
       "        vertical-align: top;\n",
       "    }\n",
       "\n",
       "    .dataframe thead th {\n",
       "        text-align: right;\n",
       "    }\n",
       "</style>\n",
       "<table border=\"1\" class=\"dataframe\">\n",
       "  <thead>\n",
       "    <tr style=\"text-align: right;\">\n",
       "      <th></th>\n",
       "      <th>id_c</th>\n",
       "      <th>product</th>\n",
       "      <th>price</th>\n",
       "      <th>qty</th>\n",
       "      <th>day</th>\n",
       "      <th>year</th>\n",
       "    </tr>\n",
       "  </thead>\n",
       "  <tbody>\n",
       "    <tr>\n",
       "      <th>0</th>\n",
       "      <td>45</td>\n",
       "      <td>1</td>\n",
       "      <td>7450</td>\n",
       "      <td>4</td>\n",
       "      <td>MON</td>\n",
       "      <td>2020</td>\n",
       "    </tr>\n",
       "    <tr>\n",
       "      <th>1</th>\n",
       "      <td>48</td>\n",
       "      <td>1</td>\n",
       "      <td>8550</td>\n",
       "      <td>2</td>\n",
       "      <td>TUE</td>\n",
       "      <td>2020</td>\n",
       "    </tr>\n",
       "    <tr>\n",
       "      <th>2</th>\n",
       "      <td>65</td>\n",
       "      <td>2</td>\n",
       "      <td>2780</td>\n",
       "      <td>3</td>\n",
       "      <td>TUE</td>\n",
       "      <td>2020</td>\n",
       "    </tr>\n",
       "  </tbody>\n",
       "</table>\n",
       "</div>"
      ],
      "text/plain": [
       "   id_c  product  price  qty  day  year\n",
       "0    45        1   7450    4  MON  2020\n",
       "1    48        1   8550    2  TUE  2020\n",
       "2    65        2   2780    3  TUE  2020"
      ]
     },
     "execution_count": 367,
     "metadata": {},
     "output_type": "execute_result"
    }
   ],
   "source": [
    "# product 고가/저가 나누기 (1/2)\n",
    "\n",
    "def pp(product,price):\n",
    "    if product==1:\n",
    "        return price*50\n",
    "    if product==2:\n",
    "        return price*20\n",
    "    \n",
    "df2['price']= df2.apply(lambda x: pp(x['product'],x['price']),axis=1)\n",
    "df2.head(3)"
   ]
  },
  {
   "cell_type": "code",
   "execution_count": 368,
   "metadata": {},
   "outputs": [],
   "source": [
    "# 구매개수 (고가제품일 경우 적게 사고, 저가 제품일수록 많이 )\n",
    "\n",
    "def pq(product, qty):\n",
    "    if product==1:\n",
    "        return qty \n",
    "    if product==2:\n",
    "        return qty*10\n",
    "    \n",
    "df2['qty']= df2.apply(lambda x: pq(x['product'],x['qty']),axis=1)"
   ]
  },
  {
   "cell_type": "code",
   "execution_count": null,
   "metadata": {},
   "outputs": [],
   "source": []
  },
  {
   "cell_type": "code",
   "execution_count": null,
   "metadata": {},
   "outputs": [],
   "source": []
  },
  {
   "cell_type": "markdown",
   "metadata": {},
   "source": [
    "### 인사이트 - 고가 제품의 이미지가 좋아져서 수요 상승\n"
   ]
  },
  {
   "cell_type": "code",
   "execution_count": 369,
   "metadata": {},
   "outputs": [
    {
     "data": {
      "text/html": [
       "<div>\n",
       "<style scoped>\n",
       "    .dataframe tbody tr th:only-of-type {\n",
       "        vertical-align: middle;\n",
       "    }\n",
       "\n",
       "    .dataframe tbody tr th {\n",
       "        vertical-align: top;\n",
       "    }\n",
       "\n",
       "    .dataframe thead th {\n",
       "        text-align: right;\n",
       "    }\n",
       "</style>\n",
       "<table border=\"1\" class=\"dataframe\">\n",
       "  <thead>\n",
       "    <tr style=\"text-align: right;\">\n",
       "      <th></th>\n",
       "      <th>id_c</th>\n",
       "      <th>product</th>\n",
       "      <th>price</th>\n",
       "      <th>qty</th>\n",
       "      <th>day</th>\n",
       "      <th>year</th>\n",
       "    </tr>\n",
       "  </thead>\n",
       "  <tbody>\n",
       "    <tr>\n",
       "      <th>0</th>\n",
       "      <td>45</td>\n",
       "      <td>1</td>\n",
       "      <td>7450</td>\n",
       "      <td>8</td>\n",
       "      <td>MON</td>\n",
       "      <td>2020</td>\n",
       "    </tr>\n",
       "    <tr>\n",
       "      <th>1</th>\n",
       "      <td>48</td>\n",
       "      <td>1</td>\n",
       "      <td>8550</td>\n",
       "      <td>4</td>\n",
       "      <td>TUE</td>\n",
       "      <td>2020</td>\n",
       "    </tr>\n",
       "    <tr>\n",
       "      <th>2</th>\n",
       "      <td>65</td>\n",
       "      <td>2</td>\n",
       "      <td>2780</td>\n",
       "      <td>30</td>\n",
       "      <td>TUE</td>\n",
       "      <td>2020</td>\n",
       "    </tr>\n",
       "    <tr>\n",
       "      <th>3</th>\n",
       "      <td>68</td>\n",
       "      <td>2</td>\n",
       "      <td>3160</td>\n",
       "      <td>50</td>\n",
       "      <td>MON</td>\n",
       "      <td>2020</td>\n",
       "    </tr>\n",
       "    <tr>\n",
       "      <th>4</th>\n",
       "      <td>68</td>\n",
       "      <td>1</td>\n",
       "      <td>5250</td>\n",
       "      <td>1</td>\n",
       "      <td>MON</td>\n",
       "      <td>2019</td>\n",
       "    </tr>\n",
       "  </tbody>\n",
       "</table>\n",
       "</div>"
      ],
      "text/plain": [
       "   id_c  product  price  qty  day  year\n",
       "0    45        1   7450    8  MON  2020\n",
       "1    48        1   8550    4  TUE  2020\n",
       "2    65        2   2780   30  TUE  2020\n",
       "3    68        2   3160   50  MON  2020\n",
       "4    68        1   5250    1  MON  2019"
      ]
     },
     "execution_count": 369,
     "metadata": {},
     "output_type": "execute_result"
    }
   ],
   "source": [
    "def pdcut(year,product,qty):\n",
    "    if (year==2020) & (product==1):\n",
    "        return qty * 2\n",
    "    else:\n",
    "        return qty\n",
    "df2['qty'] = df2.apply(lambda x : pdcut(x['year'],x['product'],x['qty']),axis=1)\n",
    "df2.head()"
   ]
  },
  {
   "cell_type": "code",
   "execution_count": 370,
   "metadata": {},
   "outputs": [
    {
     "data": {
      "text/html": [
       "<div>\n",
       "<style scoped>\n",
       "    .dataframe tbody tr th:only-of-type {\n",
       "        vertical-align: middle;\n",
       "    }\n",
       "\n",
       "    .dataframe tbody tr th {\n",
       "        vertical-align: top;\n",
       "    }\n",
       "\n",
       "    .dataframe thead th {\n",
       "        text-align: right;\n",
       "    }\n",
       "</style>\n",
       "<table border=\"1\" class=\"dataframe\">\n",
       "  <thead>\n",
       "    <tr style=\"text-align: right;\">\n",
       "      <th></th>\n",
       "      <th>id_c</th>\n",
       "      <th>product</th>\n",
       "      <th>price</th>\n",
       "      <th>qty</th>\n",
       "      <th>day</th>\n",
       "      <th>year</th>\n",
       "      <th>amount</th>\n",
       "    </tr>\n",
       "  </thead>\n",
       "  <tbody>\n",
       "    <tr>\n",
       "      <th>0</th>\n",
       "      <td>45</td>\n",
       "      <td>1</td>\n",
       "      <td>7450</td>\n",
       "      <td>8</td>\n",
       "      <td>MON</td>\n",
       "      <td>2020</td>\n",
       "      <td>59600</td>\n",
       "    </tr>\n",
       "    <tr>\n",
       "      <th>1</th>\n",
       "      <td>48</td>\n",
       "      <td>1</td>\n",
       "      <td>8550</td>\n",
       "      <td>4</td>\n",
       "      <td>TUE</td>\n",
       "      <td>2020</td>\n",
       "      <td>34200</td>\n",
       "    </tr>\n",
       "    <tr>\n",
       "      <th>2</th>\n",
       "      <td>65</td>\n",
       "      <td>2</td>\n",
       "      <td>2780</td>\n",
       "      <td>30</td>\n",
       "      <td>TUE</td>\n",
       "      <td>2020</td>\n",
       "      <td>83400</td>\n",
       "    </tr>\n",
       "    <tr>\n",
       "      <th>3</th>\n",
       "      <td>68</td>\n",
       "      <td>2</td>\n",
       "      <td>3160</td>\n",
       "      <td>50</td>\n",
       "      <td>MON</td>\n",
       "      <td>2020</td>\n",
       "      <td>158000</td>\n",
       "    </tr>\n",
       "    <tr>\n",
       "      <th>4</th>\n",
       "      <td>68</td>\n",
       "      <td>1</td>\n",
       "      <td>5250</td>\n",
       "      <td>1</td>\n",
       "      <td>MON</td>\n",
       "      <td>2019</td>\n",
       "      <td>5250</td>\n",
       "    </tr>\n",
       "  </tbody>\n",
       "</table>\n",
       "</div>"
      ],
      "text/plain": [
       "   id_c  product  price  qty  day  year  amount\n",
       "0    45        1   7450    8  MON  2020   59600\n",
       "1    48        1   8550    4  TUE  2020   34200\n",
       "2    65        2   2780   30  TUE  2020   83400\n",
       "3    68        2   3160   50  MON  2020  158000\n",
       "4    68        1   5250    1  MON  2019    5250"
      ]
     },
     "execution_count": 370,
     "metadata": {},
     "output_type": "execute_result"
    }
   ],
   "source": [
    "df2['amount'] = df2['qty'] * df2['price']\n",
    "\n",
    "df2.head()"
   ]
  },
  {
   "cell_type": "code",
   "execution_count": 371,
   "metadata": {},
   "outputs": [],
   "source": [
    "df2 = df2.drop(['price','qty'],axis=1)"
   ]
  },
  {
   "cell_type": "code",
   "execution_count": 372,
   "metadata": {},
   "outputs": [
    {
     "data": {
      "text/plain": [
       "year  product\n",
       "2019  1           5425250\n",
       "      2          22442000\n",
       "2020  1          10901400\n",
       "      2          23335400\n",
       "Name: amount, dtype: int64"
      ]
     },
     "execution_count": 372,
     "metadata": {},
     "output_type": "execute_result"
    }
   ],
   "source": [
    "df2.groupby(['year','product'])['amount'].sum()"
   ]
  },
  {
   "cell_type": "code",
   "execution_count": 373,
   "metadata": {},
   "outputs": [
    {
     "data": {
      "text/html": [
       "<div>\n",
       "<style scoped>\n",
       "    .dataframe tbody tr th:only-of-type {\n",
       "        vertical-align: middle;\n",
       "    }\n",
       "\n",
       "    .dataframe tbody tr th {\n",
       "        vertical-align: top;\n",
       "    }\n",
       "\n",
       "    .dataframe thead th {\n",
       "        text-align: right;\n",
       "    }\n",
       "</style>\n",
       "<table border=\"1\" class=\"dataframe\">\n",
       "  <thead>\n",
       "    <tr style=\"text-align: right;\">\n",
       "      <th></th>\n",
       "      <th>id_c</th>\n",
       "      <th>product</th>\n",
       "      <th>day</th>\n",
       "      <th>year</th>\n",
       "      <th>amount</th>\n",
       "      <th>y_p</th>\n",
       "    </tr>\n",
       "  </thead>\n",
       "  <tbody>\n",
       "    <tr>\n",
       "      <th>0</th>\n",
       "      <td>45</td>\n",
       "      <td>1</td>\n",
       "      <td>MON</td>\n",
       "      <td>2020</td>\n",
       "      <td>59600</td>\n",
       "      <td>2020_1</td>\n",
       "    </tr>\n",
       "    <tr>\n",
       "      <th>1</th>\n",
       "      <td>48</td>\n",
       "      <td>1</td>\n",
       "      <td>TUE</td>\n",
       "      <td>2020</td>\n",
       "      <td>34200</td>\n",
       "      <td>2020_1</td>\n",
       "    </tr>\n",
       "    <tr>\n",
       "      <th>2</th>\n",
       "      <td>65</td>\n",
       "      <td>2</td>\n",
       "      <td>TUE</td>\n",
       "      <td>2020</td>\n",
       "      <td>83400</td>\n",
       "      <td>2020_2</td>\n",
       "    </tr>\n",
       "    <tr>\n",
       "      <th>3</th>\n",
       "      <td>68</td>\n",
       "      <td>2</td>\n",
       "      <td>MON</td>\n",
       "      <td>2020</td>\n",
       "      <td>158000</td>\n",
       "      <td>2020_2</td>\n",
       "    </tr>\n",
       "    <tr>\n",
       "      <th>4</th>\n",
       "      <td>68</td>\n",
       "      <td>1</td>\n",
       "      <td>MON</td>\n",
       "      <td>2019</td>\n",
       "      <td>5250</td>\n",
       "      <td>2019_1</td>\n",
       "    </tr>\n",
       "  </tbody>\n",
       "</table>\n",
       "</div>"
      ],
      "text/plain": [
       "   id_c  product  day  year  amount     y_p\n",
       "0    45        1  MON  2020   59600  2020_1\n",
       "1    48        1  TUE  2020   34200  2020_1\n",
       "2    65        2  TUE  2020   83400  2020_2\n",
       "3    68        2  MON  2020  158000  2020_2\n",
       "4    68        1  MON  2019    5250  2019_1"
      ]
     },
     "execution_count": 373,
     "metadata": {},
     "output_type": "execute_result"
    }
   ],
   "source": [
    "df2['y_p'] = df2[['year','product']].astype(str).apply('_'.join,axis=1)\n",
    "df2.head()"
   ]
  },
  {
   "cell_type": "code",
   "execution_count": 374,
   "metadata": {},
   "outputs": [
    {
     "data": {
      "text/html": [
       "<div>\n",
       "<style scoped>\n",
       "    .dataframe tbody tr th:only-of-type {\n",
       "        vertical-align: middle;\n",
       "    }\n",
       "\n",
       "    .dataframe tbody tr th {\n",
       "        vertical-align: top;\n",
       "    }\n",
       "\n",
       "    .dataframe thead th {\n",
       "        text-align: right;\n",
       "    }\n",
       "</style>\n",
       "<table border=\"1\" class=\"dataframe\">\n",
       "  <thead>\n",
       "    <tr style=\"text-align: right;\">\n",
       "      <th></th>\n",
       "      <th>id_c</th>\n",
       "      <th>day</th>\n",
       "      <th>amount</th>\n",
       "      <th>y_p</th>\n",
       "    </tr>\n",
       "  </thead>\n",
       "  <tbody>\n",
       "    <tr>\n",
       "      <th>0</th>\n",
       "      <td>45</td>\n",
       "      <td>MON</td>\n",
       "      <td>59600</td>\n",
       "      <td>2020_1</td>\n",
       "    </tr>\n",
       "    <tr>\n",
       "      <th>1</th>\n",
       "      <td>48</td>\n",
       "      <td>TUE</td>\n",
       "      <td>34200</td>\n",
       "      <td>2020_1</td>\n",
       "    </tr>\n",
       "    <tr>\n",
       "      <th>2</th>\n",
       "      <td>65</td>\n",
       "      <td>TUE</td>\n",
       "      <td>83400</td>\n",
       "      <td>2020_2</td>\n",
       "    </tr>\n",
       "    <tr>\n",
       "      <th>3</th>\n",
       "      <td>68</td>\n",
       "      <td>MON</td>\n",
       "      <td>158000</td>\n",
       "      <td>2020_2</td>\n",
       "    </tr>\n",
       "    <tr>\n",
       "      <th>4</th>\n",
       "      <td>68</td>\n",
       "      <td>MON</td>\n",
       "      <td>5250</td>\n",
       "      <td>2019_1</td>\n",
       "    </tr>\n",
       "  </tbody>\n",
       "</table>\n",
       "</div>"
      ],
      "text/plain": [
       "   id_c  day  amount     y_p\n",
       "0    45  MON   59600  2020_1\n",
       "1    48  TUE   34200  2020_1\n",
       "2    65  TUE   83400  2020_2\n",
       "3    68  MON  158000  2020_2\n",
       "4    68  MON    5250  2019_1"
      ]
     },
     "execution_count": 374,
     "metadata": {},
     "output_type": "execute_result"
    }
   ],
   "source": [
    "dff = df2.drop(['product','year'],axis=1)\n",
    "dff.head()"
   ]
  },
  {
   "cell_type": "code",
   "execution_count": 375,
   "metadata": {},
   "outputs": [
    {
     "data": {
      "text/html": [
       "<div>\n",
       "<style scoped>\n",
       "    .dataframe tbody tr th:only-of-type {\n",
       "        vertical-align: middle;\n",
       "    }\n",
       "\n",
       "    .dataframe tbody tr th {\n",
       "        vertical-align: top;\n",
       "    }\n",
       "\n",
       "    .dataframe thead th {\n",
       "        text-align: right;\n",
       "    }\n",
       "</style>\n",
       "<table border=\"1\" class=\"dataframe\">\n",
       "  <thead>\n",
       "    <tr style=\"text-align: right;\">\n",
       "      <th>y_p</th>\n",
       "      <th>2019_1</th>\n",
       "      <th>2019_2</th>\n",
       "      <th>2020_1</th>\n",
       "      <th>2020_2</th>\n",
       "    </tr>\n",
       "    <tr>\n",
       "      <th>id_c</th>\n",
       "      <th></th>\n",
       "      <th></th>\n",
       "      <th></th>\n",
       "      <th></th>\n",
       "    </tr>\n",
       "  </thead>\n",
       "  <tbody>\n",
       "    <tr>\n",
       "      <th>1</th>\n",
       "      <td>143700.0</td>\n",
       "      <td>258400.0</td>\n",
       "      <td>119500.0</td>\n",
       "      <td>352600.0</td>\n",
       "    </tr>\n",
       "    <tr>\n",
       "      <th>2</th>\n",
       "      <td>69450.0</td>\n",
       "      <td>275200.0</td>\n",
       "      <td>30800.0</td>\n",
       "      <td>NaN</td>\n",
       "    </tr>\n",
       "    <tr>\n",
       "      <th>3</th>\n",
       "      <td>32100.0</td>\n",
       "      <td>33200.0</td>\n",
       "      <td>78400.0</td>\n",
       "      <td>187000.0</td>\n",
       "    </tr>\n",
       "    <tr>\n",
       "      <th>4</th>\n",
       "      <td>37800.0</td>\n",
       "      <td>407400.0</td>\n",
       "      <td>446700.0</td>\n",
       "      <td>218600.0</td>\n",
       "    </tr>\n",
       "    <tr>\n",
       "      <th>5</th>\n",
       "      <td>58550.0</td>\n",
       "      <td>169600.0</td>\n",
       "      <td>58000.0</td>\n",
       "      <td>332000.0</td>\n",
       "    </tr>\n",
       "  </tbody>\n",
       "</table>\n",
       "</div>"
      ],
      "text/plain": [
       "y_p     2019_1    2019_2    2020_1    2020_2\n",
       "id_c                                        \n",
       "1     143700.0  258400.0  119500.0  352600.0\n",
       "2      69450.0  275200.0   30800.0       NaN\n",
       "3      32100.0   33200.0   78400.0  187000.0\n",
       "4      37800.0  407400.0  446700.0  218600.0\n",
       "5      58550.0  169600.0   58000.0  332000.0"
      ]
     },
     "execution_count": 375,
     "metadata": {},
     "output_type": "execute_result"
    }
   ],
   "source": [
    "df3= pd.pivot_table(dff,index = 'id_c',columns= 'y_p',values = 'amount',aggfunc = 'sum')\n",
    "df3.head()"
   ]
  },
  {
   "cell_type": "code",
   "execution_count": 376,
   "metadata": {},
   "outputs": [
    {
     "data": {
      "text/plain": [
       "y_p\n",
       "2019_1    10\n",
       "2019_2     5\n",
       "2020_1    10\n",
       "2020_2     8\n",
       "dtype: int64"
      ]
     },
     "execution_count": 376,
     "metadata": {},
     "output_type": "execute_result"
    }
   ],
   "source": [
    "df3.isnull().sum()"
   ]
  },
  {
   "cell_type": "code",
   "execution_count": 377,
   "metadata": {},
   "outputs": [
    {
     "data": {
      "text/html": [
       "<div>\n",
       "<style scoped>\n",
       "    .dataframe tbody tr th:only-of-type {\n",
       "        vertical-align: middle;\n",
       "    }\n",
       "\n",
       "    .dataframe tbody tr th {\n",
       "        vertical-align: top;\n",
       "    }\n",
       "\n",
       "    .dataframe thead th {\n",
       "        text-align: right;\n",
       "    }\n",
       "</style>\n",
       "<table border=\"1\" class=\"dataframe\">\n",
       "  <thead>\n",
       "    <tr style=\"text-align: right;\">\n",
       "      <th>y_p</th>\n",
       "      <th>2019_1</th>\n",
       "      <th>2019_2</th>\n",
       "      <th>2020_1</th>\n",
       "      <th>2020_2</th>\n",
       "    </tr>\n",
       "    <tr>\n",
       "      <th>id_c</th>\n",
       "      <th></th>\n",
       "      <th></th>\n",
       "      <th></th>\n",
       "      <th></th>\n",
       "    </tr>\n",
       "  </thead>\n",
       "  <tbody>\n",
       "    <tr>\n",
       "      <th>1</th>\n",
       "      <td>143700.0</td>\n",
       "      <td>258400.0</td>\n",
       "      <td>119500.0</td>\n",
       "      <td>352600.000000</td>\n",
       "    </tr>\n",
       "    <tr>\n",
       "      <th>2</th>\n",
       "      <td>69450.0</td>\n",
       "      <td>275200.0</td>\n",
       "      <td>30800.0</td>\n",
       "      <td>253645.652174</td>\n",
       "    </tr>\n",
       "    <tr>\n",
       "      <th>3</th>\n",
       "      <td>32100.0</td>\n",
       "      <td>33200.0</td>\n",
       "      <td>78400.0</td>\n",
       "      <td>187000.000000</td>\n",
       "    </tr>\n",
       "    <tr>\n",
       "      <th>4</th>\n",
       "      <td>37800.0</td>\n",
       "      <td>407400.0</td>\n",
       "      <td>446700.0</td>\n",
       "      <td>218600.000000</td>\n",
       "    </tr>\n",
       "    <tr>\n",
       "      <th>5</th>\n",
       "      <td>58550.0</td>\n",
       "      <td>169600.0</td>\n",
       "      <td>58000.0</td>\n",
       "      <td>332000.000000</td>\n",
       "    </tr>\n",
       "  </tbody>\n",
       "</table>\n",
       "</div>"
      ],
      "text/plain": [
       "y_p     2019_1    2019_2    2020_1         2020_2\n",
       "id_c                                             \n",
       "1     143700.0  258400.0  119500.0  352600.000000\n",
       "2      69450.0  275200.0   30800.0  253645.652174\n",
       "3      32100.0   33200.0   78400.0  187000.000000\n",
       "4      37800.0  407400.0  446700.0  218600.000000\n",
       "5      58550.0  169600.0   58000.0  332000.000000"
      ]
     },
     "execution_count": 377,
     "metadata": {},
     "output_type": "execute_result"
    }
   ],
   "source": [
    "df3['2019_1'].fillna(df3['2019_1'].mean(),inplace=True)\n",
    "df3['2019_2'].fillna(df3['2019_2'].mean(),inplace=True)\n",
    "df3['2020_1'].fillna(df3['2020_1'].mean(),inplace=True)\n",
    "df3['2020_2'].fillna(df3['2020_2'].mean(),inplace=True)\n",
    "\n",
    "df3.head()"
   ]
  },
  {
   "cell_type": "code",
   "execution_count": 378,
   "metadata": {},
   "outputs": [
    {
     "data": {
      "text/html": [
       "<div>\n",
       "<style scoped>\n",
       "    .dataframe tbody tr th:only-of-type {\n",
       "        vertical-align: middle;\n",
       "    }\n",
       "\n",
       "    .dataframe tbody tr th {\n",
       "        vertical-align: top;\n",
       "    }\n",
       "\n",
       "    .dataframe thead th {\n",
       "        text-align: right;\n",
       "    }\n",
       "</style>\n",
       "<table border=\"1\" class=\"dataframe\">\n",
       "  <thead>\n",
       "    <tr style=\"text-align: right;\">\n",
       "      <th>y_p</th>\n",
       "      <th>hpd</th>\n",
       "      <th>lpd</th>\n",
       "    </tr>\n",
       "    <tr>\n",
       "      <th>id_c</th>\n",
       "      <th></th>\n",
       "      <th></th>\n",
       "    </tr>\n",
       "  </thead>\n",
       "  <tbody>\n",
       "    <tr>\n",
       "      <th>1</th>\n",
       "      <td>-0.168406</td>\n",
       "      <td>0.364551</td>\n",
       "    </tr>\n",
       "    <tr>\n",
       "      <th>2</th>\n",
       "      <td>-0.556515</td>\n",
       "      <td>-0.078322</td>\n",
       "    </tr>\n",
       "    <tr>\n",
       "      <th>3</th>\n",
       "      <td>1.442368</td>\n",
       "      <td>4.632530</td>\n",
       "    </tr>\n",
       "    <tr>\n",
       "      <th>4</th>\n",
       "      <td>10.817460</td>\n",
       "      <td>-0.463427</td>\n",
       "    </tr>\n",
       "    <tr>\n",
       "      <th>5</th>\n",
       "      <td>-0.009394</td>\n",
       "      <td>0.957547</td>\n",
       "    </tr>\n",
       "  </tbody>\n",
       "</table>\n",
       "</div>"
      ],
      "text/plain": [
       "y_p         hpd       lpd\n",
       "id_c                     \n",
       "1     -0.168406  0.364551\n",
       "2     -0.556515 -0.078322\n",
       "3      1.442368  4.632530\n",
       "4     10.817460 -0.463427\n",
       "5     -0.009394  0.957547"
      ]
     },
     "execution_count": 378,
     "metadata": {},
     "output_type": "execute_result"
    }
   ],
   "source": [
    "# 변화율 \n",
    "\n",
    "df3['hpd'] = (df3['2020_1'] - df3['2019_1']) / df3['2019_1']\n",
    "df3['lpd'] = (df3['2020_2'] - df3['2019_2']) / df3['2019_2']\n",
    "df3.head()\n",
    "df4= df3[['hpd','lpd']]\n",
    "df4.head()"
   ]
  },
  {
   "cell_type": "code",
   "execution_count": 379,
   "metadata": {
    "scrolled": true
   },
   "outputs": [
    {
     "data": {
      "text/html": [
       "<div>\n",
       "<style scoped>\n",
       "    .dataframe tbody tr th:only-of-type {\n",
       "        vertical-align: middle;\n",
       "    }\n",
       "\n",
       "    .dataframe tbody tr th {\n",
       "        vertical-align: top;\n",
       "    }\n",
       "\n",
       "    .dataframe thead th {\n",
       "        text-align: right;\n",
       "    }\n",
       "</style>\n",
       "<table border=\"1\" class=\"dataframe\">\n",
       "  <thead>\n",
       "    <tr style=\"text-align: right;\">\n",
       "      <th></th>\n",
       "      <th>id_c</th>\n",
       "      <th>gender</th>\n",
       "      <th>region</th>\n",
       "      <th>age_cat</th>\n",
       "      <th>hpd</th>\n",
       "      <th>lpd</th>\n",
       "    </tr>\n",
       "  </thead>\n",
       "  <tbody>\n",
       "    <tr>\n",
       "      <th>0</th>\n",
       "      <td>1</td>\n",
       "      <td>0</td>\n",
       "      <td>4</td>\n",
       "      <td>4</td>\n",
       "      <td>-0.168406</td>\n",
       "      <td>0.364551</td>\n",
       "    </tr>\n",
       "    <tr>\n",
       "      <th>1</th>\n",
       "      <td>2</td>\n",
       "      <td>1</td>\n",
       "      <td>3</td>\n",
       "      <td>5</td>\n",
       "      <td>-0.556515</td>\n",
       "      <td>-0.078322</td>\n",
       "    </tr>\n",
       "    <tr>\n",
       "      <th>2</th>\n",
       "      <td>3</td>\n",
       "      <td>1</td>\n",
       "      <td>4</td>\n",
       "      <td>1</td>\n",
       "      <td>1.442368</td>\n",
       "      <td>4.632530</td>\n",
       "    </tr>\n",
       "    <tr>\n",
       "      <th>3</th>\n",
       "      <td>4</td>\n",
       "      <td>0</td>\n",
       "      <td>3</td>\n",
       "      <td>5</td>\n",
       "      <td>10.817460</td>\n",
       "      <td>-0.463427</td>\n",
       "    </tr>\n",
       "    <tr>\n",
       "      <th>4</th>\n",
       "      <td>5</td>\n",
       "      <td>1</td>\n",
       "      <td>5</td>\n",
       "      <td>4</td>\n",
       "      <td>-0.009394</td>\n",
       "      <td>0.957547</td>\n",
       "    </tr>\n",
       "  </tbody>\n",
       "</table>\n",
       "</div>"
      ],
      "text/plain": [
       "   id_c  gender  region  age_cat        hpd       lpd\n",
       "0     1       0       4        4  -0.168406  0.364551\n",
       "1     2       1       3        5  -0.556515 -0.078322\n",
       "2     3       1       4        1   1.442368  4.632530\n",
       "3     4       0       3        5  10.817460 -0.463427\n",
       "4     5       1       5        4  -0.009394  0.957547"
      ]
     },
     "execution_count": 379,
     "metadata": {},
     "output_type": "execute_result"
    }
   ],
   "source": [
    "df5= pd.merge(df1,df4,on='id_c', how='outer')\n",
    "df5.head()"
   ]
  },
  {
   "cell_type": "code",
   "execution_count": 380,
   "metadata": {},
   "outputs": [
    {
     "data": {
      "text/html": [
       "<div>\n",
       "<style scoped>\n",
       "    .dataframe tbody tr th:only-of-type {\n",
       "        vertical-align: middle;\n",
       "    }\n",
       "\n",
       "    .dataframe tbody tr th {\n",
       "        vertical-align: top;\n",
       "    }\n",
       "\n",
       "    .dataframe thead th {\n",
       "        text-align: right;\n",
       "    }\n",
       "</style>\n",
       "<table border=\"1\" class=\"dataframe\">\n",
       "  <thead>\n",
       "    <tr style=\"text-align: right;\">\n",
       "      <th>year</th>\n",
       "      <th>2019</th>\n",
       "      <th>2020</th>\n",
       "    </tr>\n",
       "    <tr>\n",
       "      <th>id_c</th>\n",
       "      <th></th>\n",
       "      <th></th>\n",
       "    </tr>\n",
       "  </thead>\n",
       "  <tbody>\n",
       "    <tr>\n",
       "      <th>1</th>\n",
       "      <td>402100.0</td>\n",
       "      <td>472100.0</td>\n",
       "    </tr>\n",
       "    <tr>\n",
       "      <th>2</th>\n",
       "      <td>344650.0</td>\n",
       "      <td>30800.0</td>\n",
       "    </tr>\n",
       "    <tr>\n",
       "      <th>3</th>\n",
       "      <td>65300.0</td>\n",
       "      <td>265400.0</td>\n",
       "    </tr>\n",
       "    <tr>\n",
       "      <th>4</th>\n",
       "      <td>445200.0</td>\n",
       "      <td>665300.0</td>\n",
       "    </tr>\n",
       "    <tr>\n",
       "      <th>5</th>\n",
       "      <td>228150.0</td>\n",
       "      <td>390000.0</td>\n",
       "    </tr>\n",
       "  </tbody>\n",
       "</table>\n",
       "</div>"
      ],
      "text/plain": [
       "year      2019      2020\n",
       "id_c                    \n",
       "1     402100.0  472100.0\n",
       "2     344650.0   30800.0\n",
       "3      65300.0  265400.0\n",
       "4     445200.0  665300.0\n",
       "5     228150.0  390000.0"
      ]
     },
     "execution_count": 380,
     "metadata": {},
     "output_type": "execute_result"
    }
   ],
   "source": [
    "# 종속변수 정의\n",
    "dfy = df2[['id_c','year','amount']]\n",
    "pdf = pd.pivot_table(dfy,index='id_c',columns='year',values='amount',aggfunc='sum')\n",
    "\n",
    "# pvt.columns.name=None\n",
    "pdf.head()"
   ]
  },
  {
   "cell_type": "code",
   "execution_count": 381,
   "metadata": {},
   "outputs": [
    {
     "data": {
      "text/plain": [
       "year\n",
       "2019    0\n",
       "2020    2\n",
       "dtype: int64"
      ]
     },
     "execution_count": 381,
     "metadata": {},
     "output_type": "execute_result"
    }
   ],
   "source": [
    "pdf.isnull().sum()"
   ]
  },
  {
   "cell_type": "code",
   "execution_count": 382,
   "metadata": {},
   "outputs": [],
   "source": [
    "pdf[2020].fillna(pdf[2020].mean(),inplace=True)"
   ]
  },
  {
   "cell_type": "code",
   "execution_count": 383,
   "metadata": {},
   "outputs": [
    {
     "data": {
      "text/html": [
       "<div>\n",
       "<style scoped>\n",
       "    .dataframe tbody tr th:only-of-type {\n",
       "        vertical-align: middle;\n",
       "    }\n",
       "\n",
       "    .dataframe tbody tr th {\n",
       "        vertical-align: top;\n",
       "    }\n",
       "\n",
       "    .dataframe thead th {\n",
       "        text-align: right;\n",
       "    }\n",
       "</style>\n",
       "<table border=\"1\" class=\"dataframe\">\n",
       "  <thead>\n",
       "    <tr style=\"text-align: right;\">\n",
       "      <th></th>\n",
       "      <th>id_c</th>\n",
       "      <th>gender</th>\n",
       "      <th>region</th>\n",
       "      <th>age_cat</th>\n",
       "      <th>hpd</th>\n",
       "      <th>lpd</th>\n",
       "      <th>2019</th>\n",
       "      <th>2020</th>\n",
       "    </tr>\n",
       "  </thead>\n",
       "  <tbody>\n",
       "    <tr>\n",
       "      <th>0</th>\n",
       "      <td>1</td>\n",
       "      <td>0</td>\n",
       "      <td>4</td>\n",
       "      <td>4</td>\n",
       "      <td>-0.168406</td>\n",
       "      <td>0.364551</td>\n",
       "      <td>402100.0</td>\n",
       "      <td>472100.0</td>\n",
       "    </tr>\n",
       "    <tr>\n",
       "      <th>1</th>\n",
       "      <td>2</td>\n",
       "      <td>1</td>\n",
       "      <td>3</td>\n",
       "      <td>5</td>\n",
       "      <td>-0.556515</td>\n",
       "      <td>-0.078322</td>\n",
       "      <td>344650.0</td>\n",
       "      <td>30800.0</td>\n",
       "    </tr>\n",
       "    <tr>\n",
       "      <th>2</th>\n",
       "      <td>3</td>\n",
       "      <td>1</td>\n",
       "      <td>4</td>\n",
       "      <td>1</td>\n",
       "      <td>1.442368</td>\n",
       "      <td>4.632530</td>\n",
       "      <td>65300.0</td>\n",
       "      <td>265400.0</td>\n",
       "    </tr>\n",
       "    <tr>\n",
       "      <th>3</th>\n",
       "      <td>4</td>\n",
       "      <td>0</td>\n",
       "      <td>3</td>\n",
       "      <td>5</td>\n",
       "      <td>10.817460</td>\n",
       "      <td>-0.463427</td>\n",
       "      <td>445200.0</td>\n",
       "      <td>665300.0</td>\n",
       "    </tr>\n",
       "    <tr>\n",
       "      <th>4</th>\n",
       "      <td>5</td>\n",
       "      <td>1</td>\n",
       "      <td>5</td>\n",
       "      <td>4</td>\n",
       "      <td>-0.009394</td>\n",
       "      <td>0.957547</td>\n",
       "      <td>228150.0</td>\n",
       "      <td>390000.0</td>\n",
       "    </tr>\n",
       "  </tbody>\n",
       "</table>\n",
       "</div>"
      ],
      "text/plain": [
       "   id_c  gender  region  age_cat        hpd       lpd      2019      2020\n",
       "0     1       0       4        4  -0.168406  0.364551  402100.0  472100.0\n",
       "1     2       1       3        5  -0.556515 -0.078322  344650.0   30800.0\n",
       "2     3       1       4        1   1.442368  4.632530   65300.0  265400.0\n",
       "3     4       0       3        5  10.817460 -0.463427  445200.0  665300.0\n",
       "4     5       1       5        4  -0.009394  0.957547  228150.0  390000.0"
      ]
     },
     "execution_count": 383,
     "metadata": {},
     "output_type": "execute_result"
    }
   ],
   "source": [
    "dt= pd.merge(df5,pdf,on='id_c',how='outer')\n",
    "dt.head()"
   ]
  },
  {
   "cell_type": "code",
   "execution_count": 384,
   "metadata": {},
   "outputs": [],
   "source": [
    "# 상승률 \n",
    "dt['ratio']= (dt[2020]-dt[2019]) /dt[2019]"
   ]
  },
  {
   "cell_type": "code",
   "execution_count": 385,
   "metadata": {},
   "outputs": [
    {
     "data": {
      "text/html": [
       "<div>\n",
       "<style scoped>\n",
       "    .dataframe tbody tr th:only-of-type {\n",
       "        vertical-align: middle;\n",
       "    }\n",
       "\n",
       "    .dataframe tbody tr th {\n",
       "        vertical-align: top;\n",
       "    }\n",
       "\n",
       "    .dataframe thead th {\n",
       "        text-align: right;\n",
       "    }\n",
       "</style>\n",
       "<table border=\"1\" class=\"dataframe\">\n",
       "  <thead>\n",
       "    <tr style=\"text-align: right;\">\n",
       "      <th></th>\n",
       "      <th>id_c</th>\n",
       "      <th>gender</th>\n",
       "      <th>region</th>\n",
       "      <th>age_cat</th>\n",
       "      <th>hpd</th>\n",
       "      <th>lpd</th>\n",
       "      <th>2019</th>\n",
       "      <th>2020</th>\n",
       "      <th>ratio</th>\n",
       "    </tr>\n",
       "  </thead>\n",
       "  <tbody>\n",
       "    <tr>\n",
       "      <th>0</th>\n",
       "      <td>1</td>\n",
       "      <td>0</td>\n",
       "      <td>4</td>\n",
       "      <td>4</td>\n",
       "      <td>-0.168406</td>\n",
       "      <td>0.364551</td>\n",
       "      <td>402100.0</td>\n",
       "      <td>472100.0</td>\n",
       "      <td>0.174086</td>\n",
       "    </tr>\n",
       "    <tr>\n",
       "      <th>1</th>\n",
       "      <td>2</td>\n",
       "      <td>1</td>\n",
       "      <td>3</td>\n",
       "      <td>5</td>\n",
       "      <td>-0.556515</td>\n",
       "      <td>-0.078322</td>\n",
       "      <td>344650.0</td>\n",
       "      <td>30800.0</td>\n",
       "      <td>-0.910634</td>\n",
       "    </tr>\n",
       "    <tr>\n",
       "      <th>2</th>\n",
       "      <td>3</td>\n",
       "      <td>1</td>\n",
       "      <td>4</td>\n",
       "      <td>1</td>\n",
       "      <td>1.442368</td>\n",
       "      <td>4.632530</td>\n",
       "      <td>65300.0</td>\n",
       "      <td>265400.0</td>\n",
       "      <td>3.064319</td>\n",
       "    </tr>\n",
       "    <tr>\n",
       "      <th>3</th>\n",
       "      <td>4</td>\n",
       "      <td>0</td>\n",
       "      <td>3</td>\n",
       "      <td>5</td>\n",
       "      <td>10.817460</td>\n",
       "      <td>-0.463427</td>\n",
       "      <td>445200.0</td>\n",
       "      <td>665300.0</td>\n",
       "      <td>0.494385</td>\n",
       "    </tr>\n",
       "    <tr>\n",
       "      <th>4</th>\n",
       "      <td>5</td>\n",
       "      <td>1</td>\n",
       "      <td>5</td>\n",
       "      <td>4</td>\n",
       "      <td>-0.009394</td>\n",
       "      <td>0.957547</td>\n",
       "      <td>228150.0</td>\n",
       "      <td>390000.0</td>\n",
       "      <td>0.709402</td>\n",
       "    </tr>\n",
       "    <tr>\n",
       "      <th>...</th>\n",
       "      <td>...</td>\n",
       "      <td>...</td>\n",
       "      <td>...</td>\n",
       "      <td>...</td>\n",
       "      <td>...</td>\n",
       "      <td>...</td>\n",
       "      <td>...</td>\n",
       "      <td>...</td>\n",
       "      <td>...</td>\n",
       "    </tr>\n",
       "    <tr>\n",
       "      <th>95</th>\n",
       "      <td>96</td>\n",
       "      <td>0</td>\n",
       "      <td>1</td>\n",
       "      <td>1</td>\n",
       "      <td>-0.216995</td>\n",
       "      <td>-0.399209</td>\n",
       "      <td>253000.0</td>\n",
       "      <td>199200.0</td>\n",
       "      <td>-0.212648</td>\n",
       "    </tr>\n",
       "    <tr>\n",
       "      <th>96</th>\n",
       "      <td>97</td>\n",
       "      <td>0</td>\n",
       "      <td>5</td>\n",
       "      <td>3</td>\n",
       "      <td>2.203355</td>\n",
       "      <td>-0.125360</td>\n",
       "      <td>290000.0</td>\n",
       "      <td>193100.0</td>\n",
       "      <td>-0.334138</td>\n",
       "    </tr>\n",
       "    <tr>\n",
       "      <th>97</th>\n",
       "      <td>98</td>\n",
       "      <td>1</td>\n",
       "      <td>4</td>\n",
       "      <td>1</td>\n",
       "      <td>-0.421920</td>\n",
       "      <td>0.727575</td>\n",
       "      <td>171950.0</td>\n",
       "      <td>237800.0</td>\n",
       "      <td>0.382960</td>\n",
       "    </tr>\n",
       "    <tr>\n",
       "      <th>98</th>\n",
       "      <td>99</td>\n",
       "      <td>1</td>\n",
       "      <td>4</td>\n",
       "      <td>4</td>\n",
       "      <td>0.592553</td>\n",
       "      <td>1.055315</td>\n",
       "      <td>184400.0</td>\n",
       "      <td>475000.0</td>\n",
       "      <td>1.575922</td>\n",
       "    </tr>\n",
       "    <tr>\n",
       "      <th>99</th>\n",
       "      <td>100</td>\n",
       "      <td>0</td>\n",
       "      <td>1</td>\n",
       "      <td>2</td>\n",
       "      <td>-0.416867</td>\n",
       "      <td>2.836397</td>\n",
       "      <td>191800.0</td>\n",
       "      <td>465800.0</td>\n",
       "      <td>1.428571</td>\n",
       "    </tr>\n",
       "  </tbody>\n",
       "</table>\n",
       "<p>100 rows × 9 columns</p>\n",
       "</div>"
      ],
      "text/plain": [
       "    id_c  gender  region  age_cat        hpd       lpd      2019      2020  \\\n",
       "0      1       0       4        4  -0.168406  0.364551  402100.0  472100.0   \n",
       "1      2       1       3        5  -0.556515 -0.078322  344650.0   30800.0   \n",
       "2      3       1       4        1   1.442368  4.632530   65300.0  265400.0   \n",
       "3      4       0       3        5  10.817460 -0.463427  445200.0  665300.0   \n",
       "4      5       1       5        4  -0.009394  0.957547  228150.0  390000.0   \n",
       "..   ...     ...     ...      ...        ...       ...       ...       ...   \n",
       "95    96       0       1        1  -0.216995 -0.399209  253000.0  199200.0   \n",
       "96    97       0       5        3   2.203355 -0.125360  290000.0  193100.0   \n",
       "97    98       1       4        1  -0.421920  0.727575  171950.0  237800.0   \n",
       "98    99       1       4        4   0.592553  1.055315  184400.0  475000.0   \n",
       "99   100       0       1        2  -0.416867  2.836397  191800.0  465800.0   \n",
       "\n",
       "       ratio  \n",
       "0   0.174086  \n",
       "1  -0.910634  \n",
       "2   3.064319  \n",
       "3   0.494385  \n",
       "4   0.709402  \n",
       "..       ...  \n",
       "95 -0.212648  \n",
       "96 -0.334138  \n",
       "97  0.382960  \n",
       "98  1.575922  \n",
       "99  1.428571  \n",
       "\n",
       "[100 rows x 9 columns]"
      ]
     },
     "execution_count": 385,
     "metadata": {},
     "output_type": "execute_result"
    }
   ],
   "source": [
    "dt"
   ]
  },
  {
   "cell_type": "code",
   "execution_count": 386,
   "metadata": {},
   "outputs": [
    {
     "data": {
      "text/html": [
       "<div>\n",
       "<style scoped>\n",
       "    .dataframe tbody tr th:only-of-type {\n",
       "        vertical-align: middle;\n",
       "    }\n",
       "\n",
       "    .dataframe tbody tr th {\n",
       "        vertical-align: top;\n",
       "    }\n",
       "\n",
       "    .dataframe thead th {\n",
       "        text-align: right;\n",
       "    }\n",
       "</style>\n",
       "<table border=\"1\" class=\"dataframe\">\n",
       "  <thead>\n",
       "    <tr style=\"text-align: right;\">\n",
       "      <th></th>\n",
       "      <th>gender</th>\n",
       "      <th>region</th>\n",
       "      <th>age_cat</th>\n",
       "      <th>hpd</th>\n",
       "      <th>lpd</th>\n",
       "      <th>ratio</th>\n",
       "    </tr>\n",
       "  </thead>\n",
       "  <tbody>\n",
       "    <tr>\n",
       "      <th>0</th>\n",
       "      <td>0</td>\n",
       "      <td>4</td>\n",
       "      <td>4</td>\n",
       "      <td>-0.168406</td>\n",
       "      <td>0.364551</td>\n",
       "      <td>0.174086</td>\n",
       "    </tr>\n",
       "    <tr>\n",
       "      <th>1</th>\n",
       "      <td>1</td>\n",
       "      <td>3</td>\n",
       "      <td>5</td>\n",
       "      <td>-0.556515</td>\n",
       "      <td>-0.078322</td>\n",
       "      <td>-0.910634</td>\n",
       "    </tr>\n",
       "    <tr>\n",
       "      <th>2</th>\n",
       "      <td>1</td>\n",
       "      <td>4</td>\n",
       "      <td>1</td>\n",
       "      <td>1.442368</td>\n",
       "      <td>4.632530</td>\n",
       "      <td>3.064319</td>\n",
       "    </tr>\n",
       "    <tr>\n",
       "      <th>3</th>\n",
       "      <td>0</td>\n",
       "      <td>3</td>\n",
       "      <td>5</td>\n",
       "      <td>10.817460</td>\n",
       "      <td>-0.463427</td>\n",
       "      <td>0.494385</td>\n",
       "    </tr>\n",
       "    <tr>\n",
       "      <th>4</th>\n",
       "      <td>1</td>\n",
       "      <td>5</td>\n",
       "      <td>4</td>\n",
       "      <td>-0.009394</td>\n",
       "      <td>0.957547</td>\n",
       "      <td>0.709402</td>\n",
       "    </tr>\n",
       "    <tr>\n",
       "      <th>...</th>\n",
       "      <td>...</td>\n",
       "      <td>...</td>\n",
       "      <td>...</td>\n",
       "      <td>...</td>\n",
       "      <td>...</td>\n",
       "      <td>...</td>\n",
       "    </tr>\n",
       "    <tr>\n",
       "      <th>95</th>\n",
       "      <td>0</td>\n",
       "      <td>1</td>\n",
       "      <td>1</td>\n",
       "      <td>-0.216995</td>\n",
       "      <td>-0.399209</td>\n",
       "      <td>-0.212648</td>\n",
       "    </tr>\n",
       "    <tr>\n",
       "      <th>96</th>\n",
       "      <td>0</td>\n",
       "      <td>5</td>\n",
       "      <td>3</td>\n",
       "      <td>2.203355</td>\n",
       "      <td>-0.125360</td>\n",
       "      <td>-0.334138</td>\n",
       "    </tr>\n",
       "    <tr>\n",
       "      <th>97</th>\n",
       "      <td>1</td>\n",
       "      <td>4</td>\n",
       "      <td>1</td>\n",
       "      <td>-0.421920</td>\n",
       "      <td>0.727575</td>\n",
       "      <td>0.382960</td>\n",
       "    </tr>\n",
       "    <tr>\n",
       "      <th>98</th>\n",
       "      <td>1</td>\n",
       "      <td>4</td>\n",
       "      <td>4</td>\n",
       "      <td>0.592553</td>\n",
       "      <td>1.055315</td>\n",
       "      <td>1.575922</td>\n",
       "    </tr>\n",
       "    <tr>\n",
       "      <th>99</th>\n",
       "      <td>0</td>\n",
       "      <td>1</td>\n",
       "      <td>2</td>\n",
       "      <td>-0.416867</td>\n",
       "      <td>2.836397</td>\n",
       "      <td>1.428571</td>\n",
       "    </tr>\n",
       "  </tbody>\n",
       "</table>\n",
       "<p>100 rows × 6 columns</p>\n",
       "</div>"
      ],
      "text/plain": [
       "    gender  region  age_cat        hpd       lpd     ratio\n",
       "0        0       4        4  -0.168406  0.364551  0.174086\n",
       "1        1       3        5  -0.556515 -0.078322 -0.910634\n",
       "2        1       4        1   1.442368  4.632530  3.064319\n",
       "3        0       3        5  10.817460 -0.463427  0.494385\n",
       "4        1       5        4  -0.009394  0.957547  0.709402\n",
       "..     ...     ...      ...        ...       ...       ...\n",
       "95       0       1        1  -0.216995 -0.399209 -0.212648\n",
       "96       0       5        3   2.203355 -0.125360 -0.334138\n",
       "97       1       4        1  -0.421920  0.727575  0.382960\n",
       "98       1       4        4   0.592553  1.055315  1.575922\n",
       "99       0       1        2  -0.416867  2.836397  1.428571\n",
       "\n",
       "[100 rows x 6 columns]"
      ]
     },
     "execution_count": 386,
     "metadata": {},
     "output_type": "execute_result"
    }
   ],
   "source": [
    "dt_t= dt[['gender','region','age_cat','hpd','lpd','ratio']]\n",
    "dt_t"
   ]
  },
  {
   "cell_type": "code",
   "execution_count": 387,
   "metadata": {},
   "outputs": [
    {
     "data": {
      "text/html": [
       "<div>\n",
       "<style scoped>\n",
       "    .dataframe tbody tr th:only-of-type {\n",
       "        vertical-align: middle;\n",
       "    }\n",
       "\n",
       "    .dataframe tbody tr th {\n",
       "        vertical-align: top;\n",
       "    }\n",
       "\n",
       "    .dataframe thead th {\n",
       "        text-align: right;\n",
       "    }\n",
       "</style>\n",
       "<table border=\"1\" class=\"dataframe\">\n",
       "  <thead>\n",
       "    <tr style=\"text-align: right;\">\n",
       "      <th></th>\n",
       "      <th>hpd</th>\n",
       "      <th>lpd</th>\n",
       "      <th>ratio</th>\n",
       "    </tr>\n",
       "  </thead>\n",
       "  <tbody>\n",
       "    <tr>\n",
       "      <th>hpd</th>\n",
       "      <td>1.000000</td>\n",
       "      <td>-0.033082</td>\n",
       "      <td>0.111894</td>\n",
       "    </tr>\n",
       "    <tr>\n",
       "      <th>lpd</th>\n",
       "      <td>-0.033082</td>\n",
       "      <td>1.000000</td>\n",
       "      <td>0.361511</td>\n",
       "    </tr>\n",
       "    <tr>\n",
       "      <th>ratio</th>\n",
       "      <td>0.111894</td>\n",
       "      <td>0.361511</td>\n",
       "      <td>1.000000</td>\n",
       "    </tr>\n",
       "  </tbody>\n",
       "</table>\n",
       "</div>"
      ],
      "text/plain": [
       "            hpd       lpd     ratio\n",
       "hpd    1.000000 -0.033082  0.111894\n",
       "lpd   -0.033082  1.000000  0.361511\n",
       "ratio  0.111894  0.361511  1.000000"
      ]
     },
     "execution_count": 387,
     "metadata": {},
     "output_type": "execute_result"
    }
   ],
   "source": [
    "dt_t[['hpd','lpd','ratio']].corr()"
   ]
  },
  {
   "cell_type": "code",
   "execution_count": 432,
   "metadata": {},
   "outputs": [
    {
     "data": {
      "text/plain": [
       "Text(0.5, 1.0, 'corr')"
      ]
     },
     "execution_count": 432,
     "metadata": {},
     "output_type": "execute_result"
    },
    {
     "data": {
      "image/png": "[encoded data removed]",
      "text/plain": [
       "<Figure size 432x288 with 2 Axes>"
      ]
     },
     "metadata": {
      "needs_background": "light"
     },
     "output_type": "display_data"
    }
   ],
   "source": [
    "sns.heatmap(dt_t[['hpd','lpd','ratio']].corr(),annot=True)\n",
    "plt.title('corr',fontsize=20)"
   ]
  },
  {
   "cell_type": "code",
   "execution_count": null,
   "metadata": {},
   "outputs": [],
   "source": [
    "# lpd- ratio / hpd-ratio는 0.36의 상관관계를 갖는다. "
   ]
  },
  {
   "cell_type": "code",
   "execution_count": 388,
   "metadata": {},
   "outputs": [],
   "source": [
    "import matplotlib.pyplot as plt\n",
    "import seaborn as sns\n"
   ]
  },
  {
   "cell_type": "code",
   "execution_count": 389,
   "metadata": {
    "scrolled": true
   },
   "outputs": [
    {
     "data": {
      "text/plain": [
       "<AxesSubplot:xlabel='hpd', ylabel='ratio'>"
      ]
     },
     "execution_count": 389,
     "metadata": {},
     "output_type": "execute_result"
    },
    {
     "data": {
      "image/png": "[encoded data removed]",
      "text/plain": [
       "<Figure size 432x288 with 1 Axes>"
      ]
     },
     "metadata": {
      "needs_background": "light"
     },
     "output_type": "display_data"
    }
   ],
   "source": [
    "dt_t.plot(x='hpd',y='ratio',kind='scatter')"
   ]
  },
  {
   "cell_type": "code",
   "execution_count": 390,
   "metadata": {},
   "outputs": [
    {
     "data": {
      "text/plain": [
       "<AxesSubplot:xlabel='lpd', ylabel='ratio'>"
      ]
     },
     "execution_count": 390,
     "metadata": {},
     "output_type": "execute_result"
    },
    {
     "data": {
      "image/png": "[encoded data removed]",
      "text/plain": [
       "<Figure size 432x288 with 1 Axes>"
      ]
     },
     "metadata": {
      "needs_background": "light"
     },
     "output_type": "display_data"
    }
   ],
   "source": [
    "dt_t.plot(x='lpd',y='ratio',kind='scatter')"
   ]
  },
  {
   "cell_type": "code",
   "execution_count": 398,
   "metadata": {
    "scrolled": false
   },
   "outputs": [
    {
     "data": {
      "text/plain": [
       "<AxesSubplot:ylabel='Frequency'>"
      ]
     },
     "execution_count": 398,
     "metadata": {},
     "output_type": "execute_result"
    },
    {
     "data": {
      "image/png": "[encoded data removed]",
      "text/plain": [
       "<Figure size 432x288 with 1 Axes>"
      ]
     },
     "metadata": {
      "needs_background": "light"
     },
     "output_type": "display_data"
    }
   ],
   "source": [
    "dt_t.ratio.plot(kind='hist',bins=50)"
   ]
  },
  {
   "cell_type": "code",
   "execution_count": 414,
   "metadata": {
    "scrolled": true
   },
   "outputs": [
    {
     "data": {
      "text/html": [
       "<div>\n",
       "<style scoped>\n",
       "    .dataframe tbody tr th:only-of-type {\n",
       "        vertical-align: middle;\n",
       "    }\n",
       "\n",
       "    .dataframe tbody tr th {\n",
       "        vertical-align: top;\n",
       "    }\n",
       "\n",
       "    .dataframe thead th {\n",
       "        text-align: right;\n",
       "    }\n",
       "</style>\n",
       "<table border=\"1\" class=\"dataframe\">\n",
       "  <thead>\n",
       "    <tr style=\"text-align: right;\">\n",
       "      <th></th>\n",
       "      <th>gender</th>\n",
       "      <th>region</th>\n",
       "      <th>age_cat</th>\n",
       "      <th>hpd</th>\n",
       "      <th>lpd</th>\n",
       "      <th>ratio</th>\n",
       "    </tr>\n",
       "  </thead>\n",
       "  <tbody>\n",
       "    <tr>\n",
       "      <th>count</th>\n",
       "      <td>100.000000</td>\n",
       "      <td>100.000000</td>\n",
       "      <td>100.000000</td>\n",
       "      <td>100.000000</td>\n",
       "      <td>100.000000</td>\n",
       "      <td>100.000000</td>\n",
       "    </tr>\n",
       "    <tr>\n",
       "      <th>mean</th>\n",
       "      <td>0.560000</td>\n",
       "      <td>3.060000</td>\n",
       "      <td>3.090000</td>\n",
       "      <td>1.956624</td>\n",
       "      <td>0.542246</td>\n",
       "      <td>0.970339</td>\n",
       "    </tr>\n",
       "    <tr>\n",
       "      <th>std</th>\n",
       "      <td>0.498888</td>\n",
       "      <td>1.361965</td>\n",
       "      <td>1.614924</td>\n",
       "      <td>2.958971</td>\n",
       "      <td>1.554206</td>\n",
       "      <td>3.042101</td>\n",
       "    </tr>\n",
       "    <tr>\n",
       "      <th>min</th>\n",
       "      <td>0.000000</td>\n",
       "      <td>1.000000</td>\n",
       "      <td>1.000000</td>\n",
       "      <td>-0.911892</td>\n",
       "      <td>-0.851840</td>\n",
       "      <td>-0.910634</td>\n",
       "    </tr>\n",
       "    <tr>\n",
       "      <th>25%</th>\n",
       "      <td>0.000000</td>\n",
       "      <td>2.000000</td>\n",
       "      <td>1.000000</td>\n",
       "      <td>-0.040747</td>\n",
       "      <td>-0.378877</td>\n",
       "      <td>-0.311907</td>\n",
       "    </tr>\n",
       "    <tr>\n",
       "      <th>50%</th>\n",
       "      <td>1.000000</td>\n",
       "      <td>3.000000</td>\n",
       "      <td>3.000000</td>\n",
       "      <td>1.171115</td>\n",
       "      <td>0.065510</td>\n",
       "      <td>0.298445</td>\n",
       "    </tr>\n",
       "    <tr>\n",
       "      <th>75%</th>\n",
       "      <td>1.000000</td>\n",
       "      <td>4.000000</td>\n",
       "      <td>5.000000</td>\n",
       "      <td>2.978965</td>\n",
       "      <td>0.959595</td>\n",
       "      <td>1.199583</td>\n",
       "    </tr>\n",
       "    <tr>\n",
       "      <th>max</th>\n",
       "      <td>1.000000</td>\n",
       "      <td>5.000000</td>\n",
       "      <td>5.000000</td>\n",
       "      <td>13.545455</td>\n",
       "      <td>8.341463</td>\n",
       "      <td>26.530249</td>\n",
       "    </tr>\n",
       "  </tbody>\n",
       "</table>\n",
       "</div>"
      ],
      "text/plain": [
       "           gender      region     age_cat         hpd         lpd       ratio\n",
       "count  100.000000  100.000000  100.000000  100.000000  100.000000  100.000000\n",
       "mean     0.560000    3.060000    3.090000    1.956624    0.542246    0.970339\n",
       "std      0.498888    1.361965    1.614924    2.958971    1.554206    3.042101\n",
       "min      0.000000    1.000000    1.000000   -0.911892   -0.851840   -0.910634\n",
       "25%      0.000000    2.000000    1.000000   -0.040747   -0.378877   -0.311907\n",
       "50%      1.000000    3.000000    3.000000    1.171115    0.065510    0.298445\n",
       "75%      1.000000    4.000000    5.000000    2.978965    0.959595    1.199583\n",
       "max      1.000000    5.000000    5.000000   13.545455    8.341463   26.530249"
      ]
     },
     "execution_count": 414,
     "metadata": {},
     "output_type": "execute_result"
    }
   ],
   "source": [
    "dt_t.describe()"
   ]
  },
  {
   "cell_type": "code",
   "execution_count": 415,
   "metadata": {
    "scrolled": true
   },
   "outputs": [
    {
     "data": {
      "text/html": [
       "<div>\n",
       "<style scoped>\n",
       "    .dataframe tbody tr th:only-of-type {\n",
       "        vertical-align: middle;\n",
       "    }\n",
       "\n",
       "    .dataframe tbody tr th {\n",
       "        vertical-align: top;\n",
       "    }\n",
       "\n",
       "    .dataframe thead th {\n",
       "        text-align: right;\n",
       "    }\n",
       "</style>\n",
       "<table border=\"1\" class=\"dataframe\">\n",
       "  <thead>\n",
       "    <tr style=\"text-align: right;\">\n",
       "      <th></th>\n",
       "      <th>gender</th>\n",
       "      <th>region</th>\n",
       "      <th>age_cat</th>\n",
       "      <th>hpd</th>\n",
       "      <th>lpd</th>\n",
       "      <th>ratio</th>\n",
       "    </tr>\n",
       "  </thead>\n",
       "  <tbody>\n",
       "    <tr>\n",
       "      <th>gender</th>\n",
       "      <td>1.000000</td>\n",
       "      <td>0.068979</td>\n",
       "      <td>-0.025576</td>\n",
       "      <td>-0.086791</td>\n",
       "      <td>-0.042548</td>\n",
       "      <td>0.006345</td>\n",
       "    </tr>\n",
       "    <tr>\n",
       "      <th>region</th>\n",
       "      <td>0.068979</td>\n",
       "      <td>1.000000</td>\n",
       "      <td>0.149072</td>\n",
       "      <td>0.213487</td>\n",
       "      <td>0.262055</td>\n",
       "      <td>0.014250</td>\n",
       "    </tr>\n",
       "    <tr>\n",
       "      <th>age_cat</th>\n",
       "      <td>-0.025576</td>\n",
       "      <td>0.149072</td>\n",
       "      <td>1.000000</td>\n",
       "      <td>0.079863</td>\n",
       "      <td>-0.038990</td>\n",
       "      <td>-0.200864</td>\n",
       "    </tr>\n",
       "    <tr>\n",
       "      <th>hpd</th>\n",
       "      <td>-0.086791</td>\n",
       "      <td>0.213487</td>\n",
       "      <td>0.079863</td>\n",
       "      <td>1.000000</td>\n",
       "      <td>-0.033082</td>\n",
       "      <td>0.111894</td>\n",
       "    </tr>\n",
       "    <tr>\n",
       "      <th>lpd</th>\n",
       "      <td>-0.042548</td>\n",
       "      <td>0.262055</td>\n",
       "      <td>-0.038990</td>\n",
       "      <td>-0.033082</td>\n",
       "      <td>1.000000</td>\n",
       "      <td>0.361511</td>\n",
       "    </tr>\n",
       "    <tr>\n",
       "      <th>ratio</th>\n",
       "      <td>0.006345</td>\n",
       "      <td>0.014250</td>\n",
       "      <td>-0.200864</td>\n",
       "      <td>0.111894</td>\n",
       "      <td>0.361511</td>\n",
       "      <td>1.000000</td>\n",
       "    </tr>\n",
       "  </tbody>\n",
       "</table>\n",
       "</div>"
      ],
      "text/plain": [
       "           gender    region   age_cat       hpd       lpd     ratio\n",
       "gender   1.000000  0.068979 -0.025576 -0.086791 -0.042548  0.006345\n",
       "region   0.068979  1.000000  0.149072  0.213487  0.262055  0.014250\n",
       "age_cat -0.025576  0.149072  1.000000  0.079863 -0.038990 -0.200864\n",
       "hpd     -0.086791  0.213487  0.079863  1.000000 -0.033082  0.111894\n",
       "lpd     -0.042548  0.262055 -0.038990 -0.033082  1.000000  0.361511\n",
       "ratio    0.006345  0.014250 -0.200864  0.111894  0.361511  1.000000"
      ]
     },
     "execution_count": 415,
     "metadata": {},
     "output_type": "execute_result"
    }
   ],
   "source": [
    "dt_t.corr()"
   ]
  },
  {
   "cell_type": "code",
   "execution_count": 420,
   "metadata": {},
   "outputs": [
    {
     "data": {
      "text/plain": [
       "<seaborn.axisgrid.FacetGrid at 0x13c50a621c0>"
      ]
     },
     "execution_count": 420,
     "metadata": {},
     "output_type": "execute_result"
    },
    {
     "data": {
      "image/png": "[encoded data removed]",
      "text/plain": [
       "<Figure size 403.5x360 with 1 Axes>"
      ]
     },
     "metadata": {
      "needs_background": "light"
     },
     "output_type": "display_data"
    }
   ],
   "source": [
    "import warnings\n",
    "warnings.filterwarnings('ignore')\n",
    "dp = sns.factorplot(x=\"region\",y=\"ratio\",hue='gender',data=dt_t,kind=\"bar\")\n",
    "dp\n"
   ]
  },
  {
   "cell_type": "code",
   "execution_count": null,
   "metadata": {},
   "outputs": [],
   "source": [
    "# 2지역 사람들의 2019->2020 구매 상승률이 가장 높다.\n",
    "# 여자의 구매 비중은 2지역 사람들이 가장 높고, 남자는 지역별로 큰 차이가 없다. \n",
    "# 2의 신뢰구간이 가장 높다. "
   ]
  },
  {
   "cell_type": "code",
   "execution_count": 429,
   "metadata": {
    "scrolled": true
   },
   "outputs": [
    {
     "data": {
      "text/plain": [
       "[<matplotlib.lines.Line2D at 0x13c50ce8eb0>]"
      ]
     },
     "execution_count": 429,
     "metadata": {},
     "output_type": "execute_result"
    },
    {
     "data": {
      "image/png": "[encoded data removed]",
      "text/plain": [
       "<Figure size 432x288 with 1 Axes>"
      ]
     },
     "metadata": {
      "needs_background": "light"
     },
     "output_type": "display_data"
    }
   ],
   "source": [
    "plt.plot(dt_t['hpd'],'r') \n",
    "plt.plot(dt_t['lpd'],'b') "
   ]
  },
  {
   "cell_type": "code",
   "execution_count": null,
   "metadata": {},
   "outputs": [],
   "source": [
    "# high product의 변화율이 low product의 변화율보다 크다.\n"
   ]
  },
  {
   "cell_type": "code",
   "execution_count": 431,
   "metadata": {
    "scrolled": false
   },
   "outputs": [
    {
     "data": {
      "text/plain": [
       "<matplotlib.legend.Legend at 0x13c50cb0b80>"
      ]
     },
     "execution_count": 431,
     "metadata": {},
     "output_type": "execute_result"
    },
    {
     "data": {
      "image/png": "[encoded data removed]",
      "text/plain": [
       "<Figure size 720x576 with 1 Axes>"
      ]
     },
     "metadata": {},
     "output_type": "display_data"
    }
   ],
   "source": [
    "dt_t['a']=1\n",
    "ac= dt_t.groupby('age_cat').sum()\n",
    "ac\n",
    "ac.a.plot(kind='pie',figsize=(10,8),autopct='%.2f%%', startangle=0)\n",
    "\n",
    "plt.axis('equal')\n",
    "plt.legend(labels=ac.index,loc='best')"
   ]
  },
  {
   "cell_type": "code",
   "execution_count": null,
   "metadata": {},
   "outputs": [],
   "source": [
    "# age_cat 중에서 구매 비율이 가장 높은 그룹은 5그룹(60세 이상)이며, \n",
    "# 그 다음으로는 1그룹(30세 이하)이다.\n",
    "# 나머지 그룹 (30~60세)의  구매비율은 비슷하다. \n",
    "\n"
   ]
  },
  {
   "cell_type": "code",
   "execution_count": null,
   "metadata": {},
   "outputs": [],
   "source": []
  },
  {
   "cell_type": "code",
   "execution_count": null,
   "metadata": {},
   "outputs": [],
   "source": [
    "# lpd- ratio / hpd-ratio는 0.36의 상관관계를 갖는다. \n",
    "# age_cat 중에서 구매 비율이 가장 높은 그룹은 5그룹(60세 이상)이며, \n",
    "# 그 다음으로는 1그룹(30세 이하)이다.\n",
    "# 나머지 그룹 (30~60세)의  구매비율은 비슷하다. \n",
    "# high product의 변화율이 low product의 변화율보다 크다.\n",
    "# 2지역 사람들의 2019->2020 구매 상승률이 가장 높다.\n",
    "# 여자의 구매 비중은 2지역 사람들이 가장 높고, 남자는 지역별로 큰 차이가 없다. \n",
    "# 2지역(여자)의 신뢰구간이 가장 높다. "
   ]
  },
  {
   "cell_type": "code",
   "execution_count": null,
   "metadata": {},
   "outputs": [],
   "source": []
  },
  {
   "cell_type": "code",
   "execution_count": null,
   "metadata": {},
   "outputs": [],
   "source": []
  },
  {
   "cell_type": "code",
   "execution_count": null,
   "metadata": {},
   "outputs": [],
   "source": []
  }
 ],
 "metadata": {
  "kernelspec": {
   "display_name": "Python 3",
   "language": "python",
   "name": "python3"
  },
  "language_info": {
   "codemirror_mode": {
    "name": "ipython",
    "version": 3
   },
   "file_extension": ".py",
   "mimetype": "text/x-python",
   "name": "python",
   "nbconvert_exporter": "python",
   "pygments_lexer": "ipython3",
   "version": "3.8.10"
  }
 },
 "nbformat": 4,
 "nbformat_minor": 4
}

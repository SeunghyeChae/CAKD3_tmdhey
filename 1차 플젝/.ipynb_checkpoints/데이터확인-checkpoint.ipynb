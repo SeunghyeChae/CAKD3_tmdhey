{
 "cells": [
  {
   "cell_type": "code",
   "execution_count": 55,
   "id": "b0c48551",
   "metadata": {},
   "outputs": [],
   "source": [
    "import pandas as pd\n",
    "\n",
    "dfa = pd.read_csv('dataset/PURPRD/Copy of PURPRD_2014_A_DATA_TABLE.csv',encoding='cp949')\n",
    "dfb = pd.read_csv('dataset/PURPRD/Copy of PURPRD_2014_B_DATA_TABLE.csv',encoding='cp949')\n",
    "dfc = pd.read_csv('dataset/PURPRD/Copy of PURPRD_2014_C_DATA_TABLE.csv',encoding='cp949')\n",
    "dfd = pd.read_csv('dataset/PURPRD/Copy of PURPRD_2014_D_DATA_TABLE.csv',encoding='cp949')\n",
    "\n",
    "ddfa = pd.read_csv('dataset/PURPRD/Copy of PURPRD_2015_A_DATA_TABLE.csv',encoding='cp949')\n",
    "ddfb = pd.read_csv('dataset/PURPRD/Copy of PURPRD_2015_B_DATA_TABLE.csv',encoding='cp949')\n",
    "ddfc = pd.read_csv('dataset/PURPRD/Copy of PURPRD_2015_C_DATA_TABLE.csv',encoding='cp949')\n",
    "ddfd = pd.read_csv('dataset/PURPRD/Copy of PURPRD_2015_D_DATA_TABLE.csv',encoding='cp949')\n",
    "          "
   ]
  },
  {
   "cell_type": "code",
   "execution_count": 16,
   "id": "c0e87110",
   "metadata": {},
   "outputs": [
    {
     "data": {
      "text/html": [
       "<div>\n",
       "<style scoped>\n",
       "    .dataframe tbody tr th:only-of-type {\n",
       "        vertical-align: middle;\n",
       "    }\n",
       "\n",
       "    .dataframe tbody tr th {\n",
       "        vertical-align: top;\n",
       "    }\n",
       "\n",
       "    .dataframe thead th {\n",
       "        text-align: right;\n",
       "    }\n",
       "</style>\n",
       "<table border=\"1\" class=\"dataframe\">\n",
       "  <thead>\n",
       "    <tr style=\"text-align: right;\">\n",
       "      <th></th>\n",
       "      <th>제휴사</th>\n",
       "      <th>영수증번호</th>\n",
       "      <th>대분류코드</th>\n",
       "      <th>중분류코드</th>\n",
       "      <th>소분류코드</th>\n",
       "      <th>고객번호</th>\n",
       "      <th>점포코드</th>\n",
       "      <th>구매일자</th>\n",
       "      <th>구매시간</th>\n",
       "      <th>구매금액</th>\n",
       "    </tr>\n",
       "  </thead>\n",
       "  <tbody>\n",
       "    <tr>\n",
       "      <th>0</th>\n",
       "      <td>A</td>\n",
       "      <td>2757986</td>\n",
       "      <td>1</td>\n",
       "      <td>101</td>\n",
       "      <td>A010101</td>\n",
       "      <td>15148</td>\n",
       "      <td>10</td>\n",
       "      <td>20140920</td>\n",
       "      <td>20</td>\n",
       "      <td>1000</td>\n",
       "    </tr>\n",
       "    <tr>\n",
       "      <th>1</th>\n",
       "      <td>A</td>\n",
       "      <td>2757986</td>\n",
       "      <td>1</td>\n",
       "      <td>106</td>\n",
       "      <td>A010608</td>\n",
       "      <td>15148</td>\n",
       "      <td>10</td>\n",
       "      <td>20140920</td>\n",
       "      <td>20</td>\n",
       "      <td>4100</td>\n",
       "    </tr>\n",
       "    <tr>\n",
       "      <th>2</th>\n",
       "      <td>A</td>\n",
       "      <td>2757987</td>\n",
       "      <td>1</td>\n",
       "      <td>104</td>\n",
       "      <td>A010402</td>\n",
       "      <td>400</td>\n",
       "      <td>10</td>\n",
       "      <td>20140920</td>\n",
       "      <td>12</td>\n",
       "      <td>5000</td>\n",
       "    </tr>\n",
       "  </tbody>\n",
       "</table>\n",
       "</div>"
      ],
      "text/plain": [
       "  제휴사    영수증번호  대분류코드  중분류코드    소분류코드   고객번호  점포코드      구매일자  구매시간  구매금액\n",
       "0   A  2757986      1    101  A010101  15148    10  20140920    20  1000\n",
       "1   A  2757986      1    106  A010608  15148    10  20140920    20  4100\n",
       "2   A  2757987      1    104  A010402    400    10  20140920    12  5000"
      ]
     },
     "execution_count": 16,
     "metadata": {},
     "output_type": "execute_result"
    }
   ],
   "source": [
    "df.head(3)"
   ]
  },
  {
   "cell_type": "code",
   "execution_count": 94,
   "id": "5eaa91ee",
   "metadata": {},
   "outputs": [],
   "source": [
    "df1= pd.concat([dfa,dfb,dfc,dfd])\n",
    "df2= pd.concat([ddfa,ddfb,ddfc,ddfd])"
   ]
  },
  {
   "cell_type": "code",
   "execution_count": 95,
   "id": "c4ff39fb",
   "metadata": {},
   "outputs": [
    {
     "data": {
      "text/plain": [
       "고객번호\n",
       "7957     2103318466\n",
       "14599    1349845790\n",
       "15999    1278610550\n",
       "6207     1256164974\n",
       "8079     1152415212\n",
       "Name: 구매금액, dtype: int64"
      ]
     },
     "execution_count": 95,
     "metadata": {},
     "output_type": "execute_result"
    }
   ],
   "source": [
    "df1['구매금액'].groupby(df1['고객번호']).sum().sort_values(ascending=False)[:5]\n"
   ]
  },
  {
   "cell_type": "code",
   "execution_count": 93,
   "id": "fb488492",
   "metadata": {},
   "outputs": [
    {
     "data": {
      "text/plain": [
       "고객번호\n",
       "6868     5695350\n",
       "19364    5366730\n",
       "18268    4064930\n",
       "15444    3780050\n",
       "18986    3437240\n",
       "          ...   \n",
       "4485         800\n",
       "4979         800\n",
       "9842         800\n",
       "9921         720\n",
       "11146        500\n",
       "Name: 구매금액, Length: 1547, dtype: int64"
      ]
     },
     "execution_count": 93,
     "metadata": {},
     "output_type": "execute_result"
    }
   ],
   "source": [
    "dfd['구매금액'].groupby(dfd['고객번호']).sum().sort_values(ascending=False)"
   ]
  },
  {
   "cell_type": "code",
   "execution_count": 75,
   "id": "a23cffcc",
   "metadata": {},
   "outputs": [
    {
     "data": {
      "text/plain": [
       "고객번호\n",
       "14599    1349660610\n",
       "15999    1278372850\n",
       "8079     1150962960\n",
       "8994      773884410\n",
       "3833      537228960\n",
       "            ...    \n",
       "17719          1500\n",
       "15568          1500\n",
       "14562          1200\n",
       "16182          1000\n",
       "3561            950\n",
       "Name: 구매금액, Length: 17340, dtype: int64"
      ]
     },
     "execution_count": 75,
     "metadata": {},
     "output_type": "execute_result"
    }
   ],
   "source": [
    "dfa['구매금액'].groupby(dfa['고객번호']).sum().sort_values(ascending=False)"
   ]
  },
  {
   "cell_type": "code",
   "execution_count": 52,
   "id": "d0700456",
   "metadata": {
    "scrolled": true
   },
   "outputs": [
    {
     "name": "stdout",
     "output_type": "stream",
     "text": [
      "<class 'pandas.core.frame.DataFrame'>\n",
      "RangeIndex: 2863856 entries, 0 to 2863855\n",
      "Data columns (total 10 columns):\n",
      " #   Column  Dtype \n",
      "---  ------  ----- \n",
      " 0   제휴사     object\n",
      " 1   영수증번호   int64 \n",
      " 2   대분류코드   int64 \n",
      " 3   중분류코드   int64 \n",
      " 4   소분류코드   object\n",
      " 5   고객번호    int64 \n",
      " 6   점포코드    int64 \n",
      " 7   구매일자    int64 \n",
      " 8   구매시간    int64 \n",
      " 9   구매금액    int64 \n",
      "dtypes: int64(8), object(2)\n",
      "memory usage: 218.5+ MB\n",
      "None\n",
      "\n",
      "<class 'pandas.core.frame.DataFrame'>\n",
      "RangeIndex: 6359426 entries, 0 to 6359425\n",
      "Data columns (total 10 columns):\n",
      " #   Column  Dtype \n",
      "---  ------  ----- \n",
      " 0   제휴사     object\n",
      " 1   영수증번호   int64 \n",
      " 2   대분류코드   int64 \n",
      " 3   중분류코드   int64 \n",
      " 4   소분류코드   object\n",
      " 5   고객번호    int64 \n",
      " 6   점포코드    int64 \n",
      " 7   구매일자    int64 \n",
      " 8   구매시간    int64 \n",
      " 9   구매금액    int64 \n",
      "dtypes: int64(8), object(2)\n",
      "memory usage: 485.2+ MB\n",
      "None\n",
      "\n",
      "<class 'pandas.core.frame.DataFrame'>\n",
      "RangeIndex: 4612951 entries, 0 to 4612950\n",
      "Data columns (total 10 columns):\n",
      " #   Column  Dtype \n",
      "---  ------  ----- \n",
      " 0   제휴사     object\n",
      " 1   영수증번호   int64 \n",
      " 2   대분류코드   int64 \n",
      " 3   중분류코드   int64 \n",
      " 4   소분류코드   object\n",
      " 5   고객번호    int64 \n",
      " 6   점포코드    int64 \n",
      " 7   구매일자    int64 \n",
      " 8   구매시간    int64 \n",
      " 9   구매금액    int64 \n",
      "dtypes: int64(8), object(2)\n",
      "memory usage: 351.9+ MB\n",
      "None\n",
      "\n",
      "<class 'pandas.core.frame.DataFrame'>\n",
      "RangeIndex: 35281 entries, 0 to 35280\n",
      "Data columns (total 10 columns):\n",
      " #   Column  Non-Null Count  Dtype \n",
      "---  ------  --------------  ----- \n",
      " 0   제휴사     35281 non-null  object\n",
      " 1   영수증번호   35281 non-null  int64 \n",
      " 2   대분류코드   35281 non-null  int64 \n",
      " 3   중분류코드   35281 non-null  int64 \n",
      " 4   소분류코드   35281 non-null  object\n",
      " 5   고객번호    35281 non-null  int64 \n",
      " 6   점포코드    35281 non-null  int64 \n",
      " 7   구매일자    35281 non-null  int64 \n",
      " 8   구매시간    35281 non-null  int64 \n",
      " 9   구매금액    35281 non-null  int64 \n",
      "dtypes: int64(8), object(2)\n",
      "memory usage: 2.7+ MB\n",
      "None\n",
      "\n"
     ]
    }
   ],
   "source": [
    "print(dfa.info())\n",
    "print()\n",
    "print(dfb.info())\n",
    "print()\n",
    "print(dfc.info())\n",
    "print()\n",
    "print(dfd.info())\n",
    "print()"
   ]
  },
  {
   "cell_type": "code",
   "execution_count": 56,
   "id": "d37728f0",
   "metadata": {},
   "outputs": [
    {
     "name": "stdout",
     "output_type": "stream",
     "text": [
      "<class 'pandas.core.frame.DataFrame'>\n",
      "RangeIndex: 2906462 entries, 0 to 2906461\n",
      "Data columns (total 10 columns):\n",
      " #   Column  Dtype \n",
      "---  ------  ----- \n",
      " 0   제휴사     object\n",
      " 1   영수증번호   int64 \n",
      " 2   대분류코드   int64 \n",
      " 3   중분류코드   int64 \n",
      " 4   소분류코드   object\n",
      " 5   고객번호    int64 \n",
      " 6   점포코드    int64 \n",
      " 7   구매일자    int64 \n",
      " 8   구매시간    int64 \n",
      " 9   구매금액    int64 \n",
      "dtypes: int64(8), object(2)\n",
      "memory usage: 221.7+ MB\n",
      "None\n",
      "\n",
      "<class 'pandas.core.frame.DataFrame'>\n",
      "RangeIndex: 6978648 entries, 0 to 6978647\n",
      "Data columns (total 10 columns):\n",
      " #   Column  Dtype \n",
      "---  ------  ----- \n",
      " 0   제휴사     object\n",
      " 1   영수증번호   int64 \n",
      " 2   대분류코드   int64 \n",
      " 3   중분류코드   int64 \n",
      " 4   소분류코드   object\n",
      " 5   고객번호    int64 \n",
      " 6   점포코드    int64 \n",
      " 7   구매일자    int64 \n",
      " 8   구매시간    int64 \n",
      " 9   구매금액    int64 \n",
      "dtypes: int64(8), object(2)\n",
      "memory usage: 532.4+ MB\n",
      "None\n",
      "\n",
      "<class 'pandas.core.frame.DataFrame'>\n",
      "RangeIndex: 4766285 entries, 0 to 4766284\n",
      "Data columns (total 10 columns):\n",
      " #   Column  Dtype \n",
      "---  ------  ----- \n",
      " 0   제휴사     object\n",
      " 1   영수증번호   int64 \n",
      " 2   대분류코드   int64 \n",
      " 3   중분류코드   int64 \n",
      " 4   소분류코드   object\n",
      " 5   고객번호    int64 \n",
      " 6   점포코드    int64 \n",
      " 7   구매일자    int64 \n",
      " 8   구매시간    int64 \n",
      " 9   구매금액    int64 \n",
      "dtypes: int64(8), object(2)\n",
      "memory usage: 363.6+ MB\n",
      "None\n",
      "\n",
      "<class 'pandas.core.frame.DataFrame'>\n",
      "RangeIndex: 70121 entries, 0 to 70120\n",
      "Data columns (total 10 columns):\n",
      " #   Column  Non-Null Count  Dtype \n",
      "---  ------  --------------  ----- \n",
      " 0   제휴사     70121 non-null  object\n",
      " 1   영수증번호   70121 non-null  int64 \n",
      " 2   대분류코드   70121 non-null  int64 \n",
      " 3   중분류코드   70121 non-null  int64 \n",
      " 4   소분류코드   70121 non-null  object\n",
      " 5   고객번호    70121 non-null  int64 \n",
      " 6   점포코드    70121 non-null  int64 \n",
      " 7   구매일자    70121 non-null  int64 \n",
      " 8   구매시간    70121 non-null  int64 \n",
      " 9   구매금액    70121 non-null  int64 \n",
      "dtypes: int64(8), object(2)\n",
      "memory usage: 5.3+ MB\n",
      "None\n",
      "\n"
     ]
    }
   ],
   "source": [
    "print(ddfa.info())\n",
    "print()\n",
    "print(ddfb.info())\n",
    "print()\n",
    "print(ddfc.info())\n",
    "print()\n",
    "print(ddfd.info())\n",
    "print()"
   ]
  },
  {
   "cell_type": "code",
   "execution_count": 57,
   "id": "c6a7e0f0",
   "metadata": {},
   "outputs": [
    {
     "name": "stdout",
     "output_type": "stream",
     "text": [
      "dfa>>  249107710200\n",
      "dfb>>  56370935091\n",
      "dfc>>  23810993186\n",
      "dfd>>  312202104\n"
     ]
    }
   ],
   "source": [
    "print('dfa>> ',dfa.구매금액.sum())\n",
    "print('dfb>> ',dfb.구매금액.sum())\n",
    "print('dfc>> ',dfc.구매금액.sum())\n",
    "print('dfd>> ',dfd.구매금액.sum())\n"
   ]
  },
  {
   "cell_type": "code",
   "execution_count": 59,
   "id": "6b7a724d",
   "metadata": {},
   "outputs": [
    {
     "name": "stdout",
     "output_type": "stream",
     "text": [
      "ddfa>>  265733433830\n",
      "ddfb>>  54850751387\n",
      "ddfc>>  26249977703\n",
      "ddfd>>  583153440\n"
     ]
    }
   ],
   "source": [
    "print('ddfa>> ',ddfa.구매금액.sum())\n",
    "print('ddfb>> ',ddfb.구매금액.sum())\n",
    "print('ddfc>> ',ddfc.구매금액.sum())\n",
    "print('ddfd>> ',ddfd.구매금액.sum())\n"
   ]
  },
  {
   "cell_type": "code",
   "execution_count": 70,
   "id": "4e6d24e8",
   "metadata": {},
   "outputs": [
    {
     "data": {
      "text/plain": [
       "9"
      ]
     },
     "execution_count": 70,
     "metadata": {},
     "output_type": "execute_result"
    }
   ],
   "source": [
    "ddfa.대분류코드.value_counts(ascending=False).count()"
   ]
  },
  {
   "cell_type": "code",
   "execution_count": 49,
   "id": "b8fcdaaa",
   "metadata": {},
   "outputs": [],
   "source": [
    "# a= dfa.중분류코드.unique()\n",
    "# b= pd.DataFrame(a,columns=['a'])\n",
    "\n",
    "# b = b.sort_values(by='a',ascending=True)\n",
    "# b"
   ]
  },
  {
   "cell_type": "code",
   "execution_count": null,
   "id": "4a1f5f27",
   "metadata": {},
   "outputs": [],
   "source": []
  },
  {
   "cell_type": "code",
   "execution_count": null,
   "id": "19ffd21d",
   "metadata": {},
   "outputs": [],
   "source": []
  }
 ],
 "metadata": {
  "kernelspec": {
   "display_name": "Python 3",
   "language": "python",
   "name": "python3"
  },
  "language_info": {
   "codemirror_mode": {
    "name": "ipython",
    "version": 3
   },
   "file_extension": ".py",
   "mimetype": "text/x-python",
   "name": "python",
   "nbconvert_exporter": "python",
   "pygments_lexer": "ipython3",
   "version": "3.8.8"
  }
 },
 "nbformat": 4,
 "nbformat_minor": 5
}

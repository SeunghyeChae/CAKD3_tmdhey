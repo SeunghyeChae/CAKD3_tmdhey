{
 "cells": [
  {
   "cell_type": "code",
   "execution_count": null,
   "id": "37dc2cea",
   "metadata": {},
   "outputs": [],
   "source": [
    "from selenium.common.exceptions import NoSuchElementException"
   ]
  },
  {
   "cell_type": "code",
   "execution_count": null,
   "id": "b64c28bf",
   "metadata": {},
   "outputs": [],
   "source": [
    "또찾아야됨 = []\n",
    "아예없음 = []\n",
    "for 번호 in need_to_find:\n",
    "    try:\n",
    "        import selenium\n",
    "        from selenium import webdriver\n",
    "        from selenium.webdriver.common.keys import Keys\n",
    "        options = webdriver.ChromeOptions()\n",
    "        options.headless = True\n",
    "        options.add_argument('window-size-1920x1080')\n",
    "        url = 'https://www.naver.com/'\n",
    "        driver = webdriver.Chrome('C:/♥workspace/tool/chromedriver.exe',options=options)\n",
    "        # driver = webdriver.Chrome('D:/Tools/chromedriver.exe')\n",
    "        driver.get(url)\n",
    "        a = dfp.iloc[int(f'{번호}')]['소재지도로명주소']\n",
    "        search_box = driver.find_element_by_xpath('//*[@id=\"query\"]')\n",
    "        search_box.send_keys(a)\n",
    "        search_box.send_keys(Keys.RETURN)\n",
    "        get =driver.find_element_by_xpath('//*[@id=\"no-matched-address-list\"]').text\n",
    "        # uv_st\n",
    "        city[int(f'{번호}')] = get\n",
    "        print(get)\n",
    "    \n",
    "    except NoSuchElementException:\n",
    "        또찾아야됨.append(번호)\n",
    "        print(번호, dfp.iloc[int(f'{번호}')]['소재지도로명주소'],'\\n')\n",
    "        \n",
    "for 재번호 in 또찾아야됨:\n",
    "    try:\n",
    "        import selenium\n",
    "        from selenium import webdriver\n",
    "        from selenium.webdriver.common.keys import Keys\n",
    "        options = webdriver.ChromeOptions()\n",
    "        options.headless = True\n",
    "        options.add_argument('window-size-1920x1080')\n",
    "        url = 'https://www.naver.com/'\n",
    "        driver = webdriver.Chrome('C:/♥workspace/tool/chromedriver.exe',options=options)\n",
    "        # driver = webdriver.Chrome('D:/Tools/chromedriver.exe')\n",
    "        driver.get(url)\n",
    "        a = dfp.iloc[int(f'{재번호}')]['소재지도로명주소']\n",
    "        search_box = driver.find_element_by_xpath('//*[@id=\"query\"]')\n",
    "        search_box.send_keys(a)\n",
    "        search_box.send_keys(Keys.RETURN)\n",
    "        if driver.find_element_by_xpath('//*[@id=\"unique\"]').text != None:\n",
    "            get =driver.find_element_by_xpath('//*[@id=\"unique\"]').text\n",
    "            city[int(f'{재번호}')] = get\n",
    "            print(get)\n",
    "            \n",
    "    except NoSuchElementException:\n",
    "        아예없음.append(재번호)\n",
    "        print(재번호, dfp.iloc[int(f'{번호}')]['소재지도로명주소'])\n"
   ]
  },
  {
   "cell_type": "code",
   "execution_count": null,
   "id": "1795ef88",
   "metadata": {},
   "outputs": [],
   "source": [
    "city[711]"
   ]
  },
  {
   "cell_type": "code",
   "execution_count": null,
   "id": "24d43b51",
   "metadata": {},
   "outputs": [],
   "source": [
    "dfp['소재지지번주소'] = city"
   ]
  },
  {
   "cell_type": "code",
   "execution_count": null,
   "id": "919cbed4",
   "metadata": {},
   "outputs": [],
   "source": [
    "dfp[dfp['소재지지번주소'] == '없음']  "
   ]
  },
  {
   "cell_type": "code",
   "execution_count": null,
   "id": "4772206a",
   "metadata": {},
   "outputs": [],
   "source": [
    "dfp.head(1)"
   ]
  },
  {
   "cell_type": "code",
   "execution_count": null,
   "id": "9a707da6",
   "metadata": {},
   "outputs": [],
   "source": [
    "dfp2.head(2)"
   ]
  },
  {
   "cell_type": "code",
   "execution_count": null,
   "id": "b0fc5eb1",
   "metadata": {},
   "outputs": [],
   "source": [
    "dfp3 = pd.concat([dfp,dfp2],ignore_index=True)"
   ]
  },
  {
   "cell_type": "code",
   "execution_count": null,
   "id": "9899f4d7",
   "metadata": {},
   "outputs": [],
   "source": [
    "dfp3.info()"
   ]
  },
  {
   "cell_type": "code",
   "execution_count": null,
   "id": "2ea289e0",
   "metadata": {},
   "outputs": [],
   "source": [
    "dfp3.to_csv('dataset/어린이보호구역최종본.csv',index=0)"
   ]
  },
  {
   "cell_type": "code",
   "execution_count": null,
   "id": "8fcd59a6",
   "metadata": {},
   "outputs": [],
   "source": [
    "pd.read_csv('dataset/어린이보호구역최종본.csv')"
   ]
  },
  {
   "cell_type": "code",
   "execution_count": null,
   "id": "a8e03c09",
   "metadata": {},
   "outputs": [],
   "source": []
  },
  {
   "cell_type": "code",
   "execution_count": null,
   "id": "f0ba4a9e",
   "metadata": {},
   "outputs": [],
   "source": []
  },
  {
   "cell_type": "code",
   "execution_count": null,
   "id": "f4eea262",
   "metadata": {},
   "outputs": [],
   "source": []
  }
 ],
 "metadata": {
  "kernelspec": {
   "display_name": "Python 3",
   "language": "python",
   "name": "python3"
  },
  "language_info": {
   "codemirror_mode": {
    "name": "ipython",
    "version": 3
   },
   "file_extension": ".py",
   "mimetype": "text/x-python",
   "name": "python",
   "nbconvert_exporter": "python",
   "pygments_lexer": "ipython3",
   "version": "3.8.10"
  }
 },
 "nbformat": 4,
 "nbformat_minor": 5
}

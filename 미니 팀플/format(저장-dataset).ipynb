{
 "cells": [
  {
   "cell_type": "code",
   "execution_count": 1,
   "id": "a4b85296",
   "metadata": {},
   "outputs": [],
   "source": [
    "검색할시도명 = '강원도'\n",
    "검색할시군구명 = '인제군'\n",
    "# 검색할시도명 = '전라북도'\n",
    "# 검색할시군구명 = '고창군'\n",
    "\n",
    "# 이거 띄어쓰기 잘해야함 '전라남도 신안군',\"\",x\n",
    "# import re\n",
    "# def umd(x):\n",
    "#     umd = re.sub('강원도 인제군',\"\",x)\n",
    "#     umd = umd.lstrip()\n",
    "#     comp = re.compile('[가-힣]+')\n",
    "#     umd = comp.match(umd)\n",
    "#     umd = umd.group()\n",
    "#     return umd\n",
    "\n",
    "def dong(x):\n",
    "    import re\n",
    "\n",
    "    p = re.compile('[가-힣]\\S*[읍면동가]')\n",
    "\n",
    "    r = p.findall(x)\n",
    "    \n",
    "    return ''.join(r)\n",
    "\n",
    "\n",
    "\n",
    "# u1 = ['주문진읍','성산면','왕산면','구정면','강동면','옥계면','사천면','연곡면',\n",
    "# '홍제동','중앙동','옥천동','교동','포남동','초당동','송정동','내곡동','강남동','성덕동','경포동',\n",
    "#      '강문동','견소동','금학동','난곡동','남문동','남항진동','노암동','담산동','대전동','두산동',\n",
    "#       '박월동','병산동','성남동','신석동','안현동','용강동','운정동','유산동','유천동','임당동','입암동',\n",
    "#       '저동','죽헌동','지변동','청량동','학동']\n",
    "\n",
    "u1 = ['인제읍','남면','북면','기린면','서화면','상남면']\n",
    "# u1 = ['신북읍','동산면','동내면','남산면','사북면','소양동','조운동','근화동','후평동','효자동','퇴계동',\n",
    "#       '신사우동','동면','신동면','남면','서면','북산면','교동','약사명동','후평동','석사동','강남동',\n",
    "#      '낙원동','사농동','삼천동','소양로1가','송암동','신동','약사동','옥천동','온의동','우두동','조양동','중도동','중앙로1가','중앙로3가','칠전동']\n",
    "# u1 =['고창읍','고수면','아산면','무장면','공음면','상하면','해리면','성송면','대산면','심원면','흥덕면','성내면','신림면','부안면']"
   ]
  },
  {
   "cell_type": "code",
   "execution_count": 2,
   "id": "d2c4c436",
   "metadata": {},
   "outputs": [
    {
     "ename": "NameError",
     "evalue": "name 'umd' is not defined",
     "output_type": "error",
     "traceback": [
      "\u001b[1;31m---------------------------------------------------------------------------\u001b[0m",
      "\u001b[1;31mNameError\u001b[0m                                 Traceback (most recent call last)",
      "\u001b[1;32m<ipython-input-2-67832112cf58>\u001b[0m in \u001b[0;36m<module>\u001b[1;34m\u001b[0m\n\u001b[0;32m     22\u001b[0m \u001b[1;33m\u001b[0m\u001b[0m\n\u001b[0;32m     23\u001b[0m \u001b[1;33m\u001b[0m\u001b[0m\n\u001b[1;32m---> 24\u001b[1;33m \u001b[0mdetail_1\u001b[0m\u001b[1;33m[\u001b[0m\u001b[1;34m'읍/면/동'\u001b[0m\u001b[1;33m]\u001b[0m \u001b[1;33m=\u001b[0m \u001b[0mdetail_1\u001b[0m\u001b[1;33m[\u001b[0m\u001b[1;34m'소재지지번주소'\u001b[0m\u001b[1;33m]\u001b[0m\u001b[1;33m.\u001b[0m\u001b[0mapply\u001b[0m\u001b[1;33m(\u001b[0m\u001b[1;32mlambda\u001b[0m \u001b[0mx\u001b[0m \u001b[1;33m:\u001b[0m \u001b[0mumd\u001b[0m\u001b[1;33m(\u001b[0m\u001b[0mx\u001b[0m\u001b[1;33m)\u001b[0m\u001b[1;33m)\u001b[0m\u001b[1;33m\u001b[0m\u001b[1;33m\u001b[0m\u001b[0m\n\u001b[0m\u001b[0;32m     25\u001b[0m \u001b[1;33m\u001b[0m\u001b[0m\n\u001b[0;32m     26\u001b[0m \u001b[0mdetail_1\u001b[0m\u001b[1;33m[\u001b[0m\u001b[1;34m'설치유무'\u001b[0m\u001b[1;33m]\u001b[0m \u001b[1;33m=\u001b[0m \u001b[1;36m1\u001b[0m\u001b[1;33m\u001b[0m\u001b[1;33m\u001b[0m\u001b[0m\n",
      "\u001b[1;32m~\\anaconda3\\envs\\cakd3\\lib\\site-packages\\pandas\\core\\series.py\u001b[0m in \u001b[0;36mapply\u001b[1;34m(self, func, convert_dtype, args, **kwds)\u001b[0m\n\u001b[0;32m   4136\u001b[0m             \u001b[1;32melse\u001b[0m\u001b[1;33m:\u001b[0m\u001b[1;33m\u001b[0m\u001b[1;33m\u001b[0m\u001b[0m\n\u001b[0;32m   4137\u001b[0m                 \u001b[0mvalues\u001b[0m \u001b[1;33m=\u001b[0m \u001b[0mself\u001b[0m\u001b[1;33m.\u001b[0m\u001b[0mastype\u001b[0m\u001b[1;33m(\u001b[0m\u001b[0mobject\u001b[0m\u001b[1;33m)\u001b[0m\u001b[1;33m.\u001b[0m\u001b[0m_values\u001b[0m\u001b[1;33m\u001b[0m\u001b[1;33m\u001b[0m\u001b[0m\n\u001b[1;32m-> 4138\u001b[1;33m                 \u001b[0mmapped\u001b[0m \u001b[1;33m=\u001b[0m \u001b[0mlib\u001b[0m\u001b[1;33m.\u001b[0m\u001b[0mmap_infer\u001b[0m\u001b[1;33m(\u001b[0m\u001b[0mvalues\u001b[0m\u001b[1;33m,\u001b[0m \u001b[0mf\u001b[0m\u001b[1;33m,\u001b[0m \u001b[0mconvert\u001b[0m\u001b[1;33m=\u001b[0m\u001b[0mconvert_dtype\u001b[0m\u001b[1;33m)\u001b[0m\u001b[1;33m\u001b[0m\u001b[1;33m\u001b[0m\u001b[0m\n\u001b[0m\u001b[0;32m   4139\u001b[0m \u001b[1;33m\u001b[0m\u001b[0m\n\u001b[0;32m   4140\u001b[0m         \u001b[1;32mif\u001b[0m \u001b[0mlen\u001b[0m\u001b[1;33m(\u001b[0m\u001b[0mmapped\u001b[0m\u001b[1;33m)\u001b[0m \u001b[1;32mand\u001b[0m \u001b[0misinstance\u001b[0m\u001b[1;33m(\u001b[0m\u001b[0mmapped\u001b[0m\u001b[1;33m[\u001b[0m\u001b[1;36m0\u001b[0m\u001b[1;33m]\u001b[0m\u001b[1;33m,\u001b[0m \u001b[0mSeries\u001b[0m\u001b[1;33m)\u001b[0m\u001b[1;33m:\u001b[0m\u001b[1;33m\u001b[0m\u001b[1;33m\u001b[0m\u001b[0m\n",
      "\u001b[1;32mpandas\\_libs\\lib.pyx\u001b[0m in \u001b[0;36mpandas._libs.lib.map_infer\u001b[1;34m()\u001b[0m\n",
      "\u001b[1;32m<ipython-input-2-67832112cf58>\u001b[0m in \u001b[0;36m<lambda>\u001b[1;34m(x)\u001b[0m\n\u001b[0;32m     22\u001b[0m \u001b[1;33m\u001b[0m\u001b[0m\n\u001b[0;32m     23\u001b[0m \u001b[1;33m\u001b[0m\u001b[0m\n\u001b[1;32m---> 24\u001b[1;33m \u001b[0mdetail_1\u001b[0m\u001b[1;33m[\u001b[0m\u001b[1;34m'읍/면/동'\u001b[0m\u001b[1;33m]\u001b[0m \u001b[1;33m=\u001b[0m \u001b[0mdetail_1\u001b[0m\u001b[1;33m[\u001b[0m\u001b[1;34m'소재지지번주소'\u001b[0m\u001b[1;33m]\u001b[0m\u001b[1;33m.\u001b[0m\u001b[0mapply\u001b[0m\u001b[1;33m(\u001b[0m\u001b[1;32mlambda\u001b[0m \u001b[0mx\u001b[0m \u001b[1;33m:\u001b[0m \u001b[0mumd\u001b[0m\u001b[1;33m(\u001b[0m\u001b[0mx\u001b[0m\u001b[1;33m)\u001b[0m\u001b[1;33m)\u001b[0m\u001b[1;33m\u001b[0m\u001b[1;33m\u001b[0m\u001b[0m\n\u001b[0m\u001b[0;32m     25\u001b[0m \u001b[1;33m\u001b[0m\u001b[0m\n\u001b[0;32m     26\u001b[0m \u001b[0mdetail_1\u001b[0m\u001b[1;33m[\u001b[0m\u001b[1;34m'설치유무'\u001b[0m\u001b[1;33m]\u001b[0m \u001b[1;33m=\u001b[0m \u001b[1;36m1\u001b[0m\u001b[1;33m\u001b[0m\u001b[1;33m\u001b[0m\u001b[0m\n",
      "\u001b[1;31mNameError\u001b[0m: name 'umd' is not defined"
     ]
    }
   ],
   "source": [
    "import pandas as pd\n",
    "import numpy as np\n",
    "\n",
    "import warnings\n",
    "warnings.filterwarnings('ignore')\n",
    "\n",
    "\n",
    "data = pd.read_csv('dataset/전국스마트가로등표준데이터.csv',encoding='cp949')\n",
    "\n",
    "data.isnull().sum()\n",
    "\n",
    "data.columns\n",
    "\n",
    "data['시도명'].unique()\n",
    "\n",
    "data['시도명'] = data['시도명'].replace('14','전라남도')\n",
    "\n",
    "data[data['시도명']==검색할시도명]['시군구명'].unique()\n",
    "\n",
    "data1 = data[data['시도명']==검색할시도명]\n",
    "detail_1 = data1[data1['시군구명']==검색할시군구명]\n",
    "\n",
    "\n",
    "detail_1['읍/면/동'] = detail_1['소재지지번주소'].apply(lambda x : umd(x))\n",
    "\n",
    "detail_1['설치유무'] = 1\n",
    "\n",
    "get_col = ['시도명','시군구명','소재지지번주소','읍/면/동','설치유무']\n",
    "detail_1 = detail_1[get_col]\n",
    "\n",
    "\n",
    "u2 = detail_1['읍/면/동'].unique().tolist()\n",
    "us = pd.Series(u1)\n",
    "\n",
    "detail = pd.DataFrame(us)\n",
    "detail['설치유무'] = np.nan\n",
    "detail['시도명'] = data[data['시도명']==검색할시도명]['시도명'].unique()[0]\n",
    "detail['시군구명'] = data[data['시군구명']==검색할시군구명]['시군구명'].unique()[0]\n",
    "\n",
    "def 설치유무(x):\n",
    "    y = ''\n",
    "    for i in u2 :\n",
    "        if x == i :\n",
    "            y = 1\n",
    "    return y\n",
    "\n",
    "\n",
    "detail['설치유무'].update(detail[0].apply(설치유무))\n",
    "detail['설치유무'] = detail['설치유무'].replace(\"\",0)\n",
    "detail = detail.rename(columns={0:'읍/면/동'})\n",
    "\n",
    "detail = detail[['시도명','시군구명','읍/면/동','설치유무']]\n",
    "\n",
    "detail"
   ]
  },
  {
   "cell_type": "code",
   "execution_count": null,
   "id": "5429b910",
   "metadata": {},
   "outputs": [],
   "source": [
    "# detail_1[detail_1['읍/면/동']=='신북읍'].value_counts()"
   ]
  },
  {
   "cell_type": "code",
   "execution_count": null,
   "id": "99ef78e2",
   "metadata": {
    "scrolled": true
   },
   "outputs": [],
   "source": [
    "fire = pd.read_csv('dataset/화재발생정보.csv', encoding='cp949',index_col='연번')\n",
    "fire = fire[(fire['시도']==검색할시도명) & (fire['시군구'] == 검색할시군구명)]\n",
    "fire['읍면동'].value_counts()\n",
    "group = fire.groupby('읍면동').count()\n",
    "group = group.reset_index(drop = False)\n",
    "group['화재발생횟수'] = group['사망']\n",
    "fire = group[['읍면동','화재발생횟수']]\n",
    "fire = fire.rename(columns={'읍면동':'읍/면/동'})\n",
    "fire['화재발생비율'] = fire['화재발생횟수']/fire['화재발생횟수'].sum()\n",
    "fire['화재발생비율'] = fire['화재발생비율'].round(2)\n",
    "df = pd.merge(detail,fire,on='읍/면/동',how='outer')\n",
    "df"
   ]
  },
  {
   "cell_type": "code",
   "execution_count": null,
   "id": "6b1d9dfd",
   "metadata": {
    "scrolled": true
   },
   "outputs": [],
   "source": [
    "\n",
    "df.to_csv(f'{검색할시군구명}.csv',index=0)\n",
    "df = pd.read_csv(f'{검색할시군구명}.csv')\n",
    "df"
   ]
  },
  {
   "cell_type": "code",
   "execution_count": null,
   "id": "2f9fbc60",
   "metadata": {},
   "outputs": [],
   "source": [
    "\n",
    "\n",
    "# nan값 확인\n",
    "\n",
    "# import pandas as pd\n",
    "# import numpy as np\n",
    "\n",
    "# import warnings\n",
    "# warnings.filterwarnings('ignore')\n",
    "\n",
    "\n",
    "# data = pd.read_csv('dataset/전국스마트가로등표준데이터.csv',encoding='cp949')\n",
    "\n",
    "# a= data.loc[data.loc[:,'소재지지번주소'].str.contains('인제',na=False)]\n",
    "# a.isnull().sum()\n",
    "\n",
    "\n",
    "# # seoul_df2 = df2.loc[df2.loc[:,'제공기관명'].str.contains('서울',na=False)]\n",
    "# # seoul_df2"
   ]
  },
  {
   "cell_type": "code",
   "execution_count": null,
   "id": "d453cccb",
   "metadata": {},
   "outputs": [],
   "source": [
    "data1 = pd.read_csv('춘천시.csv')"
   ]
  },
  {
   "cell_type": "code",
   "execution_count": null,
   "id": "af55f904",
   "metadata": {},
   "outputs": [],
   "source": [
    "data2 = pd.read_csv('강릉시.csv')"
   ]
  },
  {
   "cell_type": "code",
   "execution_count": null,
   "id": "60088879",
   "metadata": {},
   "outputs": [],
   "source": [
    "data3 = pd.read_csv('인제군.csv')"
   ]
  },
  {
   "cell_type": "code",
   "execution_count": null,
   "id": "618b0df8",
   "metadata": {},
   "outputs": [],
   "source": [
    "ddd=pd.concat([data1,data2,data3],ignore_index=True)\n",
    "ddd"
   ]
  },
  {
   "cell_type": "code",
   "execution_count": null,
   "id": "fc51b1e5",
   "metadata": {},
   "outputs": [],
   "source": [
    "ddd.to_csv('강원도.csv')\n",
    "pd.read_csv('강원도.csv')\n"
   ]
  },
  {
   "cell_type": "code",
   "execution_count": null,
   "id": "577a9b60",
   "metadata": {},
   "outputs": [],
   "source": []
  },
  {
   "cell_type": "code",
   "execution_count": null,
   "id": "00d91a53",
   "metadata": {},
   "outputs": [],
   "source": []
  }
 ],
 "metadata": {
  "kernelspec": {
   "display_name": "Python 3",
   "language": "python",
   "name": "python3"
  },
  "language_info": {
   "codemirror_mode": {
    "name": "ipython",
    "version": 3
   },
   "file_extension": ".py",
   "mimetype": "text/x-python",
   "name": "python",
   "nbconvert_exporter": "python",
   "pygments_lexer": "ipython3",
   "version": "3.8.10"
  }
 },
 "nbformat": 4,
 "nbformat_minor": 5
}

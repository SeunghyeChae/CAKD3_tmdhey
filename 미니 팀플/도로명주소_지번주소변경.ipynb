{
 "cells": [
  {
   "cell_type": "code",
   "execution_count": null,
   "id": "f35862a0",
   "metadata": {},
   "outputs": [],
   "source": [
    "import requests\n",
    "import json\n",
    "import numpy as np\n",
    "\n",
    "\n",
    "addrs = list(child['소재지도로명주소'])\n",
    "locations = []\n",
    "\n",
    "\n",
    "for addr in addrs:\n",
    "    url = 'https://dapi.kakao.com/v2/local/search/address.json?query={}'.format(addr)\n",
    "    headers = {\n",
    "        \"Authorization\" : \"KakaoAK ec276bf4e2dcd1c5055b2da48ef1b6f7\"}\n",
    "    place = requests.get(url, headers = headers).json()['documents']\n",
    "    locations.append(place)\n",
    "    \n",
    "city = []\n",
    "town = []\n",
    "\n",
    "for i in range(len(locations)):\n",
    "    \n",
    "    try:\n",
    "        city.append(locations[i][0].get('address').get('region_2depth_name'))\n",
    "        town.append(locations[i][0].get('address').get('region_3depth_name'))\n",
    "        \n",
    "    except IndexError:\n",
    "        print(i,'번째 주소 못가져옴',end ='')\n",
    "        print()\n",
    "        city.append('없음')\n",
    "        town.append('없음')\n",
    "        \n",
    "    except AttributeError:\n",
    "        city.append(locations[i][0].get('address').get('region_2depth_name'))\n",
    "        town.append(locatuons[i][0].get('address').get('region_3depth_name'))\n",
    "\n",
    "\n",
    "city_town = np.array([city,town]).T\n",
    "df_temp = pd.DataFrame(city_town, columns = ['2', '3'])\n",
    "# asan['소재지지번주소'] = df_temp[['3']]\n",
    "child['소재지지번주소'] = df_temp[['3']]"
   ]
  }
 ],
 "metadata": {
  "kernelspec": {
   "display_name": "Python 3",
   "language": "python",
   "name": "python3"
  },
  "language_info": {
   "codemirror_mode": {
    "name": "ipython",
    "version": 3
   },
   "file_extension": ".py",
   "mimetype": "text/x-python",
   "name": "python",
   "nbconvert_exporter": "python",
   "pygments_lexer": "ipython3",
   "version": "3.8.10"
  }
 },
 "nbformat": 4,
 "nbformat_minor": 5
}

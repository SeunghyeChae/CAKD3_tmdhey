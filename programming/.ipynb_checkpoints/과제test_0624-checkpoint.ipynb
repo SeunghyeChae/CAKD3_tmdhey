{
 "cells": [
  {
   "cell_type": "code",
   "execution_count": 154,
   "id": "ba750f92",
   "metadata": {},
   "outputs": [
    {
     "name": "stdout",
     "output_type": "stream",
     "text": [
      "[0, 1, 3, 4, 5, 6]\n"
     ]
    }
   ],
   "source": [
    "#Q. 내장함수를 이용해서 list=[0,1,2,3,4,5,6]에서 2를 삭제 후 출력하세요.\n",
    "\n",
    "list_1=[0,1,2,3,4,5,6]\n",
    "list_1.remove(2)\n",
    "print(list_1)"
   ]
  },
  {
   "cell_type": "code",
   "execution_count": 155,
   "id": "d0f9fbb3",
   "metadata": {},
   "outputs": [
    {
     "name": "stdout",
     "output_type": "stream",
     "text": [
      "[]\n"
     ]
    }
   ],
   "source": [
    "# Q. 내장함수를 이용해서 list = [0, 1, 2, 3, 4, 5, 6]에서 모든 원소를 삭제 후 \n",
    "# 출력하세요.\n",
    "\n",
    "list_2=[0,1,2,3,4,5,6]\n",
    "list_2.clear()\n",
    "print(list_2)"
   ]
  },
  {
   "cell_type": "code",
   "execution_count": 167,
   "id": "785b7b2c",
   "metadata": {},
   "outputs": [
    {
     "name": "stdout",
     "output_type": "stream",
     "text": [
      "True False\n"
     ]
    }
   ],
   "source": [
    "# Q. list = [0, 1, 2, 3, 4, 5, 6]에 3, 7이 포함되어 있는 지 확인하세요.\n",
    "\n",
    "list_3 = [0, 1, 2, 3, 4, 5, 6]\n",
    "print(3 in list_3 , 7 in list_3)"
   ]
  },
  {
   "cell_type": "code",
   "execution_count": 49,
   "id": "bb4619d7",
   "metadata": {},
   "outputs": [
    {
     "name": "stdout",
     "output_type": "stream",
     "text": [
      "2는 numbers에 2번 등장합니다.\n",
      "3는 numbers에 4번 등장합니다.\n",
      "4는 numbers에 2번 등장합니다.\n",
      "5는 numbers에 2번 등장합니다.\n",
      "6는 numbers에 2번 등장합니다.\n",
      "7는 numbers에 2번 등장합니다.\n",
      "8는 numbers에 2번 등장합니다.\n",
      "9는 numbers에 2번 등장합니다.\n"
     ]
    }
   ],
   "source": [
    "# Q. numbers 내부에 들어 있는 숫자가 몇 번 등장하는지를 출력하는 코드를 작성하세요.\n",
    "\n",
    "numbers = [3,6,3,5,8,2,9,7,4,3,6,3,5,8,2,9,7,4]\n",
    "\n",
    "X= sorted(set(numbers))\n",
    "\n",
    "for a in X:\n",
    "    print(\"{}는 numbers에 {}번 등장합니다.\".format(a,numbers.count(a)))"
   ]
  },
  {
   "cell_type": "code",
   "execution_count": 166,
   "id": "b73f3a60",
   "metadata": {},
   "outputs": [
    {
     "name": "stdout",
     "output_type": "stream",
     "text": [
      "[6, 5, 4, 3, 2, 1, 0]\n"
     ]
    }
   ],
   "source": [
    "# Q. list를 [6, 5, 4, 3, 2, 1, 0]으로 출력하세요(2가지 방법)\n",
    "\n",
    "A = [0, 1, 2, 3, 4, 5, 6]\n",
    "print (sorted(A,reverse=True))\n",
    "\n"
   ]
  },
  {
   "cell_type": "code",
   "execution_count": 117,
   "id": "7c9efcb0",
   "metadata": {},
   "outputs": [
    {
     "name": "stdout",
     "output_type": "stream",
     "text": [
      "[6, 5, 4, 3, 2, 1, 0]\n"
     ]
    }
   ],
   "source": [
    "A = [0, 1, 2, 3, 4, 5, 6]\n",
    "A.reverse()\n",
    "print(A)\n"
   ]
  },
  {
   "cell_type": "code",
   "execution_count": 165,
   "id": "3d12abb4",
   "metadata": {},
   "outputs": [
    {
     "name": "stdout",
     "output_type": "stream",
     "text": [
      "1번째는 a입니다.\n",
      "2번째는 b입니다.\n",
      "3번째는 c입니다.\n"
     ]
    }
   ],
   "source": [
    "# Q. list = ['a','b','c']을 for문을 사용해서 아래와 같이 출력하세요.\n",
    "# 1번째는 a입니다.\n",
    "# 2번째는 b입니다.\n",
    "# 3번째는 c입니다.\n",
    "\n",
    "list_4 = ['a','b','c']\n",
    "for i in list_4:\n",
    "    print('{}번째는 {}입니다.'.format(list_4.index(i)+1,i))\n"
   ]
  },
  {
   "cell_type": "code",
   "execution_count": 164,
   "id": "2ce10a7e",
   "metadata": {},
   "outputs": [
    {
     "name": "stdout",
     "output_type": "stream",
     "text": [
      "[0, 4, 16, 36, 64, 100, 144, 196, 256, 324]\n"
     ]
    }
   ],
   "source": [
    "# Q. 코딩을 한줄로 작성해서 동일한 결과를 출력하세요\n",
    "#LIST 안에서 만들면 됨 \n",
    "list_5 = []\n",
    "for i in range(0,20,2):\n",
    "    list_5.append(i*i)\n",
    "print(list_5)"
   ]
  },
  {
   "cell_type": "code",
   "execution_count": 90,
   "id": "50187ab6",
   "metadata": {},
   "outputs": [
    {
     "name": "stdout",
     "output_type": "stream",
     "text": [
      "[0, 4, 16, 36, 64, 100, 144, 196, 256, 324]\n"
     ]
    }
   ],
   "source": [
    "print( [i*i for i in range(0,20,2)])"
   ]
  },
  {
   "cell_type": "code",
   "execution_count": 170,
   "id": "80f6a493",
   "metadata": {
    "scrolled": true
   },
   "outputs": [
    {
     "name": "stdout",
     "output_type": "stream",
     "text": [
      "[0, 2, 4, 6, 8]\n",
      "[1, 3, 5, 7, 9]\n",
      "[2, 1, 0]\n"
     ]
    }
   ],
   "source": [
    "# Q. list = [0, 1, 2, 3, 4, 5, 6, 7, 8, 9]에서 아래와 같이 출력하세요\n",
    "# [0, 2, 4, 6, 8]\n",
    "# [1, 3, 5, 7, 9]\n",
    "# [2, 1, 0]\n",
    "\n",
    "list_6 = [0, 1, 2, 3, 4, 5, 6, 7, 8, 9]\n",
    "\n",
    "print(list_6[0:10:2])\n",
    "print(list_6[1:10:2])\n",
    "\n",
    "A= list_6[0:3]\n",
    "A.reverse()\n",
    "print(A)\n",
    "\n",
    "##[0::2]"
   ]
  },
  {
   "cell_type": "code",
   "execution_count": 171,
   "id": "ab2e8f76",
   "metadata": {},
   "outputs": [
    {
     "name": "stdout",
     "output_type": "stream",
     "text": [
      "a::b::c\n"
     ]
    }
   ],
   "source": [
    "# Q. join 함수를 이용해서 ['a','b','c']을 아래와 같이 출력하세요.\n",
    "\n",
    "# a::b::c\n",
    "X= ['a','b','c']\n",
    "A=\"::\".join(X)\n",
    "print(A)"
   ]
  },
  {
   "cell_type": "code",
   "execution_count": 3,
   "id": "2fbde843",
   "metadata": {},
   "outputs": [
    {
     "data": {
      "text/plain": [
       "1920"
      ]
     },
     "execution_count": 3,
     "metadata": {},
     "output_type": "execute_result"
    }
   ],
   "source": [
    "# Q. 사용자 함수를 이용해서 여러개의 숫자를 입력하면 그 숫자들의 곱을 구하세요.\n",
    "\n",
    "def num_s(*args):\n",
    "    mul=1\n",
    "    for a in args:\n",
    "        mul*=a\n",
    "    return mul\n",
    "\n",
    "num_s(2,4,5,6,8)"
   ]
  },
  {
   "cell_type": "code",
   "execution_count": 22,
   "id": "c6612163",
   "metadata": {},
   "outputs": [
    {
     "name": "stdout",
     "output_type": "stream",
     "text": [
      "(8, 2, 15, 1)\n"
     ]
    }
   ],
   "source": [
    "# Q.두개의 숫자를 인자로 적용하면 4칙 연산을 수행하는 사용자 함수를 작성한 후 \n",
    "# 5,3을 대입한 결과를 튜플로 출력하세요. 단, 소수점은 없게 처리\n",
    "\n",
    "def oper (a,b):\n",
    "    x=( a+b, a-b ,a*b ,a//b )\n",
    "    print(x)\n",
    "    \n",
    "oper(5,3)"
   ]
  },
  {
   "cell_type": "code",
   "execution_count": 29,
   "id": "b9d0ee6b",
   "metadata": {},
   "outputs": [
    {
     "name": "stdout",
     "output_type": "stream",
     "text": [
      "-16\n"
     ]
    },
    {
     "data": {
      "text/plain": [
       "0.02"
      ]
     },
     "execution_count": 29,
     "metadata": {},
     "output_type": "execute_result"
    }
   ],
   "source": [
    "# Q. 뺄셈, 나눗셈 멀티 계산 함수를 작성\n",
    "    \n",
    "def sub_div(choice, *args): \n",
    "    if choice =='sub':\n",
    "        result=0\n",
    "        for i in args:\n",
    "            result -=i\n",
    "            \n",
    "    elif choice =='div':\n",
    "        result=1\n",
    "        for i in args:\n",
    "            result/=i\n",
    "            \n",
    "    return result\n",
    "\n",
    "print(sub_div('sub',10,5,1))\n",
    "sub_div('div',10,5,1)\n"
   ]
  },
  {
   "cell_type": "code",
   "execution_count": 35,
   "id": "46c5646e",
   "metadata": {},
   "outputs": [
    {
     "name": "stdout",
     "output_type": "stream",
     "text": [
      "2\n",
      "3\n"
     ]
    }
   ],
   "source": [
    "# Q. 아래를 완성하여 2를 출력하세요.\n",
    "\n",
    "a = 3\n",
    "def vartest(a):\n",
    "    a -= 1\n",
    "    return a\n",
    "\n",
    "print(vartest(a))\n"
   ]
  },
  {
   "cell_type": "code",
   "execution_count": 56,
   "id": "ec145931",
   "metadata": {},
   "outputs": [
    {
     "name": "stdout",
     "output_type": "stream",
     "text": [
      "데이터를 입력해주세요>호랑이\n",
      "호랑이\n",
      "데이터를 입력해주세요>토끼\n",
      "토끼\n",
      "데이터를 입력해주세요>메롱\n",
      "메롱\n",
      "데이터를 입력해주세요>\n",
      "데이터를 입력하지 않아 프로그램이 종료됩니다\n"
     ]
    }
   ],
   "source": [
    "# Q. 데이터를 입력하지 않으면 종료되는 코딩을 수행하세요. \n",
    "# 단 반복적으로 작업을 수행할 수 있음.\n",
    "\n",
    "while 1:\n",
    "    A= input('데이터를 입력해주세요>')\n",
    "\n",
    "    if A != \"\":\n",
    "        print(A)\n",
    "        continue\n",
    "    \n",
    "    else:\n",
    "        print('데이터를 입력하지 않아 프로그램이 종료됩니다')\n",
    "        break"
   ]
  },
  {
   "cell_type": "code",
   "execution_count": 82,
   "id": "d5d95120",
   "metadata": {},
   "outputs": [
    {
     "name": "stdout",
     "output_type": "stream",
     "text": [
      "factorial을 구할 수를 입력해주세요>5\n",
      "5의 factorial은 120입니다.\n",
      "factorial을 구할 수를 입력해주세요>10\n",
      "10의 factorial은 120입니다.\n"
     ]
    }
   ],
   "source": [
    "# Q. 반복문으로 팩토리얼을 구하는 사용자 함수를 작성하고 5!, 10!를 구하세요.\n",
    "\n",
    "def factorial(n):\n",
    "    result=1\n",
    "    for a in range(1,n+1):\n",
    "        result*=a\n",
    "n= int(input('factorial을 구할 수를 입력해주세요>'))\n",
    "print('{}의 factorial은 {}입니다.'.format(n,result))\n",
    "\n",
    "n= int(input('factorial을 구할 수를 입력해주세요>'))\n",
    "print('{}의 factorial은 {}입니다.'.format(n,result))\n"
   ]
  },
  {
   "cell_type": "code",
   "execution_count": 74,
   "id": "19f34471",
   "metadata": {},
   "outputs": [
    {
     "name": "stdout",
     "output_type": "stream",
     "text": [
      "factorial을 구할 수를 입력해주세요>1\n",
      "factorial을 구할 수를 입력해주세요>5\n",
      "factorial을 구할 수를 입력해주세요>10\n",
      "F1의 factorial> 1\n",
      "F2의 factorial> 120\n",
      "F3의 factorial> 3628800\n"
     ]
    }
   ],
   "source": [
    "# Q. 재귀란 '자기자신을 호출하는 것'을 의미한다. 재귀함수를 이용해서 팩토리얼을 구하는 사용자 함수를 \n",
    "# 작성하고 1!, 5!, 10!를 구하세요.\n",
    "# factorial(n) = n * factorial(n-1) (n >= 1)\n",
    "\n",
    "F1= int(input('factorial을 구할 수를 입력해주세요>'))\n",
    "F2= int(input('factorial을 구할 수를 입력해주세요>'))\n",
    "F3= int(input('factorial을 구할 수를 입력해주세요>'))\n",
    "\n",
    "def factorial (n):\n",
    "    if n>0:\n",
    "        return n*factorial (n-1)\n",
    "    else:\n",
    "        return 1\n",
    "\n",
    "print ('F1의 factorial>',factorial(F1))\n",
    "print ('F2의 factorial>',factorial(F2))\n",
    "print ('F3의 factorial>',factorial(F3))"
   ]
  },
  {
   "cell_type": "code",
   "execution_count": 118,
   "id": "031d7a01",
   "metadata": {},
   "outputs": [
    {
     "name": "stdout",
     "output_type": "stream",
     "text": [
      "원의 반지름을 입력해주세요>5\n",
      "<function circle at 0x000002438C66D8B0>\n"
     ]
    }
   ],
   "source": [
    "# Q. 원의 면적과 둘레의 길이를 구하는 사용자 함수를 작성하여 반지름이 5와 10일때 \n",
    "# 면적과 둘레를 구하세요\n",
    "\n",
    "def circle (r):\n",
    "    pi=3.14\n",
    "    area= r*r*pi\n",
    "    ro= 2*r*pi\n",
    "    return ('원의 면적>{:0.2f} , 원의 둘레>{:0.2f}'.fortmat(area,ro))\n",
    "    \n",
    "r= int(input('원의 반지름을 입력해주세요>'))\n",
    "print(circle)\n",
    "\n",
    "\n",
    "##함수 주소? 뜨는데 값으로 출력어케하지"
   ]
  },
  {
   "cell_type": "code",
   "execution_count": 109,
   "id": "4ff4ef15",
   "metadata": {},
   "outputs": [
    {
     "name": "stdout",
     "output_type": "stream",
     "text": [
      "원의 반지름을 입력해주세요>5\n",
      "<function rr at 0x000002438C86B280>\n"
     ]
    }
   ],
   "source": []
  },
  {
   "cell_type": "code",
   "execution_count": null,
   "id": "c04b94c1",
   "metadata": {},
   "outputs": [],
   "source": [
    "<function rr at 0x000002438C86B280>"
   ]
  },
  {
   "cell_type": "code",
   "execution_count": 151,
   "id": "c375771e",
   "metadata": {},
   "outputs": [
    {
     "name": "stdout",
     "output_type": "stream",
     "text": [
      "안녕!\n",
      "안녕!\n",
      "안녕!\n",
      "안녕!\n",
      "안녕!\n",
      "안녕!\n",
      "안녕!\n",
      "안녕!\n",
      "안녕!\n",
      "안녕!\n",
      "\n"
     ]
    }
   ],
   "source": [
    "# Q. '안녕!'을 10번 출력하는 사용자 함수를 작성하여 실행하세요.\n",
    "\n",
    "def say():\n",
    "    return '안녕!'\"\\n\"*10\n",
    "print(say())"
   ]
  },
  {
   "cell_type": "code",
   "execution_count": 172,
   "id": "3a1a8ce0",
   "metadata": {},
   "outputs": [
    {
     "ename": "TypeError",
     "evalue": "'list' object is not callable",
     "output_type": "error",
     "traceback": [
      "\u001b[1;31m---------------------------------------------------------------------------\u001b[0m",
      "\u001b[1;31mTypeError\u001b[0m                                 Traceback (most recent call last)",
      "\u001b[1;32m<ipython-input-172-5ac49096cb8a>\u001b[0m in \u001b[0;36m<module>\u001b[1;34m\u001b[0m\n\u001b[0;32m      2\u001b[0m \u001b[1;33m\u001b[0m\u001b[0m\n\u001b[0;32m      3\u001b[0m \u001b[0mA\u001b[0m\u001b[1;33m=\u001b[0m \u001b[1;33m[\u001b[0m\u001b[1;36m1\u001b[0m\u001b[1;33m,\u001b[0m\u001b[1;36m2\u001b[0m\u001b[1;33m,\u001b[0m\u001b[1;36m3\u001b[0m\u001b[1;33m,\u001b[0m\u001b[1;36m4\u001b[0m\u001b[1;33m,\u001b[0m\u001b[1;36m5\u001b[0m\u001b[1;33m]\u001b[0m\u001b[1;33m\u001b[0m\u001b[1;33m\u001b[0m\u001b[0m\n\u001b[1;32m----> 4\u001b[1;33m \u001b[0mX\u001b[0m\u001b[1;33m=\u001b[0m \u001b[0mlist\u001b[0m\u001b[1;33m(\u001b[0m\u001b[0mmap\u001b[0m\u001b[1;33m(\u001b[0m\u001b[0mfloat\u001b[0m\u001b[1;33m,\u001b[0m\u001b[0mA\u001b[0m\u001b[1;33m)\u001b[0m\u001b[1;33m)\u001b[0m\u001b[1;33m\u001b[0m\u001b[1;33m\u001b[0m\u001b[0m\n\u001b[0m\u001b[0;32m      5\u001b[0m \u001b[0mprint\u001b[0m\u001b[1;33m(\u001b[0m\u001b[0mA\u001b[0m\u001b[1;33m)\u001b[0m\u001b[1;33m\u001b[0m\u001b[1;33m\u001b[0m\u001b[0m\n",
      "\u001b[1;31mTypeError\u001b[0m: 'list' object is not callable"
     ]
    }
   ],
   "source": [
    "# Q. 내장함수를 이용하여 [1,2,3,4,5]을 [1.0, 2.0, 3.0, 4.0, 5.0]로 변환하세요.\n",
    "\n",
    "A= [1,2,3,4,5]\n",
    "X= list(map(float,A))\n",
    "print(A)"
   ]
  },
  {
   "cell_type": "code",
   "execution_count": null,
   "id": "77b7996f",
   "metadata": {},
   "outputs": [],
   "source": []
  },
  {
   "cell_type": "code",
   "execution_count": null,
   "id": "df59915f",
   "metadata": {},
   "outputs": [],
   "source": []
  },
  {
   "cell_type": "code",
   "execution_count": null,
   "id": "bf1a3bc9",
   "metadata": {},
   "outputs": [],
   "source": []
  }
 ],
 "metadata": {
  "kernelspec": {
   "display_name": "Python 3",
   "language": "python",
   "name": "python3"
  },
  "language_info": {
   "codemirror_mode": {
    "name": "ipython",
    "version": 3
   },
   "file_extension": ".py",
   "mimetype": "text/x-python",
   "name": "python",
   "nbconvert_exporter": "python",
   "pygments_lexer": "ipython3",
   "version": "3.8.10"
  }
 },
 "nbformat": 4,
 "nbformat_minor": 5
}

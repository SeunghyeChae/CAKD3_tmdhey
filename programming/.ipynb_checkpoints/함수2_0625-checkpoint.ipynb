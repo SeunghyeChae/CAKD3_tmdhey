{
 "cells": [
  {
   "cell_type": "code",
   "execution_count": 1,
   "id": "35fe5fad",
   "metadata": {},
   "outputs": [
    {
     "name": "stderr",
     "output_type": "stream",
     "text": [
      "python: can't open file 'mod1.py': [Errno 2] No such file or directory\n"
     ]
    }
   ],
   "source": [
    "# Q. 연도별 출생아수 계산하고 그래프로 시각화하세요\n"
   ]
  },
  {
   "cell_type": "code",
   "execution_count": 2,
   "id": "2362f853",
   "metadata": {},
   "outputs": [],
   "source": [
    "#Q. 사칙연산 기능을 포함하는 cal4.py을 작성 후 임포트해서 사칙연산을 수행하세요."
   ]
  },
  {
   "cell_type": "markdown",
   "id": "1376167d",
   "metadata": {},
   "source": [
    "!python cal4.python\n",
    "import cal4 => 계산됨..\n",
    "이걸 방지하기 위해서 if __name__==\"__main__\":\n",
    "(name이 모듈 이름이 됨\n",
    "모듈을 하느냐/ name에서 도느냐)"
   ]
  },
  {
   "cell_type": "markdown",
   "id": "421f187a",
   "metadata": {},
   "source": [
    "name==\"main\"의미\n",
    "- 메인 함수의 선언, 시작을 의미합니다. 해당 코드 밑에 main 등의 함수 호출 코드를 작성해서 함수의 기능을 수행\n",
    "- 직접 mod.py파일을 실행하는 경우에는 name_변수에 main 이라는 값이 할당되고 이 조건절이 참이 되어 if문 다음 문장들이 수행\n",
    "- 모듈을 불러와서 사용하는 경우 name변수에는 모듈 이름이 저장되고 이 조건절이 거짓이 되어 if문 다음 문장들이 수행되지 않음\n",
    "- if __name__==\"__main__\"와 같이 조건문을 사용하여 터미널에서와 같이 직접 호출되어 사용될 때는 그 자체로 기능을 수행하고, 동시에 다른 모듈에서 필요한 함수 등을 제공"
   ]
  },
  {
   "cell_type": "code",
   "execution_count": 6,
   "id": "9c719f50",
   "metadata": {},
   "outputs": [],
   "source": [
    "#모듈 mod1 만들기\n",
    "with open('mod1.py','w')as f:\n",
    "    f.write('''\n",
    "def add(x,y):\n",
    "    return x+y\n",
    "print(add(3,4))\n",
    "''')"
   ]
  },
  {
   "cell_type": "code",
   "execution_count": 7,
   "id": "dadb98a0",
   "metadata": {},
   "outputs": [
    {
     "name": "stdout",
     "output_type": "stream",
     "text": [
      "\n",
      "def add(x,y):\n",
      "    return x+y\n",
      "print(add(3,4))\n",
      "\n"
     ]
    }
   ],
   "source": [
    "with open('mod1.py','r')as f:\n",
    "    data=f.read()\n",
    "    print(data)"
   ]
  },
  {
   "cell_type": "markdown",
   "id": "14ac1bd2",
   "metadata": {},
   "source": [
    "def add(x,y):\n",
    "    return x+y\n",
    "if __name__=\"__main__\":\n",
    "    print(add(3,4))"
   ]
  },
  {
   "cell_type": "code",
   "execution_count": 9,
   "id": "5771e2a0",
   "metadata": {},
   "outputs": [
    {
     "name": "stdout",
     "output_type": "stream",
     "text": [
      "7\n"
     ]
    }
   ],
   "source": [
    "!python mod1.py"
   ]
  },
  {
   "cell_type": "code",
   "execution_count": 10,
   "id": "da89354c",
   "metadata": {},
   "outputs": [
    {
     "name": "stdout",
     "output_type": "stream",
     "text": [
      "7\n"
     ]
    }
   ],
   "source": [
    "import mod1"
   ]
  },
  {
   "cell_type": "code",
   "execution_count": 11,
   "id": "78e22b69",
   "metadata": {},
   "outputs": [
    {
     "name": "stdout",
     "output_type": "stream",
     "text": [
      "['__add__', '__class__', '__contains__', '__delattr__', '__delitem__', '__dir__', '__doc__', '__eq__', '__format__', '__ge__', '__getattribute__', '__getitem__', '__gt__', '__hash__', '__iadd__', '__imul__', '__init__', '__init_subclass__', '__iter__', '__le__', '__len__', '__lt__', '__mul__', '__ne__', '__new__', '__reduce__', '__reduce_ex__', '__repr__', '__reversed__', '__rmul__', '__setattr__', '__setitem__', '__sizeof__', '__str__', '__subclasshook__', 'append', 'clear', 'copy', 'count', 'extend', 'index', 'insert', 'pop', 'remove', 'reverse', 'sort']\n"
     ]
    }
   ],
   "source": [
    "print(dir([1,2,3])) #객체가 자체적으로 가지고 있는 변수나 함수"
   ]
  },
  {
   "cell_type": "code",
   "execution_count": 24,
   "id": "b085905a",
   "metadata": {},
   "outputs": [
    {
     "name": "stdout",
     "output_type": "stream",
     "text": [
      "3\n",
      "y\n",
      "1\n",
      "asd\n",
      "h\n"
     ]
    }
   ],
   "source": [
    "#최대 최소\n",
    "print(max([1,2,3]))\n",
    "print(max('python'))\n",
    "print(min([1,2,3]))\n",
    "print(min('asd','dfef'))\n",
    "print(min('python'))"
   ]
  },
  {
   "cell_type": "code",
   "execution_count": 25,
   "id": "196b0820",
   "metadata": {},
   "outputs": [
    {
     "data": {
      "text/plain": [
       "'mod3.py'"
      ]
     },
     "execution_count": 25,
     "metadata": {},
     "output_type": "execute_result"
    }
   ],
   "source": [
    "import shutil\n",
    "shutil.copy('mod1.py','mod3.py')"
   ]
  },
  {
   "cell_type": "code",
   "execution_count": 26,
   "id": "9c150cc7",
   "metadata": {},
   "outputs": [
    {
     "name": "stdout",
     "output_type": "stream",
     "text": [
      "7\n"
     ]
    }
   ],
   "source": [
    "!python mod3.py"
   ]
  },
  {
   "cell_type": "code",
   "execution_count": 32,
   "id": "0dc811fb",
   "metadata": {},
   "outputs": [
    {
     "name": "stdout",
     "output_type": "stream",
     "text": [
      "start\n",
      "working:1\n",
      "\n",
      "working:2\n",
      "\n",
      "working:3\n",
      "\n",
      "working:4\n",
      "\n",
      "working:5\n",
      "\n",
      "working:1\n",
      "\n",
      "working:2\n",
      "\n",
      "working:3\n",
      "\n",
      "working:4\n",
      "\n",
      "working:5\n",
      "\n",
      "working:1\n",
      "\n",
      "working:2\n",
      "\n",
      "working:3\n",
      "\n",
      "working:4\n",
      "\n",
      "working:5\n",
      "\n",
      "working:1\n",
      "\n",
      "working:2\n",
      "\n",
      "working:3\n",
      "\n",
      "working:4\n",
      "\n",
      "working:5\n",
      "\n",
      "working:1\n",
      "\n",
      "working:2\n",
      "\n",
      "working:3\n",
      "\n",
      "working:4\n",
      "\n",
      "working:5\n",
      "\n",
      "End\n"
     ]
    }
   ],
   "source": [
    "#long_task함수는 수행하는데 5초의 시간이 걸리는 함수이다.\n",
    "# 위 프로그램은 이 함수를 수행하는 프로그램이다.\n",
    "#이 프로그램은 5초가 5번 반복되니 총 25초의 시간이 걸린다.\n",
    "\n",
    "import time\n",
    "def long_task(): #5초 걸리는 함수\n",
    "    for i in range(5):\n",
    "        time.sleep(1) # 1초 대기\n",
    "        print(\"working:%s\\n\"%(i+1))\n",
    "print('start')\n",
    "\n",
    "for i in range(5): #long task 5회 수행\n",
    "    long_task()\n",
    "print('End')"
   ]
  },
  {
   "cell_type": "code",
   "execution_count": 39,
   "id": "946a616e",
   "metadata": {},
   "outputs": [
    {
     "name": "stdout",
     "output_type": "stream",
     "text": [
      "start\n",
      "working:1\n",
      "working:1\n",
      "working:1\n",
      "\n",
      "\n",
      "\n",
      "working:1\n",
      "\n",
      "working:1\n",
      "\n",
      "working:2\n",
      "working:2\n",
      "\n",
      "working:2\n",
      "working:2\n",
      "\n",
      "\n",
      "working:2\n",
      "\n",
      "\n",
      "working:3\n",
      "working:3\n",
      "working:3\n",
      "working:3\n",
      "working:3\n",
      "\n",
      "\n",
      "\n",
      "\n",
      "\n",
      "working:4\n",
      "working:4\n",
      "working:4\n",
      "\n",
      "\n",
      "working:4\n",
      "\n",
      "working:4\n",
      "\n",
      "\n",
      "working:5\n",
      "\n",
      "working:5\n",
      "working:5\n",
      "working:5\n",
      "\n",
      "\n",
      "\n",
      "working:5\n",
      "\n",
      "End\n"
     ]
    }
   ],
   "source": [
    "#멀티쓰레드- 위에 25초걸리는거 여기서 5초만에 실행 (한가지가 한번에 실행)\n",
    "import time \n",
    "import threading\n",
    "\n",
    "def long_task(): #5초 걸리는 함수\n",
    "    for i in range(5):\n",
    "        time.sleep(1) # 1초 대기\n",
    "        print(\"working:%s\\n\"%(i+1))\n",
    "print('start')\n",
    "\n",
    "threads=[]\n",
    "for i in range(5):\n",
    "    t= threading.Thread(target=long_task)\n",
    "    threads.append(t)\n",
    "for t in threads:\n",
    "    t. start()\n",
    "for t in threads:   #thread 작업이 끝나고 end가 나올 수있게...\n",
    "    t.join() #join으로 스레드가 종료할 때까지 기다린다.\n",
    "\n",
    "print('End')"
   ]
  },
  {
   "cell_type": "code",
   "execution_count": null,
   "id": "41b4ff82",
   "metadata": {},
   "outputs": [],
   "source": []
  }
 ],
 "metadata": {
  "kernelspec": {
   "display_name": "Python 3",
   "language": "python",
   "name": "python3"
  },
  "language_info": {
   "codemirror_mode": {
    "name": "ipython",
    "version": 3
   },
   "file_extension": ".py",
   "mimetype": "text/x-python",
   "name": "python",
   "nbconvert_exporter": "python",
   "pygments_lexer": "ipython3",
   "version": "3.8.10"
  }
 },
 "nbformat": 4,
 "nbformat_minor": 5
}

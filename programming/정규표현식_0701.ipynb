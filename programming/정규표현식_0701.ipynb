{
 "cells": [
  {
   "cell_type": "code",
   "execution_count": 3,
   "id": "99cd6b98",
   "metadata": {},
   "outputs": [
    {
     "data": {
      "text/plain": [
       "'python '"
      ]
     },
     "execution_count": 3,
     "metadata": {},
     "output_type": "execute_result"
    }
   ],
   "source": [
    "import re\n",
    "text='python python'\n",
    "p= re.compile('[a-z]+\\s')\n",
    "m=p.match(text)\n",
    "m.group()\n"
   ]
  },
  {
   "cell_type": "code",
   "execution_count": 13,
   "id": "fdb7adab",
   "metadata": {},
   "outputs": [
    {
     "data": {
      "text/plain": [
       "['python', 'python']"
      ]
     },
     "execution_count": 13,
     "metadata": {},
     "output_type": "execute_result"
    }
   ],
   "source": [
    "import re\n",
    "text='python python'\n",
    "p= re.compile('[a-z]+')\n",
    "m=p.findall(text)\n",
    "m\n"
   ]
  },
  {
   "cell_type": "markdown",
   "id": "9397021c",
   "metadata": {},
   "source": [
    "정규표현식 - 텍스트같은데에서 필요한 부분 뽑아낼때 (수작업은 시간이 오래걸림 )\n",
    "데이터 전처리 할때도 원하는걸로 바꿔줄 때도 사용"
   ]
  },
  {
   "cell_type": "code",
   "execution_count": 15,
   "id": "bcd4a3c8",
   "metadata": {},
   "outputs": [
    {
     "name": "stdout",
     "output_type": "stream",
     "text": [
      "None\n"
     ]
    }
   ],
   "source": [
    "m= p.match('3python')\n",
    "print(m)\n",
    "\n",
    "#매치는 처음부터 시작인데 처음 시작이숫자라서 걸러짐"
   ]
  },
  {
   "cell_type": "code",
   "execution_count": 18,
   "id": "bd1076a7",
   "metadata": {},
   "outputs": [
    {
     "data": {
      "text/plain": [
       "'python'"
      ]
     },
     "execution_count": 18,
     "metadata": {},
     "output_type": "execute_result"
    }
   ],
   "source": [
    "# 여기서 파이썬을 뽑으려면 ?\n",
    "\n",
    "m=p.search('3python')\n",
    "m.group()"
   ]
  },
  {
   "cell_type": "code",
   "execution_count": 19,
   "id": "ac25c31a",
   "metadata": {},
   "outputs": [
    {
     "name": "stdout",
     "output_type": "stream",
     "text": [
      "<re.Match object; span=(1, 6), match='anker'>\n",
      "<re.Match object; span=(0, 6), match='banker'>\n"
     ]
    }
   ],
   "source": [
    "p=re.compile('[a-z]+')\n",
    "p1=p.search('Banker')\n",
    "p2=p.search('banker')\n",
    "print(p1)\n",
    "print(p2)\n",
    "\n",
    "# 서치라서 소문자 다 나옴~\n"
   ]
  },
  {
   "cell_type": "code",
   "execution_count": 23,
   "id": "17388c7b",
   "metadata": {},
   "outputs": [
    {
     "name": "stdout",
     "output_type": "stream",
     "text": [
      "<re.Match object; span=(5, 6), match='a'>\n"
     ]
    },
    {
     "data": {
      "text/plain": [
       "'a'"
      ]
     },
     "execution_count": 23,
     "metadata": {},
     "output_type": "execute_result"
    }
   ],
   "source": [
    "# Q. '12345abc'에서 'a'만 출력하세요\n",
    "import re\n",
    "\n",
    "p=re.compile('[a]')\n",
    "p1=p.search('12345abc')\n",
    "print(p1)\n",
    "p1.group()"
   ]
  },
  {
   "cell_type": "code",
   "execution_count": 24,
   "id": "e500cb91",
   "metadata": {},
   "outputs": [
    {
     "data": {
      "text/plain": [
       "'a'"
      ]
     },
     "execution_count": 24,
     "metadata": {},
     "output_type": "execute_result"
    }
   ],
   "source": [
    "text = '12345abc'\n",
    "p = re.compile('\\D')\n",
    "m = p.search(text)\n",
    "m.group()"
   ]
  },
  {
   "cell_type": "code",
   "execution_count": 25,
   "id": "501ffae0",
   "metadata": {},
   "outputs": [
    {
     "data": {
      "text/plain": [
       "'A'"
      ]
     },
     "execution_count": 25,
     "metadata": {},
     "output_type": "execute_result"
    }
   ],
   "source": [
    "# A만 출력\n",
    "text = 'abc12345Abc'\n",
    "p = re.compile('[A-Z]')\n",
    "m = p.search(text)\n",
    "m.group()"
   ]
  },
  {
   "cell_type": "code",
   "execution_count": 31,
   "id": "1fbb1232",
   "metadata": {},
   "outputs": [
    {
     "data": {
      "text/plain": [
       "'대'"
      ]
     },
     "execution_count": 31,
     "metadata": {},
     "output_type": "execute_result"
    }
   ],
   "source": [
    "#'대'만 출력 \n",
    "text = 'KOREA 대한민국'\n",
    "a = re.compile('[가-하]')  # or [가-하] 왜 처음꺼만 나오지? \n",
    "x = a.search(text)\n",
    "x.group()"
   ]
  },
  {
   "cell_type": "code",
   "execution_count": 7,
   "id": "12eabe5e",
   "metadata": {
    "scrolled": true
   },
   "outputs": [
    {
     "name": "stdout",
     "output_type": "stream",
     "text": [
      "122333c\n"
     ]
    }
   ],
   "source": [
    "import re\n",
    "text = '122333c'\n",
    "p=re.compile('[0-9]+[a-z]+')\n",
    "m=p.search(text)\n",
    "print(m.group())\n"
   ]
  },
  {
   "cell_type": "code",
   "execution_count": 12,
   "id": "368209bb",
   "metadata": {},
   "outputs": [
    {
     "name": "stdout",
     "output_type": "stream",
     "text": [
      "122333c\n"
     ]
    }
   ],
   "source": [
    "text='122333c'\n",
    "\n",
    "p=re.compile('\\w+')\n",
    "m=p.search(text)\n",
    "print(m.group())\n"
   ]
  },
  {
   "cell_type": "code",
   "execution_count": 77,
   "id": "11518406",
   "metadata": {},
   "outputs": [
    {
     "data": {
      "text/plain": [
       "'1'"
      ]
     },
     "execution_count": 77,
     "metadata": {},
     "output_type": "execute_result"
    }
   ],
   "source": [
    "text='1222222333c'\n",
    "\n",
    "p= re.compile('[12{6}3{3}c]')\n",
    "m= p.search(text)\n",
    "m.group()\n"
   ]
  },
  {
   "cell_type": "code",
   "execution_count": 56,
   "id": "57f31566",
   "metadata": {},
   "outputs": [
    {
     "data": {
      "text/plain": [
       "'122333c'"
      ]
     },
     "execution_count": 56,
     "metadata": {},
     "output_type": "execute_result"
    }
   ],
   "source": [
    "text='122333c'\n",
    "\n",
    "p=re.compile('[1-9]+[a-z]')\n",
    "m=p.search(text)\n",
    "m.group()\n"
   ]
  },
  {
   "cell_type": "code",
   "execution_count": 14,
   "id": "6bbddce7",
   "metadata": {},
   "outputs": [
    {
     "name": "stdout",
     "output_type": "stream",
     "text": [
      "대한민국\n"
     ]
    }
   ],
   "source": [
    "text = 'KOREA 대한민국'\n",
    "m = re.compile('[가-힣]+')\n",
    "p = m.search(text)\n",
    "print(p.group())\n"
   ]
  },
  {
   "cell_type": "code",
   "execution_count": 71,
   "id": "1c91c85f",
   "metadata": {},
   "outputs": [
    {
     "data": {
      "text/plain": [
       "'aaaaBBBcccDDDeee'"
      ]
     },
     "execution_count": 71,
     "metadata": {},
     "output_type": "execute_result"
    }
   ],
   "source": [
    "text='aaaaBBBcccDDDeee'\n",
    "p=re.compile('a{4}B{3}c{3}D{3}e{3}')\n",
    "m=p.search(text)\n",
    "m.group()"
   ]
  },
  {
   "cell_type": "code",
   "execution_count": 73,
   "id": "9eae062b",
   "metadata": {},
   "outputs": [
    {
     "name": "stdout",
     "output_type": "stream",
     "text": [
      "<re.Match object; span=(1, 2), match='C'>\n",
      "<re.Match object; span=(0, 1), match='C'>\n",
      "<re.Match object; span=(2, 3), match='C'>\n"
     ]
    },
    {
     "data": {
      "text/plain": [
       "'C'"
      ]
     },
     "execution_count": 73,
     "metadata": {},
     "output_type": "execute_result"
    }
   ],
   "source": [
    "# A. BC,CC,ABC 모두 C가 출력되는 정규표현식\n",
    "\n",
    "pattern= re.compile('[C$]')\n",
    "text1='BC'\n",
    "text2='CC'\n",
    "text3='ABC'\n",
    "p1= pattern.search(text1)\n",
    "p2= pattern.search(text2)\n",
    "p3= pattern.search(text3)\n",
    "\n",
    "print(p1)\n",
    "print(p2)\n",
    "print(p3)\n",
    "\n",
    "p1.group()"
   ]
  },
  {
   "cell_type": "code",
   "execution_count": 74,
   "id": "4ad2d4bd",
   "metadata": {},
   "outputs": [
    {
     "name": "stdout",
     "output_type": "stream",
     "text": [
      "<re.Match object; span=(1, 2), match='C'>\n",
      "<re.Match object; span=(0, 1), match='C'>\n",
      "<re.Match object; span=(2, 3), match='C'>\n"
     ]
    },
    {
     "data": {
      "text/plain": [
       "'C'"
      ]
     },
     "execution_count": 74,
     "metadata": {},
     "output_type": "execute_result"
    }
   ],
   "source": [
    "pattern= re.compile('[C\\>]')  # 끝표현은 \\> / 앞은 <\\\n",
    "text1='BC'\n",
    "text2='CC'\n",
    "text3='ABC'\n",
    "p1= pattern.search(text1)\n",
    "p2= pattern.search(text2)\n",
    "p3= pattern.search(text3)\n",
    "\n",
    "print(p1)\n",
    "print(p2)\n",
    "print(p3)\n",
    "\n",
    "p1.group()"
   ]
  },
  {
   "cell_type": "code",
   "execution_count": 76,
   "id": "f35dc6c1",
   "metadata": {},
   "outputs": [
    {
     "name": "stdout",
     "output_type": "stream",
     "text": [
      "<re.Match object; span=(1, 2), match='C'>\n",
      "<re.Match object; span=(0, 1), match='C'>\n",
      "<re.Match object; span=(0, 1), match='A'>\n"
     ]
    },
    {
     "data": {
      "text/plain": [
       "'C'"
      ]
     },
     "execution_count": 76,
     "metadata": {},
     "output_type": "execute_result"
    }
   ],
   "source": [
    "## 교수님이 의도하신 답? \n",
    "\n",
    "pattern= re.compile('[A?C]') #A가 있든 없든(? 바로앞에꺼) C가 들어가면 출력 \n",
    "text1='BC'\n",
    "text2='CC'\n",
    "text3='ABC'\n",
    "p1= pattern.search(text1)\n",
    "p2= pattern.search(text2)\n",
    "p3= pattern.search(text3)\n",
    "\n",
    "print(p1)\n",
    "print(p2)\n",
    "print(p3)\n",
    "\n",
    "p1.group()"
   ]
  },
  {
   "cell_type": "code",
   "execution_count": 80,
   "id": "15b9244b",
   "metadata": {},
   "outputs": [
    {
     "data": {
      "text/plain": [
       "['life', 'is', 'too', 'short']"
      ]
     },
     "execution_count": 80,
     "metadata": {},
     "output_type": "execute_result"
    }
   ],
   "source": [
    "# 문자 모두 출력\n",
    "text ='life is too short'\n",
    "p= re.compile('[a-z]+')\n",
    "p.findall(text)"
   ]
  },
  {
   "cell_type": "code",
   "execution_count": 81,
   "id": "df930815",
   "metadata": {
    "scrolled": true
   },
   "outputs": [
    {
     "name": "stdout",
     "output_type": "stream",
     "text": [
      "life\n",
      "is\n",
      "too\n",
      "short\n"
     ]
    }
   ],
   "source": [
    "results= p.finditer(text) # 반복하는..? 객체 뽑아줌\n",
    "for r in results:\n",
    "    print(r.group())\n"
   ]
  },
  {
   "cell_type": "code",
   "execution_count": 98,
   "id": "6ba487fa",
   "metadata": {},
   "outputs": [
    {
     "name": "stdout",
     "output_type": "stream",
     "text": [
      "life\n",
      "is\n",
      "too\n",
      "short\n"
     ]
    }
   ],
   "source": [
    "# match 객체\n",
    "text ='life is too short'\n",
    "p= re.compile('[a-z]+')\n",
    "l=p.match('life')\n",
    "i=p.match('is')\n",
    "t= p.match('too')\n",
    "s=p.match('short')\n",
    "print(l.group())\n",
    "print(i.group())\n",
    "print(t.group())\n",
    "print(s.group())"
   ]
  },
  {
   "cell_type": "code",
   "execution_count": 100,
   "id": "ee54fada",
   "metadata": {},
   "outputs": [
    {
     "name": "stdout",
     "output_type": "stream",
     "text": [
      "python\n",
      "0\n",
      "6\n",
      "(0, 6)\n"
     ]
    }
   ],
   "source": [
    "# match 객체의 메소드 \n",
    "import re\n",
    "p= re.compile('[a-z]+')\n",
    "m=p.match('python')\n",
    "print(m.group())\n",
    "print(m.start())\n",
    "print(m.end())\n",
    "print(m.span())"
   ]
  },
  {
   "cell_type": "code",
   "execution_count": 101,
   "id": "8b17109e",
   "metadata": {},
   "outputs": [
    {
     "name": "stdout",
     "output_type": "stream",
     "text": [
      "python\n",
      "2\n",
      "8\n",
      "(2, 8)\n"
     ]
    }
   ],
   "source": [
    "# search객체의 메소드 \n",
    "import re\n",
    "p= re.compile('[a-z]+')\n",
    "m=p.search('3 python')\n",
    "print(m.group())\n",
    "print(m.start())\n",
    "print(m.end())\n",
    "print(m.span())"
   ]
  },
  {
   "cell_type": "code",
   "execution_count": 104,
   "id": "c3a70dd1",
   "metadata": {},
   "outputs": [
    {
     "data": {
      "text/plain": [
       "'python'"
      ]
     },
     "execution_count": 104,
     "metadata": {},
     "output_type": "execute_result"
    }
   ],
   "source": [
    "m=re.match('[a-z]+','python')\n",
    "m.group()"
   ]
  },
  {
   "cell_type": "code",
   "execution_count": null,
   "id": "0ad8ce94",
   "metadata": {},
   "outputs": [],
   "source": []
  },
  {
   "cell_type": "code",
   "execution_count": null,
   "id": "d5e58184",
   "metadata": {},
   "outputs": [],
   "source": []
  },
  {
   "cell_type": "code",
   "execution_count": 85,
   "id": "f0183898",
   "metadata": {},
   "outputs": [
    {
     "data": {
      "text/plain": [
       "['1', '2', '3', '4', '1', '2', '3', '4']"
      ]
     },
     "execution_count": 85,
     "metadata": {},
     "output_type": "execute_result"
    }
   ],
   "source": [
    "# Q. '1234a1234'에서 '1','2','3','4' 출력\n",
    "text= '1234a1234'\n",
    "p= re.compile('[0-9]') # or \\d\n",
    "p.findall(text)"
   ]
  },
  {
   "cell_type": "code",
   "execution_count": 86,
   "id": "79749616",
   "metadata": {},
   "outputs": [
    {
     "data": {
      "text/plain": [
       "['1234', '1234']"
      ]
     },
     "execution_count": 86,
     "metadata": {},
     "output_type": "execute_result"
    }
   ],
   "source": [
    "# Q. '1234a1234'에서 '1','2','3','4' 출력\n",
    "text= '1234a1234'\n",
    "p= re.compile('[0-9]+') # or \\d\n",
    "p.findall(text)"
   ]
  },
  {
   "cell_type": "code",
   "execution_count": 93,
   "id": "08984d80",
   "metadata": {},
   "outputs": [
    {
     "name": "stdout",
     "output_type": "stream",
     "text": [
      "['Python', 'is', 'very', 'good', 'programming', 'language']\n"
     ]
    }
   ],
   "source": [
    "# 'Python3 is very good programming language! '에서 문자들만 출력\n",
    "text='Python3 is very good programming language!'\n",
    "p=re.compile('[a-zA-Z]+') #\\w는 숫자문자 다   \n",
    "x= p.findall(text)\n",
    "print(x)"
   ]
  },
  {
   "cell_type": "code",
   "execution_count": 107,
   "id": "0550da16",
   "metadata": {},
   "outputs": [
    {
     "name": "stdout",
     "output_type": "stream",
     "text": [
      "None\n",
      "<re.Match object; span=(0, 3), match='acb'>\n",
      "<re.Match object; span=(0, 6), match='a12?Ab'>\n"
     ]
    }
   ],
   "source": [
    "# Dot(.) 메타 문자는 개행(\\n)문자를 제외한 모든 문자와 매치\n",
    "import re \n",
    "p= re.compile('a.+b')\n",
    "m1=p.match('a\\nb')\n",
    "m2=p.match('acb')\n",
    "m3=p.match('a12?Ab')\n",
    "print(m1)\n",
    "print(m2)\n",
    "print(m3)"
   ]
  },
  {
   "cell_type": "code",
   "execution_count": 109,
   "id": "93b87c6a",
   "metadata": {},
   "outputs": [
    {
     "name": "stdout",
     "output_type": "stream",
     "text": [
      "<re.Match object; span=(0, 3), match='a\\nb'>\n"
     ]
    }
   ],
   "source": [
    "# re.DOPALL 옵션은 개행문자에 상관없이 검색시 사용\n",
    "import re \n",
    "p= re.compile('a.+b',re.DOTALL)\n",
    "m1=p.match('a\\nb')\n",
    "print(m1)"
   ]
  },
  {
   "cell_type": "code",
   "execution_count": 119,
   "id": "ca4abc0d",
   "metadata": {},
   "outputs": [
    {
     "name": "stdout",
     "output_type": "stream",
     "text": [
      "what are you doing?\n"
     ]
    }
   ],
   "source": [
    "# !. text 에서 what ar you doing 만 출력\n",
    "text= 'what are you doing?\\nIt is going to be late for school'\n",
    "\n",
    "p= re.compile('.+')\n",
    "m=p.match(text)\n",
    "print(m.group())"
   ]
  },
  {
   "cell_type": "code",
   "execution_count": 120,
   "id": "50d69616",
   "metadata": {},
   "outputs": [
    {
     "name": "stdout",
     "output_type": "stream",
     "text": [
      "what are you doing?\n",
      "It is going to be late for school\n"
     ]
    }
   ],
   "source": [
    "p= re.compile('.+',re.DOTALL)\n",
    "m=p.match(text)\n",
    "print(m.group())"
   ]
  },
  {
   "cell_type": "code",
   "execution_count": 121,
   "id": "2ea116a0",
   "metadata": {},
   "outputs": [
    {
     "name": "stdout",
     "output_type": "stream",
     "text": [
      "<re.Match object; span=(0, 6), match='python'>\n",
      "<re.Match object; span=(0, 6), match='Python'>\n",
      "<re.Match object; span=(0, 6), match='PYTHON'>\n"
     ]
    }
   ],
   "source": [
    "# re.IGNORECASE 또는 re.I 옵션은 대소문자 구분없이 매치를 수행 \n",
    "p= re.compile('[a-z]+', re.I)\n",
    "print(p.match('python'))\n",
    "print(p.match('Python'))\n",
    "print(p.match('PYTHON'))\n",
    "\n",
    "#search도 가능 "
   ]
  },
  {
   "cell_type": "code",
   "execution_count": 122,
   "id": "e4eab21a",
   "metadata": {},
   "outputs": [
    {
     "name": "stdout",
     "output_type": "stream",
     "text": [
      "<re.Match object; span=(0, 6), match='python'>\n",
      "<re.Match object; span=(0, 6), match='Python'>\n",
      "<re.Match object; span=(0, 6), match='PYTHON'>\n"
     ]
    }
   ],
   "source": [
    "p= re.compile('[a-z]+', re.I)\n",
    "print(p.search('python'))\n",
    "print(p.search('Python'))\n",
    "print(p.search('PYTHON'))\n"
   ]
  },
  {
   "cell_type": "code",
   "execution_count": 125,
   "id": "ecfd8968",
   "metadata": {},
   "outputs": [
    {
     "name": "stdout",
     "output_type": "stream",
     "text": [
      "['Friend', 'fRiend', 'friEnd', 'FRIEND']\n"
     ]
    }
   ],
   "source": [
    "# Q. text에서 대소문자 구분없이 전ㅊ문장 모두 출력 \n",
    "\n",
    "text= 'Friend fRiend friEnd FRIEND'\n",
    "p= re.compile('[a-z]+',re.I)\n",
    "print(p.findall(text))"
   ]
  },
  {
   "cell_type": "code",
   "execution_count": 126,
   "id": "a0c93b97",
   "metadata": {},
   "outputs": [
    {
     "name": "stdout",
     "output_type": "stream",
     "text": [
      "Friend\n",
      "fRiend\n",
      "friEnd\n",
      "FRIEND\n"
     ]
    }
   ],
   "source": [
    "text= 'Friend fRiend friEnd FRIEND'\n",
    "p= re.compile('[a-z]+',re.I)\n",
    "m=p.findall(text)\n",
    "\n",
    "for i in m:\n",
    "    print(i)\n",
    "    "
   ]
  },
  {
   "cell_type": "code",
   "execution_count": 128,
   "id": "1d26590b",
   "metadata": {},
   "outputs": [
    {
     "data": {
      "text/plain": [
       "['python one']"
      ]
     },
     "execution_count": 128,
     "metadata": {},
     "output_type": "execute_result"
    }
   ],
   "source": [
    "p= re.compile('^python\\s\\w+')\n",
    "\n",
    "data= \"\"\"python one\n",
    "life is too short\n",
    "python two\n",
    "you need python\n",
    "python three \"\"\"\n",
    "p.findall(data)"
   ]
  },
  {
   "cell_type": "code",
   "execution_count": 129,
   "id": "d0eed81d",
   "metadata": {},
   "outputs": [
    {
     "data": {
      "text/plain": [
       "['python one', 'python two', 'python three']"
      ]
     },
     "execution_count": 129,
     "metadata": {},
     "output_type": "execute_result"
    }
   ],
   "source": [
    "# re.MULTILINE 또는 re.M옵션으로 ^ 메타문자를 각 라인의 처음으로 인식시킴\n",
    "p= re.compile('^python\\s\\w+',re.M)\n",
    "\n",
    "data= \"\"\"python one\n",
    "life is too short\n",
    "python two\n",
    "you need python\n",
    "python three \"\"\"\n",
    "p.findall(data)"
   ]
  },
  {
   "cell_type": "code",
   "execution_count": 133,
   "id": "31097b75",
   "metadata": {},
   "outputs": [
    {
     "data": {
      "text/plain": [
       "['\\\\section', '\\\\section']"
      ]
     },
     "execution_count": 133,
     "metadata": {},
     "output_type": "execute_result"
    }
   ],
   "source": [
    "# 중요~~ Raw Striing: 정규식 문자열 앞에 r문자를 삽입하면 백슬래시 2개 대신 1개 사용\n",
    "\n",
    "p= re.compile(r'\\\\section')\n",
    "p.match('\\section')\n",
    "p.findall('\\section\\section')"
   ]
  },
  {
   "cell_type": "code",
   "execution_count": 139,
   "id": "1aded4da",
   "metadata": {},
   "outputs": [
    {
     "name": "stdout",
     "output_type": "stream",
     "text": [
      "<re.Match object; span=(0, 4), match='Crow'>\n",
      "\n",
      "<re.Match object; span=(0, 4), match='Life'>\n",
      "None\n",
      "\n",
      "None\n",
      "<re.Match object; span=(3, 7), match='Life'>\n"
     ]
    }
   ],
   "source": [
    "# |(or와 동일한 의미), ^(문자열의 맨처음), $(문자열의 끝)\n",
    "import re\n",
    "p= re.compile('Crow|Servo')\n",
    "m= p.match('CrowGello')\n",
    "\n",
    "print(m)\n",
    "\n",
    "print()\n",
    "print(re.search('^Life','Life is too short'))\n",
    "print(re.search('^Life','My Life'))\n",
    "print()\n",
    "print(re.search('Life$', 'Life is too short'))\n",
    "print(re.search('Life$','My Life'))"
   ]
  },
  {
   "cell_type": "code",
   "execution_count": 156,
   "id": "b2b2af9a",
   "metadata": {},
   "outputs": [
    {
     "name": "stdout",
     "output_type": "stream",
     "text": [
      "['Life']\n",
      "['good']\n"
     ]
    }
   ],
   "source": [
    "# \\A: (문자열의 처음과 매치). 단, re.M옵션 사용시 전체 문자열의 차음만 매치\n",
    "# \\Z: 옵션 사용시 전체 문자열의 끝하고 매치\n",
    "import re\n",
    "p=re.compile('\\ALife', re.M)\n",
    "data= '''Life is too short\n",
    "Life is valuable\n",
    "Life is good'''\n",
    "print(p.findall(data))\n",
    "\n",
    "p1= re.compile('good\\Z',re.M)\n",
    "data1= '''Life is too short\n",
    "Life is good\n",
    "Life is very good'''\n",
    "print(p1.findall(data1))\n",
    "\n"
   ]
  },
  {
   "cell_type": "code",
   "execution_count": 16,
   "id": "5c577b4a",
   "metadata": {},
   "outputs": [
    {
     "name": "stdout",
     "output_type": "stream",
     "text": [
      "['home']\n"
     ]
    }
   ],
   "source": [
    "# Q. 'we are going home'에서 home만 출력\n",
    "\n",
    "text='we are going home'\n",
    "p= re.compile('home\\Z')\n",
    "print(p.findall(text))\n"
   ]
  },
  {
   "cell_type": "code",
   "execution_count": 152,
   "id": "e4a5f063",
   "metadata": {},
   "outputs": [
    {
     "name": "stdout",
     "output_type": "stream",
     "text": [
      "['home']\n"
     ]
    }
   ],
   "source": [
    "text='home sweet'\n",
    "p= re.compile('\\Ahome') # ('^home')도 가능\n",
    "print(p.findall(text))\n"
   ]
  },
  {
   "cell_type": "code",
   "execution_count": 158,
   "id": "d0298122",
   "metadata": {},
   "outputs": [
    {
     "name": "stdout",
     "output_type": "stream",
     "text": [
      "<re.Match object; span=(0, 6), match='199305'>\n"
     ]
    }
   ],
   "source": [
    "# Q. '199305, 1923A, a93247'에서 '199305'만 출력\n",
    "\n",
    "text='199305, 1923A, a93247'\n",
    "p= re.compile('\\d+')\n",
    "print(p.search(text))"
   ]
  },
  {
   "cell_type": "code",
   "execution_count": 159,
   "id": "c5d42d2c",
   "metadata": {},
   "outputs": [
    {
     "name": "stdout",
     "output_type": "stream",
     "text": [
      "<re.Match object; span=(0, 6), match='199305'>\n"
     ]
    }
   ],
   "source": [
    "\n",
    "text='199305, 1923A, a93247'\n",
    "p= re.compile('^\\d+')\n",
    "print(p.search(text))"
   ]
  },
  {
   "cell_type": "code",
   "execution_count": 162,
   "id": "facc8c97",
   "metadata": {},
   "outputs": [
    {
     "name": "stdout",
     "output_type": "stream",
     "text": [
      "<re.Match object; span=(0, 9), match='99food234'>\n"
     ]
    }
   ],
   "source": [
    "# Q. '99food234, a93456\\n, a9356ba' 에서 '99food234'만 출력\n",
    "txt= '99food234, a93456\\n, a9356ba'\n",
    "p= re.compile('^\\w+')  #('^\\w+\\d')가 더 정확\n",
    "print(p.search(txt))"
   ]
  },
  {
   "cell_type": "code",
   "execution_count": 164,
   "id": "b2ad8717",
   "metadata": {},
   "outputs": [
    {
     "name": "stdout",
     "output_type": "stream",
     "text": [
      "<re.Match object; span=(3, 8), match='class'>\n",
      "None\n",
      "\n",
      "None\n",
      "<re.Match object; span=(6, 11), match='class'>\n"
     ]
    }
   ],
   "source": [
    "# \\b whitespace 에 의한 구분 ex. the class is \n",
    "# \\B whitexpace로 구분된 단어가 아닌 경우에만 매치 ex.multiclases\n",
    "\n",
    "p= re.compile(r'\\bclass\\b')\n",
    "print(p.search('no class at all'))\n",
    "print(p.search('the declassifiied algorithm'))\n",
    "print()\n",
    "\n",
    "q=re.compile(r'\\Bclass\\B')\n",
    "print(q.search('no class at all'))\n",
    "print(q.search('the declassifiied algorithm'))"
   ]
  },
  {
   "cell_type": "code",
   "execution_count": 180,
   "id": "4a51be38",
   "metadata": {},
   "outputs": [
    {
     "name": "stdout",
     "output_type": "stream",
     "text": [
      "<re.Match object; span=(10, 22), match='032-232-3245'>\n"
     ]
    }
   ],
   "source": [
    "# Q. 정규표현식을 사용하여 text에서 전화번호만 출력\n",
    "\n",
    "text=\"문의사항이 있으면 032-232-3245 으로 연락주시기 바랍니다.\"\n",
    "p=re.compile('\\d+-\\d+-\\d+') # (r'\\b[0-9-]+\\b')\n",
    "print(p.search(text))"
   ]
  },
  {
   "cell_type": "code",
   "execution_count": 182,
   "id": "390c8b66",
   "metadata": {},
   "outputs": [
    {
     "name": "stdout",
     "output_type": "stream",
     "text": [
      "<re.Match object; span=(10, 22), match='032-232-3245'>\n"
     ]
    }
   ],
   "source": [
    "text=\"문의사항이 있으면 032-232-3245 으로 연락주시기 바랍니다.\"\n",
    "p=re.compile(r'\\b[0-9-]+\\b') \n",
    "print(p.search(text))"
   ]
  },
  {
   "cell_type": "code",
   "execution_count": 183,
   "id": "90e864e4",
   "metadata": {},
   "outputs": [
    {
     "name": "stdout",
     "output_type": "stream",
     "text": [
      "['에러 1122', '에러 1033', '에러 xxx']\n"
     ]
    }
   ],
   "source": [
    "# Q. 정규표현식을 사용하여 text에서 에러가 들어간 부분만 포함하는\n",
    "#리스트 출력\n",
    "\n",
    "text='에러 1122, 레퍼런스 오류, 에러 1033, 이규먼트 오류, 에러 xxx'\n",
    "p= re.compile('에러\\s\\w+')\n",
    "print(p.findall(text))"
   ]
  },
  {
   "cell_type": "code",
   "execution_count": 188,
   "id": "c44a7eb8",
   "metadata": {},
   "outputs": [
    {
     "name": "stdout",
     "output_type": "stream",
     "text": [
      "['1 apple', '5 orange', '3 boys', '4 girls', '10 army']\n"
     ]
    }
   ],
   "source": [
    "#. A.정규표현식 작성하여 아래와 같이 출력\n",
    "# ['1 apple', '5 orange', '3 boys', '4 girls'; '10 army','11mr']\n",
    "\n",
    "import re\n",
    "li='1 apple, 5 orange, 3 boys, 4 girls; 10 army| 11mr'\n",
    "regex= re.compile('\\d+\\s\\w+')\n",
    "list= regex.findall(li)\n",
    "print(list)"
   ]
  },
  {
   "cell_type": "code",
   "execution_count": 195,
   "id": "e821761c",
   "metadata": {},
   "outputs": [
    {
     "name": "stdout",
     "output_type": "stream",
     "text": [
      "['H', 'h', 'h']\n"
     ]
    }
   ],
   "source": [
    "# Q, 'H,h'만 출력\n",
    "\n",
    "text = 'Hello my frien! Life is short you need Python'\n",
    "p= re.compile('h|H') # or [hH]\n",
    "m= p.findall(text)\n",
    "print(m)"
   ]
  },
  {
   "cell_type": "code",
   "execution_count": 197,
   "id": "bc33f276",
   "metadata": {},
   "outputs": [
    {
     "name": "stdout",
     "output_type": "stream",
     "text": [
      "['e', 'l', 'l', 'o', ' ', 'm', 'y', ' ', 'f', 'r', 'i', 'e', 'n', '!', ' ', 'L', 'i', 'f', 'e', ' ', 'i', 's', ' ', 's', 'o', 'r', 't', ' ', 'y', 'o', 'u', ' ', 'n', 'e', 'e', 'd', ' ', 'P', 'y', 't', 'o', 'n']\n"
     ]
    }
   ],
   "source": [
    "# Q, 'H,h'아닌것만 출력\n",
    "\n",
    "text = 'Hello my frien! Life is short you need Python'\n",
    "p= re.compile('[^h|H]')\n",
    "m= p.findall(text)\n",
    "print(m)"
   ]
  },
  {
   "cell_type": "code",
   "execution_count": 202,
   "id": "1c3f6af9",
   "metadata": {
    "scrolled": true
   },
   "outputs": [
    {
     "name": "stdout",
     "output_type": "stream",
     "text": [
      "<re.Match object; span=(0, 12), match='ABCABCABCABC'>\n",
      "ABC\n",
      "ABCABCABCABC\n"
     ]
    }
   ],
   "source": [
    "# 그룹핑: 매칭된 문자열중에서 특정 부분의 문자열만 뽑아내는 경우 ()로\n",
    "#만들어 준다\n",
    "\n",
    "p= re.compile('(ABC)+')\n",
    "m=p.search('ABCABCABCABC, OK?')\n",
    "print(m)\n",
    "print(m.group(1))\n",
    "print(m.group(0))"
   ]
  },
  {
   "cell_type": "code",
   "execution_count": 208,
   "id": "ee08e0b5",
   "metadata": {},
   "outputs": [
    {
     "name": "stdout",
     "output_type": "stream",
     "text": [
      "<re.Match object; span=(3, 9), match='ABCDEF'>\n",
      "ABCDEF\n",
      "AB\n",
      "CD\n",
      "EF\n"
     ]
    }
   ],
   "source": [
    "p= re.compile('((AB)(CD)(EF))+')\n",
    "m=p.search('DEFABCDEFDEF OK?') # 젤 바깥게 1번(전체), 그 후부턴 왼쪼ㄱ부터 오른쪽\n",
    "print(m) #=m(0랑 같은거) \n",
    "print(m.group(1))\n",
    "print(m.group(2))\n",
    "print(m.group(3))\n",
    "print(m.group(4))"
   ]
  },
  {
   "cell_type": "code",
   "execution_count": 1,
   "id": "6918158a",
   "metadata": {},
   "outputs": [
    {
     "name": "stdout",
     "output_type": "stream",
     "text": [
      "color socks and color shoes\n"
     ]
    }
   ],
   "source": [
    "import re\n",
    "p= re.compile('(blue|white|red)')\n",
    "print(p.sub('color','blue socks and red shoes'))"
   ]
  },
  {
   "cell_type": "code",
   "execution_count": 4,
   "id": "393ad4d6",
   "metadata": {},
   "outputs": [
    {
     "name": "stdout",
     "output_type": "stream",
     "text": [
      "abc\n"
     ]
    }
   ],
   "source": [
    "# Q. '12345abc'에서 'abc'만 출력하세요\n",
    "p= re.compile('\\d')\n",
    "print(p.sub('','12345abc'))"
   ]
  },
  {
   "cell_type": "code",
   "execution_count": 5,
   "id": "2d1f8b6f",
   "metadata": {},
   "outputs": [
    {
     "data": {
      "text/plain": [
       "'abc'"
      ]
     },
     "execution_count": 5,
     "metadata": {},
     "output_type": "execute_result"
    }
   ],
   "source": [
    "str='12345abc'\n",
    "re.sub('\\d','',str)"
   ]
  },
  {
   "cell_type": "code",
   "execution_count": null,
   "id": "5f46b9c0",
   "metadata": {},
   "outputs": [],
   "source": []
  }
 ],
 "metadata": {
  "kernelspec": {
   "display_name": "Python 3",
   "language": "python",
   "name": "python3"
  },
  "language_info": {
   "codemirror_mode": {
    "name": "ipython",
    "version": 3
   },
   "file_extension": ".py",
   "mimetype": "text/x-python",
   "name": "python",
   "nbconvert_exporter": "python",
   "pygments_lexer": "ipython3",
   "version": "3.8.10"
  }
 },
 "nbformat": 4,
 "nbformat_minor": 5
}

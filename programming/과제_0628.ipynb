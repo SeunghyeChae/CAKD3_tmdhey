{
 "cells": [
  {
   "cell_type": "markdown",
   "id": "3e8001b4",
   "metadata": {},
   "source": [
    "\n",
    "클래스\n",
    "\n",
    "class : 함수 + 변수 모아놓은 것\n",
    "\n",
    "오브젝트(object) : 클래스를 써서 만든 것\n",
    "\n",
    "오브젝트(object) == 인스턴스(instance)\n",
    "\n",
    "클래스를 정의한 후, 그 클래스를 사용해서 데이터 객체(인스턴스)를 만들 수 있다.\n",
    "\n",
    "동일한 클래스에 의해 만들어진 각 객체들은 유사한 특징을 공유한다.\n",
    "\n",
    "모든 인스턴스에서 메서드(=코드)는 동일하지만, 속성(데이터)는 다르다.\n",
    "\n",
    "- 메서드 : 코드\n",
    "- 속성 : 데이터\n",
    "- 인스턴스 : 클래스에 의해 만들어진 데이터 객체"
   ]
  },
  {
   "cell_type": "code",
   "execution_count": 17,
   "id": "1d782faf",
   "metadata": {},
   "outputs": [
    {
     "name": "stdout",
     "output_type": "stream",
     "text": [
      "정수 입력> 1\n",
      "1번째 요소: 273\n",
      "name '예외' is not defined\n",
      "모든 예외 처리\n"
     ]
    }
   ],
   "source": [
    "# 과제\n",
    "# Q. 아래 코드를 모든 예외를 처리할 수 있도록 보완하세요\n",
    "list_num = [52,273,32,72,100]\n",
    "try:\n",
    "    num_input = int(input('정수 입력> '))\n",
    "    print('{}번째 요소: {}'.format(num_input, list_num[num_input]))\n",
    "    예외.발생()\n",
    "except ValueError as exception:\n",
    "    print('정수를 입력해 주세요.')\n",
    "    print(type(exception),exception)\n",
    "except IndexError as exception:\n",
    "    print('리스트의 인덱스를 벗어났어요.')\n",
    "    print(type(exception),exception)\n",
    "\n",
    "except Exception as e:\n",
    "    print(e)\n",
    "    \n",
    "finally:\n",
    "    print('모든 예외 처리')\n",
    "    \n",
    "    \n",
    "    \n",
    "  \n",
    "    \n",
    "    "
   ]
  },
  {
   "cell_type": "code",
   "execution_count": null,
   "id": "c0c762c6",
   "metadata": {},
   "outputs": [],
   "source": []
  },
  {
   "cell_type": "code",
   "execution_count": 146,
   "id": "299f83f6",
   "metadata": {},
   "outputs": [
    {
     "name": "stdout",
     "output_type": "stream",
     "text": [
      "2000\n",
      "4000\n",
      "2500\n"
     ]
    }
   ],
   "source": [
    "# Q1. 기본가격 1000원인 3개의 상품에 대하여 임의의 추가 가격을 인수로 대입시 \n",
    "# 더한 가격을 산출하세요(클래스를 이용)\n",
    "\n",
    "class price:\n",
    "    def __init__(self):\n",
    "        self.result=1000\n",
    "    \n",
    "    def add(self,num):\n",
    "        self.result+=num\n",
    "        return self.result\n",
    "\n",
    "A1=price()\n",
    "A2=price()\n",
    "A3=price()\n",
    "\n",
    "print(A1.add(1000))\n",
    "print(A2.add(3000))\n",
    "print(A3.add(1500))"
   ]
  },
  {
   "cell_type": "code",
   "execution_count": 1,
   "id": "2a7c7ddc",
   "metadata": {},
   "outputs": [
    {
     "name": "stdout",
     "output_type": "stream",
     "text": [
      "추가할 가격을 입력해주세요>1500\n",
      "2500\n",
      "2250.0\n"
     ]
    }
   ],
   "source": [
    "# Q2. 기본가격 1000원인 2개의 상품에 대하여 임의의 추가 가격을 입력시 아래 두개의 \n",
    "# 방식으로 산출하세요(class 이용)\n",
    "# - price1 : 기본가격 + 추가가격\n",
    "# - price2 : (기본가격 + 추가가격) * 90%\n",
    "\n",
    "input_p= int(input('추가할 가격을 입력해주세요>'))\n",
    "class price:\n",
    "    def __init__(self):\n",
    "        self.result=1000\n",
    "        \n",
    "    def add(self,input_p):\n",
    "        self.result+=input_p\n",
    "        return self.result\n",
    "        \n",
    "    def add_disc(self,input_p):\n",
    "        self.result= (self.result+input_p)*0.9\n",
    "        return self.result\n",
    "        \n",
    "price_1= price()\n",
    "price_2= price()\n",
    "\n",
    "print(price_1.add(input_p))\n",
    "print(price_2.add_disc(input_p))"
   ]
  },
  {
   "cell_type": "code",
   "execution_count": 46,
   "id": "9dd4b78c",
   "metadata": {},
   "outputs": [
    {
     "name": "stdout",
     "output_type": "stream",
     "text": [
      "<class '__main__.tmdhey_'>\n"
     ]
    }
   ],
   "source": [
    "# Q3. 임의의 클래스를 작성한 후 인스턴스를 생성하고 그것의 타입을 확인하세요.\n",
    "\n",
    "class tmdhey_():\n",
    "    pass\n",
    "\n",
    "instance_1=tmdhey_()\n",
    "print(type(instance_1))\n",
    "\n",
    "    \n",
    "    ################################"
   ]
  },
  {
   "cell_type": "code",
   "execution_count": 47,
   "id": "ac4b192c",
   "metadata": {},
   "outputs": [
    {
     "name": "stdout",
     "output_type": "stream",
     "text": [
      "8\n",
      "2\n",
      "15\n",
      "1.6666666666666667\n"
     ]
    }
   ],
   "source": [
    "# Q4. 4칙 연산 기능을 포함한 Cal4 클래스(생성자 이용)를 작성하고 이 클래스를 \n",
    "# 이용하여 cal1 계산기 객체를 만든 후 두개의 수  5,3에 대한 사칙연산을 수행하세요.\n",
    "\n",
    "#객체만들때 자동호출 되니까 인자값 던져줌~\n",
    "\n",
    "class Cal4:\n",
    "    def __init__(self,a,b):\n",
    "        self.a=a\n",
    "        self.b=b\n",
    "        self.cal1=cal1\n",
    "    def add(self):\n",
    "        result= self.a+self.b\n",
    "        return result\n",
    "    def sub(self):\n",
    "        result=self.a-self.b\n",
    "        return result\n",
    "    def mul(self):\n",
    "        result=self.a*self.b\n",
    "        return result\n",
    "    def div(self):\n",
    "        try:\n",
    "            result=self.a/self.b\n",
    "            return result\n",
    "        except:\n",
    "            print('error')\n",
    "\n",
    "cal1= Cal4(5,3)\n",
    "print(cal1.add())\n",
    "print(cal1.sub())\n",
    "print(cal1.mul())\n",
    "print(cal1.div())\n",
    "\n"
   ]
  },
  {
   "cell_type": "code",
   "execution_count": 4,
   "id": "2c43134c",
   "metadata": {},
   "outputs": [
    {
     "name": "stdout",
     "output_type": "stream",
     "text": [
      "계산할 첫번째 수를 입력하세요>5\n",
      "계산할 두번째 수를 입력하세요>10\n"
     ]
    },
    {
     "ename": "AttributeError",
     "evalue": "'Cal4' object has no attribute 'a'",
     "output_type": "error",
     "traceback": [
      "\u001b[1;31m---------------------------------------------------------------------------\u001b[0m",
      "\u001b[1;31mAttributeError\u001b[0m                            Traceback (most recent call last)",
      "\u001b[1;32m<ipython-input-4-f9d703727751>\u001b[0m in \u001b[0;36m<module>\u001b[1;34m\u001b[0m\n\u001b[0;32m     31\u001b[0m \u001b[0mcal1\u001b[0m\u001b[1;33m=\u001b[0m \u001b[0mCal4\u001b[0m\u001b[1;33m(\u001b[0m\u001b[1;33m)\u001b[0m\u001b[1;33m\u001b[0m\u001b[1;33m\u001b[0m\u001b[0m\n\u001b[0;32m     32\u001b[0m \u001b[1;31m# 포맷으로 만들어보기\u001b[0m\u001b[1;33m\u001b[0m\u001b[1;33m\u001b[0m\u001b[1;33m\u001b[0m\u001b[0m\n\u001b[1;32m---> 33\u001b[1;33m \u001b[0mprint\u001b[0m\u001b[1;33m(\u001b[0m\u001b[0mcal1\u001b[0m\u001b[1;33m.\u001b[0m\u001b[0madd\u001b[0m\u001b[1;33m(\u001b[0m\u001b[1;33m)\u001b[0m\u001b[1;33m)\u001b[0m\u001b[1;33m\u001b[0m\u001b[1;33m\u001b[0m\u001b[0m\n\u001b[0m\u001b[0;32m     34\u001b[0m \u001b[0mprint\u001b[0m\u001b[1;33m(\u001b[0m\u001b[0mcal1\u001b[0m\u001b[1;33m.\u001b[0m\u001b[0msub\u001b[0m\u001b[1;33m(\u001b[0m\u001b[1;33m)\u001b[0m\u001b[1;33m)\u001b[0m\u001b[1;33m\u001b[0m\u001b[1;33m\u001b[0m\u001b[0m\n\u001b[0;32m     35\u001b[0m \u001b[0mprint\u001b[0m\u001b[1;33m(\u001b[0m\u001b[0mcal1\u001b[0m\u001b[1;33m.\u001b[0m\u001b[0mmul\u001b[0m\u001b[1;33m(\u001b[0m\u001b[1;33m)\u001b[0m\u001b[1;33m)\u001b[0m\u001b[1;33m\u001b[0m\u001b[1;33m\u001b[0m\u001b[0m\n",
      "\u001b[1;32m<ipython-input-4-f9d703727751>\u001b[0m in \u001b[0;36madd\u001b[1;34m(self)\u001b[0m\n\u001b[0;32m     14\u001b[0m         \u001b[0mself\u001b[0m\u001b[1;33m.\u001b[0m\u001b[0mcal1\u001b[0m\u001b[1;33m=\u001b[0m\u001b[0mcal1\u001b[0m\u001b[1;33m\u001b[0m\u001b[1;33m\u001b[0m\u001b[0m\n\u001b[0;32m     15\u001b[0m     \u001b[1;32mdef\u001b[0m \u001b[0madd\u001b[0m\u001b[1;33m(\u001b[0m\u001b[0mself\u001b[0m\u001b[1;33m)\u001b[0m\u001b[1;33m:\u001b[0m\u001b[1;33m\u001b[0m\u001b[1;33m\u001b[0m\u001b[0m\n\u001b[1;32m---> 16\u001b[1;33m         \u001b[0mresult\u001b[0m\u001b[1;33m=\u001b[0m \u001b[0mself\u001b[0m\u001b[1;33m.\u001b[0m\u001b[0ma\u001b[0m\u001b[1;33m+\u001b[0m\u001b[0mself\u001b[0m\u001b[1;33m.\u001b[0m\u001b[0mb\u001b[0m\u001b[1;33m\u001b[0m\u001b[1;33m\u001b[0m\u001b[0m\n\u001b[0m\u001b[0;32m     17\u001b[0m         \u001b[1;32mreturn\u001b[0m \u001b[0mresult\u001b[0m\u001b[1;33m\u001b[0m\u001b[1;33m\u001b[0m\u001b[0m\n\u001b[0;32m     18\u001b[0m     \u001b[1;32mdef\u001b[0m \u001b[0msub\u001b[0m\u001b[1;33m(\u001b[0m\u001b[0mself\u001b[0m\u001b[1;33m)\u001b[0m\u001b[1;33m:\u001b[0m\u001b[1;33m\u001b[0m\u001b[1;33m\u001b[0m\u001b[0m\n",
      "\u001b[1;31mAttributeError\u001b[0m: 'Cal4' object has no attribute 'a'"
     ]
    }
   ],
   "source": [
    "# Q5. 4칙 연산 기능을 포함한 Cal4 클래스(set 메소드 이용)를 작성하고 이 클래스를 \n",
    "# 이용하여 cal 계산기 객체를 만든 후 두개의 수를 입력하여 사칙연산을 수행한 결과를 \n",
    "# 출력하세요.\n",
    "\n",
    "#메서드는 입력하든지 객체 만들어놓고 객체이용해서 메서드에 인자값줌\n",
    "#########################################################\n",
    "a= int(input('계산할 첫번째 수를 입력하세요>'))\n",
    "b= int(input('계산할 두번째 수를 입력하세요>'))\n",
    "              \n",
    "class Cal4:\n",
    "    def setata(self,a,b):\n",
    "        self.a=a\n",
    "        self.b=b\n",
    "        self.cal1=cal1\n",
    "    def add(self):\n",
    "        result= self.a+self.b\n",
    "        return result\n",
    "    def sub(self):\n",
    "        result=self.a-self.b\n",
    "        return result\n",
    "    def mul(self):\n",
    "        result=self.a*self.b\n",
    "        return result\n",
    "    def div(self):\n",
    "        try:\n",
    "            result=self.a/self.b\n",
    "            return result\n",
    "        except:\n",
    "            print('error')\n",
    "    \n",
    "cal1= Cal4()\n",
    "# 포맷으로 만들어보기 \n",
    "print(cal1.add())\n",
    "print(cal1.sub())\n",
    "print(cal1.mul())\n",
    "print(cal1.div())"
   ]
  },
  {
   "cell_type": "code",
   "execution_count": 51,
   "id": "c4265914",
   "metadata": {},
   "outputs": [
    {
     "name": "stdout",
     "output_type": "stream",
     "text": [
      "1000\n"
     ]
    }
   ],
   "source": [
    "# Q6. Order 클래스를 상속받아 extraOrder 클래스를 작성하고 extraCustomer의 \n",
    "# 주문가격을 다음과 같이 산출하였다. \n",
    "# ExtraOrder 클래스를 작성하세요\n",
    "\n",
    "class Order: \n",
    "    def __init__(self, name): \n",
    "        self.customer = 0 \n",
    "        self.name = name \n",
    "    def order(self, price): \n",
    "        self.customer += price \n",
    "        return self.customer \n",
    "    \n",
    "class ExtraOrder(Order): \n",
    "    pass \n",
    "\n",
    "extraCustomer = ExtraOrder('kevin') \n",
    "print(extraCustomer.order(1000))"
   ]
  },
  {
   "cell_type": "code",
   "execution_count": 53,
   "id": "562cadc9",
   "metadata": {},
   "outputs": [
    {
     "name": "stdout",
     "output_type": "stream",
     "text": [
      "1000\n"
     ]
    }
   ],
   "source": [
    "\n",
    "class Order: \n",
    "    def __init__(self, name): \n",
    "        self.customer = 0 \n",
    "        self.name = name \n",
    "    def order(self, price): \n",
    "        self.customer += price \n",
    "        return self.customer \n",
    "    \n",
    "class ExtraOrder(Order): \n",
    "    def extraorder(self,price):\n",
    "        self.extracustomer+=price\n",
    "        return self.extracuustomer\n",
    "        \n",
    "\n",
    "extraCustomer = ExtraOrder('kevin') \n",
    "print(extraCustomer.order(1000))\n",
    "\n",
    "#############잘 모르겠음 ㅠㅠ ;"
   ]
  },
  {
   "cell_type": "code",
   "execution_count": 15,
   "id": "d9e57d52",
   "metadata": {},
   "outputs": [
    {
     "name": "stdout",
     "output_type": "stream",
     "text": [
      "1000원\n"
     ]
    }
   ],
   "source": [
    "# Q7. Order 클래스를 상속받아 extraOrder 클래스에서 메소드 오버라이딩하여 출력가격에 \n",
    "# '원'이 추가되도록 출력하세요\n",
    "\n",
    "class Order: \n",
    "    def __init__(self, name): \n",
    "        self.customer = 0 \n",
    "        self.name = name \n",
    "    def order(self, price): \n",
    "        self.customer += price \n",
    "        return self.customer \n",
    "    \n",
    "class ExtraOrder(Order): \n",
    "    def order(self, price): \n",
    "        self.customer += price \n",
    "        return str(self.customer)+'원'\n",
    "    #= return\"{}원\".format(self.customer)\n",
    "    \n",
    "extraCustomer = ExtraOrder('kevin') \n",
    "print(extraCustomer.order(1000))\n",
    "\n",
    "##https://ebbnflow.tistory.com/255"
   ]
  },
  {
   "cell_type": "code",
   "execution_count": 66,
   "id": "fe848717",
   "metadata": {},
   "outputs": [
    {
     "name": "stdout",
     "output_type": "stream",
     "text": [
      "안녕하세요 kevin님,\n",
      "업무미팅은 2시 입니다.\n"
     ]
    }
   ],
   "source": [
    "# Q8. 업무미팅이 2시임을 알려주는 자동 이메일을 클래스 AutoEmail을 작성하여 \n",
    "# 아래와 같이 출력하세요.\n",
    "# 안녕하세요. kevin님, \n",
    "# 업무미팅은 2시입니다.\n",
    "\n",
    "class AutoEmail():\n",
    "    def __init__(self,name,time):\n",
    "        self.name=name\n",
    "        self.time=time\n",
    "        \n",
    "    def mail_(self):\n",
    "        print('안녕하세요 {}님,\\n업무미팅은 {}시 입니다.'.format(self.name, self.time))\n",
    "        \n",
    "a=AutoEmail('kevin',2)\n",
    "a.mail_()"
   ]
  },
  {
   "cell_type": "markdown",
   "id": "af4b0d1d",
   "metadata": {},
   "source": [
    "날짜/시간"
   ]
  },
  {
   "cell_type": "code",
   "execution_count": 2,
   "id": "c48ac7bb",
   "metadata": {},
   "outputs": [
    {
     "name": "stdout",
     "output_type": "stream",
     "text": [
      "ddMon Dec 28 22:02:17 2020\n"
     ]
    }
   ],
   "source": [
    "# Q1. 1609160537.371015을 \"Sat Jun 26 08:35:03 2021\" 포멧으로 출력하세요.\n",
    "\n",
    "import time\n",
    "t= time.localtime(1609160537.371015)\n",
    "print ('{}'.format(time.asctime(t)))\n"
   ]
  },
  {
   "cell_type": "code",
   "execution_count": 88,
   "id": "de550e80",
   "metadata": {},
   "outputs": [
    {
     "ename": "TypeError",
     "evalue": "Tuple or struct_time argument required",
     "output_type": "error",
     "traceback": [
      "\u001b[1;31m---------------------------------------------------------------------------\u001b[0m",
      "\u001b[1;31mTypeError\u001b[0m                                 Traceback (most recent call last)",
      "\u001b[1;32m<ipython-input-88-baf82bea9954>\u001b[0m in \u001b[0;36m<module>\u001b[1;34m\u001b[0m\n\u001b[0;32m      2\u001b[0m \u001b[1;32mimport\u001b[0m \u001b[0mtime\u001b[0m\u001b[1;33m\u001b[0m\u001b[1;33m\u001b[0m\u001b[0m\n\u001b[0;32m      3\u001b[0m \u001b[0mt\u001b[0m\u001b[1;33m=\u001b[0m \u001b[0mdatetime\u001b[0m\u001b[1;33m.\u001b[0m\u001b[0mdatetime\u001b[0m\u001b[1;33m\u001b[0m\u001b[1;33m\u001b[0m\u001b[0m\n\u001b[1;32m----> 4\u001b[1;33m \u001b[0mprint\u001b[0m\u001b[1;33m(\u001b[0m\u001b[1;34m\"{}\"\u001b[0m\u001b[1;33m.\u001b[0m\u001b[0mformat\u001b[0m\u001b[1;33m(\u001b[0m\u001b[0mtime\u001b[0m\u001b[1;33m.\u001b[0m\u001b[0masctime\u001b[0m\u001b[1;33m(\u001b[0m\u001b[0mt\u001b[0m\u001b[1;33m)\u001b[0m\u001b[1;33m)\u001b[0m\u001b[1;33m)\u001b[0m\u001b[1;33m\u001b[0m\u001b[1;33m\u001b[0m\u001b[0m\n\u001b[0m",
      "\u001b[1;31mTypeError\u001b[0m: Tuple or struct_time argument required"
     ]
    }
   ],
   "source": [
    "# Q2. 현재 날짜와 시간을 \"Sat Jun 26 08:35:03 2021\" 포멧으로 출력하세요.\n",
    "import time\n",
    "t= time.localtime()\n",
    "print(\"{}\".format(time.asctime(t)))"
   ]
  },
  {
   "cell_type": "code",
   "execution_count": 90,
   "id": "48c4ebf5",
   "metadata": {},
   "outputs": [
    {
     "name": "stdout",
     "output_type": "stream",
     "text": [
      "2021년-6월-28일 17시:47분:0초\n"
     ]
    }
   ],
   "source": [
    "# Q3. 현재 시간을 년-월-일 시:분:초로 출력하세요.\n",
    "\n",
    "import datetime\n",
    "t= datetime.datetime.now()\n",
    "print('{}년-{}월-{}일 {}시:{}분:{}초'.format(t.year,t.month,t.day,t.hour,t.minute,t.second))\n",
    "\n"
   ]
  },
  {
   "cell_type": "code",
   "execution_count": 10,
   "id": "daa6381c",
   "metadata": {},
   "outputs": [
    {
     "data": {
      "text/plain": [
       "'2021-06-29 09:44:11'"
      ]
     },
     "execution_count": 10,
     "metadata": {},
     "output_type": "execute_result"
    }
   ],
   "source": [
    "import time\n",
    "t= time.time()\n",
    "ct= time.strftime(\"%Y-%m-%d %X\", time.localtime(t))\n",
    "ct"
   ]
  },
  {
   "cell_type": "code",
   "execution_count": 100,
   "id": "60c05326",
   "metadata": {},
   "outputs": [
    {
     "name": "stdout",
     "output_type": "stream",
     "text": [
      "178 days, 0:00:00\n"
     ]
    }
   ],
   "source": [
    "# Q4. 올해 경과된 날짜수 계산하세요\n",
    "\n",
    "import datetime\n",
    "f=datetime.datetime(2021,1,1).date()\n",
    "t=datetime.datetime.today().date()\n",
    "print(str(t-f))"
   ]
  },
  {
   "cell_type": "code",
   "execution_count": 11,
   "id": "5ce28d23",
   "metadata": {},
   "outputs": [
    {
     "data": {
      "text/plain": [
       "datetime.timedelta(days=178)"
      ]
     },
     "execution_count": 11,
     "metadata": {},
     "output_type": "execute_result"
    }
   ],
   "source": [
    "import datetime\n",
    "datetime.datetime(2021,6,28)-datetime.datetime(2021,1,1)\n"
   ]
  },
  {
   "cell_type": "code",
   "execution_count": 131,
   "id": "fc21c4d3",
   "metadata": {},
   "outputs": [
    {
     "name": "stdout",
     "output_type": "stream",
     "text": [
      "2021-06-28 오늘은 월요일입니다.\n"
     ]
    }
   ],
   "source": [
    "# Q5. 현재 요일을 \"2021-6-26 오늘은 토요일입니다.\"와 같은 형식으로 출력하세요.\n",
    "\n",
    "import datetime as dt\n",
    "today=dt.date.today()\n",
    "whatday=today.weekday()\n",
    "\n",
    "if whatday==0:\n",
    "    whatday='월'\n",
    "elif whatday==1:\n",
    "    whatday='화'\n",
    "elif whatday==2:\n",
    "    whatday='수'\n",
    "elif whatday==3:\n",
    "    whatday='목'\n",
    "elif whatday==4:\n",
    "    whatday='금'\n",
    "elif whatday==5:\n",
    "    whatday='토'\n",
    "elif whatday==6:\n",
    "    whatday='일'\n",
    "\n",
    "\n",
    "print(\"{} 오늘은 {}요일입니다.\". format(today,whatday))"
   ]
  },
  {
   "cell_type": "code",
   "execution_count": 132,
   "id": "92d4b0da",
   "metadata": {},
   "outputs": [
    {
     "name": "stdout",
     "output_type": "stream",
     "text": [
      "2021-06-28 오늘은 월요일입니다.\n"
     ]
    }
   ],
   "source": [
    "import datetime as dt\n",
    "today=dt.date.today()\n",
    "whatday=['월','화','수','목','금','토','일']\n",
    "W=whatday[today.weekday()]\n",
    "\n",
    "print(\"{} 오늘은 {}요일입니다.\". format(today,W))"
   ]
  },
  {
   "cell_type": "code",
   "execution_count": 13,
   "id": "18b0ab61",
   "metadata": {},
   "outputs": [
    {
     "name": "stdout",
     "output_type": "stream",
     "text": [
      "1.25 (ms)\n"
     ]
    }
   ],
   "source": [
    "\n",
    "# 1000 밀리초(ms) = 1초\n",
    "# Q6. 1에서 백만까지 더하는데 걸리는 프로그램 실행 시간을 밀리초(ms) 단위로 구하세요.\n",
    "\n",
    "import datetime\n",
    "t1=time.process_time()\n",
    "\n",
    "sum=0\n",
    "for i in range(1,1000001):\n",
    "    sum+=i\n",
    "t2=time.process_time()\n",
    "\n",
    "Result=(t2-t1)\n",
    "Result*=10\n",
    "print(Result,'(ms)')\n"
   ]
  },
  {
   "cell_type": "code",
   "execution_count": null,
   "id": "53d50f4d",
   "metadata": {},
   "outputs": [],
   "source": [
    "# 보너스 문제\n",
    "name = ['고영남', '김광훈', '김동일', '김진', '박기범', '박민아', '박시우', '배송이', '송유빈', '신인철',\n",
    "       '양인석','오수문','우동주','이덕재','이민찬','이범준','이슬','이원진','이종현','임희진',\n",
    "       '정하림','조경림','조현정','진유훈','채승혜','최윤진','최한결','최혜정','하도원','안아름']\n",
    "# Q. 발표할 인원을 입력하면 랜덤으로 발표자를 리스트로 출력해주는 프로그램을 \n",
    "# 작성하세요.(중복 허용하지 않음)\n"
   ]
  },
  {
   "cell_type": "code",
   "execution_count": 1,
   "id": "1dbd2374",
   "metadata": {},
   "outputs": [
    {
     "name": "stdout",
     "output_type": "stream",
     "text": [
      "발표할 인원을 입력하세요>5\n",
      "[5, 19, 9, 18, 22]\n"
     ]
    }
   ],
   "source": [
    "import random\n",
    "list_1=[]\n",
    "nums=int(input('발표할 인원을 입력하세요>'))\n",
    "\n",
    "for i in range(nums):\n",
    "    a=random.randint(0,30)\n",
    "    list_1.append(a)\n",
    "    \n",
    "print(list_1)"
   ]
  },
  {
   "cell_type": "code",
   "execution_count": 2,
   "id": "428fe5dc",
   "metadata": {},
   "outputs": [
    {
     "name": "stdout",
     "output_type": "stream",
     "text": [
      "발표할 인원을 입력하세요>8\n",
      "['양인석', '박시우', '이종현', '배송이', '박민아', '박시우', '이덕재', '이원진']\n"
     ]
    }
   ],
   "source": [
    "import random\n",
    "\n",
    "list_1=[]\n",
    "nums=int(input('발표할 인원을 입력하세요>'))\n",
    "\n",
    "for i in range(nums):\n",
    "    a=random.randint(0,29)\n",
    "    list_1.append(a)\n",
    "    \n",
    "list_2=[]\n",
    "name = ['고영남', '김광훈', '김동일', '김진', '박기범', '박민아', '박시우', '배송이', '송유빈', '신인철',\n",
    "       '양인석','오수문','우동주','이덕재','이민찬','이범준','이슬','이원진','이종현','임희진',\n",
    "       '정하림','조경림','조현정','진유훈','채승혜','최윤진','최한결','최혜정','하도원','한아름']\n",
    "for i in list_1:\n",
    "    b=name[i]\n",
    "    list_2.append(b)\n",
    "print(list_2)"
   ]
  },
  {
   "cell_type": "code",
   "execution_count": null,
   "id": "0b0cd34c",
   "metadata": {},
   "outputs": [],
   "source": []
  }
 ],
 "metadata": {
  "kernelspec": {
   "display_name": "Python 3",
   "language": "python",
   "name": "python3"
  },
  "language_info": {
   "codemirror_mode": {
    "name": "ipython",
    "version": 3
   },
   "file_extension": ".py",
   "mimetype": "text/x-python",
   "name": "python",
   "nbconvert_exporter": "python",
   "pygments_lexer": "ipython3",
   "version": "3.8.10"
  }
 },
 "nbformat": 4,
 "nbformat_minor": 5
}

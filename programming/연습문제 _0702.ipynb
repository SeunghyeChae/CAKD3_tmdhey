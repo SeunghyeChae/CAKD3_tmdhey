{
 "cells": [
  {
   "cell_type": "code",
   "execution_count": 11,
   "id": "357805e0",
   "metadata": {},
   "outputs": [
    {
     "name": "stdout",
     "output_type": "stream",
     "text": [
      "123,456,789\n"
     ]
    }
   ],
   "source": [
    "#123456789를 입력하면 천단위로 콤마 구분 출력\n",
    "a=123456789\n",
    "print(\"{:,}\".format(a))"
   ]
  },
  {
   "cell_type": "code",
   "execution_count": null,
   "id": "e5e0ae54",
   "metadata": {},
   "outputs": [],
   "source": [
    "Q=[\"요소A\",\"요소B\",\"요소C\"]를 파이썬 내장함수를 이용하여 다음과 같이 출력\n",
    "0번째 요소는 요소A입니다\n",
    "2번째 - \n",
    "3번째-\n",
    "list_1 = ['a','b','c']\n",
    "for i,value in enumerate(list_1):\n",
    "    print('{}번째 요소는 {}입니다.'.format(i,value))"
   ]
  },
  {
   "cell_type": "code",
   "execution_count": 10,
   "id": "e84e4f26",
   "metadata": {},
   "outputs": [
    {
     "name": "stdout",
     "output_type": "stream",
     "text": [
      "(2, 17)\n"
     ]
    }
   ],
   "source": [
    "#97을 40으로 나눈 몫과 나머지를 내장함수를 이용하여 구하기 (튜플로 출력)\n",
    "\n",
    "a= divmod(97,40)\n",
    "print(a)"
   ]
  },
  {
   "cell_type": "code",
   "execution_count": null,
   "id": "ceff694b",
   "metadata": {},
   "outputs": [],
   "source": [
    "W=[52,273,32,72,100]로 변수 선언하고 정수를 입력하면 그 정수 인덱스와 리스트에서 해당하는 값을 출력하는 프로그램 작성\n",
    "단 모든 예외처리 수행 특히 ValueError와 IndexError는 별도 구분해서 예외처리한후 예외처리 완료를 마지막으로 출력\n",
    "\n",
    "\n",
    "4입력시 \n",
    "정수입력> 4\n",
    "4번째요소: 100 예외처리 완료\n",
    "\n",
    "정수입력>가\n",
    "정수를 입력해주세요! 예외처리완료\n",
    "\n",
    "정수입력>5\n",
    "리스트의 인덱스를 벗어났어요! 예외처리완료\n",
    "\n",
    "\n",
    "\n",
    "\n",
    "list_num = [52,273,32,72,100]\n",
    "try:\n",
    "    num_input = int(input('정수 입력> '))\n",
    "    print('{}번째 요소: {}'.format(num_input, list_num[num_input]))\n",
    "    예외.발생()\n",
    "except ValueError as exception:\n",
    "    print('정수를 입력해 주세요.')\n",
    "    print(type(exception),exception)\n",
    "except IndexError as exception:\n",
    "    print('리스트의 인덱스를 벗어났어요.')\n",
    "    print(type(exception),exception)\n",
    "\n",
    "except Exception as e:\n",
    "    print(e)\n",
    "    \n",
    "finally:\n",
    "    print('모든 예외 처리')\n",
    "    \n"
   ]
  },
  {
   "cell_type": "code",
   "execution_count": null,
   "id": "17dda0d3",
   "metadata": {},
   "outputs": [],
   "source": [
    "#사용자로부터 서로 다른 숫자 두 개를 입력받고 첫 번째와 두 번째중 큰 숫자를 구하는 프로그램\n",
    "\n",
    "a=input(\"Enter first number: \")\n",
    "b=input(\"Enter second number: \")\n",
    "if (a >= b):\n",
    "    \n",
    "elif (b >= a) and (b >= c):\n",
    "    largest=b\n",
    "else:\n",
    "    largest=c\n",
    "print(largest, \"is the greatest of all\")\n",
    " \n"
   ]
  },
  {
   "cell_type": "code",
   "execution_count": null,
   "id": "fd1270d8",
   "metadata": {},
   "outputs": [],
   "source": [
    "1부터 100까지 다음과같은 방식으로 2개의 수를 곱해서 가장 큰 수를 구하기"
   ]
  },
  {
   "cell_type": "code",
   "execution_count": 19,
   "id": "faa5b48f",
   "metadata": {},
   "outputs": [
    {
     "name": "stdout",
     "output_type": "stream",
     "text": [
      "032-232-3245\n"
     ]
    }
   ],
   "source": [
    "#정규표현식에서 지역코드만 출력\n",
    "import re\n",
    "text=\"문의사항이 있으면 032-232-3245 으로 연락주시기 바랍니다.\"\n",
    "p=re.compile('\\d+-\\d+-\\d+') # (r'\\b[0-9-]+\\b')\n",
    "z=(p.search(text))\n",
    "print(z.group())"
   ]
  },
  {
   "cell_type": "code",
   "execution_count": null,
   "id": "a0fe8438",
   "metadata": {},
   "outputs": [],
   "source": [
    "#'abcdefghij'에 중첩을 적용한 서브그룹 5개로 컴파일하여\n",
    "#group()함수를 이용해서 'abcdefghi'와 'e'출력"
   ]
  },
  {
   "cell_type": "code",
   "execution_count": null,
   "id": "6bf87ca4",
   "metadata": {},
   "outputs": [],
   "source": [
    "#ex )\n",
    "import re\n",
    "\n",
    "text = \"I like apble And abple\"\n",
    "text_mod = re.sub('apble|abple',\"apple\",text)\n",
    "print (text_mod)"
   ]
  },
  {
   "cell_type": "code",
   "execution_count": 20,
   "id": "3a6a1439",
   "metadata": {},
   "outputs": [
    {
     "name": "stdout",
     "output_type": "stream",
     "text": [
      "abcdefghi\n",
      "e\n"
     ]
    }
   ],
   "source": [
    "import re\n",
    "text='abcdefghij'\n",
    "text_1= re.sub('abcdefghij','abcdefghi',text)\n",
    "text_2= re.sub('abcdefghi','e',text_1)\n",
    "\n",
    "print(text_1)\n",
    "print(text_2)"
   ]
  },
  {
   "cell_type": "code",
   "execution_count": null,
   "id": "9e72d7de",
   "metadata": {},
   "outputs": [],
   "source": []
  },
  {
   "cell_type": "code",
   "execution_count": null,
   "id": "9c163929",
   "metadata": {},
   "outputs": [],
   "source": []
  },
  {
   "cell_type": "code",
   "execution_count": 16,
   "id": "a69cd932",
   "metadata": {},
   "outputs": [
    {
     "name": "stdout",
     "output_type": "stream",
     "text": [
      "[0, 1, 2, 3, 4, 5, 6, 7, 8, 'b', 'c']\n"
     ]
    }
   ],
   "source": [
    "#[0,1,2,3,4,5,6,7,8,9,'a','b','c']에서 9와 a를 삭제후 리스트로 출력\n",
    "\n",
    "list_2=[0,1,2,3,4,5,6,7,8,9,'a','b','c']\n",
    "list_2.remove(9)\n",
    "list_2.remove('a')\n",
    "print(list_2)"
   ]
  },
  {
   "cell_type": "code",
   "execution_count": null,
   "id": "2f9f8eb7",
   "metadata": {},
   "outputs": [],
   "source": [
    "500-1000사이 정수중 5와 7의 공배수의 합"
   ]
  },
  {
   "cell_type": "code",
   "execution_count": null,
   "id": "9423cab8",
   "metadata": {},
   "outputs": [],
   "source": [
    "[]를 채워서 다음 출력\n",
    "numbers=[1,2,3,4,5,6,7,8,9]\n",
    "output=[[],[],[]]\n",
    "\n",
    "for number in numbers:\n",
    "    output[     ].append(number)\n",
    "print(output)\n"
   ]
  },
  {
   "cell_type": "code",
   "execution_count": null,
   "id": "52edc49a",
   "metadata": {},
   "outputs": [],
   "source": [
    "numbers내부에 들어있는 숫자가 몇 번 등장하는지 출력하는 코드 \n",
    "numbers=[3,6,3,5,8,2,9,7,4,3,6,3,5,8,2,9,7,4]\n",
    "\n",
    "X= sorted(set(numbers))\n",
    "\n",
    "for a in X:\n",
    "    print(\"{}는 numbers에 {}번 등장합니다.\".format(a,numbers.count(a)))"
   ]
  },
  {
   "cell_type": "code",
   "execution_count": null,
   "id": "a78ea2eb",
   "metadata": {},
   "outputs": [],
   "source": [
    "# 클래스 country 완성해서 아래와같이 출력\n",
    "class Country:\n",
    "    def country(self,a):\n",
    "        self.a=a\n",
    "    def people(self.b):\n",
    "        self.b=b\n",
    "    def where(self.c):\n",
    "        self.c=c\n",
    "\n",
    "class Korea(Country):\n",
    "    def desc(self):\n",
    "        \n",
    "        \n",
    "    def desc1(self,gnp):\n",
    "        self.gnp=gnp\n",
    "        print('1 인당 gnp는 USD %d만 입니다.' %self.gnp)\n",
    "        \n",
    "\n",
    "obj= Korea('한국',5,'서울')\n",
    "obj.desc()\n",
    "obj.desc1(3)\n",
    "\n",
    "한국의 인구는 5천만명이며 수도는 서울입니다\n",
    "1인당 gnp는 USD3 마ㄴ입니다"
   ]
  },
  {
   "cell_type": "code",
   "execution_count": 8,
   "id": "b7749239",
   "metadata": {},
   "outputs": [
    {
     "data": {
      "text/plain": [
       "15"
      ]
     },
     "execution_count": 8,
     "metadata": {},
     "output_type": "execute_result"
    }
   ],
   "source": [
    "# 사칙연산 수행 클래스 작성해서 객체를 만들고 / 2개의 정수 10,5를 입력한 후 연산결과를 포멧 이용하여 출력\n",
    "\n",
    "class cal_:\n",
    "    def setdata(self, a,b):\n",
    "        self.a=a\n",
    "        self.b=b\n",
    "    def add(self):\n",
    "        result= self.a+self.b\n",
    "        return result\n",
    "    def sub(self):\n",
    "        result=self.a-self.b\n",
    "        return result\n",
    "    def div(self):\n",
    "        result= self.a/self.b\n",
    "        return result\n",
    "    def mul(self):\n",
    "        result= self.a*self.b\n",
    "\n",
    "p=cal_()\n",
    "p.setdata(10,5)\n",
    "p.add()"
   ]
  },
  {
   "cell_type": "code",
   "execution_count": null,
   "id": "a6dede81",
   "metadata": {},
   "outputs": [],
   "source": [
    "#올해 경과된 날짜수 계산 출력 \n",
    "import datetime\n",
    "f=datetime.datetime(2021,1,1).date()\n",
    "t=datetime.datetime.today().date()\n",
    "print(str(t-f))"
   ]
  },
  {
   "cell_type": "code",
   "execution_count": null,
   "id": "e85ace3e",
   "metadata": {},
   "outputs": [],
   "source": [
    "#2015년 인기순 상위 5개 여아이름별 출생아수 출력\n",
    "for y in range(1880,2016):\n",
    "    with open('data/names/yob%d.txt' %y,'r') as f:\n",
    "        count = 0\n",
    "        while 1:\n",
    "            line = f.readline()\n",
    "            if not line:\n",
    "                break\n",
    "            line = line.split(',')\n",
    "            count += int(line[2])\n",
    "                \n",
    "                \n",
    "        print (f\"{y}년도 출생아 수 : {count}\")"
   ]
  },
  {
   "cell_type": "code",
   "execution_count": null,
   "id": "da4e9182",
   "metadata": {},
   "outputs": [],
   "source": []
  },
  {
   "cell_type": "code",
   "execution_count": null,
   "id": "e730dbf1",
   "metadata": {},
   "outputs": [],
   "source": []
  }
 ],
 "metadata": {
  "kernelspec": {
   "display_name": "Python 3",
   "language": "python",
   "name": "python3"
  },
  "language_info": {
   "codemirror_mode": {
    "name": "ipython",
    "version": 3
   },
   "file_extension": ".py",
   "mimetype": "text/x-python",
   "name": "python",
   "nbconvert_exporter": "python",
   "pygments_lexer": "ipython3",
   "version": "3.8.10"
  }
 },
 "nbformat": 4,
 "nbformat_minor": 5
}

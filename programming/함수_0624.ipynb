{
 "cells": [
  {
   "cell_type": "code",
   "execution_count": 1,
   "id": "19644b0c",
   "metadata": {},
   "outputs": [
    {
     "name": "stdout",
     "output_type": "stream",
     "text": [
      "Hi\n"
     ]
    }
   ],
   "source": [
    "# 입력값이 없고 결과값만 있는 함수\n",
    "\n",
    "def say():\n",
    "    return 'Hi'\n",
    "\n",
    "a= say()\n",
    "print(a)"
   ]
  },
  {
   "cell_type": "code",
   "execution_count": 2,
   "id": "b22a0e01",
   "metadata": {},
   "outputs": [
    {
     "data": {
      "text/plain": [
       "5"
      ]
     },
     "execution_count": 2,
     "metadata": {},
     "output_type": "execute_result"
    }
   ],
   "source": [
    "#결과값(return) 없는 함수\n",
    "\n",
    "def add(a,b):\n",
    "    print(a+b)\n",
    "add(2,3)\n",
    "\n"
   ]
  },
  {
   "cell_type": "code",
   "execution_count": 3,
   "id": "1a5eb908",
   "metadata": {},
   "outputs": [
    {
     "name": "stdout",
     "output_type": "stream",
     "text": [
      "hi\n"
     ]
    }
   ],
   "source": [
    "#입력값도 결과값도 없는 함수\n",
    "\n",
    "def say():\n",
    "    print('hi')\n",
    "say()"
   ]
  },
  {
   "cell_type": "code",
   "execution_count": 5,
   "id": "d87e1253",
   "metadata": {},
   "outputs": [
    {
     "data": {
      "text/plain": [
       "55"
      ]
     },
     "execution_count": 5,
     "metadata": {},
     "output_type": "execute_result"
    }
   ],
   "source": [
    "# 여러 개의 입력값을 받는 함수**\n",
    "\n",
    "def sum_many(*args):\n",
    "    sum=0\n",
    "    for i in args:\n",
    "        sum +=i\n",
    "    return sum\n",
    "sum_many(1,2,3,4,5,6,7,8,9,10)"
   ]
  },
  {
   "cell_type": "code",
   "execution_count": 6,
   "id": "95847088",
   "metadata": {},
   "outputs": [
    {
     "name": "stdout",
     "output_type": "stream",
     "text": [
      "(7, 12)\n"
     ]
    }
   ],
   "source": [
    "#함수의 반환(결과값)은 언제나 하나임 - 결과값으로 튜플 값 \n",
    "\n",
    "def add_and_mul(a,b):\n",
    "    return a+b,a*b\n",
    "result= add_and_mul(3,4)\n",
    "print(result)"
   ]
  },
  {
   "cell_type": "code",
   "execution_count": 36,
   "id": "54724b83",
   "metadata": {},
   "outputs": [
    {
     "name": "stdout",
     "output_type": "stream",
     "text": [
      "5 6\n"
     ]
    }
   ],
   "source": [
    "## 리턴은 하나.지만 이렇게 할 수는 있음 ~ \n",
    "\n",
    "def add_and_mul(a,b):\n",
    "    return a+b, a*b\n",
    "result1,result2= add_and_mul(2,3)\n",
    "print(result1,result2)"
   ]
  },
  {
   "cell_type": "code",
   "execution_count": null,
   "id": "0077ced2",
   "metadata": {},
   "outputs": [],
   "source": []
  },
  {
   "cell_type": "code",
   "execution_count": 27,
   "id": "51d1bd3d",
   "metadata": {},
   "outputs": [
    {
     "name": "stdout",
     "output_type": "stream",
     "text": [
      "15\n"
     ]
    },
    {
     "data": {
      "text/plain": [
       "120"
      ]
     },
     "execution_count": 27,
     "metadata": {},
     "output_type": "execute_result"
    }
   ],
   "source": [
    "#Q. add_mul()함수를 정의하여 1,2,3,4,5를 입력값으로 적용하여 덧셈,곱셈 연산을 수행\n",
    "# 입력값으로 연산 방법과 숫자를 입력\n",
    "#add_mul('add', 1,2,3,4,5)\n",
    "\n",
    "def add_mul(choice, *args): \n",
    "    if choice =='add':\n",
    "        result=0\n",
    "        for i in args:\n",
    "            result +=i\n",
    "    elif choice =='mul':\n",
    "        result=1\n",
    "        for i in args:\n",
    "            result *=i\n",
    "    return result\n",
    "print(add_mul('add',1,2,3,4,5))\n",
    "add_mul('mul',1,2,3,4,5)\n"
   ]
  },
  {
   "cell_type": "code",
   "execution_count": 38,
   "id": "4026c0dd",
   "metadata": {},
   "outputs": [
    {
     "name": "stdout",
     "output_type": "stream",
     "text": [
      "나의 별명은 야호입니다\n"
     ]
    },
    {
     "data": {
      "text/plain": [
       "'아니야!'"
      ]
     },
     "execution_count": 38,
     "metadata": {},
     "output_type": "execute_result"
    }
   ],
   "source": [
    "#문자열을 출력한다는 것과 리턴 값이 있다는 것은 전혀 다른 것임\n",
    "#리턴값은 함수갑ㅅ을 출력한다는것...\n",
    "\n",
    "def say_nick(nick):\n",
    "    if nick=='바보':\n",
    "        return '아니야!'\n",
    "    print('나의 별명은 %s입니다'%nick)\n",
    "    \n",
    "say_nick('야호')\n",
    "say_nick('바보')"
   ]
  },
  {
   "cell_type": "code",
   "execution_count": 41,
   "id": "1bf0a44d",
   "metadata": {},
   "outputs": [
    {
     "name": "stdout",
     "output_type": "stream",
     "text": [
      "나의 이름은 홍길동입니다\n",
      "나이는 20살 입니다.\n",
      "여자입니다.\n"
     ]
    }
   ],
   "source": [
    "#입력 인수에 초기값 미리 설정하기\n",
    "\n",
    "def say_myself(name,old,man=True):\n",
    "    print('나의 이름은 %s입니다'%name)\n",
    "    print('나이는 %d살 입니다.'%old)\n",
    "    if man:\n",
    "        print('남자입니다.')\n",
    "    else:\n",
    "        print('여자입니다.')\n",
    "        \n",
    "say_myself('홍길동',20,False)"
   ]
  },
  {
   "cell_type": "code",
   "execution_count": 43,
   "id": "a4ff0f9e",
   "metadata": {},
   "outputs": [
    {
     "ename": "SyntaxError",
     "evalue": "non-default argument follows default argument (<ipython-input-43-9fab6ef98280>, line 2)",
     "output_type": "error",
     "traceback": [
      "\u001b[1;36m  File \u001b[1;32m\"<ipython-input-43-9fab6ef98280>\"\u001b[1;36m, line \u001b[1;32m2\u001b[0m\n\u001b[1;33m    def say_myself(name,man=True,old):\u001b[0m\n\u001b[1;37m                   ^\u001b[0m\n\u001b[1;31mSyntaxError\u001b[0m\u001b[1;31m:\u001b[0m non-default argument follows default argument\n"
     ]
    }
   ],
   "source": [
    "#초기값을 설정 인수 뒤에 입력 인수는 사용할 수 없음\n",
    "def say_myself(name,man=True,old): #XXXX \n",
    "    print('나의 이름은 %s입니다'%name)\n",
    "    print('나이는 %d살 입니다.'%old)\n",
    "    if man:\n",
    "        print('남자입니다.')\n",
    "    else:\n",
    "        print('여자입니다.')\n",
    "        \n",
    "say_myself('홍길동',True,20)"
   ]
  },
  {
   "cell_type": "code",
   "execution_count": 46,
   "id": "719f8fae",
   "metadata": {},
   "outputs": [
    {
     "name": "stdout",
     "output_type": "stream",
     "text": [
      "None\n",
      "1\n"
     ]
    }
   ],
   "source": [
    "#함수 안에있는 변수/ 밖에있는 변수 \n",
    "#항수 안에서 선언된 변수의 효력 범위\n",
    "a=1\n",
    "def vartest(a):\n",
    "    a=a+1\n",
    "    \n",
    "print(vartest(a))\n",
    "print(a)"
   ]
  },
  {
   "cell_type": "code",
   "execution_count": 47,
   "id": "68417941",
   "metadata": {},
   "outputs": [
    {
     "name": "stdout",
     "output_type": "stream",
     "text": [
      "2\n",
      "1\n"
     ]
    }
   ],
   "source": [
    "#1. 함수 안에서 함수 밖의 변수를 변경하는 방법 - return 이용하기\n",
    "a=1\n",
    "def vartest(a):\n",
    "    return a+1\n",
    "\n",
    "print(vartest(1))\n",
    "print(a)"
   ]
  },
  {
   "cell_type": "code",
   "execution_count": 49,
   "id": "a13c9b93",
   "metadata": {},
   "outputs": [
    {
     "name": "stdout",
     "output_type": "stream",
     "text": [
      "2\n"
     ]
    }
   ],
   "source": [
    "#2. global 명령을 이용하는 방법\n",
    "a=1\n",
    "def vartest():\n",
    "    global a\n",
    "    a=a+1\n",
    "\n",
    "vartest()\n",
    "print(a)"
   ]
  },
  {
   "cell_type": "code",
   "execution_count": 51,
   "id": "04f5bcd7",
   "metadata": {},
   "outputs": [],
   "source": [
    "#파일 읽고 쓰기  - workspace에 텍스트파일생김 \n",
    "f=open('test1.txt','w')\n",
    "f.close()"
   ]
  },
  {
   "cell_type": "code",
   "execution_count": 53,
   "id": "7e36f64f",
   "metadata": {},
   "outputs": [],
   "source": [
    "#텍스트파일에 텍스트 쓰기 \n",
    "f= open('test1.txt','w')\n",
    "for i in range(1,11):\n",
    "    data= '%d번째 줄입니다.\\n '%i\n",
    "    f.write(data)\n",
    "f.close()"
   ]
  },
  {
   "cell_type": "code",
   "execution_count": 55,
   "id": "9bee0fa4",
   "metadata": {},
   "outputs": [
    {
     "name": "stdout",
     "output_type": "stream",
     "text": [
      "1번째 줄입니다.\n",
      "\n"
     ]
    }
   ],
   "source": [
    "#읽기\n",
    "f=open('test1.txt','r')\n",
    "line= f.readline()\n",
    "print(line)\n",
    "f.close()"
   ]
  },
  {
   "cell_type": "code",
   "execution_count": 58,
   "id": "a8051414",
   "metadata": {},
   "outputs": [
    {
     "name": "stdout",
     "output_type": "stream",
     "text": [
      "1번째 줄입니다.\n",
      "\n",
      " 2번째 줄입니다.\n",
      "\n",
      " 3번째 줄입니다.\n",
      "\n",
      " 4번째 줄입니다.\n",
      "\n",
      " 5번째 줄입니다.\n",
      "\n",
      " 6번째 줄입니다.\n",
      "\n",
      " 7번째 줄입니다.\n",
      "\n",
      " 8번째 줄입니다.\n",
      "\n",
      " 9번째 줄입니다.\n",
      "\n",
      " 10번째 줄입니다.\n",
      "\n",
      " \n"
     ]
    },
    {
     "data": {
      "text/plain": [
       "<function TextIOWrapper.close()>"
      ]
     },
     "execution_count": 58,
     "metadata": {},
     "output_type": "execute_result"
    }
   ],
   "source": [
    "f=open('test1.txt','r')\n",
    "while True:\n",
    "    line=f.readline()\n",
    "    if not line:\n",
    "        break\n",
    "    print(line)\n",
    "f.close"
   ]
  },
  {
   "cell_type": "code",
   "execution_count": 59,
   "id": "4ce30689",
   "metadata": {},
   "outputs": [
    {
     "ename": "SyntaxError",
     "evalue": "unexpected EOF while parsing (<ipython-input-59-442b7be6fc0a>, line 6)",
     "output_type": "error",
     "traceback": [
      "\u001b[1;36m  File \u001b[1;32m\"<ipython-input-59-442b7be6fc0a>\"\u001b[1;36m, line \u001b[1;32m6\u001b[0m\n\u001b[1;33m    \u001b[0m\n\u001b[1;37m    ^\u001b[0m\n\u001b[1;31mSyntaxError\u001b[0m\u001b[1;31m:\u001b[0m unexpected EOF while parsing\n"
     ]
    }
   ],
   "source": [
    "##test2 만들기\n",
    "\n",
    "f=open('test2.txt','w')\n",
    "for i in range(0,):\n",
    "    \n",
    "    \n"
   ]
  },
  {
   "cell_type": "code",
   "execution_count": null,
   "id": "04211fda",
   "metadata": {},
   "outputs": [],
   "source": []
  },
  {
   "cell_type": "code",
   "execution_count": null,
   "id": "a2385aa7",
   "metadata": {},
   "outputs": [],
   "source": []
  },
  {
   "cell_type": "code",
   "execution_count": null,
   "id": "6fd4b937",
   "metadata": {},
   "outputs": [],
   "source": []
  },
  {
   "cell_type": "code",
   "execution_count": 61,
   "id": "7413a5b3",
   "metadata": {},
   "outputs": [
    {
     "name": "stdout",
     "output_type": "stream",
     "text": [
      "1번째 줄입니다.\n",
      " 2번째 줄입니다.\n",
      " 3번째 줄입니다.\n",
      " 4번째 줄입니다.\n",
      " 5번째 줄입니다.\n",
      " 6번째 줄입니다.\n",
      " 7번째 줄입니다.\n",
      " 8번째 줄입니다.\n",
      " 9번째 줄입니다.\n",
      " 10번째 줄입니다.\n",
      " \n"
     ]
    }
   ],
   "source": [
    "# f.read()는 파일 내용 전체를 문자열로 변환\n",
    "f=open('test1.txt','r')\n",
    "data= f.read()\n",
    "print(data)\n",
    "f.close()"
   ]
  },
  {
   "cell_type": "code",
   "execution_count": 65,
   "id": "0ce6e384",
   "metadata": {},
   "outputs": [],
   "source": [
    "f=open('test1.txt','a')\n",
    "for i in range(11,16):\n",
    "    data=\"%d번째 줄 입니다\\n\"%i\n",
    "    f.write(data)\n",
    "f.close()"
   ]
  },
  {
   "cell_type": "code",
   "execution_count": 66,
   "id": "69a9d449",
   "metadata": {},
   "outputs": [
    {
     "name": "stdout",
     "output_type": "stream",
     "text": [
      "1번째 줄입니다.\n",
      " 2번째 줄입니다.\n",
      " 3번째 줄입니다.\n",
      " 4번째 줄입니다.\n",
      " 5번째 줄입니다.\n",
      " 6번째 줄입니다.\n",
      " 7번째 줄입니다.\n",
      " 8번째 줄입니다.\n",
      " 9번째 줄입니다.\n",
      " 10번째 줄입니다.\n",
      " 11번째 줄 입니다.12번째 줄 입니다.13번째 줄 입니다.14번째 줄 입니다.15번째 줄 입니다.11번째 줄 입니다\n",
      "12번째 줄 입니다\n",
      "13번째 줄 입니다\n",
      "14번째 줄 입니다\n",
      "15번째 줄 입니다\n",
      "\n"
     ]
    }
   ],
   "source": [
    "f=open('test1.txt','r')\n",
    "data = f.read()\n",
    "print(data)\n",
    "f.close()"
   ]
  },
  {
   "cell_type": "code",
   "execution_count": 67,
   "id": "2f812f87",
   "metadata": {},
   "outputs": [],
   "source": [
    "#with 문과 같이 사용\n",
    "\n",
    "with open('foo.txt','w')as f:\n",
    "    f.write('파이썬을 배웁시다') "
   ]
  },
  {
   "cell_type": "code",
   "execution_count": 68,
   "id": "790cf918",
   "metadata": {},
   "outputs": [
    {
     "name": "stdout",
     "output_type": "stream",
     "text": [
      "파이썬을 배웁시다\n"
     ]
    }
   ],
   "source": [
    "with open('foo.txt','r') as f:\n",
    "    data = f.read()\n",
    "    print(data)"
   ]
  },
  {
   "cell_type": "code",
   "execution_count": 74,
   "id": "a2718f89",
   "metadata": {},
   "outputs": [],
   "source": [
    "with open('test1.txt','w') as f:\n",
    "    for a in range(1,11):\n",
    "        data='%d번째 줄입니다.\\n'%a\n",
    "        f.write(data)\n",
    "    "
   ]
  },
  {
   "cell_type": "code",
   "execution_count": 75,
   "id": "eb2a96bf",
   "metadata": {},
   "outputs": [],
   "source": [
    "with open('test1.txt','a') as f:\n",
    "    for b in range(11,16):\n",
    "        data='%d번째 줄입니다.\\n'%b\n",
    "        f.write(data)\n",
    "    "
   ]
  },
  {
   "cell_type": "code",
   "execution_count": 76,
   "id": "bf71a496",
   "metadata": {},
   "outputs": [
    {
     "name": "stdout",
     "output_type": "stream",
     "text": [
      "1번째 줄입니다.\n",
      "2번째 줄입니다.\n",
      "3번째 줄입니다.\n",
      "4번째 줄입니다.\n",
      "5번째 줄입니다.\n",
      "6번째 줄입니다.\n",
      "7번째 줄입니다.\n",
      "8번째 줄입니다.\n",
      "9번째 줄입니다.\n",
      "10번째 줄입니다.\n",
      "11번째 줄입니다.\n",
      "12번째 줄입니다.\n",
      "13번째 줄입니다.\n",
      "14번째 줄입니다.\n",
      "15번째 줄입니다.\n",
      "\n"
     ]
    }
   ],
   "source": [
    "with open('test1.txt','r') as f:\n",
    "    data = f.read()\n",
    "    print(data)"
   ]
  },
  {
   "cell_type": "code",
   "execution_count": 81,
   "id": "12ca0a9c",
   "metadata": {},
   "outputs": [
    {
     "name": "stdout",
     "output_type": "stream",
     "text": [
      "3\n",
      "False\n",
      "True\n",
      "a\n"
     ]
    }
   ],
   "source": [
    "#내장함수 ~~ (여러가지있음 )\n",
    "print(abs(-3)) #절대값\n",
    "print(all([1,2,3,0])) #x가 모두 참이면 True, 거짓이 하나라도 있으면 False\n",
    "print(any([1,2,3,0])) # x중 하나라도 참이면 True, 모두 거짓이면 False\n",
    "print(chr(97))"
   ]
  },
  {
   "cell_type": "code",
   "execution_count": 84,
   "id": "c0fac89e",
   "metadata": {},
   "outputs": [
    {
     "data": {
      "text/plain": [
       "7"
      ]
     },
     "execution_count": 84,
     "metadata": {},
     "output_type": "execute_result"
    }
   ],
   "source": [
    "# 람다 복습\n",
    "sum= lambda a,b:a+b\n",
    "sum(3,4)"
   ]
  },
  {
   "cell_type": "code",
   "execution_count": 85,
   "id": "4d5e43ed",
   "metadata": {},
   "outputs": [
    {
     "name": "stdout",
     "output_type": "stream",
     "text": [
      "7\n",
      "12\n"
     ]
    }
   ],
   "source": [
    "myList=[lambda a,b:a+b, lambda a,b: a*b]\n",
    "print(myList[0](3,4))\n",
    "print(myList[1](3,4))"
   ]
  },
  {
   "cell_type": "code",
   "execution_count": 86,
   "id": "ac2c99dd",
   "metadata": {},
   "outputs": [
    {
     "name": "stdout",
     "output_type": "stream",
     "text": [
      "6\n",
      "3\n",
      "3\n"
     ]
    }
   ],
   "source": [
    "#길이구하기\n",
    "print(len('python'))\n",
    "print(len([1,2,3]))\n",
    "print(len([1,2,'a']))"
   ]
  },
  {
   "cell_type": "code",
   "execution_count": 88,
   "id": "0eae502a",
   "metadata": {},
   "outputs": [
    {
     "name": "stdout",
     "output_type": "stream",
     "text": [
      "['p', 'y', 't', 'h', 'o', 'n']\n"
     ]
    },
    {
     "data": {
      "text/plain": [
       "[1, 2, 3]"
      ]
     },
     "execution_count": 88,
     "metadata": {},
     "output_type": "execute_result"
    }
   ],
   "source": [
    "#하나씩 리스트 출력 \n",
    "print(list('python'))\n",
    "\n",
    "#튜플을 리스트로 바꾸기\n",
    "list((1,2,3))"
   ]
  },
  {
   "cell_type": "code",
   "execution_count": 90,
   "id": "dc67bbb6",
   "metadata": {},
   "outputs": [
    {
     "data": {
      "text/plain": [
       "[1, 3, 5, 7, 9]"
      ]
     },
     "execution_count": 90,
     "metadata": {},
     "output_type": "execute_result"
    }
   ],
   "source": [
    "list(range(5))\n",
    "list(range(1,6))\n",
    "list(range(1,10,2)) # 간격주기"
   ]
  },
  {
   "cell_type": "code",
   "execution_count": 96,
   "id": "38094213",
   "metadata": {},
   "outputs": [
    {
     "data": {
      "text/plain": [
       "[0, -1, -2, -3, -4, -5, -6, -7, -8, -9]"
      ]
     },
     "execution_count": 96,
     "metadata": {},
     "output_type": "execute_result"
    }
   ],
   "source": [
    "#음수 출력 ... ***\n",
    "list(range(0,-10,-1))"
   ]
  },
  {
   "cell_type": "code",
   "execution_count": 1,
   "id": "cfd2696c",
   "metadata": {},
   "outputs": [],
   "source": [
    "#외장함수: 어떤 일을 할 때 어떤 라이브러리를 사용하는지 알면 됨\n",
    "#전 세계의 파이썬 사용자들이 만든 유용한 프로그램을 모아 놓은 것이 파이썬 라이브러리\n",
    "#파이썬 라이브러리는 파이썬을 설치할 때 자동으로 컴퓨터에 설치"
   ]
  },
  {
   "cell_type": "code",
   "execution_count": 4,
   "id": "55688f79",
   "metadata": {},
   "outputs": [],
   "source": [
    "#pickle은 객체의 형태를 유지하면서 파일에 저장하고 불러올 수 있게 하는 모듈\n",
    "\n",
    "import pickle \n",
    "f=open('test__.txt','wb')\n",
    "data={1:'python',2:'you need'}\n",
    "pickle.dump(data,f)\n",
    "f.close()"
   ]
  },
  {
   "cell_type": "code",
   "execution_count": 7,
   "id": "d13bc9c8",
   "metadata": {},
   "outputs": [
    {
     "name": "stdout",
     "output_type": "stream",
     "text": [
      "{1: 'python', 2: 'you need'}\n"
     ]
    }
   ],
   "source": [
    "import pickle\n",
    "f=open('test__.txt','rb')\n",
    "data= pickle.load(f)\n",
    "print(data)\n",
    "f.close()"
   ]
  },
  {
   "cell_type": "code",
   "execution_count": 8,
   "id": "3b342d95",
   "metadata": {},
   "outputs": [
    {
     "data": {
      "text/plain": [
       "'C:\\\\Users\\\\SH\\\\anaconda3\\\\envs\\\\cakd3;C:\\\\Users\\\\SH\\\\anaconda3\\\\envs\\\\cakd3\\\\Library\\\\mingw-w64\\\\bin;C:\\\\Users\\\\SH\\\\anaconda3\\\\envs\\\\cakd3\\\\Library\\\\usr\\\\bin;C:\\\\Users\\\\SH\\\\anaconda3\\\\envs\\\\cakd3\\\\Library\\\\bin;C:\\\\Users\\\\SH\\\\anaconda3\\\\envs\\\\cakd3\\\\Scripts;C:\\\\Program Files (x86)\\\\NAT Service;C:\\\\WINDOWS\\\\system32;C:\\\\WINDOWS;C:\\\\WINDOWS\\\\System32\\\\Wbem;C:\\\\WINDOWS\\\\System32\\\\WindowsPowerShell\\\\v1.0\\\\;C:\\\\WINDOWS\\\\System32\\\\OpenSSH\\\\;C:\\\\Program Files (x86)\\\\ePapyrus\\\\PapyrusNtas;C:\\\\Program Files (x86)\\\\ePapyrus\\\\PapyrusNtas\\\\Addins;C:\\\\Program Files\\\\Microsoft SQL Server\\\\130\\\\Tools\\\\Binn\\\\;C:\\\\Users\\\\SH\\\\anaconda3;C:\\\\Users\\\\SH\\\\anaconda3\\\\Library\\\\mingw-w64\\\\bin;C:\\\\Users\\\\SH\\\\anaconda3\\\\Library\\\\bin;C:\\\\Users\\\\SH\\\\anaconda3\\\\Scripts;C:\\\\Python39\\\\Scripts\\\\;C:\\\\Python39\\\\;C:\\\\Users\\\\SH\\\\AppData\\\\Local\\\\Microsoft\\\\WindowsApps;C:\\\\Program Files\\\\Bandizip\\\\;C:\\\\Users\\\\SH\\\\AppData\\\\Local\\\\atom\\\\bin;C:\\\\Users\\\\SH\\\\AppData\\\\Local\\\\Programs\\\\Microsoft VS Code\\\\bin;C:\\\\Users\\\\SH\\\\AppData\\\\Local\\\\GitHubDesktop\\\\bin'"
      ]
     },
     "execution_count": 8,
     "metadata": {},
     "output_type": "execute_result"
    }
   ],
   "source": [
    "import os\n",
    "os.environ['PATH']"
   ]
  },
  {
   "cell_type": "code",
   "execution_count": 9,
   "id": "dc1c1aca",
   "metadata": {},
   "outputs": [
    {
     "data": {
      "text/plain": [
       "'C:\\\\♥workspace\\\\cakd3'"
      ]
     },
     "execution_count": 9,
     "metadata": {},
     "output_type": "execute_result"
    }
   ],
   "source": [
    "%pwd"
   ]
  },
  {
   "cell_type": "code",
   "execution_count": 13,
   "id": "a2b4508f",
   "metadata": {},
   "outputs": [],
   "source": [
    "#폴더변경\n",
    "import os\n",
    "os.chdir('C:/♥workspace/cakd3/programming')"
   ]
  },
  {
   "cell_type": "code",
   "execution_count": 14,
   "id": "b981469b",
   "metadata": {},
   "outputs": [
    {
     "data": {
      "text/plain": [
       "'C:\\\\♥workspace\\\\cakd3\\\\programming'"
      ]
     },
     "execution_count": 14,
     "metadata": {},
     "output_type": "execute_result"
    }
   ],
   "source": [
    "#현재 폴더 반환\n",
    "os.getcwd()"
   ]
  },
  {
   "cell_type": "code",
   "execution_count": 36,
   "id": "c9f47502",
   "metadata": {},
   "outputs": [
    {
     "ename": "FileNotFoundError",
     "evalue": "[WinError 2] 지정된 파일을 찾을 수 없습니다: 'test_.txt' -> 'test_new.txt'",
     "output_type": "error",
     "traceback": [
      "\u001b[1;31m---------------------------------------------------------------------------\u001b[0m",
      "\u001b[1;31mFileNotFoundError\u001b[0m                         Traceback (most recent call last)",
      "\u001b[1;32m<ipython-input-36-d36472e7d0fc>\u001b[0m in \u001b[0;36m<module>\u001b[1;34m\u001b[0m\n\u001b[0;32m      1\u001b[0m \u001b[1;31m#파일명 변경\u001b[0m\u001b[1;33m\u001b[0m\u001b[1;33m\u001b[0m\u001b[1;33m\u001b[0m\u001b[0m\n\u001b[1;32m----> 2\u001b[1;33m \u001b[0mos\u001b[0m\u001b[1;33m.\u001b[0m\u001b[0mrename\u001b[0m\u001b[1;33m(\u001b[0m\u001b[1;34m'test_.txt'\u001b[0m\u001b[1;33m,\u001b[0m\u001b[1;34m'test_new.txt'\u001b[0m\u001b[1;33m)\u001b[0m\u001b[1;33m\u001b[0m\u001b[1;33m\u001b[0m\u001b[0m\n\u001b[0m",
      "\u001b[1;31mFileNotFoundError\u001b[0m: [WinError 2] 지정된 파일을 찾을 수 없습니다: 'test_.txt' -> 'test_new.txt'"
     ]
    }
   ],
   "source": [
    "#파일명 변경\n",
    "os.rename('test_.txt','test_new.txt')"
   ]
  },
  {
   "cell_type": "code",
   "execution_count": 35,
   "id": "4db404f1",
   "metadata": {},
   "outputs": [
    {
     "data": {
      "text/plain": [
       "['C:/♥workspace/cakd3/programming/dd']"
      ]
     },
     "execution_count": 35,
     "metadata": {},
     "output_type": "execute_result"
    }
   ],
   "source": [
    "import glob\n",
    "glob.glob('C:/♥workspace/cakd3/programming/dd')"
   ]
  },
  {
   "cell_type": "code",
   "execution_count": 37,
   "id": "06687b03",
   "metadata": {},
   "outputs": [
    {
     "data": {
      "text/plain": [
       "1624513239.607863"
      ]
     },
     "execution_count": 37,
     "metadata": {},
     "output_type": "execute_result"
    }
   ],
   "source": [
    "import time\n",
    "time.time()"
   ]
  },
  {
   "cell_type": "code",
   "execution_count": 38,
   "id": "8cd3f61a",
   "metadata": {},
   "outputs": [
    {
     "data": {
      "text/plain": [
       "time.struct_time(tm_year=2021, tm_mon=6, tm_mday=24, tm_hour=14, tm_min=40, tm_sec=51, tm_wday=3, tm_yday=175, tm_isdst=0)"
      ]
     },
     "execution_count": 38,
     "metadata": {},
     "output_type": "execute_result"
    }
   ],
   "source": [
    "time.localtime(time.time())"
   ]
  },
  {
   "cell_type": "code",
   "execution_count": 39,
   "id": "f715c39c",
   "metadata": {},
   "outputs": [
    {
     "data": {
      "text/plain": [
       "'Thu Jun 24 14:41:07 2021'"
      ]
     },
     "execution_count": 39,
     "metadata": {},
     "output_type": "execute_result"
    }
   ],
   "source": [
    "time.asctime(time.localtime(time.time()))"
   ]
  },
  {
   "cell_type": "code",
   "execution_count": 41,
   "id": "7021e4ce",
   "metadata": {},
   "outputs": [
    {
     "name": "stdout",
     "output_type": "stream",
     "text": [
      "0\n",
      "1\n",
      "2\n",
      "3\n",
      "4\n",
      "5\n",
      "6\n",
      "7\n",
      "8\n",
      "9\n"
     ]
    }
   ],
   "source": [
    "#time.sleep(): 일정한 시간 간격을 두고 루프를 실행할 수 있음\n",
    "\n",
    "import time\n",
    "for i in range(10):\n",
    "    print(i)\n",
    "    time.sleep(1)"
   ]
  },
  {
   "cell_type": "code",
   "execution_count": 44,
   "id": "2b500d3c",
   "metadata": {},
   "outputs": [
    {
     "name": "stdout",
     "output_type": "stream",
     "text": [
      "     June 2021\n",
      "Mo Tu We Th Fr Sa Su\n",
      "    1  2  3  4  5  6\n",
      " 7  8  9 10 11 12 13\n",
      "14 15 16 17 18 19 20\n",
      "21 22 23 24 25 26 27\n",
      "28 29 30\n",
      "None\n"
     ]
    }
   ],
   "source": [
    "import calendar\n",
    "print(calendar.prmonth(2021,6))"
   ]
  },
  {
   "cell_type": "code",
   "execution_count": 50,
   "id": "0d4887df",
   "metadata": {},
   "outputs": [
    {
     "data": {
      "text/plain": [
       "(1, 30)"
      ]
     },
     "execution_count": 50,
     "metadata": {},
     "output_type": "execute_result"
    }
   ],
   "source": [
    "#요일\n",
    "\n",
    "calendar.weekday(2021,12,31)\n",
    "\n",
    "#(1일의 요일, 날수)\n",
    "calendar.monthrange(2021,6)"
   ]
  },
  {
   "cell_type": "code",
   "execution_count": 49,
   "id": "c9f1728d",
   "metadata": {},
   "outputs": [
    {
     "name": "stdout",
     "output_type": "stream",
     "text": [
      "<function weekday at 0x000001B0486A4AF0>\n"
     ]
    }
   ],
   "source": [
    "print(abs())"
   ]
  },
  {
   "cell_type": "code",
   "execution_count": 52,
   "id": "7ffbdef9",
   "metadata": {},
   "outputs": [
    {
     "data": {
      "text/plain": [
       "True"
      ]
     },
     "execution_count": 52,
     "metadata": {},
     "output_type": "execute_result"
    }
   ],
   "source": [
    "import webbrowser\n",
    "webbrowser.open('http://google.com')"
   ]
  },
  {
   "cell_type": "code",
   "execution_count": 6,
   "id": "a603eb39",
   "metadata": {},
   "outputs": [],
   "source": [
    "#Q. 랜덤하게 1000명의 이름,키와 몸무게 만들기\n",
    "# choice / randrange\n",
    "import random\n",
    "hanguls= list('가나다라마바사아자차카타파하')\n",
    "with open('info.txt','w')as file:\n",
    "    for i in range(1000):\n",
    "        name= random.choice(hanguls)+random.choice(hanguls)\n",
    "        height= random.randrange(140,200)\n",
    "        weight= random.randrange(40,100)\n",
    "        file.write(\"{},{},{}\\n\".format(name,height,weight))"
   ]
  },
  {
   "cell_type": "code",
   "execution_count": 5,
   "id": "7d7763b1",
   "metadata": {},
   "outputs": [
    {
     "name": "stdout",
     "output_type": "stream",
     "text": [
      "카라,155,76\n",
      "바파,177,51\n",
      "다자,156,59\n",
      "마파,148,76\n",
      "사다,194,41\n",
      "아마,149,49\n",
      "카가,198,89\n",
      "사차,191,86\n",
      "파아,191,90\n",
      "하다,173,48\n",
      "다카,143,97\n",
      "마파,196,41\n",
      "다자,198,52\n",
      "다카,170,45\n",
      "바나,194,41\n",
      "카마,174,92\n",
      "자아,183,81\n",
      "가다,191,85\n",
      "차바,151,93\n",
      "카마,179,59\n",
      "가타,191,94\n",
      "하바,156,63\n",
      "나차,158,89\n",
      "바라,164,56\n",
      "하라,159,97\n",
      "바라,147,98\n",
      "하파,141,97\n",
      "타자,151,74\n",
      "바타,167,91\n",
      "자바,167,79\n",
      "다가,148,66\n",
      "마라,175,65\n",
      "사라,141,88\n",
      "사다,176,82\n",
      "카하,175,87\n",
      "나파,196,53\n",
      "라타,152,89\n",
      "차라,168,68\n",
      "하마,196,95\n",
      "자가,156,46\n",
      "라아,190,99\n",
      "나가,145,73\n",
      "타라,180,58\n",
      "하바,193,52\n",
      "타타,146,81\n",
      "타차,187,94\n",
      "아사,162,60\n",
      "가나,199,86\n",
      "나카,173,60\n",
      "사가,195,65\n",
      "카바,159,49\n",
      "차파,175,83\n",
      "자파,179,44\n",
      "차자,184,95\n",
      "다마,161,84\n",
      "가타,159,85\n",
      "카카,169,88\n",
      "바다,175,68\n",
      "가차,181,44\n",
      "바다,180,51\n",
      "파하,194,92\n",
      "가나,171,87\n",
      "라다,174,54\n",
      "카다,144,70\n",
      "아하,182,74\n",
      "사파,180,62\n",
      "하파,154,47\n",
      "가차,156,75\n",
      "자마,151,68\n",
      "가자,193,46\n",
      "사타,167,73\n",
      "마바,188,46\n",
      "아라,142,44\n",
      "라아,195,72\n",
      "파사,154,66\n",
      "자아,155,49\n",
      "카다,141,91\n",
      "사바,140,69\n",
      "다타,167,68\n",
      "파차,154,74\n",
      "차하,166,81\n",
      "나라,141,46\n",
      "사바,181,53\n",
      "라사,193,83\n",
      "아파,143,70\n",
      "라타,156,77\n",
      "아파,185,55\n",
      "아타,143,51\n",
      "나하,164,54\n",
      "차다,177,98\n",
      "아나,156,49\n",
      "파자,176,75\n",
      "차자,189,95\n",
      "라라,154,81\n",
      "자자,161,49\n",
      "파다,153,77\n",
      "파사,191,68\n",
      "타카,172,60\n",
      "나다,194,47\n",
      "차라,167,79\n",
      "자바,151,90\n",
      "아카,151,42\n",
      "바라,171,89\n",
      "바차,182,67\n",
      "자타,183,47\n",
      "마다,195,91\n",
      "파하,148,43\n",
      "카아,174,85\n",
      "나타,192,82\n",
      "차자,175,64\n",
      "다바,187,68\n",
      "다바,192,40\n",
      "카하,197,74\n",
      "라파,183,94\n",
      "바하,196,44\n",
      "라다,192,96\n",
      "타타,164,72\n",
      "나나,143,56\n",
      "나가,141,66\n",
      "사타,142,52\n",
      "카자,168,99\n",
      "나바,197,84\n",
      "마카,181,92\n",
      "차자,156,94\n",
      "바차,194,43\n",
      "바파,158,81\n",
      "마가,197,64\n",
      "바카,188,40\n",
      "자타,186,47\n",
      "바가,170,52\n",
      "라마,180,78\n",
      "차나,158,79\n",
      "하라,187,66\n",
      "사파,163,87\n",
      "나자,144,53\n",
      "사자,197,79\n",
      "사파,184,63\n",
      "자아,183,41\n",
      "아타,166,63\n",
      "다차,162,86\n",
      "아바,164,55\n",
      "나하,147,97\n",
      "라사,190,58\n",
      "타마,140,72\n",
      "아가,170,50\n",
      "차아,195,72\n",
      "타가,186,86\n",
      "가라,166,64\n",
      "사자,185,52\n",
      "나사,168,95\n",
      "아파,194,89\n",
      "사카,184,79\n",
      "자마,143,74\n",
      "바사,156,80\n",
      "사아,156,61\n",
      "타차,158,42\n",
      "아라,197,61\n",
      "카라,146,71\n",
      "차바,143,62\n",
      "나하,167,65\n",
      "사타,164,66\n",
      "라마,145,44\n",
      "자아,178,97\n",
      "사다,178,93\n",
      "타자,146,79\n",
      "카나,196,94\n",
      "아카,151,40\n",
      "하카,148,43\n",
      "사바,153,86\n",
      "카파,152,46\n",
      "사사,159,72\n",
      "아하,154,40\n",
      "나카,190,74\n",
      "가카,150,67\n",
      "가자,176,61\n",
      "하아,145,87\n",
      "파차,147,78\n",
      "파가,164,80\n",
      "타하,149,67\n",
      "아카,195,63\n",
      "타바,177,95\n",
      "아하,180,66\n",
      "바가,162,65\n",
      "마마,142,58\n",
      "차파,141,65\n",
      "바사,142,41\n",
      "자라,190,65\n",
      "사차,180,69\n",
      "차사,150,61\n",
      "하마,188,69\n",
      "차파,157,56\n",
      "라차,187,72\n",
      "바하,155,78\n",
      "자나,149,99\n",
      "바아,147,56\n",
      "사타,162,77\n",
      "자카,145,85\n",
      "바사,161,86\n",
      "자아,153,56\n",
      "바바,194,89\n",
      "타마,190,46\n",
      "바사,171,71\n",
      "라라,191,70\n",
      "나아,151,63\n",
      "카타,174,68\n",
      "가사,176,96\n",
      "하가,159,85\n",
      "사라,197,70\n",
      "자사,167,50\n",
      "타파,178,70\n",
      "나다,176,96\n",
      "라카,177,93\n",
      "차자,168,47\n",
      "타파,166,93\n",
      "카마,156,73\n",
      "파하,186,50\n",
      "카카,162,66\n",
      "나자,152,79\n",
      "하나,161,95\n",
      "카아,172,52\n",
      "카자,186,94\n",
      "나라,155,76\n",
      "타바,165,84\n",
      "가자,184,72\n",
      "차하,179,62\n",
      "다카,185,47\n",
      "하차,161,68\n",
      "마나,147,45\n",
      "마아,143,55\n",
      "나가,189,49\n",
      "마나,158,67\n",
      "타파,148,63\n",
      "타다,155,90\n",
      "카다,181,46\n",
      "파바,178,98\n",
      "가다,156,93\n",
      "다사,187,78\n",
      "차타,181,71\n",
      "사차,185,64\n",
      "라마,149,90\n",
      "마아,149,96\n",
      "나카,150,94\n",
      "가바,183,53\n",
      "아마,166,65\n",
      "다라,192,74\n",
      "타카,141,81\n",
      "사나,189,65\n",
      "라마,181,85\n",
      "마아,172,70\n",
      "사사,150,87\n",
      "타바,146,77\n",
      "타마,142,50\n",
      "타차,160,44\n",
      "마자,199,69\n",
      "타파,189,50\n",
      "다다,196,95\n",
      "타다,144,89\n",
      "나아,149,72\n",
      "카바,193,82\n",
      "타나,167,41\n",
      "마마,140,86\n",
      "라차,198,96\n",
      "아하,179,80\n",
      "하라,165,50\n",
      "라사,179,44\n",
      "하차,163,97\n",
      "가아,197,95\n",
      "다라,186,40\n",
      "다다,159,58\n",
      "마자,156,69\n",
      "바카,179,53\n",
      "타마,193,85\n",
      "사라,162,73\n",
      "라가,160,88\n",
      "마다,154,80\n",
      "아바,179,72\n",
      "나타,160,56\n",
      "하파,198,86\n",
      "카바,177,45\n",
      "나파,175,55\n",
      "다마,177,41\n",
      "사자,167,70\n",
      "타가,197,48\n",
      "카하,170,91\n",
      "라카,189,95\n",
      "사사,189,48\n",
      "자가,151,58\n",
      "마자,173,40\n",
      "차차,153,41\n",
      "라차,154,74\n",
      "자다,150,76\n",
      "아파,162,79\n",
      "라파,188,63\n",
      "라자,148,72\n",
      "아라,141,41\n",
      "마사,196,56\n",
      "가가,158,63\n",
      "하다,194,71\n",
      "바카,147,55\n",
      "다타,176,76\n",
      "아다,187,57\n",
      "라바,154,62\n",
      "가라,169,84\n",
      "자차,145,47\n",
      "하아,187,99\n",
      "가파,191,67\n",
      "카라,177,90\n",
      "마타,160,94\n",
      "나라,183,47\n",
      "하카,198,74\n",
      "하아,195,42\n",
      "나카,164,44\n",
      "카나,153,72\n",
      "카자,196,51\n",
      "라카,164,44\n",
      "마카,140,57\n",
      "라가,144,52\n",
      "가파,194,66\n",
      "다파,187,63\n",
      "하자,152,50\n",
      "카카,163,42\n",
      "차사,174,81\n",
      "라가,148,58\n",
      "타타,143,40\n",
      "다타,198,47\n",
      "아사,164,93\n",
      "자아,152,55\n",
      "타하,156,56\n",
      "바나,145,91\n",
      "라바,167,41\n",
      "다가,172,92\n",
      "하바,142,99\n",
      "나카,175,55\n",
      "파자,150,94\n",
      "하차,167,72\n",
      "자타,160,67\n",
      "자바,164,60\n",
      "자가,158,84\n",
      "차다,162,91\n",
      "카가,154,40\n",
      "가마,197,52\n",
      "아사,184,45\n",
      "가타,199,75\n",
      "가사,179,50\n",
      "나차,170,98\n",
      "자나,158,75\n",
      "사차,181,50\n",
      "차타,180,68\n",
      "바바,197,69\n",
      "파파,194,45\n",
      "사카,168,99\n",
      "타타,180,48\n",
      "사파,170,45\n",
      "차사,159,55\n",
      "하나,198,80\n",
      "자가,178,46\n",
      "다다,194,67\n",
      "바하,170,89\n",
      "하라,183,99\n",
      "자라,145,40\n",
      "타하,170,41\n",
      "나바,186,90\n",
      "자아,141,68\n",
      "바마,150,46\n",
      "자바,156,46\n",
      "사마,194,75\n",
      "라바,183,79\n",
      "바나,187,47\n",
      "마하,187,78\n",
      "아아,191,95\n",
      "파타,173,83\n",
      "마다,155,90\n",
      "사가,144,56\n",
      "차마,185,56\n",
      "카나,144,61\n",
      "파다,196,45\n",
      "마카,198,47\n",
      "나아,156,92\n",
      "차차,169,81\n",
      "하차,152,50\n",
      "바가,191,41\n",
      "타가,157,47\n",
      "파나,193,47\n",
      "나라,173,89\n",
      "하마,191,99\n",
      "나사,197,89\n",
      "파사,165,50\n",
      "자차,175,51\n",
      "아카,152,50\n",
      "아차,146,59\n",
      "바타,198,72\n",
      "바하,195,80\n",
      "파다,149,99\n",
      "다마,161,73\n",
      "바하,163,71\n",
      "사다,145,79\n",
      "차나,178,69\n",
      "타라,164,99\n",
      "다마,159,80\n",
      "마가,161,73\n",
      "카하,182,98\n",
      "바라,186,65\n",
      "자나,143,58\n",
      "나나,172,77\n",
      "카타,155,93\n",
      "타사,150,68\n",
      "카나,145,82\n",
      "아자,189,94\n",
      "타자,164,71\n",
      "아차,142,93\n",
      "아아,197,78\n",
      "카마,149,60\n",
      "가타,152,92\n",
      "바카,175,85\n",
      "하아,142,81\n",
      "나라,162,85\n",
      "나타,154,95\n",
      "자마,187,42\n",
      "다카,163,59\n",
      "라하,199,64\n",
      "파라,153,87\n",
      "나나,188,45\n",
      "파라,196,77\n",
      "바나,198,79\n",
      "다가,193,53\n",
      "아차,176,43\n",
      "사타,190,87\n",
      "바나,157,46\n",
      "나바,186,77\n",
      "나카,144,50\n",
      "하바,193,75\n",
      "가카,153,49\n",
      "아카,195,81\n",
      "카카,153,42\n",
      "파카,160,76\n",
      "카아,184,54\n",
      "나카,168,73\n",
      "하타,173,62\n",
      "카파,181,83\n",
      "자하,196,47\n",
      "마바,174,76\n",
      "가아,142,70\n",
      "마타,159,95\n",
      "마나,169,72\n",
      "카마,161,72\n",
      "타자,173,42\n",
      "나파,185,83\n",
      "가차,198,62\n",
      "카사,153,79\n",
      "차하,194,40\n",
      "카카,198,62\n",
      "아사,182,51\n",
      "타가,156,69\n",
      "라타,185,83\n",
      "카나,192,80\n",
      "하차,146,93\n",
      "사마,141,79\n",
      "사라,173,95\n",
      "파사,196,84\n",
      "하다,155,98\n",
      "차아,170,79\n",
      "아자,171,46\n",
      "마하,172,83\n",
      "나파,142,79\n",
      "바바,198,91\n",
      "나다,168,54\n",
      "나차,150,48\n",
      "자자,185,91\n",
      "가카,153,54\n",
      "파카,190,52\n",
      "카타,161,58\n",
      "다가,192,77\n",
      "차하,182,80\n",
      "타하,162,51\n",
      "나자,172,70\n",
      "차가,166,82\n",
      "하아,145,48\n",
      "하사,195,49\n",
      "마사,148,52\n",
      "다사,183,51\n",
      "카마,144,68\n",
      "가나,173,88\n",
      "자다,148,55\n",
      "파파,158,78\n",
      "가라,184,69\n",
      "라파,177,40\n",
      "다파,184,42\n",
      "사다,141,69\n",
      "사파,169,79\n",
      "바가,147,71\n",
      "다파,141,47\n",
      "타나,192,71\n",
      "자파,166,87\n",
      "카차,171,70\n",
      "다바,188,69\n",
      "라파,189,52\n",
      "가바,170,40\n",
      "자사,174,51\n",
      "다라,157,44\n",
      "파사,199,63\n",
      "가파,195,94\n",
      "타라,187,98\n",
      "타자,198,72\n",
      "파카,148,51\n",
      "타자,197,91\n",
      "하사,159,81\n",
      "타차,180,80\n",
      "자하,141,42\n",
      "파타,151,61\n",
      "파자,197,72\n",
      "사가,141,47\n",
      "타파,161,51\n",
      "카사,149,97\n",
      "라마,170,65\n",
      "라라,183,69\n",
      "다카,184,40\n",
      "자가,177,87\n",
      "파자,184,62\n",
      "마자,184,77\n",
      "다다,195,69\n",
      "사나,153,60\n",
      "타타,178,92\n",
      "다사,179,46\n",
      "다하,142,67\n",
      "나하,196,88\n",
      "바가,153,77\n",
      "아차,149,82\n",
      "파타,177,45\n",
      "카아,151,69\n",
      "나자,167,81\n",
      "다차,141,58\n",
      "사다,195,88\n",
      "나바,157,78\n",
      "마마,144,44\n",
      "카차,181,41\n",
      "타차,161,98\n",
      "카카,140,41\n",
      "카나,166,47\n",
      "카나,172,98\n",
      "다자,160,85\n",
      "타바,184,43\n",
      "라마,183,43\n",
      "카사,187,77\n",
      "아차,167,40\n",
      "라자,191,66\n",
      "나나,172,93\n",
      "다다,150,69\n",
      "라자,151,99\n",
      "마카,165,40\n",
      "라사,197,94\n",
      "하다,157,79\n",
      "라파,198,90\n",
      "파자,151,49\n",
      "사하,174,65\n",
      "바차,155,65\n",
      "차라,157,61\n",
      "하다,142,88\n",
      "타사,142,89\n",
      "아차,174,84\n",
      "라하,182,69\n",
      "나자,152,63\n",
      "라라,184,83\n",
      "사가,154,53\n",
      "바나,142,55\n",
      "나카,150,52\n",
      "타차,142,94\n",
      "다가,184,43\n",
      "라라,148,69\n",
      "라차,184,41\n",
      "다하,142,84\n",
      "마하,144,95\n",
      "하라,146,47\n",
      "차가,169,99\n",
      "카파,192,48\n",
      "카차,148,59\n",
      "자라,163,77\n",
      "자사,142,52\n",
      "바사,160,61\n",
      "바다,186,74\n",
      "차가,173,81\n",
      "파라,167,44\n",
      "카자,176,49\n",
      "바파,171,91\n",
      "다다,157,60\n",
      "라나,191,83\n",
      "자가,167,62\n",
      "사아,192,51\n",
      "아타,156,88\n",
      "타나,182,82\n",
      "하바,177,74\n",
      "라자,153,84\n",
      "자아,189,59\n",
      "자라,192,83\n",
      "마자,168,95\n",
      "라가,174,51\n",
      "아다,149,90\n",
      "타사,181,95\n",
      "라자,143,93\n",
      "가라,151,44\n",
      "자라,180,97\n",
      "마카,150,71\n",
      "아차,146,54\n",
      "나라,199,74\n",
      "아자,168,50\n",
      "라가,151,49\n",
      "마가,158,53\n",
      "마나,190,79\n",
      "타타,168,41\n",
      "다다,192,84\n",
      "마바,156,65\n",
      "파나,163,72\n",
      "나사,174,75\n",
      "하타,182,71\n",
      "파마,182,91\n",
      "아사,185,80\n",
      "차파,150,77\n",
      "사아,182,85\n",
      "사나,169,81\n",
      "마카,162,89\n",
      "자하,185,94\n",
      "다자,140,57\n",
      "다차,147,52\n",
      "마카,141,81\n",
      "사가,152,41\n",
      "차파,147,80\n",
      "다가,181,83\n",
      "바나,194,69\n",
      "마다,192,91\n",
      "하아,181,97\n",
      "가나,185,85\n",
      "카아,190,72\n",
      "카하,187,41\n",
      "카하,144,49\n",
      "가사,162,84\n",
      "가하,176,87\n",
      "파하,180,77\n",
      "파차,159,79\n",
      "다다,140,43\n",
      "타라,157,76\n",
      "아사,149,56\n",
      "사자,198,69\n",
      "다라,155,86\n",
      "자나,150,43\n",
      "파다,173,43\n",
      "나사,184,76\n",
      "다나,190,87\n",
      "라자,174,51\n",
      "하하,153,87\n",
      "나나,162,85\n",
      "가가,162,76\n",
      "사파,155,51\n",
      "하파,144,52\n",
      "차마,178,60\n",
      "다자,194,70\n",
      "자자,188,71\n",
      "차하,165,45\n",
      "카라,192,78\n",
      "나자,191,63\n",
      "다바,146,40\n",
      "다바,175,96\n",
      "마차,190,75\n",
      "사아,150,77\n",
      "자라,185,78\n",
      "라나,189,44\n",
      "하라,189,60\n",
      "다아,162,55\n",
      "나타,171,79\n",
      "라마,171,46\n",
      "타나,176,52\n",
      "라다,167,57\n",
      "가하,198,70\n",
      "카사,156,88\n",
      "나마,177,70\n",
      "차타,183,73\n",
      "아아,171,80\n",
      "라마,170,60\n",
      "파아,145,99\n",
      "타라,190,46\n",
      "차다,196,83\n",
      "자다,183,75\n",
      "라가,160,97\n",
      "아다,176,41\n",
      "하카,195,59\n",
      "하마,165,48\n",
      "가자,193,72\n",
      "바타,199,94\n",
      "파아,188,85\n",
      "타가,174,90\n",
      "타사,156,97\n",
      "타사,197,64\n",
      "가라,170,46\n",
      "사차,141,61\n",
      "바파,140,41\n",
      "마파,189,96\n",
      "바하,181,92\n",
      "파다,153,64\n",
      "차다,182,96\n",
      "타아,164,82\n",
      "하자,171,79\n",
      "카차,141,49\n",
      "마파,196,42\n",
      "사마,149,51\n",
      "자타,189,81\n",
      "사가,153,69\n",
      "바가,176,97\n",
      "바카,171,81\n",
      "가차,196,98\n",
      "카마,144,68\n",
      "가바,149,65\n",
      "타카,175,43\n",
      "하카,143,58\n",
      "차아,185,86\n",
      "하하,176,81\n",
      "사나,144,41\n",
      "아자,188,76\n",
      "타바,188,96\n",
      "라차,151,95\n",
      "가파,163,47\n",
      "다라,184,74\n",
      "나바,180,99\n",
      "바카,194,65\n",
      "라타,179,43\n",
      "바타,171,89\n",
      "하타,162,63\n",
      "나라,144,95\n",
      "카타,163,98\n",
      "하라,192,84\n",
      "사차,158,44\n",
      "자바,191,69\n",
      "파가,174,61\n",
      "카라,176,86\n",
      "가카,184,57\n",
      "바라,188,73\n",
      "카카,184,82\n",
      "나다,168,86\n",
      "차차,161,43\n",
      "자나,169,53\n",
      "자바,143,77\n",
      "나자,145,96\n",
      "아아,162,83\n",
      "자아,192,53\n",
      "자가,167,88\n",
      "카나,178,95\n",
      "라다,188,46\n",
      "가나,186,59\n",
      "카타,197,82\n",
      "나자,141,91\n",
      "라하,149,62\n",
      "바하,183,71\n",
      "사자,142,66\n",
      "파카,183,40\n",
      "다차,155,88\n",
      "파바,147,84\n",
      "다타,196,53\n",
      "아라,196,51\n",
      "마하,171,87\n",
      "파파,167,67\n",
      "타차,165,77\n",
      "카마,164,56\n",
      "사타,144,87\n",
      "하파,173,84\n",
      "가자,196,89\n",
      "자아,179,71\n",
      "아차,142,94\n",
      "카가,181,50\n",
      "나자,187,63\n",
      "카하,167,88\n",
      "라타,187,79\n",
      "라라,148,69\n",
      "다나,193,52\n",
      "사사,184,40\n",
      "나바,142,40\n",
      "타가,157,79\n",
      "차나,189,50\n",
      "사라,163,71\n",
      "가가,156,57\n",
      "파카,186,63\n",
      "아아,170,63\n",
      "가타,187,84\n",
      "아타,146,68\n",
      "타파,169,64\n",
      "차자,157,80\n",
      "자타,160,61\n",
      "사자,147,66\n",
      "아파,166,59\n",
      "아나,187,88\n",
      "타타,165,63\n",
      "타다,150,42\n",
      "라나,182,93\n",
      "차카,188,60\n",
      "가바,155,82\n",
      "다라,199,59\n",
      "나사,146,78\n",
      "타차,188,69\n",
      "파사,174,85\n",
      "파사,146,51\n",
      "라나,142,60\n",
      "라카,153,48\n",
      "다카,196,57\n",
      "사나,170,98\n",
      "나아,170,54\n",
      "마차,185,60\n",
      "마나,177,62\n",
      "차자,185,93\n",
      "가하,186,52\n",
      "사나,192,92\n",
      "파라,176,66\n",
      "하자,185,85\n",
      "마하,194,68\n",
      "파하,197,91\n",
      "차차,167,48\n",
      "자자,175,45\n",
      "가가,167,92\n",
      "바차,167,58\n",
      "바바,192,85\n",
      "카카,186,68\n",
      "차가,176,73\n",
      "자타,191,45\n",
      "타타,184,48\n",
      "자라,150,69\n",
      "파카,178,90\n",
      "마다,153,72\n",
      "가가,163,80\n",
      "파라,155,45\n",
      "다나,188,85\n",
      "아사,192,82\n",
      "카바,163,61\n",
      "아타,146,78\n",
      "가바,177,86\n",
      "카카,154,72\n",
      "타라,172,50\n",
      "파사,159,44\n",
      "라나,189,60\n",
      "라가,191,76\n",
      "라마,196,70\n",
      "마사,143,75\n",
      "차차,142,77\n",
      "타바,145,51\n",
      "하다,176,67\n",
      "하타,185,61\n",
      "하자,197,69\n",
      "카바,152,69\n",
      "아자,173,93\n",
      "차사,168,50\n",
      "카나,178,47\n",
      "타다,146,99\n",
      "라아,192,53\n",
      "나타,190,44\n",
      "가나,187,89\n",
      "나사,187,92\n",
      "자차,166,73\n",
      "바라,196,42\n",
      "가사,160,97\n",
      "가카,163,41\n",
      "가바,161,48\n",
      "바자,194,48\n",
      "나라,164,89\n",
      "카다,168,46\n",
      "하바,166,96\n",
      "하하,142,82\n",
      "아하,148,54\n",
      "파다,155,95\n",
      "타하,191,44\n",
      "자바,172,47\n",
      "카나,184,91\n",
      "다라,193,92\n",
      "다파,159,45\n",
      "가자,170,93\n",
      "자하,153,50\n",
      "타나,162,52\n",
      "가아,197,58\n",
      "나가,189,48\n",
      "파하,176,51\n",
      "다라,184,56\n",
      "타바,190,74\n",
      "하타,141,87\n",
      "사다,167,64\n",
      "사라,169,44\n",
      "라라,176,68\n",
      "차카,199,92\n",
      "라나,169,59\n",
      "사바,198,94\n",
      "나라,194,49\n",
      "차아,169,93\n",
      "가아,147,83\n",
      "차자,156,90\n",
      "하사,172,70\n",
      "파나,168,46\n",
      "차카,162,95\n",
      "바타,159,95\n",
      "파타,182,75\n",
      "다카,146,70\n",
      "하차,169,94\n",
      "카가,143,72\n",
      "파사,173,50\n",
      "마나,181,55\n",
      "자다,197,44\n",
      "나아,171,43\n",
      "카사,147,94\n",
      "타하,197,68\n",
      "다하,164,72\n",
      "하다,163,72\n",
      "하바,145,55\n",
      "파파,193,40\n",
      "하마,175,59\n",
      "자자,165,50\n",
      "차마,187,62\n",
      "차가,178,95\n",
      "차나,142,56\n",
      "사바,166,41\n",
      "다카,198,60\n",
      "하사,193,67\n",
      "라자,183,55\n",
      "가다,178,54\n",
      "타사,174,62\n",
      "바다,142,93\n",
      "바나,190,51\n",
      "라마,153,94\n",
      "아사,153,60\n",
      "자사,158,46\n",
      "카마,155,51\n",
      "차라,172,67\n",
      "차파,160,40\n",
      "아나,166,84\n",
      "파가,157,96\n",
      "사다,196,61\n",
      "사아,183,87\n",
      "라자,164,61\n",
      "카가,182,77\n",
      "하가,177,73\n",
      "나차,182,74\n",
      "자바,187,49\n",
      "바차,147,58\n",
      "자마,173,41\n",
      "바타,146,69\n",
      "나사,198,63\n",
      "자마,164,59\n",
      "바아,146,86\n",
      "바마,181,69\n",
      "타사,193,43\n",
      "아다,163,59\n",
      "다바,144,77\n",
      "파가,148,73\n",
      "자나,175,55\n",
      "다파,155,72\n",
      "사타,195,60\n",
      "바차,188,98\n",
      "자파,168,78\n",
      "다자,182,78\n",
      "마사,148,91\n",
      "라하,144,80\n",
      "바타,144,97\n",
      "자사,147,95\n",
      "사아,191,67\n",
      "자다,159,90\n",
      "라라,155,46\n",
      "나타,185,89\n",
      "자라,152,88\n",
      "자가,183,41\n",
      "카파,192,68\n",
      "가하,144,75\n",
      "자라,153,63\n",
      "하차,173,92\n",
      "사라,157,47\n",
      "라다,165,58\n",
      "가아,166,87\n",
      "사사,156,82\n",
      "나차,161,80\n",
      "파마,167,45\n",
      "아타,172,43\n",
      "자가,159,75\n",
      "나하,180,76\n",
      "카다,187,46\n",
      "카마,167,93\n",
      "타아,183,71\n",
      "라카,197,64\n",
      "타아,143,96\n",
      "파차,185,96\n",
      "아다,153,92\n",
      "사파,189,95\n",
      "차타,140,64\n",
      "자차,188,91\n",
      "마사,157,45\n",
      "타자,180,43\n",
      "차하,178,73\n",
      "나가,179,46\n",
      "파카,187,42\n",
      "자가,167,46\n",
      "바카,167,89\n",
      "바사,188,57\n",
      "하사,170,43\n",
      "사차,163,89\n",
      "바마,150,90\n",
      "차타,179,76\n",
      "타차,149,92\n",
      "마사,172,50\n",
      "자마,143,49\n",
      "자가,176,85\n",
      "마나,164,91\n",
      "다파,196,99\n",
      "\n"
     ]
    }
   ],
   "source": [
    "with open('info.txt','r') as file:\n",
    "    data=file.read()\n",
    "    print(data)"
   ]
  },
  {
   "cell_type": "code",
   "execution_count": null,
   "id": "df636089",
   "metadata": {},
   "outputs": [],
   "source": []
  },
  {
   "cell_type": "code",
   "execution_count": null,
   "id": "8aa02080",
   "metadata": {},
   "outputs": [],
   "source": []
  }
 ],
 "metadata": {
  "kernelspec": {
   "display_name": "Python 3",
   "language": "python",
   "name": "python3"
  },
  "language_info": {
   "codemirror_mode": {
    "name": "ipython",
    "version": 3
   },
   "file_extension": ".py",
   "mimetype": "text/x-python",
   "name": "python",
   "nbconvert_exporter": "python",
   "pygments_lexer": "ipython3",
   "version": "3.8.10"
  }
 },
 "nbformat": 4,
 "nbformat_minor": 5
}

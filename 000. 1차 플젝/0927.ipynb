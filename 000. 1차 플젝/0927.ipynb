{
 "cells": [
  {
   "cell_type": "code",
   "execution_count": 1,
   "id": "eb2cebb1",
   "metadata": {},
   "outputs": [
    {
     "data": {
      "text/html": [
       "<div>\n",
       "<style scoped>\n",
       "    .dataframe tbody tr th:only-of-type {\n",
       "        vertical-align: middle;\n",
       "    }\n",
       "\n",
       "    .dataframe tbody tr th {\n",
       "        vertical-align: top;\n",
       "    }\n",
       "\n",
       "    .dataframe thead th {\n",
       "        text-align: right;\n",
       "    }\n",
       "</style>\n",
       "<table border=\"1\" class=\"dataframe\">\n",
       "  <thead>\n",
       "    <tr style=\"text-align: right;\">\n",
       "      <th></th>\n",
       "      <th>제휴사</th>\n",
       "      <th>영수증번호</th>\n",
       "      <th>고객번호</th>\n",
       "      <th>점포코드</th>\n",
       "      <th>구매일자</th>\n",
       "      <th>구매시간</th>\n",
       "      <th>구매금액</th>\n",
       "      <th>구매월</th>\n",
       "      <th>중분류명</th>\n",
       "      <th>소분류명</th>\n",
       "      <th>대분류명</th>\n",
       "      <th>성별</th>\n",
       "      <th>거주지역</th>\n",
       "      <th>연령대</th>\n",
       "    </tr>\n",
       "  </thead>\n",
       "  <tbody>\n",
       "    <tr>\n",
       "      <th>0</th>\n",
       "      <td>A</td>\n",
       "      <td>2757986</td>\n",
       "      <td>15148</td>\n",
       "      <td>10</td>\n",
       "      <td>20140920</td>\n",
       "      <td>20</td>\n",
       "      <td>1000</td>\n",
       "      <td>9</td>\n",
       "      <td>일용잡화</td>\n",
       "      <td>위생세제</td>\n",
       "      <td>가구/인테리어</td>\n",
       "      <td>F</td>\n",
       "      <td>경기 김포시</td>\n",
       "      <td>50대</td>\n",
       "    </tr>\n",
       "    <tr>\n",
       "      <th>1</th>\n",
       "      <td>A</td>\n",
       "      <td>2757986</td>\n",
       "      <td>15148</td>\n",
       "      <td>10</td>\n",
       "      <td>20140920</td>\n",
       "      <td>20</td>\n",
       "      <td>4100</td>\n",
       "      <td>9</td>\n",
       "      <td>가공식품</td>\n",
       "      <td>일반가공식품</td>\n",
       "      <td>가공식품</td>\n",
       "      <td>F</td>\n",
       "      <td>경기 김포시</td>\n",
       "      <td>50대</td>\n",
       "    </tr>\n",
       "  </tbody>\n",
       "</table>\n",
       "</div>"
      ],
      "text/plain": [
       "  제휴사    영수증번호   고객번호  점포코드      구매일자  구매시간  구매금액  구매월  중분류명    소분류명     대분류명  \\\n",
       "0   A  2757986  15148    10  20140920    20  1000    9  일용잡화    위생세제  가구/인테리어   \n",
       "1   A  2757986  15148    10  20140920    20  4100    9  가공식품  일반가공식품     가공식품   \n",
       "\n",
       "  성별    거주지역  연령대  \n",
       "0  F  경기 김포시  50대  \n",
       "1  F  경기 김포시  50대  "
      ]
     },
     "execution_count": 1,
     "metadata": {},
     "output_type": "execute_result"
    }
   ],
   "source": [
    "import pandas as pd\n",
    "dd= pd.read_pickle('dataset/purprd_cust.pkl')\n",
    "dd.head(2)"
   ]
  },
  {
   "cell_type": "code",
   "execution_count": 2,
   "id": "a03f3acb",
   "metadata": {},
   "outputs": [],
   "source": [
    "region= dd.copy()"
   ]
  },
  {
   "cell_type": "code",
   "execution_count": 9,
   "id": "2e02d030",
   "metadata": {},
   "outputs": [],
   "source": [
    "region_li=list(region.거주지역.unique())"
   ]
  },
  {
   "cell_type": "code",
   "execution_count": 14,
   "id": "25fd8728",
   "metadata": {},
   "outputs": [],
   "source": [
    "# for i,region in enumerate(region_li):\n",
    "#     a = "
   ]
  },
  {
   "cell_type": "code",
   "execution_count": null,
   "id": "f2980f05",
   "metadata": {
    "scrolled": true
   },
   "outputs": [],
   "source": [
    "# for value in region_li:\n",
    "#     print(value,region[region.거주지역==value].구매시간.value_counts()[:5])"
   ]
  },
  {
   "cell_type": "code",
   "execution_count": 15,
   "id": "63f99632",
   "metadata": {},
   "outputs": [
    {
     "data": {
      "text/html": [
       "<div>\n",
       "<style scoped>\n",
       "    .dataframe tbody tr th:only-of-type {\n",
       "        vertical-align: middle;\n",
       "    }\n",
       "\n",
       "    .dataframe tbody tr th {\n",
       "        vertical-align: top;\n",
       "    }\n",
       "\n",
       "    .dataframe thead th {\n",
       "        text-align: right;\n",
       "    }\n",
       "</style>\n",
       "<table border=\"1\" class=\"dataframe\">\n",
       "  <thead>\n",
       "    <tr style=\"text-align: right;\">\n",
       "      <th></th>\n",
       "      <th>제휴사</th>\n",
       "      <th>영수증번호</th>\n",
       "      <th>고객번호</th>\n",
       "      <th>점포코드</th>\n",
       "      <th>구매일자</th>\n",
       "      <th>구매시간</th>\n",
       "      <th>구매금액</th>\n",
       "      <th>구매월</th>\n",
       "      <th>중분류명</th>\n",
       "      <th>소분류명</th>\n",
       "      <th>대분류명</th>\n",
       "      <th>성별</th>\n",
       "      <th>거주지역</th>\n",
       "      <th>연령대</th>\n",
       "    </tr>\n",
       "  </thead>\n",
       "  <tbody>\n",
       "    <tr>\n",
       "      <th>0</th>\n",
       "      <td>A</td>\n",
       "      <td>2757986</td>\n",
       "      <td>15148</td>\n",
       "      <td>10</td>\n",
       "      <td>20140920</td>\n",
       "      <td>20</td>\n",
       "      <td>1000</td>\n",
       "      <td>9</td>\n",
       "      <td>일용잡화</td>\n",
       "      <td>위생세제</td>\n",
       "      <td>가구/인테리어</td>\n",
       "      <td>F</td>\n",
       "      <td>경기 김포시</td>\n",
       "      <td>50대</td>\n",
       "    </tr>\n",
       "  </tbody>\n",
       "</table>\n",
       "</div>"
      ],
      "text/plain": [
       "  제휴사    영수증번호   고객번호  점포코드      구매일자  구매시간  구매금액  구매월  중분류명  소분류명     대분류명  \\\n",
       "0   A  2757986  15148    10  20140920    20  1000    9  일용잡화  위생세제  가구/인테리어   \n",
       "\n",
       "  성별    거주지역  연령대  \n",
       "0  F  경기 김포시  50대  "
      ]
     },
     "execution_count": 15,
     "metadata": {},
     "output_type": "execute_result"
    }
   ],
   "source": [
    "import pandas as pd\n",
    "\n",
    "dd= pd.read_pickle('dataset/purprd_cust.pkl')\n",
    "dd.head(1)"
   ]
  },
  {
   "cell_type": "code",
   "execution_count": 17,
   "id": "e7ccc243",
   "metadata": {},
   "outputs": [
    {
     "data": {
      "text/plain": [
       "거주지역\n",
       "강원도 철원            (4112, 181922, 141848, 148)\n",
       "경기 김포시     (1697757, 4285392, 3027738, 37153)\n",
       "경상남도 함양        (266789, 587204, 372998, 1423)\n",
       "경상북도 영주          (53413, 373138, 161304, 188)\n",
       "광주 북구           (118796, 340253, 513207, 482)\n",
       "대구 동구           (78802, 114907, 292718, 1249)\n",
       "대전 유성구           (43758, 303163, 213220, 161)\n",
       "부산 기장         (758420, 1102323, 664382, 8036)\n",
       "서울 강남구          (354292, 98927, 340666, 1807)\n",
       "서울 강동구            (23653, 38881, 32319, 1063)\n",
       "서울 강북구           (70605, 100496, 58797, 2221)\n",
       "서울 강서구           (28985, 62593, 210991, 1060)\n",
       "서울 관악구            (46613, 21003, 21382, 2535)\n",
       "서울 광진구           (94342, 303017, 66630, 2506)\n",
       "서울 구로구             (15489, 34938, 43565, 407)\n",
       "서울 금천구               (9676, 20826, 16085, 43)\n",
       "서울 노원구         (399566, 513300, 224404, 2700)\n",
       "서울 도봉구           (93668, 68249, 102258, 1886)\n",
       "서울 동대문구        (111641, 158352, 280054, 2544)\n",
       "서울 동작구            (53804, 18937, 17796, 2558)\n",
       "서울 마포구            (41845, 59495, 48175, 2243)\n",
       "서울 서대문구          (49427, 42591, 113145, 2017)\n",
       "서울 서초구            (41563, 18834, 117796, 421)\n",
       "서울 성동구           (50468, 292248, 89742, 4052)\n",
       "서울 성북구            (57803, 26927, 58352, 3272)\n",
       "서울 송파구        (553073, 1262563, 365731, 7001)\n",
       "서울 양천구              (9987, 14140, 41010, 829)\n",
       "서울 영등포구            (34123, 37107, 75639, 734)\n",
       "서울 용산구            (31535, 70049, 36911, 1183)\n",
       "서울 은평구            (20877, 17656, 88810, 2223)\n",
       "서울 종로구            (29077, 13916, 29289, 1447)\n",
       "서울 중구              (21671, 30235, 14690, 211)\n",
       "서울 중랑구             (31698, 20022, 19158, 851)\n",
       "세종 장군                (7691, 27741, 13575, 44)\n",
       "울산 동구             (105443, 75812, 48935, 547)\n",
       "인천 계양구        (176890, 1171862, 375912, 6548)\n",
       "전라남도 영광           (8821, 219059, 369596, 303)\n",
       "전라북도 군산         (102702, 501863, 219669, 189)\n",
       "충청남도 천안            (8979, 284529, 113187, 71)\n",
       "충청북도              (6481, 337448, 275410, 388)\n",
       "dtype: object"
      ]
     },
     "execution_count": 17,
     "metadata": {},
     "output_type": "execute_result"
    }
   ],
   "source": [
    "def abc(df):\n",
    "    a= df[df.제휴사=='A'].제휴사.count()\n",
    "    b= df[df.제휴사=='B'].제휴사.count()\n",
    "    c= df[df.제휴사=='C'].제휴사.count()\n",
    "    d= df[df.제휴사=='D'].제휴사.count()\n",
    "    return a,b,c,d\n",
    "    \n",
    "    \n",
    "region = dd.groupby('거주지역').apply(abc)\n",
    "region"
   ]
  },
  {
   "cell_type": "code",
   "execution_count": null,
   "id": "279d4d20",
   "metadata": {},
   "outputs": [],
   "source": []
  },
  {
   "cell_type": "code",
   "execution_count": null,
   "id": "ff46989b",
   "metadata": {},
   "outputs": [],
   "source": []
  },
  {
   "cell_type": "code",
   "execution_count": null,
   "id": "b8d67f3b",
   "metadata": {},
   "outputs": [],
   "source": []
  },
  {
   "cell_type": "code",
   "execution_count": null,
   "id": "cee92ef1",
   "metadata": {},
   "outputs": [],
   "source": []
  },
  {
   "cell_type": "code",
   "execution_count": null,
   "id": "f3efe606",
   "metadata": {},
   "outputs": [],
   "source": []
  },
  {
   "cell_type": "code",
   "execution_count": null,
   "id": "a7bd34a0",
   "metadata": {},
   "outputs": [],
   "source": []
  },
  {
   "cell_type": "code",
   "execution_count": null,
   "id": "9366e03a",
   "metadata": {},
   "outputs": [],
   "source": []
  },
  {
   "cell_type": "code",
   "execution_count": null,
   "id": "79eff954",
   "metadata": {},
   "outputs": [],
   "source": []
  }
 ],
 "metadata": {
  "kernelspec": {
   "display_name": "Python 3",
   "language": "python",
   "name": "python3"
  },
  "language_info": {
   "codemirror_mode": {
    "name": "ipython",
    "version": 3
   },
   "file_extension": ".py",
   "mimetype": "text/x-python",
   "name": "python",
   "nbconvert_exporter": "python",
   "pygments_lexer": "ipython3",
   "version": "3.8.8"
  }
 },
 "nbformat": 4,
 "nbformat_minor": 5
}

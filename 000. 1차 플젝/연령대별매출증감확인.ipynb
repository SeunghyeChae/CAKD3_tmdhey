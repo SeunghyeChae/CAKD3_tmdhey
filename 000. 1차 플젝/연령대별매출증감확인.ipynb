{
 "cells": [
  {
   "cell_type": "code",
   "execution_count": 2,
   "id": "a7ec0560",
   "metadata": {
    "scrolled": true
   },
   "outputs": [
    {
     "data": {
      "text/html": [
       "<div>\n",
       "<style scoped>\n",
       "    .dataframe tbody tr th:only-of-type {\n",
       "        vertical-align: middle;\n",
       "    }\n",
       "\n",
       "    .dataframe tbody tr th {\n",
       "        vertical-align: top;\n",
       "    }\n",
       "\n",
       "    .dataframe thead th {\n",
       "        text-align: right;\n",
       "    }\n",
       "</style>\n",
       "<table border=\"1\" class=\"dataframe\">\n",
       "  <thead>\n",
       "    <tr style=\"text-align: right;\">\n",
       "      <th></th>\n",
       "      <th>제휴사</th>\n",
       "      <th>영수증번호</th>\n",
       "      <th>고객번호</th>\n",
       "      <th>점포코드</th>\n",
       "      <th>구매일자</th>\n",
       "      <th>구매시간</th>\n",
       "      <th>구매금액</th>\n",
       "      <th>구매월</th>\n",
       "      <th>중분류명</th>\n",
       "      <th>소분류명</th>\n",
       "      <th>대분류명</th>\n",
       "      <th>성별</th>\n",
       "      <th>거주지역</th>\n",
       "      <th>연령대</th>\n",
       "    </tr>\n",
       "  </thead>\n",
       "  <tbody>\n",
       "    <tr>\n",
       "      <th>0</th>\n",
       "      <td>A</td>\n",
       "      <td>2757986</td>\n",
       "      <td>15148</td>\n",
       "      <td>10</td>\n",
       "      <td>20140920</td>\n",
       "      <td>20</td>\n",
       "      <td>1000</td>\n",
       "      <td>9</td>\n",
       "      <td>일용잡화</td>\n",
       "      <td>위생세제</td>\n",
       "      <td>가구/인테리어</td>\n",
       "      <td>F</td>\n",
       "      <td>경기 김포시</td>\n",
       "      <td>50대</td>\n",
       "    </tr>\n",
       "    <tr>\n",
       "      <th>1</th>\n",
       "      <td>A</td>\n",
       "      <td>2757986</td>\n",
       "      <td>15148</td>\n",
       "      <td>10</td>\n",
       "      <td>20140920</td>\n",
       "      <td>20</td>\n",
       "      <td>4100</td>\n",
       "      <td>9</td>\n",
       "      <td>가공식품</td>\n",
       "      <td>일반가공식품</td>\n",
       "      <td>가공식품</td>\n",
       "      <td>F</td>\n",
       "      <td>경기 김포시</td>\n",
       "      <td>50대</td>\n",
       "    </tr>\n",
       "    <tr>\n",
       "      <th>2</th>\n",
       "      <td>A</td>\n",
       "      <td>2757987</td>\n",
       "      <td>400</td>\n",
       "      <td>10</td>\n",
       "      <td>20140920</td>\n",
       "      <td>12</td>\n",
       "      <td>5000</td>\n",
       "      <td>9</td>\n",
       "      <td>농산물</td>\n",
       "      <td>채소</td>\n",
       "      <td>신선식품</td>\n",
       "      <td>F</td>\n",
       "      <td>경기 김포시</td>\n",
       "      <td>60세이상</td>\n",
       "    </tr>\n",
       "    <tr>\n",
       "      <th>3</th>\n",
       "      <td>A</td>\n",
       "      <td>2757987</td>\n",
       "      <td>400</td>\n",
       "      <td>10</td>\n",
       "      <td>20140920</td>\n",
       "      <td>12</td>\n",
       "      <td>10200</td>\n",
       "      <td>9</td>\n",
       "      <td>젓갈/반찬</td>\n",
       "      <td>벌크김치</td>\n",
       "      <td>가공식품</td>\n",
       "      <td>F</td>\n",
       "      <td>경기 김포시</td>\n",
       "      <td>60세이상</td>\n",
       "    </tr>\n",
       "    <tr>\n",
       "      <th>4</th>\n",
       "      <td>A</td>\n",
       "      <td>2757988</td>\n",
       "      <td>2043</td>\n",
       "      <td>10</td>\n",
       "      <td>20140920</td>\n",
       "      <td>13</td>\n",
       "      <td>3950</td>\n",
       "      <td>9</td>\n",
       "      <td>일용잡화</td>\n",
       "      <td>위생세제</td>\n",
       "      <td>가구/인테리어</td>\n",
       "      <td>F</td>\n",
       "      <td>경기 김포시</td>\n",
       "      <td>50대</td>\n",
       "    </tr>\n",
       "    <tr>\n",
       "      <th>...</th>\n",
       "      <td>...</td>\n",
       "      <td>...</td>\n",
       "      <td>...</td>\n",
       "      <td>...</td>\n",
       "      <td>...</td>\n",
       "      <td>...</td>\n",
       "      <td>...</td>\n",
       "      <td>...</td>\n",
       "      <td>...</td>\n",
       "      <td>...</td>\n",
       "      <td>...</td>\n",
       "      <td>...</td>\n",
       "      <td>...</td>\n",
       "      <td>...</td>\n",
       "    </tr>\n",
       "    <tr>\n",
       "      <th>28593025</th>\n",
       "      <td>D</td>\n",
       "      <td>253839</td>\n",
       "      <td>15835</td>\n",
       "      <td>40</td>\n",
       "      <td>20151026</td>\n",
       "      <td>13</td>\n",
       "      <td>3000</td>\n",
       "      <td>22</td>\n",
       "      <td>음료</td>\n",
       "      <td>일반차음료</td>\n",
       "      <td>가공식품</td>\n",
       "      <td>M</td>\n",
       "      <td>경기 김포시</td>\n",
       "      <td>30대</td>\n",
       "    </tr>\n",
       "    <tr>\n",
       "      <th>28593026</th>\n",
       "      <td>D</td>\n",
       "      <td>253839</td>\n",
       "      <td>15835</td>\n",
       "      <td>40</td>\n",
       "      <td>20151026</td>\n",
       "      <td>13</td>\n",
       "      <td>1300</td>\n",
       "      <td>22</td>\n",
       "      <td>음료</td>\n",
       "      <td>커피음료</td>\n",
       "      <td>가공식품</td>\n",
       "      <td>M</td>\n",
       "      <td>경기 김포시</td>\n",
       "      <td>30대</td>\n",
       "    </tr>\n",
       "    <tr>\n",
       "      <th>28593027</th>\n",
       "      <td>D</td>\n",
       "      <td>253840</td>\n",
       "      <td>2070</td>\n",
       "      <td>40</td>\n",
       "      <td>20151026</td>\n",
       "      <td>16</td>\n",
       "      <td>59700</td>\n",
       "      <td>22</td>\n",
       "      <td>헤어케어</td>\n",
       "      <td>샴푸</td>\n",
       "      <td>일상용품</td>\n",
       "      <td>M</td>\n",
       "      <td>울산 동구</td>\n",
       "      <td>50대</td>\n",
       "    </tr>\n",
       "    <tr>\n",
       "      <th>28593028</th>\n",
       "      <td>D</td>\n",
       "      <td>253841</td>\n",
       "      <td>15835</td>\n",
       "      <td>40</td>\n",
       "      <td>20151026</td>\n",
       "      <td>23</td>\n",
       "      <td>2000</td>\n",
       "      <td>22</td>\n",
       "      <td>과자</td>\n",
       "      <td>하드캔디</td>\n",
       "      <td>가공식품</td>\n",
       "      <td>M</td>\n",
       "      <td>경기 김포시</td>\n",
       "      <td>30대</td>\n",
       "    </tr>\n",
       "    <tr>\n",
       "      <th>28593029</th>\n",
       "      <td>D</td>\n",
       "      <td>257795</td>\n",
       "      <td>13918</td>\n",
       "      <td>43</td>\n",
       "      <td>20151202</td>\n",
       "      <td>22</td>\n",
       "      <td>2500</td>\n",
       "      <td>24</td>\n",
       "      <td>과자</td>\n",
       "      <td>쿠키</td>\n",
       "      <td>가공식품</td>\n",
       "      <td>M</td>\n",
       "      <td>서울 동작구</td>\n",
       "      <td>30대</td>\n",
       "    </tr>\n",
       "  </tbody>\n",
       "</table>\n",
       "<p>28593030 rows × 14 columns</p>\n",
       "</div>"
      ],
      "text/plain": [
       "         제휴사    영수증번호   고객번호  점포코드      구매일자  구매시간   구매금액  구매월   중분류명    소분류명  \\\n",
       "0          A  2757986  15148    10  20140920    20   1000    9   일용잡화    위생세제   \n",
       "1          A  2757986  15148    10  20140920    20   4100    9   가공식품  일반가공식품   \n",
       "2          A  2757987    400    10  20140920    12   5000    9    농산물      채소   \n",
       "3          A  2757987    400    10  20140920    12  10200    9  젓갈/반찬    벌크김치   \n",
       "4          A  2757988   2043    10  20140920    13   3950    9   일용잡화    위생세제   \n",
       "...       ..      ...    ...   ...       ...   ...    ...  ...    ...     ...   \n",
       "28593025   D   253839  15835    40  20151026    13   3000   22     음료   일반차음료   \n",
       "28593026   D   253839  15835    40  20151026    13   1300   22     음료    커피음료   \n",
       "28593027   D   253840   2070    40  20151026    16  59700   22   헤어케어      샴푸   \n",
       "28593028   D   253841  15835    40  20151026    23   2000   22     과자    하드캔디   \n",
       "28593029   D   257795  13918    43  20151202    22   2500   24     과자      쿠키   \n",
       "\n",
       "             대분류명 성별    거주지역    연령대  \n",
       "0         가구/인테리어  F  경기 김포시    50대  \n",
       "1            가공식품  F  경기 김포시    50대  \n",
       "2            신선식품  F  경기 김포시  60세이상  \n",
       "3            가공식품  F  경기 김포시  60세이상  \n",
       "4         가구/인테리어  F  경기 김포시    50대  \n",
       "...           ... ..     ...    ...  \n",
       "28593025     가공식품  M  경기 김포시    30대  \n",
       "28593026     가공식품  M  경기 김포시    30대  \n",
       "28593027     일상용품  M   울산 동구    50대  \n",
       "28593028     가공식품  M  경기 김포시    30대  \n",
       "28593029     가공식품  M  서울 동작구    30대  \n",
       "\n",
       "[28593030 rows x 14 columns]"
      ]
     },
     "execution_count": 2,
     "metadata": {},
     "output_type": "execute_result"
    }
   ],
   "source": [
    "import pandas as pd\n",
    "import matplotlib.pyplot as plt\n",
    "\n",
    "df = pd.read_pickle('dataset/purprd_cust.pkl')\n",
    "df"
   ]
  },
  {
   "cell_type": "code",
   "execution_count": null,
   "id": "409c6fb0",
   "metadata": {},
   "outputs": [],
   "source": []
  },
  {
   "cell_type": "code",
   "execution_count": 78,
   "id": "126cf603",
   "metadata": {},
   "outputs": [],
   "source": [
    "def year(x):\n",
    "    x = str(x)\n",
    "    return x[:4]\n",
    "\n",
    "def month(x):\n",
    "    x = str(x)\n",
    "    return x[4:6]\n",
    "\n",
    "df['year'] = df['구매일자'].apply(year)\n",
    "df['month'] = df['구매일자'].apply(month)"
   ]
  },
  {
   "cell_type": "code",
   "execution_count": 82,
   "id": "f6abbfdd",
   "metadata": {},
   "outputs": [],
   "source": [
    "df['month'] = df['month'].astype('int64')"
   ]
  },
  {
   "cell_type": "code",
   "execution_count": 83,
   "id": "b5ff3566",
   "metadata": {},
   "outputs": [],
   "source": [
    "df_1 = df[(df['year']=='2014') & (df['month']<=6)]\n",
    "df_2 = df[(df['year']=='2014') & (df['month']>6)]\n",
    "df_3 = df[(df['year']=='2015') & (df['month']<=6)]\n",
    "df_4 = df[(df['year']=='2015') & (df['month']>6)]"
   ]
  },
  {
   "cell_type": "code",
   "execution_count": 161,
   "id": "d415b57d",
   "metadata": {
    "scrolled": true
   },
   "outputs": [],
   "source": [
    "man_30_1 = df_1[(df_1['성별']=='M') & (df_1['연령대']=='30대')]\n",
    "man_30_2 = df_2[(df_2['성별']=='M') & (df_2['연령대']=='30대')]\n",
    "man_30_3 = df_3[(df_3['성별']=='M') & (df_3['연령대']=='30대')]\n",
    "man_30_4 = df_4[(df_4['성별']=='M') & (df_4['연령대']=='30대')]"
   ]
  },
  {
   "cell_type": "code",
   "execution_count": 165,
   "id": "5caae575",
   "metadata": {
    "scrolled": true
   },
   "outputs": [],
   "source": [
    "test1 = man_30_1.groupby('고객번호')[['구매금액']].sum()\n",
    "test2 = man_30_2.groupby('고객번호')[['구매금액']].sum()\n",
    "test3 = man_30_3.groupby('고객번호')[['구매금액']].sum()\n",
    "test4 = man_30_4.groupby('고객번호')[['구매금액']].sum()"
   ]
  },
  {
   "cell_type": "code",
   "execution_count": 200,
   "id": "3a63bdcd",
   "metadata": {},
   "outputs": [],
   "source": [
    "A = pd.merge(test1,test2, on ='고객번호', how ='outer')"
   ]
  },
  {
   "cell_type": "code",
   "execution_count": 201,
   "id": "84fa46e0",
   "metadata": {},
   "outputs": [],
   "source": [
    "B = pd.merge(A, test3, on = '고객번호', how='outer')"
   ]
  },
  {
   "cell_type": "code",
   "execution_count": 202,
   "id": "8bcc9e06",
   "metadata": {},
   "outputs": [],
   "source": [
    "total = pd.merge(B, test4, on = '고객번호', how='outer')"
   ]
  },
  {
   "cell_type": "code",
   "execution_count": 203,
   "id": "8ea6dfb5",
   "metadata": {},
   "outputs": [],
   "source": [
    "total.fillna(0, inplace=True)"
   ]
  },
  {
   "cell_type": "code",
   "execution_count": 204,
   "id": "412ac18a",
   "metadata": {},
   "outputs": [],
   "source": [
    "total.columns = ['14_1','14_2','15_1','15_2']"
   ]
  },
  {
   "cell_type": "code",
   "execution_count": 205,
   "id": "36dd6e8d",
   "metadata": {},
   "outputs": [
    {
     "data": {
      "text/html": [
       "<div>\n",
       "<style scoped>\n",
       "    .dataframe tbody tr th:only-of-type {\n",
       "        vertical-align: middle;\n",
       "    }\n",
       "\n",
       "    .dataframe tbody tr th {\n",
       "        vertical-align: top;\n",
       "    }\n",
       "\n",
       "    .dataframe thead th {\n",
       "        text-align: right;\n",
       "    }\n",
       "</style>\n",
       "<table border=\"1\" class=\"dataframe\">\n",
       "  <thead>\n",
       "    <tr style=\"text-align: right;\">\n",
       "      <th></th>\n",
       "      <th>14_1</th>\n",
       "      <th>14_2</th>\n",
       "      <th>15_1</th>\n",
       "      <th>15_2</th>\n",
       "      <th>d1</th>\n",
       "      <th>d2</th>\n",
       "      <th>d3</th>\n",
       "    </tr>\n",
       "    <tr>\n",
       "      <th>고객번호</th>\n",
       "      <th></th>\n",
       "      <th></th>\n",
       "      <th></th>\n",
       "      <th></th>\n",
       "      <th></th>\n",
       "      <th></th>\n",
       "      <th></th>\n",
       "    </tr>\n",
       "  </thead>\n",
       "  <tbody>\n",
       "    <tr>\n",
       "      <th>7847</th>\n",
       "      <td>5206224.0</td>\n",
       "      <td>6595654.0</td>\n",
       "      <td>5353841.0</td>\n",
       "      <td>4166249.0</td>\n",
       "      <td>1389430.0</td>\n",
       "      <td>-1241813.0</td>\n",
       "      <td>-1187592.0</td>\n",
       "    </tr>\n",
       "    <tr>\n",
       "      <th>7848</th>\n",
       "      <td>4034491.0</td>\n",
       "      <td>4654582.0</td>\n",
       "      <td>4033322.0</td>\n",
       "      <td>3614570.0</td>\n",
       "      <td>620091.0</td>\n",
       "      <td>-621260.0</td>\n",
       "      <td>-418752.0</td>\n",
       "    </tr>\n",
       "    <tr>\n",
       "      <th>7853</th>\n",
       "      <td>1111723.0</td>\n",
       "      <td>1461602.0</td>\n",
       "      <td>2094987.0</td>\n",
       "      <td>1327364.0</td>\n",
       "      <td>349879.0</td>\n",
       "      <td>633385.0</td>\n",
       "      <td>-767623.0</td>\n",
       "    </tr>\n",
       "    <tr>\n",
       "      <th>7856</th>\n",
       "      <td>8254127.0</td>\n",
       "      <td>10604620.0</td>\n",
       "      <td>9101827.0</td>\n",
       "      <td>7903292.0</td>\n",
       "      <td>2350493.0</td>\n",
       "      <td>-1502793.0</td>\n",
       "      <td>-1198535.0</td>\n",
       "    </tr>\n",
       "    <tr>\n",
       "      <th>7867</th>\n",
       "      <td>11833944.0</td>\n",
       "      <td>11915167.0</td>\n",
       "      <td>5400436.0</td>\n",
       "      <td>5524092.0</td>\n",
       "      <td>81223.0</td>\n",
       "      <td>-6514731.0</td>\n",
       "      <td>123656.0</td>\n",
       "    </tr>\n",
       "    <tr>\n",
       "      <th>...</th>\n",
       "      <td>...</td>\n",
       "      <td>...</td>\n",
       "      <td>...</td>\n",
       "      <td>...</td>\n",
       "      <td>...</td>\n",
       "      <td>...</td>\n",
       "      <td>...</td>\n",
       "    </tr>\n",
       "    <tr>\n",
       "      <th>13643</th>\n",
       "      <td>0.0</td>\n",
       "      <td>0.0</td>\n",
       "      <td>581100.0</td>\n",
       "      <td>615300.0</td>\n",
       "      <td>0.0</td>\n",
       "      <td>581100.0</td>\n",
       "      <td>34200.0</td>\n",
       "    </tr>\n",
       "    <tr>\n",
       "      <th>14698</th>\n",
       "      <td>0.0</td>\n",
       "      <td>0.0</td>\n",
       "      <td>1000.0</td>\n",
       "      <td>104010320.0</td>\n",
       "      <td>0.0</td>\n",
       "      <td>1000.0</td>\n",
       "      <td>104009320.0</td>\n",
       "    </tr>\n",
       "    <tr>\n",
       "      <th>16020</th>\n",
       "      <td>0.0</td>\n",
       "      <td>0.0</td>\n",
       "      <td>992400.0</td>\n",
       "      <td>924130.0</td>\n",
       "      <td>0.0</td>\n",
       "      <td>992400.0</td>\n",
       "      <td>-68270.0</td>\n",
       "    </tr>\n",
       "    <tr>\n",
       "      <th>17382</th>\n",
       "      <td>0.0</td>\n",
       "      <td>0.0</td>\n",
       "      <td>0.0</td>\n",
       "      <td>15490.0</td>\n",
       "      <td>0.0</td>\n",
       "      <td>0.0</td>\n",
       "      <td>15490.0</td>\n",
       "    </tr>\n",
       "    <tr>\n",
       "      <th>18761</th>\n",
       "      <td>0.0</td>\n",
       "      <td>0.0</td>\n",
       "      <td>0.0</td>\n",
       "      <td>25800.0</td>\n",
       "      <td>0.0</td>\n",
       "      <td>0.0</td>\n",
       "      <td>25800.0</td>\n",
       "    </tr>\n",
       "  </tbody>\n",
       "</table>\n",
       "<p>994 rows × 7 columns</p>\n",
       "</div>"
      ],
      "text/plain": [
       "             14_1        14_2       15_1         15_2         d1         d2  \\\n",
       "고객번호                                                                          \n",
       "7847    5206224.0   6595654.0  5353841.0    4166249.0  1389430.0 -1241813.0   \n",
       "7848    4034491.0   4654582.0  4033322.0    3614570.0   620091.0  -621260.0   \n",
       "7853    1111723.0   1461602.0  2094987.0    1327364.0   349879.0   633385.0   \n",
       "7856    8254127.0  10604620.0  9101827.0    7903292.0  2350493.0 -1502793.0   \n",
       "7867   11833944.0  11915167.0  5400436.0    5524092.0    81223.0 -6514731.0   \n",
       "...           ...         ...        ...          ...        ...        ...   \n",
       "13643         0.0         0.0   581100.0     615300.0        0.0   581100.0   \n",
       "14698         0.0         0.0     1000.0  104010320.0        0.0     1000.0   \n",
       "16020         0.0         0.0   992400.0     924130.0        0.0   992400.0   \n",
       "17382         0.0         0.0        0.0      15490.0        0.0        0.0   \n",
       "18761         0.0         0.0        0.0      25800.0        0.0        0.0   \n",
       "\n",
       "                d3  \n",
       "고객번호                \n",
       "7847    -1187592.0  \n",
       "7848     -418752.0  \n",
       "7853     -767623.0  \n",
       "7856    -1198535.0  \n",
       "7867      123656.0  \n",
       "...            ...  \n",
       "13643      34200.0  \n",
       "14698  104009320.0  \n",
       "16020     -68270.0  \n",
       "17382      15490.0  \n",
       "18761      25800.0  \n",
       "\n",
       "[994 rows x 7 columns]"
      ]
     },
     "execution_count": 205,
     "metadata": {},
     "output_type": "execute_result"
    }
   ],
   "source": [
    "total['d1'] = total['14_2'] - total['14_1']\n",
    "total['d2'] = total['15_1'] - total['14_2']\n",
    "total['d3'] = total['15_2'] - total['15_1']\n",
    "total"
   ]
  },
  {
   "cell_type": "code",
   "execution_count": 212,
   "id": "66101410",
   "metadata": {},
   "outputs": [
    {
     "name": "stdout",
     "output_type": "stream",
     "text": [
      "14 상반기 => 14 하반기 394\n",
      "14 하반기 => 15 상반기 485\n",
      "15 상반기 => 15 하반기 487\n"
     ]
    },
    {
     "data": {
      "text/plain": [
       "0.3963782696177062"
      ]
     },
     "execution_count": 212,
     "metadata": {},
     "output_type": "execute_result"
    }
   ],
   "source": [
    "print('14 상반기 => 14 하반기', len(total[total['d1'] < 0 ].index))\n",
    "print('14 하반기 => 15 상반기', len(total[total['d2'] < 0 ].index))\n",
    "print('15 상반기 => 15 하반기', len(total[total['d3'] < 0 ].index))\n",
    "394/994  # 0.39\n"
   ]
  },
  {
   "cell_type": "code",
   "execution_count": 181,
   "id": "7820f81d",
   "metadata": {},
   "outputs": [
    {
     "data": {
      "text/plain": [
       "구매금액_x        NaN\n",
       "구매금액_y        NaN\n",
       "구매금액_x        NaN\n",
       "구매금액_y    15490.0\n",
       "Name: 17382, dtype: float64"
      ]
     },
     "execution_count": 181,
     "metadata": {},
     "output_type": "execute_result"
    }
   ],
   "source": [
    "total.loc[17382]"
   ]
  },
  {
   "cell_type": "code",
   "execution_count": 182,
   "id": "fb8fc786",
   "metadata": {},
   "outputs": [
    {
     "data": {
      "text/html": [
       "<div>\n",
       "<style scoped>\n",
       "    .dataframe tbody tr th:only-of-type {\n",
       "        vertical-align: middle;\n",
       "    }\n",
       "\n",
       "    .dataframe tbody tr th {\n",
       "        vertical-align: top;\n",
       "    }\n",
       "\n",
       "    .dataframe thead th {\n",
       "        text-align: right;\n",
       "    }\n",
       "</style>\n",
       "<table border=\"1\" class=\"dataframe\">\n",
       "  <thead>\n",
       "    <tr style=\"text-align: right;\">\n",
       "      <th></th>\n",
       "      <th>고객번호</th>\n",
       "      <th>구매금액_x</th>\n",
       "      <th>구매금액_y</th>\n",
       "      <th>구매금액_x</th>\n",
       "      <th>구매금액_y</th>\n",
       "    </tr>\n",
       "  </thead>\n",
       "  <tbody>\n",
       "    <tr>\n",
       "      <th>992</th>\n",
       "      <td>17382</td>\n",
       "      <td>NaN</td>\n",
       "      <td>NaN</td>\n",
       "      <td>NaN</td>\n",
       "      <td>NaN</td>\n",
       "    </tr>\n",
       "  </tbody>\n",
       "</table>\n",
       "</div>"
      ],
      "text/plain": [
       "      고객번호  구매금액_x  구매금액_y  구매금액_x  구매금액_y\n",
       "992  17382     NaN     NaN     NaN     NaN"
      ]
     },
     "execution_count": 182,
     "metadata": {},
     "output_type": "execute_result"
    }
   ],
   "source": [
    "AA[AA['고객번호']==17382]"
   ]
  },
  {
   "cell_type": "code",
   "execution_count": 154,
   "id": "2e496264",
   "metadata": {},
   "outputs": [],
   "source": [
    "pv1 = pd.pivot_table(df_1, index='성별',columns='연령대', values='구매금액', aggfunc='sum')\n",
    "pv2 = pd.pivot_table(df_2, index='성별',columns='연령대', values='구매금액', aggfunc='sum')\n",
    "pv3 = pd.pivot_table(df_3, index='성별',columns='연령대', values='구매금액', aggfunc='sum')\n",
    "pv4 = pd.pivot_table(df_4, index='성별',columns='연령대', values='구매금액', aggfunc='sum')"
   ]
  },
  {
   "cell_type": "code",
   "execution_count": 156,
   "id": "a69c216a",
   "metadata": {
    "scrolled": false
   },
   "outputs": [
    {
     "data": {
      "text/html": [
       "<div>\n",
       "<style scoped>\n",
       "    .dataframe tbody tr th:only-of-type {\n",
       "        vertical-align: middle;\n",
       "    }\n",
       "\n",
       "    .dataframe tbody tr th {\n",
       "        vertical-align: top;\n",
       "    }\n",
       "\n",
       "    .dataframe thead th {\n",
       "        text-align: right;\n",
       "    }\n",
       "</style>\n",
       "<table border=\"1\" class=\"dataframe\">\n",
       "  <thead>\n",
       "    <tr style=\"text-align: right;\">\n",
       "      <th>연령대</th>\n",
       "      <th>19세이하</th>\n",
       "      <th>20대</th>\n",
       "      <th>30대</th>\n",
       "      <th>40대</th>\n",
       "      <th>50대</th>\n",
       "      <th>60세이상</th>\n",
       "    </tr>\n",
       "    <tr>\n",
       "      <th>성별</th>\n",
       "      <th></th>\n",
       "      <th></th>\n",
       "      <th></th>\n",
       "      <th></th>\n",
       "      <th></th>\n",
       "      <th></th>\n",
       "    </tr>\n",
       "  </thead>\n",
       "  <tbody>\n",
       "    <tr>\n",
       "      <th>M</th>\n",
       "      <td>8499135</td>\n",
       "      <td>497041672</td>\n",
       "      <td>9492274688</td>\n",
       "      <td>11810188846</td>\n",
       "      <td>7180397122</td>\n",
       "      <td>2793675858</td>\n",
       "    </tr>\n",
       "    <tr>\n",
       "      <th>M</th>\n",
       "      <td>12018524</td>\n",
       "      <td>629180254</td>\n",
       "      <td>10387672595</td>\n",
       "      <td>12191680057</td>\n",
       "      <td>7957293446</td>\n",
       "      <td>3245062775</td>\n",
       "    </tr>\n",
       "    <tr>\n",
       "      <th>M</th>\n",
       "      <td>10190662</td>\n",
       "      <td>708978176</td>\n",
       "      <td>9171432092</td>\n",
       "      <td>12230892909</td>\n",
       "      <td>7872029280</td>\n",
       "      <td>2840844729</td>\n",
       "    </tr>\n",
       "    <tr>\n",
       "      <th>M</th>\n",
       "      <td>10967059</td>\n",
       "      <td>739876247</td>\n",
       "      <td>9946768170</td>\n",
       "      <td>12839785097</td>\n",
       "      <td>8028094354</td>\n",
       "      <td>2905244160</td>\n",
       "    </tr>\n",
       "  </tbody>\n",
       "</table>\n",
       "</div>"
      ],
      "text/plain": [
       "연령대     19세이하        20대          30대          40대         50대       60세이상\n",
       "성별                                                                        \n",
       "M     8499135  497041672   9492274688  11810188846  7180397122  2793675858\n",
       "M    12018524  629180254  10387672595  12191680057  7957293446  3245062775\n",
       "M    10190662  708978176   9171432092  12230892909  7872029280  2840844729\n",
       "M    10967059  739876247   9946768170  12839785097  8028094354  2905244160"
      ]
     },
     "execution_count": 156,
     "metadata": {},
     "output_type": "execute_result"
    }
   ],
   "source": [
    "mans_pv = pd.concat([pv1.iloc[[1]] ,pv2.iloc[[1]] ,pv3.iloc[[1]] ,pv4.iloc[[1]]])\n",
    "mans_pv"
   ]
  },
  {
   "cell_type": "code",
   "execution_count": 158,
   "id": "c2de4e3c",
   "metadata": {
    "scrolled": true
   },
   "outputs": [
    {
     "data": {
      "text/html": [
       "<div>\n",
       "<style scoped>\n",
       "    .dataframe tbody tr th:only-of-type {\n",
       "        vertical-align: middle;\n",
       "    }\n",
       "\n",
       "    .dataframe tbody tr th {\n",
       "        vertical-align: top;\n",
       "    }\n",
       "\n",
       "    .dataframe thead th {\n",
       "        text-align: right;\n",
       "    }\n",
       "</style>\n",
       "<table border=\"1\" class=\"dataframe\">\n",
       "  <thead>\n",
       "    <tr style=\"text-align: right;\">\n",
       "      <th>연령대</th>\n",
       "      <th>19세이하</th>\n",
       "      <th>20대</th>\n",
       "      <th>30대</th>\n",
       "      <th>40대</th>\n",
       "      <th>50대</th>\n",
       "      <th>60세이상</th>\n",
       "    </tr>\n",
       "    <tr>\n",
       "      <th>성별</th>\n",
       "      <th></th>\n",
       "      <th></th>\n",
       "      <th></th>\n",
       "      <th></th>\n",
       "      <th></th>\n",
       "      <th></th>\n",
       "    </tr>\n",
       "  </thead>\n",
       "  <tbody>\n",
       "    <tr>\n",
       "      <th>F</th>\n",
       "      <td>22926301</td>\n",
       "      <td>3626528168</td>\n",
       "      <td>26413596913</td>\n",
       "      <td>48917966284</td>\n",
       "      <td>35799262779</td>\n",
       "      <td>11678372374</td>\n",
       "    </tr>\n",
       "    <tr>\n",
       "      <th>F</th>\n",
       "      <td>33082978</td>\n",
       "      <td>4779410269</td>\n",
       "      <td>29744907610</td>\n",
       "      <td>51201943708</td>\n",
       "      <td>38658107365</td>\n",
       "      <td>12520750860</td>\n",
       "    </tr>\n",
       "    <tr>\n",
       "      <th>F</th>\n",
       "      <td>23078653</td>\n",
       "      <td>5613408737</td>\n",
       "      <td>28691780882</td>\n",
       "      <td>51627294515</td>\n",
       "      <td>38652437849</td>\n",
       "      <td>11846781661</td>\n",
       "    </tr>\n",
       "    <tr>\n",
       "      <th>F</th>\n",
       "      <td>19830335</td>\n",
       "      <td>5960547537</td>\n",
       "      <td>29859594328</td>\n",
       "      <td>54630855796</td>\n",
       "      <td>40389838902</td>\n",
       "      <td>12796764230</td>\n",
       "    </tr>\n",
       "  </tbody>\n",
       "</table>\n",
       "</div>"
      ],
      "text/plain": [
       "연령대     19세이하         20대          30대          40대          50대        60세이상\n",
       "성별                                                                           \n",
       "F    22926301  3626528168  26413596913  48917966284  35799262779  11678372374\n",
       "F    33082978  4779410269  29744907610  51201943708  38658107365  12520750860\n",
       "F    23078653  5613408737  28691780882  51627294515  38652437849  11846781661\n",
       "F    19830335  5960547537  29859594328  54630855796  40389838902  12796764230"
      ]
     },
     "execution_count": 158,
     "metadata": {},
     "output_type": "execute_result"
    }
   ],
   "source": [
    "women_pv = pd.concat([pv1.iloc[[0]] ,pv2.iloc[[0]] ,pv3.iloc[[0]] ,pv4.iloc[[0]]])\n",
    "women_pv"
   ]
  },
  {
   "cell_type": "code",
   "execution_count": 159,
   "id": "e1318f71",
   "metadata": {},
   "outputs": [
    {
     "data": {
      "text/plain": [
       "<AxesSubplot:xlabel='성별'>"
      ]
     },
     "execution_count": 159,
     "metadata": {},
     "output_type": "execute_result"
    },
    {
     "data": {
      "image/png": "[encoded data removed]",
      "text/plain": [
       "<Figure size 1080x864 with 1 Axes>"
      ]
     },
     "metadata": {
      "image/png": {
       "height": 700,
       "width": 860
      }
     },
     "output_type": "display_data"
    }
   ],
   "source": [
    "women_pv.plot(kind='bar',figsize=(15,12))"
   ]
  },
  {
   "cell_type": "code",
   "execution_count": 157,
   "id": "a29a31e1",
   "metadata": {},
   "outputs": [
    {
     "data": {
      "text/plain": [
       "<AxesSubplot:xlabel='성별'>"
      ]
     },
     "execution_count": 157,
     "metadata": {},
     "output_type": "execute_result"
    },
    {
     "data": {
      "image/png": "[encoded data removed]",
      "text/plain": [
       "<Figure size 1080x864 with 1 Axes>"
      ]
     },
     "metadata": {
      "image/png": {
       "height": 704,
       "width": 868
      }
     },
     "output_type": "display_data"
    }
   ],
   "source": [
    "mans_pv.plot(kind='bar',figsize=(15,12))"
   ]
  },
  {
   "cell_type": "code",
   "execution_count": 87,
   "id": "dce334a3",
   "metadata": {},
   "outputs": [],
   "source": [
    "data = pd.concat([pv1,pv2,pv3,pv4])"
   ]
  },
  {
   "cell_type": "code",
   "execution_count": 116,
   "id": "2811d14f",
   "metadata": {},
   "outputs": [],
   "source": [
    "data.reset_index(inplace=True)"
   ]
  },
  {
   "cell_type": "code",
   "execution_count": 119,
   "id": "85afa85c",
   "metadata": {
    "scrolled": true
   },
   "outputs": [
    {
     "ename": "AttributeError",
     "evalue": "'DataFrame' object has no attribute 'rename_index'",
     "output_type": "error",
     "traceback": [
      "\u001b[1;31m---------------------------------------------------------------------------\u001b[0m",
      "\u001b[1;31mAttributeError\u001b[0m                            Traceback (most recent call last)",
      "\u001b[1;32m<ipython-input-119-8b587062455e>\u001b[0m in \u001b[0;36m<module>\u001b[1;34m\u001b[0m\n\u001b[0;32m      1\u001b[0m \u001b[0mdata\u001b[0m\u001b[1;33m.\u001b[0m\u001b[0mdrop\u001b[0m\u001b[1;33m(\u001b[0m\u001b[1;34m'index'\u001b[0m\u001b[1;33m,\u001b[0m\u001b[0maxis\u001b[0m\u001b[1;33m=\u001b[0m\u001b[1;36m1\u001b[0m\u001b[1;33m,\u001b[0m\u001b[0minplace\u001b[0m\u001b[1;33m=\u001b[0m\u001b[1;32mTrue\u001b[0m\u001b[1;33m)\u001b[0m\u001b[1;33m\u001b[0m\u001b[1;33m\u001b[0m\u001b[0m\n\u001b[1;32m----> 2\u001b[1;33m \u001b[0mdata\u001b[0m\u001b[1;33m.\u001b[0m\u001b[0mrename_index\u001b[0m\u001b[1;33m(\u001b[0m\u001b[1;33m{\u001b[0m\u001b[1;36m0\u001b[0m\u001b[1;33m:\u001b[0m\u001b[1;34m'14-1'\u001b[0m\u001b[1;33m,\u001b[0m \u001b[1;36m1\u001b[0m\u001b[1;33m:\u001b[0m\u001b[1;34m'14-2'\u001b[0m\u001b[1;33m,\u001b[0m \u001b[1;36m2\u001b[0m\u001b[1;33m:\u001b[0m\u001b[1;34m'15-1'\u001b[0m\u001b[1;33m,\u001b[0m \u001b[1;36m3\u001b[0m\u001b[1;33m:\u001b[0m\u001b[1;34m'15-2'\u001b[0m\u001b[1;33m}\u001b[0m\u001b[1;33m)\u001b[0m\u001b[1;33m\u001b[0m\u001b[1;33m\u001b[0m\u001b[0m\n\u001b[0m",
      "\u001b[1;32mC:\\anaconda3\\lib\\site-packages\\pandas\\core\\generic.py\u001b[0m in \u001b[0;36m__getattr__\u001b[1;34m(self, name)\u001b[0m\n\u001b[0;32m   5463\u001b[0m             \u001b[1;32mif\u001b[0m \u001b[0mself\u001b[0m\u001b[1;33m.\u001b[0m\u001b[0m_info_axis\u001b[0m\u001b[1;33m.\u001b[0m\u001b[0m_can_hold_identifiers_and_holds_name\u001b[0m\u001b[1;33m(\u001b[0m\u001b[0mname\u001b[0m\u001b[1;33m)\u001b[0m\u001b[1;33m:\u001b[0m\u001b[1;33m\u001b[0m\u001b[1;33m\u001b[0m\u001b[0m\n\u001b[0;32m   5464\u001b[0m                 \u001b[1;32mreturn\u001b[0m \u001b[0mself\u001b[0m\u001b[1;33m[\u001b[0m\u001b[0mname\u001b[0m\u001b[1;33m]\u001b[0m\u001b[1;33m\u001b[0m\u001b[1;33m\u001b[0m\u001b[0m\n\u001b[1;32m-> 5465\u001b[1;33m             \u001b[1;32mreturn\u001b[0m \u001b[0mobject\u001b[0m\u001b[1;33m.\u001b[0m\u001b[0m__getattribute__\u001b[0m\u001b[1;33m(\u001b[0m\u001b[0mself\u001b[0m\u001b[1;33m,\u001b[0m \u001b[0mname\u001b[0m\u001b[1;33m)\u001b[0m\u001b[1;33m\u001b[0m\u001b[1;33m\u001b[0m\u001b[0m\n\u001b[0m\u001b[0;32m   5466\u001b[0m \u001b[1;33m\u001b[0m\u001b[0m\n\u001b[0;32m   5467\u001b[0m     \u001b[1;32mdef\u001b[0m \u001b[0m__setattr__\u001b[0m\u001b[1;33m(\u001b[0m\u001b[0mself\u001b[0m\u001b[1;33m,\u001b[0m \u001b[0mname\u001b[0m\u001b[1;33m:\u001b[0m \u001b[0mstr\u001b[0m\u001b[1;33m,\u001b[0m \u001b[0mvalue\u001b[0m\u001b[1;33m)\u001b[0m \u001b[1;33m->\u001b[0m \u001b[1;32mNone\u001b[0m\u001b[1;33m:\u001b[0m\u001b[1;33m\u001b[0m\u001b[1;33m\u001b[0m\u001b[0m\n",
      "\u001b[1;31mAttributeError\u001b[0m: 'DataFrame' object has no attribute 'rename_index'"
     ]
    }
   ],
   "source": [
    "data.drop('index',axis=1,inplace=True)\n"
   ]
  },
  {
   "cell_type": "code",
   "execution_count": 123,
   "id": "96a13c15",
   "metadata": {},
   "outputs": [],
   "source": [
    "data = data.rename(index={0:'14-1', 1:'14-2', 2:'15-1', 3:'15-2'})"
   ]
  },
  {
   "cell_type": "code",
   "execution_count": 124,
   "id": "f2785cc5",
   "metadata": {},
   "outputs": [
    {
     "data": {
      "text/html": [
       "<div>\n",
       "<style scoped>\n",
       "    .dataframe tbody tr th:only-of-type {\n",
       "        vertical-align: middle;\n",
       "    }\n",
       "\n",
       "    .dataframe tbody tr th {\n",
       "        vertical-align: top;\n",
       "    }\n",
       "\n",
       "    .dataframe thead th {\n",
       "        text-align: right;\n",
       "    }\n",
       "</style>\n",
       "<table border=\"1\" class=\"dataframe\">\n",
       "  <thead>\n",
       "    <tr style=\"text-align: right;\">\n",
       "      <th>연령대</th>\n",
       "      <th>19세이하</th>\n",
       "      <th>20대</th>\n",
       "      <th>30대</th>\n",
       "      <th>40대</th>\n",
       "      <th>50대</th>\n",
       "      <th>60세이상</th>\n",
       "    </tr>\n",
       "  </thead>\n",
       "  <tbody>\n",
       "    <tr>\n",
       "      <th>14-1</th>\n",
       "      <td>31425436</td>\n",
       "      <td>4123569840</td>\n",
       "      <td>35905871601</td>\n",
       "      <td>60728155130</td>\n",
       "      <td>42979659901</td>\n",
       "      <td>14472048232</td>\n",
       "    </tr>\n",
       "    <tr>\n",
       "      <th>14-2</th>\n",
       "      <td>45101502</td>\n",
       "      <td>5408590523</td>\n",
       "      <td>40132580205</td>\n",
       "      <td>63393623765</td>\n",
       "      <td>46615400811</td>\n",
       "      <td>15765813635</td>\n",
       "    </tr>\n",
       "    <tr>\n",
       "      <th>15-1</th>\n",
       "      <td>33269315</td>\n",
       "      <td>6322386913</td>\n",
       "      <td>37863212974</td>\n",
       "      <td>63858187424</td>\n",
       "      <td>46524467129</td>\n",
       "      <td>14687626390</td>\n",
       "    </tr>\n",
       "    <tr>\n",
       "      <th>15-2</th>\n",
       "      <td>30797394</td>\n",
       "      <td>6700423784</td>\n",
       "      <td>39806362498</td>\n",
       "      <td>67470640893</td>\n",
       "      <td>48417933256</td>\n",
       "      <td>15702008390</td>\n",
       "    </tr>\n",
       "  </tbody>\n",
       "</table>\n",
       "</div>"
      ],
      "text/plain": [
       "연령대      19세이하         20대          30대          40대          50대        60세이상\n",
       "14-1  31425436  4123569840  35905871601  60728155130  42979659901  14472048232\n",
       "14-2  45101502  5408590523  40132580205  63393623765  46615400811  15765813635\n",
       "15-1  33269315  6322386913  37863212974  63858187424  46524467129  14687626390\n",
       "15-2  30797394  6700423784  39806362498  67470640893  48417933256  15702008390"
      ]
     },
     "execution_count": 124,
     "metadata": {},
     "output_type": "execute_result"
    }
   ],
   "source": [
    "data"
   ]
  },
  {
   "cell_type": "code",
   "execution_count": 129,
   "id": "6914639e",
   "metadata": {
    "scrolled": false
   },
   "outputs": [
    {
     "data": {
      "text/plain": [
       "<AxesSubplot:>"
      ]
     },
     "execution_count": 129,
     "metadata": {},
     "output_type": "execute_result"
    },
    {
     "data": {
      "text/plain": [
       "<Figure size 1080x864 with 0 Axes>"
      ]
     },
     "metadata": {},
     "output_type": "display_data"
    },
    {
     "data": {
      "image/png": "[encoded data removed]",
      "text/plain": [
       "<Figure size 1080x864 with 1 Axes>"
      ]
     },
     "metadata": {
      "image/png": {
       "height": 701,
       "width": 860
      }
     },
     "output_type": "display_data"
    }
   ],
   "source": [
    "import matplotlib.pyplot as plt\n",
    "from matplotlib import rc\n",
    "\n",
    "%config InlineBackend.figure_format = 'retina'\n",
    "rc('font',family='Malgun Gothic') # 한글 폰트 설정\n",
    "plt.rcParams['axes.unicode_minus'] = False #\n",
    "\n",
    "plt.figure(figsize=(15,12))\n",
    "\n",
    "data.plot(kind='bar',figsize=(15,12))"
   ]
  },
  {
   "cell_type": "code",
   "execution_count": null,
   "id": "5da460ed",
   "metadata": {},
   "outputs": [],
   "source": []
  },
  {
   "cell_type": "code",
   "execution_count": null,
   "id": "b4532b3c",
   "metadata": {},
   "outputs": [],
   "source": []
  },
  {
   "cell_type": "code",
   "execution_count": 63,
   "id": "2b975c3f",
   "metadata": {},
   "outputs": [
    {
     "data": {
      "text/html": [
       "<div>\n",
       "<style scoped>\n",
       "    .dataframe tbody tr th:only-of-type {\n",
       "        vertical-align: middle;\n",
       "    }\n",
       "\n",
       "    .dataframe tbody tr th {\n",
       "        vertical-align: top;\n",
       "    }\n",
       "\n",
       "    .dataframe thead th {\n",
       "        text-align: right;\n",
       "    }\n",
       "</style>\n",
       "<table border=\"1\" class=\"dataframe\">\n",
       "  <thead>\n",
       "    <tr style=\"text-align: right;\">\n",
       "      <th></th>\n",
       "      <th>구매일자</th>\n",
       "      <th>구매금액</th>\n",
       "    </tr>\n",
       "  </thead>\n",
       "  <tbody>\n",
       "    <tr>\n",
       "      <th>0</th>\n",
       "      <td>20140108</td>\n",
       "      <td>42950</td>\n",
       "    </tr>\n",
       "    <tr>\n",
       "      <th>1</th>\n",
       "      <td>20140113</td>\n",
       "      <td>24000</td>\n",
       "    </tr>\n",
       "    <tr>\n",
       "      <th>2</th>\n",
       "      <td>20140114</td>\n",
       "      <td>41020</td>\n",
       "    </tr>\n",
       "    <tr>\n",
       "      <th>3</th>\n",
       "      <td>20140115</td>\n",
       "      <td>132240</td>\n",
       "    </tr>\n",
       "    <tr>\n",
       "      <th>4</th>\n",
       "      <td>20140117</td>\n",
       "      <td>42000</td>\n",
       "    </tr>\n",
       "    <tr>\n",
       "      <th>...</th>\n",
       "      <td>...</td>\n",
       "      <td>...</td>\n",
       "    </tr>\n",
       "    <tr>\n",
       "      <th>227</th>\n",
       "      <td>20151218</td>\n",
       "      <td>163900</td>\n",
       "    </tr>\n",
       "    <tr>\n",
       "      <th>228</th>\n",
       "      <td>20151226</td>\n",
       "      <td>6980</td>\n",
       "    </tr>\n",
       "    <tr>\n",
       "      <th>229</th>\n",
       "      <td>20151227</td>\n",
       "      <td>308900</td>\n",
       "    </tr>\n",
       "    <tr>\n",
       "      <th>230</th>\n",
       "      <td>20151228</td>\n",
       "      <td>66880</td>\n",
       "    </tr>\n",
       "    <tr>\n",
       "      <th>231</th>\n",
       "      <td>20151230</td>\n",
       "      <td>424290</td>\n",
       "    </tr>\n",
       "  </tbody>\n",
       "</table>\n",
       "<p>232 rows × 2 columns</p>\n",
       "</div>"
      ],
      "text/plain": [
       "         구매일자    구매금액\n",
       "0    20140108   42950\n",
       "1    20140113   24000\n",
       "2    20140114   41020\n",
       "3    20140115  132240\n",
       "4    20140117   42000\n",
       "..        ...     ...\n",
       "227  20151218  163900\n",
       "228  20151226    6980\n",
       "229  20151227  308900\n",
       "230  20151228   66880\n",
       "231  20151230  424290\n",
       "\n",
       "[232 rows x 2 columns]"
      ]
     },
     "execution_count": 63,
     "metadata": {},
     "output_type": "execute_result"
    }
   ],
   "source": [
    "test.reset_index()"
   ]
  },
  {
   "cell_type": "code",
   "execution_count": 72,
   "id": "47e226b5",
   "metadata": {},
   "outputs": [
    {
     "data": {
      "text/plain": [
       "<AxesSubplot:xlabel='구매일자', ylabel='구매금액'>"
      ]
     },
     "execution_count": 72,
     "metadata": {},
     "output_type": "execute_result"
    },
    {
     "name": "stderr",
     "output_type": "stream",
     "text": [
      "C:\\anaconda3\\lib\\site-packages\\matplotlib\\backends\\backend_agg.py:238: RuntimeWarning: Glyph 44396 missing from current font.\n",
      "  font.set_text(s, 0.0, flags=flags)\n",
      "C:\\anaconda3\\lib\\site-packages\\matplotlib\\backends\\backend_agg.py:238: RuntimeWarning: Glyph 47588 missing from current font.\n",
      "  font.set_text(s, 0.0, flags=flags)\n",
      "C:\\anaconda3\\lib\\site-packages\\matplotlib\\backends\\backend_agg.py:238: RuntimeWarning: Glyph 51068 missing from current font.\n",
      "  font.set_text(s, 0.0, flags=flags)\n",
      "C:\\anaconda3\\lib\\site-packages\\matplotlib\\backends\\backend_agg.py:238: RuntimeWarning: Glyph 51088 missing from current font.\n",
      "  font.set_text(s, 0.0, flags=flags)\n",
      "C:\\anaconda3\\lib\\site-packages\\matplotlib\\backends\\backend_agg.py:238: RuntimeWarning: Glyph 44552 missing from current font.\n",
      "  font.set_text(s, 0.0, flags=flags)\n",
      "C:\\anaconda3\\lib\\site-packages\\matplotlib\\backends\\backend_agg.py:238: RuntimeWarning: Glyph 50529 missing from current font.\n",
      "  font.set_text(s, 0.0, flags=flags)\n",
      "C:\\anaconda3\\lib\\site-packages\\matplotlib\\backends\\backend_agg.py:201: RuntimeWarning: Glyph 44396 missing from current font.\n",
      "  font.set_text(s, 0, flags=flags)\n",
      "C:\\anaconda3\\lib\\site-packages\\matplotlib\\backends\\backend_agg.py:201: RuntimeWarning: Glyph 47588 missing from current font.\n",
      "  font.set_text(s, 0, flags=flags)\n",
      "C:\\anaconda3\\lib\\site-packages\\matplotlib\\backends\\backend_agg.py:201: RuntimeWarning: Glyph 51068 missing from current font.\n",
      "  font.set_text(s, 0, flags=flags)\n",
      "C:\\anaconda3\\lib\\site-packages\\matplotlib\\backends\\backend_agg.py:201: RuntimeWarning: Glyph 51088 missing from current font.\n",
      "  font.set_text(s, 0, flags=flags)\n",
      "C:\\anaconda3\\lib\\site-packages\\matplotlib\\backends\\backend_agg.py:201: RuntimeWarning: Glyph 44552 missing from current font.\n",
      "  font.set_text(s, 0, flags=flags)\n",
      "C:\\anaconda3\\lib\\site-packages\\matplotlib\\backends\\backend_agg.py:201: RuntimeWarning: Glyph 50529 missing from current font.\n",
      "  font.set_text(s, 0, flags=flags)\n"
     ]
    },
    {
     "data": {
      "image/png": "[encoded data removed]",
      "text/plain": [
       "<Figure size 432x288 with 1 Axes>"
      ]
     },
     "metadata": {
      "needs_background": "light"
     },
     "output_type": "display_data"
    }
   ],
   "source": [
    "import seaborn as sns\n",
    "test = df[(df['고객번호']==4)].groupby('구매일자')[['구매금액']].sum().reset_index()\n",
    "sns.barplot(data= test , x=test['구매일자'],y=test['구매금액'])"
   ]
  },
  {
   "cell_type": "code",
   "execution_count": 48,
   "id": "6ef3cfbc",
   "metadata": {},
   "outputs": [
    {
     "data": {
      "text/plain": [
       "경기 김포시     9048040\n",
       "부산 기장      2533161\n",
       "서울 송파구     2188368\n",
       "인천 계양구     1731212\n",
       "경상남도 함양    1228414\n",
       "서울 노원구     1139970\n",
       "광주 북구       972738\n",
       "전라북도 군산     824423\n",
       "서울 강남구      795692\n",
       "충청북도        619727\n",
       "전라남도 영광     597779\n",
       "경상북도 영주     588043\n",
       "대전 유성구      560302\n",
       "서울 동대문구     552591\n",
       "대구 동구       487676\n",
       "서울 광진구      466495\n",
       "서울 성동구      436510\n",
       "충청남도 천안     406766\n",
       "강원도 철원      328030\n",
       "서울 강서구      303629\n",
       "서울 도봉구      266061\n",
       "서울 강북구      232119\n",
       "울산 동구       230737\n",
       "서울 서대문구     207180\n",
       "서울 서초구      178614\n",
       "서울 마포구      151758\n",
       "서울 영등포구     147603\n",
       "서울 성북구      146354\n",
       "서울 용산구      139678\n",
       "서울 은평구      129566\n",
       "서울 강동구       95916\n",
       "서울 구로구       94399\n",
       "서울 동작구       93095\n",
       "서울 관악구       91533\n",
       "서울 종로구       73729\n",
       "서울 중랑구       71729\n",
       "서울 중구        66807\n",
       "서울 양천구       65966\n",
       "세종 장군        49051\n",
       "서울 금천구       46630\n",
       "Name: 거주지역, dtype: int64"
      ]
     },
     "execution_count": 48,
     "metadata": {},
     "output_type": "execute_result"
    }
   ],
   "source": [
    "df.거주지역.value_counts()"
   ]
  },
  {
   "cell_type": "code",
   "execution_count": 9,
   "id": "d724f114",
   "metadata": {},
   "outputs": [
    {
     "data": {
      "text/plain": [
       "<AxesSubplot:xlabel='성별,연령대'>"
      ]
     },
     "execution_count": 9,
     "metadata": {},
     "output_type": "execute_result"
    },
    {
     "data": {
      "image/png": "[encoded data removed]",
      "text/plain": [
       "<Figure size 432x288 with 1 Axes>"
      ]
     },
     "metadata": {
      "needs_background": "light"
     },
     "output_type": "display_data"
    }
   ],
   "source": [
    "(df.groupby(['성별','연령대'])['구매금액'].sum()/1000000).plot(kind='bar')"
   ]
  },
  {
   "cell_type": "code",
   "execution_count": 12,
   "id": "4aef9fea",
   "metadata": {},
   "outputs": [],
   "source": [
    "전체구매금액 = df['구매금액'].sum()\n",
    "여성구매금액 = df[(df['성별']=='F')]['구매금액'].sum()\n",
    "남성구매금액 = df[(df['성별']=='M')]['구매금액'].sum()"
   ]
  },
  {
   "cell_type": "code",
   "execution_count": 14,
   "id": "baaa852d",
   "metadata": {
    "scrolled": false
   },
   "outputs": [
    {
     "name": "stdout",
     "output_type": "stream",
     "text": [
      "여성구매금액 비율 80.27971785757977\n",
      "남성구매금액 비율 19.720282142420228\n"
     ]
    }
   ],
   "source": [
    "print('여성구매금액 비율', 여성구매금액/전체구매금액 * 100)\n",
    "print('남성구매금액 비율', 남성구매금액/전체구매금액 * 100)"
   ]
  },
  {
   "cell_type": "code",
   "execution_count": 36,
   "id": "2a6b0371",
   "metadata": {},
   "outputs": [
    {
     "data": {
      "text/plain": [
       "40대      12385734\n",
       "50대       6885323\n",
       "30대       6619280\n",
       "60세이상     1685516\n",
       "20대        997707\n",
       "19세이하       19470\n",
       "Name: 연령대, dtype: int64"
      ]
     },
     "execution_count": 36,
     "metadata": {},
     "output_type": "execute_result"
    }
   ],
   "source": [
    "전체연령대 = df['연령대'].value_counts()\n",
    "전체연령대"
   ]
  },
  {
   "cell_type": "code",
   "execution_count": 37,
   "id": "d8b922bc",
   "metadata": {},
   "outputs": [],
   "source": [
    "여성연령대 = df[(df['성별']=='F')]['연령대'].value_counts()"
   ]
  },
  {
   "cell_type": "code",
   "execution_count": 38,
   "id": "55c86157",
   "metadata": {},
   "outputs": [],
   "source": [
    "남성연령대 = df[(df['성별']=='M')]['연령대'].value_counts()"
   ]
  },
  {
   "cell_type": "code",
   "execution_count": 44,
   "id": "c47e0e50",
   "metadata": {},
   "outputs": [
    {
     "data": {
      "text/plain": [
       "40대      83.015468\n",
       "50대      84.554232\n",
       "30대      76.776946\n",
       "60세이상    81.720553\n",
       "20대      79.863327\n",
       "19세이하    62.845403\n",
       "Name: 연령대, dtype: float64"
      ]
     },
     "execution_count": 44,
     "metadata": {},
     "output_type": "execute_result"
    }
   ],
   "source": [
    "(여성연령대 / 전체연령대 *100)"
   ]
  },
  {
   "cell_type": "code",
   "execution_count": 43,
   "id": "4ec214e9",
   "metadata": {},
   "outputs": [
    {
     "data": {
      "text/plain": [
       "19세이하    37.154597\n",
       "20대      20.136673\n",
       "30대      23.223054\n",
       "40대      16.984532\n",
       "50대      15.445768\n",
       "60세이상    18.279447\n",
       "Name: 연령대, dtype: float64"
      ]
     },
     "execution_count": 43,
     "metadata": {},
     "output_type": "execute_result"
    }
   ],
   "source": [
    "(남성연령대 / 전체연령대 *100)"
   ]
  },
  {
   "cell_type": "code",
   "execution_count": null,
   "id": "ba64b39f",
   "metadata": {},
   "outputs": [],
   "source": []
  },
  {
   "cell_type": "code",
   "execution_count": null,
   "id": "6e664c3e",
   "metadata": {},
   "outputs": [],
   "source": []
  },
  {
   "cell_type": "code",
   "execution_count": 24,
   "id": "e0a122df",
   "metadata": {},
   "outputs": [],
   "source": [
    " 여성대분류구매 = df[(df['성별']=='F')]['대분류명'].value_counts()"
   ]
  },
  {
   "cell_type": "code",
   "execution_count": 25,
   "id": "afa95218",
   "metadata": {},
   "outputs": [],
   "source": [
    " 남성대분류구매 = df[(df['성별']=='M')]['대분류명'].value_counts()"
   ]
  },
  {
   "cell_type": "code",
   "execution_count": 26,
   "id": "a8228166",
   "metadata": {},
   "outputs": [],
   "source": [
    "전체대분류구매 =  여성대분류구매 + 남성대분류구매"
   ]
  },
  {
   "cell_type": "code",
   "execution_count": 27,
   "id": "aea41968",
   "metadata": {
    "scrolled": true
   },
   "outputs": [
    {
     "data": {
      "text/plain": [
       "가공식품        80.522533\n",
       "가구/인테리어     83.905519\n",
       "교육/문화용품     78.870543\n",
       "기타          76.461086\n",
       "디지털/가전      79.709788\n",
       "명품          82.202671\n",
       "신선식품        83.118867\n",
       "의류          84.496928\n",
       "일상용품        81.833211\n",
       "전문스포츠/레저    82.116196\n",
       "패션잡화        84.250972\n",
       "Name: 대분류명, dtype: float64"
      ]
     },
     "execution_count": 27,
     "metadata": {},
     "output_type": "execute_result"
    }
   ],
   "source": [
    "여성대분류구매/전체대분류구매*100"
   ]
  },
  {
   "cell_type": "code",
   "execution_count": 29,
   "id": "aca56ea7",
   "metadata": {},
   "outputs": [
    {
     "data": {
      "text/plain": [
       "가공식품        19.477467\n",
       "가구/인테리어     16.094481\n",
       "교육/문화용품     21.129457\n",
       "기타          23.538914\n",
       "디지털/가전      20.290212\n",
       "명품          17.797329\n",
       "신선식품        16.881133\n",
       "의류          15.503072\n",
       "일상용품        18.166789\n",
       "전문스포츠/레저    17.883804\n",
       "패션잡화        15.749028\n",
       "Name: 대분류명, dtype: float64"
      ]
     },
     "execution_count": 29,
     "metadata": {},
     "output_type": "execute_result"
    }
   ],
   "source": [
    "남성대분류구매/전체대분류구매*100"
   ]
  },
  {
   "cell_type": "code",
   "execution_count": null,
   "id": "173a1079",
   "metadata": {},
   "outputs": [],
   "source": []
  },
  {
   "cell_type": "code",
   "execution_count": null,
   "id": "71fee3a2",
   "metadata": {},
   "outputs": [],
   "source": []
  },
  {
   "cell_type": "code",
   "execution_count": null,
   "id": "3c382ffb",
   "metadata": {},
   "outputs": [],
   "source": []
  }
 ],
 "metadata": {
  "kernelspec": {
   "display_name": "Python 3",
   "language": "python",
   "name": "python3"
  },
  "language_info": {
   "codemirror_mode": {
    "name": "ipython",
    "version": 3
   },
   "file_extension": ".py",
   "mimetype": "text/x-python",
   "name": "python",
   "nbconvert_exporter": "python",
   "pygments_lexer": "ipython3",
   "version": "3.8.8"
  }
 },
 "nbformat": 4,
 "nbformat_minor": 5
}

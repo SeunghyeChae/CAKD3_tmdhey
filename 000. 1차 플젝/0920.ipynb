{
 "cells": [
  {
   "cell_type": "markdown",
   "id": "c1844002",
   "metadata": {},
   "source": [
    "1.5 성별별 매출액 관계 - 광고 마케팅 제언 ( 중분류 기준 ) /승해\n"
   ]
  },
  {
   "cell_type": "code",
   "execution_count": 3,
   "id": "071b62ea",
   "metadata": {},
   "outputs": [
    {
     "data": {
      "text/html": [
       "<div>\n",
       "<style scoped>\n",
       "    .dataframe tbody tr th:only-of-type {\n",
       "        vertical-align: middle;\n",
       "    }\n",
       "\n",
       "    .dataframe tbody tr th {\n",
       "        vertical-align: top;\n",
       "    }\n",
       "\n",
       "    .dataframe thead th {\n",
       "        text-align: right;\n",
       "    }\n",
       "</style>\n",
       "<table border=\"1\" class=\"dataframe\">\n",
       "  <thead>\n",
       "    <tr style=\"text-align: right;\">\n",
       "      <th></th>\n",
       "      <th>고객번호</th>\n",
       "      <th>제휴사</th>\n",
       "      <th>이용횟수</th>\n",
       "    </tr>\n",
       "  </thead>\n",
       "  <tbody>\n",
       "    <tr>\n",
       "      <th>0</th>\n",
       "      <td>7</td>\n",
       "      <td>A_MOBILE/APP</td>\n",
       "      <td>4</td>\n",
       "    </tr>\n",
       "    <tr>\n",
       "      <th>1</th>\n",
       "      <td>14</td>\n",
       "      <td>A_MOBILE/APP</td>\n",
       "      <td>1</td>\n",
       "    </tr>\n",
       "  </tbody>\n",
       "</table>\n",
       "</div>"
      ],
      "text/plain": [
       "   고객번호           제휴사  이용횟수\n",
       "0     7  A_MOBILE/APP     4\n",
       "1    14  A_MOBILE/APP     1"
      ]
     },
     "execution_count": 3,
     "metadata": {},
     "output_type": "execute_result"
    }
   ],
   "source": [
    "import pandas as pd\n",
    "channel= pd.read_csv('dataset/채널이용.txt',encoding='cp949')\n",
    "channel.head(2)"
   ]
  },
  {
   "cell_type": "code",
   "execution_count": 4,
   "id": "403eca61",
   "metadata": {
    "scrolled": false
   },
   "outputs": [
    {
     "data": {
      "text/plain": [
       "array(['A_MOBILE/APP', 'B_MOBILE/APP', 'C_MOBILE/APP', 'D_MOBILE/APP',\n",
       "       'B_ONLINEMALL', 'C_ONLINEMALL'], dtype=object)"
      ]
     },
     "execution_count": 4,
     "metadata": {},
     "output_type": "execute_result"
    }
   ],
   "source": [
    "channel.제휴사.unique()"
   ]
  },
  {
   "cell_type": "code",
   "execution_count": 5,
   "id": "e6b75e17",
   "metadata": {},
   "outputs": [],
   "source": [
    "ms= pd.read_csv('dataset/멤버십여부.csv')\n"
   ]
  },
  {
   "cell_type": "code",
   "execution_count": 6,
   "id": "f97d2dfa",
   "metadata": {},
   "outputs": [
    {
     "data": {
      "text/html": [
       "<div>\n",
       "<style scoped>\n",
       "    .dataframe tbody tr th:only-of-type {\n",
       "        vertical-align: middle;\n",
       "    }\n",
       "\n",
       "    .dataframe tbody tr th {\n",
       "        vertical-align: top;\n",
       "    }\n",
       "\n",
       "    .dataframe thead th {\n",
       "        text-align: right;\n",
       "    }\n",
       "</style>\n",
       "<table border=\"1\" class=\"dataframe\">\n",
       "  <thead>\n",
       "    <tr style=\"text-align: right;\">\n",
       "      <th></th>\n",
       "      <th>고객번호</th>\n",
       "      <th>멤버십명</th>\n",
       "      <th>가입년월</th>\n",
       "    </tr>\n",
       "  </thead>\n",
       "  <tbody>\n",
       "    <tr>\n",
       "      <th>0</th>\n",
       "      <td>11</td>\n",
       "      <td>하이마트</td>\n",
       "      <td>201512</td>\n",
       "    </tr>\n",
       "    <tr>\n",
       "      <th>1</th>\n",
       "      <td>21</td>\n",
       "      <td>하이마트</td>\n",
       "      <td>201506</td>\n",
       "    </tr>\n",
       "  </tbody>\n",
       "</table>\n",
       "</div>"
      ],
      "text/plain": [
       "   고객번호  멤버십명    가입년월\n",
       "0    11  하이마트  201512\n",
       "1    21  하이마트  201506"
      ]
     },
     "execution_count": 6,
     "metadata": {},
     "output_type": "execute_result"
    }
   ],
   "source": [
    "ms.head(2)"
   ]
  },
  {
   "cell_type": "code",
   "execution_count": 7,
   "id": "d26a32b8",
   "metadata": {},
   "outputs": [
    {
     "data": {
      "text/plain": [
       "array(['하이마트', '다둥이', '롭스', '더영'], dtype=object)"
      ]
     },
     "execution_count": 7,
     "metadata": {},
     "output_type": "execute_result"
    }
   ],
   "source": [
    "ms.멤버십명.unique()"
   ]
  },
  {
   "cell_type": "code",
   "execution_count": 9,
   "id": "7fa4d03e",
   "metadata": {},
   "outputs": [
    {
     "data": {
      "text/html": [
       "<div>\n",
       "<style scoped>\n",
       "    .dataframe tbody tr th:only-of-type {\n",
       "        vertical-align: middle;\n",
       "    }\n",
       "\n",
       "    .dataframe tbody tr th {\n",
       "        vertical-align: top;\n",
       "    }\n",
       "\n",
       "    .dataframe thead th {\n",
       "        text-align: right;\n",
       "    }\n",
       "</style>\n",
       "<table border=\"1\" class=\"dataframe\">\n",
       "  <thead>\n",
       "    <tr style=\"text-align: right;\">\n",
       "      <th></th>\n",
       "      <th>고객번호</th>\n",
       "      <th>성별</th>\n",
       "      <th>연령대</th>\n",
       "      <th>거주지역</th>\n",
       "    </tr>\n",
       "  </thead>\n",
       "  <tbody>\n",
       "    <tr>\n",
       "      <th>0</th>\n",
       "      <td>1</td>\n",
       "      <td>M</td>\n",
       "      <td>60세이상</td>\n",
       "      <td>60.0</td>\n",
       "    </tr>\n",
       "    <tr>\n",
       "      <th>1</th>\n",
       "      <td>2</td>\n",
       "      <td>M</td>\n",
       "      <td>60세이상</td>\n",
       "      <td>100.0</td>\n",
       "    </tr>\n",
       "  </tbody>\n",
       "</table>\n",
       "</div>"
      ],
      "text/plain": [
       "   고객번호 성별    연령대   거주지역\n",
       "0     1  M  60세이상   60.0\n",
       "1     2  M  60세이상  100.0"
      ]
     },
     "execution_count": 9,
     "metadata": {},
     "output_type": "execute_result"
    }
   ],
   "source": [
    "cust= pd.read_csv('dataset/고객DEMO.csv')\n",
    "cust.head(2)"
   ]
  },
  {
   "cell_type": "code",
   "execution_count": null,
   "id": "e1a6ee7f",
   "metadata": {},
   "outputs": [],
   "source": []
  },
  {
   "cell_type": "markdown",
   "id": "00d2384b",
   "metadata": {},
   "source": [
    "# -------------------크롤링--------------------"
   ]
  },
  {
   "cell_type": "code",
   "execution_count": 23,
   "id": "44fcdc6a",
   "metadata": {},
   "outputs": [],
   "source": [
    "from bs4 import BeautifulSoup as bs\n",
    "from selenium import webdriver\n",
    "from selenium.webdriver.common.keys import Keys\n",
    "import pandas as pd\n",
    "import requests\n",
    "import time"
   ]
  },
  {
   "cell_type": "code",
   "execution_count": 21,
   "id": "fdcc1874",
   "metadata": {},
   "outputs": [
    {
     "name": "stdout",
     "output_type": "stream",
     "text": [
      "Search keyword: 여당\n"
     ]
    }
   ],
   "source": [
    "keywords = input('Search keyword: ')"
   ]
  },
  {
   "cell_type": "code",
   "execution_count": 24,
   "id": "dfc79c38",
   "metadata": {},
   "outputs": [],
   "source": [
    "driver = webdriver.Chrome('chromedriver.exe')\n",
    "driver.get('https://news.google.com/topstories?hl=ko&gl=KR&ceid=KR:ko')\n",
    "time.sleep(3)"
   ]
  },
  {
   "cell_type": "code",
   "execution_count": 25,
   "id": "993addd0",
   "metadata": {},
   "outputs": [],
   "source": [
    "search = driver.find_element_by_xpath('//*[@id=\"gb\"]/div[2]/div[2]/div/form/div[1]/div/div/div/div/div[1]/input[2]')\n",
    "\n",
    "search.send_keys(keywords)\n",
    "search.send_keys(Keys.ENTER)\n",
    "time.sleep(3)\n",
    "\n"
   ]
  },
  {
   "cell_type": "code",
   "execution_count": 26,
   "id": "f17c2765",
   "metadata": {},
   "outputs": [],
   "source": [
    "url = driver.current_url\n",
    "resp = requests.get(url)\n",
    "soup = bs(resp.text, 'lxml')"
   ]
  },
  {
   "cell_type": "code",
   "execution_count": 30,
   "id": "2fb1509b",
   "metadata": {},
   "outputs": [
    {
     "data": {
      "text/plain": [
       "['푸틴 지지 여당, 러 총선 승리…\"잠정 개표서 49% 이상 득표\"(종합)',\n",
       " \"'여당 내전'까지 번진 고발 사주 의혹…이낙연-추미애 정면충돌\",\n",
       " \"'존리 그동안 수고했어요'...금융교육 전담기구 설치 나선 여당\",\n",
       " \"'고발 사주' 의혹…야당 “당무감사 먼저” 여당 “법사위 규명”\",\n",
       " '러, 사흘 총선 시작…야권 존재감 부재 속 여당 승리 전망(종합)',\n",
       " \"충청서 '발등에 불' 떨어진 여당 주자들, 앞다퉈 '호남행'\",\n",
       " '질주하던 카카오, 정부·여당에 발목 잡히나',\n",
       " '윤희숙 “나를 수사하라…무혐의 땐 이재명과 여당 의원들 사퇴해야”',\n",
       " '여당 주자마다 “행정수도 완성”…첫 순회 경선지 충청 공들여',\n",
       " \"윤희숙 의원 사직안 통과…'이낙연 표결' 고민 깊어진 여당\",\n",
       " '2030 민심에 놀란 여당…\"가상자산 과세 재논의\"',\n",
       " '국민의힘 “국정원장 개입”…여당 “검찰 의혹에 물타기”',\n",
       " '8월 안에 언론중재법 개정 끝낸다는 요지부동 여당',\n",
       " \"日유권자 총선서 '야당 의석 늘려야' ＞ '여당 의석 늘려야'\",\n",
       " '여당, \"윤석열 직접 개입\" 공세...추미애 \\'폭탄 발언\\'에 불똥',\n",
       " '[플랫폼 독점 논란] \"소상공인 속수무책\"…플랫폼 기업 때리는 거대여당',\n",
       " '여당 \\'김웅 압수수색\\' \"칼로 흥한자 칼로 망한다\" \"악성종양 제거해야\"',\n",
       " '조민 ‘입학 취소’ 결정에 야당 “사필귀정”···여당은 ‘거리두기’',\n",
       " '“조국수홍으로 여당표 구걸” 난타…홍준표 “반문으론 안돼”',\n",
       " '윤석열 \"여당서 총 한방 쏘니 내부서 난리…이래서 정권교체 하겠나\"',\n",
       " '야당 일제히 “사필귀정”…여당 ‘침묵’…조국은 “아비로서 고통”',\n",
       " 'MEDI:GATE NEWS : 여당 이낙연 대선 예비 후보, 의협과 간담회 당일 일정 취소 이유는?',\n",
       " \"'MB까지 거론' 대장동 개발 의혹 여당 내분...고발 사주 의혹 공방에 '경고장'\",\n",
       " \"여당 경선 놔두고 노동자·자영업자 집회 불허…방역 '이중잣대' 논란\",\n",
       " \"여당, 국정감사에 네이버, 카카오 등 '빅테크' 플랫폼 기업 대표들 국감 증인 신청\",\n",
       " \"野 '정치 공작' 주장에 조성은 '여당에 전달돼도 같은 말 할텐가' 반박 - 서울경제\",\n",
       " \"'대장동 개발 의혹' MB까지 불러낸 여당 내분...고발 사주 의혹 '경고장'\",\n",
       " '플랫폼 기업 정조준한 여당, 의약계도 도마에',\n",
       " '\"존리 그동안 수고했어요\"...금융교육 전담기구 설치 나선 여당 - 매일경제 증권센터',\n",
       " '여야 지지율 동반 하락···여당은 ‘황교익’, 야당은 ‘투스톤 논란’ 후폭풍',\n",
       " '정부·여당 빅테크 규제 움직임에…네이버·카카오 하루만에 주가 10% 급락',\n",
       " '[영상] \"보수궤멸\" \"여당대변인\"…첫 TV토론, 윤석열·홍준표 집중 견제',\n",
       " '여당의 폭주가 더 걱정스럽다',\n",
       " '아사히 \"韓여당, 언론압박 이어질 수도 있는 법 개정 추진\"',\n",
       " '野도 플랫폼 규제 합세…이준석, 與에 “골목상권 지키기 협치” - 조선비즈',\n",
       " '“1일 1망언” “여당 대변인” “좌파”…국힘 TV토론 날선 공방',\n",
       " '언론중재법 조항까지 꼼꼼히 지적한 문 대통령…‘유엔 서한’도 여당 멈춰세웠다',\n",
       " '인터넷 매체 \"윤석열 검찰, 여당 인사 고발 사주\"… 尹 \"그런 적 없다\"',\n",
       " '[사설] 윤희숙 잡으려 묻지마 의혹 남발하는 여당의 몰염치',\n",
       " '[사설] 여당, 언론중재법 8월 처리 얽매이지 말고 제대로 숙의하라',\n",
       " '인권위도 언론법 제동…\"헌법상 언론자유 위축\"',\n",
       " '엎친데 덮친격…여당, 의료인 면허취소법도 9월 처리 강행 의지',\n",
       " '재난지원금 불만 폭주에 “90%까지 검토”···혼란 부추긴 여당',\n",
       " '충청 압승 이재명, 당심까지 잡고 여당 경선 초반 기선제압',\n",
       " '의협신문',\n",
       " '\\u200b여당, 언중법 처리 합의 불발에 야당 비난...반대 위한 반대만 해',\n",
       " '장성민 \"尹 출당 조치해야…여당이 쓰다버린 정치적 액세서리\"',\n",
       " '여당, 언론재갈법 강행 처리 책임져야',\n",
       " \"정부·여당, 거대 온라인 기업 '전방위 압박'\",\n",
       " '여당, 윤석열 고발 사주 집중포화...사퇴하고 수사받아야',\n",
       " '秋 “여당·靑 손준성 엄호”…尹 사주 프레임 허물어졌다',\n",
       " '“공공의대 설립은 시간 문제”...여당 유력 대선주자들 의정합의 뒷전',\n",
       " \"서영교 의원, '윤석열 검찰 여당인사 청부고발 의혹'을 국정농단으로 규정\",\n",
       " \"여당 내에서 '속도 조절론'…언론중재법 9월 처리?\",\n",
       " \"[특징주] 카카오, 여당發 '시장독점' 비판에 약세\",\n",
       " \"“독감보다 치명률 낮은 코로나19”…여당 'with 코로나' 추진\",\n",
       " '허은아 \"마지막 정기국회까지 여당은 국민보다 정권이 먼저\"',\n",
       " \"'뭣도 모르는' 여당의 정책 - munhwa.com\",\n",
       " \"대통령·민주당 지지율 '동반 하락'의 의미는?\",\n",
       " '野 잠룡들 윤석열에 “여당이 쓰다버린 액세서리” 맹공',\n",
       " \"여당 보좌관 출신 검사가 '고발사주' 수사…공수처 정치적 중립 논란\",\n",
       " '국민의 우울증을 누가 풀까',\n",
       " '국가기관도 與 `언론법 독주` 경고…\"허위·조작보도 개념 모호\"',\n",
       " \"'여당 내전'까지 번진 고발 사주 의혹…이낙연-추미애 정면충돌 | 김진의 돌직구 쇼 828 회\",\n",
       " '부동산 이어 플랫폼까지 ‘규제 일변도’…中 시진핑 닮아가는 與 대선주자들 - 조선비즈',\n",
       " \"日여당 총재선거 변수?…이시바 '출마 포기 고노 지원' 검토\",\n",
       " '\\'손·발 고생은 아프리카에서나?\\'… 여당 \"윤석열 노동관·인종차별 천박\" - 머니S',\n",
       " \"러 하원의원 선출 총선 '코로나 우려'로 17일부터 사흘간 실시\",\n",
       " \"【시사】 고발 사주 의혹 '여당 정치 공세' 41.8% > '정상적 의혹 제기' 31.3% (여론과 공정)\",\n",
       " '누구나집 월세, 중산층 소득으로도 버겁다',\n",
       " \"'윤희숙, 사표도 안 내고 쇼' 여당 의원 주장에 윤희숙 '조직적 허위사실 유포' - 서울경제\",\n",
       " '[사설] 세계 인권단체들도 폐기 요청한 언론징벌법 - 조선일보',\n",
       " '[HOT 브리핑] 대선과 같은 날 서울 종로 보선, 야당은 이준석? 여당은?',\n",
       " \"與지지층 내 '이재명 당선도 정권교체'… '높은 정권교체론=野 승리'는 착시\",\n",
       " '한국교육신문',\n",
       " '(글로벌GNA) 허경영 국가혁명당 명예 대표,\"언론중재법안, 여당에 맡겨라\"',\n",
       " '[오늘과 내일/길진균]대선 앞 민주당 강경파의 역주행',\n",
       " '[선상원의 촉]정권교체냐 재창출이냐, 이재명 윤석열 홍준표 이낙연 확장성이 좌우',\n",
       " \"[김경국의 정치 톺아보기] '이대남'(20대 남성) 지지 업은 홍준표 돌풍…여당도 “윤석열보다 까다롭다” 경계\",\n",
       " '복지위 국감, 공공심야약국ㆍ약 배달 뜨거운 감자로',\n",
       " '부동산 정책 포기했나? 사전청약·공공임대의 진짜 문제는 - 조선일보',\n",
       " \"'공공의 적' 전락한 플랫폼기업 규제법안 제정 시급...급물살 탈까\",\n",
       " \"'폭망'한 전세 대책…文 정부 '부동산 지옥' 결자해지 가능할까\",\n",
       " '비즈한국',\n",
       " \"'고의·중과실 추정' 조항 빼도 언론 통제란 본질 변함없다\",\n",
       " '문 대통령 당선 환영했던 휴먼라이츠워치, 21번째 비판성명',\n",
       " '국힘 \"與, 국회 차원 감사로 \\'대장동 의혹\\' 실체 밝혀야\"',\n",
       " '[가상자산 법안 진단] 윤창현 의원 “민주당 가상자산TF, 구색 맞추기 벗어나야”',\n",
       " \"충북과 나의 연결고리 '충북일보'\",\n",
       " \"북구 명칭 '낙동구'와 '가람구'로 가닥은 잡았는데… 구의회 대립으로 난항\",\n",
       " \"당정‧금융위 결탁, '차기 정권‧은행'에 금융 부실 떠넘겼다\",\n",
       " \"플랫폼 규제 논의 본격화…업계 '성장 동력 위축 우려'\",\n",
       " '김기현 \"박지원·조성은·민주당 정치공작 진상 밝힐 것\"',\n",
       " \"[이슈속으로]금감원 'DLF' 항소…규제 리스크 계속된다\",\n",
       " \"김주하의 '그런데' - [김주하의 그런데 ] 지원금 탈락자의 아우성\",\n",
       " '\"지원금 왜 안줘\" 상위12% 반란…최대 구제 땐 3천억원 더 쓴다',\n",
       " '박용진 “尹·洪·明은 한국형 두테르테, 대권 줘선 안돼”',\n",
       " '\"윤석열 고발 사주\" vs \"박지원 정치 공작\"‥공방 격화',\n",
       " '매일신문',\n",
       " '[오늘과 내일/이철희]국가 盛衰를 정치적 입방아 삼을 일인가']"
      ]
     },
     "execution_count": 30,
     "metadata": {},
     "output_type": "execute_result"
    }
   ],
   "source": [
    "titles = []\n",
    "\n",
    "for link in soup.select('h3 > a'):\n",
    "    title = link.string\n",
    "    titles.append(title)\n",
    "    \n",
    "titles"
   ]
  },
  {
   "cell_type": "code",
   "execution_count": null,
   "id": "26593daf",
   "metadata": {},
   "outputs": [],
   "source": []
  },
  {
   "cell_type": "code",
   "execution_count": null,
   "id": "012f5b07",
   "metadata": {},
   "outputs": [],
   "source": []
  },
  {
   "cell_type": "code",
   "execution_count": null,
   "id": "f5e6c8ec",
   "metadata": {},
   "outputs": [],
   "source": []
  },
  {
   "cell_type": "code",
   "execution_count": null,
   "id": "a6691f53",
   "metadata": {},
   "outputs": [],
   "source": []
  },
  {
   "cell_type": "code",
   "execution_count": null,
   "id": "7ecaf522",
   "metadata": {},
   "outputs": [],
   "source": []
  }
 ],
 "metadata": {
  "kernelspec": {
   "display_name": "Python 3",
   "language": "python",
   "name": "python3"
  },
  "language_info": {
   "codemirror_mode": {
    "name": "ipython",
    "version": 3
   },
   "file_extension": ".py",
   "mimetype": "text/x-python",
   "name": "python",
   "nbconvert_exporter": "python",
   "pygments_lexer": "ipython3",
   "version": "3.8.8"
  }
 },
 "nbformat": 4,
 "nbformat_minor": 5
}

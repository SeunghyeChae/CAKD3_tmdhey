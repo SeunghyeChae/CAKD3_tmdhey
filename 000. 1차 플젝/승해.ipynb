{
 "cells": [
  {
   "cell_type": "code",
   "execution_count": 1,
   "id": "b0c48551",
   "metadata": {},
   "outputs": [],
   "source": [
    "import pandas as pd\n",
    "\n",
    "dfa = pd.read_csv('dataset/PURPRD/Copy of PURPRD_2014_A_DATA_TABLE.csv',encoding='cp949')\n",
    "dfb = pd.read_csv('dataset/PURPRD/Copy of PURPRD_2014_B_DATA_TABLE.csv',encoding='cp949')\n",
    "dfc = pd.read_csv('dataset/PURPRD/Copy of PURPRD_2014_C_DATA_TABLE.csv',encoding='cp949')\n",
    "dfd = pd.read_csv('dataset/PURPRD/Copy of PURPRD_2014_D_DATA_TABLE.csv',encoding='cp949')\n",
    "\n",
    "ddfa = pd.read_csv('dataset/PURPRD/Copy of PURPRD_2015_A_DATA_TABLE.csv',encoding='cp949')\n",
    "ddfb = pd.read_csv('dataset/PURPRD/Copy of PURPRD_2015_B_DATA_TABLE.csv',encoding='cp949')\n",
    "ddfc = pd.read_csv('dataset/PURPRD/Copy of PURPRD_2015_C_DATA_TABLE.csv',encoding='cp949')\n",
    "ddfd = pd.read_csv('dataset/PURPRD/Copy of PURPRD_2015_D_DATA_TABLE.csv',encoding='cp949')"
   ]
  },
  {
   "cell_type": "code",
   "execution_count": 2,
   "id": "c0e87110",
   "metadata": {
    "scrolled": false
   },
   "outputs": [
    {
     "data": {
      "text/html": [
       "<div>\n",
       "<style scoped>\n",
       "    .dataframe tbody tr th:only-of-type {\n",
       "        vertical-align: middle;\n",
       "    }\n",
       "\n",
       "    .dataframe tbody tr th {\n",
       "        vertical-align: top;\n",
       "    }\n",
       "\n",
       "    .dataframe thead th {\n",
       "        text-align: right;\n",
       "    }\n",
       "</style>\n",
       "<table border=\"1\" class=\"dataframe\">\n",
       "  <thead>\n",
       "    <tr style=\"text-align: right;\">\n",
       "      <th></th>\n",
       "      <th>제휴사</th>\n",
       "      <th>영수증번호</th>\n",
       "      <th>대분류코드</th>\n",
       "      <th>중분류코드</th>\n",
       "      <th>소분류코드</th>\n",
       "      <th>고객번호</th>\n",
       "      <th>점포코드</th>\n",
       "      <th>구매일자</th>\n",
       "      <th>구매시간</th>\n",
       "      <th>구매금액</th>\n",
       "    </tr>\n",
       "  </thead>\n",
       "  <tbody>\n",
       "    <tr>\n",
       "      <th>0</th>\n",
       "      <td>A</td>\n",
       "      <td>2757986</td>\n",
       "      <td>1</td>\n",
       "      <td>101</td>\n",
       "      <td>A010101</td>\n",
       "      <td>15148</td>\n",
       "      <td>10</td>\n",
       "      <td>20140920</td>\n",
       "      <td>20</td>\n",
       "      <td>1000</td>\n",
       "    </tr>\n",
       "    <tr>\n",
       "      <th>1</th>\n",
       "      <td>A</td>\n",
       "      <td>2757986</td>\n",
       "      <td>1</td>\n",
       "      <td>106</td>\n",
       "      <td>A010608</td>\n",
       "      <td>15148</td>\n",
       "      <td>10</td>\n",
       "      <td>20140920</td>\n",
       "      <td>20</td>\n",
       "      <td>4100</td>\n",
       "    </tr>\n",
       "    <tr>\n",
       "      <th>2</th>\n",
       "      <td>A</td>\n",
       "      <td>2757987</td>\n",
       "      <td>1</td>\n",
       "      <td>104</td>\n",
       "      <td>A010402</td>\n",
       "      <td>400</td>\n",
       "      <td>10</td>\n",
       "      <td>20140920</td>\n",
       "      <td>12</td>\n",
       "      <td>5000</td>\n",
       "    </tr>\n",
       "  </tbody>\n",
       "</table>\n",
       "</div>"
      ],
      "text/plain": [
       "  제휴사    영수증번호  대분류코드  중분류코드    소분류코드   고객번호  점포코드      구매일자  구매시간  구매금액\n",
       "0   A  2757986      1    101  A010101  15148    10  20140920    20  1000\n",
       "1   A  2757986      1    106  A010608  15148    10  20140920    20  4100\n",
       "2   A  2757987      1    104  A010402    400    10  20140920    12  5000"
      ]
     },
     "execution_count": 2,
     "metadata": {},
     "output_type": "execute_result"
    }
   ],
   "source": [
    "dfa.head(3)"
   ]
  },
  {
   "cell_type": "code",
   "execution_count": 3,
   "id": "76752722",
   "metadata": {},
   "outputs": [
    {
     "ename": "NameError",
     "evalue": "name 'df1' is not defined",
     "output_type": "error",
     "traceback": [
      "\u001b[1;31m---------------------------------------------------------------------------\u001b[0m",
      "\u001b[1;31mNameError\u001b[0m                                 Traceback (most recent call last)",
      "\u001b[1;32m<ipython-input-3-e954cb15cd70>\u001b[0m in \u001b[0;36m<module>\u001b[1;34m\u001b[0m\n\u001b[1;32m----> 1\u001b[1;33m \u001b[0mdf\u001b[0m\u001b[1;33m=\u001b[0m \u001b[0mpd\u001b[0m\u001b[1;33m.\u001b[0m\u001b[0mconcat\u001b[0m\u001b[1;33m(\u001b[0m\u001b[1;33m[\u001b[0m\u001b[0mdf1\u001b[0m\u001b[1;33m,\u001b[0m\u001b[0mdf2\u001b[0m\u001b[1;33m]\u001b[0m\u001b[1;33m)\u001b[0m\u001b[1;33m\u001b[0m\u001b[1;33m\u001b[0m\u001b[0m\n\u001b[0m",
      "\u001b[1;31mNameError\u001b[0m: name 'df1' is not defined"
     ]
    }
   ],
   "source": [
    "df= pd.concat([df1,df2])"
   ]
  },
  {
   "cell_type": "code",
   "execution_count": null,
   "id": "66563939",
   "metadata": {},
   "outputs": [],
   "source": []
  },
  {
   "cell_type": "code",
   "execution_count": null,
   "id": "1e25730e",
   "metadata": {},
   "outputs": [],
   "source": []
  },
  {
   "cell_type": "code",
   "execution_count": null,
   "id": "6a665580",
   "metadata": {},
   "outputs": [],
   "source": []
  },
  {
   "cell_type": "code",
   "execution_count": null,
   "id": "57235bbb",
   "metadata": {},
   "outputs": [],
   "source": []
  },
  {
   "cell_type": "code",
   "execution_count": null,
   "id": "c0c8d73b",
   "metadata": {
    "scrolled": false
   },
   "outputs": [],
   "source": [
    "# 고객 2014 -> 2015\n",
    "print('A제휴사 고객',dfa.고객번호.value_counts().count())\n",
    "print('B제휴사 고객',dfb.고객번호.value_counts().count())\n",
    "print('C제휴사 고객',dfc.고객번호.value_counts().count())\n",
    "print('D제휴사 고객',dfd.고객번호.value_counts().count())\n",
    "print()\n",
    "print('A제휴사 고객',ddfa.고객번호.value_counts().count())\n",
    "print('B제휴사 고객',ddfb.고객번호.value_counts().count())\n",
    "print('C제휴사 고객',ddfc.고객번호.value_counts().count())\n",
    "print('D제휴사 고객',ddfd.고객번호.value_counts().count())"
   ]
  },
  {
   "cell_type": "code",
   "execution_count": null,
   "id": "29f133ae",
   "metadata": {},
   "outputs": [],
   "source": [
    "dfa.점포코드.value_counts()"
   ]
  },
  {
   "cell_type": "code",
   "execution_count": null,
   "id": "6758f1f7",
   "metadata": {
    "scrolled": true
   },
   "outputs": [],
   "source": [
    "print('A제휴사 점포개수',dfa.점포코드.value_counts().count())\n",
    "print('B제휴사 점포개수',dfb.점포코드.value_counts().count())\n",
    "print('C제휴사 점포개수',dfc.점포코드.value_counts().count())\n",
    "print('D제휴사 점포개수',dfd.점포코드.value_counts().count())\n",
    "print()\n",
    "print('A제휴사 점포개수',ddfa.점포코드.value_counts().count())\n",
    "print('B제휴사 점포개수',ddfb.점포코드.value_counts().count())\n",
    "print('C제휴사 점포개수',ddfc.점포코드.value_counts().count())\n",
    "print('D제휴사 점포개수',ddfd.점포코드.value_counts().count())"
   ]
  },
  {
   "cell_type": "code",
   "execution_count": null,
   "id": "354f3bcc",
   "metadata": {},
   "outputs": [],
   "source": []
  },
  {
   "cell_type": "code",
   "execution_count": null,
   "id": "9dc5dd99",
   "metadata": {},
   "outputs": [],
   "source": [
    "print('A 최고 구매금액(한번에)',dfa.구매금액.max())\n",
    "print('B 최고 구매금액(한번에)',dfb.구매금액.max())\n",
    "print('C 최고 구매금액(한번에)',dfc.구매금액.max())\n",
    "print('D 최고 구매금액(한번에)',dfd.구매금액.max())\n",
    "print()\n",
    "print('A 최고 구매금액(한번에)',ddfa.구매금액.max())\n",
    "print('B 최고 구매금액(한번에)',ddfb.구매금액.max())\n",
    "print('C 최고 구매금액(한번에)',ddfc.구매금액.max())\n",
    "print('D 최고 구매금액(한번에)',ddfd.구매금액.max())"
   ]
  },
  {
   "cell_type": "code",
   "execution_count": null,
   "id": "a0f8ec33",
   "metadata": {},
   "outputs": [],
   "source": [
    "print('A평균구매금액',dfa.구매금액.mean())\n",
    "print('B평균구매금액',dfb.구매금액.mean())\n",
    "print('C평균구매금액',dfc.구매금액.mean())\n",
    "print('D평균구매금액',dfd.구매금액.mean())\n",
    "print()\n",
    "print('A평균구매금액',ddfa.구매금액.mean())\n",
    "print('B평균구매금액',ddfb.구매금액.mean())\n",
    "print('C평균구매금액',ddfc.구매금액.mean())\n",
    "print('D평균구매금액',ddfd.구매금액.mean())"
   ]
  },
  {
   "cell_type": "code",
   "execution_count": null,
   "id": "ee39d08f",
   "metadata": {},
   "outputs": [],
   "source": []
  },
  {
   "cell_type": "code",
   "execution_count": null,
   "id": "4eb8bbcd",
   "metadata": {},
   "outputs": [],
   "source": [
    "df1.구매금액.sum()\n",
    "# 329,601,840,581 3천2백9십억"
   ]
  },
  {
   "cell_type": "code",
   "execution_count": null,
   "id": "d291be69",
   "metadata": {},
   "outputs": [],
   "source": [
    "df2.구매금액.sum()\n",
    "# 347,417,316,360"
   ]
  },
  {
   "cell_type": "code",
   "execution_count": null,
   "id": "5eaa91ee",
   "metadata": {},
   "outputs": [],
   "source": [
    "df1= pd.concat([dfa,dfb,dfc,dfd])\n",
    "df2= pd.concat([ddfa,ddfb,ddfc,ddfd])"
   ]
  },
  {
   "cell_type": "code",
   "execution_count": null,
   "id": "c4ff39fb",
   "metadata": {},
   "outputs": [],
   "source": [
    "# 2014년도 고객번호별 총 구매금액 1~5위\n",
    "df1['구매금액'].groupby(df1['고객번호']).sum().sort_values(ascending=False)[:5]"
   ]
  },
  {
   "cell_type": "code",
   "execution_count": null,
   "id": "7a6c3590",
   "metadata": {},
   "outputs": [],
   "source": [
    "# 2015년도 고객번호별 총 구매금액 1~5위\n",
    "df2['구매금액'].groupby(df2['고객번호']).sum().sort_values(ascending=False)[:15]\n",
    "\n",
    "# 7957 8079 고객 어디갔음 "
   ]
  },
  {
   "cell_type": "code",
   "execution_count": null,
   "id": "94919174",
   "metadata": {},
   "outputs": [],
   "source": [
    "aaa= df2[df2['고객번호']==7957]\n",
    "aaa.구매금액.sum()\n",
    "\n",
    "# 이거 True만 어케뽑았드라;; \n"
   ]
  },
  {
   "cell_type": "code",
   "execution_count": null,
   "id": "934a09c5",
   "metadata": {},
   "outputs": [],
   "source": []
  },
  {
   "cell_type": "code",
   "execution_count": null,
   "id": "fb488492",
   "metadata": {},
   "outputs": [],
   "source": [
    "dfd['구매금액'].groupby(dfd['고객번호']).sum().sort_values(ascending=False)"
   ]
  },
  {
   "cell_type": "code",
   "execution_count": null,
   "id": "a23cffcc",
   "metadata": {},
   "outputs": [],
   "source": [
    "dfa['구매금액'].groupby(dfa['고객번호']).sum().sort_values(ascending=False)"
   ]
  },
  {
   "cell_type": "code",
   "execution_count": null,
   "id": "d0700456",
   "metadata": {
    "scrolled": true
   },
   "outputs": [],
   "source": [
    "print(dfa.info())\n",
    "print()\n",
    "print(dfb.info())\n",
    "print()\n",
    "print(dfc.info())\n",
    "print()\n",
    "print(dfd.info())\n",
    "print()"
   ]
  },
  {
   "cell_type": "code",
   "execution_count": null,
   "id": "d37728f0",
   "metadata": {},
   "outputs": [],
   "source": [
    "print(ddfa.info())\n",
    "print()\n",
    "print(ddfb.info())\n",
    "print()\n",
    "print(ddfc.info())\n",
    "print()\n",
    "print(ddfd.info())\n",
    "print()"
   ]
  },
  {
   "cell_type": "code",
   "execution_count": null,
   "id": "c6a7e0f0",
   "metadata": {},
   "outputs": [],
   "source": []
  },
  {
   "cell_type": "code",
   "execution_count": null,
   "id": "6b7a724d",
   "metadata": {},
   "outputs": [],
   "source": [
    "print('ddfa>> ',ddfa.구매금액.sum())\n",
    "print('ddfb>> ',ddfb.구매금액.sum())\n",
    "print('ddfc>> ',ddfc.구매금액.sum())\n",
    "print('ddfd>> ',ddfd.구매금액.sum())\n"
   ]
  },
  {
   "cell_type": "code",
   "execution_count": null,
   "id": "4e6d24e8",
   "metadata": {},
   "outputs": [],
   "source": [
    "ddfa.대분류코드.value_counts(ascending=False).count()"
   ]
  },
  {
   "cell_type": "code",
   "execution_count": null,
   "id": "b8fcdaaa",
   "metadata": {},
   "outputs": [],
   "source": [
    "# a= dfa.중분류코드.unique()\n",
    "# b= pd.DataFrame(a,columns=['a'])\n",
    "\n",
    "# b = b.sort_values(by='a',ascending=True)\n",
    "# b"
   ]
  },
  {
   "cell_type": "code",
   "execution_count": null,
   "id": "19ffd21d",
   "metadata": {
    "scrolled": true
   },
   "outputs": [],
   "source": [
    "df_cust = pd.read_csv('dataset/고객DEMO.csv')\n",
    "df_cust.head(3)"
   ]
  },
  {
   "cell_type": "code",
   "execution_count": null,
   "id": "908ade9c",
   "metadata": {},
   "outputs": [],
   "source": [
    "df_cust.거주지역.value_counts().count()"
   ]
  },
  {
   "cell_type": "code",
   "execution_count": null,
   "id": "720a9d35",
   "metadata": {},
   "outputs": [],
   "source": [
    "ev = pd.read_csv('dataset/purprd_region.csv', encoding='cp949')\n",
    "ev.info()"
   ]
  },
  {
   "cell_type": "code",
   "execution_count": null,
   "id": "0ee53c7c",
   "metadata": {},
   "outputs": [],
   "source": [
    "ev.head(3)"
   ]
  },
  {
   "cell_type": "code",
   "execution_count": 3,
   "id": "bd5c6b7c",
   "metadata": {},
   "outputs": [
    {
     "ename": "NameError",
     "evalue": "name 'r_dfa' is not defined",
     "output_type": "error",
     "traceback": [
      "\u001b[1;31m---------------------------------------------------------------------------\u001b[0m",
      "\u001b[1;31mNameError\u001b[0m                                 Traceback (most recent call last)",
      "\u001b[1;32m<ipython-input-3-5244b6158af3>\u001b[0m in \u001b[0;36m<module>\u001b[1;34m\u001b[0m\n\u001b[0;32m      4\u001b[0m \u001b[1;31m# r_dfd= ev[ev.제휴사=='D']\u001b[0m\u001b[1;33m\u001b[0m\u001b[1;33m\u001b[0m\u001b[1;33m\u001b[0m\u001b[0m\n\u001b[0;32m      5\u001b[0m \u001b[1;33m\u001b[0m\u001b[0m\n\u001b[1;32m----> 6\u001b[1;33m \u001b[0mr_dfa\u001b[0m\u001b[1;33m.\u001b[0m\u001b[0mto_csv\u001b[0m\u001b[1;33m(\u001b[0m\u001b[1;34m'dataset/PURPRD/구매_거주_A'\u001b[0m\u001b[1;33m)\u001b[0m\u001b[1;33m\u001b[0m\u001b[1;33m\u001b[0m\u001b[0m\n\u001b[0m\u001b[0;32m      7\u001b[0m \u001b[0mr_dfb\u001b[0m\u001b[1;33m.\u001b[0m\u001b[0mto_csv\u001b[0m\u001b[1;33m(\u001b[0m\u001b[1;34m'dataset/PURPRD/구매_거주_B'\u001b[0m\u001b[1;33m)\u001b[0m\u001b[1;33m\u001b[0m\u001b[1;33m\u001b[0m\u001b[0m\n\u001b[0;32m      8\u001b[0m \u001b[0mr_dfc\u001b[0m\u001b[1;33m.\u001b[0m\u001b[0mto_csv\u001b[0m\u001b[1;33m(\u001b[0m\u001b[1;34m'dataset/PURPRD/구매_거주_C'\u001b[0m\u001b[1;33m)\u001b[0m\u001b[1;33m\u001b[0m\u001b[1;33m\u001b[0m\u001b[0m\n",
      "\u001b[1;31mNameError\u001b[0m: name 'r_dfa' is not defined"
     ]
    }
   ],
   "source": [
    "# r_dfa= ev[ev.제휴사=='A']\n",
    "# r_dfb= ev[ev.제휴사=='B']\n",
    "# r_dfc= ev[ev.제휴사=='C']\n",
    "# r_dfd= ev[ev.제휴사=='D']\n",
    "\n",
    "r_dfa.to_csv('dataset/PURPRD/구매_거주_A')\n",
    "r_dfb.to_csv('dataset/PURPRD/구매_거주_B')\n",
    "r_dfc.to_csv('dataset/PURPRD/구매_거주_C')\n",
    "r_dfd.to_csv('dataset/PURPRD/구매_거주_D')"
   ]
  },
  {
   "cell_type": "code",
   "execution_count": null,
   "id": "b973ed95",
   "metadata": {},
   "outputs": [],
   "source": [
    "a= pd.read_csv('dataset/PURPRD/구매_거주_A',index_col=0)\n",
    "a.head(3)"
   ]
  },
  {
   "cell_type": "code",
   "execution_count": null,
   "id": "000ef506",
   "metadata": {},
   "outputs": [],
   "source": [
    "df1['구매금액'].groupby(df1['고객번호']).sum().sort_values(ascending=False)[:5]"
   ]
  },
  {
   "cell_type": "code",
   "execution_count": null,
   "id": "316e2d4a",
   "metadata": {},
   "outputs": [],
   "source": [
    "a['구매금액'].groupby(a['거주지역']).sum().sort_values(ascending=False)"
   ]
  },
  {
   "cell_type": "code",
   "execution_count": null,
   "id": "22a69f45",
   "metadata": {},
   "outputs": [],
   "source": []
  },
  {
   "cell_type": "code",
   "execution_count": null,
   "id": "fcb33a23",
   "metadata": {},
   "outputs": [],
   "source": [
    "a[a.대분류==1]"
   ]
  },
  {
   "cell_type": "code",
   "execution_count": 9,
   "id": "17247ef3",
   "metadata": {},
   "outputs": [],
   "source": [
    "import pandas as pd \n",
    "b= pd.read_csv('dataset/상품분류.txt',encoding='cp949')"
   ]
  },
  {
   "cell_type": "code",
   "execution_count": 5,
   "id": "14029182",
   "metadata": {},
   "outputs": [
    {
     "name": "stdout",
     "output_type": "stream",
     "text": [
      "A제휴사 대분류코드>>  [1 2 3 4 5 6 7 8 9]\n",
      "B제휴사 대분류코드>>  [ 1  2  3  4  5  6  7  8  9 10 11 12 13 14 15 16 17 18 19 20 21 22 23 24\n",
      " 25 26 27 28 29 30 31 32 33 34 35 36 37 38 39 40 41 42 43 44 45 46 47 48\n",
      " 49 50 51 52 53 54 55 56 57 58 59 60 61 62 63 64 65 66 67 68 69 70 71 72\n",
      " 73 74 75 76 77 78 79 80 81 82 83 84 85 86 87 88 89 90 91 92]\n",
      "C제휴사 대분류코드>>  [ 1  2  3  4  5  6  7  8  9 10 11 12 13 14 15 16 17]\n",
      "D제휴사 대분류코드>>  [1 2 3 4 5 6 7 8]\n"
     ]
    }
   ],
   "source": [
    "print('A제휴사 대분류코드>> ',b[(b.제휴사=='A')].대분류코드.unique())\n",
    "print('B제휴사 대분류코드>> ',b[(b.제휴사=='B')].대분류코드.unique())\n",
    "print('C제휴사 대분류코드>> ',b[(b.제휴사=='C')].대분류코드.unique())\n",
    "print('D제휴사 대분류코드>> ',b[(b.제휴사=='D')].대분류코드.unique())"
   ]
  },
  {
   "cell_type": "code",
   "execution_count": 10,
   "id": "f27318c1",
   "metadata": {},
   "outputs": [
    {
     "data": {
      "text/plain": [
       "array(['일용잡화', '육류', '축산가공', '농산물', '수산품', '가공식품', '젓갈/반찬', '건강식품', '주류',\n",
       "       '차/커피', '기타', '열매채소', '버섯', '온라인버섯/열매채소', '국산과일', '수입과일', '냉동과일',\n",
       "       '건과일', '견과류', '베이직케어', '선케어', '클렌징', '집중케어', '남성케어', '베이비케어'],\n",
       "      dtype=object)"
      ]
     },
     "execution_count": 10,
     "metadata": {},
     "output_type": "execute_result"
    }
   ],
   "source": [
    "b[(b.대분류코드==1)].중분류명.unique()"
   ]
  },
  {
   "cell_type": "code",
   "execution_count": 11,
   "id": "991c937c",
   "metadata": {},
   "outputs": [
    {
     "data": {
      "text/plain": [
       "array(['피자', '간식', '디저트', '베이커리'], dtype=object)"
      ]
     },
     "execution_count": 11,
     "metadata": {},
     "output_type": "execute_result"
    }
   ],
   "source": [
    "b[(b.제휴사=='B') & (b.대분류코드==67)].중분류명.unique()"
   ]
  },
  {
   "cell_type": "code",
   "execution_count": 12,
   "id": "3e0e26f4",
   "metadata": {
    "scrolled": false
   },
   "outputs": [
    {
     "name": "stdout",
     "output_type": "stream",
     "text": [
      "1  >> ['열매채소' '버섯' '온라인버섯/열매채소']\n",
      "2  >> ['조리반찬' '시즌반찬']\n",
      "3  >> ['포장젓갈' '포장반찬']\n",
      "4  >> ['양곡' '잡곡류' '즉석도정미' '가공양곡']\n",
      "5  >> ['잎채소' '뿌리채소' '열매채소' '버섯류' '샐러드채소' '약초' '양념류' '식자재' '친환경채소' '김치채소'\n",
      " '온라인잎/샐러드채소' 'LOCAL잎채소' 'LOCAL김치채소' '샐러드/간편채소']\n",
      "6  >> ['대중선어' '냉동수산물' '생선선물세트' '고등어/삼치' '대구' '도미/민어' '기타구색생선' '꽁치/가자미' '오징어'\n",
      " '조기/명태' '국산게/갈치']\n",
      "7  >> ['선물세트' '즉석구이안주' '마른안주' '멸치건명태' '해조류' '특산물' '건오징어' '조미오징어' '육포' '쥐치포'\n",
      " '마른안주선물세트']\n",
      "8  >> ['Fast Food' '편의시설' '레스토랑' '카페' '판매시설' '주유소']\n",
      "9  >> ['브랜드조리' '베이커리' '구이' '튀김' '밥류' '구이찜조리' '반찬류' '대용식' '이벤트조리' '간식조리' '간편조리'\n",
      " '튀김조리' '피자']\n",
      "10  >> ['냉장음료' '데일리처분' '흰우유' '가공우유' '요구르트' '유제품' '브랜드빵' '치즈' '디저트' '유가공']\n",
      "11  >> ['조미료' '소스류' '장류' '식용유지' '조미선물세트' '가루' '식자재' '향신료' '액상조미료' '복합조미료'\n",
      " '소금/설탕류' '수입조미']\n",
      "12  >> ['간편조리식품' '라면' '면류' '분유' '잼' '통조림' '인스턴트선물세트' '이유식/유아간식' '두유']\n",
      "13  >> ['커피' '차' '건강식품' '담배' '인스턴트커피' '원두커피' '커피선물세트' '시즌차' '차선물세트' '꿀']\n",
      "14  >> ['스낵' '비스켓' '파이' '시리얼' '캔디' '초콜릿' '껌' '안주' '한과' '선물세트' '프리미엄과자' '간식용과자'\n",
      " '수입과자' '종합과자' '전통과자']\n",
      "15  >> ['생수' '과채음료' '두유' '탄산음료' '이온음료' '커피차음료' '기능성음료' '수입음료']\n",
      "16  >> ['소주' '맥주' '와인' '전통주' '양주']\n",
      "17  >> ['세탁세제' '주거세제' '주방세제' '섬유유연제' '표백제' '살충제' '탈취제' '제습제']\n",
      "18  >> ['기저귀' '화장지' '생리대' '유아세제' '유아위생용품' '시니어위생용품' '여성위생용품' '키친타올' '물티슈' '미용티슈']\n",
      "19  >> ['구강용품' '헤어스타일링' '면도용품' '바디용품' '스킨케어' '개인위생용품' 'H&B선물세트' '일반헤어케어' '기능헤어케어']\n",
      "20  >> ['그릇/수저' '음식조리' '음식저장/보관' '주방정리' '야외용품' '주방시즌/균일가' '야외/시즌용품' '균일가']\n",
      "21  >> ['청소용품' '세탁용품' '수납용품' '욕실용품' '휴지통' '밀대/걸레' '청소편의도구' '종량제봉투']\n",
      "22  >> ['소가구' '장식용품' '의자/상' '조명/전구' '보수용품' '건전지' '가구/인테리어샵' '테이블' '의자' '상' '제기용품'\n",
      " '아웃도어퍼니처' '벽지류' '가구']\n",
      "23  >> ['성인침구류' '수예소품' '커튼류' '수예시즌' '아동침구류']\n",
      "24  >> ['예능학용품' '노트/지류' '필기도구' '오피스용품' '파티/팬시/시즌' '미술용품' '교육보조재' '파티/팬시' '노트'\n",
      " '시즌행사']\n",
      "25  >> ['일반서적' '음반' '유/아동서적' '영상' '서적' '음반영상']\n",
      "26  >> ['BABY/INFANT' 'GIRLS' '교육' 'VIDEOGAME' '남아' 'SPORTS/OUTDOOR'\n",
      " 'EDUCATION 1' 'EDUCATION 2' 'BOYS 1' 'BOYS 2']\n",
      "27  >> ['애완/동물용품' '원예용품' '애견용품' '덴탈케어' '고양이용품' '동물병원' '수족관용품']\n",
      "28  >> ['자동차 정비용품' '자동차 청소용품' '카시트/매트' '자동차처분' '자동차 액세서리' '교환/보수용품' '세차용품'\n",
      " '자동차방향제/소취제' '자동차 편의용품' '자동차장식용품' '휴대폰용품' '장착용품' '오토바이용품']\n",
      "29  >> ['스트리트편집샵' '행사' '이지캐주얼브랜드' '여성캐주얼브랜드']\n",
      "30  >> ['비즈니스정장' '시티캐주얼' '복합샵' '남성브랜드' '남성행사' '남성시즌행사']\n",
      "31  >> ['유아브랜드' '아동복합샵' '아동브랜드' '아동행사' '유아동용품']\n",
      "32  >> ['유아용품' '유아토들러' '주니어스포츠' '주니어웨어' '유아동PB' '유아동NPB' '유아동특정']\n",
      "33  >> ['성인내의' '란제리' '양말' '홈웨어' '스타킹' '란제리브랜드' '아동내의' '언더웨어행사']\n",
      "34  >> ['국내화장품' '미용잡화' '수입브랜드' '화장품브랜드샵']\n",
      "35  >> ['스키' '등산' '낚시' '수영복' '윈터스포츠' '워터스포츠' '스포츠웨어']\n",
      "36  >> ['롤러보드' '구기용품' '헬스용품' '자전거' '스포츠ACC' '라켓스포츠' '시니어건강용품' '스포츠의류']\n",
      "37  >> ['분식' '양식' '일식' '중식' '한식' '패스트푸드' '레스토랑' '카페' '푸드코트' '컨세션']\n",
      "38  >> ['해초류' '나물' '콩나물' '두부' '간편채소' '묵' '즉석참기름' '묵/즉석참기름']\n",
      "39  >> ['냉장고' '세탁기' 'TV' 'DVD' '오디오' '홈시어터' '김치냉장고']\n",
      "40  >> ['정수기' '공기청정기' '에어컨' '선풍기' '히터기' '전기요/장판' '가습기' '건강가전']\n",
      "41  >> ['밥솥' '주방소형가전' '청소기' '전기포트' '믹서기' '생활소형가전' '커피메이커/머신' '기타주방가전' '조리기']\n",
      "42  >> ['소형음향기기' '카메라/캠코더' '전화기/팩스' '이동통신' 'PC' '컴퓨터주변기기' '전기면도기' '건강디지털기기'\n",
      " 'NAVI/하이패스' '기타음향기기' '전자악기' 'MP3/PMP' '전자학습기']\n",
      "43  >> ['어묵맛살' '냉장면류' '햄소시지' '냉장반찬' '냉동만두' '냉동간식' '냉동대용식' '아이스크림' '햄' '소시지'\n",
      " '냉장햄세트']\n",
      "44  >> ['드레스화브랜드' '캐주얼화브랜드' '아동화브랜드' '슈즈행사' '남성구두' '여성구두' '샌들슬리퍼' 'NB구두' '운동화']\n",
      "45  >> ['준보석' '시계' '액세서리' '피혁브랜드' '가방브랜드' '잡화멀티샵' '미입점행사' '지갑' '벨트' '핸드백' '가방'\n",
      " '피혁토탈' '모자' '우산/양산' '스카프' '장갑' '시즌토탈' '썬글라스' '여행용품']\n",
      "46  >> ['우육' '수입육' '일반한우' '한우선물세트' '브랜드한우']\n",
      "47  >> ['닭고기' '계란' '오리고기']\n",
      "48  >> ['양념육' '돼지고기' '브랜드돼지고기' '차별화돼지고기' '온라인돼지고기']\n",
      "49  >> ['마담/어덜트' '미시캐주얼' '여성베이직' '여성이지캐주얼' '여성PB' '여성NPB' '여성특정']\n",
      "50  >> ['병행수입' '남성베이직' '남성스포츠' '남성어덜트캐주얼' '남성이지캐주얼' '남성스포츠PB' '남성스포츠NPB'\n",
      " '남성스포츠특정']\n",
      "51  >> ['스포츠브랜드편집' '스포츠NB' '골프' '시즌행사' '브랜드']\n",
      "52  >> ['과실과일' '과채과일' '선물세트' '친환경과일' '감귤' '감' '복숭아' '자두' '토마토' '포도' '참외' '수박'\n",
      " '딸기' '메론']\n",
      "53  >> ['선물세트' '수입감귤과일' '수입기타과일' '열대과일' '키위/석류' '포도/체리' '오렌지과일선물세트' '오렌지' '자몽'\n",
      " '오렌지과일기타' '석류' '레몬']\n",
      "54  >> ['생선회' '해물연체류' '간편조리생선' '생선초밥' '기타회']\n",
      "55  >> ['건과' '친환경채소' '건강선물세트' '냉동가공' '생활한방' '한방식재류' '한방차']\n",
      "56  >> ['밥류' '간편조리' '김/초밥' '도시락']\n",
      "57  >> ['선식' '떡' '족발']\n",
      "58  >> ['족발' '순대']\n",
      "59  >> ['단무지류' '포장반찬' '김치류' '반찬류' '포장젓갈']\n",
      "60  >> ['젓갈류']\n",
      "61  >> ['브랜드푸드몰' '간식조리']\n",
      "62  >> ['빵' '피자']\n",
      "63  >> ['반찬' '전통간식' '먹거리' '먹거리행사' '시즌행사' '맛집행사' '즉석구이안주' '즉석구이김' '특산물행사']\n",
      "64  >> ['블루베리' '체리' '수입포도' '냉동과일']\n",
      "65  >> ['열대과일기타' '바나나' '파인애플' '망고' '키위' '열대과일선물세트']\n",
      "66  >> ['남성용품' '개인위생용품' '바디케어' '훼이셜케어' '베이비케어' '풋/핸드케어' '미용소품' '아로마']\n",
      "67  >> ['피자' '간식' '디저트' '베이커리']\n",
      "68  >> ['남성양말' '여성양말' '아동양말' '덧신' '주니어양말' '양말선물세트' '온라인양말' '언더웨어행사']\n",
      "69  >> ['시즌슈즈' '스포츠슈즈' '아동슈즈' '캐주얼슈즈' '슈즈용품']\n",
      "70  >> ['지갑/벨트' '가방' 'TRAVEL' '모자' '우산/양산' '시즌잡화' '장갑']\n",
      "71  >> ['브랜드' '등산' '캠핑']\n",
      "72  >> ['잡곡' '선식' '온라인잡곡선식']\n",
      "73  >> ['포장반찬HMR' '냉동HMR' '냉장간편식HMR' '냉장식사HMR']\n",
      "74  >> ['라면' '면류' '간편요리' '밥죽류' '브랜드빵' '시리얼']\n",
      "75  >> ['비타민' '기능성건강' '홍인삼' '담배' '건강선물세트']\n",
      "76  >> ['수입연어' '수입고등어' '수입갈치' '수입게' '수입기타생선']\n",
      "77  >> ['냉동규격생선' '냉동규격해물' '규격생선선물세트' '냉장규격생선' '온라인규격/간편조리생선' '규격RTC' '간편조리행사']\n",
      "78  >> ['굴비' '반건생선' '굴비/반건생선선물세트']\n",
      "79  >> ['해초' '조개' '조개살' '연체' '새우' '해물선물세트' '온라인해물연체']\n",
      "80  >> ['특산물행사' '멸치' '천연조미료' '황태' '미역/다시마' '멸치황태미역선물세트']\n",
      "81  >> ['즉석구이김' '마른김' '조미김' '김가공품' '김선물세트']\n",
      "82  >> ['미국산소고기' '호주산소고기' '수입육선물세트' '수입돼지고기' '기타국소고기']\n",
      "83  >> ['양념육' '육가공품']\n",
      "84  >> ['그릇/수저' '유아식기' '조리용기' '조리도구']\n",
      "85  >> ['주방가전' '시즌/건강가전']\n",
      "86  >> ['패브릭욕실용품' '매트' '프리미엄매트' '일반욕실용품' 'DIY욕실용품' '수도용품']\n",
      "87  >> ['조명기구' '전구' '전기용품' '안전용품' '보수용품' '공구' '건전지']\n",
      "88  >> ['브랜드침구' '성인침구' '아동침구']\n",
      "89  >> ['계란' '가공란']\n",
      "90  >> ['기초화장품' '색조화장품' '드럭스토어' '온라인화장품']\n",
      "91  >> ['양념채소' '뿌리채소' '온라인양념/뿌리채소']\n",
      "92  >> ['사과' '배' '국산과일선물세트' '온라인저장과일' '구색과일' '밤']\n",
      "93  >> []\n",
      "94  >> []\n",
      "95  >> []\n",
      "96  >> []\n",
      "97  >> []\n",
      "98  >> []\n",
      "99  >> []\n"
     ]
    }
   ],
   "source": [
    "for i in range(1,100):\n",
    "    print(i,' >>',b[(b.제휴사=='B') & (b.대분류코드==i)].중분류명.unique())"
   ]
  },
  {
   "cell_type": "code",
   "execution_count": null,
   "id": "6161ab40",
   "metadata": {},
   "outputs": [],
   "source": []
  },
  {
   "cell_type": "code",
   "execution_count": null,
   "id": "8e73f1ca",
   "metadata": {},
   "outputs": [],
   "source": []
  },
  {
   "cell_type": "code",
   "execution_count": null,
   "id": "da2b0480",
   "metadata": {},
   "outputs": [],
   "source": []
  },
  {
   "cell_type": "code",
   "execution_count": 115,
   "id": "1788a00f",
   "metadata": {},
   "outputs": [
    {
     "data": {
      "text/plain": [
       "array(['위생세제', '휴지류', '뷰티상품', '일용잡화', '세트상품', '단기행사'], dtype=object)"
      ]
     },
     "execution_count": 115,
     "metadata": {},
     "output_type": "execute_result"
    }
   ],
   "source": [
    "b[(b.제휴사=='A') & (b.중분류명=='일용잡화')].소분류명.unique()"
   ]
  },
  {
   "cell_type": "code",
   "execution_count": 15,
   "id": "7b4bc2d7",
   "metadata": {},
   "outputs": [
    {
     "data": {
      "text/plain": [
       "array(['섬유잡화', '액세서리', '화장품', '보석', '준보석/시계', '피혁잡화', '구두'], dtype=object)"
      ]
     },
     "execution_count": 15,
     "metadata": {},
     "output_type": "execute_result"
    }
   ],
   "source": [
    "b[(b.제휴사=='A') & (b.대분류코드==2)].중분류명.unique()"
   ]
  },
  {
   "cell_type": "code",
   "execution_count": 62,
   "id": "fc9a7037",
   "metadata": {},
   "outputs": [],
   "source": [
    "# b[(b.제휴사=='B') & (b.대분류코드==1)].loc[:,'대분류코드'] "
   ]
  },
  {
   "cell_type": "code",
   "execution_count": null,
   "id": "18c3858b",
   "metadata": {},
   "outputs": [],
   "source": []
  },
  {
   "cell_type": "code",
   "execution_count": 61,
   "id": "a3a7b76a",
   "metadata": {
    "scrolled": true
   },
   "outputs": [
    {
     "name": "stdout",
     "output_type": "stream",
     "text": [
      "A제휴사 대분류코드>>  [1 2 3 4 5 6 7 8 9]\n",
      "B제휴사 대분류코드>>  [ 1  2  3  4  5  6  7  8  9 10 11 12 13 14 15 16 17 18 19 20 21 22 23 24\n",
      " 25 26 27 28 29 30 31 32 33 34 35 36 37 38 39 40 41 42 43 44 45 46 47 48\n",
      " 49 50 51 52 53 54 55 56 57 58 59 60 61 62 63 64 65 66 67 68 69 70 71 72\n",
      " 73 74 75 76 77 78 79 80 81 82 83 84 85 86 87 88 89 90 91 92]\n",
      "C제휴사 대분류코드>>  [ 1  2  3  4  5  6  7  8  9 10 11 12 13 14 15 16 17]\n",
      "D제휴사 대분류코드>>  [1 2 3 4 5 6 7 8]\n"
     ]
    }
   ],
   "source": [
    "print('A제휴사 대분류코드>> ',b[(b.제휴사=='A')].대분류코드.unique())\n",
    "print('B제휴사 대분류코드>> ',b[(b.제휴사=='B')].대분류코드.unique())\n",
    "print('C제휴사 대분류코드>> ',b[(b.제휴사=='C')].대분류코드.unique())\n",
    "print('D제휴사 대분류코드>> ',b[(b.제휴사=='D')].대분류코드.unique())"
   ]
  },
  {
   "cell_type": "code",
   "execution_count": null,
   "id": "5f85f163",
   "metadata": {},
   "outputs": [],
   "source": []
  },
  {
   "cell_type": "code",
   "execution_count": null,
   "id": "97a421d5",
   "metadata": {},
   "outputs": [],
   "source": []
  },
  {
   "cell_type": "code",
   "execution_count": null,
   "id": "5336d1cc",
   "metadata": {},
   "outputs": [],
   "source": []
  },
  {
   "cell_type": "code",
   "execution_count": null,
   "id": "7e60b81a",
   "metadata": {},
   "outputs": [],
   "source": []
  },
  {
   "cell_type": "markdown",
   "id": "e6a451b1",
   "metadata": {},
   "source": [
    "# 대분류코드 숫자변경 "
   ]
  },
  {
   "cell_type": "code",
   "execution_count": 102,
   "id": "5376b457",
   "metadata": {},
   "outputs": [
    {
     "data": {
      "text/html": [
       "<div>\n",
       "<style scoped>\n",
       "    .dataframe tbody tr th:only-of-type {\n",
       "        vertical-align: middle;\n",
       "    }\n",
       "\n",
       "    .dataframe tbody tr th {\n",
       "        vertical-align: top;\n",
       "    }\n",
       "\n",
       "    .dataframe thead th {\n",
       "        text-align: right;\n",
       "    }\n",
       "</style>\n",
       "<table border=\"1\" class=\"dataframe\">\n",
       "  <thead>\n",
       "    <tr style=\"text-align: right;\">\n",
       "      <th></th>\n",
       "      <th>제휴사</th>\n",
       "      <th>대분류코드</th>\n",
       "      <th>중분류코드</th>\n",
       "      <th>소분류코드</th>\n",
       "      <th>중분류명</th>\n",
       "      <th>소분류명</th>\n",
       "    </tr>\n",
       "  </thead>\n",
       "  <tbody>\n",
       "    <tr>\n",
       "      <th>0</th>\n",
       "      <td>A</td>\n",
       "      <td>1</td>\n",
       "      <td>101</td>\n",
       "      <td>A010101</td>\n",
       "      <td>일용잡화</td>\n",
       "      <td>위생세제</td>\n",
       "    </tr>\n",
       "  </tbody>\n",
       "</table>\n",
       "</div>"
      ],
      "text/plain": [
       "  제휴사  대분류코드  중분류코드    소분류코드  중분류명  소분류명\n",
       "0   A      1    101  A010101  일용잡화  위생세제"
      ]
     },
     "execution_count": 102,
     "metadata": {},
     "output_type": "execute_result"
    }
   ],
   "source": [
    "prodcat = pd.read_csv('dataset/상품분류.txt',encoding='cp949')\n",
    "prodcat.head(1)"
   ]
  },
  {
   "cell_type": "code",
   "execution_count": 104,
   "id": "aeca718c",
   "metadata": {},
   "outputs": [],
   "source": [
    "def cond_change_col_val(제휴사, 조건대분류, 새로운대분류):\n",
    "    def conditional_col(df,mem_check,code_check,code_change):\n",
    "        if (df[0] == mem_check) and (df[1] == code_check):\n",
    "            return code_change\n",
    "        else:\n",
    "            return df[1]\n",
    "\n",
    "    prodcat['대분류코드'] = prodcat.apply(lambda x: conditional_col(x,제휴사, 조건대분류, 새로운대분류), axis=1)\n",
    "    \n",
    "cond_change_col_val('B', 1, 10)   ## 확인할 제휴사   ,  바꾸기전 대분류  ,  바꾼후 대분류"
   ]
  },
  {
   "cell_type": "code",
   "execution_count": 105,
   "id": "b3e48154",
   "metadata": {},
   "outputs": [
    {
     "data": {
      "text/plain": [
       "array([10,  2,  3,  4,  5,  6,  7,  8,  9, 11, 12, 13, 14, 15, 16, 17, 18,\n",
       "       19, 20, 21, 22, 23, 24, 25, 26, 27, 28, 29, 30, 31, 32, 33, 34, 35,\n",
       "       36, 37, 38, 39, 40, 41, 42, 43, 44, 45, 46, 47, 48, 49, 50, 51, 52,\n",
       "       53, 54, 55, 56, 57, 58, 59, 60, 61, 62, 63, 64, 65, 66, 67, 68, 69,\n",
       "       70, 71, 72, 73, 74, 75, 76, 77, 78, 79, 80, 81, 82, 83, 84, 85, 86,\n",
       "       87, 88, 89, 90, 91, 92], dtype=int64)"
      ]
     },
     "execution_count": 105,
     "metadata": {},
     "output_type": "execute_result"
    }
   ],
   "source": [
    "prodcat[(prodcat.제휴사=='B')].대분류코드.unique()"
   ]
  },
  {
   "cell_type": "markdown",
   "id": "af51b93b",
   "metadata": {},
   "source": [
    "# 대분류 코드 -> 새로운 컬럼에 딕셔너리기준 변경"
   ]
  },
  {
   "cell_type": "code",
   "execution_count": null,
   "id": "7daec7ff",
   "metadata": {},
   "outputs": [],
   "source": [
    "dict_big_code = {10:'일용잡화' , 2:'몰라'}     # 이거는 나중에 만들면 되\n",
    "\n",
    "def big_code_name_col(x):\n",
    "    if x in dict_big_code: \n",
    "        return dict_big_code[x]     \n",
    "    else:\n",
    "        return x             # 만약에 대분류 안하면 그냥 숫자값으로 줌\n",
    "prodcat['대분류명'] = prodcat['대분류코드'].apply(big_code_name_col)"
   ]
  },
  {
   "cell_type": "code",
   "execution_count": null,
   "id": "2199c5ae",
   "metadata": {},
   "outputs": [],
   "source": [
    "prodcat[(prodcat['대분류코드']==1) & (prodcat['제휴사']=='B')]"
   ]
  },
  {
   "cell_type": "markdown",
   "id": "0f413c13",
   "metadata": {},
   "source": [
    "## 안들어간 값 null "
   ]
  },
  {
   "cell_type": "code",
   "execution_count": null,
   "id": "a838feff",
   "metadata": {},
   "outputs": [],
   "source": [
    "dict_big_code = {10:'일용잡화' , 2:'몰라'}     # 이거는 나중에 만들면 되\n",
    "\n",
    "def big_code_name_col(x):\n",
    "    if x in dict_big_code: \n",
    "        return dict_big_code[x]     \n",
    "    else:\n",
    "        return None            # 만약에 대분류 안하면 그냥 숫자값으로 줌\n",
    "prodcat['대분류명'] = prodcat['대분류코드'].apply(big_code_name_col)"
   ]
  },
  {
   "cell_type": "code",
   "execution_count": null,
   "id": "54277f32",
   "metadata": {},
   "outputs": [],
   "source": [
    "prodcat[(prodcat['대분류코드']==12) & (prodcat['제휴사']=='B')]"
   ]
  },
  {
   "cell_type": "code",
   "execution_count": null,
   "id": "b8e23548",
   "metadata": {},
   "outputs": [],
   "source": [
    "prodcat[prodcat['대분류명'].isnull()]"
   ]
  },
  {
   "cell_type": "code",
   "execution_count": null,
   "id": "cebadeb2",
   "metadata": {},
   "outputs": [],
   "source": [
    "prodcat[prodcat['대분류명'].isnull()]['대분류코드'].unique()"
   ]
  },
  {
   "cell_type": "markdown",
   "id": "5efd3002",
   "metadata": {},
   "source": [
    "## -------------------------------------------------------------"
   ]
  },
  {
   "cell_type": "code",
   "execution_count": null,
   "id": "e75b4673",
   "metadata": {},
   "outputs": [],
   "source": [
    "대분류확인 = 1\n",
    "print(f\"            <<<<< 대분류코드 : {대분류확인}  >>>>> \")\n",
    "print(\"<< 중분류명 >> \",'\\n',list(prodcat[prodcat['대분류코드']==대분류확인]['중분류명'].unique()))\n",
    "print()\n",
    "print()\n",
    "print(\"<< 소분류명 >> \",'\\n',list(prodcat[prodcat['대분류코드']==대분류확인]['소분류명'].unique()))"
   ]
  },
  {
   "cell_type": "code",
   "execution_count": null,
   "id": "fa1a133b",
   "metadata": {},
   "outputs": [],
   "source": [
    "대분류확인 = 1\n",
    "print(f\"            <<<<< 대분류코드 : {대분류확인}  >>>>> \")\n",
    "# print(\"<< 중분류명 >> \",'\\n',list(prodcat[prodcat['대분류코드']==대분류확인]['중분류명'].unique()))\n",
    "\n",
    "\n",
    "for 중분류 in list(prodcat[prodcat['대분류코드']==대분류확인]['중분류명'].unique()):\n",
    "    소분류 = list(prodcat[(prodcat['대분류코드']==1) & (prodcat['중분류명']==중분류)]['소분류명'].unique())\n",
    "    print(f\"{중분류} : {소분류}\" )\n",
    "    print()\n",
    "    print()\n",
    "# print()\n",
    "# print()"
   ]
  },
  {
   "cell_type": "code",
   "execution_count": null,
   "id": "b83ad413",
   "metadata": {},
   "outputs": [],
   "source": []
  },
  {
   "cell_type": "markdown",
   "id": "af964e0f",
   "metadata": {},
   "source": [
    "## --------------------------------0918---------------------------------------------"
   ]
  },
  {
   "cell_type": "code",
   "execution_count": 1,
   "id": "82b54792",
   "metadata": {},
   "outputs": [
    {
     "name": "stdout",
     "output_type": "stream",
     "text": [
      "<<<< 가공식품 >>>>\n",
      "냉장음료 / 데일리처분 / 흰우유 / 가공우유 / 요구르트 / 유제품 / 브랜드빵 / 치즈 / 디저트 / 유가공 / 간편조리식품 / 라면 / 면류 / 분유 / 잼 / 통조림 / 인스턴트선물세트 / 이유식/유아간식 / 두유 / 간편요리 / 밥죽류 / 시리얼 / 계란 / 가공란 / 우유 / 발효유 / 치즈버터 \n",
      "\n",
      "<<<< 가공식품/건강 >>>>\n",
      "병통조림 / 커피류 / 담배 / 분유 / 차류 / 건강식품 / 즉석식품 / 가공건식품 \n",
      "\n",
      "<<<< 가구/인테리어 >>>>\n",
      "일용잡화 / 주방용품 / 문구/팬시 / 생활잡화 / 식기 / 가구 / 침구/수예 / 웨딩 / 소가구 / 장식용품 / 의자/상 / 조명/전구 / 보수용품 / 건전지 / 가구/인테리어샵 / 테이블 / 의자 / 상 / 제기용품 / 아웃도어퍼니처 / 벽지류 / 성인침구류 / 수예소품 / 커튼류 / 수예시즌 / 아동침구류 / 브랜드침구 / 성인침구 / 아동침구 \n",
      "\n",
      "<<<< 가전 >>>>\n",
      "대형가전 / 소형가전 / 통신/컴퓨터 / 악기 / 전자/전기 / 주방가전 / 냉장고 / 세탁기 / TV / DVD / 오디오 / 홈시어터 / 김치냉장고 / 정수기 / 공기청정기 / 에어컨 / 선풍기 / 히터기 / 전기요/장판 / 가습기 / 건강가전 / 밥솥 / 주방소형가전 / 청소기 / 전기포트 / 믹서기 / 생활소형가전 / 커피메이커/머신 / 기타주방가전 / 조리기 / 소형음향기기 / 카메라/캠코더 / 전화기/팩스 / 이동통신 / PC / 컴퓨터주변기기 / 전기면도기 / 건강디지털기기 / NAVI/하이패스 / 기타음향기기 / 전자악기 / MP3/PMP / 전자학습기 / 시즌/건강가전 \n",
      "\n",
      "<<<< 가정용품 >>>>\n",
      "세탁세제 / 주거세제 / 주방세제 / 섬유유연제 / 표백제 / 살충제 / 탈취제 / 제습제 / 그릇/수저 / 음식조리 / 음식저장/보관 / 주방정리 / 야외용품 / 주방시즌/균일가 / 야외/시즌용품 / 균일가 / 청소용품 / 세탁용품 / 수납용품 / 욕실용품 / 휴지통 / 밀대/걸레 / 청소편의도구 / 종량제봉투 / 유아식기 / 조리용기 / 조리도구 / 패브릭욕실용품 / 매트 / 프리미엄매트 / 일반욕실용품 / DIY욕실용품 / 수도용품 / 화장지 / 주방주거세제 / 유아용품 / 화장품 / 두발용품 / 생리용품 / 구강용품 / 위생용품 / 주방용품 / 청소욕실용품 / 전기전자 / 의류잡화 / 레저취미 / 문화용품 / 가정잡화 \n",
      "\n",
      "<<<< 간식 >>>>\n",
      "스낵 / 비스켓 / 파이 / 시리얼 / 캔디 / 초콜릿 / 껌 / 안주 / 한과 / 선물세트 / 프리미엄과자 / 간식용과자 / 수입과자 / 종합과자 / 전통과자 / 피자 / 간식 / 디저트 / 베이커리 / 라면 / 건면 / 쿠키케이크 / 캔디껌류 / 초콜렛 / 씨리얼 / 과자 / 음료 \n",
      "\n",
      "<<<< 건강 >>>>\n",
      "비타민 / 기능성건강 / 홍인삼 / 담배 / 건강선물세트 \n",
      "\n",
      "<<<< 건강케어 >>>>\n",
      "피트니스 / 건강기능식품 / 일반의약외품 \n",
      "\n",
      "<<<< 과일 >>>>\n",
      "과실과일 / 과채과일 / 선물세트 / 친환경과일 / 감귤 / 감 / 복숭아 / 자두 / 토마토 / 포도 / 참외 / 수박 / 딸기 / 메론 / 수입감귤과일 / 수입기타과일 / 열대과일 / 키위/석류 / 포도/체리 / 오렌지과일선물세트 / 오렌지 / 자몽 / 오렌지과일기타 / 석류 / 레몬 / 블루베리 / 체리 / 수입포도 / 냉동과일 / 열대과일기타 / 바나나 / 파인애플 / 망고 / 키위 / 열대과일선물세트 / 사과 / 배 / 국산과일선물세트 / 온라인저장과일 / 구색과일 / 밤 / 국산과일 / 수입과일 / 건과일 / 견과류 \n",
      "\n",
      "<<<< 기초케어 >>>>\n",
      "베이직케어 / 선케어 / 클렌징 / 집중케어 / 남성케어 / 베이비케어 \n",
      "\n",
      "<<<< 냉장/냉동식품 >>>>\n",
      "냉장농산 / 냉장수산 / 냉장축산 / 아이스크림 / 만두 / 냉장간식MS / 냉장식사MS / 냉장기타MS / 냉동MS \n",
      "\n",
      "<<<< 농산물 >>>>\n",
      "열매채소 / 버섯 / 온라인버섯/열매채소 / 잎채소 / 뿌리채소 / 버섯류 / 샐러드채소 / 약초 / 양념류 / 식자재 / 친환경채소 / 김치채소 / 온라인잎/샐러드채소 / LOCAL잎채소 / LOCAL김치채소 / 샐러드/간편채소 / 해초류 / 나물 / 콩나물 / 두부 / 간편채소 / 묵 / 즉석참기름 / 묵/즉석참기름 / 건과 / 건강선물세트 / 냉동가공 / 생활한방 / 한방식재류 / 한방차 / 잡곡 / 선식 / 온라인잡곡선식 / 양념채소 / 온라인양념/뿌리채소 / 양곡 / 선식류 / 엽채류 / 과채류 / 근채류 / 두채류 / 김치채소류 / 양채류 / 나물류 / 계란류 \n",
      "\n",
      "<<<< 메이크업 >>>>\n",
      "베이스메이크업 / 아이메이크업 / 립메이크업 / 네일메이크업 \n",
      "\n",
      "<<<< 명품 >>>>\n",
      "명품 \n",
      "\n",
      "<<<< 문구/공구/서적 >>>>\n",
      "예능학용품 / 노트/지류 / 필기도구 / 오피스용품 / 파티/팬시/시즌 / 미술용품 / 교육보조재 / 파티/팬시 / 노트 / 시즌행사 / 일반서적 / 음반 / 유/아동서적 / 영상 / 서적 / 음반영상 / 조명기구 / 전구 / 전기용품 / 안전용품 / 보수용품 / 공구 / 건전지 \n",
      "\n",
      "<<<< 바디케어 >>>>\n",
      "헤어케어 / 바디케어 / 핸드/풋케어 / 구강케어 / 여성용품 \n",
      "\n",
      "<<<< 반찬 >>>>\n",
      "조리반찬 / 시즌반찬 / 포장젓갈 / 포장반찬 / 단무지류 / 김치류 / 반찬류 / 젓갈류 / 반찬 / 전통간식 / 먹거리 / 먹거리행사 / 시즌행사 / 맛집행사 / 즉석구이안주 / 즉석구이김 / 특산물행사 \n",
      "\n",
      "<<<< 뷰티 >>>>\n",
      "국내화장품 / 미용잡화 / 수입브랜드 / 화장품브랜드샵 / 기초화장품 / 색조화장품 / 드럭스토어 / 온라인화장품 \n",
      "\n",
      "<<<< 생활용품 >>>>\n",
      "기저귀 / 화장지 / 생리대 / 유아세제 / 유아위생용품 / 시니어위생용품 / 여성위생용품 / 키친타올 / 물티슈 / 미용티슈 / 구강용품 / 헤어스타일링 / 면도용품 / 바디용품 / 스킨케어 / 개인위생용품 / H&B선물세트 / 일반헤어케어 / 기능헤어케어 / 남성용품 / 바디케어 / 훼이셜케어 / 베이비케어 / 풋/핸드케어 / 미용소품 / 아로마 \n",
      "\n",
      "<<<< 수산물 >>>>\n",
      "대중선어 / 냉동수산물 / 생선선물세트 / 고등어/삼치 / 대구 / 도미/민어 / 기타구색생선 / 꽁치/가자미 / 오징어 / 조기/명태 / 국산게/갈치 / 선물세트 / 즉석구이안주 / 마른안주 / 멸치건명태 / 해조류 / 특산물 / 건오징어 / 조미오징어 / 육포 / 쥐치포 / 마른안주선물세트 / 생선회 / 해물연체류 / 간편조리생선 / 생선초밥 / 기타회 / 수입연어 / 수입고등어 / 수입갈치 / 수입게 / 수입기타생선 / 냉동규격생선 / 냉동규격해물 / 규격생선선물세트 / 냉장규격생선 / 온라인규격/간편조리생선 / 규격RTC / 간편조리행사 / 굴비 / 반건생선 / 굴비/반건생선선물세트 / 해초 / 조개 / 조개살 / 연체 / 새우 / 해물선물세트 / 온라인해물연체 / 특산물행사 / 멸치 / 천연조미료 / 황태 / 미역/다시마 / 멸치황태미역선물세트 / 즉석구이김 / 마른김 / 조미김 / 김가공품 / 김선물세트 / 선어류 / 선어가공 / 건어류 / 건어가공 / 해물류 / 기타수산 \n",
      "\n",
      "<<<< 스포츠 >>>>\n",
      "스포츠 / 골프용품 / 스키 / 등산 / 낚시 / 수영복 / 윈터스포츠 / 워터스포츠 / 스포츠웨어 / 롤러보드 / 구기용품 / 헬스용품 / 자전거 / 스포츠ACC / 라켓스포츠 / 시니어건강용품 / 스포츠의류 / 스포츠브랜드편집 / 스포츠NB / 골프 / 시즌행사 / 브랜드 / 캠핑 \n",
      "\n",
      "<<<< 식품 >>>>\n",
      "육류 / 축산가공 / 농산물 / 수산품 / 가공식품 / 젓갈/반찬 / 건강식품 / 주류 / 차/커피 / 기타 \n",
      "\n",
      "<<<< 아동 >>>>\n",
      "아동 / BABY/INFANT / GIRLS / 교육 / VIDEOGAME / 남아 / SPORTS/OUTDOOR / EDUCATION 1 / EDUCATION 2 / BOYS 1 / BOYS 2 / 유아브랜드 / 아동복합샵 / 아동브랜드 / 아동행사 / 유아동용품 / 유아용품 / 유아토들러 / 주니어스포츠 / 주니어웨어 / 유아동PB / 유아동NPB / 유아동특정 \n",
      "\n",
      "<<<< 애완/동물물품 >>>>\n",
      "애완/동물용품 / 원예용품 / 애견용품 / 덴탈케어 / 고양이용품 / 동물병원 / 수족관용품 \n",
      "\n",
      "<<<< 언더웨어 >>>>\n",
      "성인내의 / 란제리 / 양말 / 홈웨어 / 스타킹 / 란제리브랜드 / 아동내의 / 언더웨어행사 / 남성양말 / 여성양말 / 아동양말 / 덧신 / 주니어양말 / 양말선물세트 / 온라인양말 \n",
      "\n",
      "<<<< 음료 >>>>\n",
      "생수 / 과채음료 / 두유 / 탄산음료 / 이온음료 / 커피차음료 / 기능성음료 / 수입음료 / 커피음료 / 차음료 \n",
      "\n",
      "<<<< 음식점 >>>>\n",
      "분식 / 양식 / 일식 / 중식 / 한식 / 패스트푸드 / 레스토랑 / 카페 / 푸드코트 / 컨세션 \n",
      "\n",
      "<<<< 자동차 >>>>\n",
      "자동차 정비용품 / 자동차 청소용품 / 카시트/매트 / 자동차처분 / 자동차 액세서리 / 교환/보수용품 / 세차용품 / 자동차방향제/소취제 / 자동차 편의용품 / 자동차장식용품 / 휴대폰용품 / 장착용품 / 오토바이용품 \n",
      "\n",
      "<<<< 잡곡 >>>>\n",
      "양곡 / 잡곡류 / 즉석도정미 / 가공양곡 \n",
      "\n",
      "<<<< 조리식품 >>>>\n",
      "브랜드조리 / 베이커리 / 구이 / 튀김 / 밥류 / 구이찜조리 / 반찬류 / 대용식 / 이벤트조리 / 간식조리 / 간편조리 / 튀김조리 / 피자 / 어묵맛살 / 냉장면류 / 햄소시지 / 냉장반찬 / 냉동만두 / 냉동간식 / 냉동대용식 / 아이스크림 / 햄 / 소시지 / 냉장햄세트 / 김/초밥 / 도시락 / 선식 / 떡 / 족발 / 순대 / 브랜드푸드몰 / 빵 / 포장반찬HMR / 냉동HMR / 냉장간편식HMR / 냉장식사HMR \n",
      "\n",
      "<<<< 조리식품/간식 >>>>\n",
      "반찬류 / 간편간식 / 식사류 / 베이커리 / 기타조리식품 \n",
      "\n",
      "<<<< 조미료/소스 >>>>\n",
      "조미료 / 소스류 / 장류 / 식용유지 / 조미선물세트 / 가루 / 식자재 / 향신료 / 액상조미료 / 복합조미료 / 소금/설탕류 / 수입조미 / 식용유 / 케첩마요네즈 / 감미료 / 가공분말류 \n",
      "\n",
      "<<<< 주류 >>>>\n",
      "소주 / 맥주 / 와인 / 전통주 / 양주 / 기타음주류 \n",
      "\n",
      "<<<< 축산물 >>>>\n",
      "우육 / 수입육 / 일반한우 / 한우선물세트 / 브랜드한우 / 닭고기 / 계란 / 오리고기 / 양념육 / 돼지고기 / 브랜드돼지고기 / 차별화돼지고기 / 온라인돼지고기 / 미국산소고기 / 호주산소고기 / 수입육선물세트 / 수입돼지고기 / 기타국소고기 / 육가공품 / 국내산우육 / 국내산돈육 / 국내산계육 / 수입우육 / 수입돈육 / 기타축산 \n",
      "\n",
      "<<<< 커피/차 >>>>\n",
      "커피 / 차 / 건강식품 / 담배 / 인스턴트커피 / 원두커피 / 커피선물세트 / 시즌차 / 차선물세트 / 꿀 \n",
      "\n",
      "<<<< 패션의류-남성 >>>>\n",
      "비즈니스정장 / 시티캐주얼 / 복합샵 / 남성브랜드 / 남성행사 / 남성시즌행사 / 병행수입 / 남성베이직 / 남성스포츠 / 남성어덜트캐주얼 / 남성이지캐주얼 / 남성스포츠PB / 남성스포츠NPB / 남성스포츠특정 \n",
      "\n",
      "<<<< 패션의류-여성 >>>>\n",
      "스트리트편집샵 / 행사 / 이지캐주얼브랜드 / 여성캐주얼브랜드 / 마담/어덜트 / 미시캐주얼 / 여성베이직 / 여성이지캐주얼 / 여성PB / 여성NPB / 여성특정 \n",
      "\n",
      "<<<< 패션의류_남성 >>>>\n",
      "남성정장 / 남성캐주얼 / 트래디셔널 / 교복 / 셔츠 / 남성 트랜디 \n",
      "\n",
      "<<<< 패션의류_여성 >>>>\n",
      "캐주얼 / 커리어 / 트래디셔널 / 시티웨어 / 란제리/내의 / 블라우스 / 기타의류 / 디자이너 / 모피/피혁 \n",
      "\n",
      "<<<< 패션잡화 >>>>\n",
      "섬유잡화 / 액세서리 / 화장품 / 보석 / 준보석/시계 / 피혁잡화 / 구두 / 드레스화브랜드 / 캐주얼화브랜드 / 아동화브랜드 / 슈즈행사 / 남성구두 / 여성구두 / 샌들슬리퍼 / NB구두 / 운동화 / 준보석 / 시계 / 피혁브랜드 / 가방브랜드 / 잡화멀티샵 / 미입점행사 / 지갑 / 벨트 / 핸드백 / 가방 / 피혁토탈 / 모자 / 우산/양산 / 스카프 / 장갑 / 시즌토탈 / 썬글라스 / 여행용품 / 시즌슈즈 / 스포츠슈즈 / 아동슈즈 / 캐주얼슈즈 / 슈즈용품 / 지갑/벨트 / TRAVEL / 시즌잡화 \n",
      "\n",
      "<<<< 편의시설 >>>>\n",
      "Fast Food / 편의시설 / 레스토랑 / 카페 / 판매시설 / 주유소 \n",
      "\n",
      "<<<< 편의용품 >>>>\n",
      "화장지/티슈 / 방향/제습/탈취제 / 기기 / 미용소품 / 양말류 / 우산/양산류 / 파티/팬시용품 / 전기용품 / 안전용품 / 여행용품 / 계절팩 \n",
      "\n",
      "<<<< 향수 >>>>\n",
      "여성 / 남성 \n",
      "\n"
     ]
    }
   ],
   "source": [
    "import pandas as pd\n",
    "check = pd.read_pickle(\"dataset/prodcat_final.pkl\")\n",
    "check=check.drop_duplicates(['대분류명','중분류명'])\n",
    "save_list = check.groupby(['대분류명'])['중분류명'].apply(lambda x: \" / \".join(x))\n",
    "for i in zip(save_list.index,save_list.values):\n",
    "    print(f\"<<<< {i[0]} >>>>\\n{i[1]} \")\n",
    "    print()"
   ]
  },
  {
   "cell_type": "code",
   "execution_count": 3,
   "id": "96ce461b",
   "metadata": {},
   "outputs": [],
   "source": [
    "purprd = pd.read_pickle(\"dataset/purprd_s/purprd_prodcat.pkl\")"
   ]
  },
  {
   "cell_type": "code",
   "execution_count": 5,
   "id": "27824cb2",
   "metadata": {},
   "outputs": [
    {
     "data": {
      "text/html": [
       "<div>\n",
       "<style scoped>\n",
       "    .dataframe tbody tr th:only-of-type {\n",
       "        vertical-align: middle;\n",
       "    }\n",
       "\n",
       "    .dataframe tbody tr th {\n",
       "        vertical-align: top;\n",
       "    }\n",
       "\n",
       "    .dataframe thead th {\n",
       "        text-align: right;\n",
       "    }\n",
       "</style>\n",
       "<table border=\"1\" class=\"dataframe\">\n",
       "  <thead>\n",
       "    <tr style=\"text-align: right;\">\n",
       "      <th></th>\n",
       "      <th>제휴사</th>\n",
       "      <th>영수증번호</th>\n",
       "      <th>고객번호</th>\n",
       "      <th>점포코드</th>\n",
       "      <th>구매일자</th>\n",
       "      <th>구매시간</th>\n",
       "      <th>구매금액</th>\n",
       "      <th>구매월</th>\n",
       "      <th>대분류코드</th>\n",
       "      <th>중분류코드</th>\n",
       "      <th>소분류코드</th>\n",
       "      <th>대분류명</th>\n",
       "      <th>중분류명</th>\n",
       "      <th>소분류명</th>\n",
       "    </tr>\n",
       "  </thead>\n",
       "  <tbody>\n",
       "    <tr>\n",
       "      <th>0</th>\n",
       "      <td>A</td>\n",
       "      <td>2757986</td>\n",
       "      <td>15148</td>\n",
       "      <td>10</td>\n",
       "      <td>20140920</td>\n",
       "      <td>20</td>\n",
       "      <td>1000</td>\n",
       "      <td>9</td>\n",
       "      <td>9</td>\n",
       "      <td>101</td>\n",
       "      <td>A010101</td>\n",
       "      <td>가구/인테리어</td>\n",
       "      <td>일용잡화</td>\n",
       "      <td>위생세제</td>\n",
       "    </tr>\n",
       "    <tr>\n",
       "      <th>1</th>\n",
       "      <td>A</td>\n",
       "      <td>2757986</td>\n",
       "      <td>15148</td>\n",
       "      <td>10</td>\n",
       "      <td>20140920</td>\n",
       "      <td>20</td>\n",
       "      <td>4100</td>\n",
       "      <td>9</td>\n",
       "      <td>1</td>\n",
       "      <td>106</td>\n",
       "      <td>A010608</td>\n",
       "      <td>식품</td>\n",
       "      <td>가공식품</td>\n",
       "      <td>일반가공식품</td>\n",
       "    </tr>\n",
       "    <tr>\n",
       "      <th>2</th>\n",
       "      <td>A</td>\n",
       "      <td>2757987</td>\n",
       "      <td>400</td>\n",
       "      <td>10</td>\n",
       "      <td>20140920</td>\n",
       "      <td>12</td>\n",
       "      <td>5000</td>\n",
       "      <td>9</td>\n",
       "      <td>1</td>\n",
       "      <td>104</td>\n",
       "      <td>A010402</td>\n",
       "      <td>식품</td>\n",
       "      <td>농산물</td>\n",
       "      <td>채소</td>\n",
       "    </tr>\n",
       "  </tbody>\n",
       "</table>\n",
       "</div>"
      ],
      "text/plain": [
       "  제휴사    영수증번호   고객번호  점포코드      구매일자  구매시간  구매금액  구매월  대분류코드  중분류코드    소분류코드  \\\n",
       "0   A  2757986  15148    10  20140920    20  1000    9      9    101  A010101   \n",
       "1   A  2757986  15148    10  20140920    20  4100    9      1    106  A010608   \n",
       "2   A  2757987    400    10  20140920    12  5000    9      1    104  A010402   \n",
       "\n",
       "      대분류명  중분류명    소분류명  \n",
       "0  가구/인테리어  일용잡화    위생세제  \n",
       "1       식품  가공식품  일반가공식품  \n",
       "2       식품   농산물      채소  "
      ]
     },
     "execution_count": 5,
     "metadata": {},
     "output_type": "execute_result"
    }
   ],
   "source": [
    "purprd.head(3)"
   ]
  },
  {
   "cell_type": "code",
   "execution_count": 16,
   "id": "4d11e010",
   "metadata": {},
   "outputs": [
    {
     "data": {
      "text/html": [
       "<div>\n",
       "<style scoped>\n",
       "    .dataframe tbody tr th:only-of-type {\n",
       "        vertical-align: middle;\n",
       "    }\n",
       "\n",
       "    .dataframe tbody tr th {\n",
       "        vertical-align: top;\n",
       "    }\n",
       "\n",
       "    .dataframe thead th {\n",
       "        text-align: right;\n",
       "    }\n",
       "</style>\n",
       "<table border=\"1\" class=\"dataframe\">\n",
       "  <thead>\n",
       "    <tr style=\"text-align: right;\">\n",
       "      <th></th>\n",
       "      <th>제휴사</th>\n",
       "      <th>영수증번호</th>\n",
       "      <th>대분류코드</th>\n",
       "      <th>중분류코드</th>\n",
       "      <th>소분류코드</th>\n",
       "      <th>고객번호</th>\n",
       "      <th>점포코드</th>\n",
       "      <th>구매일자</th>\n",
       "      <th>구매시간</th>\n",
       "      <th>구매금액</th>\n",
       "      <th>거주지역</th>\n",
       "    </tr>\n",
       "  </thead>\n",
       "  <tbody>\n",
       "    <tr>\n",
       "      <th>0</th>\n",
       "      <td>B</td>\n",
       "      <td>8750675</td>\n",
       "      <td>12</td>\n",
       "      <td>1206</td>\n",
       "      <td>B120605</td>\n",
       "      <td>12231</td>\n",
       "      <td>44</td>\n",
       "      <td>20150715</td>\n",
       "      <td>16</td>\n",
       "      <td>5380</td>\n",
       "      <td>100.0</td>\n",
       "    </tr>\n",
       "    <tr>\n",
       "      <th>1</th>\n",
       "      <td>B</td>\n",
       "      <td>8750676</td>\n",
       "      <td>6</td>\n",
       "      <td>604</td>\n",
       "      <td>B060403</td>\n",
       "      <td>6422</td>\n",
       "      <td>44</td>\n",
       "      <td>20150715</td>\n",
       "      <td>16</td>\n",
       "      <td>6500</td>\n",
       "      <td>100.0</td>\n",
       "    </tr>\n",
       "    <tr>\n",
       "      <th>2</th>\n",
       "      <td>B</td>\n",
       "      <td>8750676</td>\n",
       "      <td>89</td>\n",
       "      <td>8901</td>\n",
       "      <td>B890101</td>\n",
       "      <td>6422</td>\n",
       "      <td>44</td>\n",
       "      <td>20150715</td>\n",
       "      <td>16</td>\n",
       "      <td>2500</td>\n",
       "      <td>100.0</td>\n",
       "    </tr>\n",
       "  </tbody>\n",
       "</table>\n",
       "</div>"
      ],
      "text/plain": [
       "  제휴사    영수증번호  대분류코드  중분류코드    소분류코드   고객번호  점포코드      구매일자  구매시간  구매금액  \\\n",
       "0   B  8750675     12   1206  B120605  12231    44  20150715    16  5380   \n",
       "1   B  8750676      6    604  B060403   6422    44  20150715    16  6500   \n",
       "2   B  8750676     89   8901  B890101   6422    44  20150715    16  2500   \n",
       "\n",
       "    거주지역  \n",
       "0  100.0  \n",
       "1  100.0  \n",
       "2  100.0  "
      ]
     },
     "execution_count": 16,
     "metadata": {},
     "output_type": "execute_result"
    }
   ],
   "source": [
    "region = pd.read_pickle(\"dataset/purprd_region.pkl\")\n",
    "region.head(3)"
   ]
  },
  {
   "cell_type": "code",
   "execution_count": 17,
   "id": "6070f7e4",
   "metadata": {},
   "outputs": [],
   "source": [
    "purprd['거주지역'] = region[['거주지역']]"
   ]
  },
  {
   "cell_type": "code",
   "execution_count": 37,
   "id": "07397989",
   "metadata": {},
   "outputs": [
    {
     "data": {
      "text/html": [
       "<div>\n",
       "<style scoped>\n",
       "    .dataframe tbody tr th:only-of-type {\n",
       "        vertical-align: middle;\n",
       "    }\n",
       "\n",
       "    .dataframe tbody tr th {\n",
       "        vertical-align: top;\n",
       "    }\n",
       "\n",
       "    .dataframe thead th {\n",
       "        text-align: right;\n",
       "    }\n",
       "</style>\n",
       "<table border=\"1\" class=\"dataframe\">\n",
       "  <thead>\n",
       "    <tr style=\"text-align: right;\">\n",
       "      <th></th>\n",
       "      <th>제휴사</th>\n",
       "      <th>영수증번호</th>\n",
       "      <th>고객번호</th>\n",
       "      <th>점포코드</th>\n",
       "      <th>구매일자</th>\n",
       "      <th>구매시간</th>\n",
       "      <th>구매금액</th>\n",
       "      <th>구매월</th>\n",
       "      <th>대분류코드</th>\n",
       "      <th>중분류코드</th>\n",
       "      <th>소분류코드</th>\n",
       "      <th>대분류명</th>\n",
       "      <th>중분류명</th>\n",
       "      <th>소분류명</th>\n",
       "      <th>거주지역</th>\n",
       "    </tr>\n",
       "  </thead>\n",
       "  <tbody>\n",
       "    <tr>\n",
       "      <th>0</th>\n",
       "      <td>A</td>\n",
       "      <td>2757986</td>\n",
       "      <td>15148</td>\n",
       "      <td>10</td>\n",
       "      <td>20140920</td>\n",
       "      <td>20</td>\n",
       "      <td>1000</td>\n",
       "      <td>9</td>\n",
       "      <td>9</td>\n",
       "      <td>101</td>\n",
       "      <td>A010101</td>\n",
       "      <td>가구/인테리어</td>\n",
       "      <td>일용잡화</td>\n",
       "      <td>위생세제</td>\n",
       "      <td>100.0</td>\n",
       "    </tr>\n",
       "  </tbody>\n",
       "</table>\n",
       "</div>"
      ],
      "text/plain": [
       "  제휴사    영수증번호   고객번호  점포코드      구매일자  구매시간  구매금액  구매월  대분류코드  중분류코드    소분류코드  \\\n",
       "0   A  2757986  15148    10  20140920    20  1000    9      9    101  A010101   \n",
       "\n",
       "      대분류명  중분류명  소분류명   거주지역  \n",
       "0  가구/인테리어  일용잡화  위생세제  100.0  "
      ]
     },
     "execution_count": 37,
     "metadata": {},
     "output_type": "execute_result"
    }
   ],
   "source": [
    "purprd.head(1)"
   ]
  },
  {
   "cell_type": "code",
   "execution_count": 33,
   "id": "d25d0f22",
   "metadata": {},
   "outputs": [
    {
     "data": {
      "text/html": [
       "<div>\n",
       "<style scoped>\n",
       "    .dataframe tbody tr th:only-of-type {\n",
       "        vertical-align: middle;\n",
       "    }\n",
       "\n",
       "    .dataframe tbody tr th {\n",
       "        vertical-align: top;\n",
       "    }\n",
       "\n",
       "    .dataframe thead th {\n",
       "        text-align: right;\n",
       "    }\n",
       "</style>\n",
       "<table border=\"1\" class=\"dataframe\">\n",
       "  <thead>\n",
       "    <tr style=\"text-align: right;\">\n",
       "      <th></th>\n",
       "      <th>고객번호</th>\n",
       "      <th>성별</th>\n",
       "      <th>연령대</th>\n",
       "      <th>거주지역</th>\n",
       "    </tr>\n",
       "  </thead>\n",
       "  <tbody>\n",
       "    <tr>\n",
       "      <th>0</th>\n",
       "      <td>1</td>\n",
       "      <td>M</td>\n",
       "      <td>60세이상</td>\n",
       "      <td>60.0</td>\n",
       "    </tr>\n",
       "    <tr>\n",
       "      <th>1</th>\n",
       "      <td>2</td>\n",
       "      <td>M</td>\n",
       "      <td>60세이상</td>\n",
       "      <td>100.0</td>\n",
       "    </tr>\n",
       "  </tbody>\n",
       "</table>\n",
       "</div>"
      ],
      "text/plain": [
       "   고객번호 성별    연령대   거주지역\n",
       "0     1  M  60세이상   60.0\n",
       "1     2  M  60세이상  100.0"
      ]
     },
     "execution_count": 33,
     "metadata": {},
     "output_type": "execute_result"
    }
   ],
   "source": [
    "cust =pd.read_csv('dataset/고객DEMO.csv')\n",
    "cust.head(2)"
   ]
  },
  {
   "cell_type": "code",
   "execution_count": 36,
   "id": "78bf44c3",
   "metadata": {},
   "outputs": [
    {
     "data": {
      "text/plain": [
       "19383"
      ]
     },
     "execution_count": 36,
     "metadata": {},
     "output_type": "execute_result"
    }
   ],
   "source": [
    "cust.고객번호.nunique()"
   ]
  },
  {
   "cell_type": "code",
   "execution_count": 41,
   "id": "d4fc0156",
   "metadata": {},
   "outputs": [
    {
     "data": {
      "text/plain": [
       "178"
      ]
     },
     "execution_count": 41,
     "metadata": {},
     "output_type": "execute_result"
    }
   ],
   "source": [
    "cust.거주지역.isnull().sum()"
   ]
  },
  {
   "cell_type": "code",
   "execution_count": 38,
   "id": "90fce867",
   "metadata": {
    "scrolled": true
   },
   "outputs": [
    {
     "data": {
      "text/plain": [
       "19383"
      ]
     },
     "execution_count": 38,
     "metadata": {},
     "output_type": "execute_result"
    }
   ],
   "source": [
    "purprd.고객번호.nunique()"
   ]
  },
  {
   "cell_type": "code",
   "execution_count": 32,
   "id": "90c5aa83",
   "metadata": {
    "scrolled": true
   },
   "outputs": [
    {
     "data": {
      "text/plain": [
       "204939"
      ]
     },
     "execution_count": 32,
     "metadata": {},
     "output_type": "execute_result"
    }
   ],
   "source": [
    "purprd.거주지역.isnull().sum()"
   ]
  },
  {
   "cell_type": "code",
   "execution_count": 44,
   "id": "c229b499",
   "metadata": {},
   "outputs": [],
   "source": [
    "purprd.거주지역 = purprd.거주지역.fillna(0)"
   ]
  },
  {
   "cell_type": "code",
   "execution_count": 45,
   "id": "fff5356e",
   "metadata": {},
   "outputs": [
    {
     "data": {
      "text/plain": [
       "0"
      ]
     },
     "execution_count": 45,
     "metadata": {},
     "output_type": "execute_result"
    }
   ],
   "source": [
    "purprd.거주지역.isnull().sum()"
   ]
  },
  {
   "cell_type": "code",
   "execution_count": 47,
   "id": "efaf3f60",
   "metadata": {
    "scrolled": true
   },
   "outputs": [
    {
     "data": {
      "text/html": [
       "<div>\n",
       "<style scoped>\n",
       "    .dataframe tbody tr th:only-of-type {\n",
       "        vertical-align: middle;\n",
       "    }\n",
       "\n",
       "    .dataframe tbody tr th {\n",
       "        vertical-align: top;\n",
       "    }\n",
       "\n",
       "    .dataframe thead th {\n",
       "        text-align: right;\n",
       "    }\n",
       "</style>\n",
       "<table border=\"1\" class=\"dataframe\">\n",
       "  <thead>\n",
       "    <tr style=\"text-align: right;\">\n",
       "      <th></th>\n",
       "      <th>제휴사</th>\n",
       "      <th>영수증번호</th>\n",
       "      <th>고객번호</th>\n",
       "      <th>점포코드</th>\n",
       "      <th>구매일자</th>\n",
       "      <th>구매시간</th>\n",
       "      <th>구매금액</th>\n",
       "      <th>구매월</th>\n",
       "      <th>대분류코드</th>\n",
       "      <th>중분류코드</th>\n",
       "      <th>소분류코드</th>\n",
       "      <th>대분류명</th>\n",
       "      <th>중분류명</th>\n",
       "      <th>소분류명</th>\n",
       "      <th>거주지역</th>\n",
       "    </tr>\n",
       "  </thead>\n",
       "  <tbody>\n",
       "    <tr>\n",
       "      <th>0</th>\n",
       "      <td>A</td>\n",
       "      <td>2757986</td>\n",
       "      <td>15148</td>\n",
       "      <td>10</td>\n",
       "      <td>20140920</td>\n",
       "      <td>20</td>\n",
       "      <td>1000</td>\n",
       "      <td>9</td>\n",
       "      <td>9</td>\n",
       "      <td>101</td>\n",
       "      <td>A010101</td>\n",
       "      <td>가구/인테리어</td>\n",
       "      <td>일용잡화</td>\n",
       "      <td>위생세제</td>\n",
       "      <td>100</td>\n",
       "    </tr>\n",
       "    <tr>\n",
       "      <th>1</th>\n",
       "      <td>A</td>\n",
       "      <td>2757986</td>\n",
       "      <td>15148</td>\n",
       "      <td>10</td>\n",
       "      <td>20140920</td>\n",
       "      <td>20</td>\n",
       "      <td>4100</td>\n",
       "      <td>9</td>\n",
       "      <td>1</td>\n",
       "      <td>106</td>\n",
       "      <td>A010608</td>\n",
       "      <td>식품</td>\n",
       "      <td>가공식품</td>\n",
       "      <td>일반가공식품</td>\n",
       "      <td>100</td>\n",
       "    </tr>\n",
       "  </tbody>\n",
       "</table>\n",
       "</div>"
      ],
      "text/plain": [
       "  제휴사    영수증번호   고객번호  점포코드      구매일자  구매시간  구매금액  구매월  대분류코드  중분류코드    소분류코드  \\\n",
       "0   A  2757986  15148    10  20140920    20  1000    9      9    101  A010101   \n",
       "1   A  2757986  15148    10  20140920    20  4100    9      1    106  A010608   \n",
       "\n",
       "      대분류명  중분류명    소분류명  거주지역  \n",
       "0  가구/인테리어  일용잡화    위생세제   100  \n",
       "1       식품  가공식품  일반가공식품   100  "
      ]
     },
     "execution_count": 47,
     "metadata": {},
     "output_type": "execute_result"
    }
   ],
   "source": [
    "purprd = purprd.astype({'거주지역':int})\n",
    "purprd.head(2)\n",
    "\n",
    "# 거주지역 nan값인 고객 178명의 거주지역(naN) 에 대해서는 0값으로 대체 "
   ]
  },
  {
   "cell_type": "code",
   "execution_count": 50,
   "id": "6249c7a9",
   "metadata": {},
   "outputs": [
    {
     "data": {
      "text/plain": [
       "array([100,  55, 300,  69,   0,  49,  52,  45,  60, 210,  39,  33,  24,\n",
       "        16,  79,  20,  13, 310, 610, 460,  10,  43,  36, 340, 270, 240,\n",
       "        65,  27,  87, 500,  75,  72, 630,  47, 540,  82, 410, 360, 440,\n",
       "        30, 570,  85])"
      ]
     },
     "execution_count": 50,
     "metadata": {},
     "output_type": "execute_result"
    }
   ],
   "source": [
    "purprd.거주지역.unique()"
   ]
  },
  {
   "cell_type": "code",
   "execution_count": 51,
   "id": "a384fbf5",
   "metadata": {},
   "outputs": [
    {
     "data": {
      "text/html": [
       "<div>\n",
       "<style scoped>\n",
       "    .dataframe tbody tr th:only-of-type {\n",
       "        vertical-align: middle;\n",
       "    }\n",
       "\n",
       "    .dataframe tbody tr th {\n",
       "        vertical-align: top;\n",
       "    }\n",
       "\n",
       "    .dataframe thead th {\n",
       "        text-align: right;\n",
       "    }\n",
       "</style>\n",
       "<table border=\"1\" class=\"dataframe\">\n",
       "  <thead>\n",
       "    <tr style=\"text-align: right;\">\n",
       "      <th></th>\n",
       "      <th>제휴사</th>\n",
       "      <th>영수증번호</th>\n",
       "      <th>고객번호</th>\n",
       "      <th>점포코드</th>\n",
       "      <th>구매일자</th>\n",
       "      <th>구매시간</th>\n",
       "      <th>구매금액</th>\n",
       "      <th>구매월</th>\n",
       "      <th>대분류코드</th>\n",
       "      <th>중분류코드</th>\n",
       "      <th>소분류코드</th>\n",
       "      <th>대분류명</th>\n",
       "      <th>중분류명</th>\n",
       "      <th>소분류명</th>\n",
       "      <th>거주지역</th>\n",
       "      <th>거주지역_</th>\n",
       "    </tr>\n",
       "  </thead>\n",
       "  <tbody>\n",
       "    <tr>\n",
       "      <th>0</th>\n",
       "      <td>A</td>\n",
       "      <td>2757986</td>\n",
       "      <td>15148</td>\n",
       "      <td>10</td>\n",
       "      <td>20140920</td>\n",
       "      <td>20</td>\n",
       "      <td>1000</td>\n",
       "      <td>9</td>\n",
       "      <td>9</td>\n",
       "      <td>101</td>\n",
       "      <td>A010101</td>\n",
       "      <td>가구/인테리어</td>\n",
       "      <td>일용잡화</td>\n",
       "      <td>위생세제</td>\n",
       "      <td>100</td>\n",
       "      <td>경기 김포시</td>\n",
       "    </tr>\n",
       "    <tr>\n",
       "      <th>1</th>\n",
       "      <td>A</td>\n",
       "      <td>2757986</td>\n",
       "      <td>15148</td>\n",
       "      <td>10</td>\n",
       "      <td>20140920</td>\n",
       "      <td>20</td>\n",
       "      <td>4100</td>\n",
       "      <td>9</td>\n",
       "      <td>1</td>\n",
       "      <td>106</td>\n",
       "      <td>A010608</td>\n",
       "      <td>식품</td>\n",
       "      <td>가공식품</td>\n",
       "      <td>일반가공식품</td>\n",
       "      <td>100</td>\n",
       "      <td>경기 김포시</td>\n",
       "    </tr>\n",
       "    <tr>\n",
       "      <th>2</th>\n",
       "      <td>A</td>\n",
       "      <td>2757987</td>\n",
       "      <td>400</td>\n",
       "      <td>10</td>\n",
       "      <td>20140920</td>\n",
       "      <td>12</td>\n",
       "      <td>5000</td>\n",
       "      <td>9</td>\n",
       "      <td>1</td>\n",
       "      <td>104</td>\n",
       "      <td>A010402</td>\n",
       "      <td>식품</td>\n",
       "      <td>농산물</td>\n",
       "      <td>채소</td>\n",
       "      <td>100</td>\n",
       "      <td>경기 김포시</td>\n",
       "    </tr>\n",
       "    <tr>\n",
       "      <th>3</th>\n",
       "      <td>A</td>\n",
       "      <td>2757987</td>\n",
       "      <td>400</td>\n",
       "      <td>10</td>\n",
       "      <td>20140920</td>\n",
       "      <td>12</td>\n",
       "      <td>10200</td>\n",
       "      <td>9</td>\n",
       "      <td>1</td>\n",
       "      <td>107</td>\n",
       "      <td>A010705</td>\n",
       "      <td>식품</td>\n",
       "      <td>젓갈/반찬</td>\n",
       "      <td>벌크김치</td>\n",
       "      <td>100</td>\n",
       "      <td>경기 김포시</td>\n",
       "    </tr>\n",
       "    <tr>\n",
       "      <th>4</th>\n",
       "      <td>A</td>\n",
       "      <td>2757988</td>\n",
       "      <td>2043</td>\n",
       "      <td>10</td>\n",
       "      <td>20140920</td>\n",
       "      <td>13</td>\n",
       "      <td>3950</td>\n",
       "      <td>9</td>\n",
       "      <td>9</td>\n",
       "      <td>101</td>\n",
       "      <td>A010101</td>\n",
       "      <td>가구/인테리어</td>\n",
       "      <td>일용잡화</td>\n",
       "      <td>위생세제</td>\n",
       "      <td>100</td>\n",
       "      <td>경기 김포시</td>\n",
       "    </tr>\n",
       "  </tbody>\n",
       "</table>\n",
       "</div>"
      ],
      "text/plain": [
       "  제휴사    영수증번호   고객번호  점포코드      구매일자  구매시간   구매금액  구매월  대분류코드  중분류코드  \\\n",
       "0   A  2757986  15148    10  20140920    20   1000    9      9    101   \n",
       "1   A  2757986  15148    10  20140920    20   4100    9      1    106   \n",
       "2   A  2757987    400    10  20140920    12   5000    9      1    104   \n",
       "3   A  2757987    400    10  20140920    12  10200    9      1    107   \n",
       "4   A  2757988   2043    10  20140920    13   3950    9      9    101   \n",
       "\n",
       "     소분류코드     대분류명   중분류명    소분류명  거주지역   거주지역_  \n",
       "0  A010101  가구/인테리어   일용잡화    위생세제   100  경기 김포시  \n",
       "1  A010608       식품   가공식품  일반가공식품   100  경기 김포시  \n",
       "2  A010402       식품    농산물      채소   100  경기 김포시  \n",
       "3  A010705       식품  젓갈/반찬    벌크김치   100  경기 김포시  \n",
       "4  A010101  가구/인테리어   일용잡화    위생세제   100  경기 김포시  "
      ]
     },
     "execution_count": 51,
     "metadata": {},
     "output_type": "execute_result"
    }
   ],
   "source": [
    "dict_region = {100:'경기 김포시',  55:'서울 송파구', 300:'세종 장군',  69:'서울 동작구',   0:'X',  49:'서울 광진구',\n",
    "               52:'서울 강동구',  45:'서울 중구',  60:'서울 강남구', 210:'인천 계양구',  39:'서울 마포구',  33:'서울 은평구', \n",
    "               24:'서울 동대문구', 16:'서울 노원구',  79:'서울 양천구',  20:'서울 중랑구',  13:'서울 도봉구' , 310:'충청남도 천안',\n",
    "               610:'광주 북구', 460:'부산 기장',  10:'서울 강북구',  43:'서울 용산구',  36:'서울 서대문구', 340:'대전 유성구', \n",
    "               270:'충청북도', 240: '강원도 철원', 65:'서울 서초구',  27:'서울 성북구',  87:'서울 관악구', 500:'경상남도 함양',\n",
    "               75:'서울 강서구',  72:'서울 영등포구', 630:'경상북도 영주',  47:'서울 성동구', 540:'전라북도 군산',  82:'서울 구로구',\n",
    "               410:'대구 동구', 360:'경상북도 영주', 440:'울산 동구',30:'서울 종로구', 570:'전라남도 영광',  85:'서울 금천구' }    \n",
    "\n",
    "def region_col(x):\n",
    "    if x in dict_region: \n",
    "        return dict_region[x]     \n",
    "    else:\n",
    "        return x             # 만약에 대분류 안하면 그냥 숫자값으로 줌\n",
    "purprd['거주지역_'] = purprd['거주지역'].apply(region_col)\n",
    "\n",
    "purprd.head(5)"
   ]
  },
  {
   "cell_type": "code",
   "execution_count": 52,
   "id": "16ca64c4",
   "metadata": {},
   "outputs": [
    {
     "data": {
      "text/plain": [
       "0"
      ]
     },
     "execution_count": 52,
     "metadata": {},
     "output_type": "execute_result"
    }
   ],
   "source": [
    "purprd.거주지역_.isnull().sum()"
   ]
  },
  {
   "cell_type": "code",
   "execution_count": 55,
   "id": "a763079c",
   "metadata": {},
   "outputs": [
    {
     "data": {
      "text/html": [
       "<div>\n",
       "<style scoped>\n",
       "    .dataframe tbody tr th:only-of-type {\n",
       "        vertical-align: middle;\n",
       "    }\n",
       "\n",
       "    .dataframe tbody tr th {\n",
       "        vertical-align: top;\n",
       "    }\n",
       "\n",
       "    .dataframe thead th {\n",
       "        text-align: right;\n",
       "    }\n",
       "</style>\n",
       "<table border=\"1\" class=\"dataframe\">\n",
       "  <thead>\n",
       "    <tr style=\"text-align: right;\">\n",
       "      <th></th>\n",
       "      <th>제휴사</th>\n",
       "      <th>영수증번호</th>\n",
       "      <th>고객번호</th>\n",
       "      <th>점포코드</th>\n",
       "      <th>구매일자</th>\n",
       "      <th>구매시간</th>\n",
       "      <th>구매금액</th>\n",
       "      <th>구매월</th>\n",
       "      <th>대분류코드</th>\n",
       "      <th>중분류코드</th>\n",
       "      <th>소분류코드</th>\n",
       "      <th>대분류명</th>\n",
       "      <th>중분류명</th>\n",
       "      <th>소분류명</th>\n",
       "      <th>거주지역_</th>\n",
       "    </tr>\n",
       "  </thead>\n",
       "  <tbody>\n",
       "    <tr>\n",
       "      <th>0</th>\n",
       "      <td>A</td>\n",
       "      <td>2757986</td>\n",
       "      <td>15148</td>\n",
       "      <td>10</td>\n",
       "      <td>20140920</td>\n",
       "      <td>20</td>\n",
       "      <td>1000</td>\n",
       "      <td>9</td>\n",
       "      <td>9</td>\n",
       "      <td>101</td>\n",
       "      <td>A010101</td>\n",
       "      <td>가구/인테리어</td>\n",
       "      <td>일용잡화</td>\n",
       "      <td>위생세제</td>\n",
       "      <td>경기 김포시</td>\n",
       "    </tr>\n",
       "    <tr>\n",
       "      <th>1</th>\n",
       "      <td>A</td>\n",
       "      <td>2757986</td>\n",
       "      <td>15148</td>\n",
       "      <td>10</td>\n",
       "      <td>20140920</td>\n",
       "      <td>20</td>\n",
       "      <td>4100</td>\n",
       "      <td>9</td>\n",
       "      <td>1</td>\n",
       "      <td>106</td>\n",
       "      <td>A010608</td>\n",
       "      <td>식품</td>\n",
       "      <td>가공식품</td>\n",
       "      <td>일반가공식품</td>\n",
       "      <td>경기 김포시</td>\n",
       "    </tr>\n",
       "  </tbody>\n",
       "</table>\n",
       "</div>"
      ],
      "text/plain": [
       "  제휴사    영수증번호   고객번호  점포코드      구매일자  구매시간  구매금액  구매월  대분류코드  중분류코드    소분류코드  \\\n",
       "0   A  2757986  15148    10  20140920    20  1000    9      9    101  A010101   \n",
       "1   A  2757986  15148    10  20140920    20  4100    9      1    106  A010608   \n",
       "\n",
       "      대분류명  중분류명    소분류명   거주지역_  \n",
       "0  가구/인테리어  일용잡화    위생세제  경기 김포시  \n",
       "1       식품  가공식품  일반가공식품  경기 김포시  "
      ]
     },
     "execution_count": 55,
     "metadata": {},
     "output_type": "execute_result"
    }
   ],
   "source": [
    "purprd.drop('거주지역',axis=1,inplace=True)\n",
    "purprd.head(2)"
   ]
  },
  {
   "cell_type": "code",
   "execution_count": 58,
   "id": "a7d06854",
   "metadata": {},
   "outputs": [
    {
     "data": {
      "text/html": [
       "<div>\n",
       "<style scoped>\n",
       "    .dataframe tbody tr th:only-of-type {\n",
       "        vertical-align: middle;\n",
       "    }\n",
       "\n",
       "    .dataframe tbody tr th {\n",
       "        vertical-align: top;\n",
       "    }\n",
       "\n",
       "    .dataframe thead th {\n",
       "        text-align: right;\n",
       "    }\n",
       "</style>\n",
       "<table border=\"1\" class=\"dataframe\">\n",
       "  <thead>\n",
       "    <tr style=\"text-align: right;\">\n",
       "      <th></th>\n",
       "      <th>제휴사</th>\n",
       "      <th>영수증번호</th>\n",
       "      <th>고객번호</th>\n",
       "      <th>점포코드</th>\n",
       "      <th>구매일자</th>\n",
       "      <th>구매시간</th>\n",
       "      <th>구매금액</th>\n",
       "      <th>구매월</th>\n",
       "      <th>대분류코드</th>\n",
       "      <th>중분류코드</th>\n",
       "      <th>소분류코드</th>\n",
       "      <th>대분류명</th>\n",
       "      <th>중분류명</th>\n",
       "      <th>소분류명</th>\n",
       "      <th>거주지역</th>\n",
       "    </tr>\n",
       "  </thead>\n",
       "  <tbody>\n",
       "    <tr>\n",
       "      <th>0</th>\n",
       "      <td>A</td>\n",
       "      <td>2757986</td>\n",
       "      <td>15148</td>\n",
       "      <td>10</td>\n",
       "      <td>20140920</td>\n",
       "      <td>20</td>\n",
       "      <td>1000</td>\n",
       "      <td>9</td>\n",
       "      <td>9</td>\n",
       "      <td>101</td>\n",
       "      <td>A010101</td>\n",
       "      <td>가구/인테리어</td>\n",
       "      <td>일용잡화</td>\n",
       "      <td>위생세제</td>\n",
       "      <td>경기 김포시</td>\n",
       "    </tr>\n",
       "    <tr>\n",
       "      <th>1</th>\n",
       "      <td>A</td>\n",
       "      <td>2757986</td>\n",
       "      <td>15148</td>\n",
       "      <td>10</td>\n",
       "      <td>20140920</td>\n",
       "      <td>20</td>\n",
       "      <td>4100</td>\n",
       "      <td>9</td>\n",
       "      <td>1</td>\n",
       "      <td>106</td>\n",
       "      <td>A010608</td>\n",
       "      <td>식품</td>\n",
       "      <td>가공식품</td>\n",
       "      <td>일반가공식품</td>\n",
       "      <td>경기 김포시</td>\n",
       "    </tr>\n",
       "  </tbody>\n",
       "</table>\n",
       "</div>"
      ],
      "text/plain": [
       "  제휴사    영수증번호   고객번호  점포코드      구매일자  구매시간  구매금액  구매월  대분류코드  중분류코드    소분류코드  \\\n",
       "0   A  2757986  15148    10  20140920    20  1000    9      9    101  A010101   \n",
       "1   A  2757986  15148    10  20140920    20  4100    9      1    106  A010608   \n",
       "\n",
       "      대분류명  중분류명    소분류명    거주지역  \n",
       "0  가구/인테리어  일용잡화    위생세제  경기 김포시  \n",
       "1       식품  가공식품  일반가공식품  경기 김포시  "
      ]
     },
     "execution_count": 58,
     "metadata": {},
     "output_type": "execute_result"
    }
   ],
   "source": [
    "purprd=purprd.rename(columns={'거주지역_':'거주지역'})\n",
    "purprd.head(2)"
   ]
  },
  {
   "cell_type": "code",
   "execution_count": 59,
   "id": "88eea3f1",
   "metadata": {},
   "outputs": [
    {
     "data": {
      "text/plain": [
       "array(['경기 김포시', '서울 송파구', '세종 장군', '서울 동작구', 'X', '서울 광진구', '서울 강동구',\n",
       "       '서울 중구', '서울 강남구', '인천 계양구', '서울 마포구', '서울 은평구', '서울 동대문구',\n",
       "       '서울 노원구', '서울 양천구', '서울 중랑구', '서울 도봉구', '충청남도 천안', '광주 북구',\n",
       "       '부산 기장', '서울 강북구', '서울 용산구', '서울 서대문구', '대전 유성구', '충청북도', '강원도 철원',\n",
       "       '서울 서초구', '서울 성북구', '서울 관악구', '경상남도 함양', '서울 강서구', '서울 영등포구',\n",
       "       '경상북도 영주', '서울 성동구', '전라북도 군산', '서울 구로구', '대구 동구', '울산 동구',\n",
       "       '서울 종로구', '전라남도 영광', '서울 금천구'], dtype=object)"
      ]
     },
     "execution_count": 59,
     "metadata": {},
     "output_type": "execute_result"
    }
   ],
   "source": [
    "purprd.거주지역.unique()"
   ]
  },
  {
   "cell_type": "code",
   "execution_count": 2,
   "id": "2b8cae9f",
   "metadata": {},
   "outputs": [
    {
     "ename": "NameError",
     "evalue": "name 'purprd' is not defined",
     "output_type": "error",
     "traceback": [
      "\u001b[1;31m---------------------------------------------------------------------------\u001b[0m",
      "\u001b[1;31mNameError\u001b[0m                                 Traceback (most recent call last)",
      "\u001b[1;32m<ipython-input-2-2215f7f32579>\u001b[0m in \u001b[0;36m<module>\u001b[1;34m\u001b[0m\n\u001b[0;32m      1\u001b[0m \u001b[1;32mimport\u001b[0m \u001b[0mpandas\u001b[0m \u001b[1;32mas\u001b[0m \u001b[0mpd\u001b[0m\u001b[1;33m\u001b[0m\u001b[1;33m\u001b[0m\u001b[0m\n\u001b[1;32m----> 2\u001b[1;33m \u001b[0mpurprd\u001b[0m\u001b[1;33m.\u001b[0m\u001b[0mto_pickle\u001b[0m\u001b[1;33m(\u001b[0m\u001b[1;34m'dataset/purprd_region.pkl'\u001b[0m\u001b[1;33m)\u001b[0m\u001b[1;33m\u001b[0m\u001b[1;33m\u001b[0m\u001b[0m\n\u001b[0m",
      "\u001b[1;31mNameError\u001b[0m: name 'purprd' is not defined"
     ]
    }
   ],
   "source": [
    "purprd.to_pickle('dataset/purprd_region.pkl')"
   ]
  },
  {
   "cell_type": "code",
   "execution_count": null,
   "id": "a3d6e8f8",
   "metadata": {},
   "outputs": [],
   "source": []
  },
  {
   "cell_type": "code",
   "execution_count": null,
   "id": "c269c4bb",
   "metadata": {},
   "outputs": [],
   "source": []
  },
  {
   "cell_type": "code",
   "execution_count": null,
   "id": "922f2efd",
   "metadata": {},
   "outputs": [],
   "source": []
  },
  {
   "cell_type": "markdown",
   "id": "b8cf9a8b",
   "metadata": {},
   "source": [
    "# -----------------------------0920---------------------------------"
   ]
  },
  {
   "cell_type": "code",
   "execution_count": 4,
   "id": "2611454f",
   "metadata": {},
   "outputs": [],
   "source": [
    "import pandas as pd \n",
    "purprd= pd.read_pickle('dataset/purprd_region.pkl')"
   ]
  },
  {
   "cell_type": "code",
   "execution_count": 5,
   "id": "1c9d6401",
   "metadata": {},
   "outputs": [
    {
     "data": {
      "text/html": [
       "<div>\n",
       "<style scoped>\n",
       "    .dataframe tbody tr th:only-of-type {\n",
       "        vertical-align: middle;\n",
       "    }\n",
       "\n",
       "    .dataframe tbody tr th {\n",
       "        vertical-align: top;\n",
       "    }\n",
       "\n",
       "    .dataframe thead th {\n",
       "        text-align: right;\n",
       "    }\n",
       "</style>\n",
       "<table border=\"1\" class=\"dataframe\">\n",
       "  <thead>\n",
       "    <tr style=\"text-align: right;\">\n",
       "      <th></th>\n",
       "      <th>제휴사</th>\n",
       "      <th>영수증번호</th>\n",
       "      <th>고객번호</th>\n",
       "      <th>점포코드</th>\n",
       "      <th>구매일자</th>\n",
       "      <th>구매시간</th>\n",
       "      <th>구매금액</th>\n",
       "      <th>구매월</th>\n",
       "      <th>대분류코드</th>\n",
       "      <th>중분류코드</th>\n",
       "      <th>소분류코드</th>\n",
       "      <th>대분류명</th>\n",
       "      <th>중분류명</th>\n",
       "      <th>소분류명</th>\n",
       "      <th>거주지역</th>\n",
       "    </tr>\n",
       "  </thead>\n",
       "  <tbody>\n",
       "    <tr>\n",
       "      <th>0</th>\n",
       "      <td>A</td>\n",
       "      <td>2757986</td>\n",
       "      <td>15148</td>\n",
       "      <td>10</td>\n",
       "      <td>20140920</td>\n",
       "      <td>20</td>\n",
       "      <td>1000</td>\n",
       "      <td>9</td>\n",
       "      <td>9</td>\n",
       "      <td>101</td>\n",
       "      <td>A010101</td>\n",
       "      <td>가구/인테리어</td>\n",
       "      <td>일용잡화</td>\n",
       "      <td>위생세제</td>\n",
       "      <td>경기 김포시</td>\n",
       "    </tr>\n",
       "    <tr>\n",
       "      <th>1</th>\n",
       "      <td>A</td>\n",
       "      <td>2757986</td>\n",
       "      <td>15148</td>\n",
       "      <td>10</td>\n",
       "      <td>20140920</td>\n",
       "      <td>20</td>\n",
       "      <td>4100</td>\n",
       "      <td>9</td>\n",
       "      <td>1</td>\n",
       "      <td>106</td>\n",
       "      <td>A010608</td>\n",
       "      <td>식품</td>\n",
       "      <td>가공식품</td>\n",
       "      <td>일반가공식품</td>\n",
       "      <td>경기 김포시</td>\n",
       "    </tr>\n",
       "  </tbody>\n",
       "</table>\n",
       "</div>"
      ],
      "text/plain": [
       "  제휴사    영수증번호   고객번호  점포코드      구매일자  구매시간  구매금액  구매월  대분류코드  중분류코드    소분류코드  \\\n",
       "0   A  2757986  15148    10  20140920    20  1000    9      9    101  A010101   \n",
       "1   A  2757986  15148    10  20140920    20  4100    9      1    106  A010608   \n",
       "\n",
       "      대분류명  중분류명    소분류명    거주지역  \n",
       "0  가구/인테리어  일용잡화    위생세제  경기 김포시  \n",
       "1       식품  가공식품  일반가공식품  경기 김포시  "
      ]
     },
     "execution_count": 5,
     "metadata": {},
     "output_type": "execute_result"
    }
   ],
   "source": [
    "purprd.head(2)"
   ]
  },
  {
   "cell_type": "code",
   "execution_count": 6,
   "id": "a7536e1d",
   "metadata": {},
   "outputs": [
    {
     "data": {
      "text/html": [
       "<div>\n",
       "<style scoped>\n",
       "    .dataframe tbody tr th:only-of-type {\n",
       "        vertical-align: middle;\n",
       "    }\n",
       "\n",
       "    .dataframe tbody tr th {\n",
       "        vertical-align: top;\n",
       "    }\n",
       "\n",
       "    .dataframe thead th {\n",
       "        text-align: right;\n",
       "    }\n",
       "</style>\n",
       "<table border=\"1\" class=\"dataframe\">\n",
       "  <thead>\n",
       "    <tr style=\"text-align: right;\">\n",
       "      <th></th>\n",
       "      <th>제휴사</th>\n",
       "      <th>고객번호</th>\n",
       "      <th>점포코드</th>\n",
       "      <th>구매일자</th>\n",
       "      <th>구매시간</th>\n",
       "      <th>구매금액</th>\n",
       "      <th>구매월</th>\n",
       "      <th>대분류명</th>\n",
       "      <th>중분류명</th>\n",
       "      <th>거주지역</th>\n",
       "    </tr>\n",
       "  </thead>\n",
       "  <tbody>\n",
       "    <tr>\n",
       "      <th>0</th>\n",
       "      <td>A</td>\n",
       "      <td>15148</td>\n",
       "      <td>10</td>\n",
       "      <td>20140920</td>\n",
       "      <td>20</td>\n",
       "      <td>1000</td>\n",
       "      <td>9</td>\n",
       "      <td>가구/인테리어</td>\n",
       "      <td>일용잡화</td>\n",
       "      <td>경기 김포시</td>\n",
       "    </tr>\n",
       "    <tr>\n",
       "      <th>1</th>\n",
       "      <td>A</td>\n",
       "      <td>15148</td>\n",
       "      <td>10</td>\n",
       "      <td>20140920</td>\n",
       "      <td>20</td>\n",
       "      <td>4100</td>\n",
       "      <td>9</td>\n",
       "      <td>식품</td>\n",
       "      <td>가공식품</td>\n",
       "      <td>경기 김포시</td>\n",
       "    </tr>\n",
       "  </tbody>\n",
       "</table>\n",
       "</div>"
      ],
      "text/plain": [
       "  제휴사   고객번호  점포코드      구매일자  구매시간  구매금액  구매월     대분류명  중분류명    거주지역\n",
       "0   A  15148    10  20140920    20  1000    9  가구/인테리어  일용잡화  경기 김포시\n",
       "1   A  15148    10  20140920    20  4100    9       식품  가공식품  경기 김포시"
      ]
     },
     "execution_count": 6,
     "metadata": {},
     "output_type": "execute_result"
    }
   ],
   "source": [
    "############################ 여기서만 ############################\n",
    "purprd.drop(columns=['영수증번호','대분류코드','중분류코드','소분류코드','소분류명'],inplace=True)\n",
    "purprd.head(2)\n",
    "\n"
   ]
  },
  {
   "cell_type": "code",
   "execution_count": 7,
   "id": "f65b33f3",
   "metadata": {
    "scrolled": true
   },
   "outputs": [
    {
     "data": {
      "text/html": [
       "<div>\n",
       "<style scoped>\n",
       "    .dataframe tbody tr th:only-of-type {\n",
       "        vertical-align: middle;\n",
       "    }\n",
       "\n",
       "    .dataframe tbody tr th {\n",
       "        vertical-align: top;\n",
       "    }\n",
       "\n",
       "    .dataframe thead th {\n",
       "        text-align: right;\n",
       "    }\n",
       "</style>\n",
       "<table border=\"1\" class=\"dataframe\">\n",
       "  <thead>\n",
       "    <tr style=\"text-align: right;\">\n",
       "      <th></th>\n",
       "      <th>고객번호</th>\n",
       "      <th>성별</th>\n",
       "      <th>연령대</th>\n",
       "      <th>거주지역</th>\n",
       "    </tr>\n",
       "  </thead>\n",
       "  <tbody>\n",
       "    <tr>\n",
       "      <th>0</th>\n",
       "      <td>1</td>\n",
       "      <td>M</td>\n",
       "      <td>60세이상</td>\n",
       "      <td>60.0</td>\n",
       "    </tr>\n",
       "    <tr>\n",
       "      <th>1</th>\n",
       "      <td>2</td>\n",
       "      <td>M</td>\n",
       "      <td>60세이상</td>\n",
       "      <td>100.0</td>\n",
       "    </tr>\n",
       "  </tbody>\n",
       "</table>\n",
       "</div>"
      ],
      "text/plain": [
       "   고객번호 성별    연령대   거주지역\n",
       "0     1  M  60세이상   60.0\n",
       "1     2  M  60세이상  100.0"
      ]
     },
     "execution_count": 7,
     "metadata": {},
     "output_type": "execute_result"
    }
   ],
   "source": [
    "cust= pd.read_csv('dataset/고객DEMO.csv')\n",
    "cust.head(2)"
   ]
  },
  {
   "cell_type": "code",
   "execution_count": 18,
   "id": "2a26298e",
   "metadata": {},
   "outputs": [
    {
     "data": {
      "text/html": [
       "<div>\n",
       "<style scoped>\n",
       "    .dataframe tbody tr th:only-of-type {\n",
       "        vertical-align: middle;\n",
       "    }\n",
       "\n",
       "    .dataframe tbody tr th {\n",
       "        vertical-align: top;\n",
       "    }\n",
       "\n",
       "    .dataframe thead th {\n",
       "        text-align: right;\n",
       "    }\n",
       "</style>\n",
       "<table border=\"1\" class=\"dataframe\">\n",
       "  <thead>\n",
       "    <tr style=\"text-align: right;\">\n",
       "      <th></th>\n",
       "      <th>제휴사</th>\n",
       "      <th>고객번호</th>\n",
       "      <th>점포코드</th>\n",
       "      <th>구매일자</th>\n",
       "      <th>구매시간</th>\n",
       "      <th>구매금액</th>\n",
       "      <th>구매월</th>\n",
       "      <th>대분류명</th>\n",
       "      <th>중분류명</th>\n",
       "      <th>거주지역</th>\n",
       "    </tr>\n",
       "  </thead>\n",
       "  <tbody>\n",
       "    <tr>\n",
       "      <th>0</th>\n",
       "      <td>A</td>\n",
       "      <td>15148</td>\n",
       "      <td>10</td>\n",
       "      <td>20140920</td>\n",
       "      <td>20</td>\n",
       "      <td>1000</td>\n",
       "      <td>9</td>\n",
       "      <td>가구/인테리어</td>\n",
       "      <td>일용잡화</td>\n",
       "      <td>경기 김포시</td>\n",
       "    </tr>\n",
       "    <tr>\n",
       "      <th>1</th>\n",
       "      <td>A</td>\n",
       "      <td>15148</td>\n",
       "      <td>10</td>\n",
       "      <td>20140920</td>\n",
       "      <td>20</td>\n",
       "      <td>4100</td>\n",
       "      <td>9</td>\n",
       "      <td>식품</td>\n",
       "      <td>가공식품</td>\n",
       "      <td>경기 김포시</td>\n",
       "    </tr>\n",
       "    <tr>\n",
       "      <th>2</th>\n",
       "      <td>A</td>\n",
       "      <td>400</td>\n",
       "      <td>10</td>\n",
       "      <td>20140920</td>\n",
       "      <td>12</td>\n",
       "      <td>5000</td>\n",
       "      <td>9</td>\n",
       "      <td>식품</td>\n",
       "      <td>농산물</td>\n",
       "      <td>경기 김포시</td>\n",
       "    </tr>\n",
       "    <tr>\n",
       "      <th>3</th>\n",
       "      <td>A</td>\n",
       "      <td>400</td>\n",
       "      <td>10</td>\n",
       "      <td>20140920</td>\n",
       "      <td>12</td>\n",
       "      <td>10200</td>\n",
       "      <td>9</td>\n",
       "      <td>식품</td>\n",
       "      <td>젓갈/반찬</td>\n",
       "      <td>경기 김포시</td>\n",
       "    </tr>\n",
       "    <tr>\n",
       "      <th>4</th>\n",
       "      <td>A</td>\n",
       "      <td>2043</td>\n",
       "      <td>10</td>\n",
       "      <td>20140920</td>\n",
       "      <td>13</td>\n",
       "      <td>3950</td>\n",
       "      <td>9</td>\n",
       "      <td>가구/인테리어</td>\n",
       "      <td>일용잡화</td>\n",
       "      <td>경기 김포시</td>\n",
       "    </tr>\n",
       "    <tr>\n",
       "      <th>...</th>\n",
       "      <td>...</td>\n",
       "      <td>...</td>\n",
       "      <td>...</td>\n",
       "      <td>...</td>\n",
       "      <td>...</td>\n",
       "      <td>...</td>\n",
       "      <td>...</td>\n",
       "      <td>...</td>\n",
       "      <td>...</td>\n",
       "      <td>...</td>\n",
       "    </tr>\n",
       "    <tr>\n",
       "      <th>28593025</th>\n",
       "      <td>D</td>\n",
       "      <td>15835</td>\n",
       "      <td>40</td>\n",
       "      <td>20151026</td>\n",
       "      <td>13</td>\n",
       "      <td>3000</td>\n",
       "      <td>22</td>\n",
       "      <td>간식</td>\n",
       "      <td>음료</td>\n",
       "      <td>인천 계양구</td>\n",
       "    </tr>\n",
       "    <tr>\n",
       "      <th>28593026</th>\n",
       "      <td>D</td>\n",
       "      <td>15835</td>\n",
       "      <td>40</td>\n",
       "      <td>20151026</td>\n",
       "      <td>13</td>\n",
       "      <td>1300</td>\n",
       "      <td>22</td>\n",
       "      <td>간식</td>\n",
       "      <td>음료</td>\n",
       "      <td>인천 계양구</td>\n",
       "    </tr>\n",
       "    <tr>\n",
       "      <th>28593027</th>\n",
       "      <td>D</td>\n",
       "      <td>2070</td>\n",
       "      <td>40</td>\n",
       "      <td>20151026</td>\n",
       "      <td>16</td>\n",
       "      <td>59700</td>\n",
       "      <td>22</td>\n",
       "      <td>바디케어</td>\n",
       "      <td>헤어케어</td>\n",
       "      <td>인천 계양구</td>\n",
       "    </tr>\n",
       "    <tr>\n",
       "      <th>28593028</th>\n",
       "      <td>D</td>\n",
       "      <td>15835</td>\n",
       "      <td>40</td>\n",
       "      <td>20151026</td>\n",
       "      <td>23</td>\n",
       "      <td>2000</td>\n",
       "      <td>22</td>\n",
       "      <td>간식</td>\n",
       "      <td>과자</td>\n",
       "      <td>인천 계양구</td>\n",
       "    </tr>\n",
       "    <tr>\n",
       "      <th>28593029</th>\n",
       "      <td>D</td>\n",
       "      <td>13918</td>\n",
       "      <td>43</td>\n",
       "      <td>20151202</td>\n",
       "      <td>22</td>\n",
       "      <td>2500</td>\n",
       "      <td>24</td>\n",
       "      <td>간식</td>\n",
       "      <td>과자</td>\n",
       "      <td>인천 계양구</td>\n",
       "    </tr>\n",
       "  </tbody>\n",
       "</table>\n",
       "<p>28593030 rows × 10 columns</p>\n",
       "</div>"
      ],
      "text/plain": [
       "         제휴사   고객번호  점포코드      구매일자  구매시간   구매금액  구매월     대분류명   중분류명    거주지역\n",
       "0          A  15148    10  20140920    20   1000    9  가구/인테리어   일용잡화  경기 김포시\n",
       "1          A  15148    10  20140920    20   4100    9       식품   가공식품  경기 김포시\n",
       "2          A    400    10  20140920    12   5000    9       식품    농산물  경기 김포시\n",
       "3          A    400    10  20140920    12  10200    9       식품  젓갈/반찬  경기 김포시\n",
       "4          A   2043    10  20140920    13   3950    9  가구/인테리어   일용잡화  경기 김포시\n",
       "...       ..    ...   ...       ...   ...    ...  ...      ...    ...     ...\n",
       "28593025   D  15835    40  20151026    13   3000   22       간식     음료  인천 계양구\n",
       "28593026   D  15835    40  20151026    13   1300   22       간식     음료  인천 계양구\n",
       "28593027   D   2070    40  20151026    16  59700   22     바디케어   헤어케어  인천 계양구\n",
       "28593028   D  15835    40  20151026    23   2000   22       간식     과자  인천 계양구\n",
       "28593029   D  13918    43  20151202    22   2500   24       간식     과자  인천 계양구\n",
       "\n",
       "[28593030 rows x 10 columns]"
      ]
     },
     "execution_count": 18,
     "metadata": {},
     "output_type": "execute_result"
    }
   ],
   "source": [
    "purprd"
   ]
  },
  {
   "cell_type": "code",
   "execution_count": 21,
   "id": "4a6e07c2",
   "metadata": {},
   "outputs": [
    {
     "data": {
      "text/html": [
       "<div>\n",
       "<style scoped>\n",
       "    .dataframe tbody tr th:only-of-type {\n",
       "        vertical-align: middle;\n",
       "    }\n",
       "\n",
       "    .dataframe tbody tr th {\n",
       "        vertical-align: top;\n",
       "    }\n",
       "\n",
       "    .dataframe thead th {\n",
       "        text-align: right;\n",
       "    }\n",
       "</style>\n",
       "<table border=\"1\" class=\"dataframe\">\n",
       "  <thead>\n",
       "    <tr style=\"text-align: right;\">\n",
       "      <th></th>\n",
       "      <th>제휴사</th>\n",
       "      <th>고객번호</th>\n",
       "      <th>점포코드</th>\n",
       "      <th>구매일자</th>\n",
       "      <th>구매시간</th>\n",
       "      <th>구매금액</th>\n",
       "      <th>구매월</th>\n",
       "      <th>대분류명</th>\n",
       "      <th>중분류명</th>\n",
       "      <th>거주지역</th>\n",
       "      <th>성별</th>\n",
       "    </tr>\n",
       "  </thead>\n",
       "  <tbody>\n",
       "    <tr>\n",
       "      <th>0</th>\n",
       "      <td>A</td>\n",
       "      <td>15148</td>\n",
       "      <td>10</td>\n",
       "      <td>20140920</td>\n",
       "      <td>20</td>\n",
       "      <td>1000</td>\n",
       "      <td>9</td>\n",
       "      <td>가구/인테리어</td>\n",
       "      <td>일용잡화</td>\n",
       "      <td>경기 김포시</td>\n",
       "      <td>F</td>\n",
       "    </tr>\n",
       "    <tr>\n",
       "      <th>1</th>\n",
       "      <td>A</td>\n",
       "      <td>15148</td>\n",
       "      <td>10</td>\n",
       "      <td>20140920</td>\n",
       "      <td>20</td>\n",
       "      <td>4100</td>\n",
       "      <td>9</td>\n",
       "      <td>식품</td>\n",
       "      <td>가공식품</td>\n",
       "      <td>경기 김포시</td>\n",
       "      <td>F</td>\n",
       "    </tr>\n",
       "  </tbody>\n",
       "</table>\n",
       "</div>"
      ],
      "text/plain": [
       "  제휴사   고객번호  점포코드      구매일자  구매시간  구매금액  구매월     대분류명  중분류명    거주지역 성별\n",
       "0   A  15148    10  20140920    20  1000    9  가구/인테리어  일용잡화  경기 김포시  F\n",
       "1   A  15148    10  20140920    20  4100    9       식품  가공식품  경기 김포시  F"
      ]
     },
     "execution_count": 21,
     "metadata": {},
     "output_type": "execute_result"
    }
   ],
   "source": [
    "prod_cust = pd.merge(purprd,cust[['고객번호','성별']],\n",
    "                     on='고객번호', how='left')\n",
    "prod_cust.head(2)"
   ]
  },
  {
   "cell_type": "code",
   "execution_count": 23,
   "id": "8ceaf9c3",
   "metadata": {},
   "outputs": [],
   "source": [
    "df= prod_cust.copy()"
   ]
  },
  {
   "cell_type": "code",
   "execution_count": 41,
   "id": "1e849355",
   "metadata": {},
   "outputs": [],
   "source": [
    "# pd.options.display.max_rows=1000\n",
    "# df[['구매금액']].groupby([df['제휴사'],df['대분류명'],df['성별']]).sum()"
   ]
  },
  {
   "cell_type": "code",
   "execution_count": null,
   "id": "80733941",
   "metadata": {},
   "outputs": [],
   "source": []
  },
  {
   "cell_type": "code",
   "execution_count": 45,
   "id": "1aa7e215",
   "metadata": {},
   "outputs": [
    {
     "data": {
      "text/html": [
       "<div>\n",
       "<style scoped>\n",
       "    .dataframe tbody tr th:only-of-type {\n",
       "        vertical-align: middle;\n",
       "    }\n",
       "\n",
       "    .dataframe tbody tr th {\n",
       "        vertical-align: top;\n",
       "    }\n",
       "\n",
       "    .dataframe thead th {\n",
       "        text-align: right;\n",
       "    }\n",
       "</style>\n",
       "<table border=\"1\" class=\"dataframe\">\n",
       "  <thead>\n",
       "    <tr style=\"text-align: right;\">\n",
       "      <th></th>\n",
       "      <th>고객번호</th>\n",
       "      <th>제휴사</th>\n",
       "      <th>경쟁사</th>\n",
       "      <th>이용년월</th>\n",
       "    </tr>\n",
       "  </thead>\n",
       "  <tbody>\n",
       "    <tr>\n",
       "      <th>0</th>\n",
       "      <td>2</td>\n",
       "      <td>D</td>\n",
       "      <td>D02</td>\n",
       "      <td>201507</td>\n",
       "    </tr>\n",
       "  </tbody>\n",
       "</table>\n",
       "</div>"
      ],
      "text/plain": [
       "   고객번호 제휴사  경쟁사    이용년월\n",
       "0     2   D  D02  201507"
      ]
     },
     "execution_count": 45,
     "metadata": {},
     "output_type": "execute_result"
    }
   ],
   "source": [
    "dd= pd.read_csv('dataset/경쟁사이용.csv')\n",
    "dd.head(1)"
   ]
  },
  {
   "cell_type": "code",
   "execution_count": 71,
   "id": "d9a13cf3",
   "metadata": {},
   "outputs": [],
   "source": [
    "# d1= dd[['고객번호']]\n",
    "da= dd.groupby('고객번호').count()\n",
    "aa = da[['제휴사']].rename(columns={'제휴사':'이용횟수'})"
   ]
  },
  {
   "cell_type": "code",
   "execution_count": 72,
   "id": "eb2bd013",
   "metadata": {},
   "outputs": [
    {
     "data": {
      "text/html": [
       "<div>\n",
       "<style scoped>\n",
       "    .dataframe tbody tr th:only-of-type {\n",
       "        vertical-align: middle;\n",
       "    }\n",
       "\n",
       "    .dataframe tbody tr th {\n",
       "        vertical-align: top;\n",
       "    }\n",
       "\n",
       "    .dataframe thead th {\n",
       "        text-align: right;\n",
       "    }\n",
       "</style>\n",
       "<table border=\"1\" class=\"dataframe\">\n",
       "  <thead>\n",
       "    <tr style=\"text-align: right;\">\n",
       "      <th></th>\n",
       "      <th>이용횟수</th>\n",
       "    </tr>\n",
       "    <tr>\n",
       "      <th>고객번호</th>\n",
       "      <th></th>\n",
       "    </tr>\n",
       "  </thead>\n",
       "  <tbody>\n",
       "    <tr>\n",
       "      <th>1</th>\n",
       "      <td>15</td>\n",
       "    </tr>\n",
       "    <tr>\n",
       "      <th>2</th>\n",
       "      <td>8</td>\n",
       "    </tr>\n",
       "    <tr>\n",
       "      <th>4</th>\n",
       "      <td>3</td>\n",
       "    </tr>\n",
       "    <tr>\n",
       "      <th>7</th>\n",
       "      <td>1</td>\n",
       "    </tr>\n",
       "    <tr>\n",
       "      <th>8</th>\n",
       "      <td>3</td>\n",
       "    </tr>\n",
       "    <tr>\n",
       "      <th>...</th>\n",
       "      <td>...</td>\n",
       "    </tr>\n",
       "    <tr>\n",
       "      <th>19370</th>\n",
       "      <td>24</td>\n",
       "    </tr>\n",
       "    <tr>\n",
       "      <th>19372</th>\n",
       "      <td>4</td>\n",
       "    </tr>\n",
       "    <tr>\n",
       "      <th>19375</th>\n",
       "      <td>6</td>\n",
       "    </tr>\n",
       "    <tr>\n",
       "      <th>19376</th>\n",
       "      <td>1</td>\n",
       "    </tr>\n",
       "    <tr>\n",
       "      <th>19377</th>\n",
       "      <td>1</td>\n",
       "    </tr>\n",
       "  </tbody>\n",
       "</table>\n",
       "<p>5881 rows × 1 columns</p>\n",
       "</div>"
      ],
      "text/plain": [
       "       이용횟수\n",
       "고객번호       \n",
       "1        15\n",
       "2         8\n",
       "4         3\n",
       "7         1\n",
       "8         3\n",
       "...     ...\n",
       "19370    24\n",
       "19372     4\n",
       "19375     6\n",
       "19376     1\n",
       "19377     1\n",
       "\n",
       "[5881 rows x 1 columns]"
      ]
     },
     "execution_count": 72,
     "metadata": {},
     "output_type": "execute_result"
    }
   ],
   "source": [
    "aa"
   ]
  },
  {
   "cell_type": "code",
   "execution_count": null,
   "id": "74ca3578",
   "metadata": {},
   "outputs": [],
   "source": [
    "df_all = pd.merge(df,dd[['고객번호','경쟁사']],\n",
    "                     on='고객번호', how='left')"
   ]
  },
  {
   "cell_type": "code",
   "execution_count": null,
   "id": "e07d1dc6",
   "metadata": {},
   "outputs": [],
   "source": []
  },
  {
   "cell_type": "code",
   "execution_count": null,
   "id": "f51a61f3",
   "metadata": {},
   "outputs": [],
   "source": []
  },
  {
   "cell_type": "code",
   "execution_count": null,
   "id": "b40d9df3",
   "metadata": {},
   "outputs": [],
   "source": []
  }
 ],
 "metadata": {
  "kernelspec": {
   "display_name": "Python 3",
   "language": "python",
   "name": "python3"
  },
  "language_info": {
   "codemirror_mode": {
    "name": "ipython",
    "version": 3
   },
   "file_extension": ".py",
   "mimetype": "text/x-python",
   "name": "python",
   "nbconvert_exporter": "python",
   "pygments_lexer": "ipython3",
   "version": "3.8.8"
  }
 },
 "nbformat": 4,
 "nbformat_minor": 5
}

{
 "cells": [
  {
   "cell_type": "markdown",
   "id": "2a716673",
   "metadata": {},
   "source": [
    "- 가공식품\n",
    "- 신선식품\n",
    "- 일상용품\n",
    "- 의약품/의료기기\n",
    "- 교육/문화용품\n",
    "- 디지털/가전\n",
    "- 가구/인테리어\n",
    "- 의류\n",
    "- 전문스포츠/레저\n",
    "- 패션잡화\n",
    "- 기타 (원래 기타상품인데 기타로 변경)\n",
    "--------------------------------------------\n",
    "* 명품은 카테고리에 없는데 분류하기 애매해서 일단 대분류-명품으로 설정해둠\n",
    "* 기타에 기타/ 음식점/ 편의시설 - 장소 포함\n",
    "\n",
    "\n",
    "<<롯데몰>>\n",
    "광명/ 진주/ 군산/ 월드/ 김포공항/ 수원/ \n",
    "            은평/ 수지/ 피트인 산본/ 여수/ 부산(기장)\n",
    "            \n",
    "진주 : 경상남도 진주\n",
    "군산 : 전북 군산\n",
    "월드: 서울 송파구\n",
    "수원: 경기도 수원\n",
    "수지: 경기도 용인시 수지구\n",
    "피트인 산본: 경기도 군포시 \n",
    "여수: 전남 여수 \n",
    "\n",
    "\n",
    "\n",
    "\n",
    "\n",
    "<<롯데백화점>>\n",
    "\n",
    "본점(영플라자포함), 잠실점, 영등포점,\n",
    "청량리점, 관악점, 강남점, 노원점, 미아점\n",
    "건대스타시티점, 김포공항점\n",
    "\n",
    "분당점, 일산점, 중동점, 구리점, 안산점,\n",
    "평촌점, 수원점, 인천터미널점, 동탄점\n",
    "\n",
    "부산 - 부산본점, 센텀시티점, 광복점, 동래점\n",
    "\n",
    "광주점, 대전점, 포항점, 울산점,\n",
    "창원점, 대구점, 상인점, 전주점, 마산점"
   ]
  },
  {
   "cell_type": "code",
   "execution_count": 2,
   "id": "e8c6bd09",
   "metadata": {},
   "outputs": [
    {
     "data": {
      "text/html": [
       "<div>\n",
       "<style scoped>\n",
       "    .dataframe tbody tr th:only-of-type {\n",
       "        vertical-align: middle;\n",
       "    }\n",
       "\n",
       "    .dataframe tbody tr th {\n",
       "        vertical-align: top;\n",
       "    }\n",
       "\n",
       "    .dataframe thead th {\n",
       "        text-align: right;\n",
       "    }\n",
       "</style>\n",
       "<table border=\"1\" class=\"dataframe\">\n",
       "  <thead>\n",
       "    <tr style=\"text-align: right;\">\n",
       "      <th></th>\n",
       "      <th>제휴사</th>\n",
       "      <th>영수증번호</th>\n",
       "      <th>고객번호</th>\n",
       "      <th>점포코드</th>\n",
       "      <th>구매일자</th>\n",
       "      <th>구매시간</th>\n",
       "      <th>구매금액</th>\n",
       "      <th>구매월</th>\n",
       "      <th>대분류코드</th>\n",
       "      <th>중분류코드</th>\n",
       "      <th>소분류코드</th>\n",
       "      <th>대분류명</th>\n",
       "      <th>중분류명</th>\n",
       "      <th>소분류명</th>\n",
       "      <th>거주지역</th>\n",
       "    </tr>\n",
       "  </thead>\n",
       "  <tbody>\n",
       "    <tr>\n",
       "      <th>0</th>\n",
       "      <td>A</td>\n",
       "      <td>2757986</td>\n",
       "      <td>15148</td>\n",
       "      <td>10</td>\n",
       "      <td>20140920</td>\n",
       "      <td>20</td>\n",
       "      <td>1000</td>\n",
       "      <td>9</td>\n",
       "      <td>9</td>\n",
       "      <td>101</td>\n",
       "      <td>A010101</td>\n",
       "      <td>가구/인테리어</td>\n",
       "      <td>일용잡화</td>\n",
       "      <td>위생세제</td>\n",
       "      <td>경기 김포시</td>\n",
       "    </tr>\n",
       "    <tr>\n",
       "      <th>1</th>\n",
       "      <td>A</td>\n",
       "      <td>2757986</td>\n",
       "      <td>15148</td>\n",
       "      <td>10</td>\n",
       "      <td>20140920</td>\n",
       "      <td>20</td>\n",
       "      <td>4100</td>\n",
       "      <td>9</td>\n",
       "      <td>1</td>\n",
       "      <td>106</td>\n",
       "      <td>A010608</td>\n",
       "      <td>식품</td>\n",
       "      <td>가공식품</td>\n",
       "      <td>일반가공식품</td>\n",
       "      <td>경기 김포시</td>\n",
       "    </tr>\n",
       "  </tbody>\n",
       "</table>\n",
       "</div>"
      ],
      "text/plain": [
       "  제휴사    영수증번호   고객번호  점포코드      구매일자  구매시간  구매금액  구매월  대분류코드  중분류코드    소분류코드  \\\n",
       "0   A  2757986  15148    10  20140920    20  1000    9      9    101  A010101   \n",
       "1   A  2757986  15148    10  20140920    20  4100    9      1    106  A010608   \n",
       "\n",
       "      대분류명  중분류명    소분류명    거주지역  \n",
       "0  가구/인테리어  일용잡화    위생세제  경기 김포시  \n",
       "1       식품  가공식품  일반가공식품  경기 김포시  "
      ]
     },
     "execution_count": 2,
     "metadata": {},
     "output_type": "execute_result"
    }
   ],
   "source": [
    "import pandas as pd\n",
    "a = pd.read_pickle(\"dataset/purprd_region.pkl\")\n",
    "a.head(2)"
   ]
  },
  {
   "cell_type": "code",
   "execution_count": 3,
   "id": "01d14f28",
   "metadata": {},
   "outputs": [
    {
     "data": {
      "text/plain": [
       "array(['힐앤토트', '컨템포러리', '명품기타', '남성해외패션', '명품잡화', '어덜트', '명품멀티기타',\n",
       "       'global 편집샵', '수입의류', '직수입', '수입잡화', '명품시계기타', '명품남성', '명품잡화보석',\n",
       "       '갤러리', '디자이너', '명품잡화행사', '주얼리멀티', '명품보석', '엘리든', '명품의류기타',\n",
       "       '명품의류행사', '잡화멀티샵'], dtype=object)"
      ]
     },
     "execution_count": 3,
     "metadata": {},
     "output_type": "execute_result"
    }
   ],
   "source": [
    "# a[(a.대분류명=='식품')&(a.중분류명=='기타')].소분류명.unique()\n",
    "a[(a.대분류명=='명품')].소분류명.unique()\n"
   ]
  },
  {
   "cell_type": "code",
   "execution_count": 4,
   "id": "8cdf62d2",
   "metadata": {},
   "outputs": [
    {
     "data": {
      "text/html": [
       "<div>\n",
       "<style scoped>\n",
       "    .dataframe tbody tr th:only-of-type {\n",
       "        vertical-align: middle;\n",
       "    }\n",
       "\n",
       "    .dataframe tbody tr th {\n",
       "        vertical-align: top;\n",
       "    }\n",
       "\n",
       "    .dataframe thead th {\n",
       "        text-align: right;\n",
       "    }\n",
       "</style>\n",
       "<table border=\"1\" class=\"dataframe\">\n",
       "  <thead>\n",
       "    <tr style=\"text-align: right;\">\n",
       "      <th></th>\n",
       "      <th>제휴사</th>\n",
       "      <th>영수증번호</th>\n",
       "      <th>고객번호</th>\n",
       "      <th>점포코드</th>\n",
       "      <th>구매일자</th>\n",
       "      <th>구매시간</th>\n",
       "      <th>구매금액</th>\n",
       "      <th>구매월</th>\n",
       "      <th>대분류코드</th>\n",
       "      <th>중분류코드</th>\n",
       "      <th>소분류코드</th>\n",
       "      <th>대분류명</th>\n",
       "      <th>중분류명</th>\n",
       "      <th>소분류명</th>\n",
       "      <th>거주지역</th>\n",
       "    </tr>\n",
       "  </thead>\n",
       "  <tbody>\n",
       "    <tr>\n",
       "      <th>0</th>\n",
       "      <td>A</td>\n",
       "      <td>2757986</td>\n",
       "      <td>15148</td>\n",
       "      <td>10</td>\n",
       "      <td>20140920</td>\n",
       "      <td>20</td>\n",
       "      <td>1000</td>\n",
       "      <td>9</td>\n",
       "      <td>9</td>\n",
       "      <td>101</td>\n",
       "      <td>A010101</td>\n",
       "      <td>가구/인테리어</td>\n",
       "      <td>일용잡화</td>\n",
       "      <td>위생세제</td>\n",
       "      <td>경기 김포시</td>\n",
       "    </tr>\n",
       "    <tr>\n",
       "      <th>1</th>\n",
       "      <td>A</td>\n",
       "      <td>2757986</td>\n",
       "      <td>15148</td>\n",
       "      <td>10</td>\n",
       "      <td>20140920</td>\n",
       "      <td>20</td>\n",
       "      <td>4100</td>\n",
       "      <td>9</td>\n",
       "      <td>1</td>\n",
       "      <td>106</td>\n",
       "      <td>A010608</td>\n",
       "      <td>식품</td>\n",
       "      <td>가공식품</td>\n",
       "      <td>일반가공식품</td>\n",
       "      <td>경기 김포시</td>\n",
       "    </tr>\n",
       "  </tbody>\n",
       "</table>\n",
       "</div>"
      ],
      "text/plain": [
       "  제휴사    영수증번호   고객번호  점포코드      구매일자  구매시간  구매금액  구매월  대분류코드  중분류코드    소분류코드  \\\n",
       "0   A  2757986  15148    10  20140920    20  1000    9      9    101  A010101   \n",
       "1   A  2757986  15148    10  20140920    20  4100    9      1    106  A010608   \n",
       "\n",
       "      대분류명  중분류명    소분류명    거주지역  \n",
       "0  가구/인테리어  일용잡화    위생세제  경기 김포시  \n",
       "1       식품  가공식품  일반가공식품  경기 김포시  "
      ]
     },
     "execution_count": 4,
     "metadata": {},
     "output_type": "execute_result"
    }
   ],
   "source": [
    "import pandas as pd\n",
    "prodcat = pd.read_pickle(\"dataset/purprd_region.pkl\")\n",
    "prodcat.head(2)"
   ]
  },
  {
   "cell_type": "code",
   "execution_count": 5,
   "id": "5f351dc2",
   "metadata": {},
   "outputs": [
    {
     "data": {
      "text/html": [
       "<div>\n",
       "<style scoped>\n",
       "    .dataframe tbody tr th:only-of-type {\n",
       "        vertical-align: middle;\n",
       "    }\n",
       "\n",
       "    .dataframe tbody tr th {\n",
       "        vertical-align: top;\n",
       "    }\n",
       "\n",
       "    .dataframe thead th {\n",
       "        text-align: right;\n",
       "    }\n",
       "</style>\n",
       "<table border=\"1\" class=\"dataframe\">\n",
       "  <thead>\n",
       "    <tr style=\"text-align: right;\">\n",
       "      <th></th>\n",
       "      <th>제휴사</th>\n",
       "      <th>영수증번호</th>\n",
       "      <th>고객번호</th>\n",
       "      <th>점포코드</th>\n",
       "      <th>구매일자</th>\n",
       "      <th>구매시간</th>\n",
       "      <th>구매금액</th>\n",
       "      <th>구매월</th>\n",
       "      <th>대분류명</th>\n",
       "      <th>중분류명</th>\n",
       "      <th>소분류명</th>\n",
       "      <th>거주지역</th>\n",
       "    </tr>\n",
       "  </thead>\n",
       "  <tbody>\n",
       "    <tr>\n",
       "      <th>0</th>\n",
       "      <td>A</td>\n",
       "      <td>2757986</td>\n",
       "      <td>15148</td>\n",
       "      <td>10</td>\n",
       "      <td>20140920</td>\n",
       "      <td>20</td>\n",
       "      <td>1000</td>\n",
       "      <td>9</td>\n",
       "      <td>가구/인테리어</td>\n",
       "      <td>일용잡화</td>\n",
       "      <td>위생세제</td>\n",
       "      <td>경기 김포시</td>\n",
       "    </tr>\n",
       "    <tr>\n",
       "      <th>1</th>\n",
       "      <td>A</td>\n",
       "      <td>2757986</td>\n",
       "      <td>15148</td>\n",
       "      <td>10</td>\n",
       "      <td>20140920</td>\n",
       "      <td>20</td>\n",
       "      <td>4100</td>\n",
       "      <td>9</td>\n",
       "      <td>식품</td>\n",
       "      <td>가공식품</td>\n",
       "      <td>일반가공식품</td>\n",
       "      <td>경기 김포시</td>\n",
       "    </tr>\n",
       "  </tbody>\n",
       "</table>\n",
       "</div>"
      ],
      "text/plain": [
       "  제휴사    영수증번호   고객번호  점포코드      구매일자  구매시간  구매금액  구매월     대분류명  중분류명    소분류명  \\\n",
       "0   A  2757986  15148    10  20140920    20  1000    9  가구/인테리어  일용잡화    위생세제   \n",
       "1   A  2757986  15148    10  20140920    20  4100    9       식품  가공식품  일반가공식품   \n",
       "\n",
       "     거주지역  \n",
       "0  경기 김포시  \n",
       "1  경기 김포시  "
      ]
     },
     "execution_count": 5,
     "metadata": {},
     "output_type": "execute_result"
    }
   ],
   "source": [
    "prodcat.drop(columns=['대분류코드','중분류코드','소분류코드'],inplace=True)\n",
    "prodcat.head(2)"
   ]
  },
  {
   "cell_type": "code",
   "execution_count": 6,
   "id": "9668026e",
   "metadata": {
    "scrolled": true
   },
   "outputs": [
    {
     "name": "stdout",
     "output_type": "stream",
     "text": [
      "A제휴사 대분류코드>>  ['가구/인테리어' '식품' '패션잡화' '아동' '패션의류_여성' '명품' '패션의류_남성' '스포츠' '가전']\n"
     ]
    }
   ],
   "source": [
    "print('A제휴사 대분류코드>> ',prodcat[(prodcat.제휴사=='A')].대분류명.unique())"
   ]
  },
  {
   "cell_type": "code",
   "execution_count": 7,
   "id": "0b975eec",
   "metadata": {},
   "outputs": [],
   "source": [
    "# food_list = list(prodcat[(prodcat['대분류명'] == '식품') & (prodcat['중분류명'] == '가공식품')]['대분류명'].index)\n",
    "# prodcat.loc[food_list]['대분류명'] = '가공식품'\n",
    "\n",
    "# data.loc[(data.id.isin([10,20,30,40])) & (data.source.isnull()), 'id'] = 50\n",
    "prodcat.loc[(prodcat.대분류명=='식품')&(prodcat['중분류명']=='가공식품') , '대분류명'] = '가공식품'\n",
    "prodcat.loc[(prodcat.대분류명=='식품')&(prodcat['중분류명']=='농산물') , '대분류명'] = '농산물'\n",
    "prodcat.loc[(prodcat.대분류명=='식품')&(prodcat['중분류명']=='젓갈/반찬') , '대분류명'] = '가공식품'\n",
    "prodcat.loc[(prodcat.대분류명=='식품')&(prodcat['중분류명']=='주류') , '대분류명'] = '주류'\n",
    "prodcat.loc[(prodcat.대분류명=='식품')&(prodcat['중분류명']=='축산가공') , '대분류명'] = '축산물'\n",
    "prodcat.loc[(prodcat.대분류명=='식품')&(prodcat['중분류명']=='차/커피') , '대분류명'] = '커피/차'\n",
    "prodcat.loc[(prodcat.대분류명=='식품')&(prodcat['중분류명']=='육류') , '대분류명'] = '축산물'\n",
    "prodcat.loc[(prodcat.대분류명=='식품')&(prodcat['중분류명']=='수산품') , '대분류명'] = '수산물'\n",
    "prodcat.loc[(prodcat.대분류명=='식품')&(prodcat['중분류명']=='건강식품') , '대분류명'] = '건강'\n",
    "\n",
    "prodcat.loc[(prodcat.대분류명=='건강')&(prodcat['중분류명']=='담배') , '대분류명'] = '생활용품'\n",
    "prodcat.loc[(prodcat.대분류명=='아동')&(prodcat['중분류명']=='교육') , '대분류명'] = '생활용품'\n",
    "\n"
   ]
  },
  {
   "cell_type": "code",
   "execution_count": 8,
   "id": "b63fcd01",
   "metadata": {},
   "outputs": [],
   "source": [
    "prodcat.loc[(prodcat.대분류명=='식품')&(prodcat.중분류명=='기타'), '대분류명'] = '기타'"
   ]
  },
  {
   "cell_type": "code",
   "execution_count": 9,
   "id": "337b2b93",
   "metadata": {},
   "outputs": [
    {
     "data": {
      "text/plain": [
       "array([], dtype=object)"
      ]
     },
     "execution_count": 9,
     "metadata": {},
     "output_type": "execute_result"
    }
   ],
   "source": [
    "prodcat[(prodcat.대분류명=='식품')].중분류명.unique()"
   ]
  },
  {
   "cell_type": "code",
   "execution_count": 10,
   "id": "771ce129",
   "metadata": {},
   "outputs": [
    {
     "data": {
      "text/plain": [
       "array(['중식', '한식', '양식', '일식', '푸드코트', '분식', '컨세션', '카페', '레스토랑', '패스트푸드'],\n",
       "      dtype=object)"
      ]
     },
     "execution_count": 10,
     "metadata": {},
     "output_type": "execute_result"
    }
   ],
   "source": [
    "prodcat[(prodcat.대분류명=='음식점')].중분류명.unique()"
   ]
  },
  {
   "cell_type": "code",
   "execution_count": 11,
   "id": "c818455b",
   "metadata": {},
   "outputs": [],
   "source": [
    "prodcat.loc[(prodcat.대분류명=='패션의류-남성'), '대분류명'] = '패션의류_남성'\n",
    "prodcat.loc[(prodcat.대분류명=='패션의류-여성'), '대분류명'] = '패션의류_여성'"
   ]
  },
  {
   "cell_type": "code",
   "execution_count": 12,
   "id": "2029b0aa",
   "metadata": {
    "scrolled": true
   },
   "outputs": [
    {
     "data": {
      "text/plain": [
       "array(['가구/인테리어', '가공식품', '농산물', '주류', '축산물', '커피/차', '수산물', '패션잡화', '아동',\n",
       "       '패션의류_여성', '명품', '패션의류_남성', '스포츠', '가전', '건강', '기타', '음료', '생활용품',\n",
       "       '조리식품', '과일', '문구/공구/서적', '가정용품', '반찬', '간식', '잡곡', '조미료/소스',\n",
       "       '애완/동물물품', '뷰티', '언더웨어', '음식점', '편의시설', '자동차', '조리식품/간식',\n",
       "       '냉장/냉동식품', '가공식품/건강', '편의용품', '바디케어', '건강케어', '향수', '메이크업', '기초케어'],\n",
       "      dtype=object)"
      ]
     },
     "execution_count": 12,
     "metadata": {},
     "output_type": "execute_result"
    }
   ],
   "source": [
    "prodcat.대분류명.unique()"
   ]
  },
  {
   "cell_type": "markdown",
   "id": "7caf320f",
   "metadata": {},
   "source": [
    "- 가공식품\n",
    "- 신선식품\n",
    "- 일상용품\n",
    "- 의약품/의료기기\n",
    "- 교육/문화용품\n",
    "- 디지털/가전\n",
    "- 가구/인테리어\n",
    "- 의류\n",
    "- 전문스포츠/레저\n",
    "- 패션잡화\n",
    "- 기타상품 \n"
   ]
  },
  {
   "cell_type": "code",
   "execution_count": 13,
   "id": "3017623b",
   "metadata": {},
   "outputs": [
    {
     "data": {
      "text/html": [
       "<div>\n",
       "<style scoped>\n",
       "    .dataframe tbody tr th:only-of-type {\n",
       "        vertical-align: middle;\n",
       "    }\n",
       "\n",
       "    .dataframe tbody tr th {\n",
       "        vertical-align: top;\n",
       "    }\n",
       "\n",
       "    .dataframe thead th {\n",
       "        text-align: right;\n",
       "    }\n",
       "</style>\n",
       "<table border=\"1\" class=\"dataframe\">\n",
       "  <thead>\n",
       "    <tr style=\"text-align: right;\">\n",
       "      <th></th>\n",
       "      <th>제휴사</th>\n",
       "      <th>영수증번호</th>\n",
       "      <th>고객번호</th>\n",
       "      <th>점포코드</th>\n",
       "      <th>구매일자</th>\n",
       "      <th>구매시간</th>\n",
       "      <th>구매금액</th>\n",
       "      <th>구매월</th>\n",
       "      <th>대분류명</th>\n",
       "      <th>중분류명</th>\n",
       "      <th>소분류명</th>\n",
       "      <th>거주지역</th>\n",
       "      <th>대분류명_</th>\n",
       "    </tr>\n",
       "  </thead>\n",
       "  <tbody>\n",
       "    <tr>\n",
       "      <th>0</th>\n",
       "      <td>A</td>\n",
       "      <td>2757986</td>\n",
       "      <td>15148</td>\n",
       "      <td>10</td>\n",
       "      <td>20140920</td>\n",
       "      <td>20</td>\n",
       "      <td>1000</td>\n",
       "      <td>9</td>\n",
       "      <td>가구/인테리어</td>\n",
       "      <td>일용잡화</td>\n",
       "      <td>위생세제</td>\n",
       "      <td>경기 김포시</td>\n",
       "      <td>가구/인테리어</td>\n",
       "    </tr>\n",
       "    <tr>\n",
       "      <th>1</th>\n",
       "      <td>A</td>\n",
       "      <td>2757986</td>\n",
       "      <td>15148</td>\n",
       "      <td>10</td>\n",
       "      <td>20140920</td>\n",
       "      <td>20</td>\n",
       "      <td>4100</td>\n",
       "      <td>9</td>\n",
       "      <td>가공식품</td>\n",
       "      <td>가공식품</td>\n",
       "      <td>일반가공식품</td>\n",
       "      <td>경기 김포시</td>\n",
       "      <td>가공식품</td>\n",
       "    </tr>\n",
       "    <tr>\n",
       "      <th>2</th>\n",
       "      <td>A</td>\n",
       "      <td>2757987</td>\n",
       "      <td>400</td>\n",
       "      <td>10</td>\n",
       "      <td>20140920</td>\n",
       "      <td>12</td>\n",
       "      <td>5000</td>\n",
       "      <td>9</td>\n",
       "      <td>농산물</td>\n",
       "      <td>농산물</td>\n",
       "      <td>채소</td>\n",
       "      <td>경기 김포시</td>\n",
       "      <td>신선식품</td>\n",
       "    </tr>\n",
       "    <tr>\n",
       "      <th>3</th>\n",
       "      <td>A</td>\n",
       "      <td>2757987</td>\n",
       "      <td>400</td>\n",
       "      <td>10</td>\n",
       "      <td>20140920</td>\n",
       "      <td>12</td>\n",
       "      <td>10200</td>\n",
       "      <td>9</td>\n",
       "      <td>가공식품</td>\n",
       "      <td>젓갈/반찬</td>\n",
       "      <td>벌크김치</td>\n",
       "      <td>경기 김포시</td>\n",
       "      <td>가공식품</td>\n",
       "    </tr>\n",
       "    <tr>\n",
       "      <th>4</th>\n",
       "      <td>A</td>\n",
       "      <td>2757988</td>\n",
       "      <td>2043</td>\n",
       "      <td>10</td>\n",
       "      <td>20140920</td>\n",
       "      <td>13</td>\n",
       "      <td>3950</td>\n",
       "      <td>9</td>\n",
       "      <td>가구/인테리어</td>\n",
       "      <td>일용잡화</td>\n",
       "      <td>위생세제</td>\n",
       "      <td>경기 김포시</td>\n",
       "      <td>가구/인테리어</td>\n",
       "    </tr>\n",
       "  </tbody>\n",
       "</table>\n",
       "</div>"
      ],
      "text/plain": [
       "  제휴사    영수증번호   고객번호  점포코드      구매일자  구매시간   구매금액  구매월     대분류명   중분류명  \\\n",
       "0   A  2757986  15148    10  20140920    20   1000    9  가구/인테리어   일용잡화   \n",
       "1   A  2757986  15148    10  20140920    20   4100    9     가공식품   가공식품   \n",
       "2   A  2757987    400    10  20140920    12   5000    9      농산물    농산물   \n",
       "3   A  2757987    400    10  20140920    12  10200    9     가공식품  젓갈/반찬   \n",
       "4   A  2757988   2043    10  20140920    13   3950    9  가구/인테리어   일용잡화   \n",
       "\n",
       "     소분류명    거주지역    대분류명_  \n",
       "0    위생세제  경기 김포시  가구/인테리어  \n",
       "1  일반가공식품  경기 김포시     가공식품  \n",
       "2      채소  경기 김포시     신선식품  \n",
       "3    벌크김치  경기 김포시     가공식품  \n",
       "4    위생세제  경기 김포시  가구/인테리어  "
      ]
     },
     "execution_count": 13,
     "metadata": {},
     "output_type": "execute_result"
    }
   ],
   "source": [
    "cat = {'가구/인테리어':'가구/인테리어', '가공식품':'가공식품', '농산물':'신선식품', '주류':'가공식품', '축산물':'신선식품',\n",
    "       '커피/차':'가공식품', '수산물':'신선식품', '패션잡화':'패션잡화', '아동':'일상용품',\n",
    "       '패션의류_여성':'의류', '명품':'명품', '패션의류_남성':'의류', '스포츠':'전문스포츠/레저',\n",
    "       '가전':'디지털/가전', '건강':'가공식품', '기타':'기타', '음료':'가공식품', '생활용품':'일상용품',\n",
    "       '조리식품':'가공식품', '과일':'신선식품', '문구/공구/서적':'교육/문화용품', '가정용품':'일상용품',\n",
    "       '반찬':'가공식품', '간식':'가공식품', '잡곡':'신선식품', '조미료/소스':'가공식품',\n",
    "       '애완/동물물품':'일상용품',  '뷰티':'일상용품', '언더웨어':'일상용품', '음식점':'기타', '편의시설':'기타',\n",
    "       '자동차':'일상용품', '조리식품/간식':'가공식품', '냉장/냉동식품':'가공식품', '가공식품/건강':'가공식품', \n",
    "       '편의용품':'일상용품', '바디케어':'일상용품', '건강케어':'일상용품',\n",
    "       '향수':'일상용품', '메이크업':'일상용품', '기초케어':'일상용품'}    \n",
    "\n",
    "def B_cat(x):\n",
    "    if x in cat: \n",
    "        return cat[x]     \n",
    "    else:\n",
    "        return x             # 만약에 대분류 안하면 그냥 숫자값으로 줌\n",
    "prodcat['대분류명_'] = prodcat['대분류명'].apply(B_cat)\n",
    "\n",
    "prodcat.head(5)"
   ]
  },
  {
   "cell_type": "code",
   "execution_count": 14,
   "id": "2d424840",
   "metadata": {},
   "outputs": [
    {
     "data": {
      "text/plain": [
       "array(['가구/인테리어', '가공식품', '신선식품', '패션잡화', '일상용품', '의류', '명품', '전문스포츠/레저',\n",
       "       '디지털/가전', '기타', '교육/문화용품'], dtype=object)"
      ]
     },
     "execution_count": 14,
     "metadata": {},
     "output_type": "execute_result"
    }
   ],
   "source": [
    "prodcat.대분류명_.unique()"
   ]
  },
  {
   "cell_type": "code",
   "execution_count": null,
   "id": "1a9b77c9",
   "metadata": {},
   "outputs": [],
   "source": []
  },
  {
   "cell_type": "code",
   "execution_count": 15,
   "id": "d22878b8",
   "metadata": {},
   "outputs": [],
   "source": [
    "# prodcat[(prodcat.중분류명=='생활한방')].소분류명.unique()\n",
    "\n",
    "prodcat.loc[(prodcat['중분류명']=='생활한방') , '대분류명_'] = '가공식품'"
   ]
  },
  {
   "cell_type": "code",
   "execution_count": 16,
   "id": "0b0834fd",
   "metadata": {},
   "outputs": [],
   "source": [
    "prodcat.loc[(prodcat.대분류명_=='패션잡화')&(prodcat['중분류명']=='화장품') , '대분류명_'] = '일상용품'\n",
    "prodcat.loc[(prodcat.대분류명_=='가구/인테리어')&(prodcat['중분류명']=='문구/팬시 ') , '대분류명_'] = '교육/문화용품'"
   ]
  },
  {
   "cell_type": "code",
   "execution_count": 17,
   "id": "4a50566e",
   "metadata": {},
   "outputs": [],
   "source": [
    "check= prodcat.copy()"
   ]
  },
  {
   "cell_type": "code",
   "execution_count": 18,
   "id": "62d70175",
   "metadata": {
    "scrolled": true
   },
   "outputs": [
    {
     "name": "stdout",
     "output_type": "stream",
     "text": [
      "<<<< 가공식품 >>>>\n",
      "가공식품 / 젓갈/반찬 / 주류 / 차/커피 / 건강식품 / 탄산음료 / 소주 / 맥주 / 생수 / 흰우유 / 어묵맛살 / 유제품 / 면류 / 통조림 / 빵 / 가공우유 / 커피차음료 / 라면 / 냉동만두 / 반찬류 / 요구르트 / 스낵 / 비스켓 / 초콜릿 / 과채음료 / 냉동간식 / 피자 / 단무지류 / 식용유지 / 커피 / 와인 / 캔디 / 껌 / 밥류 / 튀김조리 / 햄소시지 / 두유 / 소스류 / 가루 / 시리얼 / 떡 / 냉장반찬 / 아이스크림 / 이온음료 / 브랜드빵 / 간편조리식품 / 냉장면류 / 전통주 / 차 / 간편조리 / 소시지 / 베이커리 / 냉동HMR / 간식 / 특산물행사 / 파이 / 햄 / 인스턴트커피 / 포장반찬 / 냉장식사HMR / 김/초밥 / 맛집행사 / 먹거리행사 / 구이 / 냉동대용식 / 조미선물세트 / 조미료 / 분유 / 장류 / 족발 / 안주 / 수입과자 / 계란 / 디저트 / 프리미엄과자 / 치즈 / 냉장음료 / 생활한방 / 젓갈류 / 김치류 / 튀김 / 밥죽류 / 기능성음료 / 담배 / 간식조리 / 먹거리 / 액상조미료 / 구이찜조리 / 한과 / 전통간식 / 잼 / 선식 / 포장젓갈 / 반찬 / 소금/설탕류 / 냉장간편식HMR / 시즌차 / 전통과자 / 간편요리 / 양주 / 브랜드푸드몰 / 즉석구이안주 / 순대 / 간식용과자 / 조리반찬 / 향신료 / 복합조미료 / 수입조미 / 시즌반찬 / 이유식/유아간식 / 인스턴트선물세트 / 수입음료 / 유가공 / 식자재 / 대용식 / 커피선물세트 / 원두커피 / 도시락 / 가공란 / 즉석구이김 / 이벤트조리 / 기능성건강 / 홍인삼 / 선물세트 / 종합과자 / 비타민 / 건강선물세트 / 꿀 / 시즌행사 / 데일리처분 / 브랜드조리 / 차선물세트 / 포장반찬HMR / 냉장햄세트 / 건면 / 냉장농산 / 기타음주류 / 냉장축산 / 우유 / 커피류 / 차류 / 발효유 / 쿠키케이크 / 캔디껌류 / 냉장수산 / 냉장간식MS / 냉장식사MS / 병통조림 / 식용유 / 감미료 / 씨리얼 / 초콜렛 / 만두 / 즉석식품 / 기타조리식품 / 치즈버터 / 차음료 / 커피음료 / 가공건식품 / 가공분말류 / 케첩마요네즈 / 간편간식 / 냉장기타MS / 냉동MS / 식사류 / 과자 / 음료 \n",
      "\n",
      "<<<< 가구/인테리어 >>>>\n",
      "일용잡화 / 침구/수예 / 주방용품 / 생활잡화 / 문구/팬시 / 식기 / 가구 / 웨딩 / 수예시즌 / 수예소품 / 커튼류 / 브랜드침구 / 성인침구 / 장식용품 / 건전지 / 보수용품 / 성인침구류 / 조명/전구 / 아동침구류 / 가구/인테리어샵 / 소가구 / 의자/상 / 아동침구 / 상 / 벽지류 / 의자 / 테이블 / 아웃도어퍼니처 / 제기용품 \n",
      "\n",
      "<<<< 교육/문화용품 >>>>\n",
      "오피스용품 / 노트/지류 / 예능학용품 / 파티/팬시/시즌 / 필기도구 / 시즌행사 / 전구 / 유/아동서적 / 파티/팬시 / 전기용품 / 공구 / 건전지 / 서적 / 교육보조재 / 일반서적 / 보수용품 / 음반영상 / 노트 / 영상 / 음반 / 미술용품 / 안전용품 / 조명기구 \n",
      "\n",
      "<<<< 기타 >>>>\n",
      "기타 / 중식 / 한식 / 양식 / 편의시설 / 일식 / 푸드코트 / 판매시설 / Fast Food / 분식 / 레스토랑 / 카페 / 컨세션 / 주유소 / 패스트푸드 \n",
      "\n",
      "<<<< 디지털/가전 >>>>\n",
      "주방가전 / 통신/컴퓨터 / 대형가전 / 소형가전 / 악기 / 전자/전기 / 건강가전 / 생활소형가전 / 전기요/장판 / 이동통신 / 컴퓨터주변기기 / 밥솥 / 청소기 / 시즌/건강가전 / 기타음향기기 / 전기포트 / 믹서기 / NAVI/하이패스 / 기타주방가전 / TV / 세탁기 / 조리기 / 오디오 / 가습기 / 전화기/팩스 / 히터기 / 커피메이커/머신 / 카메라/캠코더 / PC / 김치냉장고 / MP3/PMP / 공기청정기 / 냉장고 / 선풍기 / 에어컨 / 전기면도기 / DVD / 건강디지털기기 / 전자학습기 / 전자악기 / 홈시어터 / 소형음향기기 / 주방소형가전 / 정수기 \n",
      "\n",
      "<<<< 명품 >>>>\n",
      "명품 \n",
      "\n",
      "<<<< 신선식품 >>>>\n",
      "농산물 / 축산가공 / 육류 / 수산품 / 친환경채소 / 간편조리생선 / 버섯류 / 해조류 / 샐러드채소 / 우육 / 과채과일 / 닭고기 / 콩나물 / 두부 / 과실과일 / 친환경과일 / 양념류 / 간편채소 / 수입기타과일 / 즉석도정미 / 열매채소 / 포도/체리 / 뿌리채소 / 양념육 / 열대과일 / 대중선어 / 특산물 / 건과 / 돼지고기 / 계란 / 잎채소 / 묵 / 잡곡류 / 키위/석류 / 김치채소 / 조개살 / 해물연체류 / 즉석참기름 / 수입감귤과일 / 감귤 / 토마토 / 바나나 / 김가공품 / 조개 / 새우 / 양념채소 / 수입갈치 / 꽁치/가자미 / 멸치 / 일반한우 / 마른김 / 조미오징어 / 차별화돼지고기 / 미국산소고기 / 수입육 / 멸치건명태 / 생선회 / 나물 / 마른안주 / 오리고기 / 간편조리행사 / 호주산소고기 / 버섯 / 양곡 / 선식 / 사과 / 감 / 냉동수산물 / 브랜드한우 / 해초류 / 수입고등어 / 브랜드돼지고기 / 국산게/갈치 / 선물세트 / 석류 / 샐러드/간편채소 / 잡곡 / 한방식재류 / 키위 / 반건생선 / 조미김 / 한방차 / 딸기 / 수입기타생선 / 고등어/삼치 / 가공양곡 / 육포 / 파인애플 / 묵/즉석참기름 / 미역/다시마 / LOCAL잎채소 / 기타구색생선 / 오징어 / 수입돼지고기 / 자몽 / 수입포도 / 포도 / 육가공품 / 밤 / 메론 / 레몬 / 식자재 / 대구 / 연체 / 건오징어 / 오렌지 / 블루베리 / 조기/명태 / 배 / 냉동규격생선 / 해초 / 황태 / 구색과일 / 냉동규격해물 / 냉동가공 / 수입게 / 수입연어 / 기타회 / 냉장규격생선 / 천연조미료 / 규격RTC / 도미/민어 / 망고 / 쥐치포 / 열대과일기타 / 약초 / 오렌지과일기타 / 생선선물세트 / 기타국소고기 / 냉동과일 / 복숭아 / 굴비 / 건강선물세트 / 김선물세트 / 생선초밥 / 멸치황태미역선물세트 / 수입육선물세트 / 참외 / 수박 / LOCAL김치채소 / 국산과일선물세트 / 체리 / 한우선물세트 / 자두 / 규격생선선물세트 / 굴비/반건생선선물세트 / 온라인잡곡선식 / 온라인버섯/열매채소 / 특산물행사 / 즉석구이안주 / 오렌지과일선물세트 / 즉석구이김 / 마른안주선물세트 / 열대과일선물세트 / 해물선물세트 / 온라인규격/간편조리생선 / 온라인해물연체 / 온라인잎/샐러드채소 / 온라인양념/뿌리채소 / 온라인저장과일 / 온라인돼지고기 / 김치채소류 / 국내산돈육 / 국산과일 / 두채류 / 선어류 / 건어류 / 건어가공 / 수입과일 / 과채류 / 근채류 / 엽채류 / 계란류 / 견과류 / 국내산계육 / 나물류 / 선어가공 / 양채류 / 수입우육 / 국내산우육 / 해물류 / 기타수산 / 기타축산 / 건과일 / 수입돈육 / 선식류 \n",
      "\n",
      "<<<< 의류 >>>>\n",
      "캐주얼 / 디자이너 / 셔츠 / 남성 트랜디 / 트래디셔널 / 기타의류 / 란제리/내의 / 커리어 / 남성캐주얼 / 시티웨어 / 남성정장 / 모피/피혁 / 교복 / 블라우스 / 여성캐주얼브랜드 / 남성스포츠PB / 남성행사 / 비즈니스정장 / 여성PB / 남성브랜드 / 이지캐주얼브랜드 / 행사 / 미시캐주얼 / 남성이지캐주얼 / 남성스포츠 / 시티캐주얼 / 남성시즌행사 / 여성이지캐주얼 / 스트리트편집샵 / 복합샵 / 여성특정 / 여성NPB / 마담/어덜트 / 남성베이직 / 남성스포츠특정 / 남성스포츠NPB / 남성어덜트캐주얼 / 여성베이직 / 병행수입 \n",
      "\n",
      "<<<< 일상용품 >>>>\n",
      "아동 / 화장품 / 생리대 / 바디용품 / 세탁세제 / 야외용품 / 주방시즌/균일가 / 주거세제 / 청소용품 / 애견용품 / 음식조리 / 주방세제 / 화장지 / 구강용품 / 욕실용품 / 바디케어 / 종량제봉투 / 균일가 / 기초화장품 / 색조화장품 / 아동복합샵 / 드럭스토어 / 유아브랜드 / 아동브랜드 / 음식저장/보관 / 일반욕실용품 / 훼이셜케어 / 미용소품 / 헤어스타일링 / 그릇/수저 / 기저귀 / 란제리 / 주방정리 / 면도용품 / 교육 / 개인위생용품 / 표백제 / 미용티슈 / 야외/시즌용품 / BOYS 1 / 유아위생용품 / 키친타올 / 자동차 정비용품 / 자동차 액세서리 / SPORTS/OUTDOOR / 유아용품 / 성인내의 / 스킨케어 / 유아동PB / 수납용품 / 기능헤어케어 / 란제리브랜드 / 화장품브랜드샵 / 자동차 청소용품 / 카시트/매트 / 애완/동물용품 / 국내화장품 / 아동내의 / GIRLS / 유아식기 / 조리도구 / 언더웨어행사 / 물티슈 / 스타킹 / 일반헤어케어 / 남성용품 / 미용잡화 / 담배 / 유아동용품 / 남아 / 양말 / BABY/INFANT / 유아세제 / 교환/보수용품 / 청소편의도구 / 고양이용품 / 여성위생용품 / 섬유유연제 / 여성양말 / 장착용품 / 아로마 / 수족관용품 / 세탁용품 / 남성양말 / 유아토들러 / 탈취제 / 밀대/걸레 / 자동차 편의용품 / 자동차장식용품 / 베이비케어 / BOYS 2 / 살충제 / EDUCATION 1 / 휴대폰용품 / 세차용품 / 원예용품 / 덴탈케어 / VIDEOGAME / 홈웨어 / H&B선물세트 / 아동행사 / EDUCATION 2 / 자동차방향제/소취제 / 유아동특정 / 수입브랜드 / 조리용기 / 동물병원 / 아동양말 / 휴지통 / 패브릭욕실용품 / 풋/핸드케어 / 제습제 / 수도용품 / 유아동NPB / 주니어양말 / 매트 / 덧신 / 시니어위생용품 / DIY욕실용품 / 주니어스포츠 / 주니어웨어 / 프리미엄매트 / 양말선물세트 / 온라인양말 / 자동차처분 / 오토바이용품 / 온라인화장품 / 생리용품 / 가정잡화 / 청소욕실용품 / 주방주거세제 / 주방용품 / 문화용품 / 두발용품 / 전기전자 / 레저취미 / 위생용품 / 의류잡화 / 화장지/티슈 / 건강기능식품 / 남성 / 핸드/풋케어 / 네일메이크업 / 헤어케어 / 양말류 / 립메이크업 / 일반의약외품 / 집중케어 / 남성케어 / 구강케어 / 계절팩 / 방향/제습/탈취제 / 아이메이크업 / 클렌징 / 여성용품 / 베이직케어 / 여행용품 / 베이스메이크업 / 선케어 / 여성 / 파티/팬시용품 / 전기용품 / 피트니스 / 기기 / 우산/양산류 / 안전용품 \n",
      "\n",
      "<<<< 전문스포츠/레저 >>>>\n",
      "스포츠 / 골프용품 / 스포츠NB / 스포츠웨어 / 헬스용품 / 구기용품 / 시즌행사 / 브랜드 / 등산 / 수영복 / 라켓스포츠 / 롤러보드 / 워터스포츠 / 스포츠의류 / 스키 / 자전거 / 윈터스포츠 / 스포츠ACC / 골프 / 낚시 / 시니어건강용품 / 캠핑 / 스포츠브랜드편집 \n",
      "\n",
      "<<<< 패션잡화 >>>>\n",
      "섬유잡화 / 피혁잡화 / 구두 / 보석 / 액세서리 / 준보석/시계 / 드레스화브랜드 / 모자 / 시즌잡화 / 아동슈즈 / 샌들슬리퍼 / 운동화 / 우산/양산 / 가방 / NB구두 / 피혁토탈 / TRAVEL / 장갑 / 준보석 / 시계 / 피혁브랜드 / 스카프 / 남성구두 / 썬글라스 / 시즌슈즈 / 캐주얼화브랜드 / 미입점행사 / 잡화멀티샵 / 핸드백 / 시즌토탈 / 벨트 / 캐주얼슈즈 / 스포츠슈즈 / 가방브랜드 / 슈즈용품 / 여성구두 / 슈즈행사 / 지갑/벨트 / 아동화브랜드 / 지갑 / 여행용품 \n",
      "\n"
     ]
    }
   ],
   "source": [
    "## 확인 \n",
    "\n",
    "check=check.drop_duplicates(['대분류명_','중분류명'])\n",
    "save_list = check.groupby(['대분류명_'])['중분류명'].apply(lambda x: \" / \".join(x))\n",
    "for i in zip(save_list.index,save_list.values):\n",
    "    print(f\"<<<< {i[0]} >>>>\\n{i[1]} \")\n",
    "    print()"
   ]
  },
  {
   "cell_type": "code",
   "execution_count": 19,
   "id": "3777b0b4",
   "metadata": {
    "scrolled": true
   },
   "outputs": [
    {
     "data": {
      "text/plain": [
       "array(['가구/인테리어', '가공식품', '신선식품', '패션잡화', '일상용품', '의류', '명품', '전문스포츠/레저',\n",
       "       '디지털/가전', '기타', '교육/문화용품'], dtype=object)"
      ]
     },
     "execution_count": 19,
     "metadata": {},
     "output_type": "execute_result"
    }
   ],
   "source": [
    "prodcat.대분류명_.unique()"
   ]
  },
  {
   "cell_type": "code",
   "execution_count": 20,
   "id": "50006b33",
   "metadata": {},
   "outputs": [
    {
     "data": {
      "text/html": [
       "<div>\n",
       "<style scoped>\n",
       "    .dataframe tbody tr th:only-of-type {\n",
       "        vertical-align: middle;\n",
       "    }\n",
       "\n",
       "    .dataframe tbody tr th {\n",
       "        vertical-align: top;\n",
       "    }\n",
       "\n",
       "    .dataframe thead th {\n",
       "        text-align: right;\n",
       "    }\n",
       "</style>\n",
       "<table border=\"1\" class=\"dataframe\">\n",
       "  <thead>\n",
       "    <tr style=\"text-align: right;\">\n",
       "      <th></th>\n",
       "      <th>제휴사</th>\n",
       "      <th>영수증번호</th>\n",
       "      <th>고객번호</th>\n",
       "      <th>점포코드</th>\n",
       "      <th>구매일자</th>\n",
       "      <th>구매시간</th>\n",
       "      <th>구매금액</th>\n",
       "      <th>구매월</th>\n",
       "      <th>중분류명</th>\n",
       "      <th>소분류명</th>\n",
       "      <th>거주지역</th>\n",
       "      <th>대분류명_</th>\n",
       "    </tr>\n",
       "  </thead>\n",
       "  <tbody>\n",
       "    <tr>\n",
       "      <th>0</th>\n",
       "      <td>A</td>\n",
       "      <td>2757986</td>\n",
       "      <td>15148</td>\n",
       "      <td>10</td>\n",
       "      <td>20140920</td>\n",
       "      <td>20</td>\n",
       "      <td>1000</td>\n",
       "      <td>9</td>\n",
       "      <td>일용잡화</td>\n",
       "      <td>위생세제</td>\n",
       "      <td>경기 김포시</td>\n",
       "      <td>가구/인테리어</td>\n",
       "    </tr>\n",
       "    <tr>\n",
       "      <th>1</th>\n",
       "      <td>A</td>\n",
       "      <td>2757986</td>\n",
       "      <td>15148</td>\n",
       "      <td>10</td>\n",
       "      <td>20140920</td>\n",
       "      <td>20</td>\n",
       "      <td>4100</td>\n",
       "      <td>9</td>\n",
       "      <td>가공식품</td>\n",
       "      <td>일반가공식품</td>\n",
       "      <td>경기 김포시</td>\n",
       "      <td>가공식품</td>\n",
       "    </tr>\n",
       "  </tbody>\n",
       "</table>\n",
       "</div>"
      ],
      "text/plain": [
       "  제휴사    영수증번호   고객번호  점포코드      구매일자  구매시간  구매금액  구매월  중분류명    소분류명    거주지역  \\\n",
       "0   A  2757986  15148    10  20140920    20  1000    9  일용잡화    위생세제  경기 김포시   \n",
       "1   A  2757986  15148    10  20140920    20  4100    9  가공식품  일반가공식품  경기 김포시   \n",
       "\n",
       "     대분류명_  \n",
       "0  가구/인테리어  \n",
       "1     가공식품  "
      ]
     },
     "execution_count": 20,
     "metadata": {},
     "output_type": "execute_result"
    }
   ],
   "source": [
    "prodcat.drop(columns=['대분류명'],inplace=True)\n",
    "prodcat.head(2)"
   ]
  },
  {
   "cell_type": "code",
   "execution_count": 21,
   "id": "e12540ea",
   "metadata": {},
   "outputs": [
    {
     "data": {
      "text/html": [
       "<div>\n",
       "<style scoped>\n",
       "    .dataframe tbody tr th:only-of-type {\n",
       "        vertical-align: middle;\n",
       "    }\n",
       "\n",
       "    .dataframe tbody tr th {\n",
       "        vertical-align: top;\n",
       "    }\n",
       "\n",
       "    .dataframe thead th {\n",
       "        text-align: right;\n",
       "    }\n",
       "</style>\n",
       "<table border=\"1\" class=\"dataframe\">\n",
       "  <thead>\n",
       "    <tr style=\"text-align: right;\">\n",
       "      <th></th>\n",
       "      <th>제휴사</th>\n",
       "      <th>영수증번호</th>\n",
       "      <th>고객번호</th>\n",
       "      <th>점포코드</th>\n",
       "      <th>구매일자</th>\n",
       "      <th>구매시간</th>\n",
       "      <th>구매금액</th>\n",
       "      <th>구매월</th>\n",
       "      <th>중분류명</th>\n",
       "      <th>소분류명</th>\n",
       "      <th>거주지역</th>\n",
       "      <th>대분류명</th>\n",
       "    </tr>\n",
       "  </thead>\n",
       "  <tbody>\n",
       "    <tr>\n",
       "      <th>0</th>\n",
       "      <td>A</td>\n",
       "      <td>2757986</td>\n",
       "      <td>15148</td>\n",
       "      <td>10</td>\n",
       "      <td>20140920</td>\n",
       "      <td>20</td>\n",
       "      <td>1000</td>\n",
       "      <td>9</td>\n",
       "      <td>일용잡화</td>\n",
       "      <td>위생세제</td>\n",
       "      <td>경기 김포시</td>\n",
       "      <td>가구/인테리어</td>\n",
       "    </tr>\n",
       "    <tr>\n",
       "      <th>1</th>\n",
       "      <td>A</td>\n",
       "      <td>2757986</td>\n",
       "      <td>15148</td>\n",
       "      <td>10</td>\n",
       "      <td>20140920</td>\n",
       "      <td>20</td>\n",
       "      <td>4100</td>\n",
       "      <td>9</td>\n",
       "      <td>가공식품</td>\n",
       "      <td>일반가공식품</td>\n",
       "      <td>경기 김포시</td>\n",
       "      <td>가공식품</td>\n",
       "    </tr>\n",
       "  </tbody>\n",
       "</table>\n",
       "</div>"
      ],
      "text/plain": [
       "  제휴사    영수증번호   고객번호  점포코드      구매일자  구매시간  구매금액  구매월  중분류명    소분류명    거주지역  \\\n",
       "0   A  2757986  15148    10  20140920    20  1000    9  일용잡화    위생세제  경기 김포시   \n",
       "1   A  2757986  15148    10  20140920    20  4100    9  가공식품  일반가공식품  경기 김포시   \n",
       "\n",
       "      대분류명  \n",
       "0  가구/인테리어  \n",
       "1     가공식품  "
      ]
     },
     "execution_count": 21,
     "metadata": {},
     "output_type": "execute_result"
    }
   ],
   "source": [
    "prodcat=prodcat.rename(columns={'대분류명_':'대분류명'})\n",
    "prodcat.head(2)"
   ]
  },
  {
   "cell_type": "code",
   "execution_count": 22,
   "id": "daa70839",
   "metadata": {},
   "outputs": [],
   "source": [
    "prodcat.to_pickle('dataset/purprd_대분류명11_.pkl')"
   ]
  },
  {
   "cell_type": "code",
   "execution_count": null,
   "id": "fb6f1a85",
   "metadata": {},
   "outputs": [],
   "source": []
  },
  {
   "cell_type": "markdown",
   "id": "b86fa4fb",
   "metadata": {},
   "source": [
    "## ----------------------거주지역-------------------------------"
   ]
  },
  {
   "cell_type": "code",
   "execution_count": 23,
   "id": "bc6d51af",
   "metadata": {},
   "outputs": [],
   "source": [
    "df= prodcat.copy()"
   ]
  },
  {
   "cell_type": "code",
   "execution_count": 24,
   "id": "1653ebe7",
   "metadata": {},
   "outputs": [
    {
     "data": {
      "text/html": [
       "<div>\n",
       "<style scoped>\n",
       "    .dataframe tbody tr th:only-of-type {\n",
       "        vertical-align: middle;\n",
       "    }\n",
       "\n",
       "    .dataframe tbody tr th {\n",
       "        vertical-align: top;\n",
       "    }\n",
       "\n",
       "    .dataframe thead th {\n",
       "        text-align: right;\n",
       "    }\n",
       "</style>\n",
       "<table border=\"1\" class=\"dataframe\">\n",
       "  <thead>\n",
       "    <tr style=\"text-align: right;\">\n",
       "      <th></th>\n",
       "      <th>제휴사</th>\n",
       "      <th>영수증번호</th>\n",
       "      <th>고객번호</th>\n",
       "      <th>점포코드</th>\n",
       "      <th>구매일자</th>\n",
       "      <th>구매시간</th>\n",
       "      <th>구매금액</th>\n",
       "      <th>구매월</th>\n",
       "      <th>중분류명</th>\n",
       "      <th>소분류명</th>\n",
       "      <th>거주지역</th>\n",
       "      <th>대분류명</th>\n",
       "    </tr>\n",
       "  </thead>\n",
       "  <tbody>\n",
       "    <tr>\n",
       "      <th>0</th>\n",
       "      <td>A</td>\n",
       "      <td>2757986</td>\n",
       "      <td>15148</td>\n",
       "      <td>10</td>\n",
       "      <td>20140920</td>\n",
       "      <td>20</td>\n",
       "      <td>1000</td>\n",
       "      <td>9</td>\n",
       "      <td>일용잡화</td>\n",
       "      <td>위생세제</td>\n",
       "      <td>경기 김포시</td>\n",
       "      <td>가구/인테리어</td>\n",
       "    </tr>\n",
       "    <tr>\n",
       "      <th>1</th>\n",
       "      <td>A</td>\n",
       "      <td>2757986</td>\n",
       "      <td>15148</td>\n",
       "      <td>10</td>\n",
       "      <td>20140920</td>\n",
       "      <td>20</td>\n",
       "      <td>4100</td>\n",
       "      <td>9</td>\n",
       "      <td>가공식품</td>\n",
       "      <td>일반가공식품</td>\n",
       "      <td>경기 김포시</td>\n",
       "      <td>가공식품</td>\n",
       "    </tr>\n",
       "  </tbody>\n",
       "</table>\n",
       "</div>"
      ],
      "text/plain": [
       "  제휴사    영수증번호   고객번호  점포코드      구매일자  구매시간  구매금액  구매월  중분류명    소분류명    거주지역  \\\n",
       "0   A  2757986  15148    10  20140920    20  1000    9  일용잡화    위생세제  경기 김포시   \n",
       "1   A  2757986  15148    10  20140920    20  4100    9  가공식품  일반가공식품  경기 김포시   \n",
       "\n",
       "      대분류명  \n",
       "0  가구/인테리어  \n",
       "1     가공식품  "
      ]
     },
     "execution_count": 24,
     "metadata": {},
     "output_type": "execute_result"
    }
   ],
   "source": [
    "df.head(2)"
   ]
  },
  {
   "cell_type": "code",
   "execution_count": 25,
   "id": "c892e57e",
   "metadata": {},
   "outputs": [
    {
     "data": {
      "text/html": [
       "<div>\n",
       "<style scoped>\n",
       "    .dataframe tbody tr th:only-of-type {\n",
       "        vertical-align: middle;\n",
       "    }\n",
       "\n",
       "    .dataframe tbody tr th {\n",
       "        vertical-align: top;\n",
       "    }\n",
       "\n",
       "    .dataframe thead th {\n",
       "        text-align: right;\n",
       "    }\n",
       "</style>\n",
       "<table border=\"1\" class=\"dataframe\">\n",
       "  <thead>\n",
       "    <tr style=\"text-align: right;\">\n",
       "      <th></th>\n",
       "      <th>제휴사</th>\n",
       "      <th>영수증번호</th>\n",
       "      <th>고객번호</th>\n",
       "      <th>점포코드</th>\n",
       "      <th>구매일자</th>\n",
       "      <th>구매시간</th>\n",
       "      <th>구매금액</th>\n",
       "      <th>구매월</th>\n",
       "      <th>중분류명</th>\n",
       "      <th>소분류명</th>\n",
       "      <th>대분류명</th>\n",
       "    </tr>\n",
       "  </thead>\n",
       "  <tbody>\n",
       "    <tr>\n",
       "      <th>0</th>\n",
       "      <td>A</td>\n",
       "      <td>2757986</td>\n",
       "      <td>15148</td>\n",
       "      <td>10</td>\n",
       "      <td>20140920</td>\n",
       "      <td>20</td>\n",
       "      <td>1000</td>\n",
       "      <td>9</td>\n",
       "      <td>일용잡화</td>\n",
       "      <td>위생세제</td>\n",
       "      <td>가구/인테리어</td>\n",
       "    </tr>\n",
       "    <tr>\n",
       "      <th>1</th>\n",
       "      <td>A</td>\n",
       "      <td>2757986</td>\n",
       "      <td>15148</td>\n",
       "      <td>10</td>\n",
       "      <td>20140920</td>\n",
       "      <td>20</td>\n",
       "      <td>4100</td>\n",
       "      <td>9</td>\n",
       "      <td>가공식품</td>\n",
       "      <td>일반가공식품</td>\n",
       "      <td>가공식품</td>\n",
       "    </tr>\n",
       "  </tbody>\n",
       "</table>\n",
       "</div>"
      ],
      "text/plain": [
       "  제휴사    영수증번호   고객번호  점포코드      구매일자  구매시간  구매금액  구매월  중분류명    소분류명     대분류명\n",
       "0   A  2757986  15148    10  20140920    20  1000    9  일용잡화    위생세제  가구/인테리어\n",
       "1   A  2757986  15148    10  20140920    20  4100    9  가공식품  일반가공식품     가공식품"
      ]
     },
     "execution_count": 25,
     "metadata": {},
     "output_type": "execute_result"
    }
   ],
   "source": [
    "df.drop(columns=['거주지역'],inplace=True)\n",
    "df.head(2)"
   ]
  },
  {
   "cell_type": "code",
   "execution_count": 26,
   "id": "d135a931",
   "metadata": {},
   "outputs": [
    {
     "data": {
      "text/html": [
       "<div>\n",
       "<style scoped>\n",
       "    .dataframe tbody tr th:only-of-type {\n",
       "        vertical-align: middle;\n",
       "    }\n",
       "\n",
       "    .dataframe tbody tr th {\n",
       "        vertical-align: top;\n",
       "    }\n",
       "\n",
       "    .dataframe thead th {\n",
       "        text-align: right;\n",
       "    }\n",
       "</style>\n",
       "<table border=\"1\" class=\"dataframe\">\n",
       "  <thead>\n",
       "    <tr style=\"text-align: right;\">\n",
       "      <th></th>\n",
       "      <th>고객번호</th>\n",
       "      <th>성별</th>\n",
       "      <th>연령대</th>\n",
       "      <th>거주지역</th>\n",
       "    </tr>\n",
       "  </thead>\n",
       "  <tbody>\n",
       "    <tr>\n",
       "      <th>0</th>\n",
       "      <td>1</td>\n",
       "      <td>M</td>\n",
       "      <td>60세이상</td>\n",
       "      <td>60.0</td>\n",
       "    </tr>\n",
       "    <tr>\n",
       "      <th>1</th>\n",
       "      <td>2</td>\n",
       "      <td>M</td>\n",
       "      <td>60세이상</td>\n",
       "      <td>100.0</td>\n",
       "    </tr>\n",
       "  </tbody>\n",
       "</table>\n",
       "</div>"
      ],
      "text/plain": [
       "   고객번호 성별    연령대   거주지역\n",
       "0     1  M  60세이상   60.0\n",
       "1     2  M  60세이상  100.0"
      ]
     },
     "execution_count": 26,
     "metadata": {},
     "output_type": "execute_result"
    }
   ],
   "source": [
    "cust= pd.read_csv('dataset/고객DEMO.csv')\n",
    "cust.head(2)"
   ]
  },
  {
   "cell_type": "code",
   "execution_count": 27,
   "id": "41423a0e",
   "metadata": {},
   "outputs": [],
   "source": [
    "dict_region = {100:'경기 김포시',  55:'서울 송파구', 300:'세종 장군',  69:'서울 동작구',   0:'0',  49:'서울 광진구',\n",
    "               52:'서울 강동구',  45:'서울 중구',  60:'서울 강남구', 210:'인천 계양구',  39:'서울 마포구',  33:'서울 은평구', \n",
    "               24:'서울 동대문구', 16:'서울 노원구',  79:'서울 양천구',  20:'서울 중랑구',  13:'서울 도봉구' , 310:'충청남도 천안',\n",
    "               610:'광주 북구', 460:'부산 기장',  10:'서울 강북구',  43:'서울 용산구',  36:'서울 서대문구', 340:'대전 유성구', \n",
    "               270:'충청북도', 240: '강원도 철원', 65:'서울 서초구',  27:'서울 성북구',  87:'서울 관악구', 500:'경상남도 함양',\n",
    "               75:'서울 강서구',  72:'서울 영등포구', 630:'경상북도 영주',  47:'서울 성동구', 540:'전라북도 군산',  82:'서울 구로구',\n",
    "               410:'대구 동구', 360:'경상북도 영주', 440:'울산 동구',30:'서울 종로구', 570:'전라남도 영광',  85:'서울 금천구' }    \n",
    "\n",
    "def region_col(x):\n",
    "    if x in dict_region: \n",
    "        return dict_region[x]     \n",
    "    else:\n",
    "        return x             # 만약에 대분류 안하면 그냥 숫자값으로 줌\n",
    "    \n",
    "cust['거주지역_'] = cust['거주지역'].apply(region_col)\n"
   ]
  },
  {
   "cell_type": "code",
   "execution_count": 28,
   "id": "4c4ad598",
   "metadata": {},
   "outputs": [
    {
     "data": {
      "text/html": [
       "<div>\n",
       "<style scoped>\n",
       "    .dataframe tbody tr th:only-of-type {\n",
       "        vertical-align: middle;\n",
       "    }\n",
       "\n",
       "    .dataframe tbody tr th {\n",
       "        vertical-align: top;\n",
       "    }\n",
       "\n",
       "    .dataframe thead th {\n",
       "        text-align: right;\n",
       "    }\n",
       "</style>\n",
       "<table border=\"1\" class=\"dataframe\">\n",
       "  <thead>\n",
       "    <tr style=\"text-align: right;\">\n",
       "      <th></th>\n",
       "      <th>고객번호</th>\n",
       "      <th>성별</th>\n",
       "      <th>연령대</th>\n",
       "      <th>거주지역</th>\n",
       "      <th>거주지역_</th>\n",
       "    </tr>\n",
       "  </thead>\n",
       "  <tbody>\n",
       "    <tr>\n",
       "      <th>0</th>\n",
       "      <td>1</td>\n",
       "      <td>M</td>\n",
       "      <td>60세이상</td>\n",
       "      <td>60.0</td>\n",
       "      <td>서울 강남구</td>\n",
       "    </tr>\n",
       "    <tr>\n",
       "      <th>1</th>\n",
       "      <td>2</td>\n",
       "      <td>M</td>\n",
       "      <td>60세이상</td>\n",
       "      <td>100.0</td>\n",
       "      <td>경기 김포시</td>\n",
       "    </tr>\n",
       "  </tbody>\n",
       "</table>\n",
       "</div>"
      ],
      "text/plain": [
       "   고객번호 성별    연령대   거주지역   거주지역_\n",
       "0     1  M  60세이상   60.0  서울 강남구\n",
       "1     2  M  60세이상  100.0  경기 김포시"
      ]
     },
     "execution_count": 28,
     "metadata": {},
     "output_type": "execute_result"
    }
   ],
   "source": [
    "cust.head(2)"
   ]
  },
  {
   "cell_type": "code",
   "execution_count": 29,
   "id": "d1b036a5",
   "metadata": {},
   "outputs": [
    {
     "data": {
      "text/html": [
       "<div>\n",
       "<style scoped>\n",
       "    .dataframe tbody tr th:only-of-type {\n",
       "        vertical-align: middle;\n",
       "    }\n",
       "\n",
       "    .dataframe tbody tr th {\n",
       "        vertical-align: top;\n",
       "    }\n",
       "\n",
       "    .dataframe thead th {\n",
       "        text-align: right;\n",
       "    }\n",
       "</style>\n",
       "<table border=\"1\" class=\"dataframe\">\n",
       "  <thead>\n",
       "    <tr style=\"text-align: right;\">\n",
       "      <th></th>\n",
       "      <th>제휴사</th>\n",
       "      <th>영수증번호</th>\n",
       "      <th>고객번호</th>\n",
       "      <th>점포코드</th>\n",
       "      <th>구매일자</th>\n",
       "      <th>구매시간</th>\n",
       "      <th>구매금액</th>\n",
       "      <th>구매월</th>\n",
       "      <th>중분류명</th>\n",
       "      <th>소분류명</th>\n",
       "      <th>대분류명</th>\n",
       "      <th>성별</th>\n",
       "      <th>연령대</th>\n",
       "      <th>거주지역</th>\n",
       "      <th>거주지역_</th>\n",
       "    </tr>\n",
       "  </thead>\n",
       "  <tbody>\n",
       "    <tr>\n",
       "      <th>0</th>\n",
       "      <td>A</td>\n",
       "      <td>2757986</td>\n",
       "      <td>15148</td>\n",
       "      <td>10</td>\n",
       "      <td>20140920</td>\n",
       "      <td>20</td>\n",
       "      <td>1000</td>\n",
       "      <td>9</td>\n",
       "      <td>일용잡화</td>\n",
       "      <td>위생세제</td>\n",
       "      <td>가구/인테리어</td>\n",
       "      <td>F</td>\n",
       "      <td>50세~54세</td>\n",
       "      <td>100.0</td>\n",
       "      <td>경기 김포시</td>\n",
       "    </tr>\n",
       "    <tr>\n",
       "      <th>1</th>\n",
       "      <td>A</td>\n",
       "      <td>2757986</td>\n",
       "      <td>15148</td>\n",
       "      <td>10</td>\n",
       "      <td>20140920</td>\n",
       "      <td>20</td>\n",
       "      <td>4100</td>\n",
       "      <td>9</td>\n",
       "      <td>가공식품</td>\n",
       "      <td>일반가공식품</td>\n",
       "      <td>가공식품</td>\n",
       "      <td>F</td>\n",
       "      <td>50세~54세</td>\n",
       "      <td>100.0</td>\n",
       "      <td>경기 김포시</td>\n",
       "    </tr>\n",
       "  </tbody>\n",
       "</table>\n",
       "</div>"
      ],
      "text/plain": [
       "  제휴사    영수증번호   고객번호  점포코드      구매일자  구매시간  구매금액  구매월  중분류명    소분류명     대분류명  \\\n",
       "0   A  2757986  15148    10  20140920    20  1000    9  일용잡화    위생세제  가구/인테리어   \n",
       "1   A  2757986  15148    10  20140920    20  4100    9  가공식품  일반가공식품     가공식품   \n",
       "\n",
       "  성별      연령대   거주지역   거주지역_  \n",
       "0  F  50세~54세  100.0  경기 김포시  \n",
       "1  F  50세~54세  100.0  경기 김포시  "
      ]
     },
     "execution_count": 29,
     "metadata": {},
     "output_type": "execute_result"
    }
   ],
   "source": [
    "df_region = pd.merge( df, cust, on=['고객번호'], how='left')\n",
    "df_region.head(2)"
   ]
  },
  {
   "cell_type": "code",
   "execution_count": 30,
   "id": "7cd96964",
   "metadata": {},
   "outputs": [],
   "source": [
    "ddf= df_region.copy()"
   ]
  },
  {
   "cell_type": "code",
   "execution_count": 31,
   "id": "8be92df1",
   "metadata": {},
   "outputs": [
    {
     "data": {
      "text/plain": [
       "array(['50세~54세', '60세이상', '40세~44세', '45세~49세', '30세~34세', '55세~59세',\n",
       "       '35세~39세', '25세~29세', '20세~24세', '19세이하'], dtype=object)"
      ]
     },
     "execution_count": 31,
     "metadata": {},
     "output_type": "execute_result"
    }
   ],
   "source": [
    "ddf.연령대.unique()"
   ]
  },
  {
   "cell_type": "code",
   "execution_count": null,
   "id": "ed19c7e9",
   "metadata": {},
   "outputs": [],
   "source": []
  },
  {
   "cell_type": "code",
   "execution_count": 32,
   "id": "6bf268cd",
   "metadata": {},
   "outputs": [],
   "source": [
    "dict_ = {'50세~54세':'50대', '40세~44세':'40대', '45세~49세':'40대', '30세~34세':'30대', '55세~59세':'50대',\n",
    "       '35세~39세':'30대', '25세~29세':'20대', '20세~24세':'20대'}    \n",
    "\n",
    "def age_col(x):\n",
    "    if x in dict_: \n",
    "        return dict_[x]     \n",
    "    else:\n",
    "        return x             # 만약에 대분류 안하면 그냥 숫자값으로 줌\n",
    "    \n",
    "ddf['연령대_'] = ddf['연령대'].apply(age_col)"
   ]
  },
  {
   "cell_type": "code",
   "execution_count": 33,
   "id": "aed8b26d",
   "metadata": {},
   "outputs": [
    {
     "data": {
      "text/html": [
       "<div>\n",
       "<style scoped>\n",
       "    .dataframe tbody tr th:only-of-type {\n",
       "        vertical-align: middle;\n",
       "    }\n",
       "\n",
       "    .dataframe tbody tr th {\n",
       "        vertical-align: top;\n",
       "    }\n",
       "\n",
       "    .dataframe thead th {\n",
       "        text-align: right;\n",
       "    }\n",
       "</style>\n",
       "<table border=\"1\" class=\"dataframe\">\n",
       "  <thead>\n",
       "    <tr style=\"text-align: right;\">\n",
       "      <th></th>\n",
       "      <th>제휴사</th>\n",
       "      <th>영수증번호</th>\n",
       "      <th>고객번호</th>\n",
       "      <th>점포코드</th>\n",
       "      <th>구매일자</th>\n",
       "      <th>구매시간</th>\n",
       "      <th>구매금액</th>\n",
       "      <th>구매월</th>\n",
       "      <th>중분류명</th>\n",
       "      <th>소분류명</th>\n",
       "      <th>대분류명</th>\n",
       "      <th>성별</th>\n",
       "      <th>연령대</th>\n",
       "      <th>거주지역</th>\n",
       "      <th>거주지역_</th>\n",
       "      <th>연령대_</th>\n",
       "    </tr>\n",
       "  </thead>\n",
       "  <tbody>\n",
       "    <tr>\n",
       "      <th>0</th>\n",
       "      <td>A</td>\n",
       "      <td>2757986</td>\n",
       "      <td>15148</td>\n",
       "      <td>10</td>\n",
       "      <td>20140920</td>\n",
       "      <td>20</td>\n",
       "      <td>1000</td>\n",
       "      <td>9</td>\n",
       "      <td>일용잡화</td>\n",
       "      <td>위생세제</td>\n",
       "      <td>가구/인테리어</td>\n",
       "      <td>F</td>\n",
       "      <td>50세~54세</td>\n",
       "      <td>100.0</td>\n",
       "      <td>경기 김포시</td>\n",
       "      <td>50대</td>\n",
       "    </tr>\n",
       "    <tr>\n",
       "      <th>1</th>\n",
       "      <td>A</td>\n",
       "      <td>2757986</td>\n",
       "      <td>15148</td>\n",
       "      <td>10</td>\n",
       "      <td>20140920</td>\n",
       "      <td>20</td>\n",
       "      <td>4100</td>\n",
       "      <td>9</td>\n",
       "      <td>가공식품</td>\n",
       "      <td>일반가공식품</td>\n",
       "      <td>가공식품</td>\n",
       "      <td>F</td>\n",
       "      <td>50세~54세</td>\n",
       "      <td>100.0</td>\n",
       "      <td>경기 김포시</td>\n",
       "      <td>50대</td>\n",
       "    </tr>\n",
       "  </tbody>\n",
       "</table>\n",
       "</div>"
      ],
      "text/plain": [
       "  제휴사    영수증번호   고객번호  점포코드      구매일자  구매시간  구매금액  구매월  중분류명    소분류명     대분류명  \\\n",
       "0   A  2757986  15148    10  20140920    20  1000    9  일용잡화    위생세제  가구/인테리어   \n",
       "1   A  2757986  15148    10  20140920    20  4100    9  가공식품  일반가공식품     가공식품   \n",
       "\n",
       "  성별      연령대   거주지역   거주지역_ 연령대_  \n",
       "0  F  50세~54세  100.0  경기 김포시  50대  \n",
       "1  F  50세~54세  100.0  경기 김포시  50대  "
      ]
     },
     "execution_count": 33,
     "metadata": {},
     "output_type": "execute_result"
    }
   ],
   "source": [
    "ddf.head(2)"
   ]
  },
  {
   "cell_type": "code",
   "execution_count": 34,
   "id": "eb29d2ba",
   "metadata": {},
   "outputs": [],
   "source": [
    "ddf.drop(columns=['연령대'],inplace=True)"
   ]
  },
  {
   "cell_type": "code",
   "execution_count": 35,
   "id": "900338b0",
   "metadata": {},
   "outputs": [
    {
     "data": {
      "text/html": [
       "<div>\n",
       "<style scoped>\n",
       "    .dataframe tbody tr th:only-of-type {\n",
       "        vertical-align: middle;\n",
       "    }\n",
       "\n",
       "    .dataframe tbody tr th {\n",
       "        vertical-align: top;\n",
       "    }\n",
       "\n",
       "    .dataframe thead th {\n",
       "        text-align: right;\n",
       "    }\n",
       "</style>\n",
       "<table border=\"1\" class=\"dataframe\">\n",
       "  <thead>\n",
       "    <tr style=\"text-align: right;\">\n",
       "      <th></th>\n",
       "      <th>제휴사</th>\n",
       "      <th>영수증번호</th>\n",
       "      <th>고객번호</th>\n",
       "      <th>점포코드</th>\n",
       "      <th>구매일자</th>\n",
       "      <th>구매시간</th>\n",
       "      <th>구매금액</th>\n",
       "      <th>구매월</th>\n",
       "      <th>중분류명</th>\n",
       "      <th>소분류명</th>\n",
       "      <th>대분류명</th>\n",
       "      <th>성별</th>\n",
       "      <th>거주지역</th>\n",
       "      <th>거주지역_</th>\n",
       "      <th>연령대</th>\n",
       "    </tr>\n",
       "  </thead>\n",
       "  <tbody>\n",
       "    <tr>\n",
       "      <th>0</th>\n",
       "      <td>A</td>\n",
       "      <td>2757986</td>\n",
       "      <td>15148</td>\n",
       "      <td>10</td>\n",
       "      <td>20140920</td>\n",
       "      <td>20</td>\n",
       "      <td>1000</td>\n",
       "      <td>9</td>\n",
       "      <td>일용잡화</td>\n",
       "      <td>위생세제</td>\n",
       "      <td>가구/인테리어</td>\n",
       "      <td>F</td>\n",
       "      <td>100.0</td>\n",
       "      <td>경기 김포시</td>\n",
       "      <td>50대</td>\n",
       "    </tr>\n",
       "    <tr>\n",
       "      <th>1</th>\n",
       "      <td>A</td>\n",
       "      <td>2757986</td>\n",
       "      <td>15148</td>\n",
       "      <td>10</td>\n",
       "      <td>20140920</td>\n",
       "      <td>20</td>\n",
       "      <td>4100</td>\n",
       "      <td>9</td>\n",
       "      <td>가공식품</td>\n",
       "      <td>일반가공식품</td>\n",
       "      <td>가공식품</td>\n",
       "      <td>F</td>\n",
       "      <td>100.0</td>\n",
       "      <td>경기 김포시</td>\n",
       "      <td>50대</td>\n",
       "    </tr>\n",
       "  </tbody>\n",
       "</table>\n",
       "</div>"
      ],
      "text/plain": [
       "  제휴사    영수증번호   고객번호  점포코드      구매일자  구매시간  구매금액  구매월  중분류명    소분류명     대분류명  \\\n",
       "0   A  2757986  15148    10  20140920    20  1000    9  일용잡화    위생세제  가구/인테리어   \n",
       "1   A  2757986  15148    10  20140920    20  4100    9  가공식품  일반가공식품     가공식품   \n",
       "\n",
       "  성별   거주지역   거주지역_  연령대  \n",
       "0  F  100.0  경기 김포시  50대  \n",
       "1  F  100.0  경기 김포시  50대  "
      ]
     },
     "execution_count": 35,
     "metadata": {},
     "output_type": "execute_result"
    }
   ],
   "source": [
    "ddf=ddf.rename(columns={'연령대_':'연령대'})\n",
    "ddf.head(2)"
   ]
  },
  {
   "cell_type": "code",
   "execution_count": 36,
   "id": "27d61db1",
   "metadata": {},
   "outputs": [
    {
     "data": {
      "text/html": [
       "<div>\n",
       "<style scoped>\n",
       "    .dataframe tbody tr th:only-of-type {\n",
       "        vertical-align: middle;\n",
       "    }\n",
       "\n",
       "    .dataframe tbody tr th {\n",
       "        vertical-align: top;\n",
       "    }\n",
       "\n",
       "    .dataframe thead th {\n",
       "        text-align: right;\n",
       "    }\n",
       "</style>\n",
       "<table border=\"1\" class=\"dataframe\">\n",
       "  <thead>\n",
       "    <tr style=\"text-align: right;\">\n",
       "      <th></th>\n",
       "      <th>제휴사</th>\n",
       "      <th>영수증번호</th>\n",
       "      <th>고객번호</th>\n",
       "      <th>점포코드</th>\n",
       "      <th>구매일자</th>\n",
       "      <th>구매시간</th>\n",
       "      <th>구매금액</th>\n",
       "      <th>구매월</th>\n",
       "      <th>중분류명</th>\n",
       "      <th>소분류명</th>\n",
       "      <th>대분류명</th>\n",
       "      <th>성별</th>\n",
       "      <th>거주지역</th>\n",
       "      <th>연령대</th>\n",
       "    </tr>\n",
       "  </thead>\n",
       "  <tbody>\n",
       "    <tr>\n",
       "      <th>0</th>\n",
       "      <td>A</td>\n",
       "      <td>2757986</td>\n",
       "      <td>15148</td>\n",
       "      <td>10</td>\n",
       "      <td>20140920</td>\n",
       "      <td>20</td>\n",
       "      <td>1000</td>\n",
       "      <td>9</td>\n",
       "      <td>일용잡화</td>\n",
       "      <td>위생세제</td>\n",
       "      <td>가구/인테리어</td>\n",
       "      <td>F</td>\n",
       "      <td>경기 김포시</td>\n",
       "      <td>50대</td>\n",
       "    </tr>\n",
       "    <tr>\n",
       "      <th>1</th>\n",
       "      <td>A</td>\n",
       "      <td>2757986</td>\n",
       "      <td>15148</td>\n",
       "      <td>10</td>\n",
       "      <td>20140920</td>\n",
       "      <td>20</td>\n",
       "      <td>4100</td>\n",
       "      <td>9</td>\n",
       "      <td>가공식품</td>\n",
       "      <td>일반가공식품</td>\n",
       "      <td>가공식품</td>\n",
       "      <td>F</td>\n",
       "      <td>경기 김포시</td>\n",
       "      <td>50대</td>\n",
       "    </tr>\n",
       "  </tbody>\n",
       "</table>\n",
       "</div>"
      ],
      "text/plain": [
       "  제휴사    영수증번호   고객번호  점포코드      구매일자  구매시간  구매금액  구매월  중분류명    소분류명     대분류명  \\\n",
       "0   A  2757986  15148    10  20140920    20  1000    9  일용잡화    위생세제  가구/인테리어   \n",
       "1   A  2757986  15148    10  20140920    20  4100    9  가공식품  일반가공식품     가공식품   \n",
       "\n",
       "  성별    거주지역  연령대  \n",
       "0  F  경기 김포시  50대  \n",
       "1  F  경기 김포시  50대  "
      ]
     },
     "execution_count": 36,
     "metadata": {},
     "output_type": "execute_result"
    }
   ],
   "source": [
    "ddf.drop(columns=['거주지역'],inplace=True)\n",
    "ddf=ddf.rename(columns={'거주지역_':'거주지역'})\n",
    "ddf.head(2)"
   ]
  },
  {
   "cell_type": "code",
   "execution_count": 37,
   "id": "fb4bf6c3",
   "metadata": {},
   "outputs": [
    {
     "data": {
      "text/plain": [
       "array(['50대', '60세이상', '40대', '30대', '20대', '19세이하'], dtype=object)"
      ]
     },
     "execution_count": 37,
     "metadata": {},
     "output_type": "execute_result"
    }
   ],
   "source": [
    "ddf.연령대.unique()"
   ]
  },
  {
   "cell_type": "code",
   "execution_count": 38,
   "id": "c6fd371b",
   "metadata": {},
   "outputs": [
    {
     "data": {
      "text/plain": [
       "array(['경기 김포시', '서울 은평구', '서울 동작구', '서울 광진구', '부산 기장', '서울 도봉구', nan,\n",
       "       '인천 계양구', '광주 북구', '서울 동대문구', '서울 송파구', '서울 강남구', '서울 노원구',\n",
       "       '서울 서초구', '경상북도 영주', '울산 동구', '서울 중구', '서울 마포구', '서울 성동구',\n",
       "       '서울 서대문구', '서울 강북구', '서울 종로구', '서울 성북구', '서울 관악구', '대전 유성구',\n",
       "       '서울 강서구', '전라북도 군산', '경상남도 함양', '대구 동구', '전라남도 영광', '서울 강동구',\n",
       "       '서울 구로구', '서울 양천구', '서울 용산구', '서울 영등포구', '충청남도 천안', '강원도 철원',\n",
       "       '서울 중랑구', '충청북도', '서울 금천구', '세종 장군'], dtype=object)"
      ]
     },
     "execution_count": 38,
     "metadata": {},
     "output_type": "execute_result"
    }
   ],
   "source": [
    "ddf.거주지역.unique()"
   ]
  },
  {
   "cell_type": "code",
   "execution_count": null,
   "id": "ff664055",
   "metadata": {},
   "outputs": [],
   "source": []
  },
  {
   "cell_type": "code",
   "execution_count": 39,
   "id": "5c662956",
   "metadata": {},
   "outputs": [
    {
     "data": {
      "text/plain": [
       "경기 김포시     5993\n",
       "부산 기장      1922\n",
       "서울 송파구     1431\n",
       "인천 계양구     1071\n",
       "경상남도 함양     860\n",
       "서울 노원구      819\n",
       "광주 북구       639\n",
       "서울 강남구      603\n",
       "전라북도 군산     568\n",
       "경상북도 영주     352\n",
       "대전 유성구      346\n",
       "서울 동대문구     339\n",
       "충청북도        338\n",
       "서울 광진구      329\n",
       "대구 동구       321\n",
       "전라남도 영광     294\n",
       "서울 성동구      278\n",
       "충청남도 천안     234\n",
       "서울 도봉구      220\n",
       "울산 동구       217\n",
       "서울 강북구      185\n",
       "강원도 철원      177\n",
       "서울 강서구      175\n",
       "서울 성북구      146\n",
       "서울 서대문구     139\n",
       "서울 마포구      119\n",
       "서울 서초구      114\n",
       "서울 영등포구     109\n",
       "서울 용산구      109\n",
       "서울 은평구       96\n",
       "서울 관악구       95\n",
       "서울 동작구       94\n",
       "서울 강동구       88\n",
       "서울 중랑구       76\n",
       "서울 구로구       68\n",
       "서울 종로구       66\n",
       "서울 중구        54\n",
       "서울 양천구       48\n",
       "서울 금천구       41\n",
       "세종 장군        32\n",
       "Name: 거주지역_, dtype: int64"
      ]
     },
     "execution_count": 39,
     "metadata": {},
     "output_type": "execute_result"
    }
   ],
   "source": [
    "cust.거주지역_.value_counts()"
   ]
  },
  {
   "cell_type": "code",
   "execution_count": 40,
   "id": "0af6282c",
   "metadata": {},
   "outputs": [
    {
     "data": {
      "text/plain": [
       "경기 김포시     9048040\n",
       "부산 기장      2533161\n",
       "서울 송파구     2188368\n",
       "인천 계양구     1731212\n",
       "경상남도 함양    1228414\n",
       "서울 노원구     1139970\n",
       "광주 북구       972738\n",
       "전라북도 군산     824423\n",
       "서울 강남구      795692\n",
       "충청북도        619727\n",
       "전라남도 영광     597779\n",
       "경상북도 영주     588043\n",
       "대전 유성구      560302\n",
       "서울 동대문구     552591\n",
       "대구 동구       487676\n",
       "서울 광진구      466495\n",
       "서울 성동구      436510\n",
       "충청남도 천안     406766\n",
       "강원도 철원      328030\n",
       "서울 강서구      303629\n",
       "서울 도봉구      266061\n",
       "서울 강북구      232119\n",
       "울산 동구       230737\n",
       "서울 서대문구     207180\n",
       "서울 서초구      178614\n",
       "서울 마포구      151758\n",
       "서울 영등포구     147603\n",
       "서울 성북구      146354\n",
       "서울 용산구      139678\n",
       "서울 은평구      129566\n",
       "서울 강동구       95916\n",
       "서울 구로구       94399\n",
       "서울 동작구       93095\n",
       "서울 관악구       91533\n",
       "서울 종로구       73729\n",
       "서울 중랑구       71729\n",
       "서울 중구        66807\n",
       "서울 양천구       65966\n",
       "세종 장군        49051\n",
       "서울 금천구       46630\n",
       "Name: 거주지역, dtype: int64"
      ]
     },
     "execution_count": 40,
     "metadata": {},
     "output_type": "execute_result"
    }
   ],
   "source": [
    "ddf.거주지역.value_counts()"
   ]
  },
  {
   "cell_type": "code",
   "execution_count": 41,
   "id": "66a449ae",
   "metadata": {},
   "outputs": [
    {
     "data": {
      "text/plain": [
       "경기 김포시     1697757\n",
       "부산 기장       758420\n",
       "서울 송파구      553073\n",
       "서울 노원구      399566\n",
       "서울 강남구      354292\n",
       "경상남도 함양     266789\n",
       "인천 계양구      176890\n",
       "광주 북구       118796\n",
       "서울 동대문구     111641\n",
       "울산 동구       105443\n",
       "전라북도 군산     102702\n",
       "서울 광진구       94342\n",
       "서울 도봉구       93668\n",
       "대구 동구        78802\n",
       "서울 강북구       70605\n",
       "서울 성북구       57803\n",
       "서울 동작구       53804\n",
       "경상북도 영주      53413\n",
       "서울 성동구       50468\n",
       "서울 서대문구      49427\n",
       "서울 관악구       46613\n",
       "대전 유성구       43758\n",
       "서울 마포구       41845\n",
       "서울 서초구       41563\n",
       "서울 영등포구      34123\n",
       "서울 중랑구       31698\n",
       "서울 용산구       31535\n",
       "서울 종로구       29077\n",
       "서울 강서구       28985\n",
       "서울 강동구       23653\n",
       "서울 중구        21671\n",
       "서울 은평구       20877\n",
       "서울 구로구       15489\n",
       "서울 양천구        9987\n",
       "서울 금천구        9676\n",
       "충청남도 천안       8979\n",
       "전라남도 영광       8821\n",
       "세종 장군         7691\n",
       "충청북도          6481\n",
       "강원도 철원        4112\n",
       "Name: 거주지역, dtype: int64"
      ]
     },
     "execution_count": 41,
     "metadata": {},
     "output_type": "execute_result"
    }
   ],
   "source": [
    "ddf[ddf['제휴사']=='A'].거주지역.value_counts()"
   ]
  },
  {
   "cell_type": "code",
   "execution_count": 42,
   "id": "ce104b75",
   "metadata": {},
   "outputs": [
    {
     "data": {
      "text/plain": [
       "경기 김포시     4285392\n",
       "서울 송파구     1262563\n",
       "인천 계양구     1171862\n",
       "부산 기장      1102323\n",
       "경상남도 함양     587204\n",
       "서울 노원구      513300\n",
       "전라북도 군산     501863\n",
       "경상북도 영주     373138\n",
       "광주 북구       340253\n",
       "충청북도        337448\n",
       "대전 유성구      303163\n",
       "서울 광진구      303017\n",
       "서울 성동구      292248\n",
       "충청남도 천안     284529\n",
       "전라남도 영광     219059\n",
       "강원도 철원      181922\n",
       "서울 동대문구     158352\n",
       "대구 동구       114907\n",
       "서울 강북구      100496\n",
       "서울 강남구       98927\n",
       "울산 동구        75812\n",
       "서울 용산구       70049\n",
       "서울 도봉구       68249\n",
       "서울 강서구       62593\n",
       "서울 마포구       59495\n",
       "서울 서대문구      42591\n",
       "서울 강동구       38881\n",
       "서울 영등포구      37107\n",
       "서울 구로구       34938\n",
       "서울 중구        30235\n",
       "세종 장군        27741\n",
       "서울 성북구       26927\n",
       "서울 관악구       21003\n",
       "서울 금천구       20826\n",
       "서울 중랑구       20022\n",
       "서울 동작구       18937\n",
       "서울 서초구       18834\n",
       "서울 은평구       17656\n",
       "서울 양천구       14140\n",
       "서울 종로구       13916\n",
       "Name: 거주지역, dtype: int64"
      ]
     },
     "execution_count": 42,
     "metadata": {},
     "output_type": "execute_result"
    }
   ],
   "source": [
    "ddf[ddf['제휴사']=='B'].거주지역.value_counts()"
   ]
  },
  {
   "cell_type": "code",
   "execution_count": 43,
   "id": "4b29e5a4",
   "metadata": {},
   "outputs": [
    {
     "data": {
      "text/plain": [
       "경기 김포시     3027738\n",
       "부산 기장       664382\n",
       "광주 북구       513207\n",
       "인천 계양구      375912\n",
       "경상남도 함양     372998\n",
       "전라남도 영광     369596\n",
       "서울 송파구      365731\n",
       "서울 강남구      340666\n",
       "대구 동구       292718\n",
       "서울 동대문구     280054\n",
       "충청북도        275410\n",
       "서울 노원구      224404\n",
       "전라북도 군산     219669\n",
       "대전 유성구      213220\n",
       "서울 강서구      210991\n",
       "경상북도 영주     161304\n",
       "강원도 철원      141848\n",
       "서울 서초구      117796\n",
       "충청남도 천안     113187\n",
       "서울 서대문구     113145\n",
       "서울 도봉구      102258\n",
       "서울 성동구       89742\n",
       "서울 은평구       88810\n",
       "서울 영등포구      75639\n",
       "서울 광진구       66630\n",
       "서울 강북구       58797\n",
       "서울 성북구       58352\n",
       "울산 동구        48935\n",
       "서울 마포구       48175\n",
       "서울 구로구       43565\n",
       "서울 양천구       41010\n",
       "서울 용산구       36911\n",
       "서울 강동구       32319\n",
       "서울 종로구       29289\n",
       "서울 관악구       21382\n",
       "서울 중랑구       19158\n",
       "서울 동작구       17796\n",
       "서울 금천구       16085\n",
       "서울 중구        14690\n",
       "세종 장군        13575\n",
       "Name: 거주지역, dtype: int64"
      ]
     },
     "execution_count": 43,
     "metadata": {},
     "output_type": "execute_result"
    }
   ],
   "source": [
    "ddf[ddf['제휴사']=='C'].거주지역.value_counts()"
   ]
  },
  {
   "cell_type": "code",
   "execution_count": 44,
   "id": "528cb184",
   "metadata": {},
   "outputs": [
    {
     "data": {
      "text/plain": [
       "경기 김포시     37153\n",
       "부산 기장       8036\n",
       "서울 송파구      7001\n",
       "인천 계양구      6548\n",
       "서울 성동구      4052\n",
       "서울 성북구      3272\n",
       "서울 노원구      2700\n",
       "서울 동작구      2558\n",
       "서울 동대문구     2544\n",
       "서울 관악구      2535\n",
       "서울 광진구      2506\n",
       "서울 마포구      2243\n",
       "서울 은평구      2223\n",
       "서울 강북구      2221\n",
       "서울 서대문구     2017\n",
       "서울 도봉구      1886\n",
       "서울 강남구      1807\n",
       "서울 종로구      1447\n",
       "경상남도 함양     1423\n",
       "대구 동구       1249\n",
       "서울 용산구      1183\n",
       "서울 강동구      1063\n",
       "서울 강서구      1060\n",
       "서울 중랑구       851\n",
       "서울 양천구       829\n",
       "서울 영등포구      734\n",
       "울산 동구        547\n",
       "광주 북구        482\n",
       "서울 서초구       421\n",
       "서울 구로구       407\n",
       "충청북도         388\n",
       "전라남도 영광      303\n",
       "서울 중구        211\n",
       "전라북도 군산      189\n",
       "경상북도 영주      188\n",
       "대전 유성구       161\n",
       "강원도 철원       148\n",
       "충청남도 천안       71\n",
       "세종 장군         44\n",
       "서울 금천구        43\n",
       "Name: 거주지역, dtype: int64"
      ]
     },
     "execution_count": 44,
     "metadata": {},
     "output_type": "execute_result"
    }
   ],
   "source": [
    "ddf[ddf['제휴사']=='D'].거주지역.value_counts()"
   ]
  },
  {
   "cell_type": "code",
   "execution_count": 45,
   "id": "5c7f8769",
   "metadata": {},
   "outputs": [
    {
     "data": {
      "text/plain": [
       "191014804616"
      ]
     },
     "execution_count": 45,
     "metadata": {},
     "output_type": "execute_result"
    }
   ],
   "source": [
    "ddf[ddf['거주지역']=='경기 김포시'].구매금액.sum()\n",
    "\n",
    "# 1900억 /2 == 800억 (1년평균)\n",
    "\n",
    "# 롯데마트 지난해 연간 매출액은 6조390억원 / 롯데마트 점포수 전국 123개... =\n",
    "# 롯데마트 점포별 평균 매출액 약 52억원 \n",
    "# 경기도 김포에 롯데마트 한 개 밖에 없음...  --> 1900억이 될 수가 없음.. \n",
    "\n",
    "# 제휴사 A 는 롯데백화점인데 , 경기도 김포에는 롯데백화점 없음 \n",
    "# 제휴사 A~D까지 모두 매출 압도적 1위 ----> 롯데몰이 있다고 볼 수 밖에 없음 \n",
    "# 롯데몰이 있는 김포공항- 서울 강서구는 매출이 낮음. 롯데몰이 있다고 보기 어려움 \n",
    "# 따라서 경기도 김포는 코드가 잘못쓰여져 있는 것으로 판단됨 >> 경기도 김포->김포공항(서울시 강서구)"
   ]
  },
  {
   "cell_type": "code",
   "execution_count": 46,
   "id": "589f1479",
   "metadata": {},
   "outputs": [],
   "source": [
    "# ddf.to_pickle('dataset/purprd_cust.pkl')"
   ]
  }
 ],
 "metadata": {
  "kernelspec": {
   "display_name": "Python 3",
   "language": "python",
   "name": "python3"
  },
  "language_info": {
   "codemirror_mode": {
    "name": "ipython",
    "version": 3
   },
   "file_extension": ".py",
   "mimetype": "text/x-python",
   "name": "python",
   "nbconvert_exporter": "python",
   "pygments_lexer": "ipython3",
   "version": "3.8.8"
  }
 },
 "nbformat": 4,
 "nbformat_minor": 5
}

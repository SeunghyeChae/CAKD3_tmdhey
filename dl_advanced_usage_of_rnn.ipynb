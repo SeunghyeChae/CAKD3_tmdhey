{
  "nbformat": 4,
  "nbformat_minor": 0,
  "metadata": {
    "colab": {
      "name": "dl-advanced-usage-of-rnn.ipynb",
      "provenance": [],
      "collapsed_sections": [],
      "machine_shape": "hm",
      "authorship_tag": "ABX9TyPsKuk+66xSWzl68TshGRHg",
      "include_colab_link": true
    },
    "kernelspec": {
      "name": "python3",
      "display_name": "Python 3"
    },
    "language_info": {
      "name": "python"
    },
    "accelerator": "GPU"
  },
  "cells": [
    {
      "cell_type": "markdown",
      "metadata": {
        "id": "view-in-github",
        "colab_type": "text"
      },
      "source": [
        "<a href=\"https://colab.research.google.com/github/SeunghyeChae/CAKD3_tmdhey/blob/main/dl_advanced_usage_of_rnn.ipynb\" target=\"_parent\"><img src=\"https://colab.research.google.com/assets/colab-badge.svg\" alt=\"Open In Colab\"/></a>"
      ]
    },
    {
      "cell_type": "code",
      "metadata": {
        "colab": {
          "base_uri": "https://localhost:8080/"
        },
        "id": "nC-dVqqJZiq6",
        "outputId": "e955c152-17e4-48a0-cd20-b576542fbcc6"
      },
      "source": [
        "from google.colab import drive\n",
        "drive.mount('/content/drive')"
      ],
      "execution_count": 1,
      "outputs": [
        {
          "output_type": "stream",
          "name": "stdout",
          "text": [
            "Mounted at /content/drive\n"
          ]
        }
      ]
    },
    {
      "cell_type": "markdown",
      "metadata": {
        "id": "oHeP_H1HYexM"
      },
      "source": [
        "- 순한 드롭아웃 : 순한 층에서 과대적합을 방지하기 위해 케라스에 내장되어 있는 드롭아웃을 사용합니다\n",
        "- 순환 층 스태킹 : 네트워크의 표현 능력을 증사시킵니다. (대신 계산 비용이 많이 듭니다.)\n",
        "- 양방향 순환 층 : 순한 네트워크에 같은 정보를 다른 방향으로 주입하여 정확도를 높이고 기억을 좀 더 오래 유지시킵니다."
      ]
    },
    {
      "cell_type": "markdown",
      "metadata": {
        "id": "nQb32vMrZZhm"
      },
      "source": [
        "생물지구화학 연구소( http://www.bgc-jena.mpg.de/wetter/ )의 지상 관측소에서 수집한 것"
      ]
    },
    {
      "cell_type": "code",
      "metadata": {
        "id": "D25lSSL_ZfPB"
      },
      "source": [
        "!mkdir jena_climate"
      ],
      "execution_count": 2,
      "outputs": []
    },
    {
      "cell_type": "code",
      "metadata": {
        "colab": {
          "base_uri": "https://localhost:8080/"
        },
        "id": "k6BVMYU0Ze71",
        "outputId": "15499079-1b40-456d-c244-3b264e0eaf1e"
      },
      "source": [
        "!ls"
      ],
      "execution_count": 3,
      "outputs": [
        {
          "output_type": "stream",
          "name": "stdout",
          "text": [
            "drive  jena_climate  sample_data\n"
          ]
        }
      ]
    },
    {
      "cell_type": "code",
      "metadata": {
        "colab": {
          "base_uri": "https://localhost:8080/"
        },
        "id": "L3z86_-iZvnD",
        "outputId": "e34d30a9-f4dd-4073-c4bf-42a518a97ae4"
      },
      "source": [
        "%cd jena_climate/"
      ],
      "execution_count": 4,
      "outputs": [
        {
          "output_type": "stream",
          "name": "stdout",
          "text": [
            "/content/jena_climate\n"
          ]
        }
      ]
    },
    {
      "cell_type": "code",
      "metadata": {
        "colab": {
          "base_uri": "https://localhost:8080/"
        },
        "id": "1ggmadFZZz_K",
        "outputId": "f89e4e63-5e49-4470-b652-3673ec89ec09"
      },
      "source": [
        "!wget https://s3.amazonaws.com/keras-datasets/jena_climate_2009_2016.csv.zip"
      ],
      "execution_count": 5,
      "outputs": [
        {
          "output_type": "stream",
          "name": "stdout",
          "text": [
            "--2021-10-27 01:40:05--  https://s3.amazonaws.com/keras-datasets/jena_climate_2009_2016.csv.zip\n",
            "Resolving s3.amazonaws.com (s3.amazonaws.com)... 52.216.176.253\n",
            "Connecting to s3.amazonaws.com (s3.amazonaws.com)|52.216.176.253|:443... connected.\n",
            "HTTP request sent, awaiting response... 200 OK\n",
            "Length: 13565642 (13M) [application/zip]\n",
            "Saving to: ‘jena_climate_2009_2016.csv.zip’\n",
            "\n",
            "jena_climate_2009_2 100%[===================>]  12.94M  18.5MB/s    in 0.7s    \n",
            "\n",
            "2021-10-27 01:40:06 (18.5 MB/s) - ‘jena_climate_2009_2016.csv.zip’ saved [13565642/13565642]\n",
            "\n"
          ]
        }
      ]
    },
    {
      "cell_type": "code",
      "metadata": {
        "colab": {
          "base_uri": "https://localhost:8080/"
        },
        "id": "pb71xj5EZ7yG",
        "outputId": "16113be2-3a63-48fa-a889-00cc8601f5a7"
      },
      "source": [
        "!unzip jena_climate_2009_2016.csv.zip"
      ],
      "execution_count": 6,
      "outputs": [
        {
          "output_type": "stream",
          "name": "stdout",
          "text": [
            "Archive:  jena_climate_2009_2016.csv.zip\n",
            "  inflating: jena_climate_2009_2016.csv  \n",
            "  inflating: __MACOSX/._jena_climate_2009_2016.csv  \n"
          ]
        }
      ]
    },
    {
      "cell_type": "code",
      "metadata": {
        "colab": {
          "base_uri": "https://localhost:8080/"
        },
        "id": "NfXMDb0nZ7wV",
        "outputId": "0588c1aa-4a95-49f6-a77d-50d86e88af9e"
      },
      "source": [
        "!ls"
      ],
      "execution_count": 7,
      "outputs": [
        {
          "output_type": "stream",
          "name": "stdout",
          "text": [
            "jena_climate_2009_2016.csv  jena_climate_2009_2016.csv.zip  __MACOSX\n"
          ]
        }
      ]
    },
    {
      "cell_type": "code",
      "metadata": {
        "colab": {
          "base_uri": "https://localhost:8080/"
        },
        "id": "PaKxHCLJa0Vy",
        "outputId": "c65fea1b-4540-4a5e-a8ed-73a4e74fe29e"
      },
      "source": [
        "!pwd"
      ],
      "execution_count": 9,
      "outputs": [
        {
          "output_type": "stream",
          "name": "stdout",
          "text": [
            "/content/jena_climate\n"
          ]
        }
      ]
    },
    {
      "cell_type": "code",
      "metadata": {
        "id": "wk4ACruJZ7tl"
      },
      "source": [
        "!mkdir /content/drive/MyDrive/cakd_colab/dl_keras/datasets/jena_climate/"
      ],
      "execution_count": 8,
      "outputs": []
    },
    {
      "cell_type": "code",
      "metadata": {
        "id": "ESB5oDYvZ7q2"
      },
      "source": [
        "!cp ./jena_climate_2009_2016.csv /content/drive/MyDrive/cakd_colab/dl_keras/datasets/jena_climate/"
      ],
      "execution_count": 11,
      "outputs": []
    },
    {
      "cell_type": "code",
      "metadata": {
        "colab": {
          "base_uri": "https://localhost:8080/"
        },
        "id": "6yvzpoOOZ7oY",
        "outputId": "89c38869-21f6-415e-8692-544242446801"
      },
      "source": [
        "import os\n",
        "data_dir = '/content/drive/MyDrive/cakd_colab/dl_keras/datasets/jena_climate/'\n",
        "fname= os.path.join(data_dir,'jena_climate_2009_2016.csv')\n",
        "f = open(fname)\n",
        "data= f.read()\n",
        "f.close()\n",
        "lines= data.split('\\n')\n",
        "header= lines[0].split(',')\n",
        "lines= lines[1:]   # exclude header\n",
        "\n",
        "print(header)\n",
        "print(len(lines))"
      ],
      "execution_count": 12,
      "outputs": [
        {
          "output_type": "stream",
          "name": "stdout",
          "text": [
            "['\"Date Time\"', '\"p (mbar)\"', '\"T (degC)\"', '\"Tpot (K)\"', '\"Tdew (degC)\"', '\"rh (%)\"', '\"VPmax (mbar)\"', '\"VPact (mbar)\"', '\"VPdef (mbar)\"', '\"sh (g/kg)\"', '\"H2OC (mmol/mol)\"', '\"rho (g/m**3)\"', '\"wv (m/s)\"', '\"max. wv (m/s)\"', '\"wd (deg)\"']\n",
            "420451\n"
          ]
        }
      ]
    },
    {
      "cell_type": "code",
      "metadata": {
        "id": "u8j_MeCmZ7mF"
      },
      "source": [
        ""
      ],
      "execution_count": null,
      "outputs": []
    },
    {
      "cell_type": "code",
      "metadata": {
        "id": "BCdP__HPZ7jX"
      },
      "source": [
        ""
      ],
      "execution_count": null,
      "outputs": []
    },
    {
      "cell_type": "code",
      "metadata": {
        "id": "tzeHJPDbZ7g2"
      },
      "source": [
        ""
      ],
      "execution_count": null,
      "outputs": []
    },
    {
      "cell_type": "code",
      "metadata": {
        "id": "rTQp5eo3Z7em"
      },
      "source": [
        ""
      ],
      "execution_count": null,
      "outputs": []
    },
    {
      "cell_type": "code",
      "metadata": {
        "id": "270XmyJ-Z7b2"
      },
      "source": [
        ""
      ],
      "execution_count": null,
      "outputs": []
    },
    {
      "cell_type": "code",
      "metadata": {
        "id": "z1Ce_GIoZ7ZT"
      },
      "source": [
        ""
      ],
      "execution_count": null,
      "outputs": []
    }
  ]
}
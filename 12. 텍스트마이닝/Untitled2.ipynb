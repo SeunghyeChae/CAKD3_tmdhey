{
 "cells": [
  {
   "cell_type": "code",
   "execution_count": 2,
   "metadata": {
    "colab": {
     "base_uri": "https://localhost:8080/",
     "height": 244
    },
    "executionInfo": {
     "elapsed": 325,
     "status": "error",
     "timestamp": 1631588571504,
     "user": {
      "displayName": "김광훈",
      "photoUrl": "https://lh3.googleusercontent.com/a-/AOh14GiKAYaYrfp28P-9FbTkl1dpV7cXALeCe2tQtsUjyg=s64",
      "userId": "07437956116695752254"
     },
     "user_tz": -540
    },
    "id": "xj-RiASetVsh",
    "outputId": "ed707cea-9b9e-4fbe-aaa2-c8de16d34dcf"
   },
   "outputs": [
    {
     "name": "stdout",
     "output_type": "stream",
     "text": [
      "Drive already mounted at /content/drive; to attempt to forcibly remount, call drive.mount(\"/content/drive\", force_remount=True).\n"
     ]
    },
    {
     "ename": "FileExistsError",
     "evalue": "ignored",
     "output_type": "error",
     "traceback": [
      "\u001b[0;31m---------------------------------------------------------------------------\u001b[0m",
      "\u001b[0;31mFileExistsError\u001b[0m                           Traceback (most recent call last)",
      "\u001b[0;32m<ipython-input-2-917b5458b89a>\u001b[0m in \u001b[0;36m<module>\u001b[0;34m()\u001b[0m\n\u001b[1;32m      3\u001b[0m \u001b[0mdrive\u001b[0m\u001b[0;34m.\u001b[0m\u001b[0mmount\u001b[0m\u001b[0;34m(\u001b[0m\u001b[0;34m'/content/drive'\u001b[0m\u001b[0;34m)\u001b[0m\u001b[0;34m\u001b[0m\u001b[0;34m\u001b[0m\u001b[0m\n\u001b[1;32m      4\u001b[0m \u001b[0mmy_path\u001b[0m \u001b[0;34m=\u001b[0m \u001b[0;34m'/content/notebooks'\u001b[0m\u001b[0;34m\u001b[0m\u001b[0;34m\u001b[0m\u001b[0m\n\u001b[0;32m----> 5\u001b[0;31m \u001b[0mos\u001b[0m\u001b[0;34m.\u001b[0m\u001b[0msymlink\u001b[0m\u001b[0;34m(\u001b[0m\u001b[0;34m'/content/drive/My Drive/Colab Notebooks'\u001b[0m\u001b[0;34m,\u001b[0m \u001b[0mmy_path\u001b[0m\u001b[0;34m)\u001b[0m\u001b[0;34m\u001b[0m\u001b[0;34m\u001b[0m\u001b[0m\n\u001b[0m\u001b[1;32m      6\u001b[0m \u001b[0msys\u001b[0m\u001b[0;34m.\u001b[0m\u001b[0mpath\u001b[0m\u001b[0;34m.\u001b[0m\u001b[0minsert\u001b[0m\u001b[0;34m(\u001b[0m\u001b[0;36m0\u001b[0m\u001b[0;34m,\u001b[0m\u001b[0mmy_path\u001b[0m\u001b[0;34m)\u001b[0m\u001b[0;34m\u001b[0m\u001b[0;34m\u001b[0m\u001b[0m\n",
      "\u001b[0;31mFileExistsError\u001b[0m: [Errno 17] File exists: '/content/drive/My Drive/Colab Notebooks' -> '/content/notebooks'"
     ]
    }
   ],
   "source": [
    "import os, sys\n",
    "from google.colab import drive\n",
    "drive.mount('/content/drive')\n",
    "my_path = '/content/notebooks'\n",
    "os.symlink('/content/drive/My Drive/Colab Notebooks', my_path)\n",
    "sys.path.insert(0,my_path)"
   ]
  },
  {
   "cell_type": "markdown",
   "metadata": {
    "id": "OFfRMJ9h2D-3"
   },
   "source": [
    "# 문제"
   ]
  },
  {
   "cell_type": "markdown",
   "metadata": {
    "id": "_7MkpQ8huQdC"
   },
   "source": [
    "아래 사항을 고려하여 대형 온라인 쇼핑몰 제품 가격 예측을 수행하세요.\n",
    "- 제공되는 데이터 세트 mercari_train.tsv는 제품에 대한 여러 속성 및 제품 설명 등의 텍스트 데이터로 구성된다.\n",
    "- 데이터 전처리\n",
    "  - Null 데이터는 적절한 문자열로 치환\n",
    "  - 데이터 분포도 확인 정규성 확보 ( Log 변화 )\n",
    "  - item_description이 ' No description yet ' (null값) 인 경우 Null과 마찬가지로 적절한 값으로 변경\n",
    "  - category_name이 Null이 아닌 경우 대, 중, 소 분류를 분류\n",
    "\n",
    "- 피처 인코딩과 피처 벡터화\n",
    "- 릿지 회귀 모델 구출 및 평가\n",
    "- LightGBM 회귀 모델 구축과 앙상블을 이용한 최종 예측 평가"
   ]
  },
  {
   "cell_type": "markdown",
   "metadata": {
    "id": "60M_gGx800ib"
   },
   "source": [
    "##### module import"
   ]
  },
  {
   "cell_type": "code",
   "execution_count": 1,
   "metadata": {
    "executionInfo": {
     "elapsed": 1703,
     "status": "ok",
     "timestamp": 1631589426028,
     "user": {
      "displayName": "김광훈",
      "photoUrl": "https://lh3.googleusercontent.com/a-/AOh14GiKAYaYrfp28P-9FbTkl1dpV7cXALeCe2tQtsUjyg=s64",
      "userId": "07437956116695752254"
     },
     "user_tz": -540
    },
    "id": "ZaxQ4BCDxawe"
   },
   "outputs": [],
   "source": [
    "# module import\n",
    "import pandas as pd\n",
    "import numpy as np\n",
    "import seaborn as sns\n",
    "import matplotlib.pyplot as plt\n",
    "\n",
    "# Machine Learning\n",
    "from sklearn.linear_model import LogisticRegression\n",
    "from sklearn.linear_model import Ridge\n",
    "from lightgbm import LGBMRegressor\n",
    "\n",
    "# Seperate\n",
    "from sklearn.model_selection import train_test_split\n",
    "from sklearn.model_selection import cross_val_score\n",
    "\n",
    "# Feature Vectornize\n",
    "from sklearn.feature_extraction.text import CountVectorizer\n",
    "from sklearn.feature_extraction.text import TfidfVectorizer\n",
    "\n",
    "# Encoding\n",
    "from sklearn.preprocessing import LabelBinarizer\n",
    "\n",
    "# combine\n",
    "from scipy.sparse import hstack\n",
    "import gc"
   ]
  },
  {
   "cell_type": "markdown",
   "metadata": {
    "id": "o4um3cXB02hM"
   },
   "source": [
    "# 데이터 불러오기"
   ]
  },
  {
   "cell_type": "code",
   "execution_count": 2,
   "metadata": {
    "colab": {
     "base_uri": "https://localhost:8080/",
     "height": 214
    },
    "executionInfo": {
     "elapsed": 10860,
     "status": "ok",
     "timestamp": 1631589436886,
     "user": {
      "displayName": "김광훈",
      "photoUrl": "https://lh3.googleusercontent.com/a-/AOh14GiKAYaYrfp28P-9FbTkl1dpV7cXALeCe2tQtsUjyg=s64",
      "userId": "07437956116695752254"
     },
     "user_tz": -540
    },
    "id": "32OSR7-Vtmrj",
    "outputId": "6c5f95aa-7564-4a82-a773-f542c33100c1"
   },
   "outputs": [
    {
     "name": "stdout",
     "output_type": "stream",
     "text": [
      "(1482535, 8)\n"
     ]
    },
    {
     "data": {
      "text/html": [
       "<div>\n",
       "<style scoped>\n",
       "    .dataframe tbody tr th:only-of-type {\n",
       "        vertical-align: middle;\n",
       "    }\n",
       "\n",
       "    .dataframe tbody tr th {\n",
       "        vertical-align: top;\n",
       "    }\n",
       "\n",
       "    .dataframe thead th {\n",
       "        text-align: right;\n",
       "    }\n",
       "</style>\n",
       "<table border=\"1\" class=\"dataframe\">\n",
       "  <thead>\n",
       "    <tr style=\"text-align: right;\">\n",
       "      <th></th>\n",
       "      <th>train_id</th>\n",
       "      <th>name</th>\n",
       "      <th>item_condition_id</th>\n",
       "      <th>category_name</th>\n",
       "      <th>brand_name</th>\n",
       "      <th>price</th>\n",
       "      <th>shipping</th>\n",
       "      <th>item_description</th>\n",
       "    </tr>\n",
       "  </thead>\n",
       "  <tbody>\n",
       "    <tr>\n",
       "      <th>0</th>\n",
       "      <td>0</td>\n",
       "      <td>MLB Cincinnati Reds T Shirt Size XL</td>\n",
       "      <td>3</td>\n",
       "      <td>Men/Tops/T-shirts</td>\n",
       "      <td>NaN</td>\n",
       "      <td>10.0</td>\n",
       "      <td>1</td>\n",
       "      <td>No description yet</td>\n",
       "    </tr>\n",
       "    <tr>\n",
       "      <th>1</th>\n",
       "      <td>1</td>\n",
       "      <td>Razer BlackWidow Chroma Keyboard</td>\n",
       "      <td>3</td>\n",
       "      <td>Electronics/Computers &amp; Tablets/Components &amp; P...</td>\n",
       "      <td>Razer</td>\n",
       "      <td>52.0</td>\n",
       "      <td>0</td>\n",
       "      <td>This keyboard is in great condition and works ...</td>\n",
       "    </tr>\n",
       "  </tbody>\n",
       "</table>\n",
       "</div>"
      ],
      "text/plain": [
       "   train_id  ...                                   item_description\n",
       "0         0  ...                                 No description yet\n",
       "1         1  ...  This keyboard is in great condition and works ...\n",
       "\n",
       "[2 rows x 8 columns]"
      ]
     },
     "execution_count": 2,
     "metadata": {},
     "output_type": "execute_result"
    }
   ],
   "source": [
    "# Load data\n",
    "m_df = pd.read_csv('/content/notebooks/textmining/dataset/mercari_train.tsv', sep='\\t')\n",
    "print(m_df.shape)\n",
    "m_df.head(2)"
   ]
  },
  {
   "cell_type": "markdown",
   "metadata": {
    "id": "NroWs2tP07ah"
   },
   "source": [
    "##### 데이터 확인 및 탐색"
   ]
  },
  {
   "cell_type": "code",
   "execution_count": 3,
   "metadata": {
    "colab": {
     "base_uri": "https://localhost:8080/",
     "height": 556
    },
    "executionInfo": {
     "elapsed": 423,
     "status": "ok",
     "timestamp": 1631589437305,
     "user": {
      "displayName": "김광훈",
      "photoUrl": "https://lh3.googleusercontent.com/a-/AOh14GiKAYaYrfp28P-9FbTkl1dpV7cXALeCe2tQtsUjyg=s64",
      "userId": "07437956116695752254"
     },
     "user_tz": -540
    },
    "id": "Sy0ool6TxpDK",
    "outputId": "4beda58b-1704-4b15-9136-c6ce5d5b39bb"
   },
   "outputs": [
    {
     "data": {
      "text/html": [
       "<div>\n",
       "<style scoped>\n",
       "    .dataframe tbody tr th:only-of-type {\n",
       "        vertical-align: middle;\n",
       "    }\n",
       "\n",
       "    .dataframe tbody tr th {\n",
       "        vertical-align: top;\n",
       "    }\n",
       "\n",
       "    .dataframe thead th {\n",
       "        text-align: right;\n",
       "    }\n",
       "</style>\n",
       "<table border=\"1\" class=\"dataframe\">\n",
       "  <thead>\n",
       "    <tr style=\"text-align: right;\">\n",
       "      <th></th>\n",
       "      <th>train_id</th>\n",
       "      <th>name</th>\n",
       "      <th>item_condition_id</th>\n",
       "      <th>category_name</th>\n",
       "      <th>brand_name</th>\n",
       "      <th>price</th>\n",
       "      <th>shipping</th>\n",
       "      <th>item_description</th>\n",
       "    </tr>\n",
       "  </thead>\n",
       "  <tbody>\n",
       "    <tr>\n",
       "      <th>0</th>\n",
       "      <td>0</td>\n",
       "      <td>MLB Cincinnati Reds T Shirt Size XL</td>\n",
       "      <td>3</td>\n",
       "      <td>Men/Tops/T-shirts</td>\n",
       "      <td>NaN</td>\n",
       "      <td>10.0</td>\n",
       "      <td>1</td>\n",
       "      <td>No description yet</td>\n",
       "    </tr>\n",
       "    <tr>\n",
       "      <th>1</th>\n",
       "      <td>1</td>\n",
       "      <td>Razer BlackWidow Chroma Keyboard</td>\n",
       "      <td>3</td>\n",
       "      <td>Electronics/Computers &amp; Tablets/Components &amp; P...</td>\n",
       "      <td>Razer</td>\n",
       "      <td>52.0</td>\n",
       "      <td>0</td>\n",
       "      <td>This keyboard is in great condition and works ...</td>\n",
       "    </tr>\n",
       "  </tbody>\n",
       "</table>\n",
       "</div>"
      ],
      "text/plain": [
       "   train_id  ...                                   item_description\n",
       "0         0  ...                                 No description yet\n",
       "1         1  ...  This keyboard is in great condition and works ...\n",
       "\n",
       "[2 rows x 8 columns]"
      ]
     },
     "metadata": {},
     "output_type": "display_data"
    },
    {
     "name": "stdout",
     "output_type": "stream",
     "text": [
      "[shape] :  (1482535, 8)\n",
      "[rows] : 1482535 , [columns] : 8 \n",
      "\n",
      "[house_value_counts] : \n",
      " object     4\n",
      "int64      3\n",
      "float64    1\n",
      "dtype: int64 \n",
      "\n",
      "[columns] :  Index(['train_id', 'name', 'item_condition_id', 'category_name', 'brand_name',\n",
      "       'price', 'shipping', 'item_description'],\n",
      "      dtype='object') \n",
      "\n",
      "[Null_values] :  \n",
      " brand_name          632682\n",
      "category_name         6327\n",
      "item_description         4\n",
      "dtype: int64\n",
      "[Null_columns] :  \n",
      " ['category_name', 'brand_name', 'item_description']\n"
     ]
    }
   ],
   "source": [
    "# data info\n",
    "def data_info(df,null_count_standard): # 0 넣어줘야 전체 뽑힘\n",
    "    display(df.head(2))\n",
    "    print('[shape] : ',df.shape)\n",
    "    print('[rows] : {} , [columns] : {}'.format(df.shape[0],df.shape[1]),'\\n')\n",
    "    print('[house_value_counts] : \\n',df.dtypes.value_counts(),'\\n')\n",
    "    print('[columns] : ' ,df.columns,'\\n')\n",
    "    nl_v = df.isnull().sum()\n",
    "    print('[Null_values] : ','\\n',nl_v[nl_v>null_count_standard].sort_values(ascending=False))\n",
    "    print('[Null_columns] : ','\\n', list(nl_v[nl_v>null_count_standard].keys()))\n",
    "\n",
    "data_info(m_df,0)"
   ]
  },
  {
   "cell_type": "code",
   "execution_count": 4,
   "metadata": {
    "colab": {
     "base_uri": "https://localhost:8080/",
     "height": 364
    },
    "executionInfo": {
     "elapsed": 6,
     "status": "ok",
     "timestamp": 1631589437305,
     "user": {
      "displayName": "김광훈",
      "photoUrl": "https://lh3.googleusercontent.com/a-/AOh14GiKAYaYrfp28P-9FbTkl1dpV7cXALeCe2tQtsUjyg=s64",
      "userId": "07437956116695752254"
     },
     "user_tz": -540
    },
    "id": "CLIW7rTex8sS",
    "outputId": "34881907-7a48-42b9-9bb2-12d40b900361"
   },
   "outputs": [
    {
     "name": "stderr",
     "output_type": "stream",
     "text": [
      "/usr/local/lib/python3.7/dist-packages/seaborn/distributions.py:2557: FutureWarning: `distplot` is a deprecated function and will be removed in a future version. Please adapt your code to use either `displot` (a figure-level function with similar flexibility) or `histplot` (an axes-level function for histograms).\n",
      "  warnings.warn(msg, FutureWarning)\n"
     ]
    },
    {
     "data": {
      "text/plain": [
       "<matplotlib.axes._subplots.AxesSubplot at 0x7fbb6c077410>"
      ]
     },
     "execution_count": 4,
     "metadata": {},
     "output_type": "execute_result"
    },
    {
     "data": {
      "image/png": "[encoded data removed]",
      "text/plain": [
       "<Figure size 432x288 with 1 Axes>"
      ]
     },
     "metadata": {
      "needs_background": "light"
     },
     "output_type": "display_data"
    }
   ],
   "source": [
    "# Target : Price\n",
    "y_train_df = m_df['price']\n",
    "plt.figure(figsize=(6,4))\n",
    "sns.distplot(y_train_df,kde=False)"
   ]
  },
  {
   "cell_type": "markdown",
   "metadata": {
    "id": "3c8ItUpFzJjJ"
   },
   "source": [
    "- 정규분포를 그리지 않고 한 쪽에 치우쳐있음 \n",
    "- 로그변화"
   ]
  },
  {
   "cell_type": "markdown",
   "metadata": {
    "id": "hElI4FMY1FqF"
   },
   "source": [
    "##### 정규성변화"
   ]
  },
  {
   "cell_type": "code",
   "execution_count": 5,
   "metadata": {
    "colab": {
     "base_uri": "https://localhost:8080/",
     "height": 353
    },
    "executionInfo": {
     "elapsed": 654,
     "status": "ok",
     "timestamp": 1631589437957,
     "user": {
      "displayName": "김광훈",
      "photoUrl": "https://lh3.googleusercontent.com/a-/AOh14GiKAYaYrfp28P-9FbTkl1dpV7cXALeCe2tQtsUjyg=s64",
      "userId": "07437956116695752254"
     },
     "user_tz": -540
    },
    "id": "XjFv8c2izEZG",
    "outputId": "5e82ee86-84a5-4c10-9bcb-9194a895abb0"
   },
   "outputs": [
    {
     "name": "stderr",
     "output_type": "stream",
     "text": [
      "/usr/local/lib/python3.7/dist-packages/seaborn/distributions.py:2557: FutureWarning: `distplot` is a deprecated function and will be removed in a future version. Please adapt your code to use either `displot` (a figure-level function with similar flexibility) or `histplot` (an axes-level function for histograms).\n",
      "  warnings.warn(msg, FutureWarning)\n"
     ]
    },
    {
     "data": {
      "text/plain": [
       "<matplotlib.axes._subplots.AxesSubplot at 0x7fbb4297f990>"
      ]
     },
     "execution_count": 5,
     "metadata": {},
     "output_type": "execute_result"
    },
    {
     "data": {
      "image/png": "[encoded data removed]",
      "text/plain": [
       "<Figure size 432x288 with 1 Axes>"
      ]
     },
     "metadata": {
      "needs_background": "light"
     },
     "output_type": "display_data"
    }
   ],
   "source": [
    "y_train_df = np.log1p(y_train_df)\n",
    "sns.distplot(y_train_df, kde=False)"
   ]
  },
  {
   "cell_type": "markdown",
   "metadata": {
    "id": "0u6B5GT-zZ3u"
   },
   "source": [
    "- 로그변화 이후 정규분포 확인"
   ]
  },
  {
   "cell_type": "code",
   "execution_count": 6,
   "metadata": {
    "colab": {
     "base_uri": "https://localhost:8080/",
     "height": 111
    },
    "executionInfo": {
     "elapsed": 9,
     "status": "ok",
     "timestamp": 1631589437958,
     "user": {
      "displayName": "김광훈",
      "photoUrl": "https://lh3.googleusercontent.com/a-/AOh14GiKAYaYrfp28P-9FbTkl1dpV7cXALeCe2tQtsUjyg=s64",
      "userId": "07437956116695752254"
     },
     "user_tz": -540
    },
    "id": "m_ta2lb8zdTB",
    "outputId": "0caf813b-a801-4479-c6f1-fae3071b19fc"
   },
   "outputs": [
    {
     "data": {
      "text/html": [
       "<div>\n",
       "<style scoped>\n",
       "    .dataframe tbody tr th:only-of-type {\n",
       "        vertical-align: middle;\n",
       "    }\n",
       "\n",
       "    .dataframe tbody tr th {\n",
       "        vertical-align: top;\n",
       "    }\n",
       "\n",
       "    .dataframe thead th {\n",
       "        text-align: right;\n",
       "    }\n",
       "</style>\n",
       "<table border=\"1\" class=\"dataframe\">\n",
       "  <thead>\n",
       "    <tr style=\"text-align: right;\">\n",
       "      <th></th>\n",
       "      <th>price</th>\n",
       "      <th>price_lg</th>\n",
       "    </tr>\n",
       "  </thead>\n",
       "  <tbody>\n",
       "    <tr>\n",
       "      <th>0</th>\n",
       "      <td>10.0</td>\n",
       "      <td>2.397895</td>\n",
       "    </tr>\n",
       "    <tr>\n",
       "      <th>1</th>\n",
       "      <td>52.0</td>\n",
       "      <td>3.970292</td>\n",
       "    </tr>\n",
       "  </tbody>\n",
       "</table>\n",
       "</div>"
      ],
      "text/plain": [
       "   price  price_lg\n",
       "0   10.0  2.397895\n",
       "1   52.0  3.970292"
      ]
     },
     "execution_count": 6,
     "metadata": {},
     "output_type": "execute_result"
    }
   ],
   "source": [
    "m_df['price_lg'] = np.log1p(m_df['price'])\n",
    "m_df[['price','price_lg']].head(2)"
   ]
  },
  {
   "cell_type": "code",
   "execution_count": 7,
   "metadata": {
    "colab": {
     "base_uri": "https://localhost:8080/"
    },
    "executionInfo": {
     "elapsed": 8,
     "status": "ok",
     "timestamp": 1631589437958,
     "user": {
      "displayName": "김광훈",
      "photoUrl": "https://lh3.googleusercontent.com/a-/AOh14GiKAYaYrfp28P-9FbTkl1dpV7cXALeCe2tQtsUjyg=s64",
      "userId": "07437956116695752254"
     },
     "user_tz": -540
    },
    "id": "cI8u-Bpgzsqw",
    "outputId": "5eb2bc9e-7628-4888-a30f-145feafbe1ba"
   },
   "outputs": [
    {
     "name": "stdout",
     "output_type": "stream",
     "text": [
      "Shipping : \n",
      " 0    819435\n",
      "1    663100\n",
      "Name: shipping, dtype: int64\n",
      "\n",
      "I_c_id : \n",
      " 1    640549\n",
      "3    432161\n",
      "2    375479\n",
      "4     31962\n",
      "5      2384\n",
      "Name: item_condition_id, dtype: int64\n"
     ]
    }
   ],
   "source": [
    "# train_id를 제외한 정량적 데이터 shipping / item_condition_id 탐색\n",
    "print('Shipping : \\n', m_df['shipping'].value_counts())\n",
    "print()\n",
    "print('I_c_id : \\n', m_df['item_condition_id'].value_counts())"
   ]
  },
  {
   "cell_type": "markdown",
   "metadata": {
    "id": "6SY_XWap0w7i"
   },
   "source": [
    "# Null 값 확인"
   ]
  },
  {
   "cell_type": "code",
   "execution_count": 8,
   "metadata": {
    "colab": {
     "base_uri": "https://localhost:8080/",
     "height": 573
    },
    "executionInfo": {
     "elapsed": 619,
     "status": "ok",
     "timestamp": 1631589438572,
     "user": {
      "displayName": "김광훈",
      "photoUrl": "https://lh3.googleusercontent.com/a-/AOh14GiKAYaYrfp28P-9FbTkl1dpV7cXALeCe2tQtsUjyg=s64",
      "userId": "07437956116695752254"
     },
     "user_tz": -540
    },
    "id": "GoO6KV5h0wzC",
    "outputId": "943f4b4e-484e-4db6-c743-45da2d81a0ef"
   },
   "outputs": [
    {
     "data": {
      "text/html": [
       "<div>\n",
       "<style scoped>\n",
       "    .dataframe tbody tr th:only-of-type {\n",
       "        vertical-align: middle;\n",
       "    }\n",
       "\n",
       "    .dataframe tbody tr th {\n",
       "        vertical-align: top;\n",
       "    }\n",
       "\n",
       "    .dataframe thead th {\n",
       "        text-align: right;\n",
       "    }\n",
       "</style>\n",
       "<table border=\"1\" class=\"dataframe\">\n",
       "  <thead>\n",
       "    <tr style=\"text-align: right;\">\n",
       "      <th></th>\n",
       "      <th>train_id</th>\n",
       "      <th>name</th>\n",
       "      <th>item_condition_id</th>\n",
       "      <th>category_name</th>\n",
       "      <th>brand_name</th>\n",
       "      <th>price</th>\n",
       "      <th>shipping</th>\n",
       "      <th>item_description</th>\n",
       "      <th>price_lg</th>\n",
       "    </tr>\n",
       "  </thead>\n",
       "  <tbody>\n",
       "    <tr>\n",
       "      <th>0</th>\n",
       "      <td>0</td>\n",
       "      <td>MLB Cincinnati Reds T Shirt Size XL</td>\n",
       "      <td>3</td>\n",
       "      <td>Men/Tops/T-shirts</td>\n",
       "      <td>NaN</td>\n",
       "      <td>10.0</td>\n",
       "      <td>1</td>\n",
       "      <td>No description yet</td>\n",
       "      <td>2.397895</td>\n",
       "    </tr>\n",
       "    <tr>\n",
       "      <th>1</th>\n",
       "      <td>1</td>\n",
       "      <td>Razer BlackWidow Chroma Keyboard</td>\n",
       "      <td>3</td>\n",
       "      <td>Electronics/Computers &amp; Tablets/Components &amp; P...</td>\n",
       "      <td>Razer</td>\n",
       "      <td>52.0</td>\n",
       "      <td>0</td>\n",
       "      <td>This keyboard is in great condition and works ...</td>\n",
       "      <td>3.970292</td>\n",
       "    </tr>\n",
       "  </tbody>\n",
       "</table>\n",
       "</div>"
      ],
      "text/plain": [
       "   train_id  ...  price_lg\n",
       "0         0  ...  2.397895\n",
       "1         1  ...  3.970292\n",
       "\n",
       "[2 rows x 9 columns]"
      ]
     },
     "metadata": {},
     "output_type": "display_data"
    },
    {
     "name": "stdout",
     "output_type": "stream",
     "text": [
      "[shape] :  (1482535, 9)\n",
      "[rows] : 1482535 , [columns] : 9 \n",
      "\n",
      "[house_value_counts] : \n",
      " object     4\n",
      "int64      3\n",
      "float64    2\n",
      "dtype: int64 \n",
      "\n",
      "[columns] :  Index(['train_id', 'name', 'item_condition_id', 'category_name', 'brand_name',\n",
      "       'price', 'shipping', 'item_description', 'price_lg'],\n",
      "      dtype='object') \n",
      "\n",
      "[Null_values] :  \n",
      " brand_name          632682\n",
      "category_name         6327\n",
      "item_description         4\n",
      "dtype: int64\n",
      "[Null_columns] :  \n",
      " ['category_name', 'brand_name', 'item_description']\n"
     ]
    }
   ],
   "source": [
    "data_info(m_df,0)"
   ]
  },
  {
   "cell_type": "markdown",
   "metadata": {
    "id": "JyQuQs2f1O3O"
   },
   "source": [
    "- null값을 가지고 있는 컬럼은 총 3개\n",
    "- ['category_name', 'brand_name', 'item_description']\n",
    "  - item_description의 null 은 No description yet 도 포함됨\n"
   ]
  },
  {
   "cell_type": "code",
   "execution_count": 9,
   "metadata": {
    "colab": {
     "base_uri": "https://localhost:8080/"
    },
    "executionInfo": {
     "elapsed": 6,
     "status": "ok",
     "timestamp": 1631589438573,
     "user": {
      "displayName": "김광훈",
      "photoUrl": "https://lh3.googleusercontent.com/a-/AOh14GiKAYaYrfp28P-9FbTkl1dpV7cXALeCe2tQtsUjyg=s64",
      "userId": "07437956116695752254"
     },
     "user_tz": -540
    },
    "id": "vnnzDLPX0wv7",
    "outputId": "d5ddcae8-ad4b-43e6-94c1-0d0cec29a2c0"
   },
   "outputs": [
    {
     "data": {
      "text/plain": [
       "82489"
      ]
     },
     "execution_count": 9,
     "metadata": {},
     "output_type": "execute_result"
    }
   ],
   "source": [
    "m_df[m_df['item_description']=='No description yet']['item_description'].count()"
   ]
  },
  {
   "cell_type": "code",
   "execution_count": 10,
   "metadata": {
    "executionInfo": {
     "elapsed": 2,
     "status": "ok",
     "timestamp": 1631589438573,
     "user": {
      "displayName": "김광훈",
      "photoUrl": "https://lh3.googleusercontent.com/a-/AOh14GiKAYaYrfp28P-9FbTkl1dpV7cXALeCe2tQtsUjyg=s64",
      "userId": "07437956116695752254"
     },
     "user_tz": -540
    },
    "id": "ch5vBj0c0Kzb"
   },
   "outputs": [],
   "source": [
    "# category split\n",
    "def split_cat(category_name):\n",
    "  try:\n",
    "    return category_name.split('/')\n",
    "  except:\n",
    "    return ['Other_null','Other_null','Other_null'] # 총 3가지로 나누었기 때문에"
   ]
  },
  {
   "cell_type": "code",
   "execution_count": 11,
   "metadata": {
    "executionInfo": {
     "elapsed": 5709,
     "status": "ok",
     "timestamp": 1631589444280,
     "user": {
      "displayName": "김광훈",
      "photoUrl": "https://lh3.googleusercontent.com/a-/AOh14GiKAYaYrfp28P-9FbTkl1dpV7cXALeCe2tQtsUjyg=s64",
      "userId": "07437956116695752254"
     },
     "user_tz": -540
    },
    "id": "v8kNmISn2SDN"
   },
   "outputs": [],
   "source": [
    "m_df['cat_L'], m_df['cat_m'],m_df['cat_s'] = zip(*m_df['category_name'].apply(lambda x: split_cat(x)))\n",
    "# * ; args, *를 붙여서 입력하면 컬럼끼리 엮어줌."
   ]
  },
  {
   "cell_type": "code",
   "execution_count": 12,
   "metadata": {
    "colab": {
     "base_uri": "https://localhost:8080/"
    },
    "executionInfo": {
     "elapsed": 551,
     "status": "ok",
     "timestamp": 1631589444825,
     "user": {
      "displayName": "김광훈",
      "photoUrl": "https://lh3.googleusercontent.com/a-/AOh14GiKAYaYrfp28P-9FbTkl1dpV7cXALeCe2tQtsUjyg=s64",
      "userId": "07437956116695752254"
     },
     "user_tz": -540
    },
    "id": "tR3HC6Lw3EAe",
    "outputId": "0a299a34-7408-4650-c305-5a60cca895fb"
   },
   "outputs": [
    {
     "name": "stdout",
     "output_type": "stream",
     "text": [
      "L \n",
      " Women                     664385\n",
      "Beauty                    207828\n",
      "Kids                      171689\n",
      "Electronics               122690\n",
      "Men                        93680\n",
      "Home                       67871\n",
      "Vintage & Collectibles     46530\n",
      "Other                      45351\n",
      "Handmade                   30842\n",
      "Sports & Outdoors          25342\n",
      "Other_null                  6327\n",
      "Name: cat_L, dtype: int64\n",
      "M \n",
      " 114\n",
      "S \n",
      " 871\n"
     ]
    }
   ],
   "source": [
    "print('L', '\\n', m_df['cat_L'].value_counts())\n",
    "print('M', '\\n', m_df['cat_m'].nunique())\n",
    "print('S', '\\n', m_df['cat_s'].nunique())"
   ]
  },
  {
   "cell_type": "markdown",
   "metadata": {
    "id": "wcnhbZq75rFo"
   },
   "source": [
    "- Null 값을 가지고 있는 모든 열들은 null값을 Other_null으로 모두 치환\n",
    "  - object형으로 null값과 no description yet을 가지고 있는 item_description,\n",
    "  - brand_name 또한 object형으로 NaN\n",
    "  - category_name 또한 Other_null로 변경하였으니\n",
    "  -통일"
   ]
  },
  {
   "cell_type": "code",
   "execution_count": 13,
   "metadata": {
    "executionInfo": {
     "elapsed": 786,
     "status": "ok",
     "timestamp": 1631589445610,
     "user": {
      "displayName": "김광훈",
      "photoUrl": "https://lh3.googleusercontent.com/a-/AOh14GiKAYaYrfp28P-9FbTkl1dpV7cXALeCe2tQtsUjyg=s64",
      "userId": "07437956116695752254"
     },
     "user_tz": -540
    },
    "id": "89HpSFNN5CGw"
   },
   "outputs": [],
   "source": [
    "m_df['category_name'] = m_df['category_name'].fillna(value='Other_null')\n",
    "m_df['brand_name'] = m_df['brand_name'].fillna(value='Other_null')\n",
    "m_df['item_description'] = m_df['item_description'].fillna(value='Other_null')"
   ]
  },
  {
   "cell_type": "code",
   "execution_count": 14,
   "metadata": {
    "colab": {
     "base_uri": "https://localhost:8080/"
    },
    "executionInfo": {
     "elapsed": 393,
     "status": "ok",
     "timestamp": 1631589446001,
     "user": {
      "displayName": "김광훈",
      "photoUrl": "https://lh3.googleusercontent.com/a-/AOh14GiKAYaYrfp28P-9FbTkl1dpV7cXALeCe2tQtsUjyg=s64",
      "userId": "07437956116695752254"
     },
     "user_tz": -540
    },
    "id": "0PHqD0VC6PbK",
    "outputId": "deb66ed0-da67-42cd-9ee5-e03f2c973383"
   },
   "outputs": [
    {
     "data": {
      "text/plain": [
       "train_id             0\n",
       "name                 0\n",
       "item_condition_id    0\n",
       "category_name        0\n",
       "brand_name           0\n",
       "price                0\n",
       "shipping             0\n",
       "item_description     0\n",
       "price_lg             0\n",
       "cat_L                0\n",
       "cat_m                0\n",
       "cat_s                0\n",
       "dtype: int64"
      ]
     },
     "execution_count": 14,
     "metadata": {},
     "output_type": "execute_result"
    }
   ],
   "source": [
    "m_df.isnull().sum()"
   ]
  },
  {
   "cell_type": "code",
   "execution_count": 15,
   "metadata": {
    "colab": {
     "base_uri": "https://localhost:8080/"
    },
    "executionInfo": {
     "elapsed": 905,
     "status": "ok",
     "timestamp": 1631589446905,
     "user": {
      "displayName": "김광훈",
      "photoUrl": "https://lh3.googleusercontent.com/a-/AOh14GiKAYaYrfp28P-9FbTkl1dpV7cXALeCe2tQtsUjyg=s64",
      "userId": "07437956116695752254"
     },
     "user_tz": -540
    },
    "id": "BRMXQKH56mKo",
    "outputId": "05d526c2-f76e-4631-ce42-0a6fbbf7ea2a"
   },
   "outputs": [
    {
     "name": "stdout",
     "output_type": "stream",
     "text": [
      "82489\n",
      "0\n"
     ]
    }
   ],
   "source": [
    "print(m_df[m_df['item_description']=='No description yet']['item_description'].count())\n",
    "m_df.loc[m_df['item_description']=='No description yet','item_description'] = 'Other_null'\n",
    "print(m_df[m_df['item_description']=='No description yet']['item_description'].count())"
   ]
  },
  {
   "cell_type": "markdown",
   "metadata": {
    "id": "QrHWhh0e7_8C"
   },
   "source": [
    "# 피처 인코딩 & 피처 벡터화"
   ]
  },
  {
   "cell_type": "markdown",
   "metadata": {
    "id": "tX19BfXa8Nn6"
   },
   "source": [
    "- 카테고리로 나누어지지 않은 brand_name / name/ description 확인"
   ]
  },
  {
   "cell_type": "code",
   "execution_count": 16,
   "metadata": {
    "colab": {
     "base_uri": "https://localhost:8080/"
    },
    "executionInfo": {
     "elapsed": 407,
     "status": "ok",
     "timestamp": 1631589447311,
     "user": {
      "displayName": "김광훈",
      "photoUrl": "https://lh3.googleusercontent.com/a-/AOh14GiKAYaYrfp28P-9FbTkl1dpV7cXALeCe2tQtsUjyg=s64",
      "userId": "07437956116695752254"
     },
     "user_tz": -540
    },
    "id": "hz5VnHLq74DD",
    "outputId": "ff2c1cb2-df0d-4a02-bdea-a09f7f196233"
   },
   "outputs": [
    {
     "name": "stdout",
     "output_type": "stream",
     "text": [
      "Brand_name 4810\n",
      "Brand_name Other_null           632682\n",
      "PINK                  54088\n",
      "Nike                  54043\n",
      "Victoria's Secret     48036\n",
      "LuLaRoe               31024\n",
      "Name: brand_name, dtype: int64\n"
     ]
    }
   ],
   "source": [
    "print('Brand_name', m_df['brand_name'].nunique())\n",
    "print('Brand_name', m_df['brand_name'].value_counts()[:5])"
   ]
  },
  {
   "cell_type": "markdown",
   "metadata": {
    "id": "xyyYV5QU8nuZ"
   },
   "source": [
    "category_name과 달리 명확하게 값이 나눠져있음.\n",
    "문자열을 벡터화 시키지 않고\n",
    "one_hot encoding을 사용하여 진행함.\n",
    "- (label_encoding 시 0부터 4819 까지 숫자로 인식, 1+1 = 2 로 인식될 가능성이 있어서 배제함.)\n",
    "- (Logistic regression model 은 4810개 정도는 원핫 가능) "
   ]
  },
  {
   "cell_type": "code",
   "execution_count": 17,
   "metadata": {
    "colab": {
     "base_uri": "https://localhost:8080/",
     "height": 168
    },
    "executionInfo": {
     "elapsed": 3,
     "status": "ok",
     "timestamp": 1631589447312,
     "user": {
      "displayName": "김광훈",
      "photoUrl": "https://lh3.googleusercontent.com/a-/AOh14GiKAYaYrfp28P-9FbTkl1dpV7cXALeCe2tQtsUjyg=s64",
      "userId": "07437956116695752254"
     },
     "user_tz": -540
    },
    "id": "N6kNp9w0-JXQ",
    "outputId": "2e802ebc-08ac-4f94-97d1-5ddbf00f4988"
   },
   "outputs": [
    {
     "data": {
      "text/html": [
       "<div>\n",
       "<style scoped>\n",
       "    .dataframe tbody tr th:only-of-type {\n",
       "        vertical-align: middle;\n",
       "    }\n",
       "\n",
       "    .dataframe tbody tr th {\n",
       "        vertical-align: top;\n",
       "    }\n",
       "\n",
       "    .dataframe thead th {\n",
       "        text-align: right;\n",
       "    }\n",
       "</style>\n",
       "<table border=\"1\" class=\"dataframe\">\n",
       "  <thead>\n",
       "    <tr style=\"text-align: right;\">\n",
       "      <th></th>\n",
       "      <th>train_id</th>\n",
       "      <th>name</th>\n",
       "      <th>item_condition_id</th>\n",
       "      <th>category_name</th>\n",
       "      <th>brand_name</th>\n",
       "      <th>price</th>\n",
       "      <th>shipping</th>\n",
       "      <th>item_description</th>\n",
       "      <th>price_lg</th>\n",
       "      <th>cat_L</th>\n",
       "      <th>cat_m</th>\n",
       "      <th>cat_s</th>\n",
       "    </tr>\n",
       "  </thead>\n",
       "  <tbody>\n",
       "    <tr>\n",
       "      <th>0</th>\n",
       "      <td>0</td>\n",
       "      <td>MLB Cincinnati Reds T Shirt Size XL</td>\n",
       "      <td>3</td>\n",
       "      <td>Men/Tops/T-shirts</td>\n",
       "      <td>Other_null</td>\n",
       "      <td>10.0</td>\n",
       "      <td>1</td>\n",
       "      <td>Other_null</td>\n",
       "      <td>2.397895</td>\n",
       "      <td>Men</td>\n",
       "      <td>Tops</td>\n",
       "      <td>T-shirts</td>\n",
       "    </tr>\n",
       "  </tbody>\n",
       "</table>\n",
       "</div>"
      ],
      "text/plain": [
       "   train_id                                 name  ...  cat_m     cat_s\n",
       "0         0  MLB Cincinnati Reds T Shirt Size XL  ...   Tops  T-shirts\n",
       "\n",
       "[1 rows x 12 columns]"
      ]
     },
     "execution_count": 17,
     "metadata": {},
     "output_type": "execute_result"
    }
   ],
   "source": [
    "m_df.head(1)"
   ]
  },
  {
   "cell_type": "code",
   "execution_count": 18,
   "metadata": {
    "colab": {
     "base_uri": "https://localhost:8080/"
    },
    "executionInfo": {
     "elapsed": 659,
     "status": "ok",
     "timestamp": 1631589447968,
     "user": {
      "displayName": "김광훈",
      "photoUrl": "https://lh3.googleusercontent.com/a-/AOh14GiKAYaYrfp28P-9FbTkl1dpV7cXALeCe2tQtsUjyg=s64",
      "userId": "07437956116695752254"
     },
     "user_tz": -540
    },
    "id": "3JE8sTBN8adY",
    "outputId": "89861bc8-9443-44d6-efe1-0ef12d1ce64b"
   },
   "outputs": [
    {
     "name": "stdout",
     "output_type": "stream",
     "text": [
      "Name 1225273\n",
      "Name 0       MLB Cincinnati Reds T Shirt Size XL\n",
      "1          Razer BlackWidow Chroma Keyboard\n",
      "2                            AVA-VIV Blouse\n",
      "3                     Leather Horse Statues\n",
      "4                      24K GOLD plated rose\n",
      "5          Bundled items requested for Ruie\n",
      "6        Acacia pacific tides santorini top\n",
      "7      Girls cheer and tumbling bundle of 7\n",
      "8                     Girls Nike Pro shorts\n",
      "9    Porcelain clown doll checker pants VTG\n",
      "Name: name, dtype: object\n"
     ]
    }
   ],
   "source": [
    "print('Name', m_df['name'].nunique())\n",
    "print('Name', m_df['name'][:10])\n",
    "\n",
    "# 속성이 매우 많은 관계로 (1225273) 피처 벡터화를 이용"
   ]
  },
  {
   "cell_type": "code",
   "execution_count": 19,
   "metadata": {
    "executionInfo": {
     "elapsed": 2,
     "status": "ok",
     "timestamp": 1631589447968,
     "user": {
      "displayName": "김광훈",
      "photoUrl": "https://lh3.googleusercontent.com/a-/AOh14GiKAYaYrfp28P-9FbTkl1dpV7cXALeCe2tQtsUjyg=s64",
      "userId": "07437956116695752254"
     },
     "user_tz": -540
    },
    "id": "LngcxZih9PaM"
   },
   "outputs": [],
   "source": [
    "# shipping 은 0 / 1 로 분류되어 있음\n",
    "# item_condition_id 는 1,2,3,4,5로 분류. 따라서 원핫인코딩."
   ]
  },
  {
   "cell_type": "code",
   "execution_count": 20,
   "metadata": {
    "colab": {
     "base_uri": "https://localhost:8080/"
    },
    "executionInfo": {
     "elapsed": 1028,
     "status": "ok",
     "timestamp": 1631589448995,
     "user": {
      "displayName": "김광훈",
      "photoUrl": "https://lh3.googleusercontent.com/a-/AOh14GiKAYaYrfp28P-9FbTkl1dpV7cXALeCe2tQtsUjyg=s64",
      "userId": "07437956116695752254"
     },
     "user_tz": -540
    },
    "id": "RS1UchMo-dja",
    "outputId": "56ab3b6e-8380-48c5-d4a8-75f9bbd2ee53"
   },
   "outputs": [
    {
     "name": "stdout",
     "output_type": "stream",
     "text": [
      "i_d 145.26626487738906\n"
     ]
    },
    {
     "data": {
      "text/plain": [
       "0                                           Other_null\n",
       "1    This keyboard is in great condition and works ...\n",
       "Name: item_description, dtype: object"
      ]
     },
     "execution_count": 20,
     "metadata": {},
     "output_type": "execute_result"
    }
   ],
   "source": [
    "print('i_d', m_df['item_description'].str.len().mean())\n",
    "# 평균 문자열 길이 밙환\n",
    "m_df['item_description'][:2]\n",
    "# 약 145.26개. "
   ]
  },
  {
   "cell_type": "markdown",
   "metadata": {
    "id": "5iX4YKZI_Aqn"
   },
   "source": [
    "- 문자열이 145개로 큼. 따라서 Tfidf 로 변환"
   ]
  },
  {
   "cell_type": "code",
   "execution_count": 21,
   "metadata": {
    "executionInfo": {
     "elapsed": 10678,
     "status": "ok",
     "timestamp": 1631589459672,
     "user": {
      "displayName": "김광훈",
      "photoUrl": "https://lh3.googleusercontent.com/a-/AOh14GiKAYaYrfp28P-9FbTkl1dpV7cXALeCe2tQtsUjyg=s64",
      "userId": "07437956116695752254"
     },
     "user_tz": -540
    },
    "id": "dchQ_niy-2Vb"
   },
   "outputs": [],
   "source": [
    "# name\n",
    "CVect = CountVectorizer()\n",
    "V_name = CVect.fit_transform(m_df['name'])"
   ]
  },
  {
   "cell_type": "code",
   "execution_count": 22,
   "metadata": {
    "executionInfo": {
     "elapsed": 226330,
     "status": "ok",
     "timestamp": 1631589685994,
     "user": {
      "displayName": "김광훈",
      "photoUrl": "https://lh3.googleusercontent.com/a-/AOh14GiKAYaYrfp28P-9FbTkl1dpV7cXALeCe2tQtsUjyg=s64",
      "userId": "07437956116695752254"
     },
     "user_tz": -540
    },
    "id": "DncvM5edAAz-"
   },
   "outputs": [],
   "source": [
    "# item_description\n",
    "tfidf = TfidfVectorizer(max_features=50000,\n",
    "                        ngram_range=(1,3), # 트라이 그램\n",
    "                        stop_words='english')\n",
    "V_description = tfidf.fit_transform(m_df['item_description'])"
   ]
  },
  {
   "cell_type": "code",
   "execution_count": 23,
   "metadata": {
    "colab": {
     "base_uri": "https://localhost:8080/"
    },
    "executionInfo": {
     "elapsed": 11,
     "status": "ok",
     "timestamp": 1631589685995,
     "user": {
      "displayName": "김광훈",
      "photoUrl": "https://lh3.googleusercontent.com/a-/AOh14GiKAYaYrfp28P-9FbTkl1dpV7cXALeCe2tQtsUjyg=s64",
      "userId": "07437956116695752254"
     },
     "user_tz": -540
    },
    "id": "fPOnWnjgBGEg",
    "outputId": "9636c73e-143d-4dea-bdea-265c66ae5a2d"
   },
   "outputs": [
    {
     "name": "stdout",
     "output_type": "stream",
     "text": [
      "name (1482535, 105757)\n",
      "description (1482535, 50000)\n"
     ]
    }
   ],
   "source": [
    "print('name', V_name.shape)\n",
    "print('description', V_description.shape)"
   ]
  },
  {
   "cell_type": "markdown",
   "metadata": {
    "id": "QySIOoQeEFhd"
   },
   "source": [
    "벡터 처리된 name 과 description 은 희소 행렬 형태를 띄고 있음.\n",
    "- 하지만 onehotencoding을 그대로 사용하면 맞지 않는다. \n",
    "- 따라서 sklearn에서 제공하는 LabelBinarizer 클래스를 이용하면\n",
    "- df 형태가 아니라 한 컬럼으로 희소행렬(numpy 행렬)을 반환하기 때문에\n",
    "- 형태를 일치시킬 수 있다."
   ]
  },
  {
   "cell_type": "code",
   "execution_count": 24,
   "metadata": {
    "executionInfo": {
     "elapsed": 235293,
     "status": "ok",
     "timestamp": 1631589921280,
     "user": {
      "displayName": "김광훈",
      "photoUrl": "https://lh3.googleusercontent.com/a-/AOh14GiKAYaYrfp28P-9FbTkl1dpV7cXALeCe2tQtsUjyg=s64",
      "userId": "07437956116695752254"
     },
     "user_tz": -540
    },
    "id": "joK0p-BrDCsF"
   },
   "outputs": [],
   "source": [
    "LB = LabelBinarizer(sparse_output= True) # 원핫 인코딩\n",
    "E_brand = LB.fit_transform(m_df['brand_name'])\n",
    "E_item_cd = LB.fit_transform(m_df['item_condition_id'])\n",
    "E_ship = LB.fit_transform(m_df['shipping'])\n",
    "\n",
    "E_cat_L = LB.fit_transform(m_df['cat_L'])\n",
    "E_cat_m = LB.fit_transform(m_df['cat_m'])\n",
    "E_cat_s = LB.fit_transform(m_df['cat_s'])"
   ]
  },
  {
   "cell_type": "code",
   "execution_count": 25,
   "metadata": {
    "colab": {
     "base_uri": "https://localhost:8080/"
    },
    "executionInfo": {
     "elapsed": 12,
     "status": "ok",
     "timestamp": 1631589921281,
     "user": {
      "displayName": "김광훈",
      "photoUrl": "https://lh3.googleusercontent.com/a-/AOh14GiKAYaYrfp28P-9FbTkl1dpV7cXALeCe2tQtsUjyg=s64",
      "userId": "07437956116695752254"
     },
     "user_tz": -540
    },
    "id": "fo47RpOsEl0j",
    "outputId": "b25510a8-8c82-4b5a-a055-297b564d1370"
   },
   "outputs": [
    {
     "name": "stdout",
     "output_type": "stream",
     "text": [
      "<class 'scipy.sparse.csr.csr_matrix'> <class 'scipy.sparse.csr.csr_matrix'> <class 'scipy.sparse.csr.csr_matrix'>\n",
      "E_brand shape：(1482535, 4810), E_item_cd shape：(1482535, 5)\n",
      "E_ship shape：(1482535, 1), E_cat_L shape：(1482535, 11)\n",
      "E_cat_m shape：(1482535, 114), E_cat_s shape：(1482535, 871)\n"
     ]
    }
   ],
   "source": [
    "print(type(E_brand),type(E_item_cd),type(E_ship))\n",
    "print('E_brand shape：{0}, E_item_cd shape：{1}'.format(E_brand.shape, E_item_cd.shape))\n",
    "print('E_ship shape：{0}, E_cat_L shape：{1}'.format(E_ship.shape, E_cat_L.shape))\n",
    "print('E_cat_m shape：{0}, E_cat_s shape：{1}' .format(E_cat_m.shape, E_cat_s.shape))"
   ]
  },
  {
   "cell_type": "markdown",
   "metadata": {
    "id": "vsKXJgMeHjNI"
   },
   "source": [
    "- 희소행령로 벡터화/인코딩 된 컬럼들은 hstack으로 결합함.\n",
    "- hstack은 배열을 옆으로 결합할때 사용됨( scipy 클래스 )\n",
    "  - 배열 행이 일치해야됨\n",
    "- vstack은 배열을 상하로 결합할때 사용됨\n",
    "  - 배열 열이 일치해야됨"
   ]
  },
  {
   "cell_type": "code",
   "execution_count": 26,
   "metadata": {
    "colab": {
     "base_uri": "https://localhost:8080/"
    },
    "executionInfo": {
     "elapsed": 4997,
     "status": "ok",
     "timestamp": 1631589926270,
     "user": {
      "displayName": "김광훈",
      "photoUrl": "https://lh3.googleusercontent.com/a-/AOh14GiKAYaYrfp28P-9FbTkl1dpV7cXALeCe2tQtsUjyg=s64",
      "userId": "07437956116695752254"
     },
     "user_tz": -540
    },
    "id": "f8jaOGSNElvy",
    "outputId": "53c0806a-f3de-4541-8260-9b6a0372ccd7"
   },
   "outputs": [
    {
     "name": "stdout",
     "output_type": "stream",
     "text": [
      "<class 'scipy.sparse.csr.csr_matrix'> (1482535, 161569)\n"
     ]
    },
    {
     "data": {
      "text/plain": [
       "0"
      ]
     },
     "execution_count": 26,
     "metadata": {},
     "output_type": "execute_result"
    }
   ],
   "source": [
    "sml = (V_name, V_description, \n",
    "       E_brand, E_item_cd, E_ship, \n",
    "       E_cat_L, E_cat_m, E_cat_s)\n",
    "\n",
    "feat_sp = hstack(sml).tocsr()  #희소행렬 타입을 csr 행렬로 변경. csr_matrix ; Compressed Spase Row (행압축정보배열)\n",
    "print(type(feat_sp), feat_sp.shape)\n",
    "\n",
    "# 많은 양의 데이터를 사용함. 따라서 바로 삭제.\n",
    "del feat_sp\n",
    "gc.collect()\n",
    "# gc. collect () ; garbage collector . 가비지 수거기 인터페이스 - collect : 인자가 없으면 전체 수거 실행. (메모리관리)\n",
    "# 파이썬에서는 gc.collect() 메소드를 사용, 수동 가비지 콜렉션 프로세스를 추적함."
   ]
  },
  {
   "cell_type": "markdown",
   "metadata": {
    "id": "sdfXINKwJrDk"
   },
   "source": [
    "# 모델 평가"
   ]
  },
  {
   "cell_type": "markdown",
   "metadata": {
    "id": "LMofDcDkK_yw"
   },
   "source": [
    "#### 사용자 함수 설정"
   ]
  },
  {
   "cell_type": "markdown",
   "metadata": {
    "id": "Hk6FX3D2MITk"
   },
   "source": [
    "##### 평가"
   ]
  },
  {
   "cell_type": "code",
   "execution_count": 27,
   "metadata": {
    "executionInfo": {
     "elapsed": 8,
     "status": "ok",
     "timestamp": 1631589926270,
     "user": {
      "displayName": "김광훈",
      "photoUrl": "https://lh3.googleusercontent.com/a-/AOh14GiKAYaYrfp28P-9FbTkl1dpV7cXALeCe2tQtsUjyg=s64",
      "userId": "07437956116695752254"
     },
     "user_tz": -540
    },
    "id": "l6fHOiyHEltY"
   },
   "outputs": [],
   "source": [
    "def rmsle(y_data, y_prediction):\n",
    "  return np.sqrt(np.mean(np.power(np.log1p(y_data) - np.log1p(y_prediction), 2 )))\n",
    "\n",
    "def eval_target(y_test, prediction):\n",
    "  # log -> OG\n",
    "  preds_e = np.expm1(prediction)\n",
    "  y_test_e = np.expm1(y_test)\n",
    "  r_rmsle = rmsle(y_test_e, preds_e)\n",
    "  return r_rmsle"
   ]
  },
  {
   "cell_type": "markdown",
   "metadata": {
    "id": "DzkaAGUWLEym"
   },
   "source": [
    "##### 분리 및 예측함수 설정"
   ]
  },
  {
   "cell_type": "code",
   "execution_count": 28,
   "metadata": {
    "executionInfo": {
     "elapsed": 8,
     "status": "ok",
     "timestamp": 1631589926271,
     "user": {
      "displayName": "김광훈",
      "photoUrl": "https://lh3.googleusercontent.com/a-/AOh14GiKAYaYrfp28P-9FbTkl1dpV7cXALeCe2tQtsUjyg=s64",
      "userId": "07437956116695752254"
     },
     "user_tz": -540
    },
    "id": "NKhQJBpoElq8"
   },
   "outputs": [],
   "source": [
    "def com_prediction(model, matrix):\n",
    "  X = hstack(matrix).tocsr()  # 변환\n",
    "  \n",
    "  X_train, X_test, y_train, y_test = train_test_split(X, m_df['price_lg'], #변화된 타겟 그대로 사용 - 원본 안고침\n",
    "                                                      test_size=0.2, random_state = 156)\n",
    "  model.fit(X_train,y_train)\n",
    "  preds = model.predict(X_test)\n",
    "\n",
    "  del X, X_train, X_test, y_train #메모리관리\n",
    "  gc.collect()\n",
    "\n",
    "  return preds, y_test"
   ]
  },
  {
   "cell_type": "markdown",
   "metadata": {
    "id": "-h454Vg8MOvb"
   },
   "source": [
    "#### Ridge 모델 사용"
   ]
  },
  {
   "cell_type": "code",
   "execution_count": 29,
   "metadata": {
    "executionInfo": {
     "elapsed": 13082,
     "status": "ok",
     "timestamp": 1631589939345,
     "user": {
      "displayName": "김광훈",
      "photoUrl": "https://lh3.googleusercontent.com/a-/AOh14GiKAYaYrfp28P-9FbTkl1dpV7cXALeCe2tQtsUjyg=s64",
      "userId": "07437956116695752254"
     },
     "user_tz": -540
    },
    "id": "Uhf1RuOkEln6"
   },
   "outputs": [],
   "source": [
    "rdg = Ridge(solver='lsqr', fit_intercept=False)\n",
    "sml_nd = (V_name,  \n",
    "       E_brand, E_item_cd, E_ship, \n",
    "       E_cat_L, E_cat_m, E_cat_s)\n",
    "\n",
    "rdg_preds, y_test = com_prediction(rdg, sml_nd)"
   ]
  },
  {
   "cell_type": "code",
   "execution_count": 30,
   "metadata": {
    "colab": {
     "base_uri": "https://localhost:8080/"
    },
    "executionInfo": {
     "elapsed": 12,
     "status": "ok",
     "timestamp": 1631589939345,
     "user": {
      "displayName": "김광훈",
      "photoUrl": "https://lh3.googleusercontent.com/a-/AOh14GiKAYaYrfp28P-9FbTkl1dpV7cXALeCe2tQtsUjyg=s64",
      "userId": "07437956116695752254"
     },
     "user_tz": -540
    },
    "id": "MIk0GrqdElf0",
    "outputId": "d3a73423-7e69-4ee9-eb8f-70a9f5e386dc"
   },
   "outputs": [
    {
     "name": "stdout",
     "output_type": "stream",
     "text": [
      "no description rmsle :  0.5023727038010544\n"
     ]
    }
   ],
   "source": [
    "print('no description rmsle : ' , eval_target(y_test, rdg_preds))"
   ]
  },
  {
   "cell_type": "code",
   "execution_count": 31,
   "metadata": {
    "executionInfo": {
     "elapsed": 36733,
     "status": "ok",
     "timestamp": 1631589976070,
     "user": {
      "displayName": "김광훈",
      "photoUrl": "https://lh3.googleusercontent.com/a-/AOh14GiKAYaYrfp28P-9FbTkl1dpV7cXALeCe2tQtsUjyg=s64",
      "userId": "07437956116695752254"
     },
     "user_tz": -540
    },
    "id": "2uWOMKFkEldi"
   },
   "outputs": [],
   "source": [
    "rdg = Ridge(solver='lsqr', fit_intercept=False)\n",
    "sml = (V_name, V_description, \n",
    "       E_brand, E_item_cd, E_ship, \n",
    "       E_cat_L, E_cat_m, E_cat_s)\n",
    "\n",
    "rdg_preds, y_test = com_prediction(rdg, sml)"
   ]
  },
  {
   "cell_type": "code",
   "execution_count": 32,
   "metadata": {
    "colab": {
     "base_uri": "https://localhost:8080/"
    },
    "executionInfo": {
     "elapsed": 13,
     "status": "ok",
     "timestamp": 1631589976072,
     "user": {
      "displayName": "김광훈",
      "photoUrl": "https://lh3.googleusercontent.com/a-/AOh14GiKAYaYrfp28P-9FbTkl1dpV7cXALeCe2tQtsUjyg=s64",
      "userId": "07437956116695752254"
     },
     "user_tz": -540
    },
    "id": "pY6f4FMwElaa",
    "outputId": "420647d7-ae9f-4dad-f353-c9709ed0cfbc"
   },
   "outputs": [
    {
     "name": "stdout",
     "output_type": "stream",
     "text": [
      "all rmsle :  0.4701547908181521\n"
     ]
    }
   ],
   "source": [
    "print('all rmsle : ' , eval_target(y_test, rdg_preds))"
   ]
  },
  {
   "cell_type": "markdown",
   "metadata": {
    "id": "Q0ij-iwXPUSa"
   },
   "source": [
    "- item description 유/무가 큰 차이를 보임."
   ]
  },
  {
   "cell_type": "markdown",
   "metadata": {
    "id": "44PuBYexPNs3"
   },
   "source": [
    "#### LightGBM 모델 사용"
   ]
  },
  {
   "cell_type": "code",
   "execution_count": 33,
   "metadata": {
    "executionInfo": {
     "elapsed": 1635093,
     "status": "ok",
     "timestamp": 1631591611157,
     "user": {
      "displayName": "김광훈",
      "photoUrl": "https://lh3.googleusercontent.com/a-/AOh14GiKAYaYrfp28P-9FbTkl1dpV7cXALeCe2tQtsUjyg=s64",
      "userId": "07437956116695752254"
     },
     "user_tz": -540
    },
    "id": "vHNBHMQRElX5"
   },
   "outputs": [],
   "source": [
    "sml = (V_name, V_description, \n",
    "       E_brand, E_item_cd, E_ship, \n",
    "       E_cat_L, E_cat_m, E_cat_s)\n",
    "lgbm = LGBMRegressor(n_estimators=200, learning_rate=0.5, num_leaves=125, random_state=156)\n",
    "lgbm_preds, y_test = com_prediction(lgbm, sml)"
   ]
  },
  {
   "cell_type": "code",
   "execution_count": 36,
   "metadata": {
    "colab": {
     "base_uri": "https://localhost:8080/"
    },
    "executionInfo": {
     "elapsed": 281,
     "status": "ok",
     "timestamp": 1631591677868,
     "user": {
      "displayName": "김광훈",
      "photoUrl": "https://lh3.googleusercontent.com/a-/AOh14GiKAYaYrfp28P-9FbTkl1dpV7cXALeCe2tQtsUjyg=s64",
      "userId": "07437956116695752254"
     },
     "user_tz": -540
    },
    "id": "i6MPmk_WElVa",
    "outputId": "1b56b3f8-4e8e-45a5-a82b-12291305500d"
   },
   "outputs": [
    {
     "name": "stdout",
     "output_type": "stream",
     "text": [
      "lgbm_preds rmsle 0.45650956168896195\n"
     ]
    }
   ],
   "source": [
    "print('lgbm_preds rmsle', eval_target(y_test, lgbm_preds))"
   ]
  },
  {
   "cell_type": "markdown",
   "metadata": {
    "id": "bxRvBFc4QDY5"
   },
   "source": [
    "# 최종 결과값"
   ]
  },
  {
   "cell_type": "markdown",
   "metadata": {
    "id": "BqyJq1-FQFwT"
   },
   "source": [
    "최적 결과값을 도출하기 위해 LGBM 과 RIDGE의 비율을 임의로 지정하여 도출."
   ]
  },
  {
   "cell_type": "code",
   "execution_count": 39,
   "metadata": {
    "colab": {
     "base_uri": "https://localhost:8080/"
    },
    "executionInfo": {
     "elapsed": 361,
     "status": "ok",
     "timestamp": 1631591699301,
     "user": {
      "displayName": "김광훈",
      "photoUrl": "https://lh3.googleusercontent.com/a-/AOh14GiKAYaYrfp28P-9FbTkl1dpV7cXALeCe2tQtsUjyg=s64",
      "userId": "07437956116695752254"
     },
     "user_tz": -540
    },
    "id": "IjJUQ913ElTB",
    "outputId": "be2d19cd-2882-4b32-90ac-786761c7322e"
   },
   "outputs": [
    {
     "name": "stdout",
     "output_type": "stream",
     "text": [
      "Final 0.44952460680431533\n"
     ]
    }
   ],
   "source": [
    "prediction = lgbm_preds * 0.45 + rdg_preds * 0.55\n",
    "print('Final', eval_target(y_test, prediction))"
   ]
  },
  {
   "cell_type": "code",
   "execution_count": 40,
   "metadata": {
    "colab": {
     "base_uri": "https://localhost:8080/"
    },
    "executionInfo": {
     "elapsed": 264,
     "status": "ok",
     "timestamp": 1631591706948,
     "user": {
      "displayName": "김광훈",
      "photoUrl": "https://lh3.googleusercontent.com/a-/AOh14GiKAYaYrfp28P-9FbTkl1dpV7cXALeCe2tQtsUjyg=s64",
      "userId": "07437956116695752254"
     },
     "user_tz": -540
    },
    "id": "IWngrHYQElRJ",
    "outputId": "f2b5efc4-155c-40d5-e449-d87bdbe47a62"
   },
   "outputs": [
    {
     "name": "stdout",
     "output_type": "stream",
     "text": [
      "Final 0.4481159642112691\n"
     ]
    }
   ],
   "source": [
    "prediction = lgbm_preds * 0.55 + rdg_preds * 0.45\n",
    "print('Final', eval_target(y_test, prediction))"
   ]
  },
  {
   "cell_type": "code",
   "execution_count": 41,
   "metadata": {
    "colab": {
     "base_uri": "https://localhost:8080/"
    },
    "executionInfo": {
     "elapsed": 266,
     "status": "ok",
     "timestamp": 1631591723752,
     "user": {
      "displayName": "김광훈",
      "photoUrl": "https://lh3.googleusercontent.com/a-/AOh14GiKAYaYrfp28P-9FbTkl1dpV7cXALeCe2tQtsUjyg=s64",
      "userId": "07437956116695752254"
     },
     "user_tz": -540
    },
    "id": "KRCv87-UElOK",
    "outputId": "bbe402b7-a33f-4ea9-af87-a2281d934b83"
   },
   "outputs": [
    {
     "name": "stdout",
     "output_type": "stream",
     "text": [
      "Final 0.44790271842703255\n"
     ]
    }
   ],
   "source": [
    "prediction = lgbm_preds * 0.65 + rdg_preds * 0.35\n",
    "print('Final', eval_target(y_test, prediction))"
   ]
  },
  {
   "cell_type": "code",
   "execution_count": 42,
   "metadata": {
    "colab": {
     "base_uri": "https://localhost:8080/"
    },
    "executionInfo": {
     "elapsed": 295,
     "status": "ok",
     "timestamp": 1631591734905,
     "user": {
      "displayName": "김광훈",
      "photoUrl": "https://lh3.googleusercontent.com/a-/AOh14GiKAYaYrfp28P-9FbTkl1dpV7cXALeCe2tQtsUjyg=s64",
      "userId": "07437956116695752254"
     },
     "user_tz": -540
    },
    "id": "_Bf_2Zy9ElL0",
    "outputId": "9da35eb6-db39-4815-ed90-afe0a0da0e33"
   },
   "outputs": [
    {
     "name": "stdout",
     "output_type": "stream",
     "text": [
      "Final 0.4486713406658857\n"
     ]
    }
   ],
   "source": [
    "prediction = lgbm_preds * 0.50 + rdg_preds * 0.50\n",
    "print('Final', eval_target(y_test, prediction))"
   ]
  },
  {
   "cell_type": "code",
   "execution_count": 43,
   "metadata": {
    "colab": {
     "base_uri": "https://localhost:8080/"
    },
    "executionInfo": {
     "elapsed": 260,
     "status": "ok",
     "timestamp": 1631598471931,
     "user": {
      "displayName": "김광훈",
      "photoUrl": "https://lh3.googleusercontent.com/a-/AOh14GiKAYaYrfp28P-9FbTkl1dpV7cXALeCe2tQtsUjyg=s64",
      "userId": "07437956116695752254"
     },
     "user_tz": -540
    },
    "id": "31Itk6EEElI7",
    "outputId": "c7884a8c-9dba-46a6-ec9e-2b3c7a07acfb"
   },
   "outputs": [
    {
     "data": {
      "text/plain": [
       "1153590    3.401197\n",
       "415884     2.708050\n",
       "863982     2.079442\n",
       "766390     1.386294\n",
       "1300185    2.484907\n",
       "             ...   \n",
       "1391089    2.484907\n",
       "1209308    4.077537\n",
       "508599     3.218876\n",
       "825361     2.995732\n",
       "77         2.995732\n",
       "Name: price_lg, Length: 296507, dtype: float64"
      ]
     },
     "execution_count": 43,
     "metadata": {},
     "output_type": "execute_result"
    }
   ],
   "source": []
  },
  {
   "cell_type": "code",
   "execution_count": null,
   "metadata": {
    "executionInfo": {
     "elapsed": 432,
     "status": "aborted",
     "timestamp": 1631591611585,
     "user": {
      "displayName": "김광훈",
      "photoUrl": "https://lh3.googleusercontent.com/a-/AOh14GiKAYaYrfp28P-9FbTkl1dpV7cXALeCe2tQtsUjyg=s64",
      "userId": "07437956116695752254"
     },
     "user_tz": -540
    },
    "id": "v67858faElFz"
   },
   "outputs": [],
   "source": []
  }
 ],
 "metadata": {
  "colab": {
   "authorship_tag": "ABX9TyObuVqnL5teT3viEMhNPfhM",
   "collapsed_sections": [],
   "name": "Untitled2.ipynb",
   "provenance": []
  },
  "kernelspec": {
   "display_name": "Python 3",
   "language": "python",
   "name": "python3"
  },
  "language_info": {
   "codemirror_mode": {
    "name": "ipython",
    "version": 3
   },
   "file_extension": ".py",
   "mimetype": "text/x-python",
   "name": "python",
   "nbconvert_exporter": "python",
   "pygments_lexer": "ipython3",
   "version": "3.8.8"
  }
 },
 "nbformat": 4,
 "nbformat_minor": 1
}

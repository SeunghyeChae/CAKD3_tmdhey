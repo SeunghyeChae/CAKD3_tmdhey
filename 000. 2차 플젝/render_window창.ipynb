{
 "cells": [
  {
   "cell_type": "code",
   "execution_count": 173,
   "id": "f3fbfed7",
   "metadata": {},
   "outputs": [],
   "source": [
    "# import cv2\n",
    "# import numpy as np\n",
    "\n",
    "# img1 = cv2.imread('render.jpg')\n",
    "# img1=cv2.resize(img1, dsize=(450, 600))\n",
    "\n",
    "# img2 = np.full((600, 450, 3), 255, np.uint8)"
   ]
  },
  {
   "cell_type": "code",
   "execution_count": 175,
   "id": "f0f14976",
   "metadata": {},
   "outputs": [],
   "source": [
    "def bone_age_window(img, gender,predicted_bone_age ):\n",
    "    img1= img.copy\n",
    "    img1=cv2.resize(img1, dsize=(450, 600))\n",
    "    img2 = np.full((600, 450, 3), 255, np.uint8)\n",
    "    \n",
    "    cv2.putText(img2,\n",
    "        \"Gender={}\".format(gender),\n",
    "        (140,100),\n",
    "        cv2.FONT_HERSHEY_SIMPLEX,\n",
    "        0.6, (0,0,0))\n",
    "\n",
    "    cv2.rectangle(img2, \n",
    "                (70,120),\n",
    "                (380,230),\n",
    "                (100,100,100),\n",
    "                thickness=1, \n",
    "                lineType=cv2.LINE_AA) \n",
    "\n",
    "    cv2.putText(img2,\n",
    "        \"Predicted Bone Age\",\n",
    "        (100,150),\n",
    "        cv2.FONT_HERSHEY_SIMPLEX,\n",
    "        0.8, (0,0,0))\n",
    "\n",
    "    cv2.putText(img2,\n",
    "        \"(MAE: 4.6)\",\n",
    "        (180,215),\n",
    "        cv2.FONT_HERSHEY_SIMPLEX,\n",
    "        0.6, (0,0,0))\n",
    "\n",
    "    cv2.putText(img2,\n",
    "        \"{}\".format(predicted_bone_age),\n",
    "        (180,195),\n",
    "        cv2.FONT_HERSHEY_SIMPLEX,\n",
    "        1.3, (255,0,0))\n",
    "\n",
    "    predict_result = np.concatenate((img1,img2),axis=1)\n",
    "    cv2.imshow('bone_age',predict_result)\n",
    "    cv2.waitKey()"
   ]
  }
 ],
 "metadata": {
  "kernelspec": {
   "display_name": "Python 3",
   "language": "python",
   "name": "python3"
  },
  "language_info": {
   "codemirror_mode": {
    "name": "ipython",
    "version": 3
   },
   "file_extension": ".py",
   "mimetype": "text/x-python",
   "name": "python",
   "nbconvert_exporter": "python",
   "pygments_lexer": "ipython3",
   "version": "3.8.8"
  }
 },
 "nbformat": 4,
 "nbformat_minor": 5
}

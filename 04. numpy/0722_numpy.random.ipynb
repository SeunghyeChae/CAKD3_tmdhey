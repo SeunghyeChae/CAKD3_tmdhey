{
 "cells": [
  {
   "cell_type": "code",
   "execution_count": 257,
   "id": "17c56170",
   "metadata": {},
   "outputs": [
    {
     "name": "stdout",
     "output_type": "stream",
     "text": [
      "0.4957165797921629\n",
      "6\n",
      "11.037235124044267\n",
      "9\n",
      "4\n",
      "[4, 5, 3]\n",
      "[3, 4, 1, 5, 2]\n"
     ]
    }
   ],
   "source": [
    "# 파이썬 random함수 \n",
    "\n",
    "import random\n",
    "\n",
    "print(random.random()) #0과 1 사이의 실수 뽑아줌\n",
    "\n",
    "print (random.randint(1,10)) #0~10 사이의 정수\n",
    "\n",
    "print(random.uniform(10,20)) # 실수 뽑아줌\n",
    "\n",
    "print(random.randrange(10))  # 0~9 지정범위에서 int값 \n",
    "\n",
    "print(random.choice([1,2,3,4,5])) # 랜덤으로 뽑아주기\n",
    "\n",
    "li= [1,2,3,4,5]\n",
    "print(random.sample(li,3))  # 리스트 요소를 중복없이 뽑아주는것.. \n",
    "\n",
    "random.shuffle(li)   # 랜덤으로 섞어주기\n",
    "print(li)"
   ]
  },
  {
   "cell_type": "code",
   "execution_count": 260,
   "id": "a1ba065f",
   "metadata": {},
   "outputs": [],
   "source": [
    "# 넘파이의 np.random\n",
    "# rand : 0.0~1.0 사이의 균일 분포 (실수)\n",
    "# randn : 가우시안 표준 정규 분포\n",
    "# randint : 균일 분포의 정수 난수\n"
   ]
  },
  {
   "cell_type": "code",
   "execution_count": 268,
   "id": "d228a310",
   "metadata": {},
   "outputs": [
    {
     "data": {
      "text/plain": [
       "array([[0.64589411, 0.43758721],\n",
       "       [0.891773  , 0.96366276],\n",
       "       [0.38344152, 0.79172504]])"
      ]
     },
     "execution_count": 268,
     "metadata": {},
     "output_type": "execute_result"
    }
   ],
   "source": [
    "# rand : 0.0~1.0 사이의 균일 분포 (실수)\n",
    "\n",
    "import numpy as np\n",
    "\n",
    "np.random.seed(0)\n",
    "\n",
    "np.random.rand(5) #실수 5개 랜덤!\n",
    "\n",
    "np.random.rand(3,2) #3행 2열 실수 랜덤! "
   ]
  },
  {
   "cell_type": "code",
   "execution_count": 267,
   "id": "e25145b9",
   "metadata": {},
   "outputs": [
    {
     "data": {
      "text/plain": [
       "array([2, 0, 3, 5, 9, 4, 4, 6, 4, 4])"
      ]
     },
     "execution_count": 267,
     "metadata": {},
     "output_type": "execute_result"
    }
   ],
   "source": [
    "# randint - 0~4까지 에서 정수 난수\n",
    "np.random.randint(5)\n",
    "np.random.randint(1,20)\n",
    "np.random.randint(10,size=10) # 중복 가능 \n"
   ]
  },
  {
   "cell_type": "code",
   "execution_count": 266,
   "id": "6e33c3af",
   "metadata": {},
   "outputs": [
    {
     "data": {
      "text/plain": [
       "array([[15, 15, 16, 18, 14],\n",
       "       [11, 14, 19, 18, 11],\n",
       "       [11, 17, 19, 19, 13]])"
      ]
     },
     "execution_count": 266,
     "metadata": {},
     "output_type": "execute_result"
    }
   ],
   "source": [
    "# array도 만들 수 있엉 \n",
    "np.random.randint(10,20,size=(3,5)) "
   ]
  },
  {
   "cell_type": "code",
   "execution_count": 272,
   "id": "e9e85a18",
   "metadata": {},
   "outputs": [
    {
     "data": {
      "text/plain": [
       "array([0, 1, 1, 1, 0])"
      ]
     },
     "execution_count": 272,
     "metadata": {},
     "output_type": "execute_result"
    }
   ],
   "source": [
    "np.random.choice([1,2,3,4,5])\n",
    "np.random.choice(5,5, replace=False)  # 중복 안됨 (비복원추출)\n",
    "np.random.choice(5,5) # 중복 됨 ! (복원추출)"
   ]
  },
  {
   "cell_type": "code",
   "execution_count": 274,
   "id": "8bc716b0",
   "metadata": {},
   "outputs": [
    {
     "data": {
      "text/plain": [
       "[1, 4, 0, 3, 2]"
      ]
     },
     "execution_count": 274,
     "metadata": {},
     "output_type": "execute_result"
    }
   ],
   "source": [
    "list= [0,1,2,3,4]\n",
    "np.random.shuffle(list)\n",
    "# np.random.choice(5,5, replace=False) \n",
    "list"
   ]
  },
  {
   "cell_type": "code",
   "execution_count": 276,
   "id": "fa52a5e9",
   "metadata": {},
   "outputs": [
    {
     "data": {
      "text/plain": [
       "array([[ 0.61495732,  1.42966077],\n",
       "       [-0.21195226, -0.08033726],\n",
       "       [ 0.40539778,  0.11860659]])"
      ]
     },
     "execution_count": 276,
     "metadata": {},
     "output_type": "execute_result"
    }
   ],
   "source": [
    "np.random.randn(6) # 표준정규분포에서 난수 n개 뽑아주기 \n",
    "np.random.randn(3,2) # 3행2열로 뽑아주기"
   ]
  },
  {
   "cell_type": "code",
   "execution_count": 281,
   "id": "f67f9508",
   "metadata": {},
   "outputs": [
    {
     "data": {
      "text/plain": [
       "array([[0.91823547, 0.21682214, 0.56518887],\n",
       "       [0.86510256, 0.50896896, 0.91672295]])"
      ]
     },
     "execution_count": 281,
     "metadata": {},
     "output_type": "execute_result"
    }
   ],
   "source": [
    "# 범위 내 n개 실수 출력\n",
    "np.random.uniform(1.0,2.0,3) # 1.0~2.0 중 3개 실수 뽑아줌\n",
    "np.random.uniform(0,1,(2,3))"
   ]
  },
  {
   "cell_type": "code",
   "execution_count": 278,
   "id": "1346976a",
   "metadata": {},
   "outputs": [
    {
     "data": {
      "text/plain": [
       "array([[0.58185033, 0.41436859, 0.4746975 ],\n",
       "       [0.6235101 , 0.33800761, 0.67475232]])"
      ]
     },
     "execution_count": 278,
     "metadata": {},
     "output_type": "execute_result"
    }
   ],
   "source": [
    "# 0~1사이의 실수 n개 또는 행렬로 뽑아주기 \n",
    "# random_sample은 uniform 하수의 최소,최대값을 각각0,1로 \n",
    "#지정한 것과 같음 \n",
    "np.random.random_sample((2,3)) \n",
    "# np.random.uniform(0,1,(2,3))"
   ]
  },
  {
   "cell_type": "code",
   "execution_count": null,
   "id": "28435637",
   "metadata": {},
   "outputs": [],
   "source": []
  }
 ],
 "metadata": {
  "kernelspec": {
   "display_name": "Python 3",
   "language": "python",
   "name": "python3"
  },
  "language_info": {
   "codemirror_mode": {
    "name": "ipython",
    "version": 3
   },
   "file_extension": ".py",
   "mimetype": "text/x-python",
   "name": "python",
   "nbconvert_exporter": "python",
   "pygments_lexer": "ipython3",
   "version": "3.8.10"
  }
 },
 "nbformat": 4,
 "nbformat_minor": 5
}
